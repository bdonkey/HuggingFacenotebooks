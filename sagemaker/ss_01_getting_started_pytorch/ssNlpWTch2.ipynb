{
 "cells": [
  {
   "cell_type": "markdown",
   "metadata": {},
   "source": [
    "# Huggingface Sagemaker-sdk - Getting Started Demo\n",
    "### Binary Classification with `Trainer` and `imdb` dataset"
   ]
  },
  {
   "cell_type": "markdown",
   "metadata": {},
   "source": [
    "1. [Introduction](#Introduction)  \n",
    "2. [Development Environment and Permissions](#Development-Environment-and-Permissions)\n",
    "    1. [Installation](#Installation)  \n",
    "    2. [Development environment](#Development-environment)  \n",
    "    3. [Permissions](#Permissions)\n",
    "3. [Processing](#Preprocessing)   \n",
    "    1. [Tokenization](#Tokenization)  \n",
    "    2. [Uploading data to sagemaker_session_bucket](#Uploading-data-to-sagemaker_session_bucket)  \n",
    "4. [Fine-tuning & starting Sagemaker Training Job](#Fine-tuning-\\&-starting-Sagemaker-Training-Job)  \n",
    "    1. [Creating an Estimator and start a training job](#Creating-an-Estimator-and-start-a-training-job)  \n",
    "    2. [Estimator Parameters](#Estimator-Parameters)   \n",
    "    3. [Download fine-tuned model from s3](#Download-fine-tuned-model-from-s3)\n",
    "    3. [Attach to old training job to an estimator ](#Attach-to-old-training-job-to-an-estimator)  \n",
    "5. [_Coming soon_:Push model to the Hugging Face hub](#Push-model-to-the-Hugging-Face-hub)"
   ]
  },
  {
   "cell_type": "markdown",
   "metadata": {},
   "source": [
    "# Development Environment and Permissions "
   ]
  },
  {
   "cell_type": "markdown",
   "metadata": {},
   "source": [
    "## Installation\n",
    "\n",
    "_*Note:* we only install the required libraries from Hugging Face and AWS. You also need PyTorch or Tensorflow, if you haven´t it installed_"
   ]
  },
  {
   "cell_type": "code",
   "execution_count": 2,
   "metadata": {},
   "outputs": [
    {
     "name": "stdout",
     "output_type": "stream",
     "text": [
      "Requirement already satisfied: sagemaker>=2.48.0 in /opt/conda/lib/python3.6/site-packages (2.72.0)\n",
      "Collecting sagemaker>=2.48.0\n",
      "  Downloading sagemaker-2.77.1.tar.gz (513 kB)\n",
      "     |████████████████████████████████| 513 kB 30.9 MB/s            \n",
      "\u001b[?25h  Preparing metadata (setup.py) ... \u001b[?25ldone\n",
      "\u001b[?25hCollecting transformers==4.6.1\n",
      "  Using cached transformers-4.6.1-py3-none-any.whl (2.2 MB)\n",
      "Collecting datasets[s3]==1.6.2\n",
      "  Using cached datasets-1.6.2-py3-none-any.whl (221 kB)\n",
      "Requirement already satisfied: importlib-metadata in /opt/conda/lib/python3.6/site-packages (from transformers==4.6.1) (4.8.3)\n",
      "Requirement already satisfied: dataclasses in /opt/conda/lib/python3.6/site-packages (from transformers==4.6.1) (0.8)\n",
      "Requirement already satisfied: packaging in /opt/conda/lib/python3.6/site-packages (from transformers==4.6.1) (21.3)\n",
      "Requirement already satisfied: filelock in /opt/conda/lib/python3.6/site-packages (from transformers==4.6.1) (3.4.0)\n",
      "Collecting regex!=2019.12.17\n",
      "  Using cached regex-2022.1.18-cp36-cp36m-manylinux_2_17_x86_64.manylinux2014_x86_64.whl (748 kB)\n",
      "Collecting tokenizers<0.11,>=0.10.1\n",
      "  Using cached tokenizers-0.10.3-cp36-cp36m-manylinux_2_5_x86_64.manylinux1_x86_64.manylinux_2_12_x86_64.manylinux2010_x86_64.whl (3.3 MB)\n",
      "Requirement already satisfied: tqdm>=4.27 in /opt/conda/lib/python3.6/site-packages (from transformers==4.6.1) (4.61.2)\n",
      "Collecting sacremoses\n",
      "  Using cached sacremoses-0.0.47-py2.py3-none-any.whl (895 kB)\n",
      "Collecting huggingface-hub==0.0.8\n",
      "  Using cached huggingface_hub-0.0.8-py3-none-any.whl (34 kB)\n",
      "Requirement already satisfied: numpy>=1.17 in /opt/conda/lib/python3.6/site-packages (from transformers==4.6.1) (1.19.1)\n",
      "Requirement already satisfied: requests in /opt/conda/lib/python3.6/site-packages (from transformers==4.6.1) (2.26.0)\n",
      "Collecting tqdm>=4.27\n",
      "  Using cached tqdm-4.49.0-py2.py3-none-any.whl (69 kB)\n",
      "Collecting xxhash\n",
      "  Downloading xxhash-3.0.0-cp36-cp36m-manylinux_2_17_x86_64.manylinux2014_x86_64.whl (211 kB)\n",
      "     |████████████████████████████████| 211 kB 79.1 MB/s            \n",
      "\u001b[?25hRequirement already satisfied: pyarrow>=1.0.0<4.0.0 in /opt/conda/lib/python3.6/site-packages (from datasets[s3]==1.6.2) (6.0.1)\n",
      "Requirement already satisfied: fsspec in /opt/conda/lib/python3.6/site-packages (from datasets[s3]==1.6.2) (2021.7.0)\n",
      "Requirement already satisfied: multiprocess in /opt/conda/lib/python3.6/site-packages (from datasets[s3]==1.6.2) (0.70.12.2)\n",
      "Requirement already satisfied: pandas in /opt/conda/lib/python3.6/site-packages (from datasets[s3]==1.6.2) (1.1.5)\n",
      "Requirement already satisfied: dill in /opt/conda/lib/python3.6/site-packages (from datasets[s3]==1.6.2) (0.3.4)\n",
      "Collecting botocore==1.19.52\n",
      "  Using cached botocore-1.19.52-py2.py3-none-any.whl (7.2 MB)\n",
      "Collecting boto3==1.16.43\n",
      "  Using cached boto3-1.16.43-py2.py3-none-any.whl (130 kB)\n",
      "Requirement already satisfied: s3fs in /opt/conda/lib/python3.6/site-packages (from datasets[s3]==1.6.2) (2021.7.0)\n",
      "Collecting s3transfer<0.4.0,>=0.3.0\n",
      "  Using cached s3transfer-0.3.7-py2.py3-none-any.whl (73 kB)\n",
      "Requirement already satisfied: jmespath<1.0.0,>=0.7.1 in /opt/conda/lib/python3.6/site-packages (from boto3==1.16.43->datasets[s3]==1.6.2) (0.10.0)\n",
      "Requirement already satisfied: urllib3<1.27,>=1.25.4 in /opt/conda/lib/python3.6/site-packages (from botocore==1.19.52->datasets[s3]==1.6.2) (1.26.6)\n",
      "Requirement already satisfied: python-dateutil<3.0.0,>=2.1 in /opt/conda/lib/python3.6/site-packages (from botocore==1.19.52->datasets[s3]==1.6.2) (2.8.2)\n",
      "Collecting attrs==20.3.0\n",
      "  Using cached attrs-20.3.0-py2.py3-none-any.whl (49 kB)\n",
      "Collecting sagemaker>=2.48.0\n",
      "  Using cached sagemaker-2.77.0.tar.gz (513 kB)\n",
      "  Preparing metadata (setup.py) ... \u001b[?25ldone\n",
      "\u001b[?25h  Using cached sagemaker-2.76.0.tar.gz (512 kB)\n",
      "  Preparing metadata (setup.py) ... \u001b[?25ldone\n",
      "\u001b[?25h  Using cached sagemaker-2.75.1.tar.gz (511 kB)\n",
      "  Preparing metadata (setup.py) ... \u001b[?25ldone\n",
      "\u001b[?25hRequirement already satisfied: attrs in /opt/conda/lib/python3.6/site-packages (from sagemaker>=2.48.0) (21.2.0)\n",
      "  Using cached sagemaker-2.75.0.tar.gz (511 kB)\n",
      "  Preparing metadata (setup.py) ... \u001b[?25ldone\n",
      "\u001b[?25h  Using cached sagemaker-2.74.0.tar.gz (481 kB)\n",
      "  Preparing metadata (setup.py) ... \u001b[?25ldone\n",
      "\u001b[?25h  Using cached sagemaker-2.73.0.tar.gz (481 kB)\n",
      "  Preparing metadata (setup.py) ... \u001b[?25ldone\n",
      "\u001b[?25h  Using cached sagemaker-2.72.3.tar.gz (475 kB)\n",
      "  Preparing metadata (setup.py) ... \u001b[?25ldone\n",
      "\u001b[?25h  Using cached sagemaker-2.72.2.tar.gz (473 kB)\n",
      "  Preparing metadata (setup.py) ... \u001b[?25ldone\n",
      "\u001b[?25h  Using cached sagemaker-2.72.1.tar.gz (473 kB)\n",
      "  Preparing metadata (setup.py) ... \u001b[?25ldone\n",
      "\u001b[?25hRequirement already satisfied: pathos in /opt/conda/lib/python3.6/site-packages (from sagemaker>=2.48.0) (0.2.8)\n",
      "Requirement already satisfied: protobuf>=3.1 in /opt/conda/lib/python3.6/site-packages (from sagemaker>=2.48.0) (3.19.1)\n",
      "  Using cached sagemaker-2.72.0.tar.gz (477 kB)\n",
      "  Preparing metadata (setup.py) ... \u001b[?25ldone\n",
      "\u001b[?25h  Using cached sagemaker-2.71.0.tar.gz (477 kB)\n",
      "  Preparing metadata (setup.py) ... \u001b[?25ldone\n",
      "\u001b[?25h  Using cached sagemaker-2.70.0.tar.gz (466 kB)\n",
      "  Preparing metadata (setup.py) ... \u001b[?25ldone\n",
      "\u001b[?25h  Using cached sagemaker-2.69.0-py2.py3-none-any.whl\n",
      "Requirement already satisfied: google-pasta in /opt/conda/lib/python3.6/site-packages (from sagemaker>=2.48.0) (0.2.0)\n",
      "Requirement already satisfied: protobuf3-to-dict>=0.1.5 in /opt/conda/lib/python3.6/site-packages (from sagemaker>=2.48.0) (0.1.5)\n",
      "Requirement already satisfied: smdebug-rulesconfig==1.0.1 in /opt/conda/lib/python3.6/site-packages (from sagemaker>=2.48.0) (1.0.1)\n",
      "Requirement already satisfied: zipp>=0.5 in /opt/conda/lib/python3.6/site-packages (from importlib-metadata->transformers==4.6.1) (3.6.0)\n",
      "Requirement already satisfied: typing-extensions>=3.6.4 in /opt/conda/lib/python3.6/site-packages (from importlib-metadata->transformers==4.6.1) (3.10.0.2)\n",
      "Requirement already satisfied: pyparsing!=3.0.5,>=2.0.2 in /opt/conda/lib/python3.6/site-packages (from packaging->transformers==4.6.1) (3.0.6)\n",
      "Requirement already satisfied: six in /opt/conda/lib/python3.6/site-packages (from protobuf3-to-dict>=0.1.5->sagemaker>=2.48.0) (1.16.0)\n",
      "Requirement already satisfied: certifi>=2017.4.17 in /opt/conda/lib/python3.6/site-packages (from requests->transformers==4.6.1) (2021.5.30)\n",
      "Requirement already satisfied: charset-normalizer~=2.0.0 in /opt/conda/lib/python3.6/site-packages (from requests->transformers==4.6.1) (2.0.4)\n",
      "Requirement already satisfied: idna<4,>=2.5 in /opt/conda/lib/python3.6/site-packages (from requests->transformers==4.6.1) (2.10)\n",
      "Requirement already satisfied: pytz>=2017.2 in /opt/conda/lib/python3.6/site-packages (from pandas->datasets[s3]==1.6.2) (2021.3)\n",
      "Requirement already satisfied: pox>=0.3.0 in /opt/conda/lib/python3.6/site-packages (from pathos->sagemaker>=2.48.0) (0.3.0)\n",
      "Requirement already satisfied: ppft>=1.6.6.4 in /opt/conda/lib/python3.6/site-packages (from pathos->sagemaker>=2.48.0) (1.6.6.4)\n",
      "Requirement already satisfied: aiobotocore>=1.0.1 in /opt/conda/lib/python3.6/site-packages (from s3fs->datasets[s3]==1.6.2) (2.1.0)\n",
      "Requirement already satisfied: click in /opt/conda/lib/python3.6/site-packages (from sacremoses->transformers==4.6.1) (8.0.3)\n",
      "Requirement already satisfied: joblib in /opt/conda/lib/python3.6/site-packages (from sacremoses->transformers==4.6.1) (1.0.1)\n",
      "Collecting aiobotocore>=1.0.1\n",
      "  Downloading aiobotocore-2.1.1.tar.gz (57 kB)\n",
      "     |████████████████████████████████| 57 kB 811 kB/s             \n",
      "\u001b[?25h  Preparing metadata (setup.py) ... \u001b[?25ldone\n",
      "\u001b[?25h  Downloading aiobotocore-2.0.1.tar.gz (54 kB)\n",
      "     |████████████████████████████████| 54 kB 471 kB/s             \n",
      "\u001b[?25h  Preparing metadata (setup.py) ... \u001b[?25ldone\n",
      "\u001b[?25h  Downloading aiobotocore-2.0.0.tar.gz (52 kB)\n",
      "     |████████████████████████████████| 52 kB 235 kB/s             \n",
      "\u001b[?25h  Preparing metadata (setup.py) ... \u001b[?25ldone\n",
      "\u001b[?25h  Downloading aiobotocore-1.4.2.tar.gz (52 kB)\n",
      "     |████████████████████████████████| 52 kB 201 kB/s             \n",
      "\u001b[?25h  Preparing metadata (setup.py) ... \u001b[?25ldone\n",
      "\u001b[?25h  Downloading aiobotocore-1.4.1.tar.gz (52 kB)\n",
      "     |████████████████████████████████| 52 kB 163 kB/s             \n",
      "\u001b[?25h  Preparing metadata (setup.py) ... \u001b[?25ldone\n",
      "\u001b[?25h  Downloading aiobotocore-1.4.0.tar.gz (51 kB)\n",
      "     |████████████████████████████████| 51 kB 68 kB/s              \n",
      "\u001b[?25h  Preparing metadata (setup.py) ... \u001b[?25ldone\n",
      "\u001b[?25h  Downloading aiobotocore-1.3.3.tar.gz (50 kB)\n",
      "     |████████████████████████████████| 50 kB 1.0 MB/s             \n",
      "\u001b[?25h  Preparing metadata (setup.py) ... \u001b[?25ldone\n",
      "\u001b[?25h  Downloading aiobotocore-1.3.2.tar.gz (49 kB)\n",
      "     |████████████████████████████████| 49 kB 1.2 MB/s             \n",
      "\u001b[?25h  Preparing metadata (setup.py) ... \u001b[?25ldone\n",
      "\u001b[?25h  Downloading aiobotocore-1.3.1.tar.gz (48 kB)\n",
      "     |████████████████████████████████| 48 kB 891 kB/s             \n",
      "\u001b[?25h  Preparing metadata (setup.py) ... \u001b[?25ldone\n",
      "\u001b[?25h  Downloading aiobotocore-1.3.0.tar.gz (48 kB)\n",
      "     |████████████████████████████████| 48 kB 820 kB/s             \n",
      "\u001b[?25h  Preparing metadata (setup.py) ... \u001b[?25ldone\n",
      "\u001b[?25h  Downloading aiobotocore-1.2.2.tar.gz (48 kB)\n",
      "     |████████████████████████████████| 48 kB 923 kB/s             \n",
      "\u001b[?25h  Preparing metadata (setup.py) ... \u001b[?25ldone\n",
      "\u001b[?25hRequirement already satisfied: aiohttp>=3.3.1 in /opt/conda/lib/python3.6/site-packages (from aiobotocore>=1.0.1->s3fs->datasets[s3]==1.6.2) (3.8.1)\n",
      "Requirement already satisfied: wrapt>=1.10.10 in /opt/conda/lib/python3.6/site-packages (from aiobotocore>=1.0.1->s3fs->datasets[s3]==1.6.2) (1.13.3)\n",
      "Requirement already satisfied: aioitertools>=0.5.1 in /opt/conda/lib/python3.6/site-packages (from aiobotocore>=1.0.1->s3fs->datasets[s3]==1.6.2) (0.8.0)\n",
      "Requirement already satisfied: yarl<2.0,>=1.0 in /opt/conda/lib/python3.6/site-packages (from aiohttp>=3.3.1->aiobotocore>=1.0.1->s3fs->datasets[s3]==1.6.2) (1.7.2)\n",
      "Requirement already satisfied: async-timeout<5.0,>=4.0.0a3 in /opt/conda/lib/python3.6/site-packages (from aiohttp>=3.3.1->aiobotocore>=1.0.1->s3fs->datasets[s3]==1.6.2) (4.0.1)\n",
      "Requirement already satisfied: aiosignal>=1.1.2 in /opt/conda/lib/python3.6/site-packages (from aiohttp>=3.3.1->aiobotocore>=1.0.1->s3fs->datasets[s3]==1.6.2) (1.2.0)\n",
      "Requirement already satisfied: idna-ssl>=1.0 in /opt/conda/lib/python3.6/site-packages (from aiohttp>=3.3.1->aiobotocore>=1.0.1->s3fs->datasets[s3]==1.6.2) (1.1.0)\n",
      "Requirement already satisfied: multidict<7.0,>=4.5 in /opt/conda/lib/python3.6/site-packages (from aiohttp>=3.3.1->aiobotocore>=1.0.1->s3fs->datasets[s3]==1.6.2) (5.2.0)\n",
      "Requirement already satisfied: asynctest==0.13.0 in /opt/conda/lib/python3.6/site-packages (from aiohttp>=3.3.1->aiobotocore>=1.0.1->s3fs->datasets[s3]==1.6.2) (0.13.0)\n",
      "Requirement already satisfied: frozenlist>=1.1.1 in /opt/conda/lib/python3.6/site-packages (from aiohttp>=3.3.1->aiobotocore>=1.0.1->s3fs->datasets[s3]==1.6.2) (1.2.0)\n",
      "Building wheels for collected packages: aiobotocore\n",
      "  Building wheel for aiobotocore (setup.py) ... \u001b[?25ldone\n",
      "\u001b[?25h  Created wheel for aiobotocore: filename=aiobotocore-1.2.2-py3-none-any.whl size=45750 sha256=a23fdb050339d12a27a8352dfd2b4e2367685b310f7cd7a770f8feb2948f0fe9\n",
      "  Stored in directory: /root/.cache/pip/wheels/37/f3/76/dfc2d32494696a7e4710b2f57d9d15212226d19c42dc395865\n",
      "Successfully built aiobotocore\n",
      "Installing collected packages: tqdm, botocore, xxhash, s3transfer, regex, huggingface-hub, aiobotocore, tokenizers, sacremoses, datasets, boto3, transformers, sagemaker\n",
      "  Attempting uninstall: tqdm\n",
      "    Found existing installation: tqdm 4.61.2\n",
      "    Uninstalling tqdm-4.61.2:\n",
      "      Successfully uninstalled tqdm-4.61.2\n",
      "  Attempting uninstall: botocore\n",
      "    Found existing installation: botocore 1.23.24\n",
      "    Uninstalling botocore-1.23.24:\n",
      "      Successfully uninstalled botocore-1.23.24\n",
      "  Attempting uninstall: s3transfer\n",
      "    Found existing installation: s3transfer 0.5.0\n",
      "    Uninstalling s3transfer-0.5.0:\n",
      "      Successfully uninstalled s3transfer-0.5.0\n",
      "  Attempting uninstall: aiobotocore\n",
      "    Found existing installation: aiobotocore 2.1.0\n",
      "    Uninstalling aiobotocore-2.1.0:\n",
      "      Successfully uninstalled aiobotocore-2.1.0\n",
      "  Attempting uninstall: boto3\n",
      "    Found existing installation: boto3 1.20.24\n",
      "    Uninstalling boto3-1.20.24:\n",
      "      Successfully uninstalled boto3-1.20.24\n",
      "  Attempting uninstall: sagemaker\n",
      "    Found existing installation: sagemaker 2.72.0\n",
      "    Uninstalling sagemaker-2.72.0:\n",
      "      Successfully uninstalled sagemaker-2.72.0\n",
      "\u001b[31mERROR: pip's dependency resolver does not currently take into account all the packages that are installed. This behaviour is the source of the following dependency conflicts.\n",
      "awscli 1.22.24 requires botocore==1.23.24, but you have botocore 1.19.52 which is incompatible.\n",
      "awscli 1.22.24 requires s3transfer<0.6.0,>=0.5.0, but you have s3transfer 0.3.7 which is incompatible.\u001b[0m\n",
      "Successfully installed aiobotocore-1.2.2 boto3-1.16.43 botocore-1.19.52 datasets-1.6.2 huggingface-hub-0.0.8 regex-2022.1.18 s3transfer-0.3.7 sacremoses-0.0.47 sagemaker-2.69.0 tokenizers-0.10.3 tqdm-4.49.0 transformers-4.6.1 xxhash-3.0.0\n",
      "\u001b[33mWARNING: Running pip as the 'root' user can result in broken permissions and conflicting behaviour with the system package manager. It is recommended to use a virtual environment instead: https://pip.pypa.io/warnings/venv\u001b[0m\n"
     ]
    }
   ],
   "source": [
    "!pip install \"sagemaker>=2.48.0\" \"transformers==4.6.1\" \"datasets[s3]==1.6.2\" --upgrade"
   ]
  },
  {
   "cell_type": "markdown",
   "metadata": {},
   "source": [
    "## Development environment "
   ]
  },
  {
   "cell_type": "markdown",
   "metadata": {},
   "source": [
    "**upgrade ipywidgets for `datasets` library and restart kernel, only needed when prerpocessing is done in the notebook**"
   ]
  },
  {
   "cell_type": "code",
   "execution_count": 3,
   "metadata": {},
   "outputs": [],
   "source": [
    "%%capture\n",
    "import IPython\n",
    "import sys\n",
    "!{sys.executable} -m pip install ipywidgets\n"
   ]
  },
  {
   "cell_type": "code",
   "execution_count": 4,
   "metadata": {},
   "outputs": [
    {
     "data": {
      "text/plain": [
       "{'status': 'ok', 'restart': True}"
      ]
     },
     "execution_count": 4,
     "metadata": {},
     "output_type": "execute_result"
    }
   ],
   "source": [
    "IPython.Application.instance().kernel.do_shutdown(True)  # has to restart kernel so changes are used\""
   ]
  },
  {
   "cell_type": "code",
   "execution_count": null,
   "metadata": {},
   "outputs": [],
   "source": [
    "import sagemaker.huggingface"
   ]
  },
  {
   "cell_type": "markdown",
   "metadata": {},
   "source": [
    "## Permissions"
   ]
  },
  {
   "cell_type": "markdown",
   "metadata": {},
   "source": [
    "_If you are going to use Sagemaker in a local environment. You need access to an IAM Role with the required permissions for Sagemaker. You can find [here](https://docs.aws.amazon.com/sagemaker/latest/dg/sagemaker-roles.html) more about it._"
   ]
  },
  {
   "cell_type": "code",
   "execution_count": 2,
   "metadata": {},
   "outputs": [
    {
     "name": "stdout",
     "output_type": "stream",
     "text": [
      "sagemaker role arn: arn:aws:iam::647333706880:role/service-role/AmazonSageMaker-ExecutionRole-20210125T093214\n",
      "sagemaker bucket: sagemaker-us-east-1-647333706880\n",
      "sagemaker session region: us-east-1\n"
     ]
    }
   ],
   "source": [
    "import sagemaker\n",
    "\n",
    "sess = sagemaker.Session()\n",
    "# sagemaker session bucket -> used for uploading data, models and logs\n",
    "# sagemaker will automatically create this bucket if it not exists\n",
    "sagemaker_session_bucket=None\n",
    "if sagemaker_session_bucket is None and sess is not None:\n",
    "    # set to default bucket if a bucket name is not given\n",
    "    sagemaker_session_bucket = sess.default_bucket()\n",
    "\n",
    "role = sagemaker.get_execution_role()\n",
    "sess = sagemaker.Session(default_bucket=sagemaker_session_bucket)\n",
    "\n",
    "print(f\"sagemaker role arn: {role}\")\n",
    "print(f\"sagemaker bucket: {sess.default_bucket()}\")\n",
    "print(f\"sagemaker session region: {sess.boto_region_name}\")"
   ]
  },
  {
   "cell_type": "markdown",
   "metadata": {},
   "source": [
    "# ss Use hf sagemaker notebook 01_getting starting processing"
   ]
  },
  {
   "cell_type": "code",
   "execution_count": 9,
   "metadata": {},
   "outputs": [],
   "source": [
    "from datasets import load_dataset\n",
    "from transformers import AutoTokenizer\n",
    "\n",
    "# tokenizer used in preprocessing\n",
    "tokenizer_name = 'distilbert-base-uncased'\n",
    "\n",
    "# dataset used\n",
    "#dataset_name = 'imdb'\n",
    "dataset_name = 'emotion'\n",
    "\n",
    "# s3 key prefix for the data\n",
    "s3_prefix = 'samples/datasets/emotion'"
   ]
  },
  {
   "cell_type": "code",
   "execution_count": 10,
   "metadata": {},
   "outputs": [
    {
     "name": "stderr",
     "output_type": "stream",
     "text": [
      "Using custom data configuration default\n",
      "Reusing dataset emotion (/root/.cache/huggingface/datasets/emotion/default/0.0.0/6e4212efe64fd33728549b8f0435c73081391d543b596a05936857df98acb681)\n",
      "Using custom data configuration default\n",
      "Reusing dataset emotion (/root/.cache/huggingface/datasets/emotion/default/0.0.0/6e4212efe64fd33728549b8f0435c73081391d543b596a05936857df98acb681)\n"
     ]
    },
    {
     "data": {
      "application/vnd.jupyter.widget-view+json": {
       "model_id": "",
       "version_major": 2,
       "version_minor": 0
      },
      "text/plain": [
       "HBox(children=(FloatProgress(value=0.0, max=16.0), HTML(value='')))"
      ]
     },
     "metadata": {},
     "output_type": "display_data"
    },
    {
     "name": "stdout",
     "output_type": "stream",
     "text": [
      "\n"
     ]
    },
    {
     "data": {
      "application/vnd.jupyter.widget-view+json": {
       "model_id": "",
       "version_major": 2,
       "version_minor": 0
      },
      "text/plain": [
       "HBox(children=(FloatProgress(value=0.0, max=2.0), HTML(value='')))"
      ]
     },
     "metadata": {},
     "output_type": "display_data"
    },
    {
     "name": "stdout",
     "output_type": "stream",
     "text": [
      "\n"
     ]
    },
    {
     "data": {
      "application/vnd.jupyter.widget-view+json": {
       "model_id": "",
       "version_major": 2,
       "version_minor": 0
      },
      "text/plain": [
       "HBox(children=(FloatProgress(value=0.0, max=2.0), HTML(value='')))"
      ]
     },
     "metadata": {},
     "output_type": "display_data"
    },
    {
     "name": "stdout",
     "output_type": "stream",
     "text": [
      "\n"
     ]
    }
   ],
   "source": [
    "# load dataset \n",
    "dataset = load_dataset(dataset_name)\n",
    "\n",
    "# download tokenizer\n",
    "tokenizer = AutoTokenizer.from_pretrained(tokenizer_name)\n",
    "\n",
    "# tokenizer helper function\n",
    "def tokenize(batch):\n",
    "    return tokenizer(batch['text'], padding='max_length', truncation=True)\n",
    "\n",
    "# load dataset\n",
    "train_dataset, validation_dataset,test_dataset = load_dataset(dataset_name, split=['train', 'validation','test'])\n",
    "test_dataset = test_dataset.shuffle().select(range(2000)) # smaller the size for test dataset to 10k \n",
    "\n",
    "\n",
    "# tokenize dataset\n",
    "train_dataset = train_dataset.map(tokenize, batched=True)\n",
    "validation_dataset = validation_dataset.map(tokenize, batched=True)\n",
    "test_dataset = test_dataset.map(tokenize, batched=True)\n",
    "\n",
    "# set format for pytorch\n",
    "train_dataset =  train_dataset.rename_column(\"label\", \"labels\")\n",
    "train_dataset.set_format('torch', columns=['input_ids', 'attention_mask', 'labels'])\n",
    "test_dataset = test_dataset.rename_column(\"label\", \"labels\")\n",
    "test_dataset.set_format('torch', columns=['input_ids', 'attention_mask', 'labels'])\n",
    "validation_dataset = validation_dataset.rename_column(\"label\", \"labels\")\n",
    "validation_dataset.set_format('torch', columns=['input_ids', 'attention_mask', 'labels'])"
   ]
  },
  {
   "cell_type": "code",
   "execution_count": 11,
   "metadata": {},
   "outputs": [
    {
     "data": {
      "text/plain": [
       "Dataset({\n",
       "    features: ['attention_mask', 'input_ids', 'labels', 'text'],\n",
       "    num_rows: 16000\n",
       "})"
      ]
     },
     "execution_count": 11,
     "metadata": {},
     "output_type": "execute_result"
    }
   ],
   "source": [
    "train_dataset"
   ]
  },
  {
   "cell_type": "markdown",
   "metadata": {},
   "source": [
    "## Uploading data to `sagemaker_session_bucket`\n",
    "\n",
    "After we processed the `datasets` we are going to use the new `FileSystem` [integration](https://huggingface.co/docs/datasets/filesystems.html) to upload our dataset to S3."
   ]
  },
  {
   "cell_type": "code",
   "execution_count": 12,
   "metadata": {},
   "outputs": [],
   "source": [
    "import botocore\n",
    "from datasets.filesystems import S3FileSystem\n",
    "\n",
    "s3 = S3FileSystem()  \n",
    "\n",
    "# save train_dataset to s3\n",
    "training_input_path = f's3://{sess.default_bucket()}/{s3_prefix}/train'\n",
    "train_dataset.save_to_disk(training_input_path,fs=s3)\n",
    "\n",
    "# save test_dataset to s3\n",
    "test_input_path = f's3://{sess.default_bucket()}/{s3_prefix}/test'\n",
    "test_dataset.save_to_disk(test_input_path,fs=s3)\n",
    "\n",
    "# save validation to s3\n",
    "validation_input_path = f's3://{sess.default_bucket()}/{s3_prefix}/validation'\n",
    "validation_dataset.save_to_disk(test_input_path,fs=s3)"
   ]
  },
  {
   "cell_type": "code",
   "execution_count": 79,
   "metadata": {},
   "outputs": [
    {
     "data": {
      "text/plain": [
       "['s3://sagemaker-us-east-1-647333706880/samples/datasets/emotion/train',\n",
       " 's3://sagemaker-us-east-1-647333706880/samples/datasets/emotion/test',\n",
       " 's3://sagemaker-us-east-1-647333706880/samples/datasets/emotion/validation']"
      ]
     },
     "execution_count": 79,
     "metadata": {},
     "output_type": "execute_result"
    }
   ],
   "source": [
    "[training_input_path,test_input_path,validation_input_path]"
   ]
  },
  {
   "cell_type": "markdown",
   "metadata": {},
   "source": [
    "# Fine-tuning & starting Sagemaker Training Job\n",
    "\n",
    "In order to create a sagemaker training job we need an `HuggingFace` Estimator. The Estimator handles end-to-end Amazon SageMaker training and deployment tasks. In a Estimator we define, which fine-tuning script should be used as `entry_point`, which `instance_type` should be used, which `hyperparameters` are passed in .....\n",
    "\n",
    "\n",
    "\n",
    "```python\n",
    "huggingface_estimator = HuggingFace(entry_point='train.py',\n",
    "                            source_dir='./scripts',\n",
    "                            base_job_name='huggingface-sdk-extension',\n",
    "                            instance_type='ml.p3.2xlarge',\n",
    "                            instance_count=1,\n",
    "                            transformers_version='4.4',\n",
    "                            pytorch_version='1.6',\n",
    "                            py_version='py36',\n",
    "                            role=role,\n",
    "                            hyperparameters = {'epochs': 1,\n",
    "                                               'train_batch_size': 32,\n",
    "                                               'model_name':'distilbert-base-uncased'\n",
    "                                                })\n",
    "```\n",
    "\n",
    "When we create a SageMaker training job, SageMaker takes care of starting and managing all the required ec2 instances for us with the `huggingface` container, uploads the provided fine-tuning script `train.py` and downloads the data from our `sagemaker_session_bucket` into the container at `/opt/ml/input/data`. Then, it starts the training job by running. \n",
    "\n",
    "```python\n",
    "/opt/conda/bin/python train.py --epochs 1 --model_name distilbert-base-uncased --train_batch_size 32\n",
    "```\n",
    "\n",
    "The `hyperparameters` you define in the `HuggingFace` estimator are passed in as named arguments. \n",
    "\n",
    "Sagemaker is providing useful properties about the training environment through various environment variables, including the following:\n",
    "\n",
    "* `SM_MODEL_DIR`: A string that represents the path where the training job writes the model artifacts to. After training, artifacts in this directory are uploaded to S3 for model hosting.\n",
    "\n",
    "* `SM_NUM_GPUS`: An integer representing the number of GPUs available to the host.\n",
    "\n",
    "* `SM_CHANNEL_XXXX:` A string that represents the path to the directory that contains the input data for the specified channel. For example, if you specify two input channels in the HuggingFace estimator’s fit call, named `train` and `test`, the environment variables `SM_CHANNEL_TRAIN` and `SM_CHANNEL_TEST` are set.\n",
    "\n",
    "\n",
    "To run your training job locally you can define `instance_type='local'` or `instance_type='local_gpu'` for gpu usage. _Note: this does not working within SageMaker Studio_\n"
   ]
  },
  {
   "cell_type": "code",
   "execution_count": 41,
   "metadata": {
    "collapsed": true,
    "jupyter": {
     "outputs_hidden": true
    }
   },
   "outputs": [
    {
     "name": "stdout",
     "output_type": "stream",
     "text": [
      "\u001b[34mfrom\u001b[39;49;00m \u001b[04m\u001b[36mtransformers\u001b[39;49;00m \u001b[34mimport\u001b[39;49;00m AutoModelForSequenceClassification, Trainer, TrainingArguments, AutoTokenizer\n",
      "\u001b[34mfrom\u001b[39;49;00m \u001b[04m\u001b[36msklearn\u001b[39;49;00m\u001b[04m\u001b[36m.\u001b[39;49;00m\u001b[04m\u001b[36mmetrics\u001b[39;49;00m \u001b[34mimport\u001b[39;49;00m accuracy_score, precision_recall_fscore_support\n",
      "\u001b[34mfrom\u001b[39;49;00m \u001b[04m\u001b[36mdatasets\u001b[39;49;00m \u001b[34mimport\u001b[39;49;00m load_from_disk\n",
      "\u001b[34mimport\u001b[39;49;00m \u001b[04m\u001b[36mrandom\u001b[39;49;00m\n",
      "\u001b[34mimport\u001b[39;49;00m \u001b[04m\u001b[36mlogging\u001b[39;49;00m\n",
      "\u001b[34mimport\u001b[39;49;00m \u001b[04m\u001b[36msys\u001b[39;49;00m\n",
      "\u001b[34mimport\u001b[39;49;00m \u001b[04m\u001b[36margparse\u001b[39;49;00m\n",
      "\u001b[34mimport\u001b[39;49;00m \u001b[04m\u001b[36mos\u001b[39;49;00m\n",
      "\u001b[34mimport\u001b[39;49;00m \u001b[04m\u001b[36mtorch\u001b[39;49;00m\n",
      "\n",
      "\u001b[34mif\u001b[39;49;00m \u001b[31m__name__\u001b[39;49;00m == \u001b[33m\"\u001b[39;49;00m\u001b[33m__main__\u001b[39;49;00m\u001b[33m\"\u001b[39;49;00m:\n",
      "\n",
      "    parser = argparse.ArgumentParser()\n",
      "\n",
      "    \u001b[37m# hyperparameters sent by the client are passed as command-line arguments to the script.\u001b[39;49;00m\n",
      "    parser.add_argument(\u001b[33m\"\u001b[39;49;00m\u001b[33m--epochs\u001b[39;49;00m\u001b[33m\"\u001b[39;49;00m, \u001b[36mtype\u001b[39;49;00m=\u001b[36mint\u001b[39;49;00m, default=\u001b[34m3\u001b[39;49;00m)\n",
      "    parser.add_argument(\u001b[33m\"\u001b[39;49;00m\u001b[33m--train_batch_size\u001b[39;49;00m\u001b[33m\"\u001b[39;49;00m, \u001b[36mtype\u001b[39;49;00m=\u001b[36mint\u001b[39;49;00m, default=\u001b[34m32\u001b[39;49;00m)\n",
      "    parser.add_argument(\u001b[33m\"\u001b[39;49;00m\u001b[33m--eval_batch_size\u001b[39;49;00m\u001b[33m\"\u001b[39;49;00m, \u001b[36mtype\u001b[39;49;00m=\u001b[36mint\u001b[39;49;00m, default=\u001b[34m64\u001b[39;49;00m)\n",
      "    parser.add_argument(\u001b[33m\"\u001b[39;49;00m\u001b[33m--warmup_steps\u001b[39;49;00m\u001b[33m\"\u001b[39;49;00m, \u001b[36mtype\u001b[39;49;00m=\u001b[36mint\u001b[39;49;00m, default=\u001b[34m500\u001b[39;49;00m)\n",
      "    parser.add_argument(\u001b[33m\"\u001b[39;49;00m\u001b[33m--model_name\u001b[39;49;00m\u001b[33m\"\u001b[39;49;00m, \u001b[36mtype\u001b[39;49;00m=\u001b[36mstr\u001b[39;49;00m)\n",
      "    parser.add_argument(\u001b[33m\"\u001b[39;49;00m\u001b[33m--learning_rate\u001b[39;49;00m\u001b[33m\"\u001b[39;49;00m, \u001b[36mtype\u001b[39;49;00m=\u001b[36mstr\u001b[39;49;00m, default=\u001b[34m5e-5\u001b[39;49;00m)\n",
      "\n",
      "    \u001b[37m# Data, model, and output directories\u001b[39;49;00m\n",
      "    parser.add_argument(\u001b[33m\"\u001b[39;49;00m\u001b[33m--output_data_dir\u001b[39;49;00m\u001b[33m\"\u001b[39;49;00m, \u001b[36mtype\u001b[39;49;00m=\u001b[36mstr\u001b[39;49;00m, default=os.environ[\u001b[33m\"\u001b[39;49;00m\u001b[33mSM_OUTPUT_DATA_DIR\u001b[39;49;00m\u001b[33m\"\u001b[39;49;00m])\n",
      "    parser.add_argument(\u001b[33m\"\u001b[39;49;00m\u001b[33m--model_dir\u001b[39;49;00m\u001b[33m\"\u001b[39;49;00m, \u001b[36mtype\u001b[39;49;00m=\u001b[36mstr\u001b[39;49;00m, default=os.environ[\u001b[33m\"\u001b[39;49;00m\u001b[33mSM_MODEL_DIR\u001b[39;49;00m\u001b[33m\"\u001b[39;49;00m])\n",
      "    parser.add_argument(\u001b[33m\"\u001b[39;49;00m\u001b[33m--n_gpus\u001b[39;49;00m\u001b[33m\"\u001b[39;49;00m, \u001b[36mtype\u001b[39;49;00m=\u001b[36mstr\u001b[39;49;00m, default=os.environ[\u001b[33m\"\u001b[39;49;00m\u001b[33mSM_NUM_GPUS\u001b[39;49;00m\u001b[33m\"\u001b[39;49;00m])\n",
      "    parser.add_argument(\u001b[33m\"\u001b[39;49;00m\u001b[33m--training_dir\u001b[39;49;00m\u001b[33m\"\u001b[39;49;00m, \u001b[36mtype\u001b[39;49;00m=\u001b[36mstr\u001b[39;49;00m, default=os.environ[\u001b[33m\"\u001b[39;49;00m\u001b[33mSM_CHANNEL_TRAIN\u001b[39;49;00m\u001b[33m\"\u001b[39;49;00m])\n",
      "    parser.add_argument(\u001b[33m\"\u001b[39;49;00m\u001b[33m--test_dir\u001b[39;49;00m\u001b[33m\"\u001b[39;49;00m, \u001b[36mtype\u001b[39;49;00m=\u001b[36mstr\u001b[39;49;00m, default=os.environ[\u001b[33m\"\u001b[39;49;00m\u001b[33mSM_CHANNEL_TEST\u001b[39;49;00m\u001b[33m\"\u001b[39;49;00m])\n",
      "\n",
      "    args, _ = parser.parse_known_args()\n",
      "\n",
      "    \u001b[37m# Set up logging\u001b[39;49;00m\n",
      "    logger = logging.getLogger(\u001b[31m__name__\u001b[39;49;00m)\n",
      "\n",
      "    logging.basicConfig(\n",
      "        level=logging.getLevelName(\u001b[33m\"\u001b[39;49;00m\u001b[33mINFO\u001b[39;49;00m\u001b[33m\"\u001b[39;49;00m),\n",
      "        handlers=[logging.StreamHandler(sys.stdout)],\n",
      "        \u001b[36mformat\u001b[39;49;00m=\u001b[33m\"\u001b[39;49;00m\u001b[33m%(asctime)s\u001b[39;49;00m\u001b[33m - \u001b[39;49;00m\u001b[33m%(name)s\u001b[39;49;00m\u001b[33m - \u001b[39;49;00m\u001b[33m%(levelname)s\u001b[39;49;00m\u001b[33m - \u001b[39;49;00m\u001b[33m%(message)s\u001b[39;49;00m\u001b[33m\"\u001b[39;49;00m,\n",
      "    )\n",
      "\n",
      "    \u001b[37m# load datasets\u001b[39;49;00m\n",
      "    train_dataset = load_from_disk(args.training_dir)\n",
      "    test_dataset = load_from_disk(args.test_dir)\n",
      "\n",
      "    logger.info(\u001b[33mf\u001b[39;49;00m\u001b[33m\"\u001b[39;49;00m\u001b[33m loaded train_dataset length is: \u001b[39;49;00m\u001b[33m{\u001b[39;49;00m\u001b[36mlen\u001b[39;49;00m(train_dataset)\u001b[33m}\u001b[39;49;00m\u001b[33m\"\u001b[39;49;00m)\n",
      "    logger.info(\u001b[33mf\u001b[39;49;00m\u001b[33m\"\u001b[39;49;00m\u001b[33m loaded test_dataset length is: \u001b[39;49;00m\u001b[33m{\u001b[39;49;00m\u001b[36mlen\u001b[39;49;00m(test_dataset)\u001b[33m}\u001b[39;49;00m\u001b[33m\"\u001b[39;49;00m)\n",
      "\n",
      "    \u001b[37m# compute metrics function for binary classification\u001b[39;49;00m\n",
      "    \u001b[34mdef\u001b[39;49;00m \u001b[32morg_compute_metrics\u001b[39;49;00m(pred):\n",
      "        labels = pred.label_ids\n",
      "        preds = pred.predictions.argmax(-\u001b[34m1\u001b[39;49;00m)\n",
      "        precision, recall, f1, _ = precision_recall_fscore_support(labels, preds, average=\u001b[33m\"\u001b[39;49;00m\u001b[33mbinary\u001b[39;49;00m\u001b[33m\"\u001b[39;49;00m)\n",
      "        acc = accuracy_score(labels, preds)\n",
      "        \u001b[34mreturn\u001b[39;49;00m {\u001b[33m\"\u001b[39;49;00m\u001b[33maccuracy\u001b[39;49;00m\u001b[33m\"\u001b[39;49;00m: acc, \u001b[33m\"\u001b[39;49;00m\u001b[33mf1\u001b[39;49;00m\u001b[33m\"\u001b[39;49;00m: f1, \u001b[33m\"\u001b[39;49;00m\u001b[33mprecision\u001b[39;49;00m\u001b[33m\"\u001b[39;49;00m: precision, \u001b[33m\"\u001b[39;49;00m\u001b[33mrecall\u001b[39;49;00m\u001b[33m\"\u001b[39;49;00m: recall}\n",
      "\n",
      "    \u001b[34mdef\u001b[39;49;00m \u001b[32mcompute_metrics\u001b[39;49;00m(pred):\n",
      "        labels = pred.label_ids\n",
      "        preds = pred.predictions.argmax(-\u001b[34m1\u001b[39;49;00m)\n",
      "        precision, recall, f1, _ = precision_recall_fscore_support(labels, preds, average=\u001b[33m\"\u001b[39;49;00m\u001b[33mweighted\u001b[39;49;00m\u001b[33m\"\u001b[39;49;00m)\n",
      "\u001b[37m#        f1 = f1_score(labels, preds, average=\"weighted\")\u001b[39;49;00m\n",
      "        acc = accuracy_score(labels, preds)\n",
      "        \u001b[34mreturn\u001b[39;49;00m {\u001b[33m\"\u001b[39;49;00m\u001b[33maccuracy\u001b[39;49;00m\u001b[33m\"\u001b[39;49;00m: acc, \u001b[33m\"\u001b[39;49;00m\u001b[33mf1\u001b[39;49;00m\u001b[33m\"\u001b[39;49;00m: f1, \u001b[33m\"\u001b[39;49;00m\u001b[33mprecision\u001b[39;49;00m\u001b[33m\"\u001b[39;49;00m: precision, \u001b[33m\"\u001b[39;49;00m\u001b[33mrecall\u001b[39;49;00m\u001b[33m\"\u001b[39;49;00m: recall}\n",
      "\u001b[37m#        return {\"accuracy\": acc, \"f1\": f1}\u001b[39;49;00m\n",
      "\n",
      "    \u001b[37m# download model from model hub\u001b[39;49;00m\n",
      "    model = AutoModelForSequenceClassification.from_pretrained(args.model_name)\n",
      "    tokenizer = AutoTokenizer.from_pretrained(args.model_name)\n",
      "\n",
      "    \u001b[37m# define training args\u001b[39;49;00m\n",
      "    training_args = TrainingArguments(\n",
      "        output_dir=args.model_dir,\n",
      "        num_train_epochs=args.epochs,\n",
      "        per_device_train_batch_size=args.train_batch_size,\n",
      "        per_device_eval_batch_size=args.eval_batch_size,\n",
      "        warmup_steps=args.warmup_steps,\n",
      "        evaluation_strategy=\u001b[33m\"\u001b[39;49;00m\u001b[33mepoch\u001b[39;49;00m\u001b[33m\"\u001b[39;49;00m,\n",
      "        logging_dir=\u001b[33mf\u001b[39;49;00m\u001b[33m\"\u001b[39;49;00m\u001b[33m{\u001b[39;49;00margs.output_data_dir\u001b[33m}\u001b[39;49;00m\u001b[33m/logs\u001b[39;49;00m\u001b[33m\"\u001b[39;49;00m,\n",
      "        learning_rate=\u001b[36mfloat\u001b[39;49;00m(args.learning_rate),\n",
      "    )\n",
      "\n",
      "    \u001b[37m# create Trainer instance\u001b[39;49;00m\n",
      "    trainer = Trainer(\n",
      "        model=model,\n",
      "        args=training_args,\n",
      "        compute_metrics=compute_metrics,\n",
      "        train_dataset=train_dataset,\n",
      "        eval_dataset=test_dataset,\n",
      "        tokenizer=tokenizer,\n",
      "    )\n",
      "\n",
      "    \u001b[37m# train model\u001b[39;49;00m\n",
      "    trainer.train()\n",
      "\n",
      "    \u001b[37m# evaluate model\u001b[39;49;00m\n",
      "    eval_result = trainer.evaluate(eval_dataset=test_dataset)\n",
      "\n",
      "    \u001b[37m# writes eval result to file which can be accessed later in s3 ouput\u001b[39;49;00m\n",
      "    \u001b[34mwith\u001b[39;49;00m \u001b[36mopen\u001b[39;49;00m(os.path.join(args.output_data_dir, \u001b[33m\"\u001b[39;49;00m\u001b[33meval_results.txt\u001b[39;49;00m\u001b[33m\"\u001b[39;49;00m), \u001b[33m\"\u001b[39;49;00m\u001b[33mw\u001b[39;49;00m\u001b[33m\"\u001b[39;49;00m) \u001b[34mas\u001b[39;49;00m writer:\n",
      "        \u001b[36mprint\u001b[39;49;00m(\u001b[33mf\u001b[39;49;00m\u001b[33m\"\u001b[39;49;00m\u001b[33m***** Eval results *****\u001b[39;49;00m\u001b[33m\"\u001b[39;49;00m)\n",
      "        \u001b[34mfor\u001b[39;49;00m key, value \u001b[35min\u001b[39;49;00m \u001b[36msorted\u001b[39;49;00m(eval_result.items()):\n",
      "            writer.write(\u001b[33mf\u001b[39;49;00m\u001b[33m\"\u001b[39;49;00m\u001b[33m{\u001b[39;49;00mkey\u001b[33m}\u001b[39;49;00m\u001b[33m = \u001b[39;49;00m\u001b[33m{\u001b[39;49;00mvalue\u001b[33m}\u001b[39;49;00m\u001b[33m\\n\u001b[39;49;00m\u001b[33m\"\u001b[39;49;00m)\n",
      "\n",
      "    \u001b[37m# Saves the model to s3\u001b[39;49;00m\n",
      "    trainer.save_model(args.model_dir)\n"
     ]
    }
   ],
   "source": [
    "# !pygmentize ./scripts/train.py\n",
    "!pygmentize ./scripts/train_multiclass.py"
   ]
  },
  {
   "cell_type": "markdown",
   "metadata": {},
   "source": [
    "## Creating an Estimator and start a training job"
   ]
  },
  {
   "cell_type": "code",
   "execution_count": 42,
   "metadata": {},
   "outputs": [],
   "source": [
    "#ss see next cell with metrics added\n",
    "from sagemaker.huggingface import HuggingFace\n",
    "\n",
    "# hyperparameters, which are passed into the training job\n",
    "hyperparameters={'epochs': 1,\n",
    "                 'train_batch_size': 32,\n",
    "                 'model_name':'distilbert-base-uncased'\n",
    "                 }"
   ]
  },
  {
   "cell_type": "code",
   "execution_count": 14,
   "metadata": {},
   "outputs": [],
   "source": [
    "# ss add metrics from ch06\n",
    "from sagemaker.huggingface import HuggingFace\n",
    "\n",
    "# hyperparameters, which are passed into the training job\n",
    "hyperparameters={'epochs': 3,\n",
    "             'train_batch_size': 32,\n",
    "            'checkpoints': '/opt/ml/checkpoints/',\n",
    "             'model_name':'distilbert-base-uncased'\n",
    "             }"
   ]
  },
  {
   "cell_type": "code",
   "execution_count": 15,
   "metadata": {},
   "outputs": [],
   "source": [
    "metric_definitions=[\n",
    "    {'Name': 'loss', 'Regex': \"'loss': ([0-9]+(.|e\\-)[0-9]+),?\"},\n",
    "    {'Name': 'learning_rate', 'Regex': \"'learning_rate': ([0-9]+(.|e\\-)[0-9]+),?\"},\n",
    "    {'Name': 'eval_loss', 'Regex': \"'eval_loss': ([0-9]+(.|e\\-)[0-9]+),?\"},\n",
    "    {'Name': 'eval_accuracy', 'Regex': \"'eval_accuracy': ([0-9]+(.|e\\-)[0-9]+),?\"},\n",
    "    {'Name': 'eval_f1', 'Regex': \"'eval_f1': ([0-9]+(.|e\\-)[0-9]+),?\"},\n",
    "    {'Name': 'eval_precision', 'Regex': \"'eval_precision': ([0-9]+(.|e\\-)[0-9]+),?\"},\n",
    "    {'Name': 'eval_recall', 'Regex': \"'eval_recall': ([0-9]+(.|e\\-)[0-9]+),?\"},\n",
    "    {'Name': 'eval_runtime', 'Regex': \"'eval_runtime': ([0-9]+(.|e\\-)[0-9]+),?\"},\n",
    "    {'Name': 'eval_samples_per_second', 'Regex': \"'eval_samples_per_second': ([0-9]+(.|e\\-)[0-9]+),?\"},\n",
    "    {'Name': 'epoch', 'Regex': \"'epoch': ([0-9]+(.|e\\-)[0-9]+),?\"}]"
   ]
  },
  {
   "cell_type": "code",
   "execution_count": 16,
   "metadata": {},
   "outputs": [],
   "source": [
    "huggingface_estimator = HuggingFace(entry_point='train_multiclass.py',\n",
    "                        source_dir='./scripts',\n",
    "                        instance_type='ml.p3.2xlarge',\n",
    "                        instance_count=1,\n",
    "                        role=role,\n",
    "                        transformers_version='4.6',\n",
    "                        pytorch_version='1.7',\n",
    "                        py_version='py36',\n",
    "                        hyperparameters = hyperparameters,\n",
    "                        metric_definitions=metric_definitions)"
   ]
  },
  {
   "cell_type": "code",
   "execution_count": 44,
   "metadata": {},
   "outputs": [
    {
     "data": {
      "text/plain": [
       "['s3://sagemaker-us-east-1-647333706880/samples/datasets/emotion/train',\n",
       " 's3://sagemaker-us-east-1-647333706880/samples/datasets/emotion/test']"
      ]
     },
     "execution_count": 44,
     "metadata": {},
     "output_type": "execute_result"
    }
   ],
   "source": [
    "[training_input_path, test_input_path]"
   ]
  },
  {
   "cell_type": "code",
   "execution_count": 60,
   "metadata": {
    "collapsed": true,
    "jupyter": {
     "outputs_hidden": true
    }
   },
   "outputs": [
    {
     "name": "stdout",
     "output_type": "stream",
     "text": [
      "2022-02-24 17:14:12 Starting - Starting the training job...ProfilerReport-1645722852: InProgress\n",
      "...\n",
      "2022-02-24 17:14:50 Starting - Preparing the instances for training......\n",
      "2022-02-24 17:16:09 Downloading - Downloading input data...\n",
      "2022-02-24 17:16:29 Training - Downloading the training image..................\n",
      "2022-02-24 17:19:39 Training - Training image download completed. Training in progress..\u001b[34mbash: cannot set terminal process group (-1): Inappropriate ioctl for device\u001b[0m\n",
      "\u001b[34mbash: no job control in this shell\u001b[0m\n",
      "\u001b[34m2022-02-24 17:19:43,560 sagemaker-training-toolkit INFO     Imported framework sagemaker_pytorch_container.training\u001b[0m\n",
      "\u001b[34m2022-02-24 17:19:43,587 sagemaker_pytorch_container.training INFO     Block until all host DNS lookups succeed.\u001b[0m\n",
      "\u001b[34m2022-02-24 17:19:43,598 sagemaker_pytorch_container.training INFO     Invoking user training script.\u001b[0m\n",
      "\u001b[34m2022-02-24 17:19:44,031 sagemaker-training-toolkit INFO     Invoking user script\u001b[0m\n",
      "\u001b[34mTraining Env:\u001b[0m\n",
      "\u001b[34m{\n",
      "    \"additional_framework_parameters\": {},\n",
      "    \"channel_input_dirs\": {\n",
      "        \"test\": \"/opt/ml/input/data/test\",\n",
      "        \"train\": \"/opt/ml/input/data/train\"\n",
      "    },\n",
      "    \"current_host\": \"algo-1\",\n",
      "    \"framework_module\": \"sagemaker_pytorch_container.training:main\",\n",
      "    \"hosts\": [\n",
      "        \"algo-1\"\n",
      "    ],\n",
      "    \"hyperparameters\": {\n",
      "        \"checkpoints\": \"/opt/ml/checkpoints/\",\n",
      "        \"epochs\": 3,\n",
      "        \"model_name\": \"distilbert-base-uncased\",\n",
      "        \"train_batch_size\": 32\n",
      "    },\n",
      "    \"input_config_dir\": \"/opt/ml/input/config\",\n",
      "    \"input_data_config\": {\n",
      "        \"test\": {\n",
      "            \"TrainingInputMode\": \"File\",\n",
      "            \"S3DistributionType\": \"FullyReplicated\",\n",
      "            \"RecordWrapperType\": \"None\"\n",
      "        },\n",
      "        \"train\": {\n",
      "            \"TrainingInputMode\": \"File\",\n",
      "            \"S3DistributionType\": \"FullyReplicated\",\n",
      "            \"RecordWrapperType\": \"None\"\n",
      "        }\n",
      "    },\n",
      "    \"input_dir\": \"/opt/ml/input\",\n",
      "    \"is_master\": true,\n",
      "    \"job_name\": \"huggingface-pytorch-training-2022-02-24-17-14-11-872\",\n",
      "    \"log_level\": 20,\n",
      "    \"master_hostname\": \"algo-1\",\n",
      "    \"model_dir\": \"/opt/ml/model\",\n",
      "    \"module_dir\": \"s3://sagemaker-us-east-1-647333706880/huggingface-pytorch-training-2022-02-24-17-14-11-872/source/sourcedir.tar.gz\",\n",
      "    \"module_name\": \"train_multiclass\",\n",
      "    \"network_interface_name\": \"eth0\",\n",
      "    \"num_cpus\": 8,\n",
      "    \"num_gpus\": 1,\n",
      "    \"output_data_dir\": \"/opt/ml/output/data\",\n",
      "    \"output_dir\": \"/opt/ml/output\",\n",
      "    \"output_intermediate_dir\": \"/opt/ml/output/intermediate\",\n",
      "    \"resource_config\": {\n",
      "        \"current_host\": \"algo-1\",\n",
      "        \"current_instance_type\": \"ml.p3.2xlarge\",\n",
      "        \"current_group_name\": \"homogeneousCluster\",\n",
      "        \"hosts\": [\n",
      "            \"algo-1\"\n",
      "        ],\n",
      "        \"instance_groups\": [\n",
      "            {\n",
      "                \"instance_group_name\": \"homogeneousCluster\",\n",
      "                \"instance_type\": \"ml.p3.2xlarge\",\n",
      "                \"hosts\": [\n",
      "                    \"algo-1\"\n",
      "                ]\n",
      "            }\n",
      "        ],\n",
      "        \"network_interface_name\": \"eth0\"\n",
      "    },\n",
      "    \"user_entry_point\": \"train_multiclass.py\"\u001b[0m\n",
      "\u001b[34m}\u001b[0m\n",
      "\u001b[34mEnvironment variables:\u001b[0m\n",
      "\u001b[34mSM_HOSTS=[\"algo-1\"]\u001b[0m\n",
      "\u001b[34mSM_NETWORK_INTERFACE_NAME=eth0\u001b[0m\n",
      "\u001b[34mSM_HPS={\"checkpoints\":\"/opt/ml/checkpoints/\",\"epochs\":3,\"model_name\":\"distilbert-base-uncased\",\"train_batch_size\":32}\u001b[0m\n",
      "\u001b[34mSM_USER_ENTRY_POINT=train_multiclass.py\u001b[0m\n",
      "\u001b[34mSM_FRAMEWORK_PARAMS={}\u001b[0m\n",
      "\u001b[34mSM_RESOURCE_CONFIG={\"current_group_name\":\"homogeneousCluster\",\"current_host\":\"algo-1\",\"current_instance_type\":\"ml.p3.2xlarge\",\"hosts\":[\"algo-1\"],\"instance_groups\":[{\"hosts\":[\"algo-1\"],\"instance_group_name\":\"homogeneousCluster\",\"instance_type\":\"ml.p3.2xlarge\"}],\"network_interface_name\":\"eth0\"}\u001b[0m\n",
      "\u001b[34mSM_INPUT_DATA_CONFIG={\"test\":{\"RecordWrapperType\":\"None\",\"S3DistributionType\":\"FullyReplicated\",\"TrainingInputMode\":\"File\"},\"train\":{\"RecordWrapperType\":\"None\",\"S3DistributionType\":\"FullyReplicated\",\"TrainingInputMode\":\"File\"}}\u001b[0m\n",
      "\u001b[34mSM_OUTPUT_DATA_DIR=/opt/ml/output/data\u001b[0m\n",
      "\u001b[34mSM_CHANNELS=[\"test\",\"train\"]\u001b[0m\n",
      "\u001b[34mSM_CURRENT_HOST=algo-1\u001b[0m\n",
      "\u001b[34mSM_MODULE_NAME=train_multiclass\u001b[0m\n",
      "\u001b[34mSM_LOG_LEVEL=20\u001b[0m\n",
      "\u001b[34mSM_FRAMEWORK_MODULE=sagemaker_pytorch_container.training:main\u001b[0m\n",
      "\u001b[34mSM_INPUT_DIR=/opt/ml/input\u001b[0m\n",
      "\u001b[34mSM_INPUT_CONFIG_DIR=/opt/ml/input/config\u001b[0m\n",
      "\u001b[34mSM_OUTPUT_DIR=/opt/ml/output\u001b[0m\n",
      "\u001b[34mSM_NUM_CPUS=8\u001b[0m\n",
      "\u001b[34mSM_NUM_GPUS=1\u001b[0m\n",
      "\u001b[34mSM_MODEL_DIR=/opt/ml/model\u001b[0m\n",
      "\u001b[34mSM_MODULE_DIR=s3://sagemaker-us-east-1-647333706880/huggingface-pytorch-training-2022-02-24-17-14-11-872/source/sourcedir.tar.gz\u001b[0m\n",
      "\u001b[34mSM_TRAINING_ENV={\"additional_framework_parameters\":{},\"channel_input_dirs\":{\"test\":\"/opt/ml/input/data/test\",\"train\":\"/opt/ml/input/data/train\"},\"current_host\":\"algo-1\",\"framework_module\":\"sagemaker_pytorch_container.training:main\",\"hosts\":[\"algo-1\"],\"hyperparameters\":{\"checkpoints\":\"/opt/ml/checkpoints/\",\"epochs\":3,\"model_name\":\"distilbert-base-uncased\",\"train_batch_size\":32},\"input_config_dir\":\"/opt/ml/input/config\",\"input_data_config\":{\"test\":{\"RecordWrapperType\":\"None\",\"S3DistributionType\":\"FullyReplicated\",\"TrainingInputMode\":\"File\"},\"train\":{\"RecordWrapperType\":\"None\",\"S3DistributionType\":\"FullyReplicated\",\"TrainingInputMode\":\"File\"}},\"input_dir\":\"/opt/ml/input\",\"is_master\":true,\"job_name\":\"huggingface-pytorch-training-2022-02-24-17-14-11-872\",\"log_level\":20,\"master_hostname\":\"algo-1\",\"model_dir\":\"/opt/ml/model\",\"module_dir\":\"s3://sagemaker-us-east-1-647333706880/huggingface-pytorch-training-2022-02-24-17-14-11-872/source/sourcedir.tar.gz\",\"module_name\":\"train_multiclass\",\"network_interface_name\":\"eth0\",\"num_cpus\":8,\"num_gpus\":1,\"output_data_dir\":\"/opt/ml/output/data\",\"output_dir\":\"/opt/ml/output\",\"output_intermediate_dir\":\"/opt/ml/output/intermediate\",\"resource_config\":{\"current_group_name\":\"homogeneousCluster\",\"current_host\":\"algo-1\",\"current_instance_type\":\"ml.p3.2xlarge\",\"hosts\":[\"algo-1\"],\"instance_groups\":[{\"hosts\":[\"algo-1\"],\"instance_group_name\":\"homogeneousCluster\",\"instance_type\":\"ml.p3.2xlarge\"}],\"network_interface_name\":\"eth0\"},\"user_entry_point\":\"train_multiclass.py\"}\u001b[0m\n",
      "\u001b[34mSM_USER_ARGS=[\"--checkpoints\",\"/opt/ml/checkpoints/\",\"--epochs\",\"3\",\"--model_name\",\"distilbert-base-uncased\",\"--train_batch_size\",\"32\"]\u001b[0m\n",
      "\u001b[34mSM_OUTPUT_INTERMEDIATE_DIR=/opt/ml/output/intermediate\u001b[0m\n",
      "\u001b[34mSM_CHANNEL_TEST=/opt/ml/input/data/test\u001b[0m\n",
      "\u001b[34mSM_CHANNEL_TRAIN=/opt/ml/input/data/train\u001b[0m\n",
      "\u001b[34mSM_HP_CHECKPOINTS=/opt/ml/checkpoints/\u001b[0m\n",
      "\u001b[34mSM_HP_EPOCHS=3\u001b[0m\n",
      "\u001b[34mSM_HP_MODEL_NAME=distilbert-base-uncased\u001b[0m\n",
      "\u001b[34mSM_HP_TRAIN_BATCH_SIZE=32\u001b[0m\n",
      "\u001b[34mPYTHONPATH=/opt/ml/code:/opt/conda/bin:/opt/conda/lib/python36.zip:/opt/conda/lib/python3.6:/opt/conda/lib/python3.6/lib-dynload:/opt/conda/lib/python3.6/site-packages\u001b[0m\n",
      "\u001b[34mInvoking script with the following command:\u001b[0m\n",
      "\u001b[34m/opt/conda/bin/python3.6 train_multiclass.py --checkpoints /opt/ml/checkpoints/ --epochs 3 --model_name distilbert-base-uncased --train_batch_size 32\u001b[0m\n",
      "\u001b[34m2022-02-24 17:19:48,569 - __main__ - INFO -  loaded train_dataset length is: 16000\u001b[0m\n",
      "\u001b[34m2022-02-24 17:19:48,569 - __main__ - INFO -  loaded test_dataset length is: 2000\u001b[0m\n",
      "\u001b[34m2022-02-24 17:19:48,600 - filelock - INFO - Lock 140329052202712 acquired on /root/.cache/huggingface/transformers/23454919702d26495337f3da04d1655c7ee010d5ec9d77bdb9e399e00302c0a1.91b885ab15d631bf9cee9dc9d25ece0afd932f2f5130eba28f2055b2220c0333.lock\u001b[0m\n",
      "\u001b[34m2022-02-24 17:19:48,630 - filelock - INFO - Lock 140329052202712 released on /root/.cache/huggingface/transformers/23454919702d26495337f3da04d1655c7ee010d5ec9d77bdb9e399e00302c0a1.91b885ab15d631bf9cee9dc9d25ece0afd932f2f5130eba28f2055b2220c0333.lock\u001b[0m\n",
      "\u001b[34m2022-02-24 17:19:48,656 - filelock - INFO - Lock 140329053273728 acquired on /root/.cache/huggingface/transformers/9c169103d7e5a73936dd2b627e42851bec0831212b677c637033ee4bce9ab5ee.126183e36667471617ae2f0835fab707baa54b731f991507ebbb55ea85adb12a.lock\u001b[0m\n",
      "\u001b[34m2022-02-24 17:19:54,025 - filelock - INFO - Lock 140329053273728 released on /root/.cache/huggingface/transformers/9c169103d7e5a73936dd2b627e42851bec0831212b677c637033ee4bce9ab5ee.126183e36667471617ae2f0835fab707baa54b731f991507ebbb55ea85adb12a.lock\u001b[0m\n",
      "\u001b[34mSome weights of the model checkpoint at distilbert-base-uncased were not used when initializing DistilBertForSequenceClassification: ['vocab_layer_norm.bias', 'vocab_layer_norm.weight', 'vocab_transform.bias', 'vocab_projector.weight', 'vocab_projector.bias', 'vocab_transform.weight']\u001b[0m\n",
      "\u001b[34m- This IS expected if you are initializing DistilBertForSequenceClassification from the checkpoint of a model trained on another task or with another architecture (e.g. initializing a BertForSequenceClassification model from a BertForPreTraining model).\u001b[0m\n",
      "\u001b[34m- This IS NOT expected if you are initializing DistilBertForSequenceClassification from the checkpoint of a model that you expect to be exactly identical (initializing a BertForSequenceClassification model from a BertForSequenceClassification model).\u001b[0m\n",
      "\u001b[34mSome weights of DistilBertForSequenceClassification were not initialized from the model checkpoint at distilbert-base-uncased and are newly initialized: ['classifier.bias', 'pre_classifier.bias', 'pre_classifier.weight', 'classifier.weight']\u001b[0m\n",
      "\u001b[34mYou should probably TRAIN this model on a down-stream task to be able to use it for predictions and inference.\u001b[0m\n",
      "\u001b[34m2022-02-24 17:19:54,763 - filelock - INFO - Lock 140329051813368 acquired on /root/.cache/huggingface/transformers/0e1bbfda7f63a99bb52e3915dcf10c3c92122b827d92eb2d34ce94ee79ba486c.d789d64ebfe299b0e416afc4a169632f903f693095b4629a7ea271d5a0cf2c99.lock\u001b[0m\n",
      "\u001b[34m2022-02-24 17:19:54,799 - filelock - INFO - Lock 140329051813368 released on /root/.cache/huggingface/transformers/0e1bbfda7f63a99bb52e3915dcf10c3c92122b827d92eb2d34ce94ee79ba486c.d789d64ebfe299b0e416afc4a169632f903f693095b4629a7ea271d5a0cf2c99.lock\u001b[0m\n",
      "\u001b[34m2022-02-24 17:19:54,825 - filelock - INFO - Lock 140329051813312 acquired on /root/.cache/huggingface/transformers/75abb59d7a06f4f640158a9bfcde005264e59e8d566781ab1415b139d2e4c603.7f2721073f19841be16f41b0a70b600ca6b880c8f3df6f3535cbc704371bdfa4.lock\u001b[0m\n",
      "\u001b[34m2022-02-24 17:19:54,864 - filelock - INFO - Lock 140329051813312 released on /root/.cache/huggingface/transformers/75abb59d7a06f4f640158a9bfcde005264e59e8d566781ab1415b139d2e4c603.7f2721073f19841be16f41b0a70b600ca6b880c8f3df6f3535cbc704371bdfa4.lock\u001b[0m\n",
      "\u001b[34m2022-02-24 17:19:54,939 - filelock - INFO - Lock 140329051813368 acquired on /root/.cache/huggingface/transformers/8c8624b8ac8aa99c60c912161f8332de003484428c47906d7ff7eb7f73eecdbb.20430bd8e10ef77a7d2977accefe796051e01bc2fc4aa146bc862997a1a15e79.lock\u001b[0m\n",
      "\u001b[34m2022-02-24 17:19:54,964 - filelock - INFO - Lock 140329051813368 released on /root/.cache/huggingface/transformers/8c8624b8ac8aa99c60c912161f8332de003484428c47906d7ff7eb7f73eecdbb.20430bd8e10ef77a7d2977accefe796051e01bc2fc4aa146bc862997a1a15e79.lock\u001b[0m\n",
      "\u001b[34m[2022-02-24 17:19:59.326 algo-1:27 INFO utils.py:27] RULE_JOB_STOP_SIGNAL_FILENAME: None\u001b[0m\n",
      "\u001b[34m[2022-02-24 17:19:59.471 algo-1:27 INFO profiler_config_parser.py:102] User has disabled profiler.\u001b[0m\n",
      "\u001b[34m[2022-02-24 17:19:59.471 algo-1:27 INFO json_config.py:91] Creating hook from json_config at /opt/ml/input/config/debughookconfig.json.\u001b[0m\n",
      "\u001b[34m[2022-02-24 17:19:59.472 algo-1:27 INFO hook.py:201] tensorboard_dir has not been set for the hook. SMDebug will not be exporting tensorboard summaries.\u001b[0m\n",
      "\u001b[34m[2022-02-24 17:19:59.474 algo-1:27 INFO hook.py:255] Saving to /opt/ml/output/tensors\u001b[0m\n",
      "\u001b[34m[2022-02-24 17:19:59.474 algo-1:27 INFO state_store.py:77] The checkpoint config file /opt/ml/input/config/checkpointconfig.json does not exist.\u001b[0m\n",
      "\u001b[34m[2022-02-24 17:19:59.664 algo-1:27 INFO hook.py:591] name:distilbert.embeddings.word_embeddings.weight count_params:23440896\u001b[0m\n",
      "\u001b[34m[2022-02-24 17:19:59.665 algo-1:27 INFO hook.py:591] name:distilbert.embeddings.position_embeddings.weight count_params:393216\u001b[0m\n",
      "\u001b[34m[2022-02-24 17:19:59.665 algo-1:27 INFO hook.py:591] name:distilbert.embeddings.LayerNorm.weight count_params:768\u001b[0m\n",
      "\u001b[34m[2022-02-24 17:19:59.665 algo-1:27 INFO hook.py:591] name:distilbert.embeddings.LayerNorm.bias count_params:768\u001b[0m\n",
      "\u001b[34m[2022-02-24 17:19:59.665 algo-1:27 INFO hook.py:591] name:distilbert.transformer.layer.0.attention.q_lin.weight count_params:589824\u001b[0m\n",
      "\u001b[34m[2022-02-24 17:19:59.665 algo-1:27 INFO hook.py:591] name:distilbert.transformer.layer.0.attention.q_lin.bias count_params:768\u001b[0m\n",
      "\u001b[34m[2022-02-24 17:19:59.666 algo-1:27 INFO hook.py:591] name:distilbert.transformer.layer.0.attention.k_lin.weight count_params:589824\u001b[0m\n",
      "\u001b[34m[2022-02-24 17:19:59.666 algo-1:27 INFO hook.py:591] name:distilbert.transformer.layer.0.attention.k_lin.bias count_params:768\u001b[0m\n",
      "\u001b[34m[2022-02-24 17:19:59.666 algo-1:27 INFO hook.py:591] name:distilbert.transformer.layer.0.attention.v_lin.weight count_params:589824\u001b[0m\n",
      "\u001b[34m[2022-02-24 17:19:59.666 algo-1:27 INFO hook.py:591] name:distilbert.transformer.layer.0.attention.v_lin.bias count_params:768\u001b[0m\n",
      "\u001b[34m[2022-02-24 17:19:59.666 algo-1:27 INFO hook.py:591] name:distilbert.transformer.layer.0.attention.out_lin.weight count_params:589824\u001b[0m\n",
      "\u001b[34m[2022-02-24 17:19:59.666 algo-1:27 INFO hook.py:591] name:distilbert.transformer.layer.0.attention.out_lin.bias count_params:768\u001b[0m\n",
      "\u001b[34m[2022-02-24 17:19:59.667 algo-1:27 INFO hook.py:591] name:distilbert.transformer.layer.0.sa_layer_norm.weight count_params:768\u001b[0m\n",
      "\u001b[34m[2022-02-24 17:19:59.667 algo-1:27 INFO hook.py:591] name:distilbert.transformer.layer.0.sa_layer_norm.bias count_params:768\u001b[0m\n",
      "\u001b[34m[2022-02-24 17:19:59.667 algo-1:27 INFO hook.py:591] name:distilbert.transformer.layer.0.ffn.lin1.weight count_params:2359296\u001b[0m\n",
      "\u001b[34m[2022-02-24 17:19:59.667 algo-1:27 INFO hook.py:591] name:distilbert.transformer.layer.0.ffn.lin1.bias count_params:3072\u001b[0m\n",
      "\u001b[34m[2022-02-24 17:19:59.667 algo-1:27 INFO hook.py:591] name:distilbert.transformer.layer.0.ffn.lin2.weight count_params:2359296\u001b[0m\n",
      "\u001b[34m[2022-02-24 17:19:59.667 algo-1:27 INFO hook.py:591] name:distilbert.transformer.layer.0.ffn.lin2.bias count_params:768\u001b[0m\n",
      "\u001b[34m[2022-02-24 17:19:59.667 algo-1:27 INFO hook.py:591] name:distilbert.transformer.layer.0.output_layer_norm.weight count_params:768\u001b[0m\n",
      "\u001b[34m[2022-02-24 17:19:59.668 algo-1:27 INFO hook.py:591] name:distilbert.transformer.layer.0.output_layer_norm.bias count_params:768\u001b[0m\n",
      "\u001b[34m[2022-02-24 17:19:59.668 algo-1:27 INFO hook.py:591] name:distilbert.transformer.layer.1.attention.q_lin.weight count_params:589824\u001b[0m\n",
      "\u001b[34m[2022-02-24 17:19:59.668 algo-1:27 INFO hook.py:591] name:distilbert.transformer.layer.1.attention.q_lin.bias count_params:768\u001b[0m\n",
      "\u001b[34m[2022-02-24 17:19:59.668 algo-1:27 INFO hook.py:591] name:distilbert.transformer.layer.1.attention.k_lin.weight count_params:589824\u001b[0m\n",
      "\u001b[34m[2022-02-24 17:19:59.668 algo-1:27 INFO hook.py:591] name:distilbert.transformer.layer.1.attention.k_lin.bias count_params:768\u001b[0m\n",
      "\u001b[34m[2022-02-24 17:19:59.668 algo-1:27 INFO hook.py:591] name:distilbert.transformer.layer.1.attention.v_lin.weight count_params:589824\u001b[0m\n",
      "\u001b[34m[2022-02-24 17:19:59.669 algo-1:27 INFO hook.py:591] name:distilbert.transformer.layer.1.attention.v_lin.bias count_params:768\u001b[0m\n",
      "\u001b[34m[2022-02-24 17:19:59.669 algo-1:27 INFO hook.py:591] name:distilbert.transformer.layer.1.attention.out_lin.weight count_params:589824\u001b[0m\n",
      "\u001b[34m[2022-02-24 17:19:59.669 algo-1:27 INFO hook.py:591] name:distilbert.transformer.layer.1.attention.out_lin.bias count_params:768\u001b[0m\n",
      "\u001b[34m[2022-02-24 17:19:59.669 algo-1:27 INFO hook.py:591] name:distilbert.transformer.layer.1.sa_layer_norm.weight count_params:768\u001b[0m\n",
      "\u001b[34m[2022-02-24 17:19:59.669 algo-1:27 INFO hook.py:591] name:distilbert.transformer.layer.1.sa_layer_norm.bias count_params:768\u001b[0m\n",
      "\u001b[34m[2022-02-24 17:19:59.669 algo-1:27 INFO hook.py:591] name:distilbert.transformer.layer.1.ffn.lin1.weight count_params:2359296\u001b[0m\n",
      "\u001b[34m[2022-02-24 17:19:59.669 algo-1:27 INFO hook.py:591] name:distilbert.transformer.layer.1.ffn.lin1.bias count_params:3072\u001b[0m\n",
      "\u001b[34m[2022-02-24 17:19:59.669 algo-1:27 INFO hook.py:591] name:distilbert.transformer.layer.1.ffn.lin2.weight count_params:2359296\u001b[0m\n",
      "\u001b[34m[2022-02-24 17:19:59.669 algo-1:27 INFO hook.py:591] name:distilbert.transformer.layer.1.ffn.lin2.bias count_params:768\u001b[0m\n",
      "\u001b[34m[2022-02-24 17:19:59.670 algo-1:27 INFO hook.py:591] name:distilbert.transformer.layer.1.output_layer_norm.weight count_params:768\u001b[0m\n",
      "\u001b[34m[2022-02-24 17:19:59.670 algo-1:27 INFO hook.py:591] name:distilbert.transformer.layer.1.output_layer_norm.bias count_params:768\u001b[0m\n",
      "\u001b[34m[2022-02-24 17:19:59.670 algo-1:27 INFO hook.py:591] name:distilbert.transformer.layer.2.attention.q_lin.weight count_params:589824\u001b[0m\n",
      "\u001b[34m[2022-02-24 17:19:59.670 algo-1:27 INFO hook.py:591] name:distilbert.transformer.layer.2.attention.q_lin.bias count_params:768\u001b[0m\n",
      "\u001b[34m[2022-02-24 17:19:59.670 algo-1:27 INFO hook.py:591] name:distilbert.transformer.layer.2.attention.k_lin.weight count_params:589824\u001b[0m\n",
      "\u001b[34m[2022-02-24 17:19:59.670 algo-1:27 INFO hook.py:591] name:distilbert.transformer.layer.2.attention.k_lin.bias count_params:768\u001b[0m\n",
      "\u001b[34m[2022-02-24 17:19:59.670 algo-1:27 INFO hook.py:591] name:distilbert.transformer.layer.2.attention.v_lin.weight count_params:589824\u001b[0m\n",
      "\u001b[34m[2022-02-24 17:19:59.670 algo-1:27 INFO hook.py:591] name:distilbert.transformer.layer.2.attention.v_lin.bias count_params:768\u001b[0m\n",
      "\u001b[34m[2022-02-24 17:19:59.670 algo-1:27 INFO hook.py:591] name:distilbert.transformer.layer.2.attention.out_lin.weight count_params:589824\u001b[0m\n",
      "\u001b[34m[2022-02-24 17:19:59.671 algo-1:27 INFO hook.py:591] name:distilbert.transformer.layer.2.attention.out_lin.bias count_params:768\u001b[0m\n",
      "\u001b[34m[2022-02-24 17:19:59.671 algo-1:27 INFO hook.py:591] name:distilbert.transformer.layer.2.sa_layer_norm.weight count_params:768\u001b[0m\n",
      "\u001b[34m[2022-02-24 17:19:59.671 algo-1:27 INFO hook.py:591] name:distilbert.transformer.layer.2.sa_layer_norm.bias count_params:768\u001b[0m\n",
      "\u001b[34m[2022-02-24 17:19:59.671 algo-1:27 INFO hook.py:591] name:distilbert.transformer.layer.2.ffn.lin1.weight count_params:2359296\u001b[0m\n",
      "\u001b[34m[2022-02-24 17:19:59.671 algo-1:27 INFO hook.py:591] name:distilbert.transformer.layer.2.ffn.lin1.bias count_params:3072\u001b[0m\n",
      "\u001b[34m[2022-02-24 17:19:59.671 algo-1:27 INFO hook.py:591] name:distilbert.transformer.layer.2.ffn.lin2.weight count_params:2359296\u001b[0m\n",
      "\u001b[34m[2022-02-24 17:19:59.671 algo-1:27 INFO hook.py:591] name:distilbert.transformer.layer.2.ffn.lin2.bias count_params:768\u001b[0m\n",
      "\u001b[34m[2022-02-24 17:19:59.672 algo-1:27 INFO hook.py:591] name:distilbert.transformer.layer.2.output_layer_norm.weight count_params:768\u001b[0m\n",
      "\u001b[34m[2022-02-24 17:19:59.672 algo-1:27 INFO hook.py:591] name:distilbert.transformer.layer.2.output_layer_norm.bias count_params:768\u001b[0m\n",
      "\u001b[34m[2022-02-24 17:19:59.672 algo-1:27 INFO hook.py:591] name:distilbert.transformer.layer.3.attention.q_lin.weight count_params:589824\u001b[0m\n",
      "\u001b[34m[2022-02-24 17:19:59.672 algo-1:27 INFO hook.py:591] name:distilbert.transformer.layer.3.attention.q_lin.bias count_params:768\u001b[0m\n",
      "\u001b[34m[2022-02-24 17:19:59.672 algo-1:27 INFO hook.py:591] name:distilbert.transformer.layer.3.attention.k_lin.weight count_params:589824\u001b[0m\n",
      "\u001b[34m[2022-02-24 17:19:59.672 algo-1:27 INFO hook.py:591] name:distilbert.transformer.layer.3.attention.k_lin.bias count_params:768\u001b[0m\n",
      "\u001b[34m[2022-02-24 17:19:59.672 algo-1:27 INFO hook.py:591] name:distilbert.transformer.layer.3.attention.v_lin.weight count_params:589824\u001b[0m\n",
      "\u001b[34m[2022-02-24 17:19:59.672 algo-1:27 INFO hook.py:591] name:distilbert.transformer.layer.3.attention.v_lin.bias count_params:768\u001b[0m\n",
      "\u001b[34m[2022-02-24 17:19:59.673 algo-1:27 INFO hook.py:591] name:distilbert.transformer.layer.3.attention.out_lin.weight count_params:589824\u001b[0m\n",
      "\u001b[34m[2022-02-24 17:19:59.673 algo-1:27 INFO hook.py:591] name:distilbert.transformer.layer.3.attention.out_lin.bias count_params:768\u001b[0m\n",
      "\u001b[34m[2022-02-24 17:19:59.673 algo-1:27 INFO hook.py:591] name:distilbert.transformer.layer.3.sa_layer_norm.weight count_params:768\u001b[0m\n",
      "\u001b[34m[2022-02-24 17:19:59.673 algo-1:27 INFO hook.py:591] name:distilbert.transformer.layer.3.sa_layer_norm.bias count_params:768\u001b[0m\n",
      "\u001b[34m[2022-02-24 17:19:59.673 algo-1:27 INFO hook.py:591] name:distilbert.transformer.layer.3.ffn.lin1.weight count_params:2359296\u001b[0m\n",
      "\u001b[34m[2022-02-24 17:19:59.673 algo-1:27 INFO hook.py:591] name:distilbert.transformer.layer.3.ffn.lin1.bias count_params:3072\u001b[0m\n",
      "\u001b[34m[2022-02-24 17:19:59.673 algo-1:27 INFO hook.py:591] name:distilbert.transformer.layer.3.ffn.lin2.weight count_params:2359296\u001b[0m\n",
      "\u001b[34m[2022-02-24 17:19:59.673 algo-1:27 INFO hook.py:591] name:distilbert.transformer.layer.3.ffn.lin2.bias count_params:768\u001b[0m\n",
      "\u001b[34m[2022-02-24 17:19:59.674 algo-1:27 INFO hook.py:591] name:distilbert.transformer.layer.3.output_layer_norm.weight count_params:768\u001b[0m\n",
      "\u001b[34m[2022-02-24 17:19:59.674 algo-1:27 INFO hook.py:591] name:distilbert.transformer.layer.3.output_layer_norm.bias count_params:768\u001b[0m\n",
      "\u001b[34m[2022-02-24 17:19:59.674 algo-1:27 INFO hook.py:591] name:distilbert.transformer.layer.4.attention.q_lin.weight count_params:589824\u001b[0m\n",
      "\u001b[34m[2022-02-24 17:19:59.674 algo-1:27 INFO hook.py:591] name:distilbert.transformer.layer.4.attention.q_lin.bias count_params:768\u001b[0m\n",
      "\u001b[34m[2022-02-24 17:19:59.674 algo-1:27 INFO hook.py:591] name:distilbert.transformer.layer.4.attention.k_lin.weight count_params:589824\u001b[0m\n",
      "\u001b[34m[2022-02-24 17:19:59.674 algo-1:27 INFO hook.py:591] name:distilbert.transformer.layer.4.attention.k_lin.bias count_params:768\u001b[0m\n",
      "\u001b[34m[2022-02-24 17:19:59.675 algo-1:27 INFO hook.py:591] name:distilbert.transformer.layer.4.attention.v_lin.weight count_params:589824\u001b[0m\n",
      "\u001b[34m[2022-02-24 17:19:59.675 algo-1:27 INFO hook.py:591] name:distilbert.transformer.layer.4.attention.v_lin.bias count_params:768\u001b[0m\n",
      "\u001b[34m[2022-02-24 17:19:59.675 algo-1:27 INFO hook.py:591] name:distilbert.transformer.layer.4.attention.out_lin.weight count_params:589824\u001b[0m\n",
      "\u001b[34m[2022-02-24 17:19:59.675 algo-1:27 INFO hook.py:591] name:distilbert.transformer.layer.4.attention.out_lin.bias count_params:768\u001b[0m\n",
      "\u001b[34m[2022-02-24 17:19:59.675 algo-1:27 INFO hook.py:591] name:distilbert.transformer.layer.4.sa_layer_norm.weight count_params:768\u001b[0m\n",
      "\u001b[34m[2022-02-24 17:19:59.675 algo-1:27 INFO hook.py:591] name:distilbert.transformer.layer.4.sa_layer_norm.bias count_params:768\u001b[0m\n",
      "\u001b[34m[2022-02-24 17:19:59.676 algo-1:27 INFO hook.py:591] name:distilbert.transformer.layer.4.ffn.lin1.weight count_params:2359296\u001b[0m\n",
      "\u001b[34m[2022-02-24 17:19:59.676 algo-1:27 INFO hook.py:591] name:distilbert.transformer.layer.4.ffn.lin1.bias count_params:3072\u001b[0m\n",
      "\u001b[34m[2022-02-24 17:19:59.676 algo-1:27 INFO hook.py:591] name:distilbert.transformer.layer.4.ffn.lin2.weight count_params:2359296\u001b[0m\n",
      "\u001b[34m[2022-02-24 17:19:59.676 algo-1:27 INFO hook.py:591] name:distilbert.transformer.layer.4.ffn.lin2.bias count_params:768\u001b[0m\n",
      "\u001b[34m[2022-02-24 17:19:59.677 algo-1:27 INFO hook.py:591] name:distilbert.transformer.layer.4.output_layer_norm.weight count_params:768\u001b[0m\n",
      "\u001b[34m[2022-02-24 17:19:59.677 algo-1:27 INFO hook.py:591] name:distilbert.transformer.layer.4.output_layer_norm.bias count_params:768\u001b[0m\n",
      "\u001b[34m[2022-02-24 17:19:59.677 algo-1:27 INFO hook.py:591] name:distilbert.transformer.layer.5.attention.q_lin.weight count_params:589824\u001b[0m\n",
      "\u001b[34m[2022-02-24 17:19:59.677 algo-1:27 INFO hook.py:591] name:distilbert.transformer.layer.5.attention.q_lin.bias count_params:768\u001b[0m\n",
      "\u001b[34m[2022-02-24 17:19:59.677 algo-1:27 INFO hook.py:591] name:distilbert.transformer.layer.5.attention.k_lin.weight count_params:589824\u001b[0m\n",
      "\u001b[34m[2022-02-24 17:19:59.678 algo-1:27 INFO hook.py:591] name:distilbert.transformer.layer.5.attention.k_lin.bias count_params:768\u001b[0m\n",
      "\u001b[34m[2022-02-24 17:19:59.678 algo-1:27 INFO hook.py:591] name:distilbert.transformer.layer.5.attention.v_lin.weight count_params:589824\u001b[0m\n",
      "\u001b[34m[2022-02-24 17:19:59.678 algo-1:27 INFO hook.py:591] name:distilbert.transformer.layer.5.attention.v_lin.bias count_params:768\u001b[0m\n",
      "\u001b[34m[2022-02-24 17:19:59.678 algo-1:27 INFO hook.py:591] name:distilbert.transformer.layer.5.attention.out_lin.weight count_params:589824\u001b[0m\n",
      "\u001b[34m[2022-02-24 17:19:59.678 algo-1:27 INFO hook.py:591] name:distilbert.transformer.layer.5.attention.out_lin.bias count_params:768\u001b[0m\n",
      "\u001b[34m[2022-02-24 17:19:59.678 algo-1:27 INFO hook.py:591] name:distilbert.transformer.layer.5.sa_layer_norm.weight count_params:768\u001b[0m\n",
      "\u001b[34m[2022-02-24 17:19:59.678 algo-1:27 INFO hook.py:591] name:distilbert.transformer.layer.5.sa_layer_norm.bias count_params:768\u001b[0m\n",
      "\u001b[34m[2022-02-24 17:19:59.678 algo-1:27 INFO hook.py:591] name:distilbert.transformer.layer.5.ffn.lin1.weight count_params:2359296\u001b[0m\n",
      "\u001b[34m[2022-02-24 17:19:59.679 algo-1:27 INFO hook.py:591] name:distilbert.transformer.layer.5.ffn.lin1.bias count_params:3072\u001b[0m\n",
      "\u001b[34m[2022-02-24 17:19:59.679 algo-1:27 INFO hook.py:591] name:distilbert.transformer.layer.5.ffn.lin2.weight count_params:2359296\u001b[0m\n",
      "\u001b[34m[2022-02-24 17:19:59.679 algo-1:27 INFO hook.py:591] name:distilbert.transformer.layer.5.ffn.lin2.bias count_params:768\u001b[0m\n",
      "\u001b[34m[2022-02-24 17:19:59.679 algo-1:27 INFO hook.py:591] name:distilbert.transformer.layer.5.output_layer_norm.weight count_params:768\u001b[0m\n",
      "\u001b[34m[2022-02-24 17:19:59.679 algo-1:27 INFO hook.py:591] name:distilbert.transformer.layer.5.output_layer_norm.bias count_params:768\u001b[0m\n",
      "\u001b[34m[2022-02-24 17:19:59.679 algo-1:27 INFO hook.py:591] name:pre_classifier.weight count_params:589824\u001b[0m\n",
      "\u001b[34m[2022-02-24 17:19:59.679 algo-1:27 INFO hook.py:591] name:pre_classifier.bias count_params:768\u001b[0m\n",
      "\u001b[34m[2022-02-24 17:19:59.679 algo-1:27 INFO hook.py:591] name:classifier.weight count_params:4608\u001b[0m\n",
      "\u001b[34m[2022-02-24 17:19:59.679 algo-1:27 INFO hook.py:591] name:classifier.bias count_params:6\u001b[0m\n",
      "\u001b[34m[2022-02-24 17:19:59.680 algo-1:27 INFO hook.py:593] Total Trainable Params: 66958086\u001b[0m\n",
      "\u001b[34m[2022-02-24 17:19:59.680 algo-1:27 INFO hook.py:425] Monitoring the collections: losses\u001b[0m\n",
      "\u001b[34m[2022-02-24 17:19:59.683 algo-1:27 INFO hook.py:488] Hook is writing from the hook with pid: 27\u001b[0m\n",
      "\u001b[34m{'loss': 0.794, 'learning_rate': 5e-05, 'epoch': 1.0}\u001b[0m\n",
      "\u001b[34m{'eval_loss': 0.23592551052570343, 'eval_accuracy': 0.923, 'eval_f1': 0.922022990259748, 'eval_precision': 0.9227847496462337, 'eval_recall': 0.923, 'eval_runtime': 9.9466, 'eval_samples_per_second': 201.074, 'epoch': 1.0}\u001b[0m\n",
      "\u001b[34m{'loss': 0.1736, 'learning_rate': 2.5e-05, 'epoch': 2.0}\u001b[0m\n",
      "\u001b[34m{'eval_loss': 0.13943518698215485, 'eval_accuracy': 0.9295, 'eval_f1': 0.9300317196571112, 'eval_precision': 0.9314538289924567, 'eval_recall': 0.9295, 'eval_runtime': 9.9946, 'eval_samples_per_second': 200.108, 'epoch': 2.0}\u001b[0m\n",
      "\u001b[34m{'loss': 0.0943, 'learning_rate': 0.0, 'epoch': 3.0}\u001b[0m\n",
      "\u001b[34m{'eval_loss': 0.1399233341217041, 'eval_accuracy': 0.931, 'eval_f1': 0.9307272039035598, 'eval_precision': 0.9317548761340759, 'eval_recall': 0.931, 'eval_runtime': 9.9817, 'eval_samples_per_second': 200.367, 'epoch': 3.0}\u001b[0m\n",
      "\u001b[34m{'train_runtime': 876.6336, 'train_samples_per_second': 1.711, 'epoch': 3.0}\u001b[0m\n",
      "\u001b[34m***** Eval results *****\u001b[0m\n",
      "\u001b[34m#015Downloading:   0%|          | 0.00/483 [00:00<?, ?B/s]#015Downloading: 100%|██████████| 483/483 [00:00<00:00, 567kB/s]\u001b[0m\n",
      "\u001b[34m#015Downloading:   0%|          | 0.00/268M [00:00<?, ?B/s]#015Downloading:   2%|▏         | 4.14M/268M [00:00<00:06, 41.4MB/s]#015Downloading:   3%|▎         | 8.77M/268M [00:00<00:06, 42.8MB/s]#015Downloading:   5%|▌         | 13.6M/268M [00:00<00:05, 44.3MB/s]#015Downloading:   7%|▋         | 18.4M/268M [00:00<00:05, 45.4MB/s]#015Downloading:   9%|▊         | 23.3M/268M [00:00<00:05, 46.4MB/s]#015Downloading:  11%|█         | 28.3M/268M [00:00<00:05, 47.2MB/s]#015Downloading:  12%|█▏        | 33.3M/268M [00:00<00:04, 48.1MB/s]#015Downloading:  14%|█▍        | 38.2M/268M [00:00<00:04, 48.5MB/s]#015Downloading:  16%|█▌        | 43.1M/268M [00:00<00:04, 48.5MB/s]#015Downloading:  18%|█▊        | 47.9M/268M [00:01<00:04, 48.4MB/s]#015Downloading:  20%|█▉        | 52.9M/268M [00:01<00:04, 48.8MB/s]#015Downloading:  22%|██▏       | 57.8M/268M [00:01<00:04, 49.1MB/s]#015Downloading:  23%|██▎       | 62.9M/268M [00:01<00:04, 49.4MB/s]#015Downloading:  25%|██▌       | 67.8M/268M [00:01<00:04, 49.1MB/s]#015Downloading:  27%|██▋       | 72.8M/268M [00:01<00:03, 49.4MB/s]#015Downloading:  29%|██▉       | 77.8M/268M [00:01<00:03, 49.6MB/s]#015Downloading:  31%|███       | 82.7M/268M [00:01<00:03, 48.2MB/s]#015Downloading:  33%|███▎      | 87.5M/268M [00:01<00:03, 46.6MB/s]#015Downloading:  35%|███▍      | 92.5M/268M [00:01<00:03, 47.4MB/s]#015Downloading:  36%|███▋      | 97.5M/268M [00:02<00:03, 48.3MB/s]#015Downloading:  38%|███▊      | 103M/268M [00:02<00:03, 49.0MB/s] #015Downloading:  40%|████      | 108M/268M [00:02<00:03, 49.9MB/s]#015Downloading:  42%|████▏     | 113M/268M [00:02<00:03, 50.5MB/s]#015Downloading:  44%|████▍     | 118M/268M [00:02<00:02, 50.9MB/s]#015Downloading:  46%|████▌     | 123M/268M [00:02<00:02, 51.1MB/s]#015Downloading:  48%|████▊     | 129M/268M [00:02<00:02, 51.4MB/s]#015Downloading:  50%|████▉     | 134M/268M [00:02<00:02, 51.6MB/s]#015Downloading:  52%|█████▏    | 139M/268M [00:02<00:02, 51.6MB/s]#015Downloading:  54%|█████▍    | 144M/268M [00:02<00:02, 51.7MB/s]#015Downloading:  56%|█████▌    | 149M/268M [00:03<00:02, 51.3MB/s]#015Downloading:  58%|█████▊    | 154M/268M [00:03<00:02, 50.4MB/s]#015Downloading:  60%|█████▉    | 160M/268M [00:03<00:02, 50.6MB/s]#015Downloading:  61%|██████▏   | 165M/268M [00:03<00:02, 50.9MB/s]#015Downloading:  63%|██████▎   | 170M/268M [00:03<00:01, 50.9MB/s]#015Downloading:  65%|██████▌   | 175M/268M [00:03<00:01, 51.1MB/s]#015Downloading:  67%|██████▋   | 180M/268M [00:03<00:01, 51.0MB/s]#015Downloading:  69%|██████▉   | 185M/268M [00:03<00:01, 50.4MB/s]#015Downloading:  71%|███████   | 190M/268M [00:03<00:01, 50.9MB/s]#015Downloading:  73%|███████▎  | 196M/268M [00:03<00:01, 51.3MB/s]#015Downloading:  75%|███████▍  | 201M/268M [00:04<00:01, 51.7MB/s]#015Downloading:  77%|███████▋  | 206M/268M [00:04<00:01, 51.9MB/s]#015Downloading:  79%|███████▉  | 211M/268M [00:04<00:01, 51.9MB/s]#015Downloading:  81%|████████  | 217M/268M [00:04<00:00, 51.9MB/s]#015Downloading:  83%|████████▎ | 222M/268M [00:04<00:00, 51.9MB/s]#015Downloading:  85%|████████▍ | 227M/268M [00:04<00:00, 51.9MB/s]#015Downloading:  87%|████████▋ | 232M/268M [00:04<00:00, 52.1MB/s]#015Downloading:  89%|████████▊ | 237M/268M [00:04<00:00, 51.2MB/s]#015Downloading:  91%|█████████ | 243M/268M [00:04<00:00, 51.4MB/s]#015Downloading:  92%|█████████▏| 248M/268M [00:04<00:00, 51.5MB/s]#015Downloading:  94%|█████████▍| 253M/268M [00:05<00:00, 51.6MB/s]#015Downloading:  96%|█████████▋| 258M/268M [00:05<00:00, 50.5MB/s]#015Downloading:  98%|█████████▊| 263M/268M [00:05<00:00, 50.9MB/s]#015Downloading: 100%|██████████| 268M/268M [00:05<00:00, 50.2MB/s]\u001b[0m\n",
      "\u001b[34mSome weights of the model checkpoint at distilbert-base-uncased were not used when initializing DistilBertForSequenceClassification: ['vocab_layer_norm.bias', 'vocab_layer_norm.weight', 'vocab_transform.bias', 'vocab_projector.weight', 'vocab_projector.bias', 'vocab_transform.weight']\u001b[0m\n",
      "\u001b[34m- This IS expected if you are initializing DistilBertForSequenceClassification from the checkpoint of a model trained on another task or with another architecture (e.g. initializing a BertForSequenceClassification model from a BertForPreTraining model).\u001b[0m\n",
      "\u001b[34m- This IS NOT expected if you are initializing DistilBertForSequenceClassification from the checkpoint of a model that you expect to be exactly identical (initializing a BertForSequenceClassification model from a BertForSequenceClassification model).\u001b[0m\n",
      "\u001b[34mSome weights of DistilBertForSequenceClassification were not initialized from the model checkpoint at distilbert-base-uncased and are newly initialized: ['classifier.bias', 'pre_classifier.bias', 'pre_classifier.weight', 'classifier.weight']\u001b[0m\n",
      "\u001b[34mYou should probably TRAIN this model on a down-stream task to be able to use it for predictions and inference.\u001b[0m\n",
      "\u001b[34m#015Downloading:   0%|          | 0.00/232k [00:00<?, ?B/s]#015Downloading: 100%|██████████| 232k/232k [00:00<00:00, 33.6MB/s]\u001b[0m\n",
      "\u001b[34m#015Downloading:   0%|          | 0.00/466k [00:00<?, ?B/s]#015Downloading: 100%|██████████| 466k/466k [00:00<00:00, 42.7MB/s]\u001b[0m\n",
      "\u001b[34m#015Downloading:   0%|          | 0.00/28.0 [00:00<?, ?B/s]#015Downloading: 100%|██████████| 28.0/28.0 [00:00<00:00, 38.3kB/s]\u001b[0m\n",
      "\u001b[34m2022-02-24 17:34:47,749 sagemaker-training-toolkit INFO     Reporting training SUCCESS\u001b[0m\n",
      "\u001b[34m#015  0%|          | 0/1500 [00:00<?, ?it/s]#015  0%|          | 1/1500 [00:02<1:03:03,  2.52s/it]#015  0%|          | 2/1500 [00:03<48:17,  1.93s/it]  #015  0%|          | 3/1500 [00:03<37:54,  1.52s/it]#015  0%|          | 4/1500 [00:04<30:39,  1.23s/it]#015  0%|          | 5/1500 [00:04<25:43,  1.03s/it]#015  0%|          | 6/1500 [00:05<22:24,  1.11it/s]#015  0%|          | 7/1500 [00:05<20:03,  1.24it/s]#015  1%|          | 8/1500 [00:06<18:21,  1.35it/s]#015  1%|          | 9/1500 [00:07<17:09,  1.45it/s]#015  1%|          | 10/1500 [00:07<16:12,  1.53it/s]#015  1%|          | 11/1500 [00:08<15:40,  1.58it/s]#015  1%|          | 12/1500 [00:08<15:05,  1.64it/s]#015  1%|          | 13/1500 [00:09<14:40,  1.69it/s]#015  1%|          | 14/1500 [00:09<14:29,  1.71it/s]#015  1%|          | 15/1500 [00:10<14:24,  1.72it/s]#015  1%|          | 16/1500 [00:11<14:11,  1.74it/s]#015  1%|          | 17/1500 [00:11<14:16,  1.73it/s]#015  1%|          | 18/1500 [00:12<14:05,  1.75it/s]#015  1%|▏         | 19/1500 [00:12<13:58,  1.77it/s]#015  1%|▏         | 20/1500 [00:13<13:54,  1.77it/s]#015  1%|▏         | 21/1500 [00:13<13:51,  1.78it/s]#015  1%|▏         | 22/1500 [00:14<13:47,  1.79it/s]#015  2%|▏         | 23/1500 [00:14<13:43,  1.79it/s]#015  2%|▏         | 24/1500 [00:15<13:44,  1.79it/s]#015  2%|▏         | 25/1500 [00:16<13:44,  1.79it/s]#015  2%|▏         | 26/1500 [00:16<13:40,  1.80it/s]#015  2%|▏         | 27/1500 [00:17<13:41,  1.79it/s]#015  2%|▏         | 28/1500 [00:17<13:58,  1.76it/s]#015  2%|▏         | 29/1500 [00:18<13:54,  1.76it/s]#015  2%|▏         | 30/1500 [00:18<13:45,  1.78it/s]#015  2%|▏         | 31/1500 [00:19<13:43,  1.78it/s]#015  2%|▏         | 32/1500 [00:20<13:38,  1.79it/s]#015  2%|▏         | 33/1500 [00:20<13:34,  1.80it/s]#015  2%|▏         | 34/1500 [00:21<13:31,  1.81it/s]#015  2%|▏         | 35/1500 [00:21<13:30,  1.81it/s]#015  2%|▏         | 36/1500 [00:22<13:35,  1.79it/s]#015  2%|▏         | 37/1500 [00:22<13:35,  1.79it/s]#015  3%|▎         | 38/1500 [00:23<13:34,  1.79it/s]#015  3%|▎         | 39/1500 [00:23<13:31,  1.80it/s]#015  3%|▎         | 40/1500 [00:24<13:29,  1.80it/s]#015  3%|▎         | 41/1500 [00:25<13:28,  1.81it/s]#015  3%|▎         | 42/1500 [00:25<13:35,  1.79it/s]#015  3%|▎         | 43/1500 [00:26<13:34,  1.79it/s]#015  3%|▎         | 44/1500 [00:26<13:29,  1.80it/s]#015  3%|▎         | 45/1500 [00:27<13:27,  1.80it/s]#015  3%|▎         | 46/1500 [00:27<13:29,  1.80it/s]#015  3%|▎         | 47/1500 [00:28<13:30,  1.79it/s]#015  3%|▎         | 48/1500 [00:28<13:29,  1.79it/s]#015  3%|▎         | 49/1500 [00:29<13:30,  1.79it/s]#015  3%|▎         | 50/1500 [00:30<13:49,  1.75it/s]#015  3%|▎         | 51/1500 [00:30<13:44,  1.76it/s]#015  3%|▎         | 52/1500 [00:31<13:38,  1.77it/s]#015  4%|▎         | 53/1500 [00:31<13:34,  1.78it/s]#015  4%|▎         | 54/1500 [00:32<13:29,  1.79it/s]#015  4%|▎         | 55/1500 [00:32<13:23,  1.80it/s]#015  4%|▎         | 56/1500 [00:33<13:25,  1.79it/s]#015  4%|▍         | 57/1500 [00:33<13:22,  1.80it/s]#015  4%|▍         | 58/1500 [00:34<13:21,  1.80it/s]#015  4%|▍         | 59/1500 [00:35<13:21,  1.80it/s]#015  4%|▍         | 60/1500 [00:35<13:22,  1.79it/s]#015  4%|▍         | 61/1500 [00:36<13:20,  1.80it/s]#015  4%|▍         | 62/1500 [00:36<13:14,  1.81it/s]#015  4%|▍         | 63/1500 [00:37<13:17,  1.80it/s]#015  4%|▍         | 64/1500 [00:37<13:18,  1.80it/s]#015  4%|▍         | 65/1500 [00:38<13:15,  1.80it/s]#015  4%|▍         | 66/1500 [00:38<13:12,  1.81it/s]#015  4%|▍         | 67/1500 [00:39<13:15,  1.80it/s]#015  5%|▍         | 68/1500 [00:40<13:16,  1.80it/s]#015  5%|▍         | 69/1500 [00:40<13:15,  1.80it/s]#015  5%|▍         | 70/1500 [00:41<13:16,  1.80it/s]#015  5%|▍         | 71/1500 [00:41<13:12,  1.80it/s]#015  5%|▍         | 72/1500 [00:42<13:12,  1.80it/s]#015  5%|▍         | 73/1500 [00:42<13:13,  1.80it/s]#015  5%|▍         | 74/1500 [00:43<13:25,  1.77it/s]#015  5%|▌         | 75/1500 [00:43<13:18,  1.79it/s]#015  5%|▌         | 76/1500 [00:44<13:17,  1.78it/s]#015  5%|▌         | 77/1500 [00:45<13:11,  1.80it/s]#015  5%|▌         | 78/1500 [00:45<13:10,  1.80it/s]#015  5%|▌         | 79/1500 [00:46<13:09,  1.80it/s]#015  5%|▌         | 80/1500 [00:46<13:09,  1.80it/s]#015  5%|▌         | 81/1500 [00:47<13:12,  1.79it/s]#015  5%|▌         | 82/1500 [00:47<13:10,  1.79it/s]#015  6%|▌         | 83/1500 [00:48<13:12,  1.79it/s]#015  6%|▌         | 84/1500 [00:49<13:10,  1.79it/s]#015  6%|▌         | 85/1500 [00:49<13:06,  1.80it/s]#015  6%|▌         | 86/1500 [00:50<13:05,  1.80it/s]#015  6%|▌         | 87/1500 [00:50<13:06,  1.80it/s]#015  6%|▌         | 88/1500 [00:51<13:04,  1.80it/s]#015  6%|▌         | 89/1500 [00:51<13:03,  1.80it/s]#015  6%|▌         | 90/1500 [00:52<13:00,  1.81it/s]#015  6%|▌         | 91/1500 [00:52<13:00,  1.81it/s]#015  6%|▌         | 92/1500 [00:53<13:03,  1.80it/s]#015  6%|▌         | 93/1500 [00:54<13:03,  1.80it/s]#015  6%|▋         | 94/1500 [00:54<13:01,  1.80it/s]#015  6%|▋         | 95/1500 [00:55<12:59,  1.80it/s]#015  6%|▋         | 96/1500 [00:55<13:01,  1.80it/s]#015  6%|▋         | 97/1500 [00:56<12:58,  1.80it/s]#015  7%|▋         | 98/1500 [00:56<12:58,  1.80it/s]#015  7%|▋         | 99/1500 [00:57<12:56,  1.80it/s]#015  7%|▋         | 100/1500 [00:57<12:54,  1.81it/s]#015  7%|▋         | 101/1500 [00:58<12:55,  1.80it/s]#015  7%|▋         | 102/1500 [00:58<12:59,  1.79it/s]#015  7%|▋         | 103/1500 [00:59<12:56,  1.80it/s]#015  7%|▋         | 104/1500 [01:00<12:55,  1.80it/s]#015  7%|▋         | 105/1500 [01:00<12:53,  1.80it/s]#015  7%|▋         | 106/1500 [01:01<12:56,  1.80it/s]#015  7%|▋         | 107/1500 [01:01<13:01,  1.78it/s]#015  7%|▋         | 108/1500 [01:02<13:05,  1.77it/s]#015  7%|▋         | 109/1500 [01:02<13:17,  1.74it/s]#015  7%|▋         | 110/1500 [01:03<13:14,  1.75it/s]#015  7%|▋         | 111/1500 [01:04<13:14,  1.75it/s]#015  7%|▋         | 112/1500 [01:04<13:06,  1.76it/s]#015  8%|▊         | 113/1500 [01:05<13:13,  1.75it/s]#015  8%|▊         | 114/1500 [01:05<13:12,  1.75it/s]#015  8%|▊         | 115/1500 [01:06<13:03,  1.77it/s]#015  8%|▊         | 116/1500 [01:06<13:13,  1.74it/s]#015  8%|▊         | 117/1500 [01:07<13:08,  1.75it/s]#015  8%|▊         | 118/1500 [01:08<13:01,  1.77it/s]#015  8%|▊         | 119/1500 [01:08<12:55,  1.78it/s]#015  8%|▊         | 120/1500 [01:09<12:53,  1.79it/s]#015  8%|▊         | 121/1500 [01:09<12:52,  1.79it/s]#015  8%|▊         | 122/1500 [01:10<12:49,  1.79it/s]#015  8%|▊         | 123/1500 [01:10<12:47,  1.80it/s]#015  8%|▊         | 124/1500 [01:11<12:44,  1.80it/s]#015  8%|▊         | 125/1500 [01:11<12:40,  1.81it/s]#015  8%|▊         | 126/1500 [01:12<12:44,  1.80it/s]#015  8%|▊         | 127/1500 [01:13<12:42,  1.80it/s]#015  9%|▊         | 128/1500 [01:13<12:44,  1.79it/s]#015  9%|▊         | 129/1500 [01:14<12:43,  1.79it/s]#015  9%|▊         | 130/1500 [01:14<12:40,  1.80it/s]#015  9%|▊         | 131/1500 [01:15<12:40,  1.80it/s]#015  9%|▉         | 132/1500 [01:15<12:45,  1.79it/s]#015  9%|▉         | 133/1500 [01:16<12:42,  1.79it/s]#015  9%|▉         | 134/1500 [01:16<12:40,  1.80it/s]#015  9%|▉         | 135/1500 [01:17<12:55,  1.76it/s]#015  9%|▉         | 136/1500 [01:18<12:47,  1.78it/s]#015  9%|▉         | 137/1500 [01:18<12:43,  1.78it/s]#015  9%|▉         | 138/1500 [01:19<12:41,  1.79it/s]#015  9%|▉         | 139/1500 [01:19<12:38,  1.79it/s]#015  9%|▉         | 140/1500 [01:20<12:37,  1.80it/s]#015  9%|▉         | 141/1500 [01:20<12:35,  1.80it/s]#015  9%|▉         | 142/1500 [01:21<12:39,  1.79it/s]#015 10%|▉         | 143/1500 [01:22<12:54,  1.75it/s]#015 10%|▉         | 144/1500 [01:22<12:49,  1.76it/s]#015 10%|▉         | 145/1500 [01:23<12:44,  1.77it/s]#015 10%|▉         | 146/1500 [01:23<12:41,  1.78it/s]#015 10%|▉         | 147/1500 [01:24<12:41,  1.78it/s]#015 10%|▉         | 148/1500 [01:24<12:40,  1.78it/s]#015 10%|▉         | 149/1500 [01:25<12:40,  1.78it/s]#015 10%|█         | 150/1500 [01:25<12:39,  1.78it/s]#015 10%|█         | 151/1500 [01:26<12:35,  1.79it/s]#015 10%|█         | 152/1500 [01:27<12:36,  1.78it/s]#015 10%|█         | 153/1500 [01:27<12:35,  1.78it/s]#015 10%|█         | 154/1500 [01:28<12:36,  1.78it/s]#015 10%|█         | 155/1500 [01:28<12:37,  1.78it/s]#015 10%|█         | 156/1500 [01:29<12:35,  1.78it/s]#015 10%|█         | 157/1500 [01:29<12:36,  1.77it/s]#015 11%|█         | 158/1500 [01:30<12:33,  1.78it/s]#015 11%|█         | 159/1500 [01:31<12:27,  1.80it/s]#015 11%|█         | 160/1500 [01:31<12:25,  1.80it/s]#015 11%|█         | 161/1500 [01:32<12:22,  1.80it/s]#015 11%|█         | 162/1500 [01:32<12:24,  1.80it/s]#015 11%|█         | 163/1500 [01:33<12:26,  1.79it/s]#015 11%|█         | 164/1500 [01:33<12:27,  1.79it/s]#015 11%|█         | 165/1500 [01:34<12:29,  1.78it/s]#015 11%|█         | 166/1500 [01:34<12:27,  1.79it/s]#015 11%|█         | 167/1500 [01:35<12:24,  1.79it/s]#015 11%|█         | 168/1500 [01:36<12:22,  1.79it/s]#015 11%|█▏        | 169/1500 [01:36<12:30,  1.77it/s]#015 11%|█▏        | 170/1500 [01:37<12:33,  1.76it/s]#015 11%|█▏        | 171/1500 [01:37<12:29,  1.77it/s]#015 11%|█▏        | 172/1500 [01:38<12:27,  1.78it/s]#015 12%|█▏        | 173/1500 [01:38<12:24,  1.78it/s]#015 12%|█▏        | 174/1500 [01:39<12:23,  1.78it/s]#015 12%|█▏        | 175/1500 [01:39<12:19,  1.79it/s]#015 12%|█▏        | 176/1500 [01:40<12:18,  1.79it/s]#015 12%|█▏        | 177/1500 [01:41<12:15,  1.80it/s]#015 12%|█▏        | 178/1500 [01:41<12:15,  1.80it/s]#015 12%|█▏        | 179/1500 [01:42<12:13,  1.80it/s]#015 12%|█▏        | 180/1500 [01:42<12:11,  1.80it/s]#015 12%|█▏        | 181/1500 [01:43<12:15,  1.79it/s]#015 12%|█▏        | 182/1500 [01:43<12:13,  1.80it/s]#015 12%|█▏        | 183/1500 [01:44<12:12,  1.80it/s]#015 12%|█▏        | 184/1500 [01:44<12:07,  1.81it/s]#015 12%|█▏        | 185/1500 [01:45<12:08,  1.81it/s]#015 12%|█▏        | 186/1500 [01:46<12:08,  1.80it/s]#015 12%|█▏        | 187/1500 [01:46<12:05,  1.81it/s]#015 13%|█▎        | 188/1500 [01:47<12:02,  1.82it/s]#015 13%|█▎        | 189/1500 [01:47<12:05,  1.81it/s]#015 13%|█▎        | 190/1500 [01:48<12:08,  1.80it/s]#015 13%|█▎        | 191/1500 [01:48<12:06,  1.80it/s]#015 13%|█▎        | 192/1500 [01:49<12:05,  1.80it/s]#015 13%|█▎        | 193/1500 [01:49<12:06,  1.80it/s]#015 13%|█▎        | 194/1500 [01:50<12:02,  1.81it/s]#015 13%|█▎        | 195/1500 [01:51<12:00,  1.81it/s]#015 13%|█▎        | 196/1500 [01:51<11:57,  1.82it/s]#015 13%|█▎        | 197/1500 [01:52<11:59,  1.81it/s]#015 13%|█▎        | 198/1500 [01:52<11:57,  1.81it/s]#015 13%|█▎        | 199/1500 [01:53<12:05,  1.79it/s]#015 13%|█▎        | 200/1500 [01:53<12:00,  1.80it/s]#015 13%|█▎        | 201/1500 [01:54<11:57,  1.81it/s]#015 13%|█▎        | 202/1500 [01:54<11:56,  1.81it/s]#015 14%|█▎        | 203/1500 [01:55<11:57,  1.81it/s]#015 14%|█▎        | 204/1500 [01:56<11:58,  1.80it/s]#015 14%|█▎        | 205/1500 [01:56<11:58,  1.80it/s]#015 14%|█▎        | 206/1500 [01:57<11:59,  1.80it/s]#015 14%|█▍        | 207/1500 [01:57<11:59,  1.80it/s]#015 14%|█▍        | 208/1500 [01:58<12:00,  1.79it/s]#015 14%|█▍        | 209/1500 [01:58<11:56,  1.80it/s]#015 14%|█▍        | 210/1500 [01:59<11:54,  1.81it/s]#015 14%|█▍        | 211/1500 [01:59<11:53,  1.81it/s]#015 14%|█▍        | 212/1500 [02:00<11:55,  1.80it/s]#015 14%|█▍        | 213/1500 [02:01<11:52,  1.81it/s]#015 14%|█▍        | 214/1500 [02:01<11:53,  1.80it/s]#015 14%|█▍        | 215/1500 [02:02<11:52,  1.80it/s]#015 14%|█▍        | 216/1500 [02:02<11:53,  1.80it/s]#015 14%|█▍        | 217/1500 [02:03<12:00,  1.78it/s]#015 15%|█▍        | 218/1500 [02:03<11:58,  1.78it/s]#015 15%|█▍        | 219/1500 [02:04<11:59,  1.78it/s]#015 15%|█▍        | 220/1500 [02:04<12:00,  1.78it/s]#015 15%|█▍        | 221/1500 [02:05<12:02,  1.77it/s]#015 15%|█▍        | 222/1500 [02:06<12:04,  1.76it/s]#015 15%|█▍        | 223/1500 [02:06<12:08,  1.75it/s]#015 15%|█▍        | 224/1500 [02:07<12:16,  1.73it/s]#015 15%|█▌        | 225/1500 [02:07<12:10,  1.74it/s]#015 15%|█▌        | 226/1500 [02:08<12:02,  1.76it/s]#015 15%|█▌        | 227/1500 [02:08<12:04,  1.76it/s]#015 15%|█▌        | 228/1500 [02:09<11:59,  1.77it/s]#015 15%|█▌        | 229/1500 [02:10<11:56,  1.77it/s]#015 15%|█▌        | 230/1500 [02:10<11:53,  1.78it/s]#015 15%|█▌        | 231/1500 [02:11<11:51,  1.78it/s]#015 15%|█▌        | 232/1500 [02:11<11:50,  1.78it/s]#015 16%|█▌        | 233/1500 [02:12<11:49,  1.79it/s]#015 16%|█▌        | 234/1500 [02:12<11:44,  1.80it/s]#015 16%|█▌        | 235/1500 [02:13<11:43,  1.80it/s]#015 16%|█▌        | 236/1500 [02:13<11:41,  1.80it/s]#015 16%|█▌        | 237/1500 [02:14<11:44,  1.79it/s]#015 16%|█▌        | 238/1500 [02:15<11:40,  1.80it/s]#015 16%|█▌        | 239/1500 [02:15<11:42,  1.79it/s]#015 16%|█▌        | 240/1500 [02:16<11:40,  1.80it/s]#015 16%|█▌        | 241/1500 [02:16<11:39,  1.80it/s]#015 16%|█▌        | 242/1500 [02:17<11:36,  1.80it/s]#015 16%|█▌        | 243/1500 [02:17<11:37,  1.80it/s]#015 16%|█▋        | 244/1500 [02:18<11:33,  1.81it/s]#015 16%|█▋        | 245/1500 [02:18<11:33,  1.81it/s]#015 16%|█▋        | 246/1500 [02:19<11:33,  1.81it/s]#015 16%|█▋        | 247/1500 [02:20<11:39,  1.79it/s]#015 17%|█▋        | 248/1500 [02:20<11:43,  1.78it/s]#015 17%|█▋        | 249/1500 [02:21<11:42,  1.78it/s]#015 17%|█▋        | 250/1500 [02:21<11:37,  1.79it/s]#015 17%|█▋        | 251/1500 [02:22<11:36,  1.79it/s]#015 17%|█▋        | 252/1500 [02:22<11:33,  1.80it/s]#015 17%|█▋        | 253/1500 [02:23<11:30,  1.81it/s]#015 17%|█▋        | 254/1500 [02:24<11:37,  1.79it/s]#015 17%|█▋        | 255/1500 [02:24<11:34,  1.79it/s]#015 17%|█▋        | 256/1500 [02:25<11:33,  1.79it/s]#015 17%|█▋        | 257/1500 [02:25<11:32,  1.80it/s]#015 17%|█▋        | 258/1500 [02:26<11:33,  1.79it/s]#015 17%|█▋        | 259/1500 [02:26<11:33,  1.79it/s]#015 17%|█▋        | 260/1500 [02:27<11:32,  1.79it/s]#015 17%|█▋        | 261/1500 [02:27<11:29,  1.80it/s]#015 17%|█▋        | 262/1500 [02:28<11:42,  1.76it/s]#015 18%|█▊        | 263/1500 [02:29<11:33,  1.78it/s]#015 18%|█▊        | 264/1500 [02:29<11:27,  1.80it/s]#015 18%|█▊        | 265/1500 [02:30<11:27,  1.80it/s]#015 18%|█▊        | 266/1500 [02:30<11:26,  1.80it/s]#015 18%|█▊        | 267/1500 [02:31<11:26,  1.79it/s]#015 18%|█▊        | 268/1500 [02:31<11:26,  1.80it/s]#015 18%|█▊        | 269/1500 [02:32<11:39,  1.76it/s]#015 18%|█▊        | 270/1500 [02:32<11:31,  1.78it/s]#015 18%|█▊        | 271/1500 [02:33<11:29,  1.78it/s]#015 18%|█▊        | 272/1500 [02:34<11:24,  1.80it/s]#015 18%|█▊        | 273/1500 [02:34<11:23,  1.80it/s]#015 18%|█▊        | 274/1500 [02:35<11:20,  1.80it/s]#015 18%|█▊        | 275/1500 [02:35<11:22,  1.80it/s]#015 18%|█▊        | 276/1500 [02:36<11:21,  1.80it/s]#015 18%|█▊        | 277/1500 [02:36<11:40,  1.75it/s]#015 19%|█▊        | 278/1500 [02:37<11:51,  1.72it/s]#015 19%|█▊        | 279/1500 [02:38<11:39,  1.75it/s]#015 19%|█▊        | 280/1500 [02:38<11:31,  1.77it/s]#015 19%|█▊        | 281/1500 [02:39<11:26,  1.78it/s]#015 19%|█▉        | 282/1500 [02:39<11:21,  1.79it/s]#015 19%|█▉        | 283/1500 [02:40<11:21,  1.79it/s]#015 19%|█▉        | 284/1500 [02:40<11:18,  1.79it/s]#015 19%|█▉        | 285/1500 [02:41<11:15,  1.80it/s]#015 19%|█▉        | 286/1500 [02:41<11:16,  1.79it/s]#015 19%|█▉        | 287/1500 [02:42<11:16,  1.79it/s]#015 19%|█▉        | 288/1500 [02:43<11:12,  1.80it/s]#015 19%|█▉        | 289/1500 [02:43<11:10,  1.81it/s]#015 19%|█▉        | 290/1500 [02:44<11:11,  1.80it/s]#015 19%|█▉        | 291/1500 [02:44<11:08,  1.81it/s]#015 19%|█▉        | 292/1500 [02:45<11:06,  1.81it/s]#015 20%|█▉        | 293/1500 [02:45<11:07,  1.81it/s]#015 20%|█▉        | 294/1500 [02:46<11:06,  1.81it/s]#015 20%|█▉        | 295/1500 [02:46<11:08,  1.80it/s]#015 20%|█▉        | 296/1500 [02:47<11:06,  1.81it/s]#015 20%|█▉        | 297/1500 [02:48<11:06,  1.81it/s]#015 20%|█▉        | 298/1500 [02:48<11:16,  1.78it/s]#015 20%|█▉        | 299/1500 [02:49<11:12,  1.79it/s]#015 20%|██        | 300/1500 [02:49<11:07,  1.80it/s]#015 20%|██        | 301/1500 [02:50<11:05,  1.80it/s]#015 20%|██        | 302/1500 [02:50<11:02,  1.81it/s]#015 20%|██        | 303/1500 [02:51<11:05,  1.80it/s]#015 20%|██        | 304/1500 [02:51<11:05,  1.80it/s]#015 20%|██        | 305/1500 [02:52<11:03,  1.80it/s]#015 20%|██        | 306/1500 [02:53<11:02,\n",
      "  1.80it/s]#015 20%|██        | 307/1500 [02:53<11:02,  1.80it/s]#015 21%|██        | 308/1500 [02:54<11:01,  1.80it/s]#015 21%|██        | 309/1500 [02:54<11:00,  1.80it/s]#015 21%|██        | 310/1500 [02:55<10:58,  1.81it/s]#015 21%|██        | 311/1500 [02:55<11:02,  1.80it/s]#015 21%|██        | 312/1500 [02:56<11:00,  1.80it/s]#015 21%|██        | 313/1500 [02:56<10:59,  1.80it/s]#015 21%|██        | 314/1500 [02:57<10:58,  1.80it/s]#015 21%|██        | 315/1500 [02:58<10:58,  1.80it/s]#015 21%|██        | 316/1500 [02:58<11:12,  1.76it/s]#015 21%|██        | 317/1500 [02:59<11:08,  1.77it/s]#015 21%|██        | 318/1500 [02:59<11:05,  1.78it/s]#015 21%|██▏       | 319/1500 [03:00<11:01,  1.79it/s]#015 21%|██▏       | 320/1500 [03:00<10:59,  1.79it/s]#015 21%|██▏       | 321/1500 [03:01<10:59,  1.79it/s]#015 21%|██▏       | 322/1500 [03:01<10:56,  1.80it/s]#015 22%|██▏       | 323/1500 [03:02<11:05,  1.77it/s]#015 22%|██▏       | 324/1500 [03:03<11:02,  1.77it/s]#015 22%|██▏       | 325/1500 [03:03<10:56,  1.79it/s]#015 22%|██▏       | 326/1500 [03:04<11:07,  1.76it/s]#015 22%|██▏       | 327/1500 [03:04<11:02,  1.77it/s]#015 22%|██▏       | 328/1500 [03:05<11:11,  1.75it/s]#015 22%|██▏       | 329/1500 [03:05<11:05,  1.76it/s]#015 22%|██▏       | 330/1500 [03:06<11:08,  1.75it/s]#015 22%|██▏       | 331/1500 [03:07<11:15,  1.73it/s]#015 22%|██▏       | 332/1500 [03:07<11:08,  1.75it/s]#015 22%|██▏       | 333/1500 [03:08<10:59,  1.77it/s]#015 22%|██▏       | 334/1500 [03:08<10:56,  1.77it/s]#015 22%|██▏       | 335/1500 [03:09<10:52,  1.78it/s]#015 22%|██▏       | 336/1500 [03:09<10:52,  1.78it/s]#015 22%|██▏       | 337/1500 [03:10<10:51,  1.79it/s]#015 23%|██▎       | 338/1500 [03:11<10:56,  1.77it/s]#015 23%|██▎       | 339/1500 [03:11<10:54,  1.77it/s]#015 23%|██▎       | 340/1500 [03:12<10:51,  1.78it/s]#015 23%|██▎       | 341/1500 [03:12<10:51,  1.78it/s]#015 23%|██▎       | 342/1500 [03:13<10:50,  1.78it/s]#015 23%|██▎       | 343/1500 [03:13<10:46,  1.79it/s]#015 23%|██▎       | 344/1500 [03:14<10:45,  1.79it/s]#015 23%|██▎       | 345/1500 [03:14<10:42,  1.80it/s]#015 23%|██▎       | 346/1500 [03:15<10:38,  1.81it/s]#015 23%|██▎       | 347/1500 [03:16<10:43,  1.79it/s]#015 23%|██▎       | 348/1500 [03:16<10:39,  1.80it/s]#015 23%|██▎       | 349/1500 [03:17<10:36,  1.81it/s]#015 23%|██▎       | 350/1500 [03:17<10:37,  1.80it/s]#015 23%|██▎       | 351/1500 [03:18<10:36,  1.80it/s]#015 23%|██▎       | 352/1500 [03:18<10:34,  1.81it/s]#015 24%|██▎       | 353/1500 [03:19<10:31,  1.82it/s]#015 24%|██▎       | 354/1500 [03:19<10:30,  1.82it/s]#015 24%|██▎       | 355/1500 [03:20<10:31,  1.81it/s]#015 24%|██▎       | 356/1500 [03:21<10:32,  1.81it/s]#015 24%|██▍       | 357/1500 [03:21<10:46,  1.77it/s]#015 24%|██▍       | 358/1500 [03:22<10:42,  1.78it/s]#015 24%|██▍       | 359/1500 [03:22<10:40,  1.78it/s]#015 24%|██▍       | 360/1500 [03:23<10:41,  1.78it/s]#015 24%|██▍       | 361/1500 [03:23<10:40,  1.78it/s]#015 24%|██▍       | 362/1500 [03:24<10:37,  1.79it/s]#015 24%|██▍       | 363/1500 [03:24<10:33,  1.79it/s]#015 24%|██▍       | 364/1500 [03:25<10:32,  1.80it/s]#015 24%|██▍       | 365/1500 [03:26<10:33,  1.79it/s]#015 24%|██▍       | 366/1500 [03:26<10:33,  1.79it/s]#015 24%|██▍       | 367/1500 [03:27<10:34,  1.79it/s]#015 25%|██▍       | 368/1500 [03:27<10:31,  1.79it/s]#015 25%|██▍       | 369/1500 [03:28<10:31,  1.79it/s]#015 25%|██▍       | 370/1500 [03:28<10:31,  1.79it/s]#015 25%|██▍       | 371/1500 [03:29<10:29,  1.79it/s]#015 25%|██▍       | 372/1500 [03:29<10:27,  1.80it/s]#015 25%|██▍       | 373/1500 [03:30<10:24,  1.80it/s]#015 25%|██▍       | 374/1500 [03:31<10:25,  1.80it/s]#015 25%|██▌       | 375/1500 [03:31<10:25,  1.80it/s]#015 25%|██▌       | 376/1500 [03:32<10:27,  1.79it/s]#015 25%|██▌       | 377/1500 [03:32<10:25,  1.79it/s]#015 25%|██▌       | 378/1500 [03:33<10:29,  1.78it/s]#015 25%|██▌       | 379/1500 [03:33<10:27,  1.79it/s]#015 25%|██▌       | 380/1500 [03:34<10:26,  1.79it/s]#015 25%|██▌       | 381/1500 [03:35<10:25,  1.79it/s]#015 25%|██▌       | 382/1500 [03:35<10:27,  1.78it/s]#015 26%|██▌       | 383/1500 [03:36<10:35,  1.76it/s]#015 26%|██▌       | 384/1500 [03:36<10:30,  1.77it/s]#015 26%|██▌       | 385/1500 [03:37<10:35,  1.75it/s]#015 26%|██▌       | 386/1500 [03:37<10:32,  1.76it/s]#015 26%|██▌       | 387/1500 [03:38<10:29,  1.77it/s]#015 26%|██▌       | 388/1500 [03:38<10:21,  1.79it/s]#015 26%|██▌       | 389/1500 [03:39<10:20,  1.79it/s]#015 26%|██▌       | 390/1500 [03:40<10:17,  1.80it/s]#015 26%|██▌       | 391/1500 [03:40<10:27,  1.77it/s]#015 26%|██▌       | 392/1500 [03:41<10:23,  1.78it/s]#015 26%|██▌       | 393/1500 [03:41<10:19,  1.79it/s]#015 26%|██▋       | 394/1500 [03:42<10:16,  1.79it/s]#015 26%|██▋       | 395/1500 [03:42<10:15,  1.80it/s]#015 26%|██▋       | 396/1500 [03:43<10:12,  1.80it/s]#015 26%|██▋       | 397/1500 [03:43<10:15,  1.79it/s]#015 27%|██▋       | 398/1500 [03:44<10:13,  1.80it/s]#015 27%|██▋       | 399/1500 [03:45<10:16,  1.79it/s]#015 27%|██▋       | 400/1500 [03:45<10:12,  1.80it/s]#015 27%|██▋       | 401/1500 [03:46<10:11,  1.80it/s]#015 27%|██▋       | 402/1500 [03:46<10:16,  1.78it/s]#015 27%|██▋       | 403/1500 [03:47<10:12,  1.79it/s]#015 27%|██▋       | 404/1500 [03:47<10:13,  1.79it/s]#015 27%|██▋       | 405/1500 [03:48<10:12,  1.79it/s]#015 27%|██▋       | 406/1500 [03:49<10:12,  1.79it/s]#015 27%|██▋       | 407/1500 [03:49<10:13,  1.78it/s]#015 27%|██▋       | 408/1500 [03:50<10:10,  1.79it/s]#015 27%|██▋       | 409/1500 [03:50<10:07,  1.80it/s]#015 27%|██▋       | 410/1500 [03:51<10:06,  1.80it/s]#015 27%|██▋       | 411/1500 [03:51<10:07,  1.79it/s]#015 27%|██▋       | 412/1500 [03:52<10:04,  1.80it/s]#015 28%|██▊       | 413/1500 [03:52<10:03,  1.80it/s]#015 28%|██▊       | 414/1500 [03:53<10:11,  1.78it/s]#015 28%|██▊       | 415/1500 [03:54<10:15,  1.76it/s]#015 28%|██▊       | 416/1500 [03:54<10:11,  1.77it/s]#015 28%|██▊       | 417/1500 [03:55<10:14,  1.76it/s]#015 28%|██▊       | 418/1500 [03:55<10:10,  1.77it/s]#015 28%|██▊       | 419/1500 [03:56<10:07,  1.78it/s]#015 28%|██▊       | 420/1500 [03:56<10:05,  1.78it/s]#015 28%|██▊       | 421/1500 [03:57<10:02,  1.79it/s]#015 28%|██▊       | 422/1500 [03:57<10:01,  1.79it/s]#015 28%|██▊       | 423/1500 [03:58<10:01,  1.79it/s]#015 28%|██▊       | 424/1500 [03:59<10:10,  1.76it/s]#015 28%|██▊       | 425/1500 [03:59<10:05,  1.78it/s]#015 28%|██▊       | 426/1500 [04:00<10:02,  1.78it/s]#015 28%|██▊       | 427/1500 [04:00<10:02,  1.78it/s]#015 29%|██▊       | 428/1500 [04:01<10:05,  1.77it/s]#015 29%|██▊       | 429/1500 [04:01<10:02,  1.78it/s]#015 29%|██▊       | 430/1500 [04:02<09:59,  1.78it/s]#015 29%|██▊       | 431/1500 [04:03<10:02,  1.78it/s]#015 29%|██▉       | 432/1500 [04:03<09:58,  1.78it/s]#015 29%|██▉       | 433/1500 [04:04<09:55,  1.79it/s]#015 29%|██▉       | 434/1500 [04:04<09:53,  1.79it/s]#015 29%|██▉       | 435/1500 [04:05<09:58,  1.78it/s]#015 29%|██▉       | 436/1500 [04:05<09:55,  1.79it/s]#015 29%|██▉       | 437/1500 [04:06<10:03,  1.76it/s]#015 29%|██▉       | 438/1500 [04:07<10:06,  1.75it/s]#015 29%|██▉       | 439/1500 [04:07<10:00,  1.77it/s]#015 29%|██▉       | 440/1500 [04:08<09:56,  1.78it/s]#015 29%|██▉       | 441/1500 [04:08<09:52,  1.79it/s]#015 29%|██▉       | 442/1500 [04:09<09:50,  1.79it/s]#015 30%|██▉       | 443/1500 [04:09<09:55,  1.78it/s]#015 30%|██▉       | 444/1500 [04:10<09:51,  1.78it/s]#015 30%|██▉       | 445/1500 [04:10<09:51,  1.78it/s]#015 30%|██▉       | 446/1500 [04:11<09:51,  1.78it/s]#015 30%|██▉       | 447/1500 [04:12<09:49,  1.79it/s]#015 30%|██▉       | 448/1500 [04:12<09:53,  1.77it/s]#015 30%|██▉       | 449/1500 [04:13<09:50,  1.78it/s]#015 30%|███       | 450/1500 [04:13<09:49,  1.78it/s]#015 30%|███       | 451/1500 [04:14<09:47,  1.79it/s]#015 30%|███       | 452/1500 [04:14<09:43,  1.80it/s]#015 30%|███       | 453/1500 [04:15<09:42,  1.80it/s]#015 30%|███       | 454/1500 [04:15<09:42,  1.80it/s]#015 30%|███       | 455/1500 [04:16<09:40,  1.80it/s]#015 30%|███       | 456/1500 [04:17<09:38,  1.80it/s]#015 30%|███       | 457/1500 [04:17<09:47,  1.78it/s]#015 31%|███       | 458/1500 [04:18<09:42,  1.79it/s]#015 31%|███       | 459/1500 [04:18<09:41,  1.79it/s]#015 31%|███       | 460/1500 [04:19<09:53,  1.75it/s]#015 31%|███       | 461/1500 [04:19<09:47,  1.77it/s]#015 31%|███       | 462/1500 [04:20<09:43,  1.78it/s]#015 31%|███       | 463/1500 [04:21<09:44,  1.77it/s]#015 31%|███       | 464/1500 [04:21<09:40,  1.79it/s]#015 31%|███       | 465/1500 [04:22<09:37,  1.79it/s]#015 31%|███       | 466/1500 [04:22<09:50,  1.75it/s]#015 31%|███       | 467/1500 [04:23<09:49,  1.75it/s]#015 31%|███       | 468/1500 [04:23<09:46,  1.76it/s]#015 31%|███▏      | 469/1500 [04:24<09:41,  1.77it/s]#015 31%|███▏      | 470/1500 [04:24<09:38,  1.78it/s]#015 31%|███▏      | 471/1500 [04:25<09:40,  1.77it/s]#015 31%|███▏      | 472/1500 [04:26<09:39,  1.77it/s]#015 32%|███▏      | 473/1500 [04:26<09:35,  1.79it/s]#015 32%|███▏      | 474/1500 [04:27<09:32,  1.79it/s]#015 32%|███▏      | 475/1500 [04:27<09:32,  1.79it/s]#015 32%|███▏      | 476/1500 [04:28<09:32,  1.79it/s]#015 32%|███▏      | 477/1500 [04:28<09:35,  1.78it/s]#015 32%|███▏      | 478/1500 [04:29<09:30,  1.79it/s]#015 32%|███▏      | 479/1500 [04:30<09:27,  1.80it/s]#015 32%|███▏      | 480/1500 [04:30<09:27,  1.80it/s]#015 32%|███▏      | 481/1500 [04:31<09:29,  1.79it/s]#015 32%|███▏      | 482/1500 [04:31<09:24,  1.80it/s]#015 32%|███▏      | 483/1500 [04:32<09:27,  1.79it/s]#015 32%|███▏      | 484/1500 [04:32<09:26,  1.79it/s]#015 32%|███▏      | 485/1500 [04:33<09:25,  1.79it/s]#015 32%|███▏      | 486/1500 [04:33<09:26,  1.79it/s]#015 32%|███▏      | 487/1500 [04:34<09:22,  1.80it/s]#015 33%|███▎      | 488/1500 [04:35<09:29,  1.78it/s]#015 33%|███▎      | 489/1500 [04:35<09:26,  1.78it/s]#015 33%|███▎      | 490/1500 [04:36<09:26,  1.78it/s]#015 33%|███▎      | 491/1500 [04:36<09:23,  1.79it/s]#015 33%|███▎      | 492/1500 [04:37<09:22,  1.79it/s]#015 33%|███▎      | 493/1500 [04:37<09:20,  1.80it/s]#015 33%|███▎      | 494/1500 [04:38<09:21,  1.79it/s]#015 33%|███▎      | 495/1500 [04:38<09:19,  1.79it/s]#015 33%|███▎      | 496/1500 [04:39<09:16,  1.80it/s]#015 33%|███▎      | 497/1500 [04:40<09:15,  1.80it/s]#015 33%|███▎      | 498/1500 [04:40<09:16,  1.80it/s]#015 33%|███▎      | 499/1500 [04:41<09:13,  1.81it/s]#015 33%|███▎      | 500/1500 [04:41<09:11,  1.81it/s]#015                                                  #015#015 33%|███▎      | 500/1500 [04:41<09:11,  1.81it/s]\u001b[0m\n",
      "\u001b[34m#015  0%|          | 0/32 [00:00<?, ?it/s]#033[A\u001b[0m\n",
      "\u001b[34m#015  6%|▋         | 2/32 [00:00<00:04,  6.32it/s]#033[A\u001b[0m\n",
      "\u001b[34m#015  9%|▉         | 3/32 [00:00<00:06,  4.81it/s]#033[A\u001b[0m\n",
      "\u001b[34m#015 12%|█▎        | 4/32 [00:00<00:06,  4.16it/s]#033[A\u001b[0m\n",
      "\u001b[34m#015 16%|█▌        | 5/32 [00:01<00:07,  3.78it/s]#033[A\u001b[0m\n",
      "\u001b[34m#015 19%|█▉        | 6/32 [00:01<00:07,  3.57it/s]#033[A\u001b[0m\n",
      "\u001b[34m#015 22%|██▏       | 7/32 [00:01<00:07,  3.44it/s]#033[A\u001b[0m\n",
      "\u001b[34m#015 25%|██▌       | 8/32 [00:02<00:07,  3.35it/s]#033[A\u001b[0m\n",
      "\u001b[34m#015 28%|██▊       | 9/32 [00:02<00:07,  3.26it/s]#033[A\u001b[0m\n",
      "\u001b[34m#015 31%|███▏      | 10/32 [00:02<00:06,  3.22it/s]#033[A\u001b[0m\n",
      "\u001b[34m#015 34%|███▍      | 11/32 [00:03<00:06,  3.21it/s]#033[A\u001b[0m\n",
      "\u001b[34m#015 38%|███▊      | 12/32 [00:03<00:06,  3.20it/s]#033[A\u001b[0m\n",
      "\u001b[34m#015 41%|████      | 13/32 [00:03<00:05,  3.19it/s]#033[A\u001b[0m\n",
      "\u001b[34m#015 44%|████▍     | 14/32 [00:04<00:05,  3.18it/s]#033[A\u001b[0m\n",
      "\u001b[34m#015 47%|████▋     | 15/32 [00:04<00:05,  3.18it/s]#033[A\u001b[0m\n",
      "\u001b[34m#015 50%|█████     | 16/32 [00:04<00:05,  3.15it/s]#033[A\u001b[0m\n",
      "\u001b[34m#015 53%|█████▎    | 17/32 [00:05<00:04,  3.16it/s]#033[A\u001b[0m\n",
      "\u001b[34m#015 56%|█████▋    | 18/32 [00:05<00:04,  3.15it/s]#033[A\u001b[0m\n",
      "\u001b[34m#015 59%|█████▉    | 19/32 [00:05<00:04,  3.14it/s]#033[A\u001b[0m\n",
      "\u001b[34m#015 62%|██████▎   | 20/32 [00:06<00:03,  3.14it/s]#033[A\u001b[0m\n",
      "\u001b[34m#015 66%|██████▌   | 21/32 [00:06<00:03,  3.13it/s]#033[A\u001b[0m\n",
      "\u001b[34m#015 69%|██████▉   | 22/32 [00:06<00:03,  3.14it/s]#033[A\u001b[0m\n",
      "\u001b[34m#015 72%|███████▏  | 23/32 [00:07<00:02,  3.14it/s]#033[A\u001b[0m\n",
      "\u001b[34m#015 75%|███████▌  | 24/32 [00:07<00:02,  3.14it/s]#033[A\u001b[0m\n",
      "\u001b[34m#015 78%|███████▊  | 25/32 [00:07<00:02,  3.14it/s]#033[A\u001b[0m\n",
      "\u001b[34m#015 81%|████████▏ | 26/32 [00:07<00:01,  3.15it/s]#033[A\u001b[0m\n",
      "\u001b[34m#015 84%|████████▍ | 27/32 [00:08<00:01,  3.16it/s]#033[A\u001b[0m\n",
      "\u001b[34m#015 88%|████████▊ | 28/32 [00:08<00:01,  3.16it/s]#033[A\u001b[0m\n",
      "\u001b[34m#015 91%|█████████ | 29/32 [00:08<00:00,  3.17it/s]#033[A\u001b[0m\n",
      "\u001b[34m#015 94%|█████████▍| 30/32 [00:09<00:00,  3.16it/s]#033[A\u001b[0m\n",
      "\u001b[34m#015 97%|█████████▋| 31/32 [00:09<00:00,  3.17it/s]#033[A#015                                                  #015\u001b[0m\n",
      "\u001b[34m#015                                               #015#033[A#015 33%|███▎      | 500/1500 [04:53<09:11,  1.81it/s]\u001b[0m\n",
      "\u001b[34m#015100%|██████████| 32/32 [00:09<00:00,  3.17it/s]#033[A\u001b[0m\n",
      "\u001b[34m#015                                               #033[A#015 33%|███▎      | 501/1500 [04:54<1:09:40,  4.18s/it]#015 33%|███▎      | 502/1500 [04:54<51:32,  3.10s/it]  #015 34%|███▎      | 503/1500 [04:55<38:50,  2.34s/it]#015 34%|███▎      | 504/1500 [04:56<30:05,  1.81s/it]#015 34%|███▎      | 505/1500 [04:56<23:53,  1.44s/it]#015 34%|███▎      | 506/1500 [04:57<19:39,  1.19s/it]#015 34%|███▍      | 507/1500 [04:57<16:32,  1.00it/s]#015 34%|███▍      | 508/1500 [04:58<14:18,  1.16it/s]#015 34%|███▍      | 509/1500 [04:58<12:43,  1.30it/s]#015 34%|███▍      | 510/1500 [04:59<11:41,  1.41it/s]#015 34%|███▍      | 511/1500 [05:00<11:05,  1.49it/s]#015 34%|███▍      | 512/1500 [05:00<10:30,  1.57it/s]#015 34%|███▍      | 513/1500 [05:01<10:03,  1.63it/s]#015 34%|███▍      | 514/1500 [05:01<09:47,  1.68it/s]#015 34%|███▍      | 515/1500 [05:02<09:34,  1.71it/s]#015 34%|███▍      | 516/1500 [05:02<09:29,  1.73it/s]#015 34%|███▍      | 517/1500 [05:03<09:23,  1.74it/s]#015 35%|███▍      | 518/1500 [05:03<09:18,  1.76it/s]#015 35%|███▍      | 519/1500 [05:04<09:17,  1.76it/s]#015 35%|███▍      | 520/1500 [05:05<09:20,  1.75it/s]#015 35%|███▍      | 521/1500 [05:05<09:19,  1.75it/s]#015 35%|███▍      | 522/1500 [05:06<09:15,  1.76it/s]#015 35%|███▍      | 523/1500 [05:06<09:17,  1.75it/s]#015 35%|███▍      | 524/1500 [05:07<09:20,  1.74it/s]#015 35%|███▌      | 525/1500 [05:07<09:13,  1.76it/s]#015 35%|███▌      | 526/1500 [05:08<09:10,  1.77it/s]#015 35%|███▌      | 527/1500 [05:09<09:04,  1.79it/s]#015 35%|███▌      | 528/1500 [05:09<09:06,  1.78it/s]#015 35%|███▌      | 529/1500 [05:10<09:02,  1.79it/s]#015 35%|███▌      | 530/1500 [05:10<09:11,  1.76it/s]#015 35%|███▌      | 531/1500 [05:11<09:04,  1.78it/s]#015 35%|███▌      | 532/1500 [05:11<09:03,  1.78it/s]#015 36%|███▌      | 533/1500 [05:12<09:06,  1.77it/s]#015 36%|███▌      | 534/1500 [05:13<09:14,  1.74it/s]#015 36%|███▌      | 535/1500 [05:13<09:09,  1.76it/s]#015 36%|███▌      | 536/1500 [05:14<09:05,  1.77it/s]#015 36%|███▌      | 537/1500 [05:14<09:01,  1.78it/s]#015 36%|███▌      | 538/1500 [05:15<08:59,  1.78it/s]#015 36%|███▌      | 539/1500 [05:15<08:56,  1.79it/s]#015 36%|███▌      | 540/1500 [05:16<09:05,  1.76it/s]#015 36%|███▌      | 541/1500 [05:16<09:04,  1.76it/s]#015 36%|███▌      | 542/1500 [05:17<08:58,  1.78it/s]#015 36%|███▌      | 543/1500 [05:18<08:57,  1.78it/s]#015 36%|███▋      | 544/1500 [05:18<08:54,  1.79it/s]#015 36%|███▋      | 545/1500 [05:19<08:56,  1.78it/s]#015 36%|███▋      | 546/1500 [05:19<08:56,  1.78it/s]#015 36%|███▋      | 547/1500 [05:20<08:54,  1.78it/s]#015 37%|███▋      | 548/1500 [05:20<08:52,  1.79it/s]#015 37%|███▋      | 549/1500 [05:21<08:49,  1.80it/s]#015 37%|███▋      | 550/1500 [05:21<08:49,  1.80it/s]#015 37%|███▋      | 551/1500 [05:22<08:49,  1.79it/s]#015 37%|███▋      | 552/1500 [05:23<08:46,  1.80it/s]#015 37%|███▋      | 553/1500 [05:23<08:49,  1.79it/s]#015 37%|███▋      | 554/1500 [05:24<08:47,  1.79it/s]#015 37%|███▋      | 555/1500 [05:24<08:45,  1.80it/s]#015 37%|███▋      | 556/1500 [05:25<08:44,  1.80it/s]#015 37%|███▋      | 557/1500 [05:25<08:44,  1.80it/s]#015 37%|███▋      | 558/1500 [05:26<08:45,  1.79it/s]#015 37%|███▋      | 559/1500 [05:27<08:42,  1.80it/s]#015 37%|███▋      | 560/1500 [05:27<08:39,  1.81it/s]#015 37%|███▋      | 561/1500 [05:28<08:39,  1.81it/s]#015 37%|███▋      | 562/1500 [05:28<08:38,  1.81it/s]#015 38%|███▊      | 563/1500 [05:29<08:38,  1.81it/s]#015 38%|███▊      | 564/1500 [05:29<08:39,  1.80it/s]#015 38%|███▊      | 565/1500 [05:30<08:38,  1.80it/s]#015 38%|███▊      | 566/1500 [05:30<08:36,  1.81it/s]#015 38%|███▊      | 567/1500 [05:31<08:37,  1.80it/s]#015 38%|███▊      | 568/1500 [05:31<08:36,  1.80it/s]#015 38%|███▊      | 569/1500 [05:32<08:34,  1.81it/s]#015 38%|███▊      | 570/1500 [05:33<08:42,  1.78it/s]#015 38%|███▊      | 571/1500 [05:33<08:39,  1.79it/s]#015 38%|███▊      | 572/1500 [05:34<08:37,  1.79it/s]#015 38%|███▊      | 573/1500 [05:34<08:34,  1.80it/s]#015 38%|███▊      | 574/1500 [05:35<08:40,  1.78it/s]#015 38%|███▊      | 575/1500 [05:35<08:36,  1.79it/s]#015 38%|███▊      | 576/1500 [05:36<08:38,  1.78it/s]#015 38%|███▊      | 577/1500 [05:37<08:35,  1.79it/s]#015 39%|███▊      | 578/1500 [05:37<08:35,  1.79it/s]#015 39%|███▊      | 579/1500 [05:38<08:33,  1.79it/s]#015 39%|███▊      | 580/1500 [05:38<08:31,  1.80it/s]#015 39%|███▊      | 581/1500 [05:39<08:29,  1.80it/s]#015 39%|███▉      | 582/1500 [05:39<08:29,  1.80it/s]#015 39%|███▉      | 583/1500 [05:40<08:30,  1.80it/s]#015 39%|███▉      | 584/1500 [05:40<08:31,  1.79it/s]#015 39%|███▉      | 585/1500 [05:41<08:28,  1.80it/s]#015 39%|███▉      | 586/1500 [05:42<08:34,  1.78it/s]#015 39%|███▉      | 587/1500 [05:42<08:30,  1.79it/s]#015 39%|███▉      | 588/1500 [05:43<08:27,  1.80it/s]#015 39%|███▉      | 589/1500 [05:43<08:27,  1.80it/s]#015 39%|███▉      | 590/1500 [05:44<08:26,  1.80it/s]#015 39%|███▉      | 591/1500 [05:44<08:27,  1.79it/s]#015 39%|███▉      | 592/1500 [05:45<08:26,  1.79it/s]#015 40%|███▉      | 593/1500 [05:45<08:23,  1.80it/s]#015 40%|███▉      | 594/1500 [05:46<08:22,  1.80it/s]#015 40%|███▉      | 595/1500 [05:47<08:22,  1.80it/s]#015 40%|███▉      | 596/1500 [05:47<08:22,  1.80it/s]#015 40%|███▉      | 597/1500 [05:48<08:20,  1.80it/s]#015 40%|███▉      | 598/1500 [05:48<08:19,  1.81it/s]#015 40%|███▉      | 599/1500 [05:49<08:20,  1.80it/s]#015 40%|████      | 600/1500 [05:49<08:21,  1.79it/s]#015 40%|████      | 601/1500 [05:50<08:18,  1.80it/s]#015 40%|████      | 602/1500 [05:50<08:16,  1.81it/s]#015 40%|████      | 603/1500 [05:51<08:14,  1.81it/s]#015 40%|████      | 604/1500 [05:52<08:16,  1.80it/s]#015 40%|████      | 605/1500 [05:52<08:13,  1.81it/s]#015 40%|████      | 606/1500 [05:53<08:11,  1.82it/s]#015 40%|████      | 607/1500 [05:53<08:12,  1.81it/s]#015 41%|████      | 608/1500 [05:54<08:12,  1.81it/s]#015 41%|████      | 609/1500 [05:54<08:11,  1.81it/s]#015 41%|████      | 610/1500 [05:55<08:11,  1.81it/s]#015 41%|████      | 611/1500 [05:55<08:13,  1.80it/s]#015 41%|████      | 612/1500 [05:56<08:12,  1.80it/s]#015 41%|████      | 613/1500 [05:56<08:11,  1.80it/s]#015 41%|████      | 614/1500 [05:57<08:10,  1.81it/s]#015 41%|████      | 615/1500 [05:58<08:11,  1.80it/s]#015 41%|████      | 616/1500 [05:58<08:11,  1.80it/s]#015 41%|████      | 617/1500 [05:59<08:11,  1.80it/s]#015 41%|████      | 618/1500 [05:59<08:06,  1.81it/s]#015 41%|████▏     | 619/1500 [06:00<08:07,  1.81it/s]#015 41%|████▏     | 620/1500 [06:00<08:09,  1.80it/s]#015 41%|████▏     | 621/1500 [06:01<08:11,  1.79it/s]#015 41%|████▏     | 622/1500 [06:02<08:10,  1.79it/s]#015 42%|████▏     | 623/1500 [06:02<08:10,  1.79it/s]#015 42%|████▏     | 624/1500 [06:03<08:09,  1.79it/s]#015 42%|████▏     | 625/1500 [06:03<08:12,  1.78it/s]#015 42%|████▏     | 626/1500 [06:04<08:11,  1.78it/s]#015 42%|████▏     | 627/1500 [06:04<08:13,  1.77it/s]#015 42%|████▏     | 628/1500 [06:05<08:13,  1.77it/s]#015 42%|████▏     | 629/1500 [06:05<08:15,  1.76it/s]#015 42%|████▏     | 630/1500 [06:06<08:11,  1.77it/s]#015 42%|████▏     | 631/1500 [06:07<08:09,  1.78it/s]#015 42%|████▏     | 632/1500 [06:07<08:02,  1.80it/s]#015 42%|████▏     | 633/1500 [06:08<08:01,  1.80it/s]#015 42%|████▏     | 634/1500 [06:08<08:02,  1.79it/s]#015 42%|████▏     | 635/1500 [06:09<07:57,  1.81it/s]#015 42%|████▏     | 636/1500 [06:09<07:58,  1.81it/s]#015 42%|████▏     | 637/1500 [06:10<08:00,  1.79it/s]#015 43%|████▎     | 638/1500 [06:10<08:01,  1.79it/s]#015 43%|████▎     | 639/1500 [06:11<07:59,  1.80it/s]#015 43%|████▎     | 640/1500 [06:12<07:57,  1.80it/s]#015 43%|████▎     | 641/1500 [06:12<07:56,  1.80it/s]#015 43%|████▎     | 642/1500 [06:13<07:56,  1.80it/s]#015 43%|████▎     | 643/1500 [06:13<07:58,  1.79it/s]#015 43%|████▎     | 644/1500 [06:14<07:56,  1.80it/s]#015 43%|████▎     | 645/1500 [06:14<07:59,  1.78it/s]#015 43%|████▎     | 646/1500 [06:15<08:04,  1.76it/s]#015 43%|████▎     | 647/1500 [06:16<08:00,  1.77it/s]#015 43%|████▎     | 648/1500 [06:16<07:59,  1.78it/s]#015 43%|████▎     | 649/1500 [06:17<07:57,  1.78it/s]#015 43%|████▎     | 650/1500 [06:17<07:52,  1.80it/s]#015 43%|████▎     | 651/1500 [06:18<07:52,  1.80it/s]#015 43%|████▎     | 652/1500 [06:18<07:52,  1.80it/s]#015 44%|████▎     | 653/1500 [06:19<07:52,  1.79it/s]#015 44%|████▎     | 654/1500 [06:19<07:53,  1.79it/s]#015 44%|████▎     | 655/1500 [06:20<07:53,  1.78it/s]#015 44%|████▎     | 656/1500 [06:21<07:51,  1.79it/s]#015 44%|████▍     | 657/1500 [06:21<08:03,  1.74it/s]#015 44%|████▍     | 658/1500 [06:22<07:56,  1.77it/s]#015 44%|████▍     | 659/1500 [06:22<07:53,  1.78it/s]#015 44%|████▍     | 660/1500 [06:23<07:52,  1.78it/s]#015 44%|████▍     | 661/1500 [06:23<08:02,  1.74it/s]#015 44%|████▍     | 662/1500 [06:24<07:51,  1.78it/s]#015 44%|████▍     | 663/1500 [06:24<07:48,  1.79it/s]#015 44%|████▍     | 664/1500 [06:25<07:44,  1.80it/s]#015 44%|████▍     | 665/1500 [06:26<07:43,  1.80it/s]#015 44%|████▍     | 666/1500 [06:26<07:41,  1.81it/s]#015 44%|████▍     | 667/1500 [06:27<07:42,  1.80it/s]#015 45%|████▍     | 668/1500 [06:27<07:41,  1.80it/s]#015 45%|████▍     | 669/1500 [06:28<07:45,  1.78it/s]#015 45%|████▍     | 670/1500 [06:28<07:44,  1.79it/s]#015 45%|████▍     | 671/1500 [06:29<07:43,  1.79it/s]#015 45%|████▍     | 672/1500 [06:29<07:36,  1.81it/s]#015 45%|████▍     | 673/1500 [06:30<07:46,  1.77it/s]#015 45%|████▍     | 674/1500 [06:31<07:49,  1.76it/s]#015 45%|████▌     | 675/1500 [06:31<07:45,  1.77it/s]#015 45%|████▌     | 676/1500 [06:32<07:41,  1.79it/s]#015 45%|████▌     | 677/1500 [06:32<07:40,  1.79it/s]#015 45%|████▌     | 678/1500 [06:33<07:39,  1.79it/s]#015 45%|████▌     | 679/1500 [06:33<07:40,  1.78it/s]#015 45%|████▌     | 680/1500 [06:34<07:38,  1.79it/s]#015 45%|████▌     | 681/1500 [06:35<07:35,  1.80it/s]#015 45%|████▌     | 682/1500 [06:35<07:36,  1.79it/s]#015 46%|████▌     | 683/1500 [06:36<07:35,  1.79it/s]#015 46%|████▌     | 684/1500 [06:36<07:32,  1.80it/s]#015 46%|████▌     | 685/1500 [06:37<07:32,  1.80it/s]#015 46%|████▌     | 686/1500 [06:37<07:44,  1.75it/s]#015 46%|████▌     | 687/1500 [06:38<07:42,  1.76it/s]#015 46%|████▌     | 688/1500 [06:39<07:44,  1.75it/s]#015 46%|████▌     | 689/1500 [06:39<07:40,  1.76it/s]#015 46%|████▌     | 690/1500 [06:40<07:36,  1.77it/s]#015 46%|████▌     | 691/1500 [06:40<07:34,  1.78it/s]#015 46%|████▌     | 692/1500 [06:41<07:32,  1.78it/s]#015 46%|████▌     | 693/1500 [06:41<07:32,  1.78it/s]#015 46%|████▋     | 694/1500 [06:42<07:31,  1.79it/s]#015 46%|████▋     | 695/1500 [06:42<07:29,  1.79it/s]#015 46%|████▋     | 696/1500 [06:43<07:33,  1.77it/s]#015 46%|████▋     | 697/1500 [06:44<07:31,  1.78it/s]#015 47%|████▋     | 698/1500 [06:44<07:29,  1.78it/s]#015 47%|████▋     | 699/1500 [06:45<07:31,  1.77it/s]#015 47%|████▋     | 700/1500 [06:45<07:29,  1.78it/s]#015 47%|████▋     | 701/1500 [06:46<07:27,  1.79it/s]#015 47%|████▋     | 702/1500 [06:46<07:25,  1.79it/s]#015 47%|████▋     | 703/1500 [06:47<07:25,  1.79it/s]#015 47%|████▋     | 704/1500 [06:47<07:24,  1.79it/s]#015 47%|████▋     | 705/1500 [06:48<07:22,  1.79it/s]#015 47%|████▋     | 706/1500 [06:49<07:20,  1.80it/s]#015 47%|████▋     | 707/1500 [06:49<07:18,  1.81it/s]#015 47%|████▋     | 708/1500 [06:50<07:17,  1.81it/s]#015 47%|████▋     | 709/1500 [06:50<07:17,  1.81it/s]#015 47%|████▋     | 710/1500 [06:51<07:18,  1.80it/s]#015 47%|████▋     | 711/1500 [06:51<07:29,  1.76it/s]#015 47%|████▋     | 712/1500 [06:52<07:25,  1.77it/s]#015 48%|████▊     | 713/1500 [06:52<07:22,  1.78it/s]#015 48%|████▊     | 714/1500 [06:53<07:21,  1.78it/s]#015 48%|████▊     | 715/1500 [06:54<07:20,  1.78it/s]#015 48%|████▊     | 716/1500 [06:54<07:18,  1.79it/s]#015 48%|████▊     | 717/1500 [06:55<07:16,  1.79it/s]#015 48%|████▊     | 718/1500 [06:55<07:15,  1.79it/s]#015 48%|████▊     | 719/1500 [06:56<07:16,  1.79it/s]#015 48%|████▊     | 720/1500 [06:56<07:13,  1.80it/s]#015 48%|████▊     | 721/1500 [06:57<07:13,  1.80it/s]#015 48%|████▊     | 722/1500 [06:58<07:14,  1.79it/s]#015 48%|████▊     | 723/1500 [06:58<07:12,  1.79it/s]#015 48%|████▊     | 724/1500 [06:59<07:12,  1.79it/s]#015 48%|████▊     | 725/1500 [06:59<07:11,  1.79it/s]#015 48%|████▊     | 726/1500 [07:00<07:07,  1.81it/s]#015 48%|████▊     | 727/1500 [07:00<07:09,  1.80it/s]#015 49%|████▊     | 728/1500 [07:01<07:08,  1.80it/s]#015 49%|████▊     | 729/1500 [07:01<07:08,  1.80it/s]#015 49%|████▊     | 730/1500 [07:02<07:08,  1.80it/s]#015 49%|████▊     | 731/1500 [07:03<07:14,  1.77it/s]#015 49%|████▉     | 732/1500 [07:03<07:13,  1.77it/s]#015 49%|████▉     | 733/1500 [07:04<07:09,  1.79it/s]#015 49%|████▉     | 734/1500 [07:04<07:10,  1.78it/s]#015 49%|████▉     | 735/1500 [07:05<07:12,  1.77it/s]#015 49%|████▉     | 736/1500 [07:05<07:10,  1.78it/s]#015 49%|████▉     | 737/1500 [07:06<07:11,  1.77it/s]#015 49%|████▉     | 738/1500 [07:07<07:20,  1.73it/s]#015 49%|████▉     | 739/1500 [07:07<07:16,  1.74it/s]#015 49%|████▉     | 740/1500 [07:08<07:11,  1.76it/s]#015 49%|████▉     | 741/1500 [07:08<07:09,  1.77it/s]#015 49%|████▉     | 742/1500 [07:09<07:06,  1.78it/s]#015 50%|████▉     | 743/1500 [07:09<07:04,  1.78it/s]#015 50%|████▉     | 744/1500 [07:10<07:01,  1.79it/s]#015 50%|████▉     | 745/1500 [07:10<06:58,  1.81it/s]#015 50%|████▉     | 746/1500 [07:11<06:57,  1.80it/s]#015 50%|████▉     | 747/1500 [07:12<06:57,  1.80it/s]#015 50%|████▉     | 748/1500 [07:12<06:58,  1.80it/s]#015 50%|████▉     | 749/1500 [07:13<06:56,  1.80it/s]#015 50%|█████     | 750/1500 [07:13<06:55,  1.80it/s]#015 50%|█████     | 751/1500 [07:14<06:55,  1.80it/s]#015 50%|█████     | 752/1500 [07:14<06:54,  1.80it/s]#015 50%|█████     | 753/1500 [07:15<06:56,  1.79it/s]#015 50%|█████     | 754/1500 [07:15<06:53,  1.80it/s]#015 50%|█████     | 755/1500 [07:16<06:56,  1.79it/s]#015 50%|█████     | 756/1500 [07:17<06:54,  1.80it/s]#015 50%|█████     | 757/1500 [07:17<06:51,  1.81it/s]#015 51%|█████     | 758/1500 [07:18<06:50,  1.81it/s]#015 51%|█████     | 759/1500 [07:18<06:50,  1.81it/s]#015 51%|█████     | 760/1500 [07:19<06:50,  1.80it/s]#015 51%|█████     | 761/1500 [07:19<06:58,  1.77it/s]#015 51%|█████     | 762/1500 [07:20<06:54,  1.78it/s]#015 51%|█████     | 763/1500 [07:20<06:51,  1.79it/s]#015 51%|█████     | 764/1500 [07:21<06:49,  1.80it/s]#015 51%|█████     | 765/1500 [07:22<06:48,  1.80it/s]#015 51%|█████     | 766/1500 [07:22<06:47,  1.80it/s]#015 51%|█████     | 767/1500 [07:23<06:48,  1.79it/s]#015 51%|█████     | 768/1500 [07:23<06:48,  1.79it/s]#015 51%|█████▏    | 769/1500 [07:24<06:47,  1.79it/s]#015 51%|█████▏    | 770/1500 [07:24<06:47,  1.79it/s]#015 51%|█████▏    | 771/1500 [07:25<06:49,  1.78it/s]#015 51%|█████▏    \u001b[0m\n",
      "\u001b[34m| 772/1500 [07:25<06:49,  1.78it/s]#015 52%|█████▏    | 773/1500 [07:26<06:49,  1.78it/s]#015 52%|█████▏    | 774/1500 [07:27<06:46,  1.79it/s]#015 52%|█████▏    | 775/1500 [07:27<06:45,  1.79it/s]#015 52%|█████▏    | 776/1500 [07:28<06:44,  1.79it/s]#015 52%|█████▏    | 777/1500 [07:28<06:44,  1.79it/s]#015 52%|█████▏    | 778/1500 [07:29<06:42,  1.80it/s]#015 52%|█████▏    | 779/1500 [07:29<06:42,  1.79it/s]#015 52%|█████▏    | 780/1500 [07:30<06:41,  1.79it/s]#015 52%|█████▏    | 781/1500 [07:31<06:47,  1.77it/s]#015 52%|█████▏    | 782/1500 [07:31<06:44,  1.78it/s]#015 52%|█████▏    | 783/1500 [07:32<06:42,  1.78it/s]#015 52%|█████▏    | 784/1500 [07:32<06:42,  1.78it/s]#015 52%|█████▏    | 785/1500 [07:33<06:41,  1.78it/s]#015 52%|█████▏    | 786/1500 [07:33<06:41,  1.78it/s]#015 52%|█████▏    | 787/1500 [07:34<06:37,  1.79it/s]#015 53%|█████▎    | 788/1500 [07:34<06:34,  1.80it/s]#015 53%|█████▎    | 789/1500 [07:35<06:35,  1.80it/s]#015 53%|█████▎    | 790/1500 [07:36<06:46,  1.75it/s]#015 53%|█████▎    | 791/1500 [07:36<06:42,  1.76it/s]#015 53%|█████▎    | 792/1500 [07:37<06:42,  1.76it/s]#015 53%|█████▎    | 793/1500 [07:37<06:49,  1.73it/s]#015 53%|█████▎    | 794/1500 [07:38<06:43,  1.75it/s]#015 53%|█████▎    | 795/1500 [07:38<06:39,  1.77it/s]#015 53%|█████▎    | 796/1500 [07:39<06:38,  1.77it/s]#015 53%|█████▎    | 797/1500 [07:40<06:35,  1.78it/s]#015 53%|█████▎    | 798/1500 [07:40<06:45,  1.73it/s]#015 53%|█████▎    | 799/1500 [07:41<06:40,  1.75it/s]#015 53%|█████▎    | 800/1500 [07:41<06:35,  1.77it/s]#015 53%|█████▎    | 801/1500 [07:42<06:34,  1.77it/s]#015 53%|█████▎    | 802/1500 [07:42<06:31,  1.78it/s]#015 54%|█████▎    | 803/1500 [07:43<06:30,  1.79it/s]#015 54%|█████▎    | 804/1500 [07:43<06:27,  1.79it/s]#015 54%|█████▎    | 805/1500 [07:44<06:27,  1.79it/s]#015 54%|█████▎    | 806/1500 [07:45<06:29,  1.78it/s]#015 54%|█████▍    | 807/1500 [07:45<06:27,  1.79it/s]#015 54%|█████▍    | 808/1500 [07:46<06:25,  1.80it/s]#015 54%|█████▍    | 809/1500 [07:46<06:24,  1.80it/s]#015 54%|█████▍    | 810/1500 [07:47<06:23,  1.80it/s]#015 54%|█████▍    | 811/1500 [07:47<06:22,  1.80it/s]#015 54%|█████▍    | 812/1500 [07:48<06:20,  1.81it/s]#015 54%|█████▍    | 813/1500 [07:48<06:20,  1.81it/s]#015 54%|█████▍    | 814/1500 [07:49<06:18,  1.81it/s]#015 54%|█████▍    | 815/1500 [07:50<06:19,  1.80it/s]#015 54%|█████▍    | 816/1500 [07:50<06:20,  1.80it/s]#015 54%|█████▍    | 817/1500 [07:51<06:19,  1.80it/s]#015 55%|█████▍    | 818/1500 [07:51<06:23,  1.78it/s]#015 55%|█████▍    | 819/1500 [07:52<06:21,  1.78it/s]#015 55%|█████▍    | 820/1500 [07:52<06:19,  1.79it/s]#015 55%|█████▍    | 821/1500 [07:53<06:20,  1.79it/s]#015 55%|█████▍    | 822/1500 [07:54<06:16,  1.80it/s]#015 55%|█████▍    | 823/1500 [07:54<06:16,  1.80it/s]#015 55%|█████▍    | 824/1500 [07:55<06:15,  1.80it/s]#015 55%|█████▌    | 825/1500 [07:55<06:14,  1.80it/s]#015 55%|█████▌    | 826/1500 [07:56<06:12,  1.81it/s]#015 55%|█████▌    | 827/1500 [07:56<06:11,  1.81it/s]#015 55%|█████▌    | 828/1500 [07:57<06:12,  1.81it/s]#015 55%|█████▌    | 829/1500 [07:57<06:12,  1.80it/s]#015 55%|█████▌    | 830/1500 [07:58<06:12,  1.80it/s]#015 55%|█████▌    | 831/1500 [07:58<06:12,  1.80it/s]#015 55%|█████▌    | 832/1500 [07:59<06:12,  1.79it/s]#015 56%|█████▌    | 833/1500 [08:00<06:10,  1.80it/s]#015 56%|█████▌    | 834/1500 [08:00<06:13,  1.78it/s]#015 56%|█████▌    | 835/1500 [08:01<06:10,  1.79it/s]#015 56%|█████▌    | 836/1500 [08:01<06:10,  1.79it/s]#015 56%|█████▌    | 837/1500 [08:02<06:10,  1.79it/s]#015 56%|█████▌    | 838/1500 [08:02<06:11,  1.78it/s]#015 56%|█████▌    | 839/1500 [08:03<06:08,  1.79it/s]#015 56%|█████▌    | 840/1500 [08:04<06:07,  1.80it/s]#015 56%|█████▌    | 841/1500 [08:04<06:08,  1.79it/s]#015 56%|█████▌    | 842/1500 [08:05<06:09,  1.78it/s]#015 56%|█████▌    | 843/1500 [08:05<06:07,  1.79it/s]#015 56%|█████▋    | 844/1500 [08:06<06:07,  1.79it/s]#015 56%|█████▋    | 845/1500 [08:06<06:10,  1.77it/s]#015 56%|█████▋    | 846/1500 [08:07<06:09,  1.77it/s]#015 56%|█████▋    | 847/1500 [08:07<06:07,  1.78it/s]#015 57%|█████▋    | 848/1500 [08:08<06:05,  1.79it/s]#015 57%|█████▋    | 849/1500 [08:09<06:05,  1.78it/s]#015 57%|█████▋    | 850/1500 [08:09<06:01,  1.80it/s]#015 57%|█████▋    | 851/1500 [08:10<06:00,  1.80it/s]#015 57%|█████▋    | 852/1500 [08:10<05:59,  1.80it/s]#015 57%|█████▋    | 853/1500 [08:11<05:58,  1.80it/s]#015 57%|█████▋    | 854/1500 [08:11<05:56,  1.81it/s]#015 57%|█████▋    | 855/1500 [08:12<05:55,  1.81it/s]#015 57%|█████▋    | 856/1500 [08:12<05:55,  1.81it/s]#015 57%|█████▋    | 857/1500 [08:13<05:54,  1.81it/s]#015 57%|█████▋    | 858/1500 [08:14<05:54,  1.81it/s]#015 57%|█████▋    | 859/1500 [08:14<06:03,  1.76it/s]#015 57%|█████▋    | 860/1500 [08:15<06:09,  1.73it/s]#015 57%|█████▋    | 861/1500 [08:15<06:04,  1.75it/s]#015 57%|█████▋    | 862/1500 [08:16<06:00,  1.77it/s]#015 58%|█████▊    | 863/1500 [08:16<05:58,  1.77it/s]#015 58%|█████▊    | 864/1500 [08:17<05:56,  1.79it/s]#015 58%|█████▊    | 865/1500 [08:18<05:54,  1.79it/s]#015 58%|█████▊    | 866/1500 [08:18<05:52,  1.80it/s]#015 58%|█████▊    | 867/1500 [08:19<05:51,  1.80it/s]#015 58%|█████▊    | 868/1500 [08:19<05:49,  1.81it/s]#015 58%|█████▊    | 869/1500 [08:20<05:48,  1.81it/s]#015 58%|█████▊    | 870/1500 [08:20<05:49,  1.80it/s]#015 58%|█████▊    | 871/1500 [08:21<05:49,  1.80it/s]#015 58%|█████▊    | 872/1500 [08:21<05:50,  1.79it/s]#015 58%|█████▊    | 873/1500 [08:22<05:49,  1.79it/s]#015 58%|█████▊    | 874/1500 [08:23<05:49,  1.79it/s]#015 58%|█████▊    | 875/1500 [08:23<05:48,  1.79it/s]#015 58%|█████▊    | 876/1500 [08:24<05:49,  1.79it/s]#015 58%|█████▊    | 877/1500 [08:24<05:48,  1.79it/s]#015 59%|█████▊    | 878/1500 [08:25<05:45,  1.80it/s]#015 59%|█████▊    | 879/1500 [08:25<05:52,  1.76it/s]#015 59%|█████▊    | 880/1500 [08:26<05:49,  1.78it/s]#015 59%|█████▊    | 881/1500 [08:26<05:46,  1.78it/s]#015 59%|█████▉    | 882/1500 [08:27<05:44,  1.79it/s]#015 59%|█████▉    | 883/1500 [08:28<05:44,  1.79it/s]#015 59%|█████▉    | 884/1500 [08:28<05:43,  1.79it/s]#015 59%|█████▉    | 885/1500 [08:29<05:43,  1.79it/s]#015 59%|█████▉    | 886/1500 [08:29<05:43,  1.79it/s]#015 59%|█████▉    | 887/1500 [08:30<05:41,  1.79it/s]#015 59%|█████▉    | 888/1500 [08:30<05:38,  1.81it/s]#015 59%|█████▉    | 889/1500 [08:31<05:40,  1.80it/s]#015 59%|█████▉    | 890/1500 [08:31<05:38,  1.80it/s]#015 59%|█████▉    | 891/1500 [08:32<05:38,  1.80it/s]#015 59%|█████▉    | 892/1500 [08:33<05:39,  1.79it/s]#015 60%|█████▉    | 893/1500 [08:33<05:38,  1.79it/s]#015 60%|█████▉    | 894/1500 [08:34<05:37,  1.80it/s]#015 60%|█████▉    | 895/1500 [08:34<05:35,  1.81it/s]#015 60%|█████▉    | 896/1500 [08:35<05:33,  1.81it/s]#015 60%|█████▉    | 897/1500 [08:35<05:30,  1.82it/s]#015 60%|█████▉    | 898/1500 [08:36<05:29,  1.82it/s]#015 60%|█████▉    | 899/1500 [08:36<05:32,  1.81it/s]#015 60%|██████    | 900/1500 [08:37<05:33,  1.80it/s]#015 60%|██████    | 901/1500 [08:38<05:33,  1.80it/s]#015 60%|██████    | 902/1500 [08:38<05:32,  1.80it/s]#015 60%|██████    | 903/1500 [08:39<05:32,  1.80it/s]#015 60%|██████    | 904/1500 [08:39<05:34,  1.78it/s]#015 60%|██████    | 905/1500 [08:40<05:31,  1.79it/s]#015 60%|██████    | 906/1500 [08:40<05:32,  1.79it/s]#015 60%|██████    | 907/1500 [08:41<05:31,  1.79it/s]#015 61%|██████    | 908/1500 [08:41<05:31,  1.78it/s]#015 61%|██████    | 909/1500 [08:42<05:29,  1.79it/s]#015 61%|██████    | 910/1500 [08:43<05:28,  1.80it/s]#015 61%|██████    | 911/1500 [08:43<05:30,  1.78it/s]#015 61%|██████    | 912/1500 [08:44<05:28,  1.79it/s]#015 61%|██████    | 913/1500 [08:44<05:27,  1.79it/s]#015 61%|██████    | 914/1500 [08:45<05:27,  1.79it/s]#015 61%|██████    | 915/1500 [08:45<05:24,  1.80it/s]#015 61%|██████    | 916/1500 [08:46<05:24,  1.80it/s]#015 61%|██████    | 917/1500 [08:46<05:22,  1.80it/s]#015 61%|██████    | 918/1500 [08:47<05:23,  1.80it/s]#015 61%|██████▏   | 919/1500 [08:48<05:26,  1.78it/s]#015 61%|██████▏   | 920/1500 [08:48<05:23,  1.79it/s]#015 61%|██████▏   | 921/1500 [08:49<05:22,  1.80it/s]#015 61%|██████▏   | 922/1500 [08:49<05:22,  1.79it/s]#015 62%|██████▏   | 923/1500 [08:50<05:23,  1.78it/s]#015 62%|██████▏   | 924/1500 [08:50<05:21,  1.79it/s]#015 62%|██████▏   | 925/1500 [08:51<05:21,  1.79it/s]#015 62%|██████▏   | 926/1500 [08:52<05:23,  1.77it/s]#015 62%|██████▏   | 927/1500 [08:52<05:22,  1.78it/s]#015 62%|██████▏   | 928/1500 [08:53<05:21,  1.78it/s]#015 62%|██████▏   | 929/1500 [08:53<05:18,  1.79it/s]#015 62%|██████▏   | 930/1500 [08:54<05:17,  1.80it/s]#015 62%|██████▏   | 931/1500 [08:54<05:17,  1.79it/s]#015 62%|██████▏   | 932/1500 [08:55<05:21,  1.77it/s]#015 62%|██████▏   | 933/1500 [08:55<05:18,  1.78it/s]#015 62%|██████▏   | 934/1500 [08:56<05:16,  1.79it/s]#015 62%|██████▏   | 935/1500 [08:57<05:16,  1.78it/s]#015 62%|██████▏   | 936/1500 [08:57<05:15,  1.79it/s]#015 62%|██████▏   | 937/1500 [08:58<05:11,  1.81it/s]#015 63%|██████▎   | 938/1500 [08:58<05:09,  1.81it/s]#015 63%|██████▎   | 939/1500 [08:59<05:10,  1.81it/s]#015 63%|██████▎   | 940/1500 [08:59<05:11,  1.80it/s]#015 63%|██████▎   | 941/1500 [09:00<05:10,  1.80it/s]#015 63%|██████▎   | 942/1500 [09:00<05:08,  1.81it/s]#015 63%|██████▎   | 943/1500 [09:01<05:08,  1.81it/s]#015 63%|██████▎   | 944/1500 [09:02<05:06,  1.82it/s]#015 63%|██████▎   | 945/1500 [09:02<05:10,  1.78it/s]#015 63%|██████▎   | 946/1500 [09:03<05:09,  1.79it/s]#015 63%|██████▎   | 947/1500 [09:03<05:14,  1.76it/s]#015 63%|██████▎   | 948/1500 [09:04<05:12,  1.77it/s]#015 63%|██████▎   | 949/1500 [09:04<05:12,  1.76it/s]#015 63%|██████▎   | 950/1500 [09:05<05:13,  1.75it/s]#015 63%|██████▎   | 951/1500 [09:06<05:11,  1.76it/s]#015 63%|██████▎   | 952/1500 [09:06<05:15,  1.74it/s]#015 64%|██████▎   | 953/1500 [09:07<05:16,  1.73it/s]#015 64%|██████▎   | 954/1500 [09:07<05:11,  1.75it/s]#015 64%|██████▎   | 955/1500 [09:08<05:07,  1.77it/s]#015 64%|██████▎   | 956/1500 [09:08<05:07,  1.77it/s]#015 64%|██████▍   | 957/1500 [09:09<05:04,  1.78it/s]#015 64%|██████▍   | 958/1500 [09:09<05:05,  1.77it/s]#015 64%|██████▍   | 959/1500 [09:10<05:05,  1.77it/s]#015 64%|██████▍   | 960/1500 [09:11<05:02,  1.78it/s]#015 64%|██████▍   | 961/1500 [09:11<05:01,  1.79it/s]#015 64%|██████▍   | 962/1500 [09:12<05:00,  1.79it/s]#015 64%|██████▍   | 963/1500 [09:12<05:03,  1.77it/s]#015 64%|██████▍   | 964/1500 [09:13<05:02,  1.77it/s]#015 64%|██████▍   | 965/1500 [09:13<05:05,  1.75it/s]#015 64%|██████▍   | 966/1500 [09:14<05:02,  1.76it/s]#015 64%|██████▍   | 967/1500 [09:15<04:59,  1.78it/s]#015 65%|██████▍   | 968/1500 [09:15<04:57,  1.79it/s]#015 65%|██████▍   | 969/1500 [09:16<04:57,  1.79it/s]#015 65%|██████▍   | 970/1500 [09:16<04:56,  1.79it/s]#015 65%|██████▍   | 971/1500 [09:17<05:04,  1.74it/s]#015 65%|██████▍   | 972/1500 [09:17<05:00,  1.76it/s]#015 65%|██████▍   | 973/1500 [09:18<05:01,  1.75it/s]#015 65%|██████▍   | 974/1500 [09:19<04:58,  1.76it/s]#015 65%|██████▌   | 975/1500 [09:19<04:53,  1.79it/s]#015 65%|██████▌   | 976/1500 [09:20<04:51,  1.80it/s]#015 65%|██████▌   | 977/1500 [09:20<04:49,  1.81it/s]#015 65%|██████▌   | 978/1500 [09:21<04:48,  1.81it/s]#015 65%|██████▌   | 979/1500 [09:21<04:48,  1.81it/s]#015 65%|██████▌   | 980/1500 [09:22<04:48,  1.80it/s]#015 65%|██████▌   | 981/1500 [09:22<04:48,  1.80it/s]#015 65%|██████▌   | 982/1500 [09:23<04:46,  1.81it/s]#015 66%|██████▌   | 983/1500 [09:24<04:46,  1.80it/s]#015 66%|██████▌   | 984/1500 [09:24<04:45,  1.80it/s]#015 66%|██████▌   | 985/1500 [09:25<04:45,  1.81it/s]#015 66%|██████▌   | 986/1500 [09:25<04:44,  1.81it/s]#015 66%|██████▌   | 987/1500 [09:26<04:41,  1.82it/s]#015 66%|██████▌   | 988/1500 [09:26<04:42,  1.81it/s]#015 66%|██████▌   | 989/1500 [09:27<04:44,  1.80it/s]#015 66%|██████▌   | 990/1500 [09:27<04:48,  1.77it/s]#015 66%|██████▌   | 991/1500 [09:28<04:46,  1.78it/s]#015 66%|██████▌   | 992/1500 [09:29<04:45,  1.78it/s]#015 66%|██████▌   | 993/1500 [09:29<04:44,  1.78it/s]#015 66%|██████▋   | 994/1500 [09:30<04:42,  1.79it/s]#015 66%|██████▋   | 995/1500 [09:30<04:43,  1.78it/s]#015 66%|██████▋   | 996/1500 [09:31<04:40,  1.80it/s]#015 66%|██████▋   | 997/1500 [09:31<04:39,  1.80it/s]#015 67%|██████▋   | 998/1500 [09:32<04:37,  1.81it/s]#015 67%|██████▋   | 999/1500 [09:32<04:35,  1.82it/s]#015 67%|██████▋   | 1000/1500 [09:33<04:35,  1.81it/s]#015                                                   #015#015 67%|██████▋   | 1000/1500 [09:33<04:35,  1.81it/s]\u001b[0m\n",
      "\u001b[34m#015  0%|          | 0/32 [00:00<?, ?it/s]#033[A\u001b[0m\n",
      "\u001b[34m#015  6%|▋         | 2/32 [00:00<00:04,  6.35it/s]#033[A\u001b[0m\n",
      "\u001b[34m#015  9%|▉         | 3/32 [00:00<00:06,  4.83it/s]#033[A\u001b[0m\n",
      "\u001b[34m#015 12%|█▎        | 4/32 [00:00<00:06,  4.06it/s]#033[A\u001b[0m\n",
      "\u001b[34m#015 16%|█▌        | 5/32 [00:01<00:07,  3.71it/s]#033[A\u001b[0m\n",
      "\u001b[34m#015 19%|█▉        | 6/32 [00:01<00:07,  3.53it/s]#033[A\u001b[0m\n",
      "\u001b[34m#015 22%|██▏       | 7/32 [00:01<00:07,  3.41it/s]#033[A\u001b[0m\n",
      "\u001b[34m#015 25%|██▌       | 8/32 [00:02<00:07,  3.30it/s]#033[A\u001b[0m\n",
      "\u001b[34m#015 28%|██▊       | 9/32 [00:02<00:07,  3.26it/s]#033[A\u001b[0m\n",
      "\u001b[34m#015 31%|███▏      | 10/32 [00:02<00:06,  3.23it/s]#033[A\u001b[0m\n",
      "\u001b[34m#015 34%|███▍      | 11/32 [00:03<00:06,  3.21it/s]#033[A\u001b[0m\n",
      "\u001b[34m#015 38%|███▊      | 12/32 [00:03<00:06,  3.20it/s]#033[A\u001b[0m\n",
      "\u001b[34m#015 41%|████      | 13/32 [00:03<00:05,  3.19it/s]#033[A\u001b[0m\n",
      "\u001b[34m#015 44%|████▍     | 14/32 [00:04<00:05,  3.17it/s]#033[A\u001b[0m\n",
      "\u001b[34m#015 47%|████▋     | 15/32 [00:04<00:05,  3.17it/s]#033[A\u001b[0m\n",
      "\u001b[34m#015 50%|█████     | 16/32 [00:04<00:05,  3.16it/s]#033[A\u001b[0m\n",
      "\u001b[34m#015 53%|█████▎    | 17/32 [00:05<00:04,  3.15it/s]#033[A\u001b[0m\n",
      "\u001b[34m#015 56%|█████▋    | 18/32 [00:05<00:04,  3.13it/s]#033[A\u001b[0m\n",
      "\u001b[34m#015 59%|█████▉    | 19/32 [00:05<00:04,  3.14it/s]#033[A\u001b[0m\n",
      "\u001b[34m#015 62%|██████▎   | 20/32 [00:06<00:03,  3.14it/s]#033[A\u001b[0m\n",
      "\u001b[34m#015 66%|██████▌   | 21/32 [00:06<00:03,  3.13it/s]#033[A\u001b[0m\n",
      "\u001b[34m#015 69%|██████▉   | 22/32 [00:06<00:03,  3.14it/s]#033[A\u001b[0m\n",
      "\u001b[34m#015 72%|███████▏  | 23/32 [00:07<00:02,  3.15it/s]#033[A\u001b[0m\n",
      "\u001b[34m#015 75%|███████▌  | 24/32 [00:07<00:02,  3.14it/s]#033[A\u001b[0m\n",
      "\u001b[34m#015 78%|███████▊  | 25/32 [00:07<00:02,  3.14it/s]#033[A\u001b[0m\n",
      "\u001b[34m#015 81%|████████▏ | 26/32 [00:07<00:01,  3.14it/s]#033[A\u001b[0m\n",
      "\u001b[34m#015 84%|████████▍ | 27/32 [00:08<00:01,  3.12it/s]#033[A\u001b[0m\n",
      "\u001b[34m#015 88%|████████▊ | 28/32 [00:08<00:01,  3.11it/s]#033[A\u001b[0m\n",
      "\u001b[34m#015 91%|█████████ | 29/32 [00:08<00:00,  3.12it/s]#033[A\u001b[0m\n",
      "\u001b[34m#015 94%|█████████▍| 30/32 [00:09<00:00,  3.12it/s]#033[A\u001b[0m\n",
      "\u001b[34m#015 97%|█████████▋| 31/32 [00:09<00:00,  3.13it/s]#033[A#015                                                   #015\u001b[0m\n",
      "\u001b[34m#015                                               #015#033[A#015 67%|██████▋   | 1000/1500 [09:45<04:35,  1.81it/s]\u001b[0m\n",
      "\u001b[34m#015100%|██████████| 32/32 [00:09<00:00,  3.13it/s]#033[A\u001b[0m\n",
      "\u001b[34m#015                                               #033[A#015 67%|██████▋   | 1001/1500 [09:46<34:40,  4.17s/it]#015 67%|██████▋   | 1002/1500 [09:46<25:35,  3.08s/it]#015 67%|██████▋   | 1003/1500 [09:47<19:16,  2.33s/it]#015 67%|██████▋   | 1004/1500 [09:47<14:49,  1.79s/it]#015 67%|██████▋   | 1005/1500 [09:48<11:46,  1.43s/it]#015 67%|██████▋   | 1006/1500 [09:48<09:34,  1.16s/it]#015 67%|██████▋   | 1007/1500 [09:49<08:01,  1.02it/s]#015 67%|██████▋   | 1008/1500 [09:49<06:58,  1.18it/s]#015 67%|██████▋   | 1009/1500 [09:50<06:18,  1.30it/s]#015 67%|██████▋   | 1010/1500 [09:51<05:44,  1.42it/s]#015 67%|██████▋   | 1011/1500 [09:51<05:22,  1.52it/s]#015 67%|██████▋   | 1012/1500 [09:52<05:05,  1.60it/s]#015 68%|██████▊   | 1013/1500 [09:52<04:55,  1.65it/s]#015 68%|██████▊   | 1014/1500 [09:53<04:50,  1.67it/s]#015 68%|██████▊   | 1015/1500 [09:53<04:41,  1.72it/s]#015 68%|██████▊   | 1016/1500 [09:54<04:34,  1.76it/s]#015 68%|██████▊   | 1017/1500 [09:54<04:31,  1.78it/s]#015 68%|██████▊   | 1018/1500 [09:55<04:30,  1.78it/s]#015 68%|██████▊   | 1019/1500 [09:56<04:28,  1.79it/s]#015 68%|██████▊   | 1020/1500 [09:56<04:27,  1.80it/s]#015 68%|██████▊   | 1021/1500 [09:57<04:26,  1.80it/s]#015 68%|██████▊   | 1022/1500 [09:57<04:23,  1.81it/s]#015 68%|██████▊   | 1023/1500 [09:58<04:24,  1.80it/s]#015 68%|██████▊   | 1024/1500 [09:58<04:24,  1.80it/s]#015 68%|██████▊   | 1025/1500 [09:59<04:23,  1.80it/s]#015 68%|██████▊   | 1026/1500 [09:59<04:23,  1.80it/s]#015 68%|██████▊   | 1027/1500 [10:00<04:21,  1.81it/s]#015 69%|██████▊   | 1028/1500 [10:01<04:21,  1.81it/s]#015 69%|██████▊   | 1029/1500 [10:01<04:26,  1.76it/s]#015 69%|██████▊   | 1030/1500 [10:02<04:30,  1.74it/s]#015 69%|██████▊   | 1031/1500 [10:02<04:26,  1.76it/s]#015 69%|██████▉   | 1032/1500 [10:03<04:24,  1.77it/s]#015 69%|██████▉   | 1033/1500 [10:03<04:23,  1.77it/s]#015 69%|██████▉   | 1034/1500 [10:04<04:22,  1.78it/s]#015 69%|██████▉   | 1035/1500 [10:05<04:23,  1.76it/s]#015 69%|██████▉   | 1036/1500 [10:05<04:23,  1.76it/s]#015 69%|██████▉   | 1037/1500 [10:06<04:22,  1.77it/s]#015 69%|██████▉   | 1038/1500 [10:06<04:23,  1.75it/s]#015 69%|██████▉   | 1039/1500 [10:07<04:20,  1.77it/s]#015 69%|██████▉   | 1040/1500 [10:07<04:17,  1.78it/s]#015 69%|██████▉   | 1041/1500 [10:08<04:16,  1.79it/s]#015 69%|██████▉   | 1042/1500 [10:08<04:13,  1.80it/s]#015 70%|██████▉   | 1043/1500 [10:09<04:16,  1.78it/s]#015 70%|██████▉   | 1044/1500 [10:10<04:14,  1.79it/s]#015 70%|██████▉   | 1045/1500 [10:10<04:13,  1.80it/s]#015 70%|██████▉   | 1046/1500 [10:11<04:13,  1.79it/s]#015 70%|██████▉   | 1047/1500 [10:11<04:11,  1.80it/s]#015 70%|██████▉   | 1048/1500 [10:12<04:08,  1.82it/s]#015 70%|██████▉   | 1049/1500 [10:12<04:08,  1.81it/s]#015 70%|███████   | 1050/1500 [10:13<04:07,  1.81it/s]#015 70%|███████   | 1051/1500 [10:13<04:07,  1.82it/s]#015 70%|███████   | 1052/1500 [10:14<04:08,  1.80it/s]#015 70%|███████   | 1053/1500 [10:15<04:07,  1.81it/s]#015 70%|███████   | 1054/1500 [10:15<04:05,  1.82it/s]#015 70%|███████   | 1055/1500 [10:16<04:05,  1.81it/s]#015 70%|███████   | 1056/1500 [10:16<04:05,  1.81it/s]#015 70%|███████   | 1057/1500 [10:17<04:05,  1.80it/s]#015 71%|███████   | 1058/1500 [10:17<04:07,  1.79it/s]#015 71%|███████   | 1059/1500 [10:18<04:06,  1.79it/s]#015 71%|███████   | 1060/1500 [10:18<04:06,  1.78it/s]#015 71%|███████   | 1061/1500 [10:19<04:06,  1.78it/s]#015 71%|███████   | 1062/1500 [10:20<04:07,  1.77it/s]#015 71%|███████   | 1063/1500 [10:20<04:09,  1.75it/s]#015 71%|███████   | 1064/1500 [10:21<04:11,  1.73it/s]#015 71%|███████   | 1065/1500 [10:21<04:09,  1.74it/s]#015 71%|███████   | 1066/1500 [10:22<04:11,  1.73it/s]#015 71%|███████   | 1067/1500 [10:22<04:07,  1.75it/s]#015 71%|███████   | 1068/1500 [10:23<04:04,  1.76it/s]#015 71%|███████▏  | 1069/1500 [10:24<04:05,  1.76it/s]#015 71%|███████▏  | 1070/1500 [10:24<04:00,  1.79it/s]#015 71%|███████▏  | 1071/1500 [10:25<03:59,  1.79it/s]#015 71%|███████▏  | 1072/1500 [10:25<03:58,  1.80it/s]#015 72%|███████▏  | 1073/1500 [10:26<03:57,  1.80it/s]#015 72%|███████▏  | 1074/1500 [10:26<03:57,  1.80it/s]#015 72%|███████▏  | 1075/1500 [10:27<03:56,  1.80it/s]#015 72%|███████▏  | 1076/1500 [10:27<03:55,  1.80it/s]#015 72%|███████▏  | 1077/1500 [10:28<03:55,  1.80it/s]#015 72%|███████▏  | 1078/1500 [10:29<03:53,  1.80it/s]#015 72%|███████▏  | 1079/1500 [10:29<03:53,  1.80it/s]#015 72%|███████▏  | 1080/1500 [10:30<03:55,  1.79it/s]#015 72%|███████▏  | 1081/1500 [10:30<03:54,  1.79it/s]#015 72%|███████▏  | 1082/1500 [10:31<03:51,  1.81it/s]#015 72%|███████▏  | 1083/1500 [10:31<03:51,  1.80it/s]#015 72%|███████▏  | 1084/1500 [10:32<03:50,  1.80it/s]#015 72%|███████▏  | 1085/1500 [10:32<03:50,  1.80it/s]#015 72%|███████▏  | 1086/1500 [10:33<03:49,  1.81it/s]#015 72%|███████▏  | 1087/1500 [10:34<03:48,  1.81it/s]#015 73%|███████▎  | 1088/1500 [10:34<03:47,  1.81it/s]#015 73%|███████▎  | 1089/1500 [10:35<03:47,  1.81it/s]#015 73%|███████▎  | 1090/1500 [10:35<03:46,  1.81it/s]#015 73%|███████▎  | 1091/1500 [10:36<03:46,  1.81it/s]#015 73%|███████▎  | 1092/1500 [10:36<03:46,  1.80it/s]#015 73%|███████▎  | 1093/1500 [10:37<03:48,  1.78it/s]#015 73%|███████▎  | 1094/1500 [10:37<03:48,  1.78it/s]#015 73%|███████▎  | 1095/1500 [10:38<03:46,  1.79it/s]#015 73%|███████▎  | 1096/1500 [10:39<03:45,  1.79it/s]#015 73%|███████▎  | 1097/1500 [10:39<03:44,  1.79it/s]#015 73%|███████▎  | 1098/1500 [10:40<03:47,  1.77it/s]#015 73%|███████▎  | 1099/1500 [10:40<03:45,  1.78it/s]#015 73%|███████▎  | 1100/1500 [10:41<03:43,  1.79it/s]#015 73%|███████▎  | 1101/1500 [10:41<03:44,  1.78it/s]#015 73%|███████▎  | 1102/1500 [10:42<03:44,  1.77it/s]#015 74%|███████▎  | 1103/1500 [10:43<03:42,  1.78it/s]#015 74%|███████▎  | 1104/1500 [10:43<03:41,  1.79it/s]#015 74%|███████▎  | 1105/1500 [10:44<03:42,  1.77it/s]#015 74%|███████▎  | 1106/1500 [10:44<03:41,  1.78it/s]#015 74%|███████▍  | 1107/1500 [10:45<03:41,  1.77it/s]#015 74%|███████▍  | 1108/1500 [10:45<03:40,  1.78it/s]#015 74%|███████▍  | 1109/1500 [10:46<03:40,  1.77it/s]#015 74%|███████▍  | 1110/1500 [10:46<03:37,  1.80it/s]#015 74%|███████▍  | 1111/1500 [10:47<03:36,  1.80it/s]#015 74%|███████▍  | 1112/1500 [10:48<03:35,  1.80it/s]#015 74%|███████▍  | 1113/1500 [10:48<03:34,  1.80it/s]#015 74%|███████▍  | 1114/1500 [10:49<03:35,  1.79it/s]#015 74%|███████▍  | 1115/1500 [10:49<03:33,  1.80it/s]#015 74%|███████▍  | 1116/1500 [10:50<03:31,  1.81it/s]#015 74%|███████▍  | 1117/1500 [10:50<03:29,  1.83it/s]#015 75%|███████▍  | 1118/1500 [10:51<03:29,  1.82it/s]#015 75%|███████▍  | 1119/1500 [10:51<03:30,  1.81it/s]#015 75%|███████▍  | 1120/1500 [10:52<03:30,  1.80it/s]#015 75%|███████▍  | 1121/1500 [10:53<03:30,  1.80it/s]#015 75%|███████▍  | 1122/1500 [10:53<03:30,  1.80it/s]#015 75%|███████▍  | 1123/1500 [10:54<03:29,  1.80it/s]#015 75%|███████▍  | 1124/1500 [10:54<03:29,  1.80it/s]#015 75%|███████▌  | 1125/1500 [10:55<03:28,  1.79it/s]#015 75%|███████▌  | 1126/1500 [10:55<03:27,  1.80it/s]#015 75%|███████▌  | 1127/1500 [10:56<03:27,  1.80it/s]#015 75%|███████▌  | 1128/1500 [10:56<03:26,  1.80it/s]#015 75%|███████▌  | 1129/1500 [10:57<03:26,  1.80it/s]#015 75%|███████▌  | 1130/1500 [10:58<03:24,  1.81it/s]#015 75%|███████▌  | 1131/1500 [10:58<03:22,  1.82it/s]#015 75%|███████▌  | 1132/1500 [10:59<03:23,  1.81it/s]#015 76%|███████▌  | 1133/1500 [10:59<03:22,  1.82it/s]#015 76%|███████▌  | 1134/1500 [11:00<03:21,  1.82it/s]#015 76%|███████▌  | 1135/1500 [11:00<03:21,  1.81it/s]#015 76%|███████▌  | 1136/1500 [11:01<03:20,  1.82it/s]#015 76%|███████▌  | 1137/1500 [11:01<03:20,  1.81it/s]#015 76%|███████▌  | 1138/1500 [11:02<03:24,  1.77it/s]#015 76%|███████▌  | 1139/1500 [11:03<03:23,  1.78it/s]#015 76%|███████▌  | 1140/1500 [11:03<03:23,  1.77it/s]#015 76%|███████▌  | 1141/1500 [11:04<03:22,  1.78it/s]#015 76%|███████▌  | 1142/1500 [11:04<03:20,  1.79it/s]#015 76%|███████▌  | 1143/1500 [11:05<03:21,  1.78it/s]#015 76%|███████▋  | 1144/1500 [11:05<03:20,  1.78it/s]#015 76%|███████▋  | 1145/1500 [11:06<03:19,  1.78it/s]#015 76%|███████▋  | 1146/1500 [11:07<03:22,  1.75it/s]#015 76%|███████▋  | 1147/1500 [11:07<03:20,  1.76it/s]#015 77%|███████▋  | 1148/1500 [11:08<03:20,  1.76it/s]#015 77%|███████▋  | 1149/1500 [11:08<03:17,  1.78it/s]#015 77%|███████▋  | 1150/1500 [11:09<03:14,  1.80it/s]#015 77%|███████▋  | 1151/1500 [11:09<03:13,  1.80it/s]#015 77%|███████▋  | 1152/1500 [11:10<03:13,  1.80it/s]#015 77%|███████▋  | 1153/1500 [11:10<03:12,  1.80it/s]#015 77%|███████▋  | 1154/1500 [11:11<03:11,  1.81it/s]#015 77%|███████▋  | 1155/1500 [11:12<03:11,  1.80it/s]#015 77%|███████▋  | 1156/1500 [11:12<03:10,  1.80it/s]#015 77%|███████▋  | 1157/1500 [11:13<03:10,  1.80it/s]#015 77%|███████▋  | 1158/1500 [11:13<03:10,  1.79it/s]#015 77%|███████▋  | 1159/1500 [11:14<03:14,  1.76it/s]#015 77%|███████▋  | 1160/1500 [11:14<03:11,  1.77it/s]#015 77%|███████▋  | 1161/1500 [11:15<03:11,  1.77it/s]#015 77%|███████▋  | 1162/1500 [11:15<03:13,  1.75it/s]#015 78%|███████▊  | 1163/1500 [11:16<03:09,  1.78it/s]#015 78%|███████▊  | 1164/1500 [11:17<03:07,  1.80it/s]#015 78%|███████▊  | 1165/1500 [11:17<03:07,  1.79it/s]#015 78%|███████▊  | 1166/1500 [11:18<03:07,  1.79it/s]#015 78%|███████▊  | 1167/1500 [11:18<03:06,  1.79it/s]#015 78%|███████▊  | 1168/1500 [11:19<03:04,  1.80it/s]#015 78%|███████▊  | 1169/1500 [11:19<03:02,  1.82it/s]#015 78%|███████▊  | 1170/1500 [11:20<03:02,  1.81it/s]#015 78%|███████▊  | 1171/1500 [11:20<03:01,  1.81it/s]#015 78%|███████▊  | 1172/1500 [11:21<03:02,  1.80it/s]#015 78%|███████▊  | 1173/1500 [11:22<03:01,  1.80it/s]#015 78%|███████▊  | 1174/1500 [11:22<03:01,  1.80it/s]#015 78%|███████▊  | 1175/1500 [11:23<02:59,  1.81it/s]#015 78%|███████▊  | 1176/1500 [11:23<02:59,  1.81it/s]#015 78%|███████▊  | 1177/1500 [11:24<02:58,  1.80it/s]#015 79%|███████▊  | 1178/1500 [11:24<02:59,  1.79it/s]#015 79%|███████▊  | 1179/1500 [11:25<03:01,  1.77it/s]#015 79%|███████▊  | 1180/1500 [11:25<02:58,  1.79it/s]#015 79%|███████▊  | 1181/1500 [11:26<02:57,  1.80it/s]#015 79%|███████▉  | 1182/1500 [11:27<02:57,  1.80it/s]#015 79%|███████▉  | 1183/1500 [11:27<02:56,  1.80it/s]#015 79%|███████▉  | 1184/1500 [11:28<02:55,  1.80it/s]#015 79%|███████▉  | 1185/1500 [11:28<02:55,  1.80it/s]#015 79%|███████▉  | 1186/1500 [11:29<02:55,  1.79it/s]#015 79%|███████▉  | 1187/1500 [11:29<02:54,  1.79it/s]#015 79%|███████▉  | 1188/1500 [11:30<02:54,  1.79it/s]#015 79%|███████▉  | 1189/1500 [11:30<02:53,  1.80it/s]#015 79%|███████▉  | 1190/1500 [11:31<02:50,  1.82it/s]#015 79%|███████▉  | 1191/1500 [11:32<02:49,  1.82it/s]#015 79%|███████▉  | 1192/1500 [11:32<02:48,  1.82it/s]#015 80%|███████▉  | 1193/1500 [11:33<02:49,  1.81it/s]#015 80%|███████▉  | 1194/1500 [11:33<02:50,  1.80it/s]#015 80%|███████▉  | 1195/1500 [11:34<02:49,  1.80it/s]#015 80%|███████▉  | 1196/1500 [11:34<02:48,  1.80it/s]#015 80%|███████▉  | 1197/1500 [11:35<02:48,  1.80it/s]#015 80%|███████▉  | 1198/1500 [11:35<02:47,  1.80it/s]#015 80%|███████▉  | 1199/1500 [11:36<02:49,  1.78it/s]#015 80%|████████  | 1200/1500 [11:37<02:48,  1.78it/s]#015 80%|████████  | 1201/1500 [11:37<02:47,  1.79it/s]#015 80%|████████  | 1202/1500 [11:38<02:45,  1.80it/s]#015 80%|████████  | 1203/1500 [11:38<02:45,  1.80it/s]#015 80%|████████  | 1204/1500 [11:39<02:43,  1.81it/s]#015 80%|████████  | 1205/1500 [11:39<02:43,  1.81it/s]#015 80%|████████  | 1206/1500 [11:40<02:41,  1.82it/s]#015 80%|████████  | 1207/1500 [11:40<02:40,  1.82it/s]#015 81%|████████  | 1208/1500 [11:41<02:40,  1.82it/s]#015 81%|████████  | 1209/1500 [11:42<02:42,  1.79it/s]#015 81%|████████  | 1210/1500 [11:42<02:41,  1.79it/s]#015 81%|████████  | 1211/1500 [11:43<02:40,  1.80it/s]#015 81%|████████  | 1212/1500 [11:43<02:39,  1.80it/s]#015 81%|████████  | 1213/1500 [11:44<02:38,  1.81it/s]#015 81%|████████  | 1214/1500 [11:44<02:39,  1.80it/s]#015 81%|████████  | 1215/1500 [11:45<02:38,  1.80it/s]#015 81%|████████  | 1216/1500 [11:45<02:36,  1.81it/s]#015 81%|████████  | 1217/1500 [11:46<02:36,  1.81it/s]#015 81%|████████  | 1218/1500 [11:47<02:36,  1.81it/s]#015 81%|████████▏ | 1219/1500 [11:47<02:39,  1.76it/s]#015 81%|████████▏ | 1220/1500 [11:48<02:37,  1.78it/s]#015 81%|████████▏ | 1221/1500 [11:48<02:36,  1.79it/s]#015 81%|████████▏ | 1222/1500 [11:49<02:34,  1.80it/s]#015 82%|████████▏ | 1223/1500 [11:49<02:33,  1.80it/s]#015 82%|████████▏ | 1224/1500 [11:50<02:36,  1.77it/s]#015 82%|████████▏ | 1225/1500 [11:50<02:34,  1.78it/s]#015 82%|████████▏ | 1226/1500 [11:51<02:33,  1.79it/s]#015 82%|████████▏ | 1227/1500 [11:52<02:32,  1.80it/s]#015 82%|████████▏ | 1228/1500 [11:52<02:31,  1.79it/s]#015 82%|████████▏ | 1229/1500 [11:53<02:30,  1.80it/s]#015 82%|████████▏ | 1230/1500 [11:53<02:30,  1.80it/s]#015 82%|████████▏ | 1231/1500 [11:54<02:29,  1.80it/s]#015 82%|████████▏ | 1232/1500 [11:54<02:29,  1.80it/s]#015 82%|████████▏ | 1233/1500 [11:55<02:29,  1.79it/s]#015 82%|████████▏ | 1234/1500 [11:56<02:28,  1.79it/s]#015 82%|████████▏ | 1235/1500 [11:56<02:27,  1.79it/s]#015 82%|████████▏ | 1236/1500 [11:57<02:27,  1.79it/s]#015 82%|████████▏ | 1237/1500 [11:57<02:26,  1.80it/s]#015 83%|████████▎ | 1238/1500 [11:58<02:25,  1.80it/s]#015 83%|████████▎ | 1239/1500 [11:58<02:23,  1.81it/s]#015 83%|████████▎ | 1240/1500 [11:59<02:24,  1.80it/s]#015 83%|████████▎ | 1241/1500 [11:59<02:22,  1.82it/s]#015 83%|████████▎ |\n",
      " 1242/1500 [12:00<02:23,  1.80it/s]#015 83%|████████▎ | 1243/1500 [12:00<02:21,  1.81it/s]#015 83%|████████▎ | 1244/1500 [12:01<02:21,  1.81it/s]#015 83%|████████▎ | 1245/1500 [12:02<02:20,  1.81it/s]#015 83%|████████▎ | 1246/1500 [12:02<02:22,  1.78it/s]#015 83%|████████▎ | 1247/1500 [12:03<02:22,  1.77it/s]#015 83%|████████▎ | 1248/1500 [12:03<02:23,  1.76it/s]#015 83%|████████▎ | 1249/1500 [12:04<02:21,  1.78it/s]#015 83%|████████▎ | 1250/1500 [12:04<02:21,  1.77it/s]#015 83%|████████▎ | 1251/1500 [12:05<02:21,  1.76it/s]#015 83%|████████▎ | 1252/1500 [12:06<02:22,  1.74it/s]#015 84%|████████▎ | 1253/1500 [12:06<02:20,  1.76it/s]#015 84%|████████▎ | 1254/1500 [12:07<02:21,  1.74it/s]#015 84%|████████▎ | 1255/1500 [12:07<02:20,  1.75it/s]#015 84%|████████▎ | 1256/1500 [12:08<02:17,  1.77it/s]#015 84%|████████▍ | 1257/1500 [12:08<02:16,  1.78it/s]#015 84%|████████▍ | 1258/1500 [12:09<02:15,  1.79it/s]#015 84%|████████▍ | 1259/1500 [12:10<02:14,  1.79it/s]#015 84%|████████▍ | 1260/1500 [12:10<02:14,  1.79it/s]#015 84%|████████▍ | 1261/1500 [12:11<02:14,  1.78it/s]#015 84%|████████▍ | 1262/1500 [12:11<02:13,  1.79it/s]#015 84%|████████▍ | 1263/1500 [12:12<02:11,  1.80it/s]#015 84%|████████▍ | 1264/1500 [12:12<02:10,  1.80it/s]#015 84%|████████▍ | 1265/1500 [12:13<02:10,  1.80it/s]#015 84%|████████▍ | 1266/1500 [12:13<02:09,  1.80it/s]#015 84%|████████▍ | 1267/1500 [12:14<02:09,  1.80it/s]#015 85%|████████▍ | 1268/1500 [12:15<02:09,  1.80it/s]#015 85%|████████▍ | 1269/1500 [12:15<02:08,  1.79it/s]#015 85%|████████▍ | 1270/1500 [12:16<02:07,  1.80it/s]#015 85%|████████▍ | 1271/1500 [12:16<02:08,  1.79it/s]#015 85%|████████▍ | 1272/1500 [12:17<02:09,  1.75it/s]#015 85%|████████▍ | 1273/1500 [12:17<02:07,  1.78it/s]#015 85%|████████▍ | 1274/1500 [12:18<02:05,  1.80it/s]#015 85%|████████▌ | 1275/1500 [12:18<02:05,  1.79it/s]#015 85%|████████▌ | 1276/1500 [12:19<02:04,  1.81it/s]#015 85%|████████▌ | 1277/1500 [12:20<02:03,  1.80it/s]#015 85%|████████▌ | 1278/1500 [12:20<02:02,  1.81it/s]#015 85%|████████▌ | 1279/1500 [12:21<02:01,  1.81it/s]#015 85%|████████▌ | 1280/1500 [12:21<02:01,  1.80it/s]#015 85%|████████▌ | 1281/1500 [12:22<02:01,  1.80it/s]#015 85%|████████▌ | 1282/1500 [12:22<02:00,  1.81it/s]#015 86%|████████▌ | 1283/1500 [12:23<02:00,  1.81it/s]#015 86%|████████▌ | 1284/1500 [12:23<02:01,  1.78it/s]#015 86%|████████▌ | 1285/1500 [12:24<02:00,  1.79it/s]#015 86%|████████▌ | 1286/1500 [12:25<02:00,  1.77it/s]#015 86%|████████▌ | 1287/1500 [12:25<01:59,  1.78it/s]#015 86%|████████▌ | 1288/1500 [12:26<01:58,  1.78it/s]#015 86%|████████▌ | 1289/1500 [12:26<01:58,  1.77it/s]#015 86%|████████▌ | 1290/1500 [12:27<01:57,  1.78it/s]#015 86%|████████▌ | 1291/1500 [12:27<01:57,  1.78it/s]#015 86%|████████▌ | 1292/1500 [12:28<01:58,  1.75it/s]#015 86%|████████▌ | 1293/1500 [12:29<01:57,  1.76it/s]#015 86%|████████▋ | 1294/1500 [12:29<01:56,  1.77it/s]#015 86%|████████▋ | 1295/1500 [12:30<01:55,  1.77it/s]#015 86%|████████▋ | 1296/1500 [12:30<01:54,  1.78it/s]#015 86%|████████▋ | 1297/1500 [12:31<01:53,  1.79it/s]#015 87%|████████▋ | 1298/1500 [12:31<01:52,  1.80it/s]#015 87%|████████▋ | 1299/1500 [12:32<01:51,  1.80it/s]#015 87%|████████▋ | 1300/1500 [12:32<01:50,  1.81it/s]#015 87%|████████▋ | 1301/1500 [12:33<01:50,  1.81it/s]#015 87%|████████▋ | 1302/1500 [12:34<01:50,  1.79it/s]#015 87%|████████▋ | 1303/1500 [12:34<01:49,  1.79it/s]#015 87%|████████▋ | 1304/1500 [12:35<01:49,  1.79it/s]#015 87%|████████▋ | 1305/1500 [12:35<01:48,  1.81it/s]#015 87%|████████▋ | 1306/1500 [12:36<01:47,  1.81it/s]#015 87%|████████▋ | 1307/1500 [12:36<01:46,  1.82it/s]#015 87%|████████▋ | 1308/1500 [12:37<01:45,  1.81it/s]#015 87%|████████▋ | 1309/1500 [12:37<01:46,  1.79it/s]#015 87%|████████▋ | 1310/1500 [12:38<01:45,  1.80it/s]#015 87%|████████▋ | 1311/1500 [12:39<01:45,  1.80it/s]#015 87%|████████▋ | 1312/1500 [12:39<01:44,  1.80it/s]#015 88%|████████▊ | 1313/1500 [12:40<01:44,  1.79it/s]#015 88%|████████▊ | 1314/1500 [12:40<01:43,  1.81it/s]#015 88%|████████▊ | 1315/1500 [12:41<01:42,  1.81it/s]#015 88%|████████▊ | 1316/1500 [12:41<01:42,  1.80it/s]#015 88%|████████▊ | 1317/1500 [12:42<01:41,  1.81it/s]#015 88%|████████▊ | 1318/1500 [12:42<01:43,  1.76it/s]#015 88%|████████▊ | 1319/1500 [12:43<01:41,  1.79it/s]#015 88%|████████▊ | 1320/1500 [12:44<01:39,  1.80it/s]#015 88%|████████▊ | 1321/1500 [12:44<01:39,  1.80it/s]#015 88%|████████▊ | 1322/1500 [12:45<01:39,  1.79it/s]#015 88%|████████▊ | 1323/1500 [12:45<01:37,  1.81it/s]#015 88%|████████▊ | 1324/1500 [12:46<01:37,  1.81it/s]#015 88%|████████▊ | 1325/1500 [12:46<01:36,  1.82it/s]#015 88%|████████▊ | 1326/1500 [12:47<01:36,  1.80it/s]#015 88%|████████▊ | 1327/1500 [12:47<01:36,  1.80it/s]#015 89%|████████▊ | 1328/1500 [12:48<01:35,  1.80it/s]#015 89%|████████▊ | 1329/1500 [12:49<01:35,  1.80it/s]#015 89%|████████▊ | 1330/1500 [12:49<01:34,  1.80it/s]#015 89%|████████▊ | 1331/1500 [12:50<01:34,  1.79it/s]#015 89%|████████▉ | 1332/1500 [12:50<01:33,  1.80it/s]#015 89%|████████▉ | 1333/1500 [12:51<01:32,  1.80it/s]#015 89%|████████▉ | 1334/1500 [12:51<01:32,  1.80it/s]#015 89%|████████▉ | 1335/1500 [12:52<01:31,  1.80it/s]#015 89%|████████▉ | 1336/1500 [12:52<01:30,  1.81it/s]#015 89%|████████▉ | 1337/1500 [12:53<01:30,  1.81it/s]#015 89%|████████▉ | 1338/1500 [12:54<01:29,  1.81it/s]#015 89%|████████▉ | 1339/1500 [12:54<01:28,  1.81it/s]#015 89%|████████▉ | 1340/1500 [12:55<01:27,  1.82it/s]#015 89%|████████▉ | 1341/1500 [12:55<01:27,  1.81it/s]#015 89%|████████▉ | 1342/1500 [12:56<01:27,  1.80it/s]#015 90%|████████▉ | 1343/1500 [12:56<01:26,  1.81it/s]#015 90%|████████▉ | 1344/1500 [12:57<01:26,  1.80it/s]#015 90%|████████▉ | 1345/1500 [12:57<01:25,  1.81it/s]#015 90%|████████▉ | 1346/1500 [12:58<01:25,  1.80it/s]#015 90%|████████▉ | 1347/1500 [12:59<01:25,  1.80it/s]#015 90%|████████▉ | 1348/1500 [12:59<01:25,  1.79it/s]#015 90%|████████▉ | 1349/1500 [13:00<01:23,  1.81it/s]#015 90%|█████████ | 1350/1500 [13:00<01:24,  1.78it/s]#015 90%|█████████ | 1351/1500 [13:01<01:23,  1.79it/s]#015 90%|█████████ | 1352/1500 [13:01<01:22,  1.79it/s]#015 90%|█████████ | 1353/1500 [13:02<01:21,  1.80it/s]#015 90%|█████████ | 1354/1500 [13:02<01:22,  1.78it/s]#015 90%|█████████ | 1355/1500 [13:03<01:20,  1.79it/s]#015 90%|█████████ | 1356/1500 [13:04<01:20,  1.78it/s]#015 90%|█████████ | 1357/1500 [13:04<01:19,  1.79it/s]#015 91%|█████████ | 1358/1500 [13:05<01:19,  1.78it/s]#015 91%|█████████ | 1359/1500 [13:05<01:19,  1.78it/s]#015 91%|█████████ | 1360/1500 [13:06<01:19,  1.77it/s]#015 91%|█████████ | 1361/1500 [13:06<01:18,  1.77it/s]#015 91%|█████████ | 1362/1500 [13:07<01:18,  1.75it/s]#015 91%|█████████ | 1363/1500 [13:08<01:18,  1.76it/s]#015 91%|█████████ | 1364/1500 [13:08<01:16,  1.77it/s]#015 91%|█████████ | 1365/1500 [13:09<01:15,  1.78it/s]#015 91%|█████████ | 1366/1500 [13:09<01:15,  1.78it/s]#015 91%|█████████ | 1367/1500 [13:10<01:14,  1.79it/s]#015 91%|█████████ | 1368/1500 [13:10<01:13,  1.79it/s]#015 91%|█████████▏| 1369/1500 [13:11<01:13,  1.78it/s]#015 91%|█████████▏| 1370/1500 [13:11<01:11,  1.81it/s]#015 91%|█████████▏| 1371/1500 [13:12<01:11,  1.80it/s]#015 91%|█████████▏| 1372/1500 [13:13<01:10,  1.81it/s]#015 92%|█████████▏| 1373/1500 [13:13<01:11,  1.79it/s]#015 92%|█████████▏| 1374/1500 [13:14<01:10,  1.79it/s]#015 92%|█████████▏| 1375/1500 [13:14<01:09,  1.80it/s]#015 92%|█████████▏| 1376/1500 [13:15<01:09,  1.79it/s]#015 92%|█████████▏| 1377/1500 [13:15<01:08,  1.80it/s]#015 92%|█████████▏| 1378/1500 [13:16<01:07,  1.80it/s]#015 92%|█████████▏| 1379/1500 [13:16<01:07,  1.80it/s]#015 92%|█████████▏| 1380/1500 [13:17<01:06,  1.81it/s]#015 92%|█████████▏| 1381/1500 [13:18<01:05,  1.81it/s]#015 92%|█████████▏| 1382/1500 [13:18<01:05,  1.80it/s]#015 92%|█████████▏| 1383/1500 [13:19<01:04,  1.81it/s]#015 92%|█████████▏| 1384/1500 [13:19<01:04,  1.81it/s]#015 92%|█████████▏| 1385/1500 [13:20<01:03,  1.82it/s]#015 92%|█████████▏| 1386/1500 [13:20<01:02,  1.81it/s]#015 92%|█████████▏| 1387/1500 [13:21<01:02,  1.81it/s]#015 93%|█████████▎| 1388/1500 [13:21<01:02,  1.80it/s]#015 93%|█████████▎| 1389/1500 [13:22<01:03,  1.76it/s]#015 93%|█████████▎| 1390/1500 [13:23<01:02,  1.75it/s]#015 93%|█████████▎| 1391/1500 [13:23<01:01,  1.76it/s]#015 93%|█████████▎| 1392/1500 [13:24<01:00,  1.77it/s]#015 93%|█████████▎| 1393/1500 [13:24<01:00,  1.78it/s]#015 93%|█████████▎| 1394/1500 [13:25<00:59,  1.79it/s]#015 93%|█████████▎| 1395/1500 [13:25<00:58,  1.78it/s]#015 93%|█████████▎| 1396/1500 [13:26<00:58,  1.79it/s]#015 93%|█████████▎| 1397/1500 [13:26<00:57,  1.81it/s]#015 93%|█████████▎| 1398/1500 [13:27<00:56,  1.79it/s]#015 93%|█████████▎| 1399/1500 [13:28<00:56,  1.80it/s]#015 93%|█████████▎| 1400/1500 [13:28<00:56,  1.78it/s]#015 93%|█████████▎| 1401/1500 [13:29<00:55,  1.79it/s]#015 93%|█████████▎| 1402/1500 [13:29<00:54,  1.79it/s]#015 94%|█████████▎| 1403/1500 [13:30<00:54,  1.79it/s]#015 94%|█████████▎| 1404/1500 [13:30<00:53,  1.79it/s]#015 94%|█████████▎| 1405/1500 [13:31<00:52,  1.80it/s]#015 94%|█████████▎| 1406/1500 [13:31<00:52,  1.80it/s]#015 94%|█████████▍| 1407/1500 [13:32<00:51,  1.79it/s]#015 94%|█████████▍| 1408/1500 [13:33<00:51,  1.80it/s]#015 94%|█████████▍| 1409/1500 [13:33<00:50,  1.80it/s]#015 94%|█████████▍| 1410/1500 [13:34<00:49,  1.80it/s]#015 94%|█████████▍| 1411/1500 [13:34<00:48,  1.82it/s]#015 94%|█████████▍| 1412/1500 [13:35<00:48,  1.82it/s]#015 94%|█████████▍| 1413/1500 [13:35<00:47,  1.81it/s]#015 94%|█████████▍| 1414/1500 [13:36<00:47,  1.81it/s]#015 94%|█████████▍| 1415/1500 [13:36<00:47,  1.80it/s]#015 94%|█████████▍| 1416/1500 [13:37<00:46,  1.81it/s]#015 94%|█████████▍| 1417/1500 [13:38<00:45,  1.81it/s]#015 95%|█████████▍| 1418/1500 [13:38<00:45,  1.80it/s]#015 95%|█████████▍| 1419/1500 [13:39<00:45,  1.79it/s]#015 95%|█████████▍| 1420/1500 [13:39<00:44,  1.80it/s]#015 95%|█████████▍| 1421/1500 [13:40<00:44,  1.78it/s]#015 95%|█████████▍| 1422/1500 [13:40<00:44,  1.75it/s]#015 95%|█████████▍| 1423/1500 [13:41<00:43,  1.77it/s]#015 95%|█████████▍| 1424/1500 [13:42<00:42,  1.80it/s]#015 95%|█████████▌| 1425/1500 [13:42<00:41,  1.80it/s]#015 95%|█████████▌| 1426/1500 [13:43<00:41,  1.79it/s]#015 95%|█████████▌| 1427/1500 [13:43<00:40,  1.79it/s]#015 95%|█████████▌| 1428/1500 [13:44<00:40,  1.79it/s]#015 95%|█████████▌| 1429/1500 [13:44<00:39,  1.80it/s]#015 95%|█████████▌| 1430/1500 [13:45<00:39,  1.79it/s]#015 95%|█████████▌| 1431/1500 [13:45<00:39,  1.75it/s]#015 95%|█████████▌| 1432/1500 [13:46<00:38,  1.76it/s]#015 96%|█████████▌| 1433/1500 [13:47<00:37,  1.78it/s]#015 96%|█████████▌| 1434/1500 [13:47<00:36,  1.79it/s]#015 96%|█████████▌| 1435/1500 [13:48<00:36,  1.79it/s]#015 96%|█████████▌| 1436/1500 [13:48<00:36,  1.77it/s]#015 96%|█████████▌| 1437/1500 [13:49<00:35,  1.77it/s]#015 96%|█████████▌| 1438/1500 [13:49<00:34,  1.78it/s]#015 96%|█████████▌| 1439/1500 [13:50<00:34,  1.79it/s]#015 96%|█████████▌| 1440/1500 [13:50<00:33,  1.80it/s]#015 96%|█████████▌| 1441/1500 [13:51<00:32,  1.81it/s]#015 96%|█████████▌| 1442/1500 [13:52<00:32,  1.80it/s]#015 96%|█████████▌| 1443/1500 [13:52<00:31,  1.82it/s]#015 96%|█████████▋| 1444/1500 [13:53<00:31,  1.80it/s]#015 96%|█████████▋| 1445/1500 [13:53<00:30,  1.81it/s]#015 96%|█████████▋| 1446/1500 [13:54<00:29,  1.81it/s]#015 96%|█████████▋| 1447/1500 [13:54<00:29,  1.82it/s]#015 97%|█████████▋| 1448/1500 [13:55<00:28,  1.81it/s]#015 97%|█████████▋| 1449/1500 [13:55<00:28,  1.79it/s]#015 97%|█████████▋| 1450/1500 [13:56<00:27,  1.79it/s]#015 97%|█████████▋| 1451/1500 [13:57<00:27,  1.79it/s]#015 97%|█████████▋| 1452/1500 [13:57<00:26,  1.80it/s]#015 97%|█████████▋| 1453/1500 [13:58<00:26,  1.80it/s]#015 97%|█████████▋| 1454/1500 [13:58<00:25,  1.80it/s]#015 97%|█████████▋| 1455/1500 [13:59<00:25,  1.76it/s]#015 97%|█████████▋| 1456/1500 [13:59<00:24,  1.78it/s]#015 97%|█████████▋| 1457/1500 [14:00<00:24,  1.74it/s]#015 97%|█████████▋| 1458/1500 [14:01<00:23,  1.76it/s]#015 97%|█████████▋| 1459/1500 [14:01<00:23,  1.77it/s]#015 97%|█████████▋| 1460/1500 [14:02<00:23,  1.73it/s]#015 97%|█████████▋| 1461/1500 [14:02<00:22,  1.74it/s]#015 97%|█████████▋| 1462/1500 [14:03<00:21,  1.74it/s]#015 98%|█████████▊| 1463/1500 [14:03<00:21,  1.76it/s]#015 98%|█████████▊| 1464/1500 [14:04<00:20,  1.77it/s]#015 98%|█████████▊| 1465/1500 [14:05<00:19,  1.79it/s]#015 98%|█████████▊| 1466/1500 [14:05<00:19,  1.78it/s]#015 98%|█████████▊| 1467/1500 [14:06<00:18,  1.78it/s]#015 98%|█████████▊| 1468/1500 [14:06<00:18,  1.77it/s]#015 98%|█████████▊| 1469/1500 [14:07<00:17,  1.76it/s]#015 98%|█████████▊| 1470/1500 [14:07<00:16,  1.77it/s]#015 98%|█████████▊| 1471/1500 [14:08<00:16,  1.78it/s]#015 98%|█████████▊| 1472/1500 [14:08<00:15,  1.78it/s]#015 98%|█████████▊| 147\u001b[0m\n",
      "\u001b[34m3/1500 [14:09<00:15,  1.80it/s]#015 98%|█████████▊| 1474/1500 [14:10<00:14,  1.79it/s]#015 98%|█████████▊| 1475/1500 [14:10<00:13,  1.80it/s]#015 98%|█████████▊| 1476/1500 [14:11<00:13,  1.81it/s]#015 98%|█████████▊| 1477/1500 [14:11<00:12,  1.81it/s]#015 99%|█████████▊| 1478/1500 [14:12<00:12,  1.81it/s]#015 99%|█████████▊| 1479/1500 [14:12<00:11,  1.81it/s]#015 99%|█████████▊| 1480/1500 [14:13<00:11,  1.81it/s]#015 99%|█████████▊| 1481/1500 [14:13<00:10,  1.82it/s]#015 99%|█████████▉| 1482/1500 [14:14<00:09,  1.81it/s]#015 99%|█████████▉| 1483/1500 [14:15<00:09,  1.81it/s]#015 99%|█████████▉| 1484/1500 [14:15<00:08,  1.79it/s]#015 99%|█████████▉| 1485/1500 [14:16<00:08,  1.79it/s]#015 99%|█████████▉| 1486/1500 [14:16<00:07,  1.80it/s]#015 99%|█████████▉| 1487/1500 [14:17<00:07,  1.76it/s]#015 99%|█████████▉| 1488/1500 [14:17<00:06,  1.77it/s]#015 99%|█████████▉| 1489/1500 [14:18<00:06,  1.79it/s]#015 99%|█████████▉| 1490/1500 [14:18<00:05,  1.80it/s]#015 99%|█████████▉| 1491/1500 [14:19<00:05,  1.79it/s]#015 99%|█████████▉| 1492/1500 [14:20<00:04,  1.80it/s]#015100%|█████████▉| 1493/1500 [14:20<00:03,  1.80it/s]#015100%|█████████▉| 1494/1500 [14:21<00:03,  1.81it/s]#015100%|█████████▉| 1495/1500 [14:21<00:02,  1.81it/s]#015100%|█████████▉| 1496/1500 [14:22<00:02,  1.79it/s]#015100%|█████████▉| 1497/1500 [14:22<00:01,  1.80it/s]#015100%|█████████▉| 1498/1500 [14:23<00:01,  1.80it/s]#015100%|█████████▉| 1499/1500 [14:23<00:00,  1.79it/s]#015100%|██████████| 1500/1500 [14:24<00:00,  1.80it/s]#015                                                   #015#015100%|██████████| 1500/1500 [14:24<00:00,  1.80it/s]\u001b[0m\n",
      "\u001b[34m#015  0%|          | 0/32 [00:00<?, ?it/s]#033[A\u001b[0m\n",
      "\u001b[34m#015  6%|▋         | 2/32 [00:00<00:04,  6.30it/s]#033[A\u001b[0m\n",
      "\u001b[34m#015  9%|▉         | 3/32 [00:00<00:05,  4.84it/s]#033[A\u001b[0m\n",
      "\u001b[34m#015 12%|█▎        | 4/32 [00:00<00:06,  4.14it/s]#033[A\u001b[0m\n",
      "\u001b[34m#015 16%|█▌        | 5/32 [00:01<00:07,  3.79it/s]#033[A\u001b[0m\n",
      "\u001b[34m#015 19%|█▉        | 6/32 [00:01<00:07,  3.58it/s]#033[A\u001b[0m\n",
      "\u001b[34m#015 22%|██▏       | 7/32 [00:01<00:07,  3.44it/s]#033[A\u001b[0m\n",
      "\u001b[34m#015 25%|██▌       | 8/32 [00:02<00:07,  3.32it/s]#033[A\u001b[0m\n",
      "\u001b[34m#015 28%|██▊       | 9/32 [00:02<00:07,  3.27it/s]#033[A\u001b[0m\n",
      "\u001b[34m#015 31%|███▏      | 10/32 [00:02<00:06,  3.24it/s]#033[A\u001b[0m\n",
      "\u001b[34m#015 34%|███▍      | 11/32 [00:03<00:06,  3.21it/s]#033[A\u001b[0m\n",
      "\u001b[34m#015 38%|███▊      | 12/32 [00:03<00:06,  3.20it/s]#033[A\u001b[0m\n",
      "\u001b[34m#015 41%|████      | 13/32 [00:03<00:05,  3.19it/s]#033[A\u001b[0m\n",
      "\u001b[34m#015 44%|████▍     | 14/32 [00:04<00:05,  3.18it/s]#033[A\u001b[0m\n",
      "\u001b[34m#015 47%|████▋     | 15/32 [00:04<00:05,  3.18it/s]#033[A\u001b[0m\n",
      "\u001b[34m#015 50%|█████     | 16/32 [00:04<00:05,  3.18it/s]#033[A\u001b[0m\n",
      "\u001b[34m#015 53%|█████▎    | 17/32 [00:05<00:04,  3.17it/s]#033[A\u001b[0m\n",
      "\u001b[34m#015 56%|█████▋    | 18/32 [00:05<00:04,  3.14it/s]#033[A\u001b[0m\n",
      "\u001b[34m#015 59%|█████▉    | 19/32 [00:05<00:04,  3.15it/s]#033[A\u001b[0m\n",
      "\u001b[34m#015 62%|██████▎   | 20/32 [00:06<00:03,  3.14it/s]#033[A\u001b[0m\n",
      "\u001b[34m#015 66%|██████▌   | 21/32 [00:06<00:03,  3.15it/s]#033[A\u001b[0m\n",
      "\u001b[34m#015 69%|██████▉   | 22/32 [00:06<00:03,  3.14it/s]#033[A\u001b[0m\n",
      "\u001b[34m#015 72%|███████▏  | 23/32 [00:06<00:02,  3.14it/s]#033[A\u001b[0m\n",
      "\u001b[34m#015 75%|███████▌  | 24/32 [00:07<00:02,  3.15it/s]#033[A\u001b[0m\n",
      "\u001b[34m#015 78%|███████▊  | 25/32 [00:07<00:02,  3.15it/s]#033[A\u001b[0m\n",
      "\u001b[34m#015 81%|████████▏ | 26/32 [00:07<00:01,  3.15it/s]#033[A\u001b[0m\n",
      "\u001b[34m#015 84%|████████▍ | 27/32 [00:08<00:01,  3.16it/s]#033[A\u001b[0m\n",
      "\u001b[34m#015 88%|████████▊ | 28/32 [00:08<00:01,  3.13it/s]#033[A\u001b[0m\n",
      "\u001b[34m#015 91%|█████████ | 29/32 [00:08<00:00,  3.12it/s]#033[A\u001b[0m\n",
      "\u001b[34m#015 94%|█████████▍| 30/32 [00:09<00:00,  3.11it/s]#033[A\u001b[0m\n",
      "\u001b[34m#015 97%|█████████▋| 31/32 [00:09<00:00,  3.10it/s]#033[A#015                                                   #015\u001b[0m\n",
      "\u001b[34m#015                                               #015#033[A#015100%|██████████| 1500/1500 [14:36<00:00,  1.80it/s]\u001b[0m\n",
      "\u001b[34m#015100%|██████████| 32/32 [00:09<00:00,  3.10it/s]#033[A\u001b[0m\n",
      "\u001b[34m#015                                               #033[A#015                                                   #015#015100%|██████████| 1500/1500 [14:36<00:00,  1.80it/s]#015100%|██████████| 1500/1500 [14:36<00:00,  1.71it/s]\u001b[0m\n",
      "\u001b[34m#015  0%|          | 0/32 [00:00<?, ?it/s]#015  6%|▋         | 2/32 [00:00<00:04,  6.35it/s]#015  9%|▉         | 3/32 [00:00<00:06,  4.80it/s]#015 12%|█▎        | 4/32 [00:00<00:06,  4.12it/s]#015 16%|█▌        | 5/32 [00:01<00:07,  3.78it/s]#015 19%|█▉        | 6/32 [00:01<00:07,  3.55it/s]#015 22%|██▏       | 7/32 [00:01<00:07,  3.42it/s]#015 25%|██▌       | 8/32 [00:02<00:07,  3.31it/s]#015 28%|██▊       | 9/32 [00:02<00:07,  3.27it/s]#015 31%|███▏      | 10/32 [00:02<00:06,  3.22it/s]#015 34%|███▍      | 11/32 [00:03<00:06,  3.21it/s]#015 38%|███▊      | 12/32 [00:03<00:06,  3.19it/s]#015 41%|████      | 13/32 [00:03<00:05,  3.18it/s]#015 44%|████▍     | 14/32 [00:04<00:05,  3.17it/s]#015 47%|████▋     | 15/32 [00:04<00:05,  3.17it/s]#015 50%|█████     | 16/32 [00:04<00:05,  3.16it/s]#015 53%|█████▎    | 17/32 [00:05<00:04,  3.13it/s]#015 56%|█████▋    | 18/32 [00:05<00:04,  3.14it/s]#015 59%|█████▉    | 19/32 [00:05<00:04,  3.14it/s]#015 62%|██████▎   | 20/32 [00:06<00:03,  3.13it/s]#015 66%|██████▌   | 21/32 [00:06<00:03,  3.13it/s]#015 69%|██████▉   | 22/32 [00:06<00:03,  3.11it/s]#015 72%|███████▏  | 23/32 [00:07<00:02,  3.10it/s]#015 75%|███████▌  | 24/32 [00:07<00:02,  3.12it/s]#015 78%|███████▊  | 25/32 [00:07<00:02,  3.13it/s]#015 81%|████████▏ | 26/32 [00:07<00:01,  3.12it/s]#015 84%|████████▍ | 27/32 [00:08<00:01,  3.11it/s]#015 88%|████████▊ | 28/32 [00:08<00:01,  3.12it/s]#015 91%|█████████ | 29/32 [00:08<00:00,  3.11it/s]#015 94%|█████████▍| 30/32 [00:09<00:00,  3.13it/s]#015 97%|█████████▋| 31/32 [00:09<00:00,  3.14it/s]#015100%|██████████| 32/32 [00:09<00:00,  3.31it/s]\u001b[0m\n",
      "\n",
      "2022-02-24 17:35:15 Uploading - Uploading generated training model\n",
      "2022-02-24 17:40:16 Completed - Training job completed\n",
      "ProfilerReport-1645722852: IssuesFound\n",
      "Training seconds: 1447\n",
      "Billable seconds: 1447\n"
     ]
    }
   ],
   "source": [
    "# starting the train job with our uploaded datasets as input\n",
    "huggingface_estimator.fit({'train': training_input_path, 'test': test_input_path})"
   ]
  },
  {
   "cell_type": "markdown",
   "metadata": {},
   "source": [
    "## Accessing Training Metrics\n",
    "\n",
    "The training job doesn't emit metrics immediately. For example, it first needs to provision a training instance, download the training image, download the data. Additionally in this demo the first evaluation logs come after 500 steps (default in the Hugging Face trainer https://huggingface.co/transformers/main_classes/trainer.html#transformers.TrainingArguments).\n",
    "\n",
    "Hence, **run the below section 15 to 20 minutes after launching the training, otherwise it may not have available metrics yet and return an error**\n",
    "\n",
    "Note that you can also copy this code and run it from a different place (as long as connected to the cloud and authorized to use the API), by specifiying the exact training job name in the `TrainingJobAnalytics` API call.)"
   ]
  },
  {
   "cell_type": "code",
   "execution_count": 82,
   "metadata": {
    "collapsed": true,
    "jupyter": {
     "outputs_hidden": true
    }
   },
   "outputs": [
    {
     "data": {
      "text/html": [
       "<div>\n",
       "<style scoped>\n",
       "    .dataframe tbody tr th:only-of-type {\n",
       "        vertical-align: middle;\n",
       "    }\n",
       "\n",
       "    .dataframe tbody tr th {\n",
       "        vertical-align: top;\n",
       "    }\n",
       "\n",
       "    .dataframe thead th {\n",
       "        text-align: right;\n",
       "    }\n",
       "</style>\n",
       "<table border=\"1\" class=\"dataframe\">\n",
       "  <thead>\n",
       "    <tr style=\"text-align: right;\">\n",
       "      <th></th>\n",
       "      <th>timestamp</th>\n",
       "      <th>metric_name</th>\n",
       "      <th>value</th>\n",
       "    </tr>\n",
       "  </thead>\n",
       "  <tbody>\n",
       "    <tr>\n",
       "      <th>0</th>\n",
       "      <td>0.0</td>\n",
       "      <td>loss</td>\n",
       "      <td>0.794000</td>\n",
       "    </tr>\n",
       "    <tr>\n",
       "      <th>1</th>\n",
       "      <td>300.0</td>\n",
       "      <td>loss</td>\n",
       "      <td>0.173600</td>\n",
       "    </tr>\n",
       "    <tr>\n",
       "      <th>2</th>\n",
       "      <td>600.0</td>\n",
       "      <td>loss</td>\n",
       "      <td>0.094300</td>\n",
       "    </tr>\n",
       "    <tr>\n",
       "      <th>3</th>\n",
       "      <td>0.0</td>\n",
       "      <td>learning_rate</td>\n",
       "      <td>0.000050</td>\n",
       "    </tr>\n",
       "    <tr>\n",
       "      <th>4</th>\n",
       "      <td>300.0</td>\n",
       "      <td>learning_rate</td>\n",
       "      <td>2.500000</td>\n",
       "    </tr>\n",
       "    <tr>\n",
       "      <th>5</th>\n",
       "      <td>600.0</td>\n",
       "      <td>learning_rate</td>\n",
       "      <td>0.000000</td>\n",
       "    </tr>\n",
       "    <tr>\n",
       "      <th>6</th>\n",
       "      <td>0.0</td>\n",
       "      <td>eval_loss</td>\n",
       "      <td>0.235926</td>\n",
       "    </tr>\n",
       "    <tr>\n",
       "      <th>7</th>\n",
       "      <td>300.0</td>\n",
       "      <td>eval_loss</td>\n",
       "      <td>0.139435</td>\n",
       "    </tr>\n",
       "    <tr>\n",
       "      <th>8</th>\n",
       "      <td>600.0</td>\n",
       "      <td>eval_loss</td>\n",
       "      <td>0.139923</td>\n",
       "    </tr>\n",
       "    <tr>\n",
       "      <th>9</th>\n",
       "      <td>0.0</td>\n",
       "      <td>eval_accuracy</td>\n",
       "      <td>0.923000</td>\n",
       "    </tr>\n",
       "    <tr>\n",
       "      <th>10</th>\n",
       "      <td>300.0</td>\n",
       "      <td>eval_accuracy</td>\n",
       "      <td>0.929500</td>\n",
       "    </tr>\n",
       "    <tr>\n",
       "      <th>11</th>\n",
       "      <td>600.0</td>\n",
       "      <td>eval_accuracy</td>\n",
       "      <td>0.931000</td>\n",
       "    </tr>\n",
       "    <tr>\n",
       "      <th>12</th>\n",
       "      <td>0.0</td>\n",
       "      <td>eval_f1</td>\n",
       "      <td>0.922023</td>\n",
       "    </tr>\n",
       "    <tr>\n",
       "      <th>13</th>\n",
       "      <td>300.0</td>\n",
       "      <td>eval_f1</td>\n",
       "      <td>0.930032</td>\n",
       "    </tr>\n",
       "    <tr>\n",
       "      <th>14</th>\n",
       "      <td>600.0</td>\n",
       "      <td>eval_f1</td>\n",
       "      <td>0.930727</td>\n",
       "    </tr>\n",
       "    <tr>\n",
       "      <th>15</th>\n",
       "      <td>0.0</td>\n",
       "      <td>eval_precision</td>\n",
       "      <td>0.922785</td>\n",
       "    </tr>\n",
       "    <tr>\n",
       "      <th>16</th>\n",
       "      <td>300.0</td>\n",
       "      <td>eval_precision</td>\n",
       "      <td>0.931454</td>\n",
       "    </tr>\n",
       "    <tr>\n",
       "      <th>17</th>\n",
       "      <td>600.0</td>\n",
       "      <td>eval_precision</td>\n",
       "      <td>0.931755</td>\n",
       "    </tr>\n",
       "    <tr>\n",
       "      <th>18</th>\n",
       "      <td>0.0</td>\n",
       "      <td>eval_recall</td>\n",
       "      <td>0.923000</td>\n",
       "    </tr>\n",
       "    <tr>\n",
       "      <th>19</th>\n",
       "      <td>300.0</td>\n",
       "      <td>eval_recall</td>\n",
       "      <td>0.929500</td>\n",
       "    </tr>\n",
       "    <tr>\n",
       "      <th>20</th>\n",
       "      <td>600.0</td>\n",
       "      <td>eval_recall</td>\n",
       "      <td>0.931000</td>\n",
       "    </tr>\n",
       "    <tr>\n",
       "      <th>21</th>\n",
       "      <td>0.0</td>\n",
       "      <td>eval_runtime</td>\n",
       "      <td>9.946600</td>\n",
       "    </tr>\n",
       "    <tr>\n",
       "      <th>22</th>\n",
       "      <td>300.0</td>\n",
       "      <td>eval_runtime</td>\n",
       "      <td>9.994600</td>\n",
       "    </tr>\n",
       "    <tr>\n",
       "      <th>23</th>\n",
       "      <td>600.0</td>\n",
       "      <td>eval_runtime</td>\n",
       "      <td>9.981700</td>\n",
       "    </tr>\n",
       "    <tr>\n",
       "      <th>24</th>\n",
       "      <td>0.0</td>\n",
       "      <td>eval_samples_per_second</td>\n",
       "      <td>201.074000</td>\n",
       "    </tr>\n",
       "    <tr>\n",
       "      <th>25</th>\n",
       "      <td>300.0</td>\n",
       "      <td>eval_samples_per_second</td>\n",
       "      <td>200.108000</td>\n",
       "    </tr>\n",
       "    <tr>\n",
       "      <th>26</th>\n",
       "      <td>600.0</td>\n",
       "      <td>eval_samples_per_second</td>\n",
       "      <td>200.367000</td>\n",
       "    </tr>\n",
       "    <tr>\n",
       "      <th>27</th>\n",
       "      <td>0.0</td>\n",
       "      <td>epoch</td>\n",
       "      <td>1.000000</td>\n",
       "    </tr>\n",
       "    <tr>\n",
       "      <th>28</th>\n",
       "      <td>300.0</td>\n",
       "      <td>epoch</td>\n",
       "      <td>2.000000</td>\n",
       "    </tr>\n",
       "    <tr>\n",
       "      <th>29</th>\n",
       "      <td>600.0</td>\n",
       "      <td>epoch</td>\n",
       "      <td>3.000000</td>\n",
       "    </tr>\n",
       "  </tbody>\n",
       "</table>\n",
       "</div>"
      ],
      "text/plain": [
       "    timestamp              metric_name       value\n",
       "0         0.0                     loss    0.794000\n",
       "1       300.0                     loss    0.173600\n",
       "2       600.0                     loss    0.094300\n",
       "3         0.0            learning_rate    0.000050\n",
       "4       300.0            learning_rate    2.500000\n",
       "5       600.0            learning_rate    0.000000\n",
       "6         0.0                eval_loss    0.235926\n",
       "7       300.0                eval_loss    0.139435\n",
       "8       600.0                eval_loss    0.139923\n",
       "9         0.0            eval_accuracy    0.923000\n",
       "10      300.0            eval_accuracy    0.929500\n",
       "11      600.0            eval_accuracy    0.931000\n",
       "12        0.0                  eval_f1    0.922023\n",
       "13      300.0                  eval_f1    0.930032\n",
       "14      600.0                  eval_f1    0.930727\n",
       "15        0.0           eval_precision    0.922785\n",
       "16      300.0           eval_precision    0.931454\n",
       "17      600.0           eval_precision    0.931755\n",
       "18        0.0              eval_recall    0.923000\n",
       "19      300.0              eval_recall    0.929500\n",
       "20      600.0              eval_recall    0.931000\n",
       "21        0.0             eval_runtime    9.946600\n",
       "22      300.0             eval_runtime    9.994600\n",
       "23      600.0             eval_runtime    9.981700\n",
       "24        0.0  eval_samples_per_second  201.074000\n",
       "25      300.0  eval_samples_per_second  200.108000\n",
       "26      600.0  eval_samples_per_second  200.367000\n",
       "27        0.0                    epoch    1.000000\n",
       "28      300.0                    epoch    2.000000\n",
       "29      600.0                    epoch    3.000000"
      ]
     },
     "execution_count": 82,
     "metadata": {},
     "output_type": "execute_result"
    }
   ],
   "source": [
    "from sagemaker import TrainingJobAnalytics\n",
    "\n",
    "# Captured metrics can be accessed as a Pandas dataframe\n",
    "df = TrainingJobAnalytics(training_job_name=huggingface_estimator.latest_training_job.name).dataframe()\n",
    "df.head(90)"
   ]
  },
  {
   "cell_type": "code",
   "execution_count": 81,
   "metadata": {},
   "outputs": [
    {
     "data": {
      "text/plain": [
       "90"
      ]
     },
     "execution_count": 81,
     "metadata": {},
     "output_type": "execute_result"
    }
   ],
   "source": [
    "df.size"
   ]
  },
  {
   "cell_type": "markdown",
   "metadata": {},
   "source": [
    "We can also plot some of the metrics collected\n",
    "\n",
    "*Note: the plot below were generated at the end of the training job, with metrics available for all training duration*"
   ]
  },
  {
   "cell_type": "code",
   "execution_count": 83,
   "metadata": {
    "collapsed": true,
    "jupyter": {
     "outputs_hidden": true
    }
   },
   "outputs": [
    {
     "name": "stdout",
     "output_type": "stream",
     "text": [
      "Collecting seaborn\n",
      "  Downloading seaborn-0.11.2-py3-none-any.whl (292 kB)\n",
      "\u001b[K     |████████████████████████████████| 292 kB 26.6 MB/s eta 0:00:01\n",
      "\u001b[?25hRequirement already satisfied: scipy>=1.0 in /opt/conda/lib/python3.6/site-packages (from seaborn) (1.5.4)\n",
      "Requirement already satisfied: numpy>=1.15 in /opt/conda/lib/python3.6/site-packages (from seaborn) (1.19.1)\n",
      "Requirement already satisfied: matplotlib>=2.2 in /opt/conda/lib/python3.6/site-packages (from seaborn) (3.3.4)\n",
      "Requirement already satisfied: pandas>=0.23 in /opt/conda/lib/python3.6/site-packages (from seaborn) (1.1.5)\n",
      "Requirement already satisfied: pillow>=6.2.0 in /opt/conda/lib/python3.6/site-packages (from matplotlib>=2.2->seaborn) (8.2.0)\n",
      "Requirement already satisfied: cycler>=0.10 in /opt/conda/lib/python3.6/site-packages (from matplotlib>=2.2->seaborn) (0.10.0)\n",
      "Requirement already satisfied: pyparsing!=2.0.4,!=2.1.2,!=2.1.6,>=2.0.3 in /opt/conda/lib/python3.6/site-packages (from matplotlib>=2.2->seaborn) (2.4.7)\n",
      "Requirement already satisfied: python-dateutil>=2.1 in /opt/conda/lib/python3.6/site-packages (from matplotlib>=2.2->seaborn) (2.8.2)\n",
      "Requirement already satisfied: kiwisolver>=1.0.1 in /opt/conda/lib/python3.6/site-packages (from matplotlib>=2.2->seaborn) (1.3.1)\n",
      "Requirement already satisfied: six in /opt/conda/lib/python3.6/site-packages (from cycler>=0.10->matplotlib>=2.2->seaborn) (1.16.0)\n",
      "Requirement already satisfied: pytz>=2017.2 in /opt/conda/lib/python3.6/site-packages (from pandas>=0.23->seaborn) (2021.1)\n",
      "Installing collected packages: seaborn\n",
      "Successfully installed seaborn-0.11.2\n",
      "\u001b[33mWARNING: Running pip as root will break packages and permissions. You should install packages reliably by using venv: https://pip.pypa.io/warnings/venv\u001b[0m\n"
     ]
    }
   ],
   "source": [
    "!pip install seaborn"
   ]
  },
  {
   "cell_type": "code",
   "execution_count": 84,
   "metadata": {},
   "outputs": [],
   "source": [
    "from matplotlib import pyplot as plt\n",
    "import seaborn as sns\n",
    "\n",
    "plt.rcParams['figure.figsize'] = [15,5]"
   ]
  },
  {
   "cell_type": "code",
   "execution_count": 85,
   "metadata": {},
   "outputs": [
    {
     "data": {
      "text/plain": [
       "<AxesSubplot:label='0513a05b-3938-4188-b520-8695ff8ee0cb', xlabel='timestamp', ylabel='value'>"
      ]
     },
     "execution_count": 85,
     "metadata": {},
     "output_type": "execute_result"
    },
    {
     "data": {
      "image/png": "[encoded data removed]",
      "text/plain": [
       "<Figure size 1080x360 with 2 Axes>"
      ]
     },
     "metadata": {
      "needs_background": "light"
     },
     "output_type": "display_data"
    }
   ],
   "source": [
    "evals = df[df.metric_name.isin(['eval_accuracy','eval_precision'])]\n",
    "losses = df[df.metric_name.isin(['loss', 'eval_loss'])]\n",
    "\n",
    "sns.lineplot(\n",
    "    x='timestamp', \n",
    "    y='value', \n",
    "    data=evals, \n",
    "    hue='metric_name', \n",
    "    palette=['blue', 'purple'])\n",
    "\n",
    "ax2 = plt.twinx()\n",
    "sns.lineplot(\n",
    "    x='timestamp', \n",
    "    y='value', \n",
    "    data=losses, \n",
    "    hue='metric_name', \n",
    "    palette=['orange', 'red'],\n",
    "    ax=ax2)"
   ]
  },
  {
   "cell_type": "markdown",
   "metadata": {},
   "source": [
    "## ss after train"
   ]
  },
  {
   "cell_type": "code",
   "execution_count": 47,
   "metadata": {},
   "outputs": [
    {
     "data": {
      "text/plain": [
       "'s3://sagemaker-us-east-1-647333706880/'"
      ]
     },
     "execution_count": 47,
     "metadata": {},
     "output_type": "execute_result"
    }
   ],
   "source": [
    "huggingface_estimator.output_path"
   ]
  },
  {
   "cell_type": "markdown",
   "metadata": {},
   "source": [
    "## Deploying the endpoint\n",
    "\n",
    "To deploy our endpoint, we call `deploy()` on our HuggingFace estimator object, passing in our desired number of instances and instance type."
   ]
  },
  {
   "cell_type": "code",
   "execution_count": 86,
   "metadata": {},
   "outputs": [
    {
     "name": "stdout",
     "output_type": "stream",
     "text": [
      "-------!"
     ]
    }
   ],
   "source": [
    "predictor = huggingface_estimator.deploy(1,\"ml.g4dn.xlarge\")"
   ]
  },
  {
   "cell_type": "markdown",
   "metadata": {},
   "source": [
    "## ss start delploy model from S3 https://bit.ly/3vrt0qD"
   ]
  },
  {
   "cell_type": "code",
   "execution_count": 18,
   "metadata": {},
   "outputs": [],
   "source": [
    "from sagemaker.huggingface import HuggingFaceModel\n",
    "import sagemaker \n",
    "\n",
    "role = sagemaker.get_execution_role()\n",
    "\n"
   ]
  },
  {
   "cell_type": "code",
   "execution_count": 21,
   "metadata": {},
   "outputs": [],
   "source": [
    "# create Hugging Face Model Class\n",
    "\n",
    "huggingface_model = HuggingFaceModel(\n",
    "   model_data=\"s3://sagemaker-us-east-1-647333706880/huggingface-pytorch-training-2022-02-24-17-14-11-872/output/model.tar.gz\",  # path to your trained sagemaker model\n",
    "   role=role, # iam role with permissions to create an Endpoint\n",
    "   transformers_version=\"4.6\", # transformers version used\n",
    "   pytorch_version=\"1.7\", # pytorch version used\n",
    "   py_version=\"py36\", # python version of the DLC\n",
    ")"
   ]
  },
  {
   "cell_type": "code",
   "execution_count": 22,
   "metadata": {},
   "outputs": [
    {
     "name": "stdout",
     "output_type": "stream",
     "text": [
      "-----!"
     ]
    }
   ],
   "source": [
    "# deploy model to SageMaker Inference\n",
    "predictor = huggingface_model.deploy(\n",
    "   initial_instance_count=1,\n",
    "   instance_type=\"ml.m5.xlarge\"\n",
    ")"
   ]
  },
  {
   "cell_type": "markdown",
   "metadata": {},
   "source": [
    "## ss end delploy model from S3 https://bit.ly/3vrt0qD"
   ]
  },
  {
   "cell_type": "code",
   "execution_count": 256,
   "metadata": {},
   "outputs": [],
   "source": [
    "def val_label_int2str(row):\n",
    "    return validation_dataset.features[\"labels\"].int2str(row)\n"
   ]
  },
  {
   "cell_type": "code",
   "execution_count": 249,
   "metadata": {},
   "outputs": [
    {
     "data": {
      "text/plain": [
       "ClassLabel(num_classes=6, names=['sadness', 'joy', 'love', 'anger', 'fear', 'surprise'], names_file=None, id=None)"
      ]
     },
     "execution_count": 249,
     "metadata": {},
     "output_type": "execute_result"
    }
   ],
   "source": [
    "validation_dataset.features[\"labels\"]"
   ]
  },
  {
   "cell_type": "code",
   "execution_count": 257,
   "metadata": {},
   "outputs": [
    {
     "data": {
      "text/html": [
       "<div>\n",
       "<style scoped>\n",
       "    .dataframe tbody tr th:only-of-type {\n",
       "        vertical-align: middle;\n",
       "    }\n",
       "\n",
       "    .dataframe tbody tr th {\n",
       "        vertical-align: top;\n",
       "    }\n",
       "\n",
       "    .dataframe thead th {\n",
       "        text-align: right;\n",
       "    }\n",
       "</style>\n",
       "<table border=\"1\" class=\"dataframe\">\n",
       "  <thead>\n",
       "    <tr style=\"text-align: right;\">\n",
       "      <th></th>\n",
       "      <th>attention_mask</th>\n",
       "      <th>input_ids</th>\n",
       "      <th>labels</th>\n",
       "      <th>text</th>\n",
       "      <th>label_name</th>\n",
       "    </tr>\n",
       "  </thead>\n",
       "  <tbody>\n",
       "    <tr>\n",
       "      <th>0</th>\n",
       "      <td>[1, 1, 1, 1, 1, 1, 1, 1, 1, 1, 1, 1, 1, 1, 1, ...</td>\n",
       "      <td>[101, 10047, 3110, 3243, 6517, 1998, 3374, 200...</td>\n",
       "      <td>0</td>\n",
       "      <td>im feeling quite sad and sorry for myself but ...</td>\n",
       "      <td>sadness</td>\n",
       "    </tr>\n",
       "    <tr>\n",
       "      <th>1</th>\n",
       "      <td>[1, 1, 1, 1, 1, 1, 1, 1, 1, 1, 1, 1, 1, 1, 1, ...</td>\n",
       "      <td>[101, 1045, 2514, 2066, 1045, 2572, 2145, 2559...</td>\n",
       "      <td>0</td>\n",
       "      <td>i feel like i am still looking at a blank canv...</td>\n",
       "      <td>sadness</td>\n",
       "    </tr>\n",
       "    <tr>\n",
       "      <th>2</th>\n",
       "      <td>[1, 1, 1, 1, 1, 1, 1, 1, 0, 0, 0, 0, 0, 0, 0, ...</td>\n",
       "      <td>[101, 1045, 2514, 2066, 1037, 11633, 7947, 102...</td>\n",
       "      <td>2</td>\n",
       "      <td>i feel like a faithful servant</td>\n",
       "      <td>love</td>\n",
       "    </tr>\n",
       "    <tr>\n",
       "      <th>3</th>\n",
       "      <td>[1, 1, 1, 1, 1, 1, 1, 1, 1, 1, 0, 0, 0, 0, 0, ...</td>\n",
       "      <td>[101, 1045, 2572, 2074, 3110, 27987, 2100, 199...</td>\n",
       "      <td>3</td>\n",
       "      <td>i am just feeling cranky and blue</td>\n",
       "      <td>anger</td>\n",
       "    </tr>\n",
       "    <tr>\n",
       "      <th>4</th>\n",
       "      <td>[1, 1, 1, 1, 1, 1, 1, 1, 1, 1, 1, 1, 1, 1, 1, ...</td>\n",
       "      <td>[101, 1045, 2064, 2031, 2005, 1037, 7438, 2030...</td>\n",
       "      <td>1</td>\n",
       "      <td>i can have for a treat or if i am feeling festive</td>\n",
       "      <td>joy</td>\n",
       "    </tr>\n",
       "  </tbody>\n",
       "</table>\n",
       "</div>"
      ],
      "text/plain": [
       "                                      attention_mask  \\\n",
       "0  [1, 1, 1, 1, 1, 1, 1, 1, 1, 1, 1, 1, 1, 1, 1, ...   \n",
       "1  [1, 1, 1, 1, 1, 1, 1, 1, 1, 1, 1, 1, 1, 1, 1, ...   \n",
       "2  [1, 1, 1, 1, 1, 1, 1, 1, 0, 0, 0, 0, 0, 0, 0, ...   \n",
       "3  [1, 1, 1, 1, 1, 1, 1, 1, 1, 1, 0, 0, 0, 0, 0, ...   \n",
       "4  [1, 1, 1, 1, 1, 1, 1, 1, 1, 1, 1, 1, 1, 1, 1, ...   \n",
       "\n",
       "                                           input_ids  labels  \\\n",
       "0  [101, 10047, 3110, 3243, 6517, 1998, 3374, 200...       0   \n",
       "1  [101, 1045, 2514, 2066, 1045, 2572, 2145, 2559...       0   \n",
       "2  [101, 1045, 2514, 2066, 1037, 11633, 7947, 102...       2   \n",
       "3  [101, 1045, 2572, 2074, 3110, 27987, 2100, 199...       3   \n",
       "4  [101, 1045, 2064, 2031, 2005, 1037, 7438, 2030...       1   \n",
       "\n",
       "                                                text label_name  \n",
       "0  im feeling quite sad and sorry for myself but ...    sadness  \n",
       "1  i feel like i am still looking at a blank canv...    sadness  \n",
       "2                     i feel like a faithful servant       love  \n",
       "3                  i am just feeling cranky and blue      anger  \n",
       "4  i can have for a treat or if i am feeling festive        joy  "
      ]
     },
     "execution_count": 257,
     "metadata": {},
     "output_type": "execute_result"
    }
   ],
   "source": [
    "validation_dataset.set_format(type=\"pandas\")\n",
    "df = validation_dataset[:]\n",
    "\n",
    "\n",
    "df[\"label_name\"] = df[\"labels\"].apply(val_label_int2str)\n",
    "df.head()"
   ]
  },
  {
   "cell_type": "code",
   "execution_count": 188,
   "metadata": {
    "collapsed": true,
    "jupyter": {
     "outputs_hidden": true
    }
   },
   "outputs": [
    {
     "data": {
      "text/plain": [
       "[{'label': 'LABEL_0', 'score': 0.9990556836128235},\n",
       " {'label': 'LABEL_0', 'score': 0.9990630745887756},\n",
       " {'label': 'LABEL_2', 'score': 0.6584126949310303},\n",
       " {'label': 'LABEL_3', 'score': 0.9984071850776672},\n",
       " {'label': 'LABEL_1', 'score': 0.9991805553436279},\n",
       " {'label': 'LABEL_1', 'score': 0.9991349577903748},\n",
       " {'label': 'LABEL_1', 'score': 0.999137818813324},\n",
       " {'label': 'LABEL_1', 'score': 0.9989481568336487},\n",
       " {'label': 'LABEL_1', 'score': 0.9989520311355591},\n",
       " {'label': 'LABEL_0', 'score': 0.9990861415863037},\n",
       " {'label': 'LABEL_3', 'score': 0.9982454180717468},\n",
       " {'label': 'LABEL_1', 'score': 0.9992004036903381},\n",
       " {'label': 'LABEL_0', 'score': 0.9972246885299683},\n",
       " {'label': 'LABEL_0', 'score': 0.9991117715835571},\n",
       " {'label': 'LABEL_0', 'score': 0.9987110495567322},\n",
       " {'label': 'LABEL_1', 'score': 0.9991365671157837},\n",
       " {'label': 'LABEL_0', 'score': 0.9988869428634644},\n",
       " {'label': 'LABEL_0', 'score': 0.8399208188056946},\n",
       " {'label': 'LABEL_2', 'score': 0.9962166547775269},\n",
       " {'label': 'LABEL_1', 'score': 0.9992089867591858},\n",
       " {'label': 'LABEL_4', 'score': 0.995658278465271},\n",
       " {'label': 'LABEL_0', 'score': 0.9990748167037964},\n",
       " {'label': 'LABEL_1', 'score': 0.998986542224884},\n",
       " {'label': 'LABEL_0', 'score': 0.9991242289543152},\n",
       " {'label': 'LABEL_0', 'score': 0.9990168213844299},\n",
       " {'label': 'LABEL_0', 'score': 0.99899822473526},\n",
       " {'label': 'LABEL_0', 'score': 0.9988276958465576},\n",
       " {'label': 'LABEL_2', 'score': 0.7149068713188171},\n",
       " {'label': 'LABEL_0', 'score': 0.999046266078949},\n",
       " {'label': 'LABEL_0', 'score': 0.9991361498832703},\n",
       " {'label': 'LABEL_2', 'score': 0.9958246350288391},\n",
       " {'label': 'LABEL_0', 'score': 0.999157190322876},\n",
       " {'label': 'LABEL_1', 'score': 0.998928427696228},\n",
       " {'label': 'LABEL_0', 'score': 0.9990777969360352},\n",
       " {'label': 'LABEL_0', 'score': 0.9991710186004639},\n",
       " {'label': 'LABEL_2', 'score': 0.652077853679657},\n",
       " {'label': 'LABEL_0', 'score': 0.9989204406738281},\n",
       " {'label': 'LABEL_0', 'score': 0.9989555478096008},\n",
       " {'label': 'LABEL_3', 'score': 0.9984014630317688},\n",
       " {'label': 'LABEL_1', 'score': 0.9983342885971069},\n",
       " {'label': 'LABEL_2', 'score': 0.9960938096046448},\n",
       " {'label': 'LABEL_0', 'score': 0.9991092085838318},\n",
       " {'label': 'LABEL_0', 'score': 0.9990659952163696},\n",
       " {'label': 'LABEL_0', 'score': 0.9986496567726135},\n",
       " {'label': 'LABEL_3', 'score': 0.9981221556663513},\n",
       " {'label': 'LABEL_0', 'score': 0.8656624555587769},\n",
       " {'label': 'LABEL_0', 'score': 0.9990509152412415},\n",
       " {'label': 'LABEL_3', 'score': 0.998602569103241},\n",
       " {'label': 'LABEL_2', 'score': 0.9960308074951172},\n",
       " {'label': 'LABEL_0', 'score': 0.99909508228302},\n",
       " {'label': 'LABEL_0', 'score': 0.999019205570221},\n",
       " {'label': 'LABEL_1', 'score': 0.9990397691726685},\n",
       " {'label': 'LABEL_1', 'score': 0.9985156059265137},\n",
       " {'label': 'LABEL_0', 'score': 0.9990968108177185},\n",
       " {'label': 'LABEL_1', 'score': 0.9978348016738892},\n",
       " {'label': 'LABEL_1', 'score': 0.5239530205726624},\n",
       " {'label': 'LABEL_3', 'score': 0.9979681968688965},\n",
       " {'label': 'LABEL_0', 'score': 0.9991276264190674},\n",
       " {'label': 'LABEL_0', 'score': 0.9990713000297546},\n",
       " {'label': 'LABEL_2', 'score': 0.9958066344261169},\n",
       " {'label': 'LABEL_2', 'score': 0.5142936706542969},\n",
       " {'label': 'LABEL_1', 'score': 0.9991533756256104},\n",
       " {'label': 'LABEL_0', 'score': 0.9991640448570251},\n",
       " {'label': 'LABEL_1', 'score': 0.9990372657775879},\n",
       " {'label': 'LABEL_1', 'score': 0.9989458918571472},\n",
       " {'label': 'LABEL_0', 'score': 0.9990746378898621},\n",
       " {'label': 'LABEL_0', 'score': 0.9991527795791626},\n",
       " {'label': 'LABEL_2', 'score': 0.9963405132293701},\n",
       " {'label': 'LABEL_4', 'score': 0.5307413935661316},\n",
       " {'label': 'LABEL_0', 'score': 0.9991788268089294},\n",
       " {'label': 'LABEL_1', 'score': 0.9986401796340942},\n",
       " {'label': 'LABEL_1', 'score': 0.9991458058357239},\n",
       " {'label': 'LABEL_1', 'score': 0.9991181492805481},\n",
       " {'label': 'LABEL_4', 'score': 0.9977259635925293},\n",
       " {'label': 'LABEL_2', 'score': 0.9959887266159058},\n",
       " {'label': 'LABEL_1', 'score': 0.9990472793579102},\n",
       " {'label': 'LABEL_0', 'score': 0.9991762638092041},\n",
       " {'label': 'LABEL_3', 'score': 0.9981449842453003},\n",
       " {'label': 'LABEL_0', 'score': 0.9991270303726196},\n",
       " {'label': 'LABEL_0', 'score': 0.9989294409751892},\n",
       " {'label': 'LABEL_0', 'score': 0.9991567730903625},\n",
       " {'label': 'LABEL_3', 'score': 0.9978715181350708},\n",
       " {'label': 'LABEL_3', 'score': 0.9980300664901733},\n",
       " {'label': 'LABEL_3', 'score': 0.6194875836372375},\n",
       " {'label': 'LABEL_3', 'score': 0.9984012246131897},\n",
       " {'label': 'LABEL_2', 'score': 0.9918285012245178},\n",
       " {'label': 'LABEL_1', 'score': 0.9977918863296509},\n",
       " {'label': 'LABEL_1', 'score': 0.998890221118927},\n",
       " {'label': 'LABEL_2', 'score': 0.9954559803009033},\n",
       " {'label': 'LABEL_3', 'score': 0.9975584149360657},\n",
       " {'label': 'LABEL_3', 'score': 0.9984658360481262},\n",
       " {'label': 'LABEL_2', 'score': 0.5497177839279175},\n",
       " {'label': 'LABEL_2', 'score': 0.9956108927726746},\n",
       " {'label': 'LABEL_3', 'score': 0.998539924621582},\n",
       " {'label': 'LABEL_4', 'score': 0.9980654120445251},\n",
       " {'label': 'LABEL_1', 'score': 0.9554269313812256},\n",
       " {'label': 'LABEL_3', 'score': 0.9980478286743164},\n",
       " {'label': 'LABEL_3', 'score': 0.9977271556854248},\n",
       " {'label': 'LABEL_2', 'score': 0.6596902012825012},\n",
       " {'label': 'LABEL_0', 'score': 0.9990476369857788},\n",
       " {'label': 'LABEL_3', 'score': 0.9985935091972351},\n",
       " {'label': 'LABEL_2', 'score': 0.99569171667099},\n",
       " {'label': 'LABEL_2', 'score': 0.9959934949874878},\n",
       " {'label': 'LABEL_0', 'score': 0.9991455078125},\n",
       " {'label': 'LABEL_1', 'score': 0.9989866018295288},\n",
       " {'label': 'LABEL_3', 'score': 0.9978113174438477},\n",
       " {'label': 'LABEL_0', 'score': 0.9991644620895386},\n",
       " {'label': 'LABEL_1', 'score': 0.9992471933364868},\n",
       " {'label': 'LABEL_0', 'score': 0.9991059899330139},\n",
       " {'label': 'LABEL_0', 'score': 0.9990807175636292},\n",
       " {'label': 'LABEL_1', 'score': 0.9992097616195679},\n",
       " {'label': 'LABEL_1', 'score': 0.9989756941795349},\n",
       " {'label': 'LABEL_0', 'score': 0.9988787174224854},\n",
       " {'label': 'LABEL_0', 'score': 0.9991389513015747},\n",
       " {'label': 'LABEL_0', 'score': 0.9988505244255066},\n",
       " {'label': 'LABEL_0', 'score': 0.6698919534683228},\n",
       " {'label': 'LABEL_1', 'score': 0.9990575313568115},\n",
       " {'label': 'LABEL_0', 'score': 0.9427013397216797},\n",
       " {'label': 'LABEL_3', 'score': 0.5665122866630554},\n",
       " {'label': 'LABEL_3', 'score': 0.9985649585723877},\n",
       " {'label': 'LABEL_3', 'score': 0.9985089898109436},\n",
       " {'label': 'LABEL_1', 'score': 0.9991382360458374},\n",
       " {'label': 'LABEL_0', 'score': 0.9989973902702332},\n",
       " {'label': 'LABEL_2', 'score': 0.9954248666763306},\n",
       " {'label': 'LABEL_4', 'score': 0.9980523586273193},\n",
       " {'label': 'LABEL_4', 'score': 0.9982150197029114},\n",
       " {'label': 'LABEL_1', 'score': 0.9990281462669373},\n",
       " {'label': 'LABEL_0', 'score': 0.9990071654319763},\n",
       " {'label': 'LABEL_4', 'score': 0.9971953630447388},\n",
       " {'label': 'LABEL_0', 'score': 0.9990127682685852},\n",
       " {'label': 'LABEL_0', 'score': 0.9991590976715088},\n",
       " {'label': 'LABEL_1', 'score': 0.9990633726119995},\n",
       " {'label': 'LABEL_3', 'score': 0.5755984783172607},\n",
       " {'label': 'LABEL_0', 'score': 0.9990646839141846},\n",
       " {'label': 'LABEL_4', 'score': 0.9980189204216003},\n",
       " {'label': 'LABEL_4', 'score': 0.9977298974990845},\n",
       " {'label': 'LABEL_2', 'score': 0.5511435866355896},\n",
       " {'label': 'LABEL_1', 'score': 0.9990807175636292},\n",
       " {'label': 'LABEL_1', 'score': 0.9989293217658997},\n",
       " {'label': 'LABEL_0', 'score': 0.999024510383606},\n",
       " {'label': 'LABEL_1', 'score': 0.9989399909973145},\n",
       " {'label': 'LABEL_0', 'score': 0.9991714358329773},\n",
       " {'label': 'LABEL_1', 'score': 0.9986504912376404},\n",
       " {'label': 'LABEL_3', 'score': 0.998554527759552},\n",
       " {'label': 'LABEL_5', 'score': 0.9888368248939514},\n",
       " {'label': 'LABEL_2', 'score': 0.9959794282913208},\n",
       " {'label': 'LABEL_4', 'score': 0.9980952739715576},\n",
       " {'label': 'LABEL_2', 'score': 0.9959709048271179},\n",
       " {'label': 'LABEL_0', 'score': 0.999089241027832},\n",
       " {'label': 'LABEL_2', 'score': 0.9955896139144897},\n",
       " {'label': 'LABEL_1', 'score': 0.5025469660758972},\n",
       " {'label': 'LABEL_4', 'score': 0.9480891823768616},\n",
       " {'label': 'LABEL_3', 'score': 0.9984413981437683},\n",
       " {'label': 'LABEL_1', 'score': 0.9989045262336731},\n",
       " {'label': 'LABEL_3', 'score': 0.9983325600624084},\n",
       " {'label': 'LABEL_1', 'score': 0.9988124370574951},\n",
       " {'label': 'LABEL_5', 'score': 0.9898796677589417},\n",
       " {'label': 'LABEL_3', 'score': 0.9984423518180847},\n",
       " {'label': 'LABEL_2', 'score': 0.9964087009429932},\n",
       " {'label': 'LABEL_0', 'score': 0.9988844990730286},\n",
       " {'label': 'LABEL_4', 'score': 0.9421237111091614},\n",
       " {'label': 'LABEL_3', 'score': 0.9984914660453796},\n",
       " {'label': 'LABEL_1', 'score': 0.9992051720619202},\n",
       " {'label': 'LABEL_0', 'score': 0.9990974068641663},\n",
       " {'label': 'LABEL_2', 'score': 0.5993808507919312},\n",
       " {'label': 'LABEL_5', 'score': 0.5742982625961304},\n",
       " {'label': 'LABEL_1', 'score': 0.9990012049674988},\n",
       " {'label': 'LABEL_4', 'score': 0.9978662729263306},\n",
       " {'label': 'LABEL_4', 'score': 0.9982431530952454},\n",
       " {'label': 'LABEL_0', 'score': 0.9990559816360474},\n",
       " {'label': 'LABEL_0', 'score': 0.998231828212738},\n",
       " {'label': 'LABEL_5', 'score': 0.9892013072967529},\n",
       " {'label': 'LABEL_0', 'score': 0.9989309906959534},\n",
       " {'label': 'LABEL_1', 'score': 0.9991945624351501},\n",
       " {'label': 'LABEL_4', 'score': 0.5977440476417542},\n",
       " {'label': 'LABEL_1', 'score': 0.99867844581604},\n",
       " {'label': 'LABEL_4', 'score': 0.9978370666503906},\n",
       " {'label': 'LABEL_1', 'score': 0.9897593259811401},\n",
       " {'label': 'LABEL_2', 'score': 0.9959065914154053},\n",
       " {'label': 'LABEL_2', 'score': 0.9954923391342163},\n",
       " {'label': 'LABEL_0', 'score': 0.9990272521972656},\n",
       " {'label': 'LABEL_3', 'score': 0.9979233741760254},\n",
       " {'label': 'LABEL_3', 'score': 0.9981576204299927},\n",
       " {'label': 'LABEL_1', 'score': 0.9992214441299438},\n",
       " {'label': 'LABEL_1', 'score': 0.9986821413040161},\n",
       " {'label': 'LABEL_3', 'score': 0.9970014095306396},\n",
       " {'label': 'LABEL_3', 'score': 0.9985322952270508},\n",
       " {'label': 'LABEL_0', 'score': 0.7393635511398315},\n",
       " {'label': 'LABEL_1', 'score': 0.9987390637397766},\n",
       " {'label': 'LABEL_0', 'score': 0.9991368055343628},\n",
       " {'label': 'LABEL_1', 'score': 0.9990751147270203},\n",
       " {'label': 'LABEL_1', 'score': 0.9990018010139465},\n",
       " {'label': 'LABEL_1', 'score': 0.9982931017875671},\n",
       " {'label': 'LABEL_1', 'score': 0.9989824295043945},\n",
       " {'label': 'LABEL_1', 'score': 0.5635462403297424},\n",
       " {'label': 'LABEL_3', 'score': 0.45430105924606323},\n",
       " {'label': 'LABEL_4', 'score': 0.9975844621658325},\n",
       " {'label': 'LABEL_1', 'score': 0.9990758895874023},\n",
       " {'label': 'LABEL_4', 'score': 0.5744563341140747},\n",
       " {'label': 'LABEL_1', 'score': 0.9991700053215027},\n",
       " {'label': 'LABEL_3', 'score': 0.6451199650764465},\n",
       " {'label': 'LABEL_0', 'score': 0.9991031885147095},\n",
       " {'label': 'LABEL_4', 'score': 0.6591418385505676},\n",
       " {'label': 'LABEL_1', 'score': 0.9991956353187561},\n",
       " {'label': 'LABEL_0', 'score': 0.9991244673728943},\n",
       " {'label': 'LABEL_1', 'score': 0.9991840720176697},\n",
       " {'label': 'LABEL_3', 'score': 0.9960132837295532},\n",
       " {'label': 'LABEL_3', 'score': 0.9981271028518677},\n",
       " {'label': 'LABEL_1', 'score': 0.9991307854652405},\n",
       " {'label': 'LABEL_4', 'score': 0.9977777600288391},\n",
       " {'label': 'LABEL_0', 'score': 0.9991077780723572},\n",
       " {'label': 'LABEL_4', 'score': 0.9976385235786438},\n",
       " {'label': 'LABEL_1', 'score': 0.999125599861145},\n",
       " {'label': 'LABEL_1', 'score': 0.9989945292472839},\n",
       " {'label': 'LABEL_0', 'score': 0.9990874528884888},\n",
       " {'label': 'LABEL_0', 'score': 0.9983168840408325},\n",
       " {'label': 'LABEL_0', 'score': 0.9990598559379578},\n",
       " {'label': 'LABEL_1', 'score': 0.9991422891616821},\n",
       " {'label': 'LABEL_4', 'score': 0.6256170868873596},\n",
       " {'label': 'LABEL_4', 'score': 0.9979671835899353},\n",
       " {'label': 'LABEL_0', 'score': 0.999136209487915},\n",
       " {'label': 'LABEL_0', 'score': 0.9991080164909363},\n",
       " {'label': 'LABEL_1', 'score': 0.9991583824157715},\n",
       " {'label': 'LABEL_5', 'score': 0.5120738744735718},\n",
       " {'label': 'LABEL_0', 'score': 0.9989789724349976},\n",
       " {'label': 'LABEL_4', 'score': 0.9973261952400208},\n",
       " {'label': 'LABEL_0', 'score': 0.9990887641906738},\n",
       " {'label': 'LABEL_5', 'score': 0.98926842212677},\n",
       " {'label': 'LABEL_4', 'score': 0.9980634450912476},\n",
       " {'label': 'LABEL_1', 'score': 0.999139130115509},\n",
       " {'label': 'LABEL_3', 'score': 0.9984667301177979},\n",
       " {'label': 'LABEL_4', 'score': 0.9977689385414124},\n",
       " {'label': 'LABEL_1', 'score': 0.9991136789321899},\n",
       " {'label': 'LABEL_1', 'score': 0.999043881893158},\n",
       " {'label': 'LABEL_3', 'score': 0.9984327554702759},\n",
       " {'label': 'LABEL_5', 'score': 0.9895886182785034},\n",
       " {'label': 'LABEL_1', 'score': 0.9989408850669861},\n",
       " {'label': 'LABEL_2', 'score': 0.9958281517028809},\n",
       " {'label': 'LABEL_1', 'score': 0.9990412592887878},\n",
       " {'label': 'LABEL_1', 'score': 0.9991316795349121},\n",
       " {'label': 'LABEL_4', 'score': 0.9974537491798401},\n",
       " {'label': 'LABEL_1', 'score': 0.9985734820365906},\n",
       " {'label': 'LABEL_2', 'score': 0.9958459138870239},\n",
       " {'label': 'LABEL_4', 'score': 0.9982170462608337},\n",
       " {'label': 'LABEL_0', 'score': 0.9991680383682251},\n",
       " {'label': 'LABEL_0', 'score': 0.9990878105163574},\n",
       " {'label': 'LABEL_0', 'score': 0.9988604784011841},\n",
       " {'label': 'LABEL_1', 'score': 0.9990510940551758},\n",
       " {'label': 'LABEL_1', 'score': 0.998542070388794},\n",
       " {'label': 'LABEL_5', 'score': 0.9639521241188049},\n",
       " {'label': 'LABEL_3', 'score': 0.9976902604103088},\n",
       " {'label': 'LABEL_2', 'score': 0.9956420660018921},\n",
       " {'label': 'LABEL_5', 'score': 0.6958037614822388},\n",
       " {'label': 'LABEL_1', 'score': 0.9989362359046936},\n",
       " {'label': 'LABEL_4', 'score': 0.9981818795204163},\n",
       " {'label': 'LABEL_1', 'score': 0.9988866448402405},\n",
       " {'label': 'LABEL_1', 'score': 0.9990976452827454},\n",
       " {'label': 'LABEL_0', 'score': 0.9990466237068176},\n",
       " {'label': 'LABEL_3', 'score': 0.6349776387214661},\n",
       " {'label': 'LABEL_4', 'score': 0.9289891123771667},\n",
       " {'label': 'LABEL_1', 'score': 0.999142050743103},\n",
       " {'label': 'LABEL_1', 'score': 0.9983474016189575},\n",
       " {'label': 'LABEL_1', 'score': 0.9991593956947327},\n",
       " {'label': 'LABEL_1', 'score': 0.9988053441047668},\n",
       " {'label': 'LABEL_0', 'score': 0.9981450438499451},\n",
       " {'label': 'LABEL_1', 'score': 0.9987742304801941},\n",
       " {'label': 'LABEL_1', 'score': 0.9992036819458008},\n",
       " {'label': 'LABEL_0', 'score': 0.9990860819816589},\n",
       " {'label': 'LABEL_1', 'score': 0.9991860389709473},\n",
       " {'label': 'LABEL_0', 'score': 0.9986382126808167},\n",
       " {'label': 'LABEL_2', 'score': 0.9956865906715393},\n",
       " {'label': 'LABEL_0', 'score': 0.9990137219429016},\n",
       " {'label': 'LABEL_1', 'score': 0.9992061853408813},\n",
       " {'label': 'LABEL_3', 'score': 0.9981929063796997},\n",
       " {'label': 'LABEL_1', 'score': 0.998896062374115},\n",
       " {'label': 'LABEL_1', 'score': 0.9991661310195923},\n",
       " {'label': 'LABEL_0', 'score': 0.9991257786750793},\n",
       " {'label': 'LABEL_1', 'score': 0.9991345405578613},\n",
       " {'label': 'LABEL_1', 'score': 0.9989480376243591},\n",
       " {'label': 'LABEL_1', 'score': 0.998764157295227},\n",
       " {'label': 'LABEL_0', 'score': 0.9991294145584106},\n",
       " {'label': 'LABEL_0', 'score': 0.9988093376159668},\n",
       " {'label': 'LABEL_1', 'score': 0.9985987544059753},\n",
       " {'label': 'LABEL_1', 'score': 0.9990500807762146},\n",
       " {'label': 'LABEL_0', 'score': 0.9990379810333252},\n",
       " {'label': 'LABEL_1', 'score': 0.9989016056060791},\n",
       " {'label': 'LABEL_1', 'score': 0.9991629719734192},\n",
       " {'label': 'LABEL_1', 'score': 0.9991258382797241},\n",
       " {'label': 'LABEL_4', 'score': 0.9979510307312012},\n",
       " {'label': 'LABEL_0', 'score': 0.9989936947822571},\n",
       " {'label': 'LABEL_5', 'score': 0.991070032119751},\n",
       " {'label': 'LABEL_1', 'score': 0.9971258044242859},\n",
       " {'label': 'LABEL_1', 'score': 0.6575862765312195},\n",
       " {'label': 'LABEL_1', 'score': 0.998934268951416},\n",
       " {'label': 'LABEL_3', 'score': 0.9985949993133545},\n",
       " {'label': 'LABEL_0', 'score': 0.9989808797836304},\n",
       " {'label': 'LABEL_1', 'score': 0.9973212480545044},\n",
       " {'label': 'LABEL_4', 'score': 0.9974981546401978},\n",
       " {'label': 'LABEL_3', 'score': 0.9983389973640442},\n",
       " {'label': 'LABEL_4', 'score': 0.9976839423179626},\n",
       " {'label': 'LABEL_1', 'score': 0.5717764496803284},\n",
       " {'label': 'LABEL_2', 'score': 0.9948520660400391},\n",
       " {'label': 'LABEL_1', 'score': 0.9990282654762268},\n",
       " {'label': 'LABEL_4', 'score': 0.9981674551963806},\n",
       " {'label': 'LABEL_0', 'score': 0.9990780353546143},\n",
       " {'label': 'LABEL_4', 'score': 0.9978259205818176},\n",
       " {'label': 'LABEL_0', 'score': 0.9990339875221252},\n",
       " {'label': 'LABEL_0', 'score': 0.9991114735603333},\n",
       " {'label': 'LABEL_3', 'score': 0.9982349276542664},\n",
       " {'label': 'LABEL_0', 'score': 0.9990062117576599},\n",
       " {'label': 'LABEL_4', 'score': 0.9977363348007202},\n",
       " {'label': 'LABEL_3', 'score': 0.9974827766418457},\n",
       " {'label': 'LABEL_0', 'score': 0.9988704919815063},\n",
       " {'label': 'LABEL_0', 'score': 0.912832498550415},\n",
       " {'label': 'LABEL_0', 'score': 0.9990940093994141},\n",
       " {'label': 'LABEL_2', 'score': 0.995967447757721},\n",
       " {'label': 'LABEL_1', 'score': 0.9967861175537109},\n",
       " {'label': 'LABEL_1', 'score': 0.9991168975830078},\n",
       " {'label': 'LABEL_0', 'score': 0.8846861124038696},\n",
       " {'label': 'LABEL_1', 'score': 0.9978678822517395},\n",
       " {'label': 'LABEL_1', 'score': 0.9986684322357178},\n",
       " {'label': 'LABEL_0', 'score': 0.9987853169441223},\n",
       " {'label': 'LABEL_1', 'score': 0.9990087747573853},\n",
       " {'label': 'LABEL_0', 'score': 0.9991737604141235},\n",
       " {'label': 'LABEL_5', 'score': 0.9897440075874329},\n",
       " {'label': 'LABEL_4', 'score': 0.9978074431419373},\n",
       " {'label': 'LABEL_3', 'score': 0.5215455293655396},\n",
       " {'label': 'LABEL_4', 'score': 0.9970077276229858},\n",
       " {'label': 'LABEL_1', 'score': 0.9991697072982788},\n",
       " {'label': 'LABEL_1', 'score': 0.9992148280143738},\n",
       " {'label': 'LABEL_3', 'score': 0.9985976219177246},\n",
       " {'label': 'LABEL_1', 'score': 0.9990330338478088},\n",
       " {'label': 'LABEL_2', 'score': 0.9961310625076294},\n",
       " {'label': 'LABEL_1', 'score': 0.9992018342018127},\n",
       " {'label': 'LABEL_3', 'score': 0.9986119866371155},\n",
       " {'label': 'LABEL_3', 'score': 0.9985472559928894},\n",
       " {'label': 'LABEL_2', 'score': 0.52156001329422},\n",
       " {'label': 'LABEL_1', 'score': 0.9990258812904358},\n",
       " {'label': 'LABEL_4', 'score': 0.9979430437088013},\n",
       " {'label': 'LABEL_5', 'score': 0.9920104742050171},\n",
       " {'label': 'LABEL_3', 'score': 0.9986090660095215},\n",
       " {'label': 'LABEL_0', 'score': 0.999056339263916},\n",
       " {'label': 'LABEL_0', 'score': 0.6869127154350281},\n",
       " {'label': 'LABEL_4', 'score': 0.9978480339050293},\n",
       " {'label': 'LABEL_3', 'score': 0.9979719519615173},\n",
       " {'label': 'LABEL_1', 'score': 0.9984575510025024},\n",
       " {'label': 'LABEL_0', 'score': 0.9985557198524475},\n",
       " {'label': 'LABEL_3', 'score': 0.998604416847229},\n",
       " {'label': 'LABEL_3', 'score': 0.9981679320335388},\n",
       " {'label': 'LABEL_0', 'score': 0.9990558624267578},\n",
       " {'label': 'LABEL_1', 'score': 0.9988979697227478},\n",
       " {'label': 'LABEL_2', 'score': 0.9910622835159302},\n",
       " {'label': 'LABEL_0', 'score': 0.9990735650062561},\n",
       " {'label': 'LABEL_4', 'score': 0.5954362750053406},\n",
       " {'label': 'LABEL_0', 'score': 0.9990683197975159},\n",
       " {'label': 'LABEL_0', 'score': 0.9991445541381836},\n",
       " {'label': 'LABEL_1', 'score': 0.9991055130958557},\n",
       " {'label': 'LABEL_2', 'score': 0.565841794013977},\n",
       " {'label': 'LABEL_1', 'score': 0.9974806904792786},\n",
       " {'label': 'LABEL_2', 'score': 0.9959956407546997},\n",
       " {'label': 'LABEL_4', 'score': 0.6939786672592163},\n",
       " {'label': 'LABEL_2', 'score': 0.719274640083313},\n",
       " {'label': 'LABEL_1', 'score': 0.9992078542709351},\n",
       " {'label': 'LABEL_0', 'score': 0.9990668296813965},\n",
       " {'label': 'LABEL_3', 'score': 0.9978989362716675},\n",
       " {'label': 'LABEL_3', 'score': 0.998209536075592},\n",
       " {'label': 'LABEL_1', 'score': 0.9982256293296814},\n",
       " {'label': 'LABEL_4', 'score': 0.9331188201904297},\n",
       " {'label': 'LABEL_0', 'score': 0.9991894364356995},\n",
       " {'label': 'LABEL_0', 'score': 0.9991267919540405},\n",
       " {'label': 'LABEL_4', 'score': 0.9976140856742859},\n",
       " {'label': 'LABEL_0', 'score': 0.9989410638809204},\n",
       " {'label': 'LABEL_0', 'score': 0.9991359710693359},\n",
       " {'label': 'LABEL_1', 'score': 0.9991875886917114},\n",
       " {'label': 'LABEL_0', 'score': 0.9965319037437439},\n",
       " {'label': 'LABEL_0', 'score': 0.9991424083709717},\n",
       " {'label': 'LABEL_4', 'score': 0.5974228978157043},\n",
       " {'label': 'LABEL_2', 'score': 0.9958122372627258},\n",
       " {'label': 'LABEL_1', 'score': 0.9991084337234497},\n",
       " {'label': 'LABEL_0', 'score': 0.9991140365600586},\n",
       " {'label': 'LABEL_3', 'score': 0.9983277320861816},\n",
       " {'label': 'LABEL_2', 'score': 0.5763452649116516},\n",
       " {'label': 'LABEL_1', 'score': 0.9991822242736816},\n",
       " {'label': 'LABEL_1', 'score': 0.9990462064743042},\n",
       " {'label': 'LABEL_1', 'score': 0.9991059303283691},\n",
       " {'label': 'LABEL_3', 'score': 0.9984959959983826},\n",
       " {'label': 'LABEL_0', 'score': 0.9991337656974792},\n",
       " {'label': 'LABEL_0', 'score': 0.9990857243537903},\n",
       " {'label': 'LABEL_0', 'score': 0.9991181492805481},\n",
       " {'label': 'LABEL_1', 'score': 0.9985418319702148},\n",
       " {'label': 'LABEL_4', 'score': 0.9977496266365051},\n",
       " {'label': 'LABEL_1', 'score': 0.9989580512046814},\n",
       " {'label': 'LABEL_0', 'score': 0.999205470085144},\n",
       " {'label': 'LABEL_3', 'score': 0.6150882244110107},\n",
       " {'label': 'LABEL_0', 'score': 0.9991560578346252},\n",
       " {'label': 'LABEL_1', 'score': 0.9981853365898132},\n",
       " {'label': 'LABEL_0', 'score': 0.9991647005081177},\n",
       " {'label': 'LABEL_1', 'score': 0.9960657358169556},\n",
       " {'label': 'LABEL_1', 'score': 0.9990495443344116},\n",
       " {'label': 'LABEL_1', 'score': 0.9981979131698608},\n",
       " {'label': 'LABEL_1', 'score': 0.9986293315887451},\n",
       " {'label': 'LABEL_4', 'score': 0.9976779222488403},\n",
       " {'label': 'LABEL_1', 'score': 0.9990807771682739},\n",
       " {'label': 'LABEL_1', 'score': 0.7781684994697571},\n",
       " {'label': 'LABEL_1', 'score': 0.9991304278373718},\n",
       " {'label': 'LABEL_4', 'score': 0.9977605938911438},\n",
       " {'label': 'LABEL_1', 'score': 0.9989089369773865},\n",
       " {'label': 'LABEL_2', 'score': 0.9964020848274231},\n",
       " {'label': 'LABEL_4', 'score': 0.5329728722572327},\n",
       " {'label': 'LABEL_0', 'score': 0.9991108179092407},\n",
       " {'label': 'LABEL_1', 'score': 0.9992126822471619},\n",
       " {'label': 'LABEL_3', 'score': 0.99854975938797},\n",
       " {'label': 'LABEL_0', 'score': 0.9988729953765869},\n",
       " {'label': 'LABEL_4', 'score': 0.997894823551178},\n",
       " {'label': 'LABEL_1', 'score': 0.998389482498169},\n",
       " {'label': 'LABEL_2', 'score': 0.7190659642219543},\n",
       " {'label': 'LABEL_4', 'score': 0.9980586171150208},\n",
       " {'label': 'LABEL_1', 'score': 0.9985227584838867},\n",
       " {'label': 'LABEL_1', 'score': 0.998999834060669},\n",
       " {'label': 'LABEL_3', 'score': 0.9985653758049011},\n",
       " {'label': 'LABEL_1', 'score': 0.9991074800491333},\n",
       " {'label': 'LABEL_1', 'score': 0.9990336298942566},\n",
       " {'label': 'LABEL_1', 'score': 0.9990794658660889},\n",
       " {'label': 'LABEL_3', 'score': 0.9983405470848083},\n",
       " {'label': 'LABEL_1', 'score': 0.9990960955619812},\n",
       " {'label': 'LABEL_2', 'score': 0.9964053630828857},\n",
       " {'label': 'LABEL_1', 'score': 0.8240675926208496},\n",
       " {'label': 'LABEL_1', 'score': 0.9988419413566589},\n",
       " {'label': 'LABEL_1', 'score': 0.9988358616828918},\n",
       " {'label': 'LABEL_3', 'score': 0.6412327289581299},\n",
       " {'label': 'LABEL_1', 'score': 0.9989790320396423},\n",
       " {'label': 'LABEL_3', 'score': 0.9973012804985046},\n",
       " {'label': 'LABEL_1', 'score': 0.9991466403007507},\n",
       " {'label': 'LABEL_0', 'score': 0.997961699962616},\n",
       " {'label': 'LABEL_3', 'score': 0.9981523752212524},\n",
       " {'label': 'LABEL_1', 'score': 0.9991751313209534},\n",
       " {'label': 'LABEL_3', 'score': 0.9981685280799866},\n",
       " {'label': 'LABEL_3', 'score': 0.9984127283096313},\n",
       " {'label': 'LABEL_4', 'score': 0.9981884360313416},\n",
       " {'label': 'LABEL_0', 'score': 0.9983706474304199},\n",
       " {'label': 'LABEL_3', 'score': 0.9960986375808716},\n",
       " {'label': 'LABEL_2', 'score': 0.9955086708068848},\n",
       " {'label': 'LABEL_4', 'score': 0.9980106353759766},\n",
       " {'label': 'LABEL_1', 'score': 0.9990008473396301},\n",
       " {'label': 'LABEL_2', 'score': 0.9955229759216309},\n",
       " {'label': 'LABEL_0', 'score': 0.9991733431816101},\n",
       " {'label': 'LABEL_3', 'score': 0.9980936646461487},\n",
       " {'label': 'LABEL_1', 'score': 0.999180018901825},\n",
       " {'label': 'LABEL_2', 'score': 0.9958472847938538},\n",
       " {'label': 'LABEL_1', 'score': 0.9988550543785095},\n",
       " {'label': 'LABEL_3', 'score': 0.9982598423957825},\n",
       " {'label': 'LABEL_1', 'score': 0.9991508722305298},\n",
       " {'label': 'LABEL_1', 'score': 0.9981350898742676},\n",
       " {'label': 'LABEL_3', 'score': 0.807300329208374},\n",
       " {'label': 'LABEL_1', 'score': 0.9972904324531555},\n",
       " {'label': 'LABEL_1', 'score': 0.9987532496452332},\n",
       " {'label': 'LABEL_1', 'score': 0.9992156028747559},\n",
       " {'label': 'LABEL_5', 'score': 0.9912837147712708},\n",
       " {'label': 'LABEL_1', 'score': 0.9991003274917603},\n",
       " {'label': 'LABEL_0', 'score': 0.9990434646606445},\n",
       " {'label': 'LABEL_2', 'score': 0.9961249232292175},\n",
       " {'label': 'LABEL_0', 'score': 0.9991480112075806},\n",
       " {'label': 'LABEL_1', 'score': 0.9988874793052673},\n",
       " {'label': 'LABEL_2', 'score': 0.9954997301101685},\n",
       " {'label': 'LABEL_0', 'score': 0.9990220665931702},\n",
       " {'label': 'LABEL_1', 'score': 0.9990622997283936},\n",
       " {'label': 'LABEL_2', 'score': 0.6303426027297974},\n",
       " {'label': 'LABEL_1', 'score': 0.9991574883460999},\n",
       " {'label': 'LABEL_1', 'score': 0.9988803863525391},\n",
       " {'label': 'LABEL_0', 'score': 0.9990251660346985},\n",
       " {'label': 'LABEL_1', 'score': 0.9985405206680298},\n",
       " {'label': 'LABEL_3', 'score': 0.998529851436615},\n",
       " {'label': 'LABEL_1', 'score': 0.9966284036636353},\n",
       " {'label': 'LABEL_0', 'score': 0.999053418636322},\n",
       " {'label': 'LABEL_1', 'score': 0.9992281198501587},\n",
       " {'label': 'LABEL_0', 'score': 0.9991375803947449},\n",
       " {'label': 'LABEL_2', 'score': 0.9958623647689819},\n",
       " {'label': 'LABEL_0', 'score': 0.5080212950706482},\n",
       " {'label': 'LABEL_2', 'score': 0.5645391941070557},\n",
       " {'label': 'LABEL_5', 'score': 0.506860077381134},\n",
       " {'label': 'LABEL_3', 'score': 0.9957305192947388},\n",
       " {'label': 'LABEL_3', 'score': 0.7555603981018066},\n",
       " {'label': 'LABEL_4', 'score': 0.9982877373695374},\n",
       " {'label': 'LABEL_1', 'score': 0.9990573525428772},\n",
       " {'label': 'LABEL_4', 'score': 0.9979892373085022},\n",
       " {'label': 'LABEL_3', 'score': 0.9983590245246887},\n",
       " {'label': 'LABEL_0', 'score': 0.9990439414978027},\n",
       " {'label': 'LABEL_0', 'score': 0.9991514682769775},\n",
       " {'label': 'LABEL_2', 'score': 0.9955804347991943},\n",
       " {'label': 'LABEL_1', 'score': 0.9990215301513672},\n",
       " {'label': 'LABEL_1', 'score': 0.998612642288208},\n",
       " {'label': 'LABEL_1', 'score': 0.9991785287857056},\n",
       " {'label': 'LABEL_3', 'score': 0.9982331395149231},\n",
       " {'label': 'LABEL_3', 'score': 0.9976230263710022},\n",
       " {'label': 'LABEL_1', 'score': 0.9984506368637085},\n",
       " {'label': 'LABEL_2', 'score': 0.5335305333137512},\n",
       " {'label': 'LABEL_1', 'score': 0.9987384080886841},\n",
       " {'label': 'LABEL_3', 'score': 0.9984666705131531},\n",
       " {'label': 'LABEL_0', 'score': 0.9979270100593567},\n",
       " {'label': 'LABEL_5', 'score': 0.9911450147628784},\n",
       " {'label': 'LABEL_2', 'score': 0.9960563778877258},\n",
       " {'label': 'LABEL_0', 'score': 0.9990847706794739},\n",
       " {'label': 'LABEL_0', 'score': 0.9970179796218872},\n",
       " {'label': 'LABEL_0', 'score': 0.9988172650337219},\n",
       " {'label': 'LABEL_5', 'score': 0.9906175136566162},\n",
       " {'label': 'LABEL_1', 'score': 0.9991725087165833},\n",
       " {'label': 'LABEL_0', 'score': 0.999051034450531},\n",
       " {'label': 'LABEL_0', 'score': 0.9990970492362976},\n",
       " {'label': 'LABEL_0', 'score': 0.9991052150726318},\n",
       " {'label': 'LABEL_0', 'score': 0.9987888336181641},\n",
       " {'label': 'LABEL_1', 'score': 0.9989179372787476},\n",
       " {'label': 'LABEL_0', 'score': 0.9990858435630798},\n",
       " {'label': 'LABEL_0', 'score': 0.9991289973258972},\n",
       " {'label': 'LABEL_5', 'score': 0.9871845245361328},\n",
       " {'label': 'LABEL_2', 'score': 0.9961135387420654},\n",
       " {'label': 'LABEL_0', 'score': 0.9989916086196899},\n",
       " {'label': 'LABEL_3', 'score': 0.998615026473999},\n",
       " {'label': 'LABEL_1', 'score': 0.9991652965545654},\n",
       " {'label': 'LABEL_1', 'score': 0.9990836381912231},\n",
       " {'label': 'LABEL_1', 'score': 0.9987946152687073},\n",
       " {'label': 'LABEL_1', 'score': 0.9982684850692749},\n",
       " {'label': 'LABEL_1', 'score': 0.9985045194625854},\n",
       " {'label': 'LABEL_1', 'score': 0.9987385272979736},\n",
       " {'label': 'LABEL_1', 'score': 0.9988359808921814},\n",
       " {'label': 'LABEL_3', 'score': 0.9976449608802795},\n",
       " {'label': 'LABEL_0', 'score': 0.9991238713264465},\n",
       " {'label': 'LABEL_0', 'score': 0.9991394281387329},\n",
       " {'label': 'LABEL_4', 'score': 0.9976940155029297},\n",
       " {'label': 'LABEL_3', 'score': 0.9986314177513123},\n",
       " {'label': 'LABEL_1', 'score': 0.998910129070282},\n",
       " {'label': 'LABEL_1', 'score': 0.9988524317741394},\n",
       " {'label': 'LABEL_0', 'score': 0.9989186525344849},\n",
       " {'label': 'LABEL_4', 'score': 0.997663676738739},\n",
       " {'label': 'LABEL_0', 'score': 0.9990100264549255},\n",
       " {'label': 'LABEL_0', 'score': 0.9990049004554749},\n",
       " {'label': 'LABEL_0', 'score': 0.9991564750671387},\n",
       " {'label': 'LABEL_4', 'score': 0.9978905320167542},\n",
       " {'label': 'LABEL_2', 'score': 0.9958128929138184},\n",
       " {'label': 'LABEL_4', 'score': 0.7527321577072144},\n",
       " {'label': 'LABEL_2', 'score': 0.7483928203582764},\n",
       " {'label': 'LABEL_0', 'score': 0.9992036819458008},\n",
       " {'label': 'LABEL_0', 'score': 0.9657766819000244},\n",
       " {'label': 'LABEL_3', 'score': 0.9985821843147278},\n",
       " {'label': 'LABEL_0', 'score': 0.9991077780723572},\n",
       " {'label': 'LABEL_0', 'score': 0.9990885853767395},\n",
       " {'label': 'LABEL_0', 'score': 0.9991060495376587},\n",
       " {'label': 'LABEL_1', 'score': 0.9991630911827087},\n",
       " {'label': 'LABEL_0', 'score': 0.9990794062614441},\n",
       " {'label': 'LABEL_3', 'score': 0.9982631206512451},\n",
       " {'label': 'LABEL_0', 'score': 0.9989496469497681},\n",
       " {'label': 'LABEL_3', 'score': 0.998634397983551},\n",
       " {'label': 'LABEL_0', 'score': 0.9988371133804321},\n",
       " {'label': 'LABEL_0', 'score': 0.9990850687026978},\n",
       " {'label': 'LABEL_2', 'score': 0.9960837960243225},\n",
       " {'label': 'LABEL_3', 'score': 0.9974687695503235},\n",
       " {'label': 'LABEL_2', 'score': 0.9961962699890137},\n",
       " {'label': 'LABEL_1', 'score': 0.9991940259933472},\n",
       " {'label': 'LABEL_1', 'score': 0.99916672706604},\n",
       " {'label': 'LABEL_0', 'score': 0.9990929961204529},\n",
       " {'label': 'LABEL_2', 'score': 0.9957238435745239},\n",
       " {'label': 'LABEL_4', 'score': 0.9979939460754395},\n",
       " {'label': 'LABEL_1', 'score': 0.9989845156669617},\n",
       " {'label': 'LABEL_0', 'score': 0.9991236329078674},\n",
       " {'label': 'LABEL_4', 'score': 0.7087715864181519},\n",
       " {'label': 'LABEL_1', 'score': 0.9989685416221619},\n",
       " {'label': 'LABEL_0', 'score': 0.9991224408149719},\n",
       " {'label': 'LABEL_0', 'score': 0.9991105794906616},\n",
       " {'label': 'LABEL_1', 'score': 0.997243344783783},\n",
       " {'label': 'LABEL_2', 'score': 0.9957048296928406},\n",
       " {'label': 'LABEL_0', 'score': 0.9990246295928955},\n",
       " {'label': 'LABEL_1', 'score': 0.4973990321159363},\n",
       " {'label': 'LABEL_0', 'score': 0.999072790145874},\n",
       " {'label': 'LABEL_5', 'score': 0.990290641784668},\n",
       " {'label': 'LABEL_2', 'score': 0.9942622780799866},\n",
       " {'label': 'LABEL_0', 'score': 0.9989970922470093},\n",
       " {'label': 'LABEL_4', 'score': 0.9972513914108276},\n",
       " {'label': 'LABEL_5', 'score': 0.991566002368927},\n",
       " {'label': 'LABEL_0', 'score': 0.9991143941879272},\n",
       " {'label': 'LABEL_1', 'score': 0.9991657733917236},\n",
       " {'label': 'LABEL_2', 'score': 0.9956628680229187},\n",
       " {'label': 'LABEL_4', 'score': 0.9980703592300415},\n",
       " {'label': 'LABEL_2', 'score': 0.9960678219795227},\n",
       " {'label': 'LABEL_0', 'score': 0.9989418983459473},\n",
       " {'label': 'LABEL_5', 'score': 0.9917086362838745},\n",
       " {'label': 'LABEL_2', 'score': 0.9954149127006531},\n",
       " {'label': 'LABEL_0', 'score': 0.9977344870567322},\n",
       " {'label': 'LABEL_0', 'score': 0.9989485740661621},\n",
       " {'label': 'LABEL_2', 'score': 0.5335389375686646},\n",
       " {'label': 'LABEL_5', 'score': 0.6862080693244934},\n",
       " {'label': 'LABEL_1', 'score': 0.9991965293884277},\n",
       " {'label': 'LABEL_1', 'score': 0.9989804625511169},\n",
       " {'label': 'LABEL_4', 'score': 0.9975032210350037},\n",
       " {'label': 'LABEL_0', 'score': 0.9990562200546265},\n",
       " {'label': 'LABEL_4', 'score': 0.9981172680854797},\n",
       " {'label': 'LABEL_0', 'score': 0.9989413619041443},\n",
       " {'label': 'LABEL_3', 'score': 0.9981870055198669},\n",
       " {'label': 'LABEL_0', 'score': 0.9990898966789246},\n",
       " {'label': 'LABEL_0', 'score': 0.9991371631622314},\n",
       " {'label': 'LABEL_0', 'score': 0.9990948438644409},\n",
       " {'label': 'LABEL_3', 'score': 0.9985882639884949},\n",
       " {'label': 'LABEL_0', 'score': 0.9991232752799988},\n",
       " {'label': 'LABEL_2', 'score': 0.9952858090400696},\n",
       " {'label': 'LABEL_0', 'score': 0.9991202354431152},\n",
       " {'label': 'LABEL_1', 'score': 0.5717764496803284},\n",
       " {'label': 'LABEL_1', 'score': 0.9991971254348755},\n",
       " {'label': 'LABEL_5', 'score': 0.9890323877334595},\n",
       " {'label': 'LABEL_1', 'score': 0.9991040825843811},\n",
       " {'label': 'LABEL_0', 'score': 0.9989225268363953},\n",
       " {'label': 'LABEL_0', 'score': 0.9989528059959412},\n",
       " {'label': 'LABEL_1', 'score': 0.9992382526397705},\n",
       " {'label': 'LABEL_2', 'score': 0.5886895060539246},\n",
       " {'label': 'LABEL_1', 'score': 0.9989931583404541},\n",
       " {'label': 'LABEL_3', 'score': 0.9985849261283875},\n",
       " {'label': 'LABEL_2', 'score': 0.783480167388916},\n",
       " {'label': 'LABEL_1', 'score': 0.998958945274353},\n",
       " {'label': 'LABEL_1', 'score': 0.9992104768753052},\n",
       " {'label': 'LABEL_1', 'score': 0.9582086205482483},\n",
       " {'label': 'LABEL_1', 'score': 0.9991323947906494},\n",
       " {'label': 'LABEL_0', 'score': 0.9991016983985901},\n",
       " {'label': 'LABEL_0', 'score': 0.9991161823272705},\n",
       " {'label': 'LABEL_1', 'score': 0.9992662072181702},\n",
       " {'label': 'LABEL_4', 'score': 0.653052031993866},\n",
       " {'label': 'LABEL_3', 'score': 0.9958583116531372},\n",
       " {'label': 'LABEL_0', 'score': 0.9987006187438965},\n",
       " {'label': 'LABEL_3', 'score': 0.9985913634300232},\n",
       " {'label': 'LABEL_0', 'score': 0.9991417527198792},\n",
       " {'label': 'LABEL_0', 'score': 0.9991344809532166},\n",
       " {'label': 'LABEL_1', 'score': 0.9990481734275818},\n",
       " {'label': 'LABEL_1', 'score': 0.9991336464881897},\n",
       " {'label': 'LABEL_5', 'score': 0.9910827875137329},\n",
       " {'label': 'LABEL_1', 'score': 0.998664140701294},\n",
       " {'label': 'LABEL_1', 'score': 0.9984931349754333},\n",
       " {'label': 'LABEL_1', 'score': 0.9990754127502441},\n",
       " {'label': 'LABEL_3', 'score': 0.9979780316352844},\n",
       " {'label': 'LABEL_4', 'score': 0.9973577857017517},\n",
       " {'label': 'LABEL_0', 'score': 0.9990624785423279},\n",
       " {'label': 'LABEL_1', 'score': 0.9986259341239929},\n",
       " {'label': 'LABEL_0', 'score': 0.998864471912384},\n",
       " {'label': 'LABEL_4', 'score': 0.647266149520874},\n",
       " {'label': 'LABEL_4', 'score': 0.997774064540863},\n",
       " {'label': 'LABEL_1', 'score': 0.9987710118293762},\n",
       " {'label': 'LABEL_4', 'score': 0.997778058052063},\n",
       " {'label': 'LABEL_2', 'score': 0.9963393807411194},\n",
       " {'label': 'LABEL_3', 'score': 0.998253345489502},\n",
       " {'label': 'LABEL_1', 'score': 0.9989959597587585},\n",
       " {'label': 'LABEL_3', 'score': 0.9978910088539124},\n",
       " {'label': 'LABEL_1', 'score': 0.9966649413108826},\n",
       " {'label': 'LABEL_0', 'score': 0.9991160035133362},\n",
       " {'label': 'LABEL_1', 'score': 0.9992401003837585},\n",
       " {'label': 'LABEL_4', 'score': 0.9968262314796448},\n",
       " {'label': 'LABEL_0', 'score': 0.999173104763031},\n",
       " {'label': 'LABEL_1', 'score': 0.9990635514259338},\n",
       " {'label': 'LABEL_0', 'score': 0.9986666440963745},\n",
       " {'label': 'LABEL_0', 'score': 0.9990449547767639},\n",
       " {'label': 'LABEL_1', 'score': 0.9810751676559448},\n",
       " {'label': 'LABEL_1', 'score': 0.9980847239494324},\n",
       " {'label': 'LABEL_2', 'score': 0.9956474304199219},\n",
       " {'label': 'LABEL_0', 'score': 0.9990986585617065},\n",
       " {'label': 'LABEL_0', 'score': 0.9991294741630554},\n",
       " {'label': 'LABEL_2', 'score': 0.9946569204330444},\n",
       " {'label': 'LABEL_3', 'score': 0.9980813264846802},\n",
       " {'label': 'LABEL_2', 'score': 0.995628833770752},\n",
       " {'label': 'LABEL_2', 'score': 0.9963127374649048},\n",
       " {'label': 'LABEL_2', 'score': 0.933925449848175},\n",
       " {'label': 'LABEL_1', 'score': 0.9988698363304138},\n",
       " {'label': 'LABEL_4', 'score': 0.9355521202087402},\n",
       " {'label': 'LABEL_2', 'score': 0.9960864186286926},\n",
       " {'label': 'LABEL_1', 'score': 0.9990683794021606},\n",
       " {'label': 'LABEL_1', 'score': 0.9990663528442383},\n",
       " {'label': 'LABEL_1', 'score': 0.9991394877433777},\n",
       " {'label': 'LABEL_3', 'score': 0.998393177986145},\n",
       " {'label': 'LABEL_2', 'score': 0.6060906648635864},\n",
       " {'label': 'LABEL_2', 'score': 0.9960334300994873},\n",
       " {'label': 'LABEL_0', 'score': 0.9990924596786499},\n",
       " {'label': 'LABEL_5', 'score': 0.6929540038108826},\n",
       " {'label': 'LABEL_1', 'score': 0.9986733794212341},\n",
       " {'label': 'LABEL_1', 'score': 0.999165415763855},\n",
       " {'label': 'LABEL_1', 'score': 0.9992011785507202},\n",
       " {'label': 'LABEL_1', 'score': 0.9986100196838379},\n",
       " {'label': 'LABEL_0', 'score': 0.9991118311882019},\n",
       " {'label': 'LABEL_2', 'score': 0.9953985214233398},\n",
       " {'label': 'LABEL_1', 'score': 0.999016284942627},\n",
       " {'label': 'LABEL_0', 'score': 0.9990144371986389},\n",
       " {'label': 'LABEL_1', 'score': 0.9989855289459229},\n",
       " {'label': 'LABEL_2', 'score': 0.6754686236381531},\n",
       " {'label': 'LABEL_4', 'score': 0.997853696346283},\n",
       " {'label': 'LABEL_4', 'score': 0.5415353178977966},\n",
       " {'label': 'LABEL_0', 'score': 0.9990427494049072},\n",
       " {'label': 'LABEL_1', 'score': 0.9990981221199036},\n",
       " {'label': 'LABEL_0', 'score': 0.9990482330322266},\n",
       " {'label': 'LABEL_4', 'score': 0.9980619549751282},\n",
       " {'label': 'LABEL_0', 'score': 0.9991227388381958},\n",
       " {'label': 'LABEL_4', 'score': 0.9976169466972351},\n",
       " {'label': 'LABEL_1', 'score': 0.9991772770881653},\n",
       " {'label': 'LABEL_0', 'score': 0.9991328120231628},\n",
       " {'label': 'LABEL_0', 'score': 0.9987567067146301},\n",
       " {'label': 'LABEL_3', 'score': 0.9982149600982666},\n",
       " {'label': 'LABEL_0', 'score': 0.9991652965545654},\n",
       " {'label': 'LABEL_1', 'score': 0.9990020394325256},\n",
       " {'label': 'LABEL_2', 'score': 0.9961123466491699},\n",
       " {'label': 'LABEL_3', 'score': 0.9985635280609131},\n",
       " {'label': 'LABEL_1', 'score': 0.999139666557312},\n",
       " {'label': 'LABEL_1', 'score': 0.9992427229881287},\n",
       " {'label': 'LABEL_0', 'score': 0.9991003274917603},\n",
       " {'label': 'LABEL_1', 'score': 0.8437318801879883},\n",
       " {'label': 'LABEL_3', 'score': 0.9984200596809387},\n",
       " {'label': 'LABEL_0', 'score': 0.999125063419342},\n",
       " {'label': 'LABEL_3', 'score': 0.9984063506126404},\n",
       " {'label': 'LABEL_1', 'score': 0.9986146688461304},\n",
       " {'label': 'LABEL_1', 'score': 0.9991402626037598},\n",
       " {'label': 'LABEL_3', 'score': 0.9974049925804138},\n",
       " {'label': 'LABEL_3', 'score': 0.9984588027000427},\n",
       " {'label': 'LABEL_4', 'score': 0.9982104897499084},\n",
       " {'label': 'LABEL_0', 'score': 0.9986419677734375},\n",
       " {'label': 'LABEL_3', 'score': 0.9984697103500366},\n",
       " {'label': 'LABEL_1', 'score': 0.9991923570632935},\n",
       " {'label': 'LABEL_1', 'score': 0.9992489218711853},\n",
       " {'label': 'LABEL_4', 'score': 0.9978052377700806},\n",
       " {'label': 'LABEL_1', 'score': 0.5907617211341858},\n",
       " {'label': 'LABEL_4', 'score': 0.9980967044830322},\n",
       " {'label': 'LABEL_0', 'score': 0.999080240726471},\n",
       " {'label': 'LABEL_5', 'score': 0.9881293177604675},\n",
       " {'label': 'LABEL_1', 'score': 0.9990866184234619},\n",
       " {'label': 'LABEL_1', 'score': 0.9992355108261108},\n",
       " {'label': 'LABEL_3', 'score': 0.6213900446891785},\n",
       " {'label': 'LABEL_0', 'score': 0.9990991950035095},\n",
       " {'label': 'LABEL_1', 'score': 0.9991374611854553},\n",
       " {'label': 'LABEL_4', 'score': 0.9980871677398682},\n",
       " {'label': 'LABEL_0', 'score': 0.9991209506988525},\n",
       " {'label': 'LABEL_0', 'score': 0.616310715675354},\n",
       " {'label': 'LABEL_3', 'score': 0.9982529282569885},\n",
       " {'label': 'LABEL_1', 'score': 0.998347818851471},\n",
       " {'label': 'LABEL_4', 'score': 0.5438680052757263},\n",
       " {'label': 'LABEL_0', 'score': 0.9991016983985901},\n",
       " {'label': 'LABEL_0', 'score': 0.9990227222442627},\n",
       " {'label': 'LABEL_0', 'score': 0.9991133809089661},\n",
       " {'label': 'LABEL_0', 'score': 0.9991045594215393},\n",
       " {'label': 'LABEL_1', 'score': 0.9990901947021484},\n",
       " {'label': 'LABEL_1', 'score': 0.9990018606185913},\n",
       " {'label': 'LABEL_5', 'score': 0.9867445230484009},\n",
       " {'label': 'LABEL_1', 'score': 0.9990454912185669},\n",
       " {'label': 'LABEL_1', 'score': 0.9990534782409668},\n",
       " {'label': 'LABEL_1', 'score': 0.9988312125205994},\n",
       " {'label': 'LABEL_3', 'score': 0.9969300627708435},\n",
       " {'label': 'LABEL_0', 'score': 0.9989283084869385},\n",
       " {'label': 'LABEL_1', 'score': 0.9990014433860779},\n",
       " {'label': 'LABEL_1', 'score': 0.61353600025177},\n",
       " {'label': 'LABEL_5', 'score': 0.9891937375068665},\n",
       " {'label': 'LABEL_4', 'score': 0.998007595539093},\n",
       " {'label': 'LABEL_1', 'score': 0.9981296062469482},\n",
       " {'label': 'LABEL_4', 'score': 0.9974891543388367},\n",
       " {'label': 'LABEL_3', 'score': 0.9985281825065613},\n",
       " {'label': 'LABEL_1', 'score': 0.9991553425788879},\n",
       " {'label': 'LABEL_3', 'score': 0.9986076951026917},\n",
       " {'label': 'LABEL_1', 'score': 0.9992552995681763},\n",
       " {'label': 'LABEL_3', 'score': 0.9981040954589844},\n",
       " {'label': 'LABEL_0', 'score': 0.9991192817687988},\n",
       " {'label': 'LABEL_0', 'score': 0.9990110993385315},\n",
       " {'label': 'LABEL_1', 'score': 0.9985360503196716},\n",
       " {'label': 'LABEL_4', 'score': 0.998014509677887},\n",
       " {'label': 'LABEL_0', 'score': 0.9991098642349243},\n",
       " {'label': 'LABEL_1', 'score': 0.9992517828941345},\n",
       " {'label': 'LABEL_1', 'score': 0.999151885509491},\n",
       " {'label': 'LABEL_1', 'score': 0.9991361498832703},\n",
       " {'label': 'LABEL_0', 'score': 0.9990408420562744},\n",
       " {'label': 'LABEL_1', 'score': 0.9988695979118347},\n",
       " {'label': 'LABEL_3', 'score': 0.9977667331695557},\n",
       " {'label': 'LABEL_5', 'score': 0.9868262410163879},\n",
       " {'label': 'LABEL_0', 'score': 0.9990883469581604},\n",
       " {'label': 'LABEL_0', 'score': 0.9989537596702576},\n",
       " {'label': 'LABEL_0', 'score': 0.9989640712738037},\n",
       " {'label': 'LABEL_1', 'score': 0.9991574287414551},\n",
       " {'label': 'LABEL_0', 'score': 0.9990320205688477},\n",
       " {'label': 'LABEL_0', 'score': 0.9991325736045837},\n",
       " {'label': 'LABEL_4', 'score': 0.5701768398284912},\n",
       " {'label': 'LABEL_1', 'score': 0.9988572001457214},\n",
       " {'label': 'LABEL_0', 'score': 0.9990860223770142},\n",
       " {'label': 'LABEL_4', 'score': 0.5739615559577942},\n",
       " {'label': 'LABEL_3', 'score': 0.9986394047737122},\n",
       " {'label': 'LABEL_0', 'score': 0.9928328990936279},\n",
       " {'label': 'LABEL_1', 'score': 0.9990600943565369},\n",
       " {'label': 'LABEL_5', 'score': 0.9910361766815186},\n",
       " {'label': 'LABEL_1', 'score': 0.9987009763717651},\n",
       " {'label': 'LABEL_0', 'score': 0.9991500377655029},\n",
       " {'label': 'LABEL_4', 'score': 0.9976968765258789},\n",
       " {'label': 'LABEL_0', 'score': 0.9990847706794739},\n",
       " {'label': 'LABEL_1', 'score': 0.9989970326423645},\n",
       " {'label': 'LABEL_1', 'score': 0.9990849494934082},\n",
       " {'label': 'LABEL_2', 'score': 0.961004376411438},\n",
       " {'label': 'LABEL_1', 'score': 0.9991384148597717},\n",
       " {'label': 'LABEL_1', 'score': 0.9990391135215759},\n",
       " {'label': 'LABEL_0', 'score': 0.9991755485534668},\n",
       " {'label': 'LABEL_0', 'score': 0.6902479529380798},\n",
       " {'label': 'LABEL_1', 'score': 0.998610258102417},\n",
       " {'label': 'LABEL_3', 'score': 0.9981086850166321},\n",
       " {'label': 'LABEL_1', 'score': 0.9991640448570251},\n",
       " {'label': 'LABEL_0', 'score': 0.9990072250366211},\n",
       " {'label': 'LABEL_1', 'score': 0.9991472363471985},\n",
       " {'label': 'LABEL_1', 'score': 0.9991087317466736},\n",
       " {'label': 'LABEL_1', 'score': 0.8306131362915039},\n",
       " {'label': 'LABEL_3', 'score': 0.9971132278442383},\n",
       " {'label': 'LABEL_3', 'score': 0.9977389574050903},\n",
       " {'label': 'LABEL_1', 'score': 0.9991396069526672},\n",
       " {'label': 'LABEL_0', 'score': 0.9991181492805481},\n",
       " {'label': 'LABEL_1', 'score': 0.9991320371627808},\n",
       " {'label': 'LABEL_0', 'score': 0.9989665150642395},\n",
       " {'label': 'LABEL_1', 'score': 0.9990176558494568},\n",
       " {'label': 'LABEL_3', 'score': 0.9985338449478149},\n",
       " {'label': 'LABEL_2', 'score': 0.9963859915733337},\n",
       " {'label': 'LABEL_3', 'score': 0.9981732964515686},\n",
       " {'label': 'LABEL_0', 'score': 0.999081552028656},\n",
       " {'label': 'LABEL_1', 'score': 0.9991979598999023},\n",
       " {'label': 'LABEL_0', 'score': 0.9988153576850891},\n",
       " {'label': 'LABEL_1', 'score': 0.9989208579063416},\n",
       " {'label': 'LABEL_1', 'score': 0.9982070922851562},\n",
       " {'label': 'LABEL_4', 'score': 0.9980188608169556},\n",
       " {'label': 'LABEL_5', 'score': 0.5344155430793762},\n",
       " {'label': 'LABEL_1', 'score': 0.9988179206848145},\n",
       " {'label': 'LABEL_0', 'score': 0.9991397857666016},\n",
       " {'label': 'LABEL_1', 'score': 0.9988542199134827},\n",
       " {'label': 'LABEL_0', 'score': 0.9991142749786377},\n",
       " {'label': 'LABEL_1', 'score': 0.9990850687026978},\n",
       " {'label': 'LABEL_0', 'score': 0.999039888381958},\n",
       " {'label': 'LABEL_0', 'score': 0.9990357160568237},\n",
       " {'label': 'LABEL_1', 'score': 0.9985584020614624},\n",
       " {'label': 'LABEL_3', 'score': 0.9833295345306396},\n",
       " {'label': 'LABEL_0', 'score': 0.9991821646690369},\n",
       " {'label': 'LABEL_4', 'score': 0.5092992782592773},\n",
       " {'label': 'LABEL_4', 'score': 0.9980494976043701},\n",
       " {'label': 'LABEL_1', 'score': 0.9990939497947693},\n",
       " {'label': 'LABEL_1', 'score': 0.9991716742515564},\n",
       " {'label': 'LABEL_3', 'score': 0.9977431297302246},\n",
       " {'label': 'LABEL_4', 'score': 0.9972649812698364},\n",
       " {'label': 'LABEL_1', 'score': 0.9992120265960693},\n",
       " {'label': 'LABEL_0', 'score': 0.8124554753303528},\n",
       " {'label': 'LABEL_1', 'score': 0.9990869164466858},\n",
       " {'label': 'LABEL_0', 'score': 0.9991248846054077},\n",
       " {'label': 'LABEL_0', 'score': 0.9991790056228638},\n",
       " {'label': 'LABEL_0', 'score': 0.9991214275360107},\n",
       " {'label': 'LABEL_1', 'score': 0.9992212057113647},\n",
       " {'label': 'LABEL_1', 'score': 0.9985514879226685},\n",
       " {'label': 'LABEL_0', 'score': 0.6525080800056458},\n",
       " {'label': 'LABEL_1', 'score': 0.9988681077957153},\n",
       " {'label': 'LABEL_1', 'score': 0.998928964138031},\n",
       " {'label': 'LABEL_2', 'score': 0.9962859153747559},\n",
       " {'label': 'LABEL_1', 'score': 0.9991255402565002},\n",
       " {'label': 'LABEL_1', 'score': 0.9981786012649536},\n",
       " {'label': 'LABEL_1', 'score': 0.996082603931427},\n",
       " {'label': 'LABEL_1', 'score': 0.9989489912986755},\n",
       " {'label': 'LABEL_2', 'score': 0.995730459690094},\n",
       " {'label': 'LABEL_0', 'score': 0.9989880919456482},\n",
       " {'label': 'LABEL_3', 'score': 0.9985859990119934},\n",
       " {'label': 'LABEL_3', 'score': 0.9982824325561523},\n",
       " {'label': 'LABEL_4', 'score': 0.9977183938026428},\n",
       " {'label': 'LABEL_4', 'score': 0.9974145889282227},\n",
       " {'label': 'LABEL_1', 'score': 0.9989452362060547},\n",
       " {'label': 'LABEL_1', 'score': 0.9989873766899109},\n",
       " {'label': 'LABEL_1', 'score': 0.9991738796234131},\n",
       " {'label': 'LABEL_2', 'score': 0.9961375594139099},\n",
       " {'label': 'LABEL_1', 'score': 0.9991616606712341},\n",
       " {'label': 'LABEL_1', 'score': 0.9971432685852051},\n",
       " {'label': 'LABEL_0', 'score': 0.9990397691726685},\n",
       " {'label': 'LABEL_0', 'score': 0.9991840720176697},\n",
       " {'label': 'LABEL_4', 'score': 0.9977956414222717},\n",
       " {'label': 'LABEL_0', 'score': 0.9989389181137085},\n",
       " {'label': 'LABEL_0', 'score': 0.7893426418304443},\n",
       " {'label': 'LABEL_0', 'score': 0.9991801381111145},\n",
       " {'label': 'LABEL_0', 'score': 0.9990867972373962},\n",
       " {'label': 'LABEL_1', 'score': 0.9986045360565186},\n",
       " {'label': 'LABEL_0', 'score': 0.999165952205658},\n",
       " {'label': 'LABEL_0', 'score': 0.9985330104827881},\n",
       " {'label': 'LABEL_1', 'score': 0.9990410804748535},\n",
       " {'label': 'LABEL_0', 'score': 0.9990344047546387},\n",
       " {'label': 'LABEL_4', 'score': 0.9980870485305786},\n",
       " {'label': 'LABEL_0', 'score': 0.999091386795044},\n",
       " {'label': 'LABEL_1', 'score': 0.9991790056228638},\n",
       " {'label': 'LABEL_1', 'score': 0.999208390712738},\n",
       " {'label': 'LABEL_1', 'score': 0.9991905093193054},\n",
       " {'label': 'LABEL_3', 'score': 0.9983797669410706},\n",
       " {'label': 'LABEL_2', 'score': 0.597583532333374},\n",
       " {'label': 'LABEL_0', 'score': 0.999101459980011},\n",
       " {'label': 'LABEL_1', 'score': 0.9990893602371216},\n",
       " {'label': 'LABEL_0', 'score': 0.45932537317276},\n",
       " {'label': 'LABEL_1', 'score': 0.9990883469581604},\n",
       " {'label': 'LABEL_0', 'score': 0.9990033507347107},\n",
       " {'label': 'LABEL_1', 'score': 0.9982741475105286},\n",
       " {'label': 'LABEL_3', 'score': 0.997369647026062},\n",
       " {'label': 'LABEL_2', 'score': 0.995416522026062},\n",
       " {'label': 'LABEL_2', 'score': 0.995621919631958},\n",
       " {'label': 'LABEL_0', 'score': 0.9991150498390198},\n",
       " {'label': 'LABEL_2', 'score': 0.6564090847969055},\n",
       " {'label': 'LABEL_3', 'score': 0.9985920190811157},\n",
       " {'label': 'LABEL_1', 'score': 0.9991331100463867},\n",
       " {'label': 'LABEL_1', 'score': 0.9991652965545654},\n",
       " {'label': 'LABEL_4', 'score': 0.997967004776001},\n",
       " {'label': 'LABEL_0', 'score': 0.9991901516914368},\n",
       " {'label': 'LABEL_3', 'score': 0.9972813725471497},\n",
       " {'label': 'LABEL_3', 'score': 0.9984059929847717},\n",
       " {'label': 'LABEL_1', 'score': 0.9987066388130188},\n",
       " {'label': 'LABEL_3', 'score': 0.9977526068687439},\n",
       " {'label': 'LABEL_1', 'score': 0.9986950755119324},\n",
       " {'label': 'LABEL_1', 'score': 0.998731255531311},\n",
       " {'label': 'LABEL_2', 'score': 0.9962215423583984},\n",
       " {'label': 'LABEL_1', 'score': 0.9912129640579224},\n",
       " {'label': 'LABEL_1', 'score': 0.9991425275802612},\n",
       " {'label': 'LABEL_2', 'score': 0.5457237362861633},\n",
       " {'label': 'LABEL_0', 'score': 0.9988340139389038},\n",
       " {'label': 'LABEL_0', 'score': 0.9988073110580444},\n",
       " {'label': 'LABEL_1', 'score': 0.9990665912628174},\n",
       " {'label': 'LABEL_1', 'score': 0.6544687747955322},\n",
       " {'label': 'LABEL_0', 'score': 0.9990720152854919},\n",
       " {'label': 'LABEL_1', 'score': 0.9992395639419556},\n",
       " {'label': 'LABEL_3', 'score': 0.996589720249176},\n",
       " {'label': 'LABEL_0', 'score': 0.999017596244812},\n",
       " {'label': 'LABEL_0', 'score': 0.9991368651390076},\n",
       " {'label': 'LABEL_0', 'score': 0.9991726279258728},\n",
       " {'label': 'LABEL_2', 'score': 0.9960771799087524},\n",
       " {'label': 'LABEL_3', 'score': 0.9982579946517944},\n",
       " {'label': 'LABEL_0', 'score': 0.9991623163223267},\n",
       " {'label': 'LABEL_4', 'score': 0.9983060359954834},\n",
       " {'label': 'LABEL_0', 'score': 0.9972005486488342},\n",
       " {'label': 'LABEL_1', 'score': 0.998962938785553},\n",
       " {'label': 'LABEL_2', 'score': 0.9955447316169739},\n",
       " {'label': 'LABEL_0', 'score': 0.9989701509475708},\n",
       " {'label': 'LABEL_1', 'score': 0.9991496801376343},\n",
       " {'label': 'LABEL_1', 'score': 0.9990672469139099},\n",
       " {'label': 'LABEL_5', 'score': 0.981201708316803},\n",
       " {'label': 'LABEL_1', 'score': 0.9990124106407166},\n",
       " {'label': 'LABEL_1', 'score': 0.9992030262947083},\n",
       " {'label': 'LABEL_1', 'score': 0.9357601404190063},\n",
       " {'label': 'LABEL_5', 'score': 0.9892401695251465},\n",
       " {'label': 'LABEL_0', 'score': 0.9986960291862488},\n",
       " {'label': 'LABEL_5', 'score': 0.9914565682411194},\n",
       " {'label': 'LABEL_1', 'score': 0.9971482753753662},\n",
       " {'label': 'LABEL_1', 'score': 0.9992060661315918},\n",
       " {'label': 'LABEL_4', 'score': 0.9981883764266968},\n",
       " {'label': 'LABEL_4', 'score': 0.9970316290855408},\n",
       " {'label': 'LABEL_1', 'score': 0.9982884526252747},\n",
       " {'label': 'LABEL_0', 'score': 0.998909592628479},\n",
       " {'label': 'LABEL_0', 'score': 0.9990309476852417},\n",
       " {'label': 'LABEL_2', 'score': 0.7356366515159607},\n",
       " {'label': 'LABEL_1', 'score': 0.9990465044975281},\n",
       " {'label': 'LABEL_1', 'score': 0.9991862177848816},\n",
       " {'label': 'LABEL_2', 'score': 0.8329669833183289},\n",
       " {'label': 'LABEL_1', 'score': 0.5204885005950928},\n",
       " {'label': 'LABEL_4', 'score': 0.997782826423645},\n",
       " {'label': 'LABEL_1', 'score': 0.9990262985229492},\n",
       " {'label': 'LABEL_1', 'score': 0.9988545775413513},\n",
       " {'label': 'LABEL_1', 'score': 0.9991269707679749},\n",
       " {'label': 'LABEL_1', 'score': 0.9989345669746399},\n",
       " {'label': 'LABEL_3', 'score': 0.9984604716300964},\n",
       " {'label': 'LABEL_1', 'score': 0.9989664554595947},\n",
       " {'label': 'LABEL_0', 'score': 0.9990094304084778},\n",
       " {'label': 'LABEL_0', 'score': 0.9991063475608826},\n",
       " {'label': 'LABEL_0', 'score': 0.9992004632949829},\n",
       " {'label': 'LABEL_0', 'score': 0.998996913433075},\n",
       " {'label': 'LABEL_1', 'score': 0.9990549087524414},\n",
       " {'label': 'LABEL_4', 'score': 0.9981052279472351},\n",
       " {'label': 'LABEL_3', 'score': 0.9980190396308899},\n",
       " {'label': 'LABEL_1', 'score': 0.9983701705932617},\n",
       " {'label': 'LABEL_1', 'score': 0.9992213249206543},\n",
       " {'label': 'LABEL_1', 'score': 0.9992383718490601},\n",
       " {'label': 'LABEL_3', 'score': 0.9984148740768433},\n",
       " {'label': 'LABEL_1', 'score': 0.9988642930984497},\n",
       " {'label': 'LABEL_1', 'score': 0.9991755485534668},\n",
       " {'label': 'LABEL_1', 'score': 0.9991467595100403},\n",
       " {'label': 'LABEL_0', 'score': 0.9961822032928467},\n",
       " {'label': 'LABEL_2', 'score': 0.9919276833534241},\n",
       " {'label': 'LABEL_1', 'score': 0.9991955161094666},\n",
       " {'label': 'LABEL_0', 'score': 0.9982768893241882},\n",
       " {'label': 'LABEL_3', 'score': 0.9979612231254578},\n",
       " {'label': 'LABEL_2', 'score': 0.5439876914024353},\n",
       " {'label': 'LABEL_1', 'score': 0.9992174506187439},\n",
       " {'label': 'LABEL_1', 'score': 0.5209537148475647},\n",
       " {'label': 'LABEL_2', 'score': 0.9952549934387207},\n",
       " {'label': 'LABEL_2', 'score': 0.9904082417488098},\n",
       " {'label': 'LABEL_1', 'score': 0.5282889604568481},\n",
       " {'label': 'LABEL_0', 'score': 0.9987465739250183},\n",
       " {'label': 'LABEL_0', 'score': 0.9991083741188049},\n",
       " {'label': 'LABEL_1', 'score': 0.9991490840911865},\n",
       " {'label': 'LABEL_4', 'score': 0.9981345534324646},\n",
       " {'label': 'LABEL_0', 'score': 0.9990872144699097},\n",
       " {'label': 'LABEL_0', 'score': 0.5718830823898315},\n",
       " {'label': 'LABEL_1', 'score': 0.999188244342804},\n",
       " {'label': 'LABEL_0', 'score': 0.9991363883018494},\n",
       " {'label': 'LABEL_0', 'score': 0.9982073903083801},\n",
       " {'label': 'LABEL_1', 'score': 0.5494906306266785},\n",
       " {'label': 'LABEL_1', 'score': 0.9991713166236877},\n",
       " {'label': 'LABEL_2', 'score': 0.9899514317512512},\n",
       " {'label': 'LABEL_0', 'score': 0.9990248680114746},\n",
       " {'label': 'LABEL_3', 'score': 0.9984686374664307},\n",
       " {'label': 'LABEL_0', 'score': 0.9989847540855408},\n",
       " {'label': 'LABEL_0', 'score': 0.9990862011909485},\n",
       " {'label': 'LABEL_2', 'score': 0.995304524898529},\n",
       " {'label': 'LABEL_3', 'score': 0.9984745383262634},\n",
       " {'label': 'LABEL_4', 'score': 0.9981111288070679},\n",
       " {'label': 'LABEL_0', 'score': 0.99888676404953},\n",
       " {'label': 'LABEL_3', 'score': 0.9908893704414368},\n",
       " {'label': 'LABEL_1', 'score': 0.9990584850311279},\n",
       " {'label': 'LABEL_4', 'score': 0.9968141317367554},\n",
       " ...]"
      ]
     },
     "execution_count": 188,
     "metadata": {},
     "output_type": "execute_result"
    }
   ],
   "source": [
    "sentiment_input= {\"inputs\":validation_dataset[\"text\"]}\n",
    "preds =predictor.predict(sentiment_input)\n",
    "preds"
   ]
  },
  {
   "cell_type": "code",
   "execution_count": 189,
   "metadata": {},
   "outputs": [],
   "source": [
    "pred_df = pd.DataFrame.from_dict(preds)"
   ]
  },
  {
   "cell_type": "code",
   "execution_count": 233,
   "metadata": {},
   "outputs": [
    {
     "data": {
      "text/plain": [
       "0"
      ]
     },
     "execution_count": 233,
     "metadata": {},
     "output_type": "execute_result"
    }
   ],
   "source": [
    "int(pred_df.label.unique()[0][-1])"
   ]
  },
  {
   "cell_type": "code",
   "execution_count": 242,
   "metadata": {},
   "outputs": [],
   "source": [
    "def pred_int(row):\n",
    "#    return row\n",
    "    return int(row[-1])"
   ]
  },
  {
   "cell_type": "code",
   "execution_count": 244,
   "metadata": {},
   "outputs": [],
   "source": [
    "pred_df['pred_label_num']=pred_df[\"label\"].apply(pred_int)"
   ]
  },
  {
   "cell_type": "code",
   "execution_count": 259,
   "metadata": {},
   "outputs": [],
   "source": [
    "pred_df['pred_label_label'] = pred_df['pred_label_num'].apply(val_label_int2str)"
   ]
  },
  {
   "cell_type": "code",
   "execution_count": 270,
   "metadata": {},
   "outputs": [],
   "source": [
    "pred_df['val_label_num'] = df.labels\n",
    "pred_df['val_label_label']= df.label_name"
   ]
  },
  {
   "cell_type": "code",
   "execution_count": 272,
   "metadata": {},
   "outputs": [
    {
     "data": {
      "text/html": [
       "<div>\n",
       "<style scoped>\n",
       "    .dataframe tbody tr th:only-of-type {\n",
       "        vertical-align: middle;\n",
       "    }\n",
       "\n",
       "    .dataframe tbody tr th {\n",
       "        vertical-align: top;\n",
       "    }\n",
       "\n",
       "    .dataframe thead th {\n",
       "        text-align: right;\n",
       "    }\n",
       "</style>\n",
       "<table border=\"1\" class=\"dataframe\">\n",
       "  <thead>\n",
       "    <tr style=\"text-align: right;\">\n",
       "      <th></th>\n",
       "      <th>label</th>\n",
       "      <th>score</th>\n",
       "      <th>pred_label_num</th>\n",
       "      <th>pred_label_label</th>\n",
       "      <th>val_label_num</th>\n",
       "      <th>val_label_label</th>\n",
       "    </tr>\n",
       "  </thead>\n",
       "  <tbody>\n",
       "    <tr>\n",
       "      <th>0</th>\n",
       "      <td>LABEL_0</td>\n",
       "      <td>0.999056</td>\n",
       "      <td>0</td>\n",
       "      <td>sadness</td>\n",
       "      <td>0</td>\n",
       "      <td>sadness</td>\n",
       "    </tr>\n",
       "    <tr>\n",
       "      <th>1</th>\n",
       "      <td>LABEL_0</td>\n",
       "      <td>0.999063</td>\n",
       "      <td>0</td>\n",
       "      <td>sadness</td>\n",
       "      <td>0</td>\n",
       "      <td>sadness</td>\n",
       "    </tr>\n",
       "    <tr>\n",
       "      <th>2</th>\n",
       "      <td>LABEL_2</td>\n",
       "      <td>0.658413</td>\n",
       "      <td>2</td>\n",
       "      <td>love</td>\n",
       "      <td>2</td>\n",
       "      <td>love</td>\n",
       "    </tr>\n",
       "    <tr>\n",
       "      <th>3</th>\n",
       "      <td>LABEL_3</td>\n",
       "      <td>0.998407</td>\n",
       "      <td>3</td>\n",
       "      <td>anger</td>\n",
       "      <td>3</td>\n",
       "      <td>anger</td>\n",
       "    </tr>\n",
       "    <tr>\n",
       "      <th>4</th>\n",
       "      <td>LABEL_1</td>\n",
       "      <td>0.999181</td>\n",
       "      <td>1</td>\n",
       "      <td>joy</td>\n",
       "      <td>1</td>\n",
       "      <td>joy</td>\n",
       "    </tr>\n",
       "    <tr>\n",
       "      <th>...</th>\n",
       "      <td>...</td>\n",
       "      <td>...</td>\n",
       "      <td>...</td>\n",
       "      <td>...</td>\n",
       "      <td>...</td>\n",
       "      <td>...</td>\n",
       "    </tr>\n",
       "    <tr>\n",
       "      <th>1995</th>\n",
       "      <td>LABEL_0</td>\n",
       "      <td>0.998145</td>\n",
       "      <td>0</td>\n",
       "      <td>sadness</td>\n",
       "      <td>0</td>\n",
       "      <td>sadness</td>\n",
       "    </tr>\n",
       "    <tr>\n",
       "      <th>1996</th>\n",
       "      <td>LABEL_1</td>\n",
       "      <td>0.999023</td>\n",
       "      <td>1</td>\n",
       "      <td>joy</td>\n",
       "      <td>1</td>\n",
       "      <td>joy</td>\n",
       "    </tr>\n",
       "    <tr>\n",
       "      <th>1997</th>\n",
       "      <td>LABEL_1</td>\n",
       "      <td>0.999189</td>\n",
       "      <td>1</td>\n",
       "      <td>joy</td>\n",
       "      <td>1</td>\n",
       "      <td>joy</td>\n",
       "    </tr>\n",
       "    <tr>\n",
       "      <th>1998</th>\n",
       "      <td>LABEL_1</td>\n",
       "      <td>0.504896</td>\n",
       "      <td>1</td>\n",
       "      <td>joy</td>\n",
       "      <td>1</td>\n",
       "      <td>joy</td>\n",
       "    </tr>\n",
       "    <tr>\n",
       "      <th>1999</th>\n",
       "      <td>LABEL_1</td>\n",
       "      <td>0.998852</td>\n",
       "      <td>1</td>\n",
       "      <td>joy</td>\n",
       "      <td>1</td>\n",
       "      <td>joy</td>\n",
       "    </tr>\n",
       "  </tbody>\n",
       "</table>\n",
       "<p>2000 rows × 6 columns</p>\n",
       "</div>"
      ],
      "text/plain": [
       "        label     score  pred_label_num pred_label_label  val_label_num  \\\n",
       "0     LABEL_0  0.999056               0          sadness              0   \n",
       "1     LABEL_0  0.999063               0          sadness              0   \n",
       "2     LABEL_2  0.658413               2             love              2   \n",
       "3     LABEL_3  0.998407               3            anger              3   \n",
       "4     LABEL_1  0.999181               1              joy              1   \n",
       "...       ...       ...             ...              ...            ...   \n",
       "1995  LABEL_0  0.998145               0          sadness              0   \n",
       "1996  LABEL_1  0.999023               1              joy              1   \n",
       "1997  LABEL_1  0.999189               1              joy              1   \n",
       "1998  LABEL_1  0.504896               1              joy              1   \n",
       "1999  LABEL_1  0.998852               1              joy              1   \n",
       "\n",
       "     val_label_label  \n",
       "0            sadness  \n",
       "1            sadness  \n",
       "2               love  \n",
       "3              anger  \n",
       "4                joy  \n",
       "...              ...  \n",
       "1995         sadness  \n",
       "1996             joy  \n",
       "1997             joy  \n",
       "1998             joy  \n",
       "1999             joy  \n",
       "\n",
       "[2000 rows x 6 columns]"
      ]
     },
     "execution_count": 272,
     "metadata": {},
     "output_type": "execute_result"
    }
   ],
   "source": [
    "pred_df"
   ]
  },
  {
   "cell_type": "code",
   "execution_count": 277,
   "metadata": {},
   "outputs": [
    {
     "data": {
      "text/html": [
       "<div>\n",
       "<style scoped>\n",
       "    .dataframe tbody tr th:only-of-type {\n",
       "        vertical-align: middle;\n",
       "    }\n",
       "\n",
       "    .dataframe tbody tr th {\n",
       "        vertical-align: top;\n",
       "    }\n",
       "\n",
       "    .dataframe thead th {\n",
       "        text-align: right;\n",
       "    }\n",
       "</style>\n",
       "<table border=\"1\" class=\"dataframe\">\n",
       "  <thead>\n",
       "    <tr style=\"text-align: right;\">\n",
       "      <th></th>\n",
       "      <th>label</th>\n",
       "      <th>score</th>\n",
       "      <th>pred_label_num</th>\n",
       "      <th>pred_label_label</th>\n",
       "      <th>val_label_num</th>\n",
       "      <th>val_label_label</th>\n",
       "    </tr>\n",
       "  </thead>\n",
       "  <tbody>\n",
       "    <tr>\n",
       "      <th>17</th>\n",
       "      <td>LABEL_0</td>\n",
       "      <td>0.839921</td>\n",
       "      <td>0</td>\n",
       "      <td>sadness</td>\n",
       "      <td>3</td>\n",
       "      <td>anger</td>\n",
       "    </tr>\n",
       "    <tr>\n",
       "      <th>27</th>\n",
       "      <td>LABEL_2</td>\n",
       "      <td>0.714907</td>\n",
       "      <td>2</td>\n",
       "      <td>love</td>\n",
       "      <td>1</td>\n",
       "      <td>joy</td>\n",
       "    </tr>\n",
       "    <tr>\n",
       "      <th>35</th>\n",
       "      <td>LABEL_2</td>\n",
       "      <td>0.652078</td>\n",
       "      <td>2</td>\n",
       "      <td>love</td>\n",
       "      <td>1</td>\n",
       "      <td>joy</td>\n",
       "    </tr>\n",
       "    <tr>\n",
       "      <th>83</th>\n",
       "      <td>LABEL_3</td>\n",
       "      <td>0.619488</td>\n",
       "      <td>3</td>\n",
       "      <td>anger</td>\n",
       "      <td>0</td>\n",
       "      <td>sadness</td>\n",
       "    </tr>\n",
       "    <tr>\n",
       "      <th>91</th>\n",
       "      <td>LABEL_2</td>\n",
       "      <td>0.549718</td>\n",
       "      <td>2</td>\n",
       "      <td>love</td>\n",
       "      <td>1</td>\n",
       "      <td>joy</td>\n",
       "    </tr>\n",
       "    <tr>\n",
       "      <th>...</th>\n",
       "      <td>...</td>\n",
       "      <td>...</td>\n",
       "      <td>...</td>\n",
       "      <td>...</td>\n",
       "      <td>...</td>\n",
       "      <td>...</td>\n",
       "    </tr>\n",
       "    <tr>\n",
       "      <th>1963</th>\n",
       "      <td>LABEL_2</td>\n",
       "      <td>0.444590</td>\n",
       "      <td>2</td>\n",
       "      <td>love</td>\n",
       "      <td>1</td>\n",
       "      <td>joy</td>\n",
       "    </tr>\n",
       "    <tr>\n",
       "      <th>1975</th>\n",
       "      <td>LABEL_4</td>\n",
       "      <td>0.572352</td>\n",
       "      <td>4</td>\n",
       "      <td>fear</td>\n",
       "      <td>0</td>\n",
       "      <td>sadness</td>\n",
       "    </tr>\n",
       "    <tr>\n",
       "      <th>1981</th>\n",
       "      <td>LABEL_5</td>\n",
       "      <td>0.539767</td>\n",
       "      <td>5</td>\n",
       "      <td>surprise</td>\n",
       "      <td>4</td>\n",
       "      <td>fear</td>\n",
       "    </tr>\n",
       "    <tr>\n",
       "      <th>1990</th>\n",
       "      <td>LABEL_5</td>\n",
       "      <td>0.517822</td>\n",
       "      <td>5</td>\n",
       "      <td>surprise</td>\n",
       "      <td>4</td>\n",
       "      <td>fear</td>\n",
       "    </tr>\n",
       "    <tr>\n",
       "      <th>1993</th>\n",
       "      <td>LABEL_4</td>\n",
       "      <td>0.570177</td>\n",
       "      <td>4</td>\n",
       "      <td>fear</td>\n",
       "      <td>3</td>\n",
       "      <td>anger</td>\n",
       "    </tr>\n",
       "  </tbody>\n",
       "</table>\n",
       "<p>112 rows × 6 columns</p>\n",
       "</div>"
      ],
      "text/plain": [
       "        label     score  pred_label_num pred_label_label  val_label_num  \\\n",
       "17    LABEL_0  0.839921               0          sadness              3   \n",
       "27    LABEL_2  0.714907               2             love              1   \n",
       "35    LABEL_2  0.652078               2             love              1   \n",
       "83    LABEL_3  0.619488               3            anger              0   \n",
       "91    LABEL_2  0.549718               2             love              1   \n",
       "...       ...       ...             ...              ...            ...   \n",
       "1963  LABEL_2  0.444590               2             love              1   \n",
       "1975  LABEL_4  0.572352               4             fear              0   \n",
       "1981  LABEL_5  0.539767               5         surprise              4   \n",
       "1990  LABEL_5  0.517822               5         surprise              4   \n",
       "1993  LABEL_4  0.570177               4             fear              3   \n",
       "\n",
       "     val_label_label  \n",
       "17             anger  \n",
       "27               joy  \n",
       "35               joy  \n",
       "83           sadness  \n",
       "91               joy  \n",
       "...              ...  \n",
       "1963             joy  \n",
       "1975         sadness  \n",
       "1981            fear  \n",
       "1990            fear  \n",
       "1993           anger  \n",
       "\n",
       "[112 rows x 6 columns]"
      ]
     },
     "execution_count": 277,
     "metadata": {},
     "output_type": "execute_result"
    }
   ],
   "source": [
    "pred_df[(pred_df.pred_label_num != pred_df.val_label_num)]"
   ]
  },
  {
   "cell_type": "code",
   "execution_count": 278,
   "metadata": {},
   "outputs": [
    {
     "data": {
      "text/html": [
       "<div>\n",
       "<style scoped>\n",
       "    .dataframe tbody tr th:only-of-type {\n",
       "        vertical-align: middle;\n",
       "    }\n",
       "\n",
       "    .dataframe tbody tr th {\n",
       "        vertical-align: top;\n",
       "    }\n",
       "\n",
       "    .dataframe thead th {\n",
       "        text-align: right;\n",
       "    }\n",
       "</style>\n",
       "<table border=\"1\" class=\"dataframe\">\n",
       "  <thead>\n",
       "    <tr style=\"text-align: right;\">\n",
       "      <th></th>\n",
       "      <th>label</th>\n",
       "      <th>score</th>\n",
       "      <th>pred_label_num</th>\n",
       "      <th>pred_label_label</th>\n",
       "      <th>val_label_num</th>\n",
       "      <th>val_label_label</th>\n",
       "    </tr>\n",
       "  </thead>\n",
       "  <tbody>\n",
       "    <tr>\n",
       "      <th>0</th>\n",
       "      <td>LABEL_0</td>\n",
       "      <td>0.999056</td>\n",
       "      <td>0</td>\n",
       "      <td>sadness</td>\n",
       "      <td>0</td>\n",
       "      <td>sadness</td>\n",
       "    </tr>\n",
       "    <tr>\n",
       "      <th>1</th>\n",
       "      <td>LABEL_0</td>\n",
       "      <td>0.999063</td>\n",
       "      <td>0</td>\n",
       "      <td>sadness</td>\n",
       "      <td>0</td>\n",
       "      <td>sadness</td>\n",
       "    </tr>\n",
       "    <tr>\n",
       "      <th>2</th>\n",
       "      <td>LABEL_2</td>\n",
       "      <td>0.658413</td>\n",
       "      <td>2</td>\n",
       "      <td>love</td>\n",
       "      <td>2</td>\n",
       "      <td>love</td>\n",
       "    </tr>\n",
       "    <tr>\n",
       "      <th>3</th>\n",
       "      <td>LABEL_3</td>\n",
       "      <td>0.998407</td>\n",
       "      <td>3</td>\n",
       "      <td>anger</td>\n",
       "      <td>3</td>\n",
       "      <td>anger</td>\n",
       "    </tr>\n",
       "    <tr>\n",
       "      <th>4</th>\n",
       "      <td>LABEL_1</td>\n",
       "      <td>0.999181</td>\n",
       "      <td>1</td>\n",
       "      <td>joy</td>\n",
       "      <td>1</td>\n",
       "      <td>joy</td>\n",
       "    </tr>\n",
       "    <tr>\n",
       "      <th>...</th>\n",
       "      <td>...</td>\n",
       "      <td>...</td>\n",
       "      <td>...</td>\n",
       "      <td>...</td>\n",
       "      <td>...</td>\n",
       "      <td>...</td>\n",
       "    </tr>\n",
       "    <tr>\n",
       "      <th>1995</th>\n",
       "      <td>LABEL_0</td>\n",
       "      <td>0.998145</td>\n",
       "      <td>0</td>\n",
       "      <td>sadness</td>\n",
       "      <td>0</td>\n",
       "      <td>sadness</td>\n",
       "    </tr>\n",
       "    <tr>\n",
       "      <th>1996</th>\n",
       "      <td>LABEL_1</td>\n",
       "      <td>0.999023</td>\n",
       "      <td>1</td>\n",
       "      <td>joy</td>\n",
       "      <td>1</td>\n",
       "      <td>joy</td>\n",
       "    </tr>\n",
       "    <tr>\n",
       "      <th>1997</th>\n",
       "      <td>LABEL_1</td>\n",
       "      <td>0.999189</td>\n",
       "      <td>1</td>\n",
       "      <td>joy</td>\n",
       "      <td>1</td>\n",
       "      <td>joy</td>\n",
       "    </tr>\n",
       "    <tr>\n",
       "      <th>1998</th>\n",
       "      <td>LABEL_1</td>\n",
       "      <td>0.504896</td>\n",
       "      <td>1</td>\n",
       "      <td>joy</td>\n",
       "      <td>1</td>\n",
       "      <td>joy</td>\n",
       "    </tr>\n",
       "    <tr>\n",
       "      <th>1999</th>\n",
       "      <td>LABEL_1</td>\n",
       "      <td>0.998852</td>\n",
       "      <td>1</td>\n",
       "      <td>joy</td>\n",
       "      <td>1</td>\n",
       "      <td>joy</td>\n",
       "    </tr>\n",
       "  </tbody>\n",
       "</table>\n",
       "<p>1888 rows × 6 columns</p>\n",
       "</div>"
      ],
      "text/plain": [
       "        label     score  pred_label_num pred_label_label  val_label_num  \\\n",
       "0     LABEL_0  0.999056               0          sadness              0   \n",
       "1     LABEL_0  0.999063               0          sadness              0   \n",
       "2     LABEL_2  0.658413               2             love              2   \n",
       "3     LABEL_3  0.998407               3            anger              3   \n",
       "4     LABEL_1  0.999181               1              joy              1   \n",
       "...       ...       ...             ...              ...            ...   \n",
       "1995  LABEL_0  0.998145               0          sadness              0   \n",
       "1996  LABEL_1  0.999023               1              joy              1   \n",
       "1997  LABEL_1  0.999189               1              joy              1   \n",
       "1998  LABEL_1  0.504896               1              joy              1   \n",
       "1999  LABEL_1  0.998852               1              joy              1   \n",
       "\n",
       "     val_label_label  \n",
       "0            sadness  \n",
       "1            sadness  \n",
       "2               love  \n",
       "3              anger  \n",
       "4                joy  \n",
       "...              ...  \n",
       "1995         sadness  \n",
       "1996             joy  \n",
       "1997             joy  \n",
       "1998             joy  \n",
       "1999             joy  \n",
       "\n",
       "[1888 rows x 6 columns]"
      ]
     },
     "execution_count": 278,
     "metadata": {},
     "output_type": "execute_result"
    }
   ],
   "source": [
    "pred_df[(pred_df.pred_label_num == pred_df.val_label_num)]"
   ]
  },
  {
   "cell_type": "code",
   "execution_count": 246,
   "metadata": {},
   "outputs": [
    {
     "data": {
      "text/plain": [
       "Index(['label', 'score', 'pred_label_num'], dtype='object')"
      ]
     },
     "execution_count": 246,
     "metadata": {},
     "output_type": "execute_result"
    }
   ],
   "source": [
    "pred_df.columns"
   ]
  },
  {
   "cell_type": "code",
   "execution_count": 269,
   "metadata": {},
   "outputs": [
    {
     "data": {
      "text/html": [
       "<div>\n",
       "<style scoped>\n",
       "    .dataframe tbody tr th:only-of-type {\n",
       "        vertical-align: middle;\n",
       "    }\n",
       "\n",
       "    .dataframe tbody tr th {\n",
       "        vertical-align: top;\n",
       "    }\n",
       "\n",
       "    .dataframe thead th {\n",
       "        text-align: right;\n",
       "    }\n",
       "</style>\n",
       "<table border=\"1\" class=\"dataframe\">\n",
       "  <thead>\n",
       "    <tr style=\"text-align: right;\">\n",
       "      <th></th>\n",
       "      <th>attention_mask</th>\n",
       "      <th>input_ids</th>\n",
       "      <th>labels</th>\n",
       "      <th>text</th>\n",
       "      <th>label_name</th>\n",
       "    </tr>\n",
       "  </thead>\n",
       "  <tbody>\n",
       "    <tr>\n",
       "      <th>0</th>\n",
       "      <td>[1, 1, 1, 1, 1, 1, 1, 1, 1, 1, 1, 1, 1, 1, 1, ...</td>\n",
       "      <td>[101, 10047, 3110, 3243, 6517, 1998, 3374, 200...</td>\n",
       "      <td>0</td>\n",
       "      <td>im feeling quite sad and sorry for myself but ...</td>\n",
       "      <td>sadness</td>\n",
       "    </tr>\n",
       "    <tr>\n",
       "      <th>1</th>\n",
       "      <td>[1, 1, 1, 1, 1, 1, 1, 1, 1, 1, 1, 1, 1, 1, 1, ...</td>\n",
       "      <td>[101, 1045, 2514, 2066, 1045, 2572, 2145, 2559...</td>\n",
       "      <td>0</td>\n",
       "      <td>i feel like i am still looking at a blank canv...</td>\n",
       "      <td>sadness</td>\n",
       "    </tr>\n",
       "    <tr>\n",
       "      <th>2</th>\n",
       "      <td>[1, 1, 1, 1, 1, 1, 1, 1, 0, 0, 0, 0, 0, 0, 0, ...</td>\n",
       "      <td>[101, 1045, 2514, 2066, 1037, 11633, 7947, 102...</td>\n",
       "      <td>2</td>\n",
       "      <td>i feel like a faithful servant</td>\n",
       "      <td>love</td>\n",
       "    </tr>\n",
       "    <tr>\n",
       "      <th>3</th>\n",
       "      <td>[1, 1, 1, 1, 1, 1, 1, 1, 1, 1, 0, 0, 0, 0, 0, ...</td>\n",
       "      <td>[101, 1045, 2572, 2074, 3110, 27987, 2100, 199...</td>\n",
       "      <td>3</td>\n",
       "      <td>i am just feeling cranky and blue</td>\n",
       "      <td>anger</td>\n",
       "    </tr>\n",
       "    <tr>\n",
       "      <th>4</th>\n",
       "      <td>[1, 1, 1, 1, 1, 1, 1, 1, 1, 1, 1, 1, 1, 1, 1, ...</td>\n",
       "      <td>[101, 1045, 2064, 2031, 2005, 1037, 7438, 2030...</td>\n",
       "      <td>1</td>\n",
       "      <td>i can have for a treat or if i am feeling festive</td>\n",
       "      <td>joy</td>\n",
       "    </tr>\n",
       "  </tbody>\n",
       "</table>\n",
       "</div>"
      ],
      "text/plain": [
       "                                      attention_mask  \\\n",
       "0  [1, 1, 1, 1, 1, 1, 1, 1, 1, 1, 1, 1, 1, 1, 1, ...   \n",
       "1  [1, 1, 1, 1, 1, 1, 1, 1, 1, 1, 1, 1, 1, 1, 1, ...   \n",
       "2  [1, 1, 1, 1, 1, 1, 1, 1, 0, 0, 0, 0, 0, 0, 0, ...   \n",
       "3  [1, 1, 1, 1, 1, 1, 1, 1, 1, 1, 0, 0, 0, 0, 0, ...   \n",
       "4  [1, 1, 1, 1, 1, 1, 1, 1, 1, 1, 1, 1, 1, 1, 1, ...   \n",
       "\n",
       "                                           input_ids  labels  \\\n",
       "0  [101, 10047, 3110, 3243, 6517, 1998, 3374, 200...       0   \n",
       "1  [101, 1045, 2514, 2066, 1045, 2572, 2145, 2559...       0   \n",
       "2  [101, 1045, 2514, 2066, 1037, 11633, 7947, 102...       2   \n",
       "3  [101, 1045, 2572, 2074, 3110, 27987, 2100, 199...       3   \n",
       "4  [101, 1045, 2064, 2031, 2005, 1037, 7438, 2030...       1   \n",
       "\n",
       "                                                text label_name  \n",
       "0  im feeling quite sad and sorry for myself but ...    sadness  \n",
       "1  i feel like i am still looking at a blank canv...    sadness  \n",
       "2                     i feel like a faithful servant       love  \n",
       "3                  i am just feeling cranky and blue      anger  \n",
       "4  i can have for a treat or if i am feeling festive        joy  "
      ]
     },
     "execution_count": 269,
     "metadata": {},
     "output_type": "execute_result"
    }
   ],
   "source": [
    "df.head()"
   ]
  },
  {
   "cell_type": "code",
   "execution_count": 190,
   "metadata": {},
   "outputs": [],
   "source": [
    "predictor.delete_endpoint()"
   ]
  },
  {
   "cell_type": "markdown",
   "metadata": {},
   "source": [
    "## multiclass confus"
   ]
  },
  {
   "cell_type": "code",
   "execution_count": 102,
   "metadata": {
    "collapsed": true,
    "jupyter": {
     "outputs_hidden": true
    }
   },
   "outputs": [
    {
     "ename": "TypeError",
     "evalue": "Object of type 'Tensor' is not JSON serializable",
     "output_type": "error",
     "traceback": [
      "\u001b[0;31m---------------------------------------------------------------------------\u001b[0m",
      "\u001b[0;31mTypeError\u001b[0m                                 Traceback (most recent call last)",
      "\u001b[0;32m<ipython-input-102-85659e96e75a>\u001b[0m in \u001b[0;36m<module>\u001b[0;34m\u001b[0m\n\u001b[0;32m----> 1\u001b[0;31m \u001b[0mprediction_batches\u001b[0m \u001b[0;34m=\u001b[0m \u001b[0;34m[\u001b[0m\u001b[0mpredictor\u001b[0m\u001b[0;34m.\u001b[0m\u001b[0mpredict\u001b[0m\u001b[0;34m(\u001b[0m\u001b[0mbatch\u001b[0m\u001b[0;34m)\u001b[0m \u001b[0;32mfor\u001b[0m \u001b[0mbatch\u001b[0m \u001b[0;32min\u001b[0m \u001b[0mnp\u001b[0m\u001b[0;34m.\u001b[0m\u001b[0marray_split\u001b[0m\u001b[0;34m(\u001b[0m\u001b[0mtest_features\u001b[0m\u001b[0;34m.\u001b[0m\u001b[0mdata\u001b[0m\u001b[0;34m,\u001b[0m \u001b[0;36m100\u001b[0m\u001b[0;34m)\u001b[0m\u001b[0;34m]\u001b[0m\u001b[0;34m\u001b[0m\u001b[0;34m\u001b[0m\u001b[0m\n\u001b[0m",
      "\u001b[0;32m<ipython-input-102-85659e96e75a>\u001b[0m in \u001b[0;36m<listcomp>\u001b[0;34m(.0)\u001b[0m\n\u001b[0;32m----> 1\u001b[0;31m \u001b[0mprediction_batches\u001b[0m \u001b[0;34m=\u001b[0m \u001b[0;34m[\u001b[0m\u001b[0mpredictor\u001b[0m\u001b[0;34m.\u001b[0m\u001b[0mpredict\u001b[0m\u001b[0;34m(\u001b[0m\u001b[0mbatch\u001b[0m\u001b[0;34m)\u001b[0m \u001b[0;32mfor\u001b[0m \u001b[0mbatch\u001b[0m \u001b[0;32min\u001b[0m \u001b[0mnp\u001b[0m\u001b[0;34m.\u001b[0m\u001b[0marray_split\u001b[0m\u001b[0;34m(\u001b[0m\u001b[0mtest_features\u001b[0m\u001b[0;34m.\u001b[0m\u001b[0mdata\u001b[0m\u001b[0;34m,\u001b[0m \u001b[0;36m100\u001b[0m\u001b[0;34m)\u001b[0m\u001b[0;34m]\u001b[0m\u001b[0;34m\u001b[0m\u001b[0;34m\u001b[0m\u001b[0m\n\u001b[0m",
      "\u001b[0;32m/opt/conda/lib/python3.6/site-packages/sagemaker/predictor.py\u001b[0m in \u001b[0;36mpredict\u001b[0;34m(self, data, initial_args, target_model, target_variant, inference_id)\u001b[0m\n\u001b[1;32m    157\u001b[0m \u001b[0;34m\u001b[0m\u001b[0m\n\u001b[1;32m    158\u001b[0m         request_args = self._create_request_args(\n\u001b[0;32m--> 159\u001b[0;31m             \u001b[0mdata\u001b[0m\u001b[0;34m,\u001b[0m \u001b[0minitial_args\u001b[0m\u001b[0;34m,\u001b[0m \u001b[0mtarget_model\u001b[0m\u001b[0;34m,\u001b[0m \u001b[0mtarget_variant\u001b[0m\u001b[0;34m,\u001b[0m \u001b[0minference_id\u001b[0m\u001b[0;34m\u001b[0m\u001b[0;34m\u001b[0m\u001b[0m\n\u001b[0m\u001b[1;32m    160\u001b[0m         )\n\u001b[1;32m    161\u001b[0m         \u001b[0mresponse\u001b[0m \u001b[0;34m=\u001b[0m \u001b[0mself\u001b[0m\u001b[0;34m.\u001b[0m\u001b[0msagemaker_session\u001b[0m\u001b[0;34m.\u001b[0m\u001b[0msagemaker_runtime_client\u001b[0m\u001b[0;34m.\u001b[0m\u001b[0minvoke_endpoint\u001b[0m\u001b[0;34m(\u001b[0m\u001b[0;34m**\u001b[0m\u001b[0mrequest_args\u001b[0m\u001b[0;34m)\u001b[0m\u001b[0;34m\u001b[0m\u001b[0;34m\u001b[0m\u001b[0m\n",
      "\u001b[0;32m/opt/conda/lib/python3.6/site-packages/sagemaker/predictor.py\u001b[0m in \u001b[0;36m_create_request_args\u001b[0;34m(self, data, initial_args, target_model, target_variant, inference_id)\u001b[0m\n\u001b[1;32m    197\u001b[0m             \u001b[0margs\u001b[0m\u001b[0;34m[\u001b[0m\u001b[0;34m\"InferenceId\"\u001b[0m\u001b[0;34m]\u001b[0m \u001b[0;34m=\u001b[0m \u001b[0minference_id\u001b[0m\u001b[0;34m\u001b[0m\u001b[0;34m\u001b[0m\u001b[0m\n\u001b[1;32m    198\u001b[0m \u001b[0;34m\u001b[0m\u001b[0m\n\u001b[0;32m--> 199\u001b[0;31m         \u001b[0mdata\u001b[0m \u001b[0;34m=\u001b[0m \u001b[0mself\u001b[0m\u001b[0;34m.\u001b[0m\u001b[0mserializer\u001b[0m\u001b[0;34m.\u001b[0m\u001b[0mserialize\u001b[0m\u001b[0;34m(\u001b[0m\u001b[0mdata\u001b[0m\u001b[0;34m)\u001b[0m\u001b[0;34m\u001b[0m\u001b[0;34m\u001b[0m\u001b[0m\n\u001b[0m\u001b[1;32m    200\u001b[0m \u001b[0;34m\u001b[0m\u001b[0m\n\u001b[1;32m    201\u001b[0m         \u001b[0margs\u001b[0m\u001b[0;34m[\u001b[0m\u001b[0;34m\"Body\"\u001b[0m\u001b[0;34m]\u001b[0m \u001b[0;34m=\u001b[0m \u001b[0mdata\u001b[0m\u001b[0;34m\u001b[0m\u001b[0;34m\u001b[0m\u001b[0m\n",
      "\u001b[0;32m/opt/conda/lib/python3.6/site-packages/sagemaker/serializers.py\u001b[0m in \u001b[0;36mserialize\u001b[0;34m(self, data)\u001b[0m\n\u001b[1;32m    227\u001b[0m             \u001b[0;32mreturn\u001b[0m \u001b[0mjson\u001b[0m\u001b[0;34m.\u001b[0m\u001b[0mdumps\u001b[0m\u001b[0;34m(\u001b[0m\u001b[0mdata\u001b[0m\u001b[0;34m.\u001b[0m\u001b[0mtolist\u001b[0m\u001b[0;34m(\u001b[0m\u001b[0;34m)\u001b[0m\u001b[0;34m)\u001b[0m\u001b[0;34m\u001b[0m\u001b[0;34m\u001b[0m\u001b[0m\n\u001b[1;32m    228\u001b[0m \u001b[0;34m\u001b[0m\u001b[0m\n\u001b[0;32m--> 229\u001b[0;31m         \u001b[0;32mreturn\u001b[0m \u001b[0mjson\u001b[0m\u001b[0;34m.\u001b[0m\u001b[0mdumps\u001b[0m\u001b[0;34m(\u001b[0m\u001b[0mdata\u001b[0m\u001b[0;34m)\u001b[0m\u001b[0;34m\u001b[0m\u001b[0;34m\u001b[0m\u001b[0m\n\u001b[0m\u001b[1;32m    230\u001b[0m \u001b[0;34m\u001b[0m\u001b[0m\n\u001b[1;32m    231\u001b[0m \u001b[0;34m\u001b[0m\u001b[0m\n",
      "\u001b[0;32m/opt/conda/lib/python3.6/json/__init__.py\u001b[0m in \u001b[0;36mdumps\u001b[0;34m(obj, skipkeys, ensure_ascii, check_circular, allow_nan, cls, indent, separators, default, sort_keys, **kw)\u001b[0m\n\u001b[1;32m    229\u001b[0m         \u001b[0mcls\u001b[0m \u001b[0;32mis\u001b[0m \u001b[0;32mNone\u001b[0m \u001b[0;32mand\u001b[0m \u001b[0mindent\u001b[0m \u001b[0;32mis\u001b[0m \u001b[0;32mNone\u001b[0m \u001b[0;32mand\u001b[0m \u001b[0mseparators\u001b[0m \u001b[0;32mis\u001b[0m \u001b[0;32mNone\u001b[0m \u001b[0;32mand\u001b[0m\u001b[0;34m\u001b[0m\u001b[0;34m\u001b[0m\u001b[0m\n\u001b[1;32m    230\u001b[0m         default is None and not sort_keys and not kw):\n\u001b[0;32m--> 231\u001b[0;31m         \u001b[0;32mreturn\u001b[0m \u001b[0m_default_encoder\u001b[0m\u001b[0;34m.\u001b[0m\u001b[0mencode\u001b[0m\u001b[0;34m(\u001b[0m\u001b[0mobj\u001b[0m\u001b[0;34m)\u001b[0m\u001b[0;34m\u001b[0m\u001b[0;34m\u001b[0m\u001b[0m\n\u001b[0m\u001b[1;32m    232\u001b[0m     \u001b[0;32mif\u001b[0m \u001b[0mcls\u001b[0m \u001b[0;32mis\u001b[0m \u001b[0;32mNone\u001b[0m\u001b[0;34m:\u001b[0m\u001b[0;34m\u001b[0m\u001b[0;34m\u001b[0m\u001b[0m\n\u001b[1;32m    233\u001b[0m         \u001b[0mcls\u001b[0m \u001b[0;34m=\u001b[0m \u001b[0mJSONEncoder\u001b[0m\u001b[0;34m\u001b[0m\u001b[0;34m\u001b[0m\u001b[0m\n",
      "\u001b[0;32m/opt/conda/lib/python3.6/json/encoder.py\u001b[0m in \u001b[0;36mencode\u001b[0;34m(self, o)\u001b[0m\n\u001b[1;32m    197\u001b[0m         \u001b[0;31m# exceptions aren't as detailed.  The list call should be roughly\u001b[0m\u001b[0;34m\u001b[0m\u001b[0;34m\u001b[0m\u001b[0;34m\u001b[0m\u001b[0m\n\u001b[1;32m    198\u001b[0m         \u001b[0;31m# equivalent to the PySequence_Fast that ''.join() would do.\u001b[0m\u001b[0;34m\u001b[0m\u001b[0;34m\u001b[0m\u001b[0;34m\u001b[0m\u001b[0m\n\u001b[0;32m--> 199\u001b[0;31m         \u001b[0mchunks\u001b[0m \u001b[0;34m=\u001b[0m \u001b[0mself\u001b[0m\u001b[0;34m.\u001b[0m\u001b[0miterencode\u001b[0m\u001b[0;34m(\u001b[0m\u001b[0mo\u001b[0m\u001b[0;34m,\u001b[0m \u001b[0m_one_shot\u001b[0m\u001b[0;34m=\u001b[0m\u001b[0;32mTrue\u001b[0m\u001b[0;34m)\u001b[0m\u001b[0;34m\u001b[0m\u001b[0;34m\u001b[0m\u001b[0m\n\u001b[0m\u001b[1;32m    200\u001b[0m         \u001b[0;32mif\u001b[0m \u001b[0;32mnot\u001b[0m \u001b[0misinstance\u001b[0m\u001b[0;34m(\u001b[0m\u001b[0mchunks\u001b[0m\u001b[0;34m,\u001b[0m \u001b[0;34m(\u001b[0m\u001b[0mlist\u001b[0m\u001b[0;34m,\u001b[0m \u001b[0mtuple\u001b[0m\u001b[0;34m)\u001b[0m\u001b[0;34m)\u001b[0m\u001b[0;34m:\u001b[0m\u001b[0;34m\u001b[0m\u001b[0;34m\u001b[0m\u001b[0m\n\u001b[1;32m    201\u001b[0m             \u001b[0mchunks\u001b[0m \u001b[0;34m=\u001b[0m \u001b[0mlist\u001b[0m\u001b[0;34m(\u001b[0m\u001b[0mchunks\u001b[0m\u001b[0;34m)\u001b[0m\u001b[0;34m\u001b[0m\u001b[0;34m\u001b[0m\u001b[0m\n",
      "\u001b[0;32m/opt/conda/lib/python3.6/json/encoder.py\u001b[0m in \u001b[0;36miterencode\u001b[0;34m(self, o, _one_shot)\u001b[0m\n\u001b[1;32m    255\u001b[0m                 \u001b[0mself\u001b[0m\u001b[0;34m.\u001b[0m\u001b[0mkey_separator\u001b[0m\u001b[0;34m,\u001b[0m \u001b[0mself\u001b[0m\u001b[0;34m.\u001b[0m\u001b[0mitem_separator\u001b[0m\u001b[0;34m,\u001b[0m \u001b[0mself\u001b[0m\u001b[0;34m.\u001b[0m\u001b[0msort_keys\u001b[0m\u001b[0;34m,\u001b[0m\u001b[0;34m\u001b[0m\u001b[0;34m\u001b[0m\u001b[0m\n\u001b[1;32m    256\u001b[0m                 self.skipkeys, _one_shot)\n\u001b[0;32m--> 257\u001b[0;31m         \u001b[0;32mreturn\u001b[0m \u001b[0m_iterencode\u001b[0m\u001b[0;34m(\u001b[0m\u001b[0mo\u001b[0m\u001b[0;34m,\u001b[0m \u001b[0;36m0\u001b[0m\u001b[0;34m)\u001b[0m\u001b[0;34m\u001b[0m\u001b[0;34m\u001b[0m\u001b[0m\n\u001b[0m\u001b[1;32m    258\u001b[0m \u001b[0;34m\u001b[0m\u001b[0m\n\u001b[1;32m    259\u001b[0m def _make_iterencode(markers, _default, _encoder, _indent, _floatstr,\n",
      "\u001b[0;32m/opt/conda/lib/python3.6/json/encoder.py\u001b[0m in \u001b[0;36mdefault\u001b[0;34m(self, o)\u001b[0m\n\u001b[1;32m    178\u001b[0m         \"\"\"\n\u001b[1;32m    179\u001b[0m         raise TypeError(\"Object of type '%s' is not JSON serializable\" %\n\u001b[0;32m--> 180\u001b[0;31m                         o.__class__.__name__)\n\u001b[0m\u001b[1;32m    181\u001b[0m \u001b[0;34m\u001b[0m\u001b[0m\n\u001b[1;32m    182\u001b[0m     \u001b[0;32mdef\u001b[0m \u001b[0mencode\u001b[0m\u001b[0;34m(\u001b[0m\u001b[0mself\u001b[0m\u001b[0;34m,\u001b[0m \u001b[0mo\u001b[0m\u001b[0;34m)\u001b[0m\u001b[0;34m:\u001b[0m\u001b[0;34m\u001b[0m\u001b[0;34m\u001b[0m\u001b[0m\n",
      "\u001b[0;31mTypeError\u001b[0m: Object of type 'Tensor' is not JSON serializable"
     ]
    }
   ],
   "source": [
    "prediction_batches = [predictor.predict(batch) for batch in np.array_split(test_features.data, 100)]"
   ]
  },
  {
   "cell_type": "code",
   "execution_count": 97,
   "metadata": {},
   "outputs": [],
   "source": [
    "#ss pytorch\n",
    "def evaluate_metrics(predictor, test_features, test_labels):\n",
    "    \"\"\"\n",
    "    Evaluate a model on a test set using the given prediction endpoint. Display classification metrics.\n",
    "    \"\"\"\n",
    "    # split the test dataset into 100 batches and evaluate using prediction endpoint\n",
    "    prediction_batches = [predictor.predict(batch) for batch in np.array_split(test_features, 100)]\n",
    "\n",
    "    # parse protobuf responses to extract predicted labels\n",
    "    extract_label = lambda x: x.label['predicted_label'].data[0]\n",
    "    test_preds = np.concatenate([np.array([extract_label(x) for x in batch]) for batch in prediction_batches])\n",
    "    test_preds = test_preds.reshape((-1,))\n",
    "    \n",
    "    # calculate accuracy\n",
    "    accuracy = (test_preds == test_labels).sum() / test_labels.shape[0]\n",
    "    \n",
    "    # calculate recall for each class\n",
    "    recall_per_class, classes = [], []\n",
    "    for target_label in np.unique(test_labels):\n",
    "        recall_numerator = np.logical_and(test_preds == target_label, test_labels == target_label).sum()\n",
    "        recall_denominator = (test_labels == target_label).sum()\n",
    "        recall_per_class.append(recall_numerator / recall_denominator)\n",
    "        classes.append(label_map[target_label])\n",
    "    recall = pd.DataFrame({'recall': recall_per_class, 'class_label': classes})\n",
    "    recall.sort_values('class_label', ascending=False, inplace=True)\n",
    "\n",
    "    # calculate confusion matrix\n",
    "    label_mapper = np.vectorize(lambda x: label_map[x])\n",
    "    confusion_matrix = pd.crosstab(label_mapper(test_labels), label_mapper(test_preds), \n",
    "                                   rownames=['Actuals'], colnames=['Predictions'], normalize='index')\n",
    "\n",
    "    # display results\n",
    "    sns.heatmap(confusion_matrix, annot=True, fmt='.2f', cmap=\"YlGnBu\").set_title('Confusion Matrix')  \n",
    "    ax = recall.plot(kind='barh', x='class_label', y='recall', color='steelblue', title='Recall', legend=False)\n",
    "    ax.set_ylabel('')\n",
    "    print('Accuracy: {:.3f}'.format(accuracy))"
   ]
  },
  {
   "cell_type": "code",
   "execution_count": 88,
   "metadata": {},
   "outputs": [],
   "source": [
    "#ss this seems to be written for tensorflow..see above for pytorch\n",
    "def evaluate_metrics(predictor, test_features, test_labels):\n",
    "    \"\"\"\n",
    "    Evaluate a model on a test set using the given prediction endpoint. Display classification metrics.\n",
    "    \"\"\"\n",
    "    # split the test dataset into 100 batches and evaluate using prediction endpoint\n",
    "    prediction_batches = [predictor.predict(batch) for batch in np.array_split(test_features, 100)]\n",
    "\n",
    "    # parse protobuf responses to extract predicted labels\n",
    "    extract_label = lambda x: x.label['predicted_label'].float32_tensor.values\n",
    "    test_preds = np.concatenate([np.array([extract_label(x) for x in batch]) for batch in prediction_batches])\n",
    "    test_preds = test_preds.reshape((-1,))\n",
    "    \n",
    "    # calculate accuracy\n",
    "    accuracy = (test_preds == test_labels).sum() / test_labels.shape[0]\n",
    "    \n",
    "    # calculate recall for each class\n",
    "    recall_per_class, classes = [], []\n",
    "    for target_label in np.unique(test_labels):\n",
    "        recall_numerator = np.logical_and(test_preds == target_label, test_labels == target_label).sum()\n",
    "        recall_denominator = (test_labels == target_label).sum()\n",
    "        recall_per_class.append(recall_numerator / recall_denominator)\n",
    "        classes.append(label_map[target_label])\n",
    "    recall = pd.DataFrame({'recall': recall_per_class, 'class_label': classes})\n",
    "    recall.sort_values('class_label', ascending=False, inplace=True)\n",
    "\n",
    "    # calculate confusion matrix\n",
    "    label_mapper = np.vectorize(lambda x: label_map[x])\n",
    "    confusion_matrix = pd.crosstab(label_mapper(test_labels), label_mapper(test_preds), \n",
    "                                   rownames=['Actuals'], colnames=['Predictions'], normalize='index')\n",
    "\n",
    "    # display results\n",
    "    sns.heatmap(confusion_matrix, annot=True, fmt='.2f', cmap=\"YlGnBu\").set_title('Confusion Matrix')  \n",
    "    ax = recall.plot(kind='barh', x='class_label', y='recall', color='steelblue', title='Recall', legend=False)\n",
    "    ax.set_ylabel('')\n",
    "    print('Accuracy: {:.3f}'.format(accuracy))"
   ]
  },
  {
   "cell_type": "code",
   "execution_count": 91,
   "metadata": {},
   "outputs": [
    {
     "data": {
      "text/plain": [
       "[tensor([0, 0, 2, 3, 1]),\n",
       " tensor([[  101, 10047,  3110,  ...,     0,     0,     0],\n",
       "         [  101,  1045,  2514,  ...,     0,     0,     0],\n",
       "         [  101,  1045,  2514,  ...,     0,     0,     0],\n",
       "         [  101,  1045,  2572,  ...,     0,     0,     0],\n",
       "         [  101,  1045,  2064,  ...,     0,     0,     0]])]"
      ]
     },
     "execution_count": 91,
     "metadata": {},
     "output_type": "execute_result"
    }
   ],
   "source": [
    "[validation_dataset['labels'][:5],validation_dataset['input_ids'][:5]]"
   ]
  },
  {
   "cell_type": "code",
   "execution_count": 92,
   "metadata": {},
   "outputs": [],
   "source": [
    "test_features=validation_dataset['labels']\n",
    "test_labels=validation_dataset['input_ids']"
   ]
  },
  {
   "cell_type": "code",
   "execution_count": 95,
   "metadata": {},
   "outputs": [],
   "source": [
    "import numpy as np"
   ]
  },
  {
   "cell_type": "code",
   "execution_count": 98,
   "metadata": {
    "collapsed": true,
    "jupyter": {
     "outputs_hidden": true
    }
   },
   "outputs": [
    {
     "ename": "TypeError",
     "evalue": "Object of type 'Tensor' is not JSON serializable",
     "output_type": "error",
     "traceback": [
      "\u001b[0;31m---------------------------------------------------------------------------\u001b[0m",
      "\u001b[0;31mTypeError\u001b[0m                                 Traceback (most recent call last)",
      "\u001b[0;32m<ipython-input-98-87118c308433>\u001b[0m in \u001b[0;36m<module>\u001b[0;34m\u001b[0m\n\u001b[0;32m----> 1\u001b[0;31m \u001b[0mevaluate_metrics\u001b[0m\u001b[0;34m(\u001b[0m\u001b[0mpredictor\u001b[0m\u001b[0;34m,\u001b[0m \u001b[0mtest_features\u001b[0m\u001b[0;34m,\u001b[0m \u001b[0mtest_labels\u001b[0m\u001b[0;34m)\u001b[0m\u001b[0;34m\u001b[0m\u001b[0;34m\u001b[0m\u001b[0m\n\u001b[0m",
      "\u001b[0;32m<ipython-input-97-578deeaf42b1>\u001b[0m in \u001b[0;36mevaluate_metrics\u001b[0;34m(predictor, test_features, test_labels)\u001b[0m\n\u001b[1;32m      5\u001b[0m     \"\"\"\n\u001b[1;32m      6\u001b[0m     \u001b[0;31m# split the test dataset into 100 batches and evaluate using prediction endpoint\u001b[0m\u001b[0;34m\u001b[0m\u001b[0;34m\u001b[0m\u001b[0;34m\u001b[0m\u001b[0m\n\u001b[0;32m----> 7\u001b[0;31m     \u001b[0mprediction_batches\u001b[0m \u001b[0;34m=\u001b[0m \u001b[0;34m[\u001b[0m\u001b[0mpredictor\u001b[0m\u001b[0;34m.\u001b[0m\u001b[0mpredict\u001b[0m\u001b[0;34m(\u001b[0m\u001b[0mbatch\u001b[0m\u001b[0;34m)\u001b[0m \u001b[0;32mfor\u001b[0m \u001b[0mbatch\u001b[0m \u001b[0;32min\u001b[0m \u001b[0mnp\u001b[0m\u001b[0;34m.\u001b[0m\u001b[0marray_split\u001b[0m\u001b[0;34m(\u001b[0m\u001b[0mtest_features\u001b[0m\u001b[0;34m,\u001b[0m \u001b[0;36m100\u001b[0m\u001b[0;34m)\u001b[0m\u001b[0;34m]\u001b[0m\u001b[0;34m\u001b[0m\u001b[0;34m\u001b[0m\u001b[0m\n\u001b[0m\u001b[1;32m      8\u001b[0m \u001b[0;34m\u001b[0m\u001b[0m\n\u001b[1;32m      9\u001b[0m     \u001b[0;31m# parse protobuf responses to extract predicted labels\u001b[0m\u001b[0;34m\u001b[0m\u001b[0;34m\u001b[0m\u001b[0;34m\u001b[0m\u001b[0m\n",
      "\u001b[0;32m<ipython-input-97-578deeaf42b1>\u001b[0m in \u001b[0;36m<listcomp>\u001b[0;34m(.0)\u001b[0m\n\u001b[1;32m      5\u001b[0m     \"\"\"\n\u001b[1;32m      6\u001b[0m     \u001b[0;31m# split the test dataset into 100 batches and evaluate using prediction endpoint\u001b[0m\u001b[0;34m\u001b[0m\u001b[0;34m\u001b[0m\u001b[0;34m\u001b[0m\u001b[0m\n\u001b[0;32m----> 7\u001b[0;31m     \u001b[0mprediction_batches\u001b[0m \u001b[0;34m=\u001b[0m \u001b[0;34m[\u001b[0m\u001b[0mpredictor\u001b[0m\u001b[0;34m.\u001b[0m\u001b[0mpredict\u001b[0m\u001b[0;34m(\u001b[0m\u001b[0mbatch\u001b[0m\u001b[0;34m)\u001b[0m \u001b[0;32mfor\u001b[0m \u001b[0mbatch\u001b[0m \u001b[0;32min\u001b[0m \u001b[0mnp\u001b[0m\u001b[0;34m.\u001b[0m\u001b[0marray_split\u001b[0m\u001b[0;34m(\u001b[0m\u001b[0mtest_features\u001b[0m\u001b[0;34m,\u001b[0m \u001b[0;36m100\u001b[0m\u001b[0;34m)\u001b[0m\u001b[0;34m]\u001b[0m\u001b[0;34m\u001b[0m\u001b[0;34m\u001b[0m\u001b[0m\n\u001b[0m\u001b[1;32m      8\u001b[0m \u001b[0;34m\u001b[0m\u001b[0m\n\u001b[1;32m      9\u001b[0m     \u001b[0;31m# parse protobuf responses to extract predicted labels\u001b[0m\u001b[0;34m\u001b[0m\u001b[0;34m\u001b[0m\u001b[0;34m\u001b[0m\u001b[0m\n",
      "\u001b[0;32m/opt/conda/lib/python3.6/site-packages/sagemaker/predictor.py\u001b[0m in \u001b[0;36mpredict\u001b[0;34m(self, data, initial_args, target_model, target_variant, inference_id)\u001b[0m\n\u001b[1;32m    157\u001b[0m \u001b[0;34m\u001b[0m\u001b[0m\n\u001b[1;32m    158\u001b[0m         request_args = self._create_request_args(\n\u001b[0;32m--> 159\u001b[0;31m             \u001b[0mdata\u001b[0m\u001b[0;34m,\u001b[0m \u001b[0minitial_args\u001b[0m\u001b[0;34m,\u001b[0m \u001b[0mtarget_model\u001b[0m\u001b[0;34m,\u001b[0m \u001b[0mtarget_variant\u001b[0m\u001b[0;34m,\u001b[0m \u001b[0minference_id\u001b[0m\u001b[0;34m\u001b[0m\u001b[0;34m\u001b[0m\u001b[0m\n\u001b[0m\u001b[1;32m    160\u001b[0m         )\n\u001b[1;32m    161\u001b[0m         \u001b[0mresponse\u001b[0m \u001b[0;34m=\u001b[0m \u001b[0mself\u001b[0m\u001b[0;34m.\u001b[0m\u001b[0msagemaker_session\u001b[0m\u001b[0;34m.\u001b[0m\u001b[0msagemaker_runtime_client\u001b[0m\u001b[0;34m.\u001b[0m\u001b[0minvoke_endpoint\u001b[0m\u001b[0;34m(\u001b[0m\u001b[0;34m**\u001b[0m\u001b[0mrequest_args\u001b[0m\u001b[0;34m)\u001b[0m\u001b[0;34m\u001b[0m\u001b[0;34m\u001b[0m\u001b[0m\n",
      "\u001b[0;32m/opt/conda/lib/python3.6/site-packages/sagemaker/predictor.py\u001b[0m in \u001b[0;36m_create_request_args\u001b[0;34m(self, data, initial_args, target_model, target_variant, inference_id)\u001b[0m\n\u001b[1;32m    197\u001b[0m             \u001b[0margs\u001b[0m\u001b[0;34m[\u001b[0m\u001b[0;34m\"InferenceId\"\u001b[0m\u001b[0;34m]\u001b[0m \u001b[0;34m=\u001b[0m \u001b[0minference_id\u001b[0m\u001b[0;34m\u001b[0m\u001b[0;34m\u001b[0m\u001b[0m\n\u001b[1;32m    198\u001b[0m \u001b[0;34m\u001b[0m\u001b[0m\n\u001b[0;32m--> 199\u001b[0;31m         \u001b[0mdata\u001b[0m \u001b[0;34m=\u001b[0m \u001b[0mself\u001b[0m\u001b[0;34m.\u001b[0m\u001b[0mserializer\u001b[0m\u001b[0;34m.\u001b[0m\u001b[0mserialize\u001b[0m\u001b[0;34m(\u001b[0m\u001b[0mdata\u001b[0m\u001b[0;34m)\u001b[0m\u001b[0;34m\u001b[0m\u001b[0;34m\u001b[0m\u001b[0m\n\u001b[0m\u001b[1;32m    200\u001b[0m \u001b[0;34m\u001b[0m\u001b[0m\n\u001b[1;32m    201\u001b[0m         \u001b[0margs\u001b[0m\u001b[0;34m[\u001b[0m\u001b[0;34m\"Body\"\u001b[0m\u001b[0;34m]\u001b[0m \u001b[0;34m=\u001b[0m \u001b[0mdata\u001b[0m\u001b[0;34m\u001b[0m\u001b[0;34m\u001b[0m\u001b[0m\n",
      "\u001b[0;32m/opt/conda/lib/python3.6/site-packages/sagemaker/serializers.py\u001b[0m in \u001b[0;36mserialize\u001b[0;34m(self, data)\u001b[0m\n\u001b[1;32m    227\u001b[0m             \u001b[0;32mreturn\u001b[0m \u001b[0mjson\u001b[0m\u001b[0;34m.\u001b[0m\u001b[0mdumps\u001b[0m\u001b[0;34m(\u001b[0m\u001b[0mdata\u001b[0m\u001b[0;34m.\u001b[0m\u001b[0mtolist\u001b[0m\u001b[0;34m(\u001b[0m\u001b[0;34m)\u001b[0m\u001b[0;34m)\u001b[0m\u001b[0;34m\u001b[0m\u001b[0;34m\u001b[0m\u001b[0m\n\u001b[1;32m    228\u001b[0m \u001b[0;34m\u001b[0m\u001b[0m\n\u001b[0;32m--> 229\u001b[0;31m         \u001b[0;32mreturn\u001b[0m \u001b[0mjson\u001b[0m\u001b[0;34m.\u001b[0m\u001b[0mdumps\u001b[0m\u001b[0;34m(\u001b[0m\u001b[0mdata\u001b[0m\u001b[0;34m)\u001b[0m\u001b[0;34m\u001b[0m\u001b[0;34m\u001b[0m\u001b[0m\n\u001b[0m\u001b[1;32m    230\u001b[0m \u001b[0;34m\u001b[0m\u001b[0m\n\u001b[1;32m    231\u001b[0m \u001b[0;34m\u001b[0m\u001b[0m\n",
      "\u001b[0;32m/opt/conda/lib/python3.6/json/__init__.py\u001b[0m in \u001b[0;36mdumps\u001b[0;34m(obj, skipkeys, ensure_ascii, check_circular, allow_nan, cls, indent, separators, default, sort_keys, **kw)\u001b[0m\n\u001b[1;32m    229\u001b[0m         \u001b[0mcls\u001b[0m \u001b[0;32mis\u001b[0m \u001b[0;32mNone\u001b[0m \u001b[0;32mand\u001b[0m \u001b[0mindent\u001b[0m \u001b[0;32mis\u001b[0m \u001b[0;32mNone\u001b[0m \u001b[0;32mand\u001b[0m \u001b[0mseparators\u001b[0m \u001b[0;32mis\u001b[0m \u001b[0;32mNone\u001b[0m \u001b[0;32mand\u001b[0m\u001b[0;34m\u001b[0m\u001b[0;34m\u001b[0m\u001b[0m\n\u001b[1;32m    230\u001b[0m         default is None and not sort_keys and not kw):\n\u001b[0;32m--> 231\u001b[0;31m         \u001b[0;32mreturn\u001b[0m \u001b[0m_default_encoder\u001b[0m\u001b[0;34m.\u001b[0m\u001b[0mencode\u001b[0m\u001b[0;34m(\u001b[0m\u001b[0mobj\u001b[0m\u001b[0;34m)\u001b[0m\u001b[0;34m\u001b[0m\u001b[0;34m\u001b[0m\u001b[0m\n\u001b[0m\u001b[1;32m    232\u001b[0m     \u001b[0;32mif\u001b[0m \u001b[0mcls\u001b[0m \u001b[0;32mis\u001b[0m \u001b[0;32mNone\u001b[0m\u001b[0;34m:\u001b[0m\u001b[0;34m\u001b[0m\u001b[0;34m\u001b[0m\u001b[0m\n\u001b[1;32m    233\u001b[0m         \u001b[0mcls\u001b[0m \u001b[0;34m=\u001b[0m \u001b[0mJSONEncoder\u001b[0m\u001b[0;34m\u001b[0m\u001b[0;34m\u001b[0m\u001b[0m\n",
      "\u001b[0;32m/opt/conda/lib/python3.6/json/encoder.py\u001b[0m in \u001b[0;36mencode\u001b[0;34m(self, o)\u001b[0m\n\u001b[1;32m    197\u001b[0m         \u001b[0;31m# exceptions aren't as detailed.  The list call should be roughly\u001b[0m\u001b[0;34m\u001b[0m\u001b[0;34m\u001b[0m\u001b[0;34m\u001b[0m\u001b[0m\n\u001b[1;32m    198\u001b[0m         \u001b[0;31m# equivalent to the PySequence_Fast that ''.join() would do.\u001b[0m\u001b[0;34m\u001b[0m\u001b[0;34m\u001b[0m\u001b[0;34m\u001b[0m\u001b[0m\n\u001b[0;32m--> 199\u001b[0;31m         \u001b[0mchunks\u001b[0m \u001b[0;34m=\u001b[0m \u001b[0mself\u001b[0m\u001b[0;34m.\u001b[0m\u001b[0miterencode\u001b[0m\u001b[0;34m(\u001b[0m\u001b[0mo\u001b[0m\u001b[0;34m,\u001b[0m \u001b[0m_one_shot\u001b[0m\u001b[0;34m=\u001b[0m\u001b[0;32mTrue\u001b[0m\u001b[0;34m)\u001b[0m\u001b[0;34m\u001b[0m\u001b[0;34m\u001b[0m\u001b[0m\n\u001b[0m\u001b[1;32m    200\u001b[0m         \u001b[0;32mif\u001b[0m \u001b[0;32mnot\u001b[0m \u001b[0misinstance\u001b[0m\u001b[0;34m(\u001b[0m\u001b[0mchunks\u001b[0m\u001b[0;34m,\u001b[0m \u001b[0;34m(\u001b[0m\u001b[0mlist\u001b[0m\u001b[0;34m,\u001b[0m \u001b[0mtuple\u001b[0m\u001b[0;34m)\u001b[0m\u001b[0;34m)\u001b[0m\u001b[0;34m:\u001b[0m\u001b[0;34m\u001b[0m\u001b[0;34m\u001b[0m\u001b[0m\n\u001b[1;32m    201\u001b[0m             \u001b[0mchunks\u001b[0m \u001b[0;34m=\u001b[0m \u001b[0mlist\u001b[0m\u001b[0;34m(\u001b[0m\u001b[0mchunks\u001b[0m\u001b[0;34m)\u001b[0m\u001b[0;34m\u001b[0m\u001b[0;34m\u001b[0m\u001b[0m\n",
      "\u001b[0;32m/opt/conda/lib/python3.6/json/encoder.py\u001b[0m in \u001b[0;36miterencode\u001b[0;34m(self, o, _one_shot)\u001b[0m\n\u001b[1;32m    255\u001b[0m                 \u001b[0mself\u001b[0m\u001b[0;34m.\u001b[0m\u001b[0mkey_separator\u001b[0m\u001b[0;34m,\u001b[0m \u001b[0mself\u001b[0m\u001b[0;34m.\u001b[0m\u001b[0mitem_separator\u001b[0m\u001b[0;34m,\u001b[0m \u001b[0mself\u001b[0m\u001b[0;34m.\u001b[0m\u001b[0msort_keys\u001b[0m\u001b[0;34m,\u001b[0m\u001b[0;34m\u001b[0m\u001b[0;34m\u001b[0m\u001b[0m\n\u001b[1;32m    256\u001b[0m                 self.skipkeys, _one_shot)\n\u001b[0;32m--> 257\u001b[0;31m         \u001b[0;32mreturn\u001b[0m \u001b[0m_iterencode\u001b[0m\u001b[0;34m(\u001b[0m\u001b[0mo\u001b[0m\u001b[0;34m,\u001b[0m \u001b[0;36m0\u001b[0m\u001b[0;34m)\u001b[0m\u001b[0;34m\u001b[0m\u001b[0;34m\u001b[0m\u001b[0m\n\u001b[0m\u001b[1;32m    258\u001b[0m \u001b[0;34m\u001b[0m\u001b[0m\n\u001b[1;32m    259\u001b[0m def _make_iterencode(markers, _default, _encoder, _indent, _floatstr,\n",
      "\u001b[0;32m/opt/conda/lib/python3.6/json/encoder.py\u001b[0m in \u001b[0;36mdefault\u001b[0;34m(self, o)\u001b[0m\n\u001b[1;32m    178\u001b[0m         \"\"\"\n\u001b[1;32m    179\u001b[0m         raise TypeError(\"Object of type '%s' is not JSON serializable\" %\n\u001b[0;32m--> 180\u001b[0;31m                         o.__class__.__name__)\n\u001b[0m\u001b[1;32m    181\u001b[0m \u001b[0;34m\u001b[0m\u001b[0m\n\u001b[1;32m    182\u001b[0m     \u001b[0;32mdef\u001b[0m \u001b[0mencode\u001b[0m\u001b[0;34m(\u001b[0m\u001b[0mself\u001b[0m\u001b[0;34m,\u001b[0m \u001b[0mo\u001b[0m\u001b[0;34m)\u001b[0m\u001b[0;34m:\u001b[0m\u001b[0;34m\u001b[0m\u001b[0;34m\u001b[0m\u001b[0m\n",
      "\u001b[0;31mTypeError\u001b[0m: Object of type 'Tensor' is not JSON serializable"
     ]
    }
   ],
   "source": [
    "evaluate_metrics(predictor, test_features, test_labels)"
   ]
  },
  {
   "cell_type": "markdown",
   "metadata": {},
   "source": [
    "## end multiclass confusion matrix see https://go.aws/354gFhm"
   ]
  },
  {
   "cell_type": "markdown",
   "metadata": {},
   "source": [
    "# ss end Use hf sagemaker notebook 01_getting starting processing"
   ]
  },
  {
   "cell_type": "markdown",
   "metadata": {},
   "source": [
    "# Start NLPwTransformers  Chp2 Scott"
   ]
  },
  {
   "cell_type": "code",
   "execution_count": 3,
   "metadata": {},
   "outputs": [
    {
     "name": "stdout",
     "output_type": "stream",
     "text": [
      "There are 3121 datasets currently available on the Hub\n",
      "The first 10 are: ['acronym_identification', 'ade_corpus_v2', 'adversarial_qa', 'aeslc', 'afrikaans_ner_corpus', 'ag_news', 'ai2_arc', 'air_dialogue', 'ajgt_twitter_ar', 'allegro_reviews']\n"
     ]
    }
   ],
   "source": [
    "from datasets import list_datasets\n",
    "\n",
    "all_datasets = list_datasets()\n",
    "print(f\"There are {len(all_datasets)} datasets currently available on the Hub\")\n",
    "print(f\"The first 10 are: {all_datasets[:10]}\")"
   ]
  },
  {
   "cell_type": "code",
   "execution_count": 4,
   "metadata": {},
   "outputs": [
    {
     "name": "stderr",
     "output_type": "stream",
     "text": [
      "Using custom data configuration default\n",
      "Reusing dataset emotion (/root/.cache/huggingface/datasets/emotion/default/0.0.0/6e4212efe64fd33728549b8f0435c73081391d543b596a05936857df98acb681)\n"
     ]
    }
   ],
   "source": [
    "from datasets import load_dataset\n",
    "\n",
    "emotions = load_dataset(\"emotion\")"
   ]
  },
  {
   "cell_type": "code",
   "execution_count": 5,
   "metadata": {},
   "outputs": [
    {
     "data": {
      "text/plain": [
       "Dataset({\n",
       "    features: ['text', 'label'],\n",
       "    num_rows: 16000\n",
       "})"
      ]
     },
     "execution_count": 5,
     "metadata": {},
     "output_type": "execute_result"
    }
   ],
   "source": [
    "train_ds = emotions[\"train\"]\n",
    "train_ds"
   ]
  },
  {
   "cell_type": "code",
   "execution_count": 6,
   "metadata": {},
   "outputs": [
    {
     "data": {
      "text/html": [
       "<div>\n",
       "<style scoped>\n",
       "    .dataframe tbody tr th:only-of-type {\n",
       "        vertical-align: middle;\n",
       "    }\n",
       "\n",
       "    .dataframe tbody tr th {\n",
       "        vertical-align: top;\n",
       "    }\n",
       "\n",
       "    .dataframe thead th {\n",
       "        text-align: right;\n",
       "    }\n",
       "</style>\n",
       "<table border=\"1\" class=\"dataframe\">\n",
       "  <thead>\n",
       "    <tr style=\"text-align: right;\">\n",
       "      <th></th>\n",
       "      <th>label</th>\n",
       "      <th>text</th>\n",
       "    </tr>\n",
       "  </thead>\n",
       "  <tbody>\n",
       "    <tr>\n",
       "      <th>0</th>\n",
       "      <td>0</td>\n",
       "      <td>i didnt feel humiliated</td>\n",
       "    </tr>\n",
       "    <tr>\n",
       "      <th>1</th>\n",
       "      <td>0</td>\n",
       "      <td>i can go from feeling so hopeless to so damned...</td>\n",
       "    </tr>\n",
       "    <tr>\n",
       "      <th>2</th>\n",
       "      <td>3</td>\n",
       "      <td>im grabbing a minute to post i feel greedy wrong</td>\n",
       "    </tr>\n",
       "    <tr>\n",
       "      <th>3</th>\n",
       "      <td>2</td>\n",
       "      <td>i am ever feeling nostalgic about the fireplac...</td>\n",
       "    </tr>\n",
       "    <tr>\n",
       "      <th>4</th>\n",
       "      <td>3</td>\n",
       "      <td>i am feeling grouchy</td>\n",
       "    </tr>\n",
       "  </tbody>\n",
       "</table>\n",
       "</div>"
      ],
      "text/plain": [
       "   label                                               text\n",
       "0      0                            i didnt feel humiliated\n",
       "1      0  i can go from feeling so hopeless to so damned...\n",
       "2      3   im grabbing a minute to post i feel greedy wrong\n",
       "3      2  i am ever feeling nostalgic about the fireplac...\n",
       "4      3                               i am feeling grouchy"
      ]
     },
     "execution_count": 6,
     "metadata": {},
     "output_type": "execute_result"
    }
   ],
   "source": [
    "import pandas as pd\n",
    "\n",
    "emotions.set_format(type=\"pandas\")\n",
    "df = emotions[\"train\"][:]\n",
    "df.head()"
   ]
  },
  {
   "cell_type": "code",
   "execution_count": 7,
   "metadata": {},
   "outputs": [
    {
     "data": {
      "text/html": [
       "<div>\n",
       "<style scoped>\n",
       "    .dataframe tbody tr th:only-of-type {\n",
       "        vertical-align: middle;\n",
       "    }\n",
       "\n",
       "    .dataframe tbody tr th {\n",
       "        vertical-align: top;\n",
       "    }\n",
       "\n",
       "    .dataframe thead th {\n",
       "        text-align: right;\n",
       "    }\n",
       "</style>\n",
       "<table border=\"1\" class=\"dataframe\">\n",
       "  <thead>\n",
       "    <tr style=\"text-align: right;\">\n",
       "      <th></th>\n",
       "      <th>label</th>\n",
       "      <th>text</th>\n",
       "      <th>label_name</th>\n",
       "    </tr>\n",
       "  </thead>\n",
       "  <tbody>\n",
       "    <tr>\n",
       "      <th>0</th>\n",
       "      <td>0</td>\n",
       "      <td>i didnt feel humiliated</td>\n",
       "      <td>sadness</td>\n",
       "    </tr>\n",
       "    <tr>\n",
       "      <th>1</th>\n",
       "      <td>0</td>\n",
       "      <td>i can go from feeling so hopeless to so damned...</td>\n",
       "      <td>sadness</td>\n",
       "    </tr>\n",
       "    <tr>\n",
       "      <th>2</th>\n",
       "      <td>3</td>\n",
       "      <td>im grabbing a minute to post i feel greedy wrong</td>\n",
       "      <td>anger</td>\n",
       "    </tr>\n",
       "    <tr>\n",
       "      <th>3</th>\n",
       "      <td>2</td>\n",
       "      <td>i am ever feeling nostalgic about the fireplac...</td>\n",
       "      <td>love</td>\n",
       "    </tr>\n",
       "    <tr>\n",
       "      <th>4</th>\n",
       "      <td>3</td>\n",
       "      <td>i am feeling grouchy</td>\n",
       "      <td>anger</td>\n",
       "    </tr>\n",
       "  </tbody>\n",
       "</table>\n",
       "</div>"
      ],
      "text/plain": [
       "   label                                               text label_name\n",
       "0      0                            i didnt feel humiliated    sadness\n",
       "1      0  i can go from feeling so hopeless to so damned...    sadness\n",
       "2      3   im grabbing a minute to post i feel greedy wrong      anger\n",
       "3      2  i am ever feeling nostalgic about the fireplac...       love\n",
       "4      3                               i am feeling grouchy      anger"
      ]
     },
     "execution_count": 7,
     "metadata": {},
     "output_type": "execute_result"
    }
   ],
   "source": [
    "def label_int2str(row):\n",
    "    return emotions[\"train\"].features[\"label\"].int2str(row)\n",
    "\n",
    "df[\"label_name\"] = df[\"label\"].apply(label_int2str)\n",
    "df.head()"
   ]
  },
  {
   "cell_type": "code",
   "execution_count": 8,
   "metadata": {},
   "outputs": [
    {
     "data": {
      "image/png": "[encoded data removed]",
      "text/plain": [
       "<Figure size 432x288 with 1 Axes>"
      ]
     },
     "metadata": {
      "needs_background": "light"
     },
     "output_type": "display_data"
    }
   ],
   "source": [
    "import matplotlib.pyplot as plt\n",
    "\n",
    "df[\"label_name\"].value_counts(ascending=True).plot.barh()\n",
    "plt.title(\"Frequency of Classes\")\n",
    "plt.show()"
   ]
  },
  {
   "cell_type": "code",
   "execution_count": 9,
   "metadata": {},
   "outputs": [
    {
     "data": {
      "image/png": "[encoded data removed]",
      "text/plain": [
       "<Figure size 432x288 with 1 Axes>"
      ]
     },
     "metadata": {
      "needs_background": "light"
     },
     "output_type": "display_data"
    }
   ],
   "source": [
    "df[\"Words Per Tweet\"] = df[\"text\"].str.split().apply(len)\n",
    "df.boxplot(\"Words Per Tweet\", by=\"label_name\", grid=False, showfliers=False,\n",
    "           color=\"black\")\n",
    "plt.suptitle(\"\")\n",
    "plt.xlabel(\"\")\n",
    "plt.show()"
   ]
  },
  {
   "cell_type": "code",
   "execution_count": 10,
   "metadata": {},
   "outputs": [],
   "source": [
    "emotions.reset_format()"
   ]
  },
  {
   "cell_type": "markdown",
   "metadata": {},
   "source": [
    "## jump to fine-tune"
   ]
  },
  {
   "cell_type": "code",
   "execution_count": 11,
   "metadata": {},
   "outputs": [],
   "source": [
    "import torch\n",
    "import torch.nn.functional as F"
   ]
  },
  {
   "cell_type": "code",
   "execution_count": 12,
   "metadata": {},
   "outputs": [
    {
     "data": {
      "text/plain": [
       "device(type='cpu')"
      ]
     },
     "execution_count": 12,
     "metadata": {},
     "output_type": "execute_result"
    }
   ],
   "source": [
    "device = torch.device(\"cuda\" if torch.cuda.is_available() else \"cpu\")\n",
    "device"
   ]
  },
  {
   "cell_type": "code",
   "execution_count": 13,
   "metadata": {},
   "outputs": [],
   "source": [
    "# hide_output\n",
    "from transformers import AutoModelForSequenceClassification\n",
    "model_ckpt = \"distilbert-base-uncased\"\n",
    "\n",
    "num_labels = 6\n"
   ]
  },
  {
   "cell_type": "code",
   "execution_count": 14,
   "metadata": {},
   "outputs": [],
   "source": [
    "from transformers import AutoTokenizer\n",
    "\n",
    "tokenizer = AutoTokenizer.from_pretrained(model_ckpt)"
   ]
  },
  {
   "cell_type": "code",
   "execution_count": 18,
   "metadata": {},
   "outputs": [
    {
     "data": {
      "application/vnd.jupyter.widget-view+json": {
       "model_id": "14d984aff80340b580eefcf2b4b3eb8b",
       "version_major": 2,
       "version_minor": 0
      },
      "text/plain": [
       "HBox(children=(FloatProgress(value=0.0, description='Downloading', max=483.0, style=ProgressStyle(description_…"
      ]
     },
     "metadata": {},
     "output_type": "display_data"
    },
    {
     "name": "stdout",
     "output_type": "stream",
     "text": [
      "\n"
     ]
    },
    {
     "data": {
      "application/vnd.jupyter.widget-view+json": {
       "model_id": "9b3bd8b7b1424c379c55c8d000f6564b",
       "version_major": 2,
       "version_minor": 0
      },
      "text/plain": [
       "HBox(children=(FloatProgress(value=0.0, description='Downloading', max=267967963.0, style=ProgressStyle(descri…"
      ]
     },
     "metadata": {},
     "output_type": "display_data"
    },
    {
     "name": "stdout",
     "output_type": "stream",
     "text": [
      "\n"
     ]
    },
    {
     "name": "stderr",
     "output_type": "stream",
     "text": [
      "Some weights of the model checkpoint at distilbert-base-uncased were not used when initializing DistilBertForSequenceClassification: ['vocab_layer_norm.bias', 'vocab_transform.bias', 'vocab_layer_norm.weight', 'vocab_projector.bias', 'vocab_transform.weight', 'vocab_projector.weight']\n",
      "- This IS expected if you are initializing DistilBertForSequenceClassification from the checkpoint of a model trained on another task or with another architecture (e.g. initializing a BertForSequenceClassification model from a BertForPreTraining model).\n",
      "- This IS NOT expected if you are initializing DistilBertForSequenceClassification from the checkpoint of a model that you expect to be exactly identical (initializing a BertForSequenceClassification model from a BertForSequenceClassification model).\n",
      "Some weights of DistilBertForSequenceClassification were not initialized from the model checkpoint at distilbert-base-uncased and are newly initialized: ['pre_classifier.weight', 'classifier.bias', 'classifier.weight', 'pre_classifier.bias']\n",
      "You should probably TRAIN this model on a down-stream task to be able to use it for predictions and inference.\n"
     ]
    }
   ],
   "source": [
    "model = (AutoModelForSequenceClassification\n",
    "         .from_pretrained(model_ckpt, num_labels=num_labels)\n",
    "         )"
   ]
  },
  {
   "cell_type": "code",
   "execution_count": 19,
   "metadata": {},
   "outputs": [],
   "source": [
    "from sklearn.metrics import accuracy_score, f1_score\n",
    "\n",
    "def compute_metrics(pred):\n",
    "    labels = pred.label_ids\n",
    "    preds = pred.predictions.argmax(-1)\n",
    "    f1 = f1_score(labels, preds, average=\"weighted\")\n",
    "    acc = accuracy_score(labels, preds)\n",
    "    return {\"accuracy\": acc, \"f1\": f1}"
   ]
  },
  {
   "cell_type": "code",
   "execution_count": 29,
   "metadata": {},
   "outputs": [],
   "source": [
    "def tokenize(batch):\n",
    "    return tokenizer(batch[\"text\"], padding=True, truncation=True)"
   ]
  },
  {
   "cell_type": "code",
   "execution_count": 32,
   "metadata": {},
   "outputs": [
    {
     "data": {
      "application/vnd.jupyter.widget-view+json": {
       "model_id": "08346e5b711a4f4b8a784a116d080f9c",
       "version_major": 2,
       "version_minor": 0
      },
      "text/plain": [
       "HBox(children=(FloatProgress(value=0.0, max=1.0), HTML(value='')))"
      ]
     },
     "metadata": {},
     "output_type": "display_data"
    },
    {
     "name": "stdout",
     "output_type": "stream",
     "text": [
      "\n"
     ]
    },
    {
     "data": {
      "application/vnd.jupyter.widget-view+json": {
       "model_id": "3ae753c156584607bcf44176553e7457",
       "version_major": 2,
       "version_minor": 0
      },
      "text/plain": [
       "HBox(children=(FloatProgress(value=0.0, max=1.0), HTML(value='')))"
      ]
     },
     "metadata": {},
     "output_type": "display_data"
    },
    {
     "name": "stdout",
     "output_type": "stream",
     "text": [
      "\n"
     ]
    },
    {
     "data": {
      "application/vnd.jupyter.widget-view+json": {
       "model_id": "7e57561f0f574eaf831e32cab1a4282b",
       "version_major": 2,
       "version_minor": 0
      },
      "text/plain": [
       "HBox(children=(FloatProgress(value=0.0, max=1.0), HTML(value='')))"
      ]
     },
     "metadata": {},
     "output_type": "display_data"
    },
    {
     "name": "stdout",
     "output_type": "stream",
     "text": [
      "\n"
     ]
    }
   ],
   "source": [
    "emotions_encoded = emotions.map(tokenize, batched=True, batch_size=None)"
   ]
  },
  {
   "cell_type": "code",
   "execution_count": 33,
   "metadata": {},
   "outputs": [
    {
     "ename": "TypeError",
     "evalue": "__init__() got an unexpected keyword argument 'log_level'",
     "output_type": "error",
     "traceback": [
      "\u001b[0;31m---------------------------------------------------------------------------\u001b[0m",
      "\u001b[0;31mTypeError\u001b[0m                                 Traceback (most recent call last)",
      "\u001b[0;32m<ipython-input-33-fe177e8218bc>\u001b[0m in \u001b[0;36m<module>\u001b[0;34m\u001b[0m\n\u001b[1;32m     14\u001b[0m                                   \u001b[0mlogging_steps\u001b[0m\u001b[0;34m=\u001b[0m\u001b[0mlogging_steps\u001b[0m\u001b[0;34m,\u001b[0m\u001b[0;34m\u001b[0m\u001b[0;34m\u001b[0m\u001b[0m\n\u001b[1;32m     15\u001b[0m                                   \u001b[0mpush_to_hub\u001b[0m\u001b[0;34m=\u001b[0m\u001b[0;32mTrue\u001b[0m\u001b[0;34m,\u001b[0m\u001b[0;34m\u001b[0m\u001b[0;34m\u001b[0m\u001b[0m\n\u001b[0;32m---> 16\u001b[0;31m                                   log_level=\"error\")\n\u001b[0m",
      "\u001b[0;31mTypeError\u001b[0m: __init__() got an unexpected keyword argument 'log_level'"
     ]
    }
   ],
   "source": [
    "from transformers import Trainer, TrainingArguments\n",
    "\n",
    "batch_size = 64\n",
    "logging_steps = len(emotions_encoded[\"train\"]) // batch_size\n",
    "model_name = f\"{model_ckpt}-finetuned-emotion\"\n",
    "training_args = TrainingArguments(output_dir=model_name,\n",
    "                                  num_train_epochs=2,\n",
    "                                  learning_rate=2e-5,\n",
    "                                  per_device_train_batch_size=batch_size,\n",
    "                                  per_device_eval_batch_size=batch_size,\n",
    "                                  weight_decay=0.01,\n",
    "                                  evaluation_strategy=\"epoch\",\n",
    "                                  disable_tqdm=False,\n",
    "                                  logging_steps=logging_steps,\n",
    "                                  push_to_hub=True, \n",
    "                                  log_level=\"error\")"
   ]
  },
  {
   "cell_type": "markdown",
   "metadata": {},
   "source": [
    "# End NLPwTransformers Chp2 Scott"
   ]
  },
  {
   "cell_type": "markdown",
   "metadata": {},
   "source": [
    "# Preprocessing\n",
    "\n",
    "We are using the `datasets` library to download and preprocess the `imdb` dataset. After preprocessing, the dataset will be uploaded to our `sagemaker_session_bucket` to be used within our training job. The [imdb](http://ai.stanford.edu/~amaas/data/sentiment/) dataset consists of 25000 training and 25000 testing highly polar movie reviews."
   ]
  },
  {
   "cell_type": "markdown",
   "metadata": {},
   "source": [
    "## Tokenization "
   ]
  },
  {
   "cell_type": "code",
   "execution_count": 3,
   "metadata": {},
   "outputs": [],
   "source": [
    "from datasets import load_dataset\n",
    "from transformers import AutoTokenizer\n",
    "\n",
    "# tokenizer used in preprocessing\n",
    "tokenizer_name = 'distilbert-base-uncased'\n",
    "\n",
    "# dataset used\n",
    "dataset_name = 'imdb'\n",
    "\n",
    "# s3 key prefix for the data\n",
    "s3_prefix = 'hf-samples/datasets/imdb'"
   ]
  },
  {
   "cell_type": "code",
   "execution_count": 6,
   "metadata": {},
   "outputs": [
    {
     "data": {
      "application/vnd.jupyter.widget-view+json": {
       "model_id": "05fd411c356b47a2a2fec552a4f6f863",
       "version_major": 2,
       "version_minor": 0
      },
      "text/plain": [
       "HBox(children=(FloatProgress(value=0.0, description='Downloading', max=483.0, style=ProgressStyle(description_…"
      ]
     },
     "metadata": {},
     "output_type": "display_data"
    },
    {
     "name": "stdout",
     "output_type": "stream",
     "text": [
      "\n"
     ]
    },
    {
     "data": {
      "application/vnd.jupyter.widget-view+json": {
       "model_id": "c9f490d6e46d4103b99e2d75e097ad4d",
       "version_major": 2,
       "version_minor": 0
      },
      "text/plain": [
       "HBox(children=(FloatProgress(value=0.0, description='Downloading', max=231508.0, style=ProgressStyle(descripti…"
      ]
     },
     "metadata": {},
     "output_type": "display_data"
    },
    {
     "name": "stdout",
     "output_type": "stream",
     "text": [
      "\n"
     ]
    },
    {
     "data": {
      "application/vnd.jupyter.widget-view+json": {
       "model_id": "fa7aff649a4a469987789101871fe365",
       "version_major": 2,
       "version_minor": 0
      },
      "text/plain": [
       "HBox(children=(FloatProgress(value=0.0, description='Downloading', max=466062.0, style=ProgressStyle(descripti…"
      ]
     },
     "metadata": {},
     "output_type": "display_data"
    },
    {
     "name": "stdout",
     "output_type": "stream",
     "text": [
      "\n"
     ]
    },
    {
     "data": {
      "application/vnd.jupyter.widget-view+json": {
       "model_id": "8a1eef8436f047fea7afe8f42579d7c2",
       "version_major": 2,
       "version_minor": 0
      },
      "text/plain": [
       "HBox(children=(FloatProgress(value=0.0, description='Downloading', max=28.0, style=ProgressStyle(description_w…"
      ]
     },
     "metadata": {},
     "output_type": "display_data"
    },
    {
     "name": "stdout",
     "output_type": "stream",
     "text": [
      "\n"
     ]
    }
   ],
   "source": [
    "#ss\n",
    "tokenizer = AutoTokenizer.from_pretrained(tokenizer_name)"
   ]
  },
  {
   "cell_type": "code",
   "execution_count": 7,
   "metadata": {},
   "outputs": [],
   "source": [
    "#ss\n",
    "# tokenizer helper function\n",
    "def tokenize(batch):\n",
    "    return tokenizer(batch['text'], padding='max_length', truncation=True)"
   ]
  },
  {
   "cell_type": "code",
   "execution_count": 10,
   "metadata": {
    "collapsed": true,
    "jupyter": {
     "outputs_hidden": true
    }
   },
   "outputs": [
    {
     "data": {
      "application/vnd.jupyter.widget-view+json": {
       "model_id": "382aedcdc889418399cf083802fcac1f",
       "version_major": 2,
       "version_minor": 0
      },
      "text/plain": [
       "HBox(children=(FloatProgress(value=0.0, description='Downloading', max=1867.0, style=ProgressStyle(description…"
      ]
     },
     "metadata": {},
     "output_type": "display_data"
    },
    {
     "name": "stdout",
     "output_type": "stream",
     "text": [
      "\n"
     ]
    },
    {
     "data": {
      "application/vnd.jupyter.widget-view+json": {
       "model_id": "b24c30208bcd4564ab9fa1bdb8aaaf3a",
       "version_major": 2,
       "version_minor": 0
      },
      "text/plain": [
       "HBox(children=(FloatProgress(value=0.0, description='Downloading', max=1004.0, style=ProgressStyle(description…"
      ]
     },
     "metadata": {},
     "output_type": "display_data"
    },
    {
     "name": "stdout",
     "output_type": "stream",
     "text": [
      "\n",
      "Downloading and preparing dataset imdb/plain_text (download: 80.23 MiB, generated: 127.06 MiB, post-processed: Unknown size, total: 207.28 MiB) to /root/.cache/huggingface/datasets/imdb/plain_text/1.0.0/4ea52f2e58a08dbc12c2bd52d0d92b30b88c00230b4522801b3636782f625c5b...\n"
     ]
    },
    {
     "data": {
      "application/vnd.jupyter.widget-view+json": {
       "model_id": "9d4b6b86eb364a5bbdfd4e94e46cd975",
       "version_major": 2,
       "version_minor": 0
      },
      "text/plain": [
       "HBox(children=(FloatProgress(value=0.0, description='Downloading', max=84125825.0, style=ProgressStyle(descrip…"
      ]
     },
     "metadata": {},
     "output_type": "display_data"
    },
    {
     "name": "stdout",
     "output_type": "stream",
     "text": [
      "\n"
     ]
    },
    {
     "data": {
      "application/vnd.jupyter.widget-view+json": {
       "model_id": "",
       "version_major": 2,
       "version_minor": 0
      },
      "text/plain": [
       "HBox(children=(FloatProgress(value=1.0, bar_style='info', layout=Layout(width='20px'), max=1.0), HTML(value=''…"
      ]
     },
     "metadata": {},
     "output_type": "display_data"
    },
    {
     "data": {
      "application/vnd.jupyter.widget-view+json": {
       "model_id": "",
       "version_major": 2,
       "version_minor": 0
      },
      "text/plain": [
       "HBox(children=(FloatProgress(value=1.0, bar_style='info', layout=Layout(width='20px'), max=1.0), HTML(value=''…"
      ]
     },
     "metadata": {},
     "output_type": "display_data"
    },
    {
     "data": {
      "application/vnd.jupyter.widget-view+json": {
       "model_id": "",
       "version_major": 2,
       "version_minor": 0
      },
      "text/plain": [
       "HBox(children=(FloatProgress(value=1.0, bar_style='info', layout=Layout(width='20px'), max=1.0), HTML(value=''…"
      ]
     },
     "metadata": {},
     "output_type": "display_data"
    },
    {
     "name": "stdout",
     "output_type": "stream",
     "text": [
      "Dataset imdb downloaded and prepared to /root/.cache/huggingface/datasets/imdb/plain_text/1.0.0/4ea52f2e58a08dbc12c2bd52d0d92b30b88c00230b4522801b3636782f625c5b. Subsequent calls will reuse this data.\n"
     ]
    }
   ],
   "source": [
    "# this took >30min\n",
    "# load dataset\n",
    "train_dataset, test_dataset = load_dataset('imdb', split=['train', 'test'])"
   ]
  },
  {
   "cell_type": "code",
   "execution_count": 35,
   "metadata": {},
   "outputs": [
    {
     "data": {
      "text/plain": [
       "{'attention_mask': Sequence(feature=Value(dtype='int8', id=None), length=-1, id=None),\n",
       " 'input_ids': Sequence(feature=Value(dtype='int32', id=None), length=-1, id=None),\n",
       " 'labels': ClassLabel(num_classes=2, names=['neg', 'pos'], names_file=None, id=None),\n",
       " 'text': Value(dtype='string', id=None)}"
      ]
     },
     "execution_count": 35,
     "metadata": {},
     "output_type": "execute_result"
    }
   ],
   "source": [
    "#ss see https://bit.ly/3JCImg4\n",
    "train_dataset.features"
   ]
  },
  {
   "cell_type": "code",
   "execution_count": 36,
   "metadata": {
    "collapsed": true,
    "jupyter": {
     "outputs_hidden": true
    }
   },
   "outputs": [
    {
     "data": {
      "text/plain": [
       "['Bromwell High is a cartoon comedy. It ran at the same time as some other programs about school life, such as \"Teachers\". My 35 years in the teaching profession lead me to believe that Bromwell High\\'s satire is much closer to reality than is \"Teachers\". The scramble to survive financially, the insightful students who can see right through their pathetic teachers\\' pomp, the pettiness of the whole situation, all remind me of the schools I knew and their students. When I saw the episode in which a student repeatedly tried to burn down the school, I immediately recalled ......... at .......... High. A classic line: INSPECTOR: I\\'m here to sack one of your teachers. STUDENT: Welcome to Bromwell High. I expect that many adults of my age think that Bromwell High is far fetched. What a pity that it isn\\'t!',\n",
       " 'Homelessness (or Houselessness as George Carlin stated) has been an issue for years but never a plan to help those on the street that were once considered human who did everything from going to school, work, or vote for the matter. Most people think of the homeless as just a lost cause while worrying about things such as racism, the war on Iraq, pressuring kids to succeed, technology, the elections, inflation, or worrying if they\\'ll be next to end up on the streets.<br /><br />But what if you were given a bet to live on the streets for a month without the luxuries you once had from a home, the entertainment sets, a bathroom, pictures on the wall, a computer, and everything you once treasure to see what it\\'s like to be homeless? That is Goddard Bolt\\'s lesson.<br /><br />Mel Brooks (who directs) who stars as Bolt plays a rich man who has everything in the world until deciding to make a bet with a sissy rival (Jeffery Tambor) to see if he can live in the streets for thirty days without the luxuries; if Bolt succeeds, he can do what he wants with a future project of making more buildings. The bet\\'s on where Bolt is thrown on the street with a bracelet on his leg to monitor his every move where he can\\'t step off the sidewalk. He\\'s given the nickname Pepto by a vagrant after it\\'s written on his forehead where Bolt meets other characters including a woman by the name of Molly (Lesley Ann Warren) an ex-dancer who got divorce before losing her home, and her pals Sailor (Howard Morris) and Fumes (Teddy Wilson) who are already used to the streets. They\\'re survivors. Bolt isn\\'t. He\\'s not used to reaching mutual agreements like he once did when being rich where it\\'s fight or flight, kill or be killed.<br /><br />While the love connection between Molly and Bolt wasn\\'t necessary to plot, I found \"Life Stinks\" to be one of Mel Brooks\\' observant films where prior to being a comedy, it shows a tender side compared to his slapstick work such as Blazing Saddles, Young Frankenstein, or Spaceballs for the matter, to show what it\\'s like having something valuable before losing it the next day or on the other hand making a stupid bet like all rich people do when they don\\'t know what to do with their money. Maybe they should give it to the homeless instead of using it like Monopoly money.<br /><br />Or maybe this film will inspire you to help others.',\n",
       " 'Brilliant over-acting by Lesley Ann Warren. Best dramatic hobo lady I have ever seen, and love scenes in clothes warehouse are second to none. The corn on face is a classic, as good as anything in Blazing Saddles. The take on lawyers is also superb. After being accused of being a turncoat, selling out his boss, and being dishonest the lawyer of Pepto Bolt shrugs indifferently \"I\\'m a lawyer\" he says. Three funny words. Jeffrey Tambor, a favorite from the later Larry Sanders show, is fantastic here too as a mad millionaire who wants to crush the ghetto. His character is more malevolent than usual. The hospital scene, and the scene where the homeless invade a demolition site, are all-time classics. Look for the legs scene and the two big diggers fighting (one bleeds). This movie gets better each time I see it (which is quite often).',\n",
       " 'This is easily the most underrated film inn the Brooks cannon. Sure, its flawed. It does not give a realistic view of homelessness (unlike, say, how Citizen Kane gave a realistic view of lounge singers, or Titanic gave a realistic view of Italians YOU IDIOTS). Many of the jokes fall flat. But still, this film is very lovable in a way many comedies are not, and to pull that off in a story about some of the most traditionally reviled members of society is truly impressive. Its not The Fisher King, but its not crap, either. My only complaint is that Brooks should have cast someone else in the lead (I love Mel as a Director and Writer, not so much as a lead).',\n",
       " 'This is not the typical Mel Brooks film. It was much less slapstick than most of his movies and actually had a plot that was followable. Leslie Ann Warren made the movie, she is such a fantastic, under-rated actress. There were some moments that could have been fleshed out a bit more, and some scenes that could probably have been cut to make the room to do so, but all in all, this is worth the price to rent and see it. The acting was good overall, Brooks himself did a good job without his characteristic speaking to directly to the audience. Again, Warren was the best actor in the movie, but \"Fume\" and \"Sailor\" both played their parts well.']"
      ]
     },
     "execution_count": 36,
     "metadata": {},
     "output_type": "execute_result"
    }
   ],
   "source": [
    "train_dataset[\"text\"][:5]"
   ]
  },
  {
   "cell_type": "code",
   "execution_count": 37,
   "metadata": {
    "collapsed": true,
    "jupyter": {
     "outputs_hidden": true
    }
   },
   "outputs": [
    {
     "data": {
      "text/html": [
       "<div>\n",
       "<style scoped>\n",
       "    .dataframe tbody tr th:only-of-type {\n",
       "        vertical-align: middle;\n",
       "    }\n",
       "\n",
       "    .dataframe tbody tr th {\n",
       "        vertical-align: top;\n",
       "    }\n",
       "\n",
       "    .dataframe thead th {\n",
       "        text-align: right;\n",
       "    }\n",
       "</style>\n",
       "<table border=\"1\" class=\"dataframe\">\n",
       "  <thead>\n",
       "    <tr style=\"text-align: right;\">\n",
       "      <th></th>\n",
       "      <th>attention_mask</th>\n",
       "      <th>input_ids</th>\n",
       "      <th>labels</th>\n",
       "      <th>text</th>\n",
       "    </tr>\n",
       "  </thead>\n",
       "  <tbody>\n",
       "    <tr>\n",
       "      <th>0</th>\n",
       "      <td>[1, 1, 1, 1, 1, 1, 1, 1, 1, 1, 1, 1, 1, 1, 1, ...</td>\n",
       "      <td>[101, 22953, 2213, 4381, 2152, 2003, 1037, 947...</td>\n",
       "      <td>1</td>\n",
       "      <td>Bromwell High is a cartoon comedy. It ran at t...</td>\n",
       "    </tr>\n",
       "    <tr>\n",
       "      <th>1</th>\n",
       "      <td>[1, 1, 1, 1, 1, 1, 1, 1, 1, 1, 1, 1, 1, 1, 1, ...</td>\n",
       "      <td>[101, 11573, 2791, 1006, 2030, 2160, 24913, 20...</td>\n",
       "      <td>1</td>\n",
       "      <td>Homelessness (or Houselessness as George Carli...</td>\n",
       "    </tr>\n",
       "    <tr>\n",
       "      <th>2</th>\n",
       "      <td>[1, 1, 1, 1, 1, 1, 1, 1, 1, 1, 1, 1, 1, 1, 1, ...</td>\n",
       "      <td>[101, 8235, 2058, 1011, 3772, 2011, 23920, 575...</td>\n",
       "      <td>1</td>\n",
       "      <td>Brilliant over-acting by Lesley Ann Warren. Be...</td>\n",
       "    </tr>\n",
       "    <tr>\n",
       "      <th>3</th>\n",
       "      <td>[1, 1, 1, 1, 1, 1, 1, 1, 1, 1, 1, 1, 1, 1, 1, ...</td>\n",
       "      <td>[101, 2023, 2003, 4089, 1996, 2087, 2104, 9250...</td>\n",
       "      <td>1</td>\n",
       "      <td>This is easily the most underrated film inn th...</td>\n",
       "    </tr>\n",
       "    <tr>\n",
       "      <th>4</th>\n",
       "      <td>[1, 1, 1, 1, 1, 1, 1, 1, 1, 1, 1, 1, 1, 1, 1, ...</td>\n",
       "      <td>[101, 2023, 2003, 2025, 1996, 5171, 11463, 837...</td>\n",
       "      <td>1</td>\n",
       "      <td>This is not the typical Mel Brooks film. It wa...</td>\n",
       "    </tr>\n",
       "  </tbody>\n",
       "</table>\n",
       "</div>"
      ],
      "text/plain": [
       "                                      attention_mask  \\\n",
       "0  [1, 1, 1, 1, 1, 1, 1, 1, 1, 1, 1, 1, 1, 1, 1, ...   \n",
       "1  [1, 1, 1, 1, 1, 1, 1, 1, 1, 1, 1, 1, 1, 1, 1, ...   \n",
       "2  [1, 1, 1, 1, 1, 1, 1, 1, 1, 1, 1, 1, 1, 1, 1, ...   \n",
       "3  [1, 1, 1, 1, 1, 1, 1, 1, 1, 1, 1, 1, 1, 1, 1, ...   \n",
       "4  [1, 1, 1, 1, 1, 1, 1, 1, 1, 1, 1, 1, 1, 1, 1, ...   \n",
       "\n",
       "                                           input_ids  labels  \\\n",
       "0  [101, 22953, 2213, 4381, 2152, 2003, 1037, 947...       1   \n",
       "1  [101, 11573, 2791, 1006, 2030, 2160, 24913, 20...       1   \n",
       "2  [101, 8235, 2058, 1011, 3772, 2011, 23920, 575...       1   \n",
       "3  [101, 2023, 2003, 4089, 1996, 2087, 2104, 9250...       1   \n",
       "4  [101, 2023, 2003, 2025, 1996, 5171, 11463, 837...       1   \n",
       "\n",
       "                                                text  \n",
       "0  Bromwell High is a cartoon comedy. It ran at t...  \n",
       "1  Homelessness (or Houselessness as George Carli...  \n",
       "2  Brilliant over-acting by Lesley Ann Warren. Be...  \n",
       "3  This is easily the most underrated film inn th...  \n",
       "4  This is not the typical Mel Brooks film. It wa...  "
      ]
     },
     "execution_count": 37,
     "metadata": {},
     "output_type": "execute_result"
    }
   ],
   "source": [
    "train_dataset.set_format(type=\"pandas\")\n",
    "df = train_dataset[:]\n",
    "df.head()"
   ]
  },
  {
   "cell_type": "code",
   "execution_count": 248,
   "metadata": {},
   "outputs": [
    {
     "data": {
      "text/plain": [
       "ClassLabel(num_classes=6, names=['sadness', 'joy', 'love', 'anger', 'fear', 'surprise'], names_file=None, id=None)"
      ]
     },
     "execution_count": 248,
     "metadata": {},
     "output_type": "execute_result"
    }
   ],
   "source": [
    "train_dataset.features[\"labels\"]"
   ]
  },
  {
   "cell_type": "code",
   "execution_count": 43,
   "metadata": {},
   "outputs": [
    {
     "data": {
      "text/html": [
       "<div>\n",
       "<style scoped>\n",
       "    .dataframe tbody tr th:only-of-type {\n",
       "        vertical-align: middle;\n",
       "    }\n",
       "\n",
       "    .dataframe tbody tr th {\n",
       "        vertical-align: top;\n",
       "    }\n",
       "\n",
       "    .dataframe thead th {\n",
       "        text-align: right;\n",
       "    }\n",
       "</style>\n",
       "<table border=\"1\" class=\"dataframe\">\n",
       "  <thead>\n",
       "    <tr style=\"text-align: right;\">\n",
       "      <th></th>\n",
       "      <th>attention_mask</th>\n",
       "      <th>input_ids</th>\n",
       "      <th>labels</th>\n",
       "      <th>text</th>\n",
       "      <th>label_name</th>\n",
       "    </tr>\n",
       "  </thead>\n",
       "  <tbody>\n",
       "    <tr>\n",
       "      <th>0</th>\n",
       "      <td>[1, 1, 1, 1, 1, 1, 1, 1, 1, 1, 1, 1, 1, 1, 1, ...</td>\n",
       "      <td>[101, 22953, 2213, 4381, 2152, 2003, 1037, 947...</td>\n",
       "      <td>1</td>\n",
       "      <td>Bromwell High is a cartoon comedy. It ran at t...</td>\n",
       "      <td>pos</td>\n",
       "    </tr>\n",
       "    <tr>\n",
       "      <th>1</th>\n",
       "      <td>[1, 1, 1, 1, 1, 1, 1, 1, 1, 1, 1, 1, 1, 1, 1, ...</td>\n",
       "      <td>[101, 11573, 2791, 1006, 2030, 2160, 24913, 20...</td>\n",
       "      <td>1</td>\n",
       "      <td>Homelessness (or Houselessness as George Carli...</td>\n",
       "      <td>pos</td>\n",
       "    </tr>\n",
       "    <tr>\n",
       "      <th>2</th>\n",
       "      <td>[1, 1, 1, 1, 1, 1, 1, 1, 1, 1, 1, 1, 1, 1, 1, ...</td>\n",
       "      <td>[101, 8235, 2058, 1011, 3772, 2011, 23920, 575...</td>\n",
       "      <td>1</td>\n",
       "      <td>Brilliant over-acting by Lesley Ann Warren. Be...</td>\n",
       "      <td>pos</td>\n",
       "    </tr>\n",
       "    <tr>\n",
       "      <th>3</th>\n",
       "      <td>[1, 1, 1, 1, 1, 1, 1, 1, 1, 1, 1, 1, 1, 1, 1, ...</td>\n",
       "      <td>[101, 2023, 2003, 4089, 1996, 2087, 2104, 9250...</td>\n",
       "      <td>1</td>\n",
       "      <td>This is easily the most underrated film inn th...</td>\n",
       "      <td>pos</td>\n",
       "    </tr>\n",
       "    <tr>\n",
       "      <th>4</th>\n",
       "      <td>[1, 1, 1, 1, 1, 1, 1, 1, 1, 1, 1, 1, 1, 1, 1, ...</td>\n",
       "      <td>[101, 2023, 2003, 2025, 1996, 5171, 11463, 837...</td>\n",
       "      <td>1</td>\n",
       "      <td>This is not the typical Mel Brooks film. It wa...</td>\n",
       "      <td>pos</td>\n",
       "    </tr>\n",
       "  </tbody>\n",
       "</table>\n",
       "</div>"
      ],
      "text/plain": [
       "                                      attention_mask  \\\n",
       "0  [1, 1, 1, 1, 1, 1, 1, 1, 1, 1, 1, 1, 1, 1, 1, ...   \n",
       "1  [1, 1, 1, 1, 1, 1, 1, 1, 1, 1, 1, 1, 1, 1, 1, ...   \n",
       "2  [1, 1, 1, 1, 1, 1, 1, 1, 1, 1, 1, 1, 1, 1, 1, ...   \n",
       "3  [1, 1, 1, 1, 1, 1, 1, 1, 1, 1, 1, 1, 1, 1, 1, ...   \n",
       "4  [1, 1, 1, 1, 1, 1, 1, 1, 1, 1, 1, 1, 1, 1, 1, ...   \n",
       "\n",
       "                                           input_ids  labels  \\\n",
       "0  [101, 22953, 2213, 4381, 2152, 2003, 1037, 947...       1   \n",
       "1  [101, 11573, 2791, 1006, 2030, 2160, 24913, 20...       1   \n",
       "2  [101, 8235, 2058, 1011, 3772, 2011, 23920, 575...       1   \n",
       "3  [101, 2023, 2003, 4089, 1996, 2087, 2104, 9250...       1   \n",
       "4  [101, 2023, 2003, 2025, 1996, 5171, 11463, 837...       1   \n",
       "\n",
       "                                                text label_name  \n",
       "0  Bromwell High is a cartoon comedy. It ran at t...        pos  \n",
       "1  Homelessness (or Houselessness as George Carli...        pos  \n",
       "2  Brilliant over-acting by Lesley Ann Warren. Be...        pos  \n",
       "3  This is easily the most underrated film inn th...        pos  \n",
       "4  This is not the typical Mel Brooks film. It wa...        pos  "
      ]
     },
     "execution_count": 43,
     "metadata": {},
     "output_type": "execute_result"
    }
   ],
   "source": [
    "def label_int2str(row):\n",
    "    return train_dataset.features[\"labels\"].int2str(row)\n",
    "\n",
    "df[\"label_name\"] = df[\"labels\"].apply(label_int2str)\n",
    "df.head()"
   ]
  },
  {
   "cell_type": "code",
   "execution_count": 44,
   "metadata": {},
   "outputs": [
    {
     "data": {
      "image/png": "[encoded data removed]",
      "text/plain": [
       "<Figure size 432x288 with 1 Axes>"
      ]
     },
     "metadata": {
      "needs_background": "light"
     },
     "output_type": "display_data"
    }
   ],
   "source": [
    "import matplotlib.pyplot as plt\n",
    "\n",
    "df[\"label_name\"].value_counts(ascending=True).plot.barh()\n",
    "plt.title(\"Frequency of Classes\")\n",
    "plt.show()"
   ]
  },
  {
   "cell_type": "code",
   "execution_count": 45,
   "metadata": {},
   "outputs": [
    {
     "data": {
      "image/png": "[encoded data removed]",
      "text/plain": [
       "<Figure size 432x288 with 1 Axes>"
      ]
     },
     "metadata": {
      "needs_background": "light"
     },
     "output_type": "display_data"
    }
   ],
   "source": [
    "df[\"Words Per Tweet\"] = df[\"text\"].str.split().apply(len)\n",
    "df.boxplot(\"Words Per Tweet\", by=\"label_name\", grid=False, showfliers=False,\n",
    "           color=\"black\")\n",
    "plt.suptitle(\"\")\n",
    "plt.xlabel(\"\")\n",
    "plt.show()"
   ]
  },
  {
   "cell_type": "code",
   "execution_count": null,
   "metadata": {},
   "outputs": [],
   "source": []
  },
  {
   "cell_type": "code",
   "execution_count": 47,
   "metadata": {},
   "outputs": [
    {
     "data": {
      "text/plain": [
       "datasets.arrow_dataset.Dataset"
      ]
     },
     "execution_count": 47,
     "metadata": {},
     "output_type": "execute_result"
    }
   ],
   "source": [
    "type(train_dataset)"
   ]
  },
  {
   "cell_type": "code",
   "execution_count": 11,
   "metadata": {},
   "outputs": [],
   "source": [
    "test_dataset = test_dataset.shuffle().select(range(10000)) # smaller the size for test dataset to 10k "
   ]
  },
  {
   "cell_type": "code",
   "execution_count": 12,
   "metadata": {},
   "outputs": [
    {
     "data": {
      "application/vnd.jupyter.widget-view+json": {
       "model_id": "18d09e0943564ae490ca7db78b65fdd7",
       "version_major": 2,
       "version_minor": 0
      },
      "text/plain": [
       "HBox(children=(FloatProgress(value=0.0, max=25.0), HTML(value='')))"
      ]
     },
     "metadata": {},
     "output_type": "display_data"
    },
    {
     "name": "stdout",
     "output_type": "stream",
     "text": [
      "\n"
     ]
    }
   ],
   "source": [
    "# tokenize dataset\n",
    "train_dataset = train_dataset.map(tokenize, batched=True)\n"
   ]
  },
  {
   "cell_type": "code",
   "execution_count": 13,
   "metadata": {},
   "outputs": [
    {
     "data": {
      "application/vnd.jupyter.widget-view+json": {
       "model_id": "a7b4003f85694800bd66a286ad1150ee",
       "version_major": 2,
       "version_minor": 0
      },
      "text/plain": [
       "HBox(children=(FloatProgress(value=0.0, max=10.0), HTML(value='')))"
      ]
     },
     "metadata": {},
     "output_type": "display_data"
    },
    {
     "name": "stdout",
     "output_type": "stream",
     "text": [
      "\n"
     ]
    }
   ],
   "source": [
    "test_dataset = test_dataset.map(tokenize, batched=True)"
   ]
  },
  {
   "cell_type": "code",
   "execution_count": 49,
   "metadata": {},
   "outputs": [],
   "source": [
    "train_dataset.set_format('torch', columns=['input_ids', 'attention_mask', 'labels'])\n"
   ]
  },
  {
   "cell_type": "code",
   "execution_count": 48,
   "metadata": {
    "collapsed": true,
    "jupyter": {
     "outputs_hidden": true
    }
   },
   "outputs": [
    {
     "ename": "ValueError",
     "evalue": "Original column name label not in the dataset. Current columns in the dataset: ['attention_mask', 'input_ids', 'labels', 'text']",
     "output_type": "error",
     "traceback": [
      "\u001b[0;31m---------------------------------------------------------------------------\u001b[0m",
      "\u001b[0;31mValueError\u001b[0m                                Traceback (most recent call last)",
      "\u001b[0;32m<ipython-input-48-d896b0a62d83>\u001b[0m in \u001b[0;36m<module>\u001b[0;34m\u001b[0m\n\u001b[1;32m      1\u001b[0m \u001b[0;31m# set format for pytorch\u001b[0m\u001b[0;34m\u001b[0m\u001b[0;34m\u001b[0m\u001b[0;34m\u001b[0m\u001b[0m\n\u001b[0;32m----> 2\u001b[0;31m \u001b[0mtrain_dataset\u001b[0m \u001b[0;34m=\u001b[0m  \u001b[0mtrain_dataset\u001b[0m\u001b[0;34m.\u001b[0m\u001b[0mrename_column\u001b[0m\u001b[0;34m(\u001b[0m\u001b[0;34m\"label\"\u001b[0m\u001b[0;34m,\u001b[0m \u001b[0;34m\"labels\"\u001b[0m\u001b[0;34m)\u001b[0m\u001b[0;34m\u001b[0m\u001b[0;34m\u001b[0m\u001b[0m\n\u001b[0m\u001b[1;32m      3\u001b[0m \u001b[0mtrain_dataset\u001b[0m\u001b[0;34m.\u001b[0m\u001b[0mset_format\u001b[0m\u001b[0;34m(\u001b[0m\u001b[0;34m'torch'\u001b[0m\u001b[0;34m,\u001b[0m \u001b[0mcolumns\u001b[0m\u001b[0;34m=\u001b[0m\u001b[0;34m[\u001b[0m\u001b[0;34m'input_ids'\u001b[0m\u001b[0;34m,\u001b[0m \u001b[0;34m'attention_mask'\u001b[0m\u001b[0;34m,\u001b[0m \u001b[0;34m'labels'\u001b[0m\u001b[0;34m]\u001b[0m\u001b[0;34m)\u001b[0m\u001b[0;34m\u001b[0m\u001b[0;34m\u001b[0m\u001b[0m\n\u001b[1;32m      4\u001b[0m \u001b[0mtest_dataset\u001b[0m \u001b[0;34m=\u001b[0m \u001b[0mtest_dataset\u001b[0m\u001b[0;34m.\u001b[0m\u001b[0mrename_column\u001b[0m\u001b[0;34m(\u001b[0m\u001b[0;34m\"label\"\u001b[0m\u001b[0;34m,\u001b[0m \u001b[0;34m\"labels\"\u001b[0m\u001b[0;34m)\u001b[0m\u001b[0;34m\u001b[0m\u001b[0;34m\u001b[0m\u001b[0m\n\u001b[1;32m      5\u001b[0m \u001b[0mtest_dataset\u001b[0m\u001b[0;34m.\u001b[0m\u001b[0mset_format\u001b[0m\u001b[0;34m(\u001b[0m\u001b[0;34m'torch'\u001b[0m\u001b[0;34m,\u001b[0m \u001b[0mcolumns\u001b[0m\u001b[0;34m=\u001b[0m\u001b[0;34m[\u001b[0m\u001b[0;34m'input_ids'\u001b[0m\u001b[0;34m,\u001b[0m \u001b[0;34m'attention_mask'\u001b[0m\u001b[0;34m,\u001b[0m \u001b[0;34m'labels'\u001b[0m\u001b[0;34m]\u001b[0m\u001b[0;34m)\u001b[0m\u001b[0;34m\u001b[0m\u001b[0;34m\u001b[0m\u001b[0m\n",
      "\u001b[0;32m/opt/conda/lib/python3.6/site-packages/datasets/fingerprint.py\u001b[0m in \u001b[0;36mwrapper\u001b[0;34m(*args, **kwargs)\u001b[0m\n\u001b[1;32m    338\u001b[0m             \u001b[0;31m# Call actual function\u001b[0m\u001b[0;34m\u001b[0m\u001b[0;34m\u001b[0m\u001b[0;34m\u001b[0m\u001b[0m\n\u001b[1;32m    339\u001b[0m \u001b[0;34m\u001b[0m\u001b[0m\n\u001b[0;32m--> 340\u001b[0;31m             \u001b[0mout\u001b[0m \u001b[0;34m=\u001b[0m \u001b[0mfunc\u001b[0m\u001b[0;34m(\u001b[0m\u001b[0mself\u001b[0m\u001b[0;34m,\u001b[0m \u001b[0;34m*\u001b[0m\u001b[0margs\u001b[0m\u001b[0;34m,\u001b[0m \u001b[0;34m**\u001b[0m\u001b[0mkwargs\u001b[0m\u001b[0;34m)\u001b[0m\u001b[0;34m\u001b[0m\u001b[0;34m\u001b[0m\u001b[0m\n\u001b[0m\u001b[1;32m    341\u001b[0m \u001b[0;34m\u001b[0m\u001b[0m\n\u001b[1;32m    342\u001b[0m             \u001b[0;31m# Update fingerprint of in-place transforms + update in-place history of transforms\u001b[0m\u001b[0;34m\u001b[0m\u001b[0;34m\u001b[0m\u001b[0;34m\u001b[0m\u001b[0m\n",
      "\u001b[0;32m/opt/conda/lib/python3.6/site-packages/datasets/arrow_dataset.py\u001b[0m in \u001b[0;36mrename_column\u001b[0;34m(self, original_column_name, new_column_name, new_fingerprint)\u001b[0m\n\u001b[1;32m   1092\u001b[0m         \u001b[0;32mif\u001b[0m \u001b[0moriginal_column_name\u001b[0m \u001b[0;32mnot\u001b[0m \u001b[0;32min\u001b[0m \u001b[0mdataset\u001b[0m\u001b[0;34m.\u001b[0m\u001b[0m_data\u001b[0m\u001b[0;34m.\u001b[0m\u001b[0mcolumn_names\u001b[0m\u001b[0;34m:\u001b[0m\u001b[0;34m\u001b[0m\u001b[0;34m\u001b[0m\u001b[0m\n\u001b[1;32m   1093\u001b[0m             raise ValueError(\n\u001b[0;32m-> 1094\u001b[0;31m                 \u001b[0;34mf\"Original column name {original_column_name} not in the dataset. \"\u001b[0m\u001b[0;34m\u001b[0m\u001b[0;34m\u001b[0m\u001b[0m\n\u001b[0m\u001b[1;32m   1095\u001b[0m                 \u001b[0;34mf\"Current columns in the dataset: {dataset._data.column_names}\"\u001b[0m\u001b[0;34m\u001b[0m\u001b[0;34m\u001b[0m\u001b[0m\n\u001b[1;32m   1096\u001b[0m             )\n",
      "\u001b[0;31mValueError\u001b[0m: Original column name label not in the dataset. Current columns in the dataset: ['attention_mask', 'input_ids', 'labels', 'text']"
     ]
    }
   ],
   "source": [
    "# set format for pytorch\n",
    "train_dataset =  train_dataset.rename_column(\"label\", \"labels\")\n",
    "train_dataset.set_format('torch', columns=['input_ids', 'attention_mask', 'labels'])\n",
    "test_dataset = test_dataset.rename_column(\"label\", \"labels\")\n",
    "test_dataset.set_format('torch', columns=['input_ids', 'attention_mask', 'labels'])"
   ]
  },
  {
   "cell_type": "code",
   "execution_count": 4,
   "metadata": {
    "collapsed": true,
    "jupyter": {
     "outputs_hidden": true
    }
   },
   "outputs": [
    {
     "name": "stdout",
     "output_type": "stream",
     "text": [
      "Downloading and preparing dataset imdb/plain_text (download: 80.23 MiB, generated: 127.06 MiB, post-processed: Unknown size, total: 207.28 MiB) to /root/.cache/huggingface/datasets/imdb/plain_text/1.0.0/4ea52f2e58a08dbc12c2bd52d0d92b30b88c00230b4522801b3636782f625c5b...\n"
     ]
    },
    {
     "data": {
      "application/vnd.jupyter.widget-view+json": {
       "model_id": "",
       "version_major": 2,
       "version_minor": 0
      },
      "text/plain": [
       "HBox(children=(FloatProgress(value=1.0, bar_style='info', layout=Layout(width='20px'), max=1.0), HTML(value=''…"
      ]
     },
     "metadata": {},
     "output_type": "display_data"
    },
    {
     "data": {
      "application/vnd.jupyter.widget-view+json": {
       "model_id": "",
       "version_major": 2,
       "version_minor": 0
      },
      "text/plain": [
       "HBox(children=(FloatProgress(value=1.0, bar_style='info', layout=Layout(width='20px'), max=1.0), HTML(value=''…"
      ]
     },
     "metadata": {},
     "output_type": "display_data"
    },
    {
     "data": {
      "application/vnd.jupyter.widget-view+json": {
       "model_id": "",
       "version_major": 2,
       "version_minor": 0
      },
      "text/plain": [
       "HBox(children=(FloatProgress(value=1.0, bar_style='info', layout=Layout(width='20px'), max=1.0), HTML(value=''…"
      ]
     },
     "metadata": {},
     "output_type": "display_data"
    },
    {
     "ename": "NonMatchingSplitsSizesError",
     "evalue": "[{'expected': SplitInfo(name='train', num_bytes=33442202, num_examples=25000, dataset_name='imdb'), 'recorded': SplitInfo(name='train', num_bytes=14652463, num_examples=11149, dataset_name='imdb')}, {'expected': SplitInfo(name='unsupervised', num_bytes=67125548, num_examples=50000, dataset_name='imdb'), 'recorded': SplitInfo(name='unsupervised', num_bytes=0, num_examples=0, dataset_name='imdb')}]",
     "output_type": "error",
     "traceback": [
      "\u001b[0;31m---------------------------------------------------------------------------\u001b[0m",
      "\u001b[0;31mNonMatchingSplitsSizesError\u001b[0m               Traceback (most recent call last)",
      "\u001b[0;32m<ipython-input-4-f679b4883c2d>\u001b[0m in \u001b[0;36m<module>\u001b[0;34m\u001b[0m\n\u001b[1;32m      1\u001b[0m \u001b[0;31m# load dataset\u001b[0m\u001b[0;34m\u001b[0m\u001b[0;34m\u001b[0m\u001b[0;34m\u001b[0m\u001b[0m\n\u001b[0;32m----> 2\u001b[0;31m \u001b[0mdataset\u001b[0m \u001b[0;34m=\u001b[0m \u001b[0mload_dataset\u001b[0m\u001b[0;34m(\u001b[0m\u001b[0mdataset_name\u001b[0m\u001b[0;34m)\u001b[0m\u001b[0;34m\u001b[0m\u001b[0;34m\u001b[0m\u001b[0m\n\u001b[0m\u001b[1;32m      3\u001b[0m \u001b[0;34m\u001b[0m\u001b[0m\n\u001b[1;32m      4\u001b[0m \u001b[0;31m# download tokenizer\u001b[0m\u001b[0;34m\u001b[0m\u001b[0;34m\u001b[0m\u001b[0;34m\u001b[0m\u001b[0m\n\u001b[1;32m      5\u001b[0m \u001b[0mtokenizer\u001b[0m \u001b[0;34m=\u001b[0m \u001b[0mAutoTokenizer\u001b[0m\u001b[0;34m.\u001b[0m\u001b[0mfrom_pretrained\u001b[0m\u001b[0;34m(\u001b[0m\u001b[0mtokenizer_name\u001b[0m\u001b[0;34m)\u001b[0m\u001b[0;34m\u001b[0m\u001b[0;34m\u001b[0m\u001b[0m\n",
      "\u001b[0;32m/opt/conda/lib/python3.6/site-packages/datasets/load.py\u001b[0m in \u001b[0;36mload_dataset\u001b[0;34m(path, name, data_dir, data_files, split, cache_dir, features, download_config, download_mode, ignore_verifications, keep_in_memory, save_infos, script_version, use_auth_token, **config_kwargs)\u001b[0m\n\u001b[1;32m    749\u001b[0m         \u001b[0mtry_from_hf_gcs\u001b[0m\u001b[0;34m=\u001b[0m\u001b[0mtry_from_hf_gcs\u001b[0m\u001b[0;34m,\u001b[0m\u001b[0;34m\u001b[0m\u001b[0;34m\u001b[0m\u001b[0m\n\u001b[1;32m    750\u001b[0m         \u001b[0mbase_path\u001b[0m\u001b[0;34m=\u001b[0m\u001b[0mbase_path\u001b[0m\u001b[0;34m,\u001b[0m\u001b[0;34m\u001b[0m\u001b[0;34m\u001b[0m\u001b[0m\n\u001b[0;32m--> 751\u001b[0;31m         \u001b[0muse_auth_token\u001b[0m\u001b[0;34m=\u001b[0m\u001b[0muse_auth_token\u001b[0m\u001b[0;34m,\u001b[0m\u001b[0;34m\u001b[0m\u001b[0;34m\u001b[0m\u001b[0m\n\u001b[0m\u001b[1;32m    752\u001b[0m     )\n\u001b[1;32m    753\u001b[0m \u001b[0;34m\u001b[0m\u001b[0m\n",
      "\u001b[0;32m/opt/conda/lib/python3.6/site-packages/datasets/builder.py\u001b[0m in \u001b[0;36mdownload_and_prepare\u001b[0;34m(self, download_config, download_mode, ignore_verifications, try_from_hf_gcs, dl_manager, base_path, use_auth_token, **download_and_prepare_kwargs)\u001b[0m\n\u001b[1;32m    573\u001b[0m                     \u001b[0;32mif\u001b[0m \u001b[0;32mnot\u001b[0m \u001b[0mdownloaded_from_gcs\u001b[0m\u001b[0;34m:\u001b[0m\u001b[0;34m\u001b[0m\u001b[0;34m\u001b[0m\u001b[0m\n\u001b[1;32m    574\u001b[0m                         self._download_and_prepare(\n\u001b[0;32m--> 575\u001b[0;31m                             \u001b[0mdl_manager\u001b[0m\u001b[0;34m=\u001b[0m\u001b[0mdl_manager\u001b[0m\u001b[0;34m,\u001b[0m \u001b[0mverify_infos\u001b[0m\u001b[0;34m=\u001b[0m\u001b[0mverify_infos\u001b[0m\u001b[0;34m,\u001b[0m \u001b[0;34m**\u001b[0m\u001b[0mdownload_and_prepare_kwargs\u001b[0m\u001b[0;34m\u001b[0m\u001b[0;34m\u001b[0m\u001b[0m\n\u001b[0m\u001b[1;32m    576\u001b[0m                         )\n\u001b[1;32m    577\u001b[0m                     \u001b[0;31m# Sync info\u001b[0m\u001b[0;34m\u001b[0m\u001b[0;34m\u001b[0m\u001b[0;34m\u001b[0m\u001b[0m\n",
      "\u001b[0;32m/opt/conda/lib/python3.6/site-packages/datasets/builder.py\u001b[0m in \u001b[0;36m_download_and_prepare\u001b[0;34m(self, dl_manager, verify_infos, **prepare_split_kwargs)\u001b[0m\n\u001b[1;32m    660\u001b[0m \u001b[0;34m\u001b[0m\u001b[0m\n\u001b[1;32m    661\u001b[0m         \u001b[0;32mif\u001b[0m \u001b[0mverify_infos\u001b[0m\u001b[0;34m:\u001b[0m\u001b[0;34m\u001b[0m\u001b[0;34m\u001b[0m\u001b[0m\n\u001b[0;32m--> 662\u001b[0;31m             \u001b[0mverify_splits\u001b[0m\u001b[0;34m(\u001b[0m\u001b[0mself\u001b[0m\u001b[0;34m.\u001b[0m\u001b[0minfo\u001b[0m\u001b[0;34m.\u001b[0m\u001b[0msplits\u001b[0m\u001b[0;34m,\u001b[0m \u001b[0msplit_dict\u001b[0m\u001b[0;34m)\u001b[0m\u001b[0;34m\u001b[0m\u001b[0;34m\u001b[0m\u001b[0m\n\u001b[0m\u001b[1;32m    663\u001b[0m \u001b[0;34m\u001b[0m\u001b[0m\n\u001b[1;32m    664\u001b[0m         \u001b[0;31m# Update the info object with the splits.\u001b[0m\u001b[0;34m\u001b[0m\u001b[0;34m\u001b[0m\u001b[0;34m\u001b[0m\u001b[0m\n",
      "\u001b[0;32m/opt/conda/lib/python3.6/site-packages/datasets/utils/info_utils.py\u001b[0m in \u001b[0;36mverify_splits\u001b[0;34m(expected_splits, recorded_splits)\u001b[0m\n\u001b[1;32m     72\u001b[0m     ]\n\u001b[1;32m     73\u001b[0m     \u001b[0;32mif\u001b[0m \u001b[0mlen\u001b[0m\u001b[0;34m(\u001b[0m\u001b[0mbad_splits\u001b[0m\u001b[0;34m)\u001b[0m \u001b[0;34m>\u001b[0m \u001b[0;36m0\u001b[0m\u001b[0;34m:\u001b[0m\u001b[0;34m\u001b[0m\u001b[0;34m\u001b[0m\u001b[0m\n\u001b[0;32m---> 74\u001b[0;31m         \u001b[0;32mraise\u001b[0m \u001b[0mNonMatchingSplitsSizesError\u001b[0m\u001b[0;34m(\u001b[0m\u001b[0mstr\u001b[0m\u001b[0;34m(\u001b[0m\u001b[0mbad_splits\u001b[0m\u001b[0;34m)\u001b[0m\u001b[0;34m)\u001b[0m\u001b[0;34m\u001b[0m\u001b[0;34m\u001b[0m\u001b[0m\n\u001b[0m\u001b[1;32m     75\u001b[0m     \u001b[0mlogger\u001b[0m\u001b[0;34m.\u001b[0m\u001b[0minfo\u001b[0m\u001b[0;34m(\u001b[0m\u001b[0;34m\"All the splits matched successfully.\"\u001b[0m\u001b[0;34m)\u001b[0m\u001b[0;34m\u001b[0m\u001b[0;34m\u001b[0m\u001b[0m\n\u001b[1;32m     76\u001b[0m \u001b[0;34m\u001b[0m\u001b[0m\n",
      "\u001b[0;31mNonMatchingSplitsSizesError\u001b[0m: [{'expected': SplitInfo(name='train', num_bytes=33442202, num_examples=25000, dataset_name='imdb'), 'recorded': SplitInfo(name='train', num_bytes=14652463, num_examples=11149, dataset_name='imdb')}, {'expected': SplitInfo(name='unsupervised', num_bytes=67125548, num_examples=50000, dataset_name='imdb'), 'recorded': SplitInfo(name='unsupervised', num_bytes=0, num_examples=0, dataset_name='imdb')}]"
     ]
    }
   ],
   "source": [
    "#ss break apart\n",
    "# NonMatchingSplitsSizesError\n",
    "# load dataset\n",
    "# dataset = load_dataset(dataset_name)\n",
    "\n",
    "# download tokenizer\n",
    "tokenizer = AutoTokenizer.from_pretrained(tokenizer_name)\n",
    "\n",
    "# tokenizer helper function\n",
    "def tokenize(batch):\n",
    "    return tokenizer(batch['text'], padding='max_length', truncation=True)\n",
    "\n",
    "# load dataset\n",
    "train_dataset, test_dataset = load_dataset('imdb', split=['train', 'test'])\n",
    "test_dataset = test_dataset.shuffle().select(range(10000)) # smaller the size for test dataset to 10k \n",
    "\n",
    "\n",
    "# tokenize dataset\n",
    "train_dataset = train_dataset.map(tokenize, batched=True)\n",
    "test_dataset = test_dataset.map(tokenize, batched=True)\n",
    "\n",
    "# set format for pytorch\n",
    "train_dataset =  train_dataset.rename_column(\"label\", \"labels\")\n",
    "train_dataset.set_format('torch', columns=['input_ids', 'attention_mask', 'labels'])\n",
    "test_dataset = test_dataset.rename_column(\"label\", \"labels\")\n",
    "test_dataset.set_format('torch', columns=['input_ids', 'attention_mask', 'labels'])"
   ]
  },
  {
   "cell_type": "code",
   "execution_count": 4,
   "metadata": {
    "collapsed": true,
    "jupyter": {
     "outputs_hidden": true
    }
   },
   "outputs": [
    {
     "name": "stdout",
     "output_type": "stream",
     "text": [
      "Downloading and preparing dataset imdb/plain_text (download: 80.23 MiB, generated: 127.06 MiB, post-processed: Unknown size, total: 207.28 MiB) to /root/.cache/huggingface/datasets/imdb/plain_text/1.0.0/4ea52f2e58a08dbc12c2bd52d0d92b30b88c00230b4522801b3636782f625c5b...\n"
     ]
    },
    {
     "data": {
      "application/vnd.jupyter.widget-view+json": {
       "model_id": "",
       "version_major": 2,
       "version_minor": 0
      },
      "text/plain": [
       "HBox(children=(FloatProgress(value=1.0, bar_style='info', layout=Layout(width='20px'), max=1.0), HTML(value=''…"
      ]
     },
     "metadata": {},
     "output_type": "display_data"
    },
    {
     "data": {
      "application/vnd.jupyter.widget-view+json": {
       "model_id": "",
       "version_major": 2,
       "version_minor": 0
      },
      "text/plain": [
       "HBox(children=(FloatProgress(value=1.0, bar_style='info', layout=Layout(width='20px'), max=1.0), HTML(value=''…"
      ]
     },
     "metadata": {},
     "output_type": "display_data"
    },
    {
     "data": {
      "application/vnd.jupyter.widget-view+json": {
       "model_id": "",
       "version_major": 2,
       "version_minor": 0
      },
      "text/plain": [
       "HBox(children=(FloatProgress(value=1.0, bar_style='info', layout=Layout(width='20px'), max=1.0), HTML(value=''…"
      ]
     },
     "metadata": {},
     "output_type": "display_data"
    },
    {
     "ename": "NonMatchingSplitsSizesError",
     "evalue": "[{'expected': SplitInfo(name='train', num_bytes=33442202, num_examples=25000, dataset_name='imdb'), 'recorded': SplitInfo(name='train', num_bytes=14652463, num_examples=11149, dataset_name='imdb')}, {'expected': SplitInfo(name='unsupervised', num_bytes=67125548, num_examples=50000, dataset_name='imdb'), 'recorded': SplitInfo(name='unsupervised', num_bytes=0, num_examples=0, dataset_name='imdb')}]",
     "output_type": "error",
     "traceback": [
      "\u001b[0;31m---------------------------------------------------------------------------\u001b[0m",
      "\u001b[0;31mNonMatchingSplitsSizesError\u001b[0m               Traceback (most recent call last)",
      "\u001b[0;32m<ipython-input-4-f679b4883c2d>\u001b[0m in \u001b[0;36m<module>\u001b[0;34m\u001b[0m\n\u001b[1;32m      1\u001b[0m \u001b[0;31m# load dataset\u001b[0m\u001b[0;34m\u001b[0m\u001b[0;34m\u001b[0m\u001b[0;34m\u001b[0m\u001b[0m\n\u001b[0;32m----> 2\u001b[0;31m \u001b[0mdataset\u001b[0m \u001b[0;34m=\u001b[0m \u001b[0mload_dataset\u001b[0m\u001b[0;34m(\u001b[0m\u001b[0mdataset_name\u001b[0m\u001b[0;34m)\u001b[0m\u001b[0;34m\u001b[0m\u001b[0;34m\u001b[0m\u001b[0m\n\u001b[0m\u001b[1;32m      3\u001b[0m \u001b[0;34m\u001b[0m\u001b[0m\n\u001b[1;32m      4\u001b[0m \u001b[0;31m# download tokenizer\u001b[0m\u001b[0;34m\u001b[0m\u001b[0;34m\u001b[0m\u001b[0;34m\u001b[0m\u001b[0m\n\u001b[1;32m      5\u001b[0m \u001b[0mtokenizer\u001b[0m \u001b[0;34m=\u001b[0m \u001b[0mAutoTokenizer\u001b[0m\u001b[0;34m.\u001b[0m\u001b[0mfrom_pretrained\u001b[0m\u001b[0;34m(\u001b[0m\u001b[0mtokenizer_name\u001b[0m\u001b[0;34m)\u001b[0m\u001b[0;34m\u001b[0m\u001b[0;34m\u001b[0m\u001b[0m\n",
      "\u001b[0;32m/opt/conda/lib/python3.6/site-packages/datasets/load.py\u001b[0m in \u001b[0;36mload_dataset\u001b[0;34m(path, name, data_dir, data_files, split, cache_dir, features, download_config, download_mode, ignore_verifications, keep_in_memory, save_infos, script_version, use_auth_token, **config_kwargs)\u001b[0m\n\u001b[1;32m    749\u001b[0m         \u001b[0mtry_from_hf_gcs\u001b[0m\u001b[0;34m=\u001b[0m\u001b[0mtry_from_hf_gcs\u001b[0m\u001b[0;34m,\u001b[0m\u001b[0;34m\u001b[0m\u001b[0;34m\u001b[0m\u001b[0m\n\u001b[1;32m    750\u001b[0m         \u001b[0mbase_path\u001b[0m\u001b[0;34m=\u001b[0m\u001b[0mbase_path\u001b[0m\u001b[0;34m,\u001b[0m\u001b[0;34m\u001b[0m\u001b[0;34m\u001b[0m\u001b[0m\n\u001b[0;32m--> 751\u001b[0;31m         \u001b[0muse_auth_token\u001b[0m\u001b[0;34m=\u001b[0m\u001b[0muse_auth_token\u001b[0m\u001b[0;34m,\u001b[0m\u001b[0;34m\u001b[0m\u001b[0;34m\u001b[0m\u001b[0m\n\u001b[0m\u001b[1;32m    752\u001b[0m     )\n\u001b[1;32m    753\u001b[0m \u001b[0;34m\u001b[0m\u001b[0m\n",
      "\u001b[0;32m/opt/conda/lib/python3.6/site-packages/datasets/builder.py\u001b[0m in \u001b[0;36mdownload_and_prepare\u001b[0;34m(self, download_config, download_mode, ignore_verifications, try_from_hf_gcs, dl_manager, base_path, use_auth_token, **download_and_prepare_kwargs)\u001b[0m\n\u001b[1;32m    573\u001b[0m                     \u001b[0;32mif\u001b[0m \u001b[0;32mnot\u001b[0m \u001b[0mdownloaded_from_gcs\u001b[0m\u001b[0;34m:\u001b[0m\u001b[0;34m\u001b[0m\u001b[0;34m\u001b[0m\u001b[0m\n\u001b[1;32m    574\u001b[0m                         self._download_and_prepare(\n\u001b[0;32m--> 575\u001b[0;31m                             \u001b[0mdl_manager\u001b[0m\u001b[0;34m=\u001b[0m\u001b[0mdl_manager\u001b[0m\u001b[0;34m,\u001b[0m \u001b[0mverify_infos\u001b[0m\u001b[0;34m=\u001b[0m\u001b[0mverify_infos\u001b[0m\u001b[0;34m,\u001b[0m \u001b[0;34m**\u001b[0m\u001b[0mdownload_and_prepare_kwargs\u001b[0m\u001b[0;34m\u001b[0m\u001b[0;34m\u001b[0m\u001b[0m\n\u001b[0m\u001b[1;32m    576\u001b[0m                         )\n\u001b[1;32m    577\u001b[0m                     \u001b[0;31m# Sync info\u001b[0m\u001b[0;34m\u001b[0m\u001b[0;34m\u001b[0m\u001b[0;34m\u001b[0m\u001b[0m\n",
      "\u001b[0;32m/opt/conda/lib/python3.6/site-packages/datasets/builder.py\u001b[0m in \u001b[0;36m_download_and_prepare\u001b[0;34m(self, dl_manager, verify_infos, **prepare_split_kwargs)\u001b[0m\n\u001b[1;32m    660\u001b[0m \u001b[0;34m\u001b[0m\u001b[0m\n\u001b[1;32m    661\u001b[0m         \u001b[0;32mif\u001b[0m \u001b[0mverify_infos\u001b[0m\u001b[0;34m:\u001b[0m\u001b[0;34m\u001b[0m\u001b[0;34m\u001b[0m\u001b[0m\n\u001b[0;32m--> 662\u001b[0;31m             \u001b[0mverify_splits\u001b[0m\u001b[0;34m(\u001b[0m\u001b[0mself\u001b[0m\u001b[0;34m.\u001b[0m\u001b[0minfo\u001b[0m\u001b[0;34m.\u001b[0m\u001b[0msplits\u001b[0m\u001b[0;34m,\u001b[0m \u001b[0msplit_dict\u001b[0m\u001b[0;34m)\u001b[0m\u001b[0;34m\u001b[0m\u001b[0;34m\u001b[0m\u001b[0m\n\u001b[0m\u001b[1;32m    663\u001b[0m \u001b[0;34m\u001b[0m\u001b[0m\n\u001b[1;32m    664\u001b[0m         \u001b[0;31m# Update the info object with the splits.\u001b[0m\u001b[0;34m\u001b[0m\u001b[0;34m\u001b[0m\u001b[0;34m\u001b[0m\u001b[0m\n",
      "\u001b[0;32m/opt/conda/lib/python3.6/site-packages/datasets/utils/info_utils.py\u001b[0m in \u001b[0;36mverify_splits\u001b[0;34m(expected_splits, recorded_splits)\u001b[0m\n\u001b[1;32m     72\u001b[0m     ]\n\u001b[1;32m     73\u001b[0m     \u001b[0;32mif\u001b[0m \u001b[0mlen\u001b[0m\u001b[0;34m(\u001b[0m\u001b[0mbad_splits\u001b[0m\u001b[0;34m)\u001b[0m \u001b[0;34m>\u001b[0m \u001b[0;36m0\u001b[0m\u001b[0;34m:\u001b[0m\u001b[0;34m\u001b[0m\u001b[0;34m\u001b[0m\u001b[0m\n\u001b[0;32m---> 74\u001b[0;31m         \u001b[0;32mraise\u001b[0m \u001b[0mNonMatchingSplitsSizesError\u001b[0m\u001b[0;34m(\u001b[0m\u001b[0mstr\u001b[0m\u001b[0;34m(\u001b[0m\u001b[0mbad_splits\u001b[0m\u001b[0;34m)\u001b[0m\u001b[0;34m)\u001b[0m\u001b[0;34m\u001b[0m\u001b[0;34m\u001b[0m\u001b[0m\n\u001b[0m\u001b[1;32m     75\u001b[0m     \u001b[0mlogger\u001b[0m\u001b[0;34m.\u001b[0m\u001b[0minfo\u001b[0m\u001b[0;34m(\u001b[0m\u001b[0;34m\"All the splits matched successfully.\"\u001b[0m\u001b[0;34m)\u001b[0m\u001b[0;34m\u001b[0m\u001b[0;34m\u001b[0m\u001b[0m\n\u001b[1;32m     76\u001b[0m \u001b[0;34m\u001b[0m\u001b[0m\n",
      "\u001b[0;31mNonMatchingSplitsSizesError\u001b[0m: [{'expected': SplitInfo(name='train', num_bytes=33442202, num_examples=25000, dataset_name='imdb'), 'recorded': SplitInfo(name='train', num_bytes=14652463, num_examples=11149, dataset_name='imdb')}, {'expected': SplitInfo(name='unsupervised', num_bytes=67125548, num_examples=50000, dataset_name='imdb'), 'recorded': SplitInfo(name='unsupervised', num_bytes=0, num_examples=0, dataset_name='imdb')}]"
     ]
    }
   ],
   "source": [
    "# load dataset\n",
    "dataset = load_dataset(dataset_name)\n",
    "\n",
    "# download tokenizer\n",
    "tokenizer = AutoTokenizer.from_pretrained(tokenizer_name)\n",
    "\n",
    "# tokenizer helper function\n",
    "def tokenize(batch):\n",
    "    return tokenizer(batch['text'], padding='max_length', truncation=True)\n",
    "\n",
    "# load dataset\n",
    "train_dataset, test_dataset = load_dataset('imdb', split=['train', 'test'])\n",
    "test_dataset = test_dataset.shuffle().select(range(10000)) # smaller the size for test dataset to 10k \n",
    "\n",
    "\n",
    "# tokenize dataset\n",
    "train_dataset = train_dataset.map(tokenize, batched=True)\n",
    "test_dataset = test_dataset.map(tokenize, batched=True)\n",
    "\n",
    "# set format for pytorch\n",
    "train_dataset =  train_dataset.rename_column(\"label\", \"labels\")\n",
    "train_dataset.set_format('torch', columns=['input_ids', 'attention_mask', 'labels'])\n",
    "test_dataset = test_dataset.rename_column(\"label\", \"labels\")\n",
    "test_dataset.set_format('torch', columns=['input_ids', 'attention_mask', 'labels'])"
   ]
  },
  {
   "cell_type": "markdown",
   "metadata": {},
   "source": [
    "## Uploading data to `sagemaker_session_bucket`\n",
    "\n",
    "After we processed the `datasets` we are going to use the new `FileSystem` [integration](https://huggingface.co/docs/datasets/filesystems.html) to upload our dataset to S3."
   ]
  },
  {
   "cell_type": "code",
   "execution_count": 15,
   "metadata": {},
   "outputs": [],
   "source": [
    "import botocore\n",
    "from datasets.filesystems import S3FileSystem\n",
    "\n",
    "s3 = S3FileSystem()  \n",
    "\n",
    "# save train_dataset to s3\n",
    "training_input_path = f's3://{sess.default_bucket()}/{s3_prefix}/train'\n",
    "train_dataset.save_to_disk(training_input_path,fs=s3)\n",
    "\n",
    "# save test_dataset to s3\n",
    "test_input_path = f's3://{sess.default_bucket()}/{s3_prefix}/test'\n",
    "test_dataset.save_to_disk(test_input_path,fs=s3)\n"
   ]
  },
  {
   "cell_type": "markdown",
   "metadata": {},
   "source": [
    "# Fine-tuning & starting Sagemaker Training Job\n",
    "\n",
    "In order to create a sagemaker training job we need an `HuggingFace` Estimator. The Estimator handles end-to-end Amazon SageMaker training and deployment tasks. In a Estimator we define, which fine-tuning script should be used as `entry_point`, which `instance_type` should be used, which `hyperparameters` are passed in .....\n",
    "\n",
    "\n",
    "\n",
    "```python\n",
    "huggingface_estimator = HuggingFace(entry_point='train.py',\n",
    "                            source_dir='./scripts',\n",
    "                            base_job_name='huggingface-sdk-extension',\n",
    "                            instance_type='ml.p3.2xlarge',\n",
    "                            instance_count=1,\n",
    "                            transformers_version='4.4',\n",
    "                            pytorch_version='1.6',\n",
    "                            py_version='py36',\n",
    "                            role=role,\n",
    "                            hyperparameters = {'epochs': 1,\n",
    "                                               'train_batch_size': 32,\n",
    "                                               'model_name':'distilbert-base-uncased'\n",
    "                                                })\n",
    "```\n",
    "\n",
    "When we create a SageMaker training job, SageMaker takes care of starting and managing all the required ec2 instances for us with the `huggingface` container, uploads the provided fine-tuning script `train.py` and downloads the data from our `sagemaker_session_bucket` into the container at `/opt/ml/input/data`. Then, it starts the training job by running. \n",
    "\n",
    "```python\n",
    "/opt/conda/bin/python train.py --epochs 1 --model_name distilbert-base-uncased --train_batch_size 32\n",
    "```\n",
    "\n",
    "The `hyperparameters` you define in the `HuggingFace` estimator are passed in as named arguments. \n",
    "\n",
    "Sagemaker is providing useful properties about the training environment through various environment variables, including the following:\n",
    "\n",
    "* `SM_MODEL_DIR`: A string that represents the path where the training job writes the model artifacts to. After training, artifacts in this directory are uploaded to S3 for model hosting.\n",
    "\n",
    "* `SM_NUM_GPUS`: An integer representing the number of GPUs available to the host.\n",
    "\n",
    "* `SM_CHANNEL_XXXX:` A string that represents the path to the directory that contains the input data for the specified channel. For example, if you specify two input channels in the HuggingFace estimator’s fit call, named `train` and `test`, the environment variables `SM_CHANNEL_TRAIN` and `SM_CHANNEL_TEST` are set.\n",
    "\n",
    "\n",
    "To run your training job locally you can define `instance_type='local'` or `instance_type='local_gpu'` for gpu usage. _Note: this does not working within SageMaker Studio_\n"
   ]
  },
  {
   "cell_type": "code",
   "execution_count": 50,
   "metadata": {},
   "outputs": [
    {
     "name": "stdout",
     "output_type": "stream",
     "text": [
      "{'input_ids': [101, 1045, 2123, 2102, 2507, 2048, 6616, 2015, 102], 'attention_mask': [1, 1, 1, 1, 1, 1, 1, 1, 1]}\n"
     ]
    }
   ],
   "source": [
    "#ss\n",
    "text =\"I dont give two fucks\"\n",
    "encoded_text = tokenizer(text)\n",
    "print(encoded_text)"
   ]
  },
  {
   "cell_type": "code",
   "execution_count": 51,
   "metadata": {},
   "outputs": [
    {
     "name": "stdout",
     "output_type": "stream",
     "text": [
      "['[CLS]', 'i', 'don', '##t', 'give', 'two', 'fuck', '##s', '[SEP]']\n"
     ]
    }
   ],
   "source": [
    "#ss\n",
    "tokens = tokenizer.convert_ids_to_tokens(encoded_text.input_ids)\n",
    "print(tokens)"
   ]
  },
  {
   "cell_type": "code",
   "execution_count": 54,
   "metadata": {},
   "outputs": [
    {
     "name": "stdout",
     "output_type": "stream",
     "text": [
      "[CLS] i dont give two fucks [SEP]\n"
     ]
    },
    {
     "data": {
      "text/plain": [
       "['input_ids', 'attention_mask']"
      ]
     },
     "execution_count": 54,
     "metadata": {},
     "output_type": "execute_result"
    }
   ],
   "source": [
    "#ss\n",
    "print(tokenizer.convert_tokens_to_string(tokens))\n",
    "tokenizer.model_input_names"
   ]
  },
  {
   "cell_type": "code",
   "execution_count": 53,
   "metadata": {},
   "outputs": [
    {
     "data": {
      "text/plain": [
       "30522"
      ]
     },
     "execution_count": 53,
     "metadata": {},
     "output_type": "execute_result"
    }
   ],
   "source": [
    "#ss\n",
    "tokenizer.vocab_size"
   ]
  },
  {
   "cell_type": "code",
   "execution_count": 62,
   "metadata": {
    "collapsed": true,
    "jupyter": {
     "outputs_hidden": true
    }
   },
   "outputs": [
    {
     "name": "stdout",
     "output_type": "stream",
     "text": [
      "User's Environment variable:\n",
      "{'AWS_ACCOUNT_ID': '647333706880',\n",
      " 'AWS_CONTAINER_CREDENTIALS_RELATIVE_URI': '/_sagemaker-instance-credentials/7a55a75861996f9b9066e4028202d00380772c0a31fab00632e444b2f6716bcd',\n",
      " 'AWS_DEFAULT_REGION': 'us-east-1',\n",
      " 'AWS_INTERNAL_IMAGE_OWNER': 'DLC',\n",
      " 'AWS_REGION': 'us-east-1',\n",
      " 'AWS_SAGEMAKER_PYTHONNOUSERSITE': '0',\n",
      " 'CLICOLOR': '1',\n",
      " 'DGLBACKEND': 'pytorch',\n",
      " 'GIT_PAGER': 'cat',\n",
      " 'HOME': '/root',\n",
      " 'HOSTNAME': 'pytorch-1-6-cpu-py36--ml-t3-medium-370ee60fbc7a856e8f67ac271515',\n",
      " 'JPY_PARENT_PID': '21',\n",
      " 'JUPYTER_PATH': '/opt/conda/share/jupyter/',\n",
      " 'KERNEL_GATEWAY': '1',\n",
      " 'KERNEL_LAUNCH_TIMEOUT': '40',\n",
      " 'KERNEL_WORKING_PATH': 'HuggingFacenotebooks/sagemaker/ss_01_getting_started_pytorch',\n",
      " 'KMP_INIT_AT_FORK': 'FALSE',\n",
      " 'LANG': 'C.UTF-8',\n",
      " 'LC_ALL': 'C.UTF-8',\n",
      " 'LD_LIBRARY_PATH': ':/usr/local/lib:/opt/conda/lib:/home/.openmpi/lib/',\n",
      " 'MPLBACKEND': 'module://ipykernel.pylab.backend_inline',\n",
      " 'PAGER': 'cat',\n",
      " 'PATH': '/opt/conda/bin:/usr/local/sbin:/usr/local/bin:/usr/sbin:/usr/bin:/sbin:/bin:/home/.openmpi/bin:/tmp/miniconda3/condabin:/tmp/anaconda3/condabin:/tmp/miniconda2/condabin:/tmp/anaconda2/condabin',\n",
      " 'PWD': '/root',\n",
      " 'PYTHONDONTWRITEBYTECODE': '1',\n",
      " 'PYTHONIOENCODING': 'UTF-8',\n",
      " 'PYTHONNOUSERSITE': '0',\n",
      " 'PYTHONUNBUFFERED': '1',\n",
      " 'REGION_NAME': 'us-east-1',\n",
      " 'SAGEMAKER_LOG_FILE': '/var/log/studio/kernel_gateway.log',\n",
      " 'SAGEMAKER_TRAINING_MODULE': 'sagemaker_pytorch_container.training:main',\n",
      " 'TERM': 'xterm-color'}\n"
     ]
    }
   ],
   "source": [
    "import os\n",
    "import pprint\n",
    "  \n",
    "# Get the list of user's\n",
    "# environment variables\n",
    "env_var = os.environ\n",
    "  \n",
    "# Print the list of user's\n",
    "# environment variables\n",
    "print(\"User's Environment variable:\")\n",
    "pprint.pprint(dict(env_var), width = 1)"
   ]
  },
  {
   "cell_type": "code",
   "execution_count": 16,
   "metadata": {
    "collapsed": true,
    "jupyter": {
     "outputs_hidden": true
    }
   },
   "outputs": [
    {
     "name": "stdout",
     "output_type": "stream",
     "text": [
      "\u001b[34mfrom\u001b[39;49;00m \u001b[04m\u001b[36mtransformers\u001b[39;49;00m \u001b[34mimport\u001b[39;49;00m AutoModelForSequenceClassification, Trainer, TrainingArguments, AutoTokenizer\n",
      "\u001b[34mfrom\u001b[39;49;00m \u001b[04m\u001b[36msklearn\u001b[39;49;00m\u001b[04m\u001b[36m.\u001b[39;49;00m\u001b[04m\u001b[36mmetrics\u001b[39;49;00m \u001b[34mimport\u001b[39;49;00m accuracy_score, precision_recall_fscore_support\n",
      "\u001b[34mfrom\u001b[39;49;00m \u001b[04m\u001b[36mdatasets\u001b[39;49;00m \u001b[34mimport\u001b[39;49;00m load_from_disk\n",
      "\u001b[34mimport\u001b[39;49;00m \u001b[04m\u001b[36mrandom\u001b[39;49;00m\n",
      "\u001b[34mimport\u001b[39;49;00m \u001b[04m\u001b[36mlogging\u001b[39;49;00m\n",
      "\u001b[34mimport\u001b[39;49;00m \u001b[04m\u001b[36msys\u001b[39;49;00m\n",
      "\u001b[34mimport\u001b[39;49;00m \u001b[04m\u001b[36margparse\u001b[39;49;00m\n",
      "\u001b[34mimport\u001b[39;49;00m \u001b[04m\u001b[36mos\u001b[39;49;00m\n",
      "\u001b[34mimport\u001b[39;49;00m \u001b[04m\u001b[36mtorch\u001b[39;49;00m\n",
      "\n",
      "\u001b[34mif\u001b[39;49;00m \u001b[31m__name__\u001b[39;49;00m == \u001b[33m\"\u001b[39;49;00m\u001b[33m__main__\u001b[39;49;00m\u001b[33m\"\u001b[39;49;00m:\n",
      "\n",
      "    parser = argparse.ArgumentParser()\n",
      "\n",
      "    \u001b[37m# hyperparameters sent by the client are passed as command-line arguments to the script.\u001b[39;49;00m\n",
      "    parser.add_argument(\u001b[33m\"\u001b[39;49;00m\u001b[33m--epochs\u001b[39;49;00m\u001b[33m\"\u001b[39;49;00m, \u001b[36mtype\u001b[39;49;00m=\u001b[36mint\u001b[39;49;00m, default=\u001b[34m3\u001b[39;49;00m)\n",
      "    parser.add_argument(\u001b[33m\"\u001b[39;49;00m\u001b[33m--train_batch_size\u001b[39;49;00m\u001b[33m\"\u001b[39;49;00m, \u001b[36mtype\u001b[39;49;00m=\u001b[36mint\u001b[39;49;00m, default=\u001b[34m32\u001b[39;49;00m)\n",
      "    parser.add_argument(\u001b[33m\"\u001b[39;49;00m\u001b[33m--eval_batch_size\u001b[39;49;00m\u001b[33m\"\u001b[39;49;00m, \u001b[36mtype\u001b[39;49;00m=\u001b[36mint\u001b[39;49;00m, default=\u001b[34m64\u001b[39;49;00m)\n",
      "    parser.add_argument(\u001b[33m\"\u001b[39;49;00m\u001b[33m--warmup_steps\u001b[39;49;00m\u001b[33m\"\u001b[39;49;00m, \u001b[36mtype\u001b[39;49;00m=\u001b[36mint\u001b[39;49;00m, default=\u001b[34m500\u001b[39;49;00m)\n",
      "    parser.add_argument(\u001b[33m\"\u001b[39;49;00m\u001b[33m--model_name\u001b[39;49;00m\u001b[33m\"\u001b[39;49;00m, \u001b[36mtype\u001b[39;49;00m=\u001b[36mstr\u001b[39;49;00m)\n",
      "    parser.add_argument(\u001b[33m\"\u001b[39;49;00m\u001b[33m--learning_rate\u001b[39;49;00m\u001b[33m\"\u001b[39;49;00m, \u001b[36mtype\u001b[39;49;00m=\u001b[36mstr\u001b[39;49;00m, default=\u001b[34m5e-5\u001b[39;49;00m)\n",
      "\n",
      "    \u001b[37m# Data, model, and output directories\u001b[39;49;00m\n",
      "    parser.add_argument(\u001b[33m\"\u001b[39;49;00m\u001b[33m--output_data_dir\u001b[39;49;00m\u001b[33m\"\u001b[39;49;00m, \u001b[36mtype\u001b[39;49;00m=\u001b[36mstr\u001b[39;49;00m, default=os.environ[\u001b[33m\"\u001b[39;49;00m\u001b[33mSM_OUTPUT_DATA_DIR\u001b[39;49;00m\u001b[33m\"\u001b[39;49;00m])\n",
      "    parser.add_argument(\u001b[33m\"\u001b[39;49;00m\u001b[33m--model_dir\u001b[39;49;00m\u001b[33m\"\u001b[39;49;00m, \u001b[36mtype\u001b[39;49;00m=\u001b[36mstr\u001b[39;49;00m, default=os.environ[\u001b[33m\"\u001b[39;49;00m\u001b[33mSM_MODEL_DIR\u001b[39;49;00m\u001b[33m\"\u001b[39;49;00m])\n",
      "    parser.add_argument(\u001b[33m\"\u001b[39;49;00m\u001b[33m--n_gpus\u001b[39;49;00m\u001b[33m\"\u001b[39;49;00m, \u001b[36mtype\u001b[39;49;00m=\u001b[36mstr\u001b[39;49;00m, default=os.environ[\u001b[33m\"\u001b[39;49;00m\u001b[33mSM_NUM_GPUS\u001b[39;49;00m\u001b[33m\"\u001b[39;49;00m])\n",
      "    parser.add_argument(\u001b[33m\"\u001b[39;49;00m\u001b[33m--training_dir\u001b[39;49;00m\u001b[33m\"\u001b[39;49;00m, \u001b[36mtype\u001b[39;49;00m=\u001b[36mstr\u001b[39;49;00m, default=os.environ[\u001b[33m\"\u001b[39;49;00m\u001b[33mSM_CHANNEL_TRAIN\u001b[39;49;00m\u001b[33m\"\u001b[39;49;00m])\n",
      "    parser.add_argument(\u001b[33m\"\u001b[39;49;00m\u001b[33m--test_dir\u001b[39;49;00m\u001b[33m\"\u001b[39;49;00m, \u001b[36mtype\u001b[39;49;00m=\u001b[36mstr\u001b[39;49;00m, default=os.environ[\u001b[33m\"\u001b[39;49;00m\u001b[33mSM_CHANNEL_TEST\u001b[39;49;00m\u001b[33m\"\u001b[39;49;00m])\n",
      "\n",
      "    args, _ = parser.parse_known_args()\n",
      "\n",
      "    \u001b[37m# Set up logging\u001b[39;49;00m\n",
      "    logger = logging.getLogger(\u001b[31m__name__\u001b[39;49;00m)\n",
      "\n",
      "    logging.basicConfig(\n",
      "        level=logging.getLevelName(\u001b[33m\"\u001b[39;49;00m\u001b[33mINFO\u001b[39;49;00m\u001b[33m\"\u001b[39;49;00m),\n",
      "        handlers=[logging.StreamHandler(sys.stdout)],\n",
      "        \u001b[36mformat\u001b[39;49;00m=\u001b[33m\"\u001b[39;49;00m\u001b[33m%(asctime)s\u001b[39;49;00m\u001b[33m - \u001b[39;49;00m\u001b[33m%(name)s\u001b[39;49;00m\u001b[33m - \u001b[39;49;00m\u001b[33m%(levelname)s\u001b[39;49;00m\u001b[33m - \u001b[39;49;00m\u001b[33m%(message)s\u001b[39;49;00m\u001b[33m\"\u001b[39;49;00m,\n",
      "    )\n",
      "\n",
      "    \u001b[37m# load datasets\u001b[39;49;00m\n",
      "    train_dataset = load_from_disk(args.training_dir)\n",
      "    test_dataset = load_from_disk(args.test_dir)\n",
      "\n",
      "    logger.info(\u001b[33mf\u001b[39;49;00m\u001b[33m\"\u001b[39;49;00m\u001b[33m loaded train_dataset length is: \u001b[39;49;00m\u001b[33m{\u001b[39;49;00m\u001b[36mlen\u001b[39;49;00m(train_dataset)\u001b[33m}\u001b[39;49;00m\u001b[33m\"\u001b[39;49;00m)\n",
      "    logger.info(\u001b[33mf\u001b[39;49;00m\u001b[33m\"\u001b[39;49;00m\u001b[33m loaded test_dataset length is: \u001b[39;49;00m\u001b[33m{\u001b[39;49;00m\u001b[36mlen\u001b[39;49;00m(test_dataset)\u001b[33m}\u001b[39;49;00m\u001b[33m\"\u001b[39;49;00m)\n",
      "\n",
      "    \u001b[37m# compute metrics function for binary classification\u001b[39;49;00m\n",
      "    \u001b[34mdef\u001b[39;49;00m \u001b[32mcompute_metrics\u001b[39;49;00m(pred):\n",
      "        labels = pred.label_ids\n",
      "        preds = pred.predictions.argmax(-\u001b[34m1\u001b[39;49;00m)\n",
      "        precision, recall, f1, _ = precision_recall_fscore_support(labels, preds, average=\u001b[33m\"\u001b[39;49;00m\u001b[33mbinary\u001b[39;49;00m\u001b[33m\"\u001b[39;49;00m)\n",
      "        acc = accuracy_score(labels, preds)\n",
      "        \u001b[34mreturn\u001b[39;49;00m {\u001b[33m\"\u001b[39;49;00m\u001b[33maccuracy\u001b[39;49;00m\u001b[33m\"\u001b[39;49;00m: acc, \u001b[33m\"\u001b[39;49;00m\u001b[33mf1\u001b[39;49;00m\u001b[33m\"\u001b[39;49;00m: f1, \u001b[33m\"\u001b[39;49;00m\u001b[33mprecision\u001b[39;49;00m\u001b[33m\"\u001b[39;49;00m: precision, \u001b[33m\"\u001b[39;49;00m\u001b[33mrecall\u001b[39;49;00m\u001b[33m\"\u001b[39;49;00m: recall}\n",
      "\n",
      "    \u001b[37m# download model from model hub\u001b[39;49;00m\n",
      "    model = AutoModelForSequenceClassification.from_pretrained(args.model_name)\n",
      "    tokenizer = AutoTokenizer.from_pretrained(args.model_name)\n",
      "\n",
      "    \u001b[37m# define training args\u001b[39;49;00m\n",
      "    training_args = TrainingArguments(\n",
      "        output_dir=args.model_dir,\n",
      "        num_train_epochs=args.epochs,\n",
      "        per_device_train_batch_size=args.train_batch_size,\n",
      "        per_device_eval_batch_size=args.eval_batch_size,\n",
      "        warmup_steps=args.warmup_steps,\n",
      "        evaluation_strategy=\u001b[33m\"\u001b[39;49;00m\u001b[33mepoch\u001b[39;49;00m\u001b[33m\"\u001b[39;49;00m,\n",
      "        logging_dir=\u001b[33mf\u001b[39;49;00m\u001b[33m\"\u001b[39;49;00m\u001b[33m{\u001b[39;49;00margs.output_data_dir\u001b[33m}\u001b[39;49;00m\u001b[33m/logs\u001b[39;49;00m\u001b[33m\"\u001b[39;49;00m,\n",
      "        learning_rate=\u001b[36mfloat\u001b[39;49;00m(args.learning_rate),\n",
      "    )\n",
      "\n",
      "    \u001b[37m# create Trainer instance\u001b[39;49;00m\n",
      "    trainer = Trainer(\n",
      "        model=model,\n",
      "        args=training_args,\n",
      "        compute_metrics=compute_metrics,\n",
      "        train_dataset=train_dataset,\n",
      "        eval_dataset=test_dataset,\n",
      "        tokenizer=tokenizer,\n",
      "    )\n",
      "\n",
      "    \u001b[37m# train model\u001b[39;49;00m\n",
      "    trainer.train()\n",
      "\n",
      "    \u001b[37m# evaluate model\u001b[39;49;00m\n",
      "    eval_result = trainer.evaluate(eval_dataset=test_dataset)\n",
      "\n",
      "    \u001b[37m# writes eval result to file which can be accessed later in s3 ouput\u001b[39;49;00m\n",
      "    \u001b[34mwith\u001b[39;49;00m \u001b[36mopen\u001b[39;49;00m(os.path.join(args.output_data_dir, \u001b[33m\"\u001b[39;49;00m\u001b[33meval_results.txt\u001b[39;49;00m\u001b[33m\"\u001b[39;49;00m), \u001b[33m\"\u001b[39;49;00m\u001b[33mw\u001b[39;49;00m\u001b[33m\"\u001b[39;49;00m) \u001b[34mas\u001b[39;49;00m writer:\n",
      "        \u001b[36mprint\u001b[39;49;00m(\u001b[33mf\u001b[39;49;00m\u001b[33m\"\u001b[39;49;00m\u001b[33m***** Eval results *****\u001b[39;49;00m\u001b[33m\"\u001b[39;49;00m)\n",
      "        \u001b[34mfor\u001b[39;49;00m key, value \u001b[35min\u001b[39;49;00m \u001b[36msorted\u001b[39;49;00m(eval_result.items()):\n",
      "            writer.write(\u001b[33mf\u001b[39;49;00m\u001b[33m\"\u001b[39;49;00m\u001b[33m{\u001b[39;49;00mkey\u001b[33m}\u001b[39;49;00m\u001b[33m = \u001b[39;49;00m\u001b[33m{\u001b[39;49;00mvalue\u001b[33m}\u001b[39;49;00m\u001b[33m\\n\u001b[39;49;00m\u001b[33m\"\u001b[39;49;00m)\n",
      "\n",
      "    \u001b[37m# Saves the model to s3\u001b[39;49;00m\n",
      "    trainer.save_model(args.model_dir)\n"
     ]
    }
   ],
   "source": [
    "!pygmentize ./scripts/train.py"
   ]
  },
  {
   "cell_type": "markdown",
   "metadata": {},
   "source": [
    "## Creating an Estimator and start a training job"
   ]
  },
  {
   "cell_type": "code",
   "execution_count": 17,
   "metadata": {},
   "outputs": [],
   "source": [
    "from sagemaker.huggingface import HuggingFace\n",
    "\n",
    "# hyperparameters, which are passed into the training job\n",
    "hyperparameters={'epochs': 1,\n",
    "                 'train_batch_size': 32,\n",
    "                 'model_name':'distilbert-base-uncased'\n",
    "                 }"
   ]
  },
  {
   "cell_type": "code",
   "execution_count": 18,
   "metadata": {},
   "outputs": [],
   "source": [
    "huggingface_estimator = HuggingFace(entry_point='train.py',\n",
    "                            source_dir='./scripts',\n",
    "                            instance_type='ml.p3.2xlarge',\n",
    "                            instance_count=1,\n",
    "                            role=role,\n",
    "                            transformers_version='4.6',\n",
    "                            pytorch_version='1.7',\n",
    "                            py_version='py36',\n",
    "                            hyperparameters = hyperparameters)"
   ]
  },
  {
   "cell_type": "code",
   "execution_count": 19,
   "metadata": {
    "collapsed": true,
    "jupyter": {
     "outputs_hidden": true
    }
   },
   "outputs": [
    {
     "name": "stdout",
     "output_type": "stream",
     "text": [
      "2022-02-18 00:39:50 Starting - Starting the training job...\n",
      "2022-02-18 00:39:59 Starting - Launching requested ML instancesProfilerReport-1645144789: InProgress\n",
      ".........\n",
      "2022-02-18 00:41:36 Starting - Preparing the instances for training.........\n",
      "2022-02-18 00:43:17 Downloading - Downloading input data\n",
      "2022-02-18 00:43:17 Training - Downloading the training image..................\n",
      "2022-02-18 00:46:21 Training - Training image download completed. Training in progress..\u001b[34mbash: cannot set terminal process group (-1): Inappropriate ioctl for device\u001b[0m\n",
      "\u001b[34mbash: no job control in this shell\u001b[0m\n",
      "\u001b[34m2022-02-18 00:46:22,223 sagemaker-training-toolkit INFO     Imported framework sagemaker_pytorch_container.training\u001b[0m\n",
      "\u001b[34m2022-02-18 00:46:22,246 sagemaker_pytorch_container.training INFO     Block until all host DNS lookups succeed.\u001b[0m\n",
      "\u001b[34m2022-02-18 00:46:22,257 sagemaker_pytorch_container.training INFO     Invoking user training script.\u001b[0m\n",
      "\u001b[34m2022-02-18 00:46:22,806 sagemaker-training-toolkit INFO     Invoking user script\u001b[0m\n",
      "\u001b[34mTraining Env:\u001b[0m\n",
      "\u001b[34m{\n",
      "    \"additional_framework_parameters\": {},\n",
      "    \"channel_input_dirs\": {\n",
      "        \"test\": \"/opt/ml/input/data/test\",\n",
      "        \"train\": \"/opt/ml/input/data/train\"\n",
      "    },\n",
      "    \"current_host\": \"algo-1\",\n",
      "    \"framework_module\": \"sagemaker_pytorch_container.training:main\",\n",
      "    \"hosts\": [\n",
      "        \"algo-1\"\n",
      "    ],\n",
      "    \"hyperparameters\": {\n",
      "        \"train_batch_size\": 32,\n",
      "        \"model_name\": \"distilbert-base-uncased\",\n",
      "        \"epochs\": 1\n",
      "    },\n",
      "    \"input_config_dir\": \"/opt/ml/input/config\",\n",
      "    \"input_data_config\": {\n",
      "        \"test\": {\n",
      "            \"TrainingInputMode\": \"File\",\n",
      "            \"S3DistributionType\": \"FullyReplicated\",\n",
      "            \"RecordWrapperType\": \"None\"\n",
      "        },\n",
      "        \"train\": {\n",
      "            \"TrainingInputMode\": \"File\",\n",
      "            \"S3DistributionType\": \"FullyReplicated\",\n",
      "            \"RecordWrapperType\": \"None\"\n",
      "        }\n",
      "    },\n",
      "    \"input_dir\": \"/opt/ml/input\",\n",
      "    \"is_master\": true,\n",
      "    \"job_name\": \"huggingface-pytorch-training-2022-02-18-00-39-49-588\",\n",
      "    \"log_level\": 20,\n",
      "    \"master_hostname\": \"algo-1\",\n",
      "    \"model_dir\": \"/opt/ml/model\",\n",
      "    \"module_dir\": \"s3://sagemaker-us-east-1-647333706880/huggingface-pytorch-training-2022-02-18-00-39-49-588/source/sourcedir.tar.gz\",\n",
      "    \"module_name\": \"train\",\n",
      "    \"network_interface_name\": \"eth0\",\n",
      "    \"num_cpus\": 8,\n",
      "    \"num_gpus\": 1,\n",
      "    \"output_data_dir\": \"/opt/ml/output/data\",\n",
      "    \"output_dir\": \"/opt/ml/output\",\n",
      "    \"output_intermediate_dir\": \"/opt/ml/output/intermediate\",\n",
      "    \"resource_config\": {\n",
      "        \"current_host\": \"algo-1\",\n",
      "        \"hosts\": [\n",
      "            \"algo-1\"\n",
      "        ],\n",
      "        \"network_interface_name\": \"eth0\"\n",
      "    },\n",
      "    \"user_entry_point\": \"train.py\"\u001b[0m\n",
      "\u001b[34m}\u001b[0m\n",
      "\u001b[34mEnvironment variables:\u001b[0m\n",
      "\u001b[34mSM_HOSTS=[\"algo-1\"]\u001b[0m\n",
      "\u001b[34mSM_NETWORK_INTERFACE_NAME=eth0\u001b[0m\n",
      "\u001b[34mSM_HPS={\"epochs\":1,\"model_name\":\"distilbert-base-uncased\",\"train_batch_size\":32}\u001b[0m\n",
      "\u001b[34mSM_USER_ENTRY_POINT=train.py\u001b[0m\n",
      "\u001b[34mSM_FRAMEWORK_PARAMS={}\u001b[0m\n",
      "\u001b[34mSM_RESOURCE_CONFIG={\"current_host\":\"algo-1\",\"hosts\":[\"algo-1\"],\"network_interface_name\":\"eth0\"}\u001b[0m\n",
      "\u001b[34mSM_INPUT_DATA_CONFIG={\"test\":{\"RecordWrapperType\":\"None\",\"S3DistributionType\":\"FullyReplicated\",\"TrainingInputMode\":\"File\"},\"train\":{\"RecordWrapperType\":\"None\",\"S3DistributionType\":\"FullyReplicated\",\"TrainingInputMode\":\"File\"}}\u001b[0m\n",
      "\u001b[34mSM_OUTPUT_DATA_DIR=/opt/ml/output/data\u001b[0m\n",
      "\u001b[34mSM_CHANNELS=[\"test\",\"train\"]\u001b[0m\n",
      "\u001b[34mSM_CURRENT_HOST=algo-1\u001b[0m\n",
      "\u001b[34mSM_MODULE_NAME=train\u001b[0m\n",
      "\u001b[34mSM_LOG_LEVEL=20\u001b[0m\n",
      "\u001b[34mSM_FRAMEWORK_MODULE=sagemaker_pytorch_container.training:main\u001b[0m\n",
      "\u001b[34mSM_INPUT_DIR=/opt/ml/input\u001b[0m\n",
      "\u001b[34mSM_INPUT_CONFIG_DIR=/opt/ml/input/config\u001b[0m\n",
      "\u001b[34mSM_OUTPUT_DIR=/opt/ml/output\u001b[0m\n",
      "\u001b[34mSM_NUM_CPUS=8\u001b[0m\n",
      "\u001b[34mSM_NUM_GPUS=1\u001b[0m\n",
      "\u001b[34mSM_MODEL_DIR=/opt/ml/model\u001b[0m\n",
      "\u001b[34mSM_MODULE_DIR=s3://sagemaker-us-east-1-647333706880/huggingface-pytorch-training-2022-02-18-00-39-49-588/source/sourcedir.tar.gz\u001b[0m\n",
      "\u001b[34mSM_TRAINING_ENV={\"additional_framework_parameters\":{},\"channel_input_dirs\":{\"test\":\"/opt/ml/input/data/test\",\"train\":\"/opt/ml/input/data/train\"},\"current_host\":\"algo-1\",\"framework_module\":\"sagemaker_pytorch_container.training:main\",\"hosts\":[\"algo-1\"],\"hyperparameters\":{\"epochs\":1,\"model_name\":\"distilbert-base-uncased\",\"train_batch_size\":32},\"input_config_dir\":\"/opt/ml/input/config\",\"input_data_config\":{\"test\":{\"RecordWrapperType\":\"None\",\"S3DistributionType\":\"FullyReplicated\",\"TrainingInputMode\":\"File\"},\"train\":{\"RecordWrapperType\":\"None\",\"S3DistributionType\":\"FullyReplicated\",\"TrainingInputMode\":\"File\"}},\"input_dir\":\"/opt/ml/input\",\"is_master\":true,\"job_name\":\"huggingface-pytorch-training-2022-02-18-00-39-49-588\",\"log_level\":20,\"master_hostname\":\"algo-1\",\"model_dir\":\"/opt/ml/model\",\"module_dir\":\"s3://sagemaker-us-east-1-647333706880/huggingface-pytorch-training-2022-02-18-00-39-49-588/source/sourcedir.tar.gz\",\"module_name\":\"train\",\"network_interface_name\":\"eth0\",\"num_cpus\":8,\"num_gpus\":1,\"output_data_dir\":\"/opt/ml/output/data\",\"output_dir\":\"/opt/ml/output\",\"output_intermediate_dir\":\"/opt/ml/output/intermediate\",\"resource_config\":{\"current_host\":\"algo-1\",\"hosts\":[\"algo-1\"],\"network_interface_name\":\"eth0\"},\"user_entry_point\":\"train.py\"}\u001b[0m\n",
      "\u001b[34mSM_USER_ARGS=[\"--epochs\",\"1\",\"--model_name\",\"distilbert-base-uncased\",\"--train_batch_size\",\"32\"]\u001b[0m\n",
      "\u001b[34mSM_OUTPUT_INTERMEDIATE_DIR=/opt/ml/output/intermediate\u001b[0m\n",
      "\u001b[34mSM_CHANNEL_TEST=/opt/ml/input/data/test\u001b[0m\n",
      "\u001b[34mSM_CHANNEL_TRAIN=/opt/ml/input/data/train\u001b[0m\n",
      "\u001b[34mSM_HP_TRAIN_BATCH_SIZE=32\u001b[0m\n",
      "\u001b[34mSM_HP_MODEL_NAME=distilbert-base-uncased\u001b[0m\n",
      "\u001b[34mSM_HP_EPOCHS=1\u001b[0m\n",
      "\u001b[34mPYTHONPATH=/opt/ml/code:/opt/conda/bin:/opt/conda/lib/python36.zip:/opt/conda/lib/python3.6:/opt/conda/lib/python3.6/lib-dynload:/opt/conda/lib/python3.6/site-packages\u001b[0m\n",
      "\u001b[34mInvoking script with the following command:\u001b[0m\n",
      "\u001b[34m/opt/conda/bin/python3.6 train.py --epochs 1 --model_name distilbert-base-uncased --train_batch_size 32\u001b[0m\n",
      "\u001b[34m2022-02-18 00:46:28,698 - __main__ - INFO -  loaded train_dataset length is: 25000\u001b[0m\n",
      "\u001b[34m2022-02-18 00:46:28,698 - __main__ - INFO -  loaded test_dataset length is: 10000\u001b[0m\n",
      "\u001b[34m2022-02-18 00:46:28,733 - filelock - INFO - Lock 140690432969024 acquired on /root/.cache/huggingface/transformers/23454919702d26495337f3da04d1655c7ee010d5ec9d77bdb9e399e00302c0a1.91b885ab15d631bf9cee9dc9d25ece0afd932f2f5130eba28f2055b2220c0333.lock\u001b[0m\n",
      "\u001b[34m2022-02-18 00:46:28,762 - filelock - INFO - Lock 140690432969024 released on /root/.cache/huggingface/transformers/23454919702d26495337f3da04d1655c7ee010d5ec9d77bdb9e399e00302c0a1.91b885ab15d631bf9cee9dc9d25ece0afd932f2f5130eba28f2055b2220c0333.lock\u001b[0m\n",
      "\u001b[34m2022-02-18 00:46:28,793 - filelock - INFO - Lock 140690198083232 acquired on /root/.cache/huggingface/transformers/9c169103d7e5a73936dd2b627e42851bec0831212b677c637033ee4bce9ab5ee.126183e36667471617ae2f0835fab707baa54b731f991507ebbb55ea85adb12a.lock\u001b[0m\n",
      "\u001b[34m2022-02-18 00:46:33,413 - filelock - INFO - Lock 140690198083232 released on /root/.cache/huggingface/transformers/9c169103d7e5a73936dd2b627e42851bec0831212b677c637033ee4bce9ab5ee.126183e36667471617ae2f0835fab707baa54b731f991507ebbb55ea85adb12a.lock\u001b[0m\n",
      "\u001b[34mSome weights of the model checkpoint at distilbert-base-uncased were not used when initializing DistilBertForSequenceClassification: ['vocab_projector.bias', 'vocab_projector.weight', 'vocab_layer_norm.weight', 'vocab_layer_norm.bias', 'vocab_transform.weight', 'vocab_transform.bias']\u001b[0m\n",
      "\u001b[34m- This IS expected if you are initializing DistilBertForSequenceClassification from the checkpoint of a model trained on another task or with another architecture (e.g. initializing a BertForSequenceClassification model from a BertForPreTraining model).\u001b[0m\n",
      "\u001b[34m- This IS NOT expected if you are initializing DistilBertForSequenceClassification from the checkpoint of a model that you expect to be exactly identical (initializing a BertForSequenceClassification model from a BertForSequenceClassification model).\u001b[0m\n",
      "\u001b[34mSome weights of DistilBertForSequenceClassification were not initialized from the model checkpoint at distilbert-base-uncased and are newly initialized: ['classifier.bias', 'pre_classifier.bias', 'pre_classifier.weight', 'classifier.weight']\u001b[0m\n",
      "\u001b[34mYou should probably TRAIN this model on a down-stream task to be able to use it for predictions and inference.\u001b[0m\n",
      "\u001b[34m2022-02-18 00:46:34,348 - filelock - INFO - Lock 140690191919144 acquired on /root/.cache/huggingface/transformers/0e1bbfda7f63a99bb52e3915dcf10c3c92122b827d92eb2d34ce94ee79ba486c.d789d64ebfe299b0e416afc4a169632f903f693095b4629a7ea271d5a0cf2c99.lock\u001b[0m\n",
      "\u001b[34m2022-02-18 00:46:34,382 - filelock - INFO - Lock 140690191919144 released on /root/.cache/huggingface/transformers/0e1bbfda7f63a99bb52e3915dcf10c3c92122b827d92eb2d34ce94ee79ba486c.d789d64ebfe299b0e416afc4a169632f903f693095b4629a7ea271d5a0cf2c99.lock\u001b[0m\n",
      "\u001b[34m2022-02-18 00:46:34,410 - filelock - INFO - Lock 140690191919536 acquired on /root/.cache/huggingface/transformers/75abb59d7a06f4f640158a9bfcde005264e59e8d566781ab1415b139d2e4c603.7f2721073f19841be16f41b0a70b600ca6b880c8f3df6f3535cbc704371bdfa4.lock\u001b[0m\n",
      "\u001b[34m2022-02-18 00:46:34,448 - filelock - INFO - Lock 140690191919536 released on /root/.cache/huggingface/transformers/75abb59d7a06f4f640158a9bfcde005264e59e8d566781ab1415b139d2e4c603.7f2721073f19841be16f41b0a70b600ca6b880c8f3df6f3535cbc704371bdfa4.lock\u001b[0m\n",
      "\u001b[34m2022-02-18 00:46:34,540 - filelock - INFO - Lock 140690191920992 acquired on /root/.cache/huggingface/transformers/8c8624b8ac8aa99c60c912161f8332de003484428c47906d7ff7eb7f73eecdbb.20430bd8e10ef77a7d2977accefe796051e01bc2fc4aa146bc862997a1a15e79.lock\u001b[0m\n",
      "\u001b[34m2022-02-18 00:46:34,565 - filelock - INFO - Lock 140690191920992 released on /root/.cache/huggingface/transformers/8c8624b8ac8aa99c60c912161f8332de003484428c47906d7ff7eb7f73eecdbb.20430bd8e10ef77a7d2977accefe796051e01bc2fc4aa146bc862997a1a15e79.lock\u001b[0m\n",
      "\u001b[34m[2022-02-18 00:46:40.640 algo-1:26 INFO utils.py:27] RULE_JOB_STOP_SIGNAL_FILENAME: None\u001b[0m\n",
      "\u001b[34m[2022-02-18 00:46:40.815 algo-1:26 INFO profiler_config_parser.py:102] User has disabled profiler.\u001b[0m\n",
      "\u001b[34m[2022-02-18 00:46:40.816 algo-1:26 INFO json_config.py:91] Creating hook from json_config at /opt/ml/input/config/debughookconfig.json.\u001b[0m\n",
      "\u001b[34m[2022-02-18 00:46:40.817 algo-1:26 INFO hook.py:201] tensorboard_dir has not been set for the hook. SMDebug will not be exporting tensorboard summaries.\u001b[0m\n",
      "\u001b[34m[2022-02-18 00:46:40.818 algo-1:26 INFO hook.py:255] Saving to /opt/ml/output/tensors\u001b[0m\n",
      "\u001b[34m[2022-02-18 00:46:40.818 algo-1:26 INFO state_store.py:77] The checkpoint config file /opt/ml/input/config/checkpointconfig.json does not exist.\u001b[0m\n",
      "\u001b[34m[2022-02-18 00:46:41.027 algo-1:26 INFO hook.py:591] name:distilbert.embeddings.word_embeddings.weight count_params:23440896\u001b[0m\n",
      "\u001b[34m[2022-02-18 00:46:41.027 algo-1:26 INFO hook.py:591] name:distilbert.embeddings.position_embeddings.weight count_params:393216\u001b[0m\n",
      "\u001b[34m[2022-02-18 00:46:41.027 algo-1:26 INFO hook.py:591] name:distilbert.embeddings.LayerNorm.weight count_params:768\u001b[0m\n",
      "\u001b[34m[2022-02-18 00:46:41.028 algo-1:26 INFO hook.py:591] name:distilbert.embeddings.LayerNorm.bias count_params:768\u001b[0m\n",
      "\u001b[34m[2022-02-18 00:46:41.028 algo-1:26 INFO hook.py:591] name:distilbert.transformer.layer.0.attention.q_lin.weight count_params:589824\u001b[0m\n",
      "\u001b[34m[2022-02-18 00:46:41.028 algo-1:26 INFO hook.py:591] name:distilbert.transformer.layer.0.attention.q_lin.bias count_params:768\u001b[0m\n",
      "\u001b[34m[2022-02-18 00:46:41.028 algo-1:26 INFO hook.py:591] name:distilbert.transformer.layer.0.attention.k_lin.weight count_params:589824\u001b[0m\n",
      "\u001b[34m[2022-02-18 00:46:41.028 algo-1:26 INFO hook.py:591] name:distilbert.transformer.layer.0.attention.k_lin.bias count_params:768\u001b[0m\n",
      "\u001b[34m[2022-02-18 00:46:41.028 algo-1:26 INFO hook.py:591] name:distilbert.transformer.layer.0.attention.v_lin.weight count_params:589824\u001b[0m\n",
      "\u001b[34m[2022-02-18 00:46:41.028 algo-1:26 INFO hook.py:591] name:distilbert.transformer.layer.0.attention.v_lin.bias count_params:768\u001b[0m\n",
      "\u001b[34m[2022-02-18 00:46:41.029 algo-1:26 INFO hook.py:591] name:distilbert.transformer.layer.0.attention.out_lin.weight count_params:589824\u001b[0m\n",
      "\u001b[34m[2022-02-18 00:46:41.029 algo-1:26 INFO hook.py:591] name:distilbert.transformer.layer.0.attention.out_lin.bias count_params:768\u001b[0m\n",
      "\u001b[34m[2022-02-18 00:46:41.029 algo-1:26 INFO hook.py:591] name:distilbert.transformer.layer.0.sa_layer_norm.weight count_params:768\u001b[0m\n",
      "\u001b[34m[2022-02-18 00:46:41.029 algo-1:26 INFO hook.py:591] name:distilbert.transformer.layer.0.sa_layer_norm.bias count_params:768\u001b[0m\n",
      "\u001b[34m[2022-02-18 00:46:41.029 algo-1:26 INFO hook.py:591] name:distilbert.transformer.layer.0.ffn.lin1.weight count_params:2359296\u001b[0m\n",
      "\u001b[34m[2022-02-18 00:46:41.029 algo-1:26 INFO hook.py:591] name:distilbert.transformer.layer.0.ffn.lin1.bias count_params:3072\u001b[0m\n",
      "\u001b[34m[2022-02-18 00:46:41.029 algo-1:26 INFO hook.py:591] name:distilbert.transformer.layer.0.ffn.lin2.weight count_params:2359296\u001b[0m\n",
      "\u001b[34m[2022-02-18 00:46:41.030 algo-1:26 INFO hook.py:591] name:distilbert.transformer.layer.0.ffn.lin2.bias count_params:768\u001b[0m\n",
      "\u001b[34m[2022-02-18 00:46:41.030 algo-1:26 INFO hook.py:591] name:distilbert.transformer.layer.0.output_layer_norm.weight count_params:768\u001b[0m\n",
      "\u001b[34m[2022-02-18 00:46:41.030 algo-1:26 INFO hook.py:591] name:distilbert.transformer.layer.0.output_layer_norm.bias count_params:768\u001b[0m\n",
      "\u001b[34m[2022-02-18 00:46:41.030 algo-1:26 INFO hook.py:591] name:distilbert.transformer.layer.1.attention.q_lin.weight count_params:589824\u001b[0m\n",
      "\u001b[34m[2022-02-18 00:46:41.030 algo-1:26 INFO hook.py:591] name:distilbert.transformer.layer.1.attention.q_lin.bias count_params:768\u001b[0m\n",
      "\u001b[34m[2022-02-18 00:46:41.030 algo-1:26 INFO hook.py:591] name:distilbert.transformer.layer.1.attention.k_lin.weight count_params:589824\u001b[0m\n",
      "\u001b[34m[2022-02-18 00:46:41.030 algo-1:26 INFO hook.py:591] name:distilbert.transformer.layer.1.attention.k_lin.bias count_params:768\u001b[0m\n",
      "\u001b[34m[2022-02-18 00:46:41.031 algo-1:26 INFO hook.py:591] name:distilbert.transformer.layer.1.attention.v_lin.weight count_params:589824\u001b[0m\n",
      "\u001b[34m[2022-02-18 00:46:41.031 algo-1:26 INFO hook.py:591] name:distilbert.transformer.layer.1.attention.v_lin.bias count_params:768\u001b[0m\n",
      "\u001b[34m[2022-02-18 00:46:41.031 algo-1:26 INFO hook.py:591] name:distilbert.transformer.layer.1.attention.out_lin.weight count_params:589824\u001b[0m\n",
      "\u001b[34m[2022-02-18 00:46:41.031 algo-1:26 INFO hook.py:591] name:distilbert.transformer.layer.1.attention.out_lin.bias count_params:768\u001b[0m\n",
      "\u001b[34m[2022-02-18 00:46:41.031 algo-1:26 INFO hook.py:591] name:distilbert.transformer.layer.1.sa_layer_norm.weight count_params:768\u001b[0m\n",
      "\u001b[34m[2022-02-18 00:46:41.031 algo-1:26 INFO hook.py:591] name:distilbert.transformer.layer.1.sa_layer_norm.bias count_params:768\u001b[0m\n",
      "\u001b[34m[2022-02-18 00:46:41.031 algo-1:26 INFO hook.py:591] name:distilbert.transformer.layer.1.ffn.lin1.weight count_params:2359296\u001b[0m\n",
      "\u001b[34m[2022-02-18 00:46:41.032 algo-1:26 INFO hook.py:591] name:distilbert.transformer.layer.1.ffn.lin1.bias count_params:3072\u001b[0m\n",
      "\u001b[34m[2022-02-18 00:46:41.032 algo-1:26 INFO hook.py:591] name:distilbert.transformer.layer.1.ffn.lin2.weight count_params:2359296\u001b[0m\n",
      "\u001b[34m[2022-02-18 00:46:41.032 algo-1:26 INFO hook.py:591] name:distilbert.transformer.layer.1.ffn.lin2.bias count_params:768\u001b[0m\n",
      "\u001b[34m[2022-02-18 00:46:41.032 algo-1:26 INFO hook.py:591] name:distilbert.transformer.layer.1.output_layer_norm.weight count_params:768\u001b[0m\n",
      "\u001b[34m[2022-02-18 00:46:41.032 algo-1:26 INFO hook.py:591] name:distilbert.transformer.layer.1.output_layer_norm.bias count_params:768\u001b[0m\n",
      "\u001b[34m[2022-02-18 00:46:41.032 algo-1:26 INFO hook.py:591] name:distilbert.transformer.layer.2.attention.q_lin.weight count_params:589824\u001b[0m\n",
      "\u001b[34m[2022-02-18 00:46:41.032 algo-1:26 INFO hook.py:591] name:distilbert.transformer.layer.2.attention.q_lin.bias count_params:768\u001b[0m\n",
      "\u001b[34m[2022-02-18 00:46:41.032 algo-1:26 INFO hook.py:591] name:distilbert.transformer.layer.2.attention.k_lin.weight count_params:589824\u001b[0m\n",
      "\u001b[34m[2022-02-18 00:46:41.033 algo-1:26 INFO hook.py:591] name:distilbert.transformer.layer.2.attention.k_lin.bias count_params:768\u001b[0m\n",
      "\u001b[34m[2022-02-18 00:46:41.033 algo-1:26 INFO hook.py:591] name:distilbert.transformer.layer.2.attention.v_lin.weight count_params:589824\u001b[0m\n",
      "\u001b[34m[2022-02-18 00:46:41.033 algo-1:26 INFO hook.py:591] name:distilbert.transformer.layer.2.attention.v_lin.bias count_params:768\u001b[0m\n",
      "\u001b[34m[2022-02-18 00:46:41.033 algo-1:26 INFO hook.py:591] name:distilbert.transformer.layer.2.attention.out_lin.weight count_params:589824\u001b[0m\n",
      "\u001b[34m[2022-02-18 00:46:41.033 algo-1:26 INFO hook.py:591] name:distilbert.transformer.layer.2.attention.out_lin.bias count_params:768\u001b[0m\n",
      "\u001b[34m[2022-02-18 00:46:41.033 algo-1:26 INFO hook.py:591] name:distilbert.transformer.layer.2.sa_layer_norm.weight count_params:768\u001b[0m\n",
      "\u001b[34m[2022-02-18 00:46:41.033 algo-1:26 INFO hook.py:591] name:distilbert.transformer.layer.2.sa_layer_norm.bias count_params:768\u001b[0m\n",
      "\u001b[34m[2022-02-18 00:46:41.033 algo-1:26 INFO hook.py:591] name:distilbert.transformer.layer.2.ffn.lin1.weight count_params:2359296\u001b[0m\n",
      "\u001b[34m[2022-02-18 00:46:41.034 algo-1:26 INFO hook.py:591] name:distilbert.transformer.layer.2.ffn.lin1.bias count_params:3072\u001b[0m\n",
      "\u001b[34m[2022-02-18 00:46:41.034 algo-1:26 INFO hook.py:591] name:distilbert.transformer.layer.2.ffn.lin2.weight count_params:2359296\u001b[0m\n",
      "\u001b[34m[2022-02-18 00:46:41.034 algo-1:26 INFO hook.py:591] name:distilbert.transformer.layer.2.ffn.lin2.bias count_params:768\u001b[0m\n",
      "\u001b[34m[2022-02-18 00:46:41.034 algo-1:26 INFO hook.py:591] name:distilbert.transformer.layer.2.output_layer_norm.weight count_params:768\u001b[0m\n",
      "\u001b[34m[2022-02-18 00:46:41.034 algo-1:26 INFO hook.py:591] name:distilbert.transformer.layer.2.output_layer_norm.bias count_params:768\u001b[0m\n",
      "\u001b[34m[2022-02-18 00:46:41.034 algo-1:26 INFO hook.py:591] name:distilbert.transformer.layer.3.attention.q_lin.weight count_params:589824\u001b[0m\n",
      "\u001b[34m[2022-02-18 00:46:41.034 algo-1:26 INFO hook.py:591] name:distilbert.transformer.layer.3.attention.q_lin.bias count_params:768\u001b[0m\n",
      "\u001b[34m[2022-02-18 00:46:41.035 algo-1:26 INFO hook.py:591] name:distilbert.transformer.layer.3.attention.k_lin.weight count_params:589824\u001b[0m\n",
      "\u001b[34m[2022-02-18 00:46:41.035 algo-1:26 INFO hook.py:591] name:distilbert.transformer.layer.3.attention.k_lin.bias count_params:768\u001b[0m\n",
      "\u001b[34m[2022-02-18 00:46:41.035 algo-1:26 INFO hook.py:591] name:distilbert.transformer.layer.3.attention.v_lin.weight count_params:589824\u001b[0m\n",
      "\u001b[34m[2022-02-18 00:46:41.035 algo-1:26 INFO hook.py:591] name:distilbert.transformer.layer.3.attention.v_lin.bias count_params:768\u001b[0m\n",
      "\u001b[34m[2022-02-18 00:46:41.035 algo-1:26 INFO hook.py:591] name:distilbert.transformer.layer.3.attention.out_lin.weight count_params:589824\u001b[0m\n",
      "\u001b[34m[2022-02-18 00:46:41.035 algo-1:26 INFO hook.py:591] name:distilbert.transformer.layer.3.attention.out_lin.bias count_params:768\u001b[0m\n",
      "\u001b[34m[2022-02-18 00:46:41.035 algo-1:26 INFO hook.py:591] name:distilbert.transformer.layer.3.sa_layer_norm.weight count_params:768\u001b[0m\n",
      "\u001b[34m[2022-02-18 00:46:41.035 algo-1:26 INFO hook.py:591] name:distilbert.transformer.layer.3.sa_layer_norm.bias count_params:768\u001b[0m\n",
      "\u001b[34m[2022-02-18 00:46:41.035 algo-1:26 INFO hook.py:591] name:distilbert.transformer.layer.3.ffn.lin1.weight count_params:2359296\u001b[0m\n",
      "\u001b[34m[2022-02-18 00:46:41.036 algo-1:26 INFO hook.py:591] name:distilbert.transformer.layer.3.ffn.lin1.bias count_params:3072\u001b[0m\n",
      "\u001b[34m[2022-02-18 00:46:41.036 algo-1:26 INFO hook.py:591] name:distilbert.transformer.layer.3.ffn.lin2.weight count_params:2359296\u001b[0m\n",
      "\u001b[34m[2022-02-18 00:46:41.036 algo-1:26 INFO hook.py:591] name:distilbert.transformer.layer.3.ffn.lin2.bias count_params:768\u001b[0m\n",
      "\u001b[34m[2022-02-18 00:46:41.036 algo-1:26 INFO hook.py:591] name:distilbert.transformer.layer.3.output_layer_norm.weight count_params:768\u001b[0m\n",
      "\u001b[34m[2022-02-18 00:46:41.036 algo-1:26 INFO hook.py:591] name:distilbert.transformer.layer.3.output_layer_norm.bias count_params:768\u001b[0m\n",
      "\u001b[34m[2022-02-18 00:46:41.036 algo-1:26 INFO hook.py:591] name:distilbert.transformer.layer.4.attention.q_lin.weight count_params:589824\u001b[0m\n",
      "\u001b[34m[2022-02-18 00:46:41.036 algo-1:26 INFO hook.py:591] name:distilbert.transformer.layer.4.attention.q_lin.bias count_params:768\u001b[0m\n",
      "\u001b[34m[2022-02-18 00:46:41.037 algo-1:26 INFO hook.py:591] name:distilbert.transformer.layer.4.attention.k_lin.weight count_params:589824\u001b[0m\n",
      "\u001b[34m[2022-02-18 00:46:41.037 algo-1:26 INFO hook.py:591] name:distilbert.transformer.layer.4.attention.k_lin.bias count_params:768\u001b[0m\n",
      "\u001b[34m[2022-02-18 00:46:41.037 algo-1:26 INFO hook.py:591] name:distilbert.transformer.layer.4.attention.v_lin.weight count_params:589824\u001b[0m\n",
      "\u001b[34m[2022-02-18 00:46:41.037 algo-1:26 INFO hook.py:591] name:distilbert.transformer.layer.4.attention.v_lin.bias count_params:768\u001b[0m\n",
      "\u001b[34m[2022-02-18 00:46:41.037 algo-1:26 INFO hook.py:591] name:distilbert.transformer.layer.4.attention.out_lin.weight count_params:589824\u001b[0m\n",
      "\u001b[34m[2022-02-18 00:46:41.037 algo-1:26 INFO hook.py:591] name:distilbert.transformer.layer.4.attention.out_lin.bias count_params:768\u001b[0m\n",
      "\u001b[34m[2022-02-18 00:46:41.038 algo-1:26 INFO hook.py:591] name:distilbert.transformer.layer.4.sa_layer_norm.weight count_params:768\u001b[0m\n",
      "\u001b[34m[2022-02-18 00:46:41.038 algo-1:26 INFO hook.py:591] name:distilbert.transformer.layer.4.sa_layer_norm.bias count_params:768\u001b[0m\n",
      "\u001b[34m[2022-02-18 00:46:41.038 algo-1:26 INFO hook.py:591] name:distilbert.transformer.layer.4.ffn.lin1.weight count_params:2359296\u001b[0m\n",
      "\u001b[34m[2022-02-18 00:46:41.038 algo-1:26 INFO hook.py:591] name:distilbert.transformer.layer.4.ffn.lin1.bias count_params:3072\u001b[0m\n",
      "\u001b[34m[2022-02-18 00:46:41.038 algo-1:26 INFO hook.py:591] name:distilbert.transformer.layer.4.ffn.lin2.weight count_params:2359296\u001b[0m\n",
      "\u001b[34m[2022-02-18 00:46:41.038 algo-1:26 INFO hook.py:591] name:distilbert.transformer.layer.4.ffn.lin2.bias count_params:768\u001b[0m\n",
      "\u001b[34m[2022-02-18 00:46:41.038 algo-1:26 INFO hook.py:591] name:distilbert.transformer.layer.4.output_layer_norm.weight count_params:768\u001b[0m\n",
      "\u001b[34m[2022-02-18 00:46:41.039 algo-1:26 INFO hook.py:591] name:distilbert.transformer.layer.4.output_layer_norm.bias count_params:768\u001b[0m\n",
      "\u001b[34m[2022-02-18 00:46:41.039 algo-1:26 INFO hook.py:591] name:distilbert.transformer.layer.5.attention.q_lin.weight count_params:589824\u001b[0m\n",
      "\u001b[34m[2022-02-18 00:46:41.039 algo-1:26 INFO hook.py:591] name:distilbert.transformer.layer.5.attention.q_lin.bias count_params:768\u001b[0m\n",
      "\u001b[34m[2022-02-18 00:46:41.039 algo-1:26 INFO hook.py:591] name:distilbert.transformer.layer.5.attention.k_lin.weight count_params:589824\u001b[0m\n",
      "\u001b[34m[2022-02-18 00:46:41.039 algo-1:26 INFO hook.py:591] name:distilbert.transformer.layer.5.attention.k_lin.bias count_params:768\u001b[0m\n",
      "\u001b[34m[2022-02-18 00:46:41.039 algo-1:26 INFO hook.py:591] name:distilbert.transformer.layer.5.attention.v_lin.weight count_params:589824\u001b[0m\n",
      "\u001b[34m[2022-02-18 00:46:41.039 algo-1:26 INFO hook.py:591] name:distilbert.transformer.layer.5.attention.v_lin.bias count_params:768\u001b[0m\n",
      "\u001b[34m[2022-02-18 00:46:41.039 algo-1:26 INFO hook.py:591] name:distilbert.transformer.layer.5.attention.out_lin.weight count_params:589824\u001b[0m\n",
      "\u001b[34m[2022-02-18 00:46:41.039 algo-1:26 INFO hook.py:591] name:distilbert.transformer.layer.5.attention.out_lin.bias count_params:768\u001b[0m\n",
      "\u001b[34m[2022-02-18 00:46:41.040 algo-1:26 INFO hook.py:591] name:distilbert.transformer.layer.5.sa_layer_norm.weight count_params:768\u001b[0m\n",
      "\u001b[34m[2022-02-18 00:46:41.040 algo-1:26 INFO hook.py:591] name:distilbert.transformer.layer.5.sa_layer_norm.bias count_params:768\u001b[0m\n",
      "\u001b[34m[2022-02-18 00:46:41.040 algo-1:26 INFO hook.py:591] name:distilbert.transformer.layer.5.ffn.lin1.weight count_params:2359296\u001b[0m\n",
      "\u001b[34m[2022-02-18 00:46:41.040 algo-1:26 INFO hook.py:591] name:distilbert.transformer.layer.5.ffn.lin1.bias count_params:3072\u001b[0m\n",
      "\u001b[34m[2022-02-18 00:46:41.040 algo-1:26 INFO hook.py:591] name:distilbert.transformer.layer.5.ffn.lin2.weight count_params:2359296\u001b[0m\n",
      "\u001b[34m[2022-02-18 00:46:41.040 algo-1:26 INFO hook.py:591] name:distilbert.transformer.layer.5.ffn.lin2.bias count_params:768\u001b[0m\n",
      "\u001b[34m[2022-02-18 00:46:41.040 algo-1:26 INFO hook.py:591] name:distilbert.transformer.layer.5.output_layer_norm.weight count_params:768\u001b[0m\n",
      "\u001b[34m[2022-02-18 00:46:41.040 algo-1:26 INFO hook.py:591] name:distilbert.transformer.layer.5.output_layer_norm.bias count_params:768\u001b[0m\n",
      "\u001b[34m[2022-02-18 00:46:41.040 algo-1:26 INFO hook.py:591] name:pre_classifier.weight count_params:589824\u001b[0m\n",
      "\u001b[34m[2022-02-18 00:46:41.041 algo-1:26 INFO hook.py:591] name:pre_classifier.bias count_params:768\u001b[0m\n",
      "\u001b[34m[2022-02-18 00:46:41.041 algo-1:26 INFO hook.py:591] name:classifier.weight count_params:1536\u001b[0m\n",
      "\u001b[34m[2022-02-18 00:46:41.041 algo-1:26 INFO hook.py:591] name:classifier.bias count_params:2\u001b[0m\n",
      "\u001b[34m[2022-02-18 00:46:41.041 algo-1:26 INFO hook.py:593] Total Trainable Params: 66955010\u001b[0m\n",
      "\u001b[34m[2022-02-18 00:46:41.041 algo-1:26 INFO hook.py:425] Monitoring the collections: losses\u001b[0m\n",
      "\u001b[34m[2022-02-18 00:46:41.044 algo-1:26 INFO hook.py:488] Hook is writing from the hook with pid: 26\u001b[0m\n",
      "\u001b[34m{'loss': 0.3519, 'learning_rate': 5e-05, 'epoch': 0.64}\u001b[0m\n",
      "\u001b[34m{'eval_loss': 0.19036532938480377, 'eval_accuracy': 0.9273, 'eval_f1': 0.9274523500648637, 'eval_precision': 0.9294, 'eval_recall': 0.9255128460466042, 'eval_runtime': 51.4136, 'eval_samples_per_second': 194.501, 'epoch': 1.0}\u001b[0m\n",
      "\u001b[34m{'train_runtime': 493.8111, 'train_samples_per_second': 1.584, 'epoch': 1.0}\u001b[0m\n",
      "\u001b[34m***** Eval results *****\u001b[0m\n",
      "\u001b[34m#015Downloading:   0%|          | 0.00/483 [00:00<?, ?B/s]#015Downloading: 100%|██████████| 483/483 [00:00<00:00, 566kB/s]\u001b[0m\n",
      "\u001b[34m#015Downloading:   0%|          | 0.00/268M [00:00<?, ?B/s]#015Downloading:   2%|▏         | 5.03M/268M [00:00<00:05, 50.3MB/s]#015Downloading:   4%|▍         | 10.3M/268M [00:00<00:05, 50.9MB/s]#015Downloading:   6%|▌         | 15.4M/268M [00:00<00:04, 50.9MB/s]#015Downloading:   8%|▊         | 20.8M/268M [00:00<00:04, 52.0MB/s]#015Downloading:  10%|▉         | 26.3M/268M [00:00<00:04, 52.8MB/s]#015Downloading:  12%|█▏        | 31.8M/268M [00:00<00:04, 53.5MB/s]#015Downloading:  14%|█▍        | 37.4M/268M [00:00<00:04, 54.1MB/s]#015Downloading:  16%|█▌        | 43.0M/268M [00:00<00:04, 54.7MB/s]#015Downloading:  18%|█▊        | 48.6M/268M [00:00<00:03, 55.0MB/s]#015Downloading:  20%|██        | 54.2M/268M [00:01<00:03, 55.3MB/s]#015Downloading:  22%|██▏       | 59.6M/268M [00:01<00:03, 54.0MB/s]#015Downloading:  24%|██▍       | 65.1M/268M [00:01<00:03, 54.3MB/s]#015Downloading:  26%|██▋       | 70.9M/268M [00:01<00:03, 55.3MB/s]#015Downloading:  29%|██▊       | 76.9M/268M [00:01<00:03, 56.8MB/s]#015Downloading:  31%|███       | 82.8M/268M [00:01<00:03, 57.4MB/s]#015Downloading:  33%|███▎      | 88.7M/268M [00:01<00:03, 57.7MB/s]#015Downloading:  35%|███▌      | 94.8M/268M [00:01<00:02, 58.8MB/s]#015Downloading:  38%|███▊      | 101M/268M [00:01<00:02, 59.5MB/s] #015Downloading:  40%|███▉      | 107M/268M [00:01<00:02, 60.1MB/s]#015Downloading:  42%|████▏     | 113M/268M [00:02<00:02, 60.5MB/s]#015Downloading:  45%|████▍     | 119M/268M [00:02<00:02, 61.0MB/s]#015Downloading:  47%|████▋     | 126M/268M [00:02<00:02, 61.0MB/s]#015Downloading:  49%|████▉     | 132M/268M [00:02<00:02, 60.0MB/s]#015Downloading:  51%|█████▏    | 138M/268M [00:02<00:02, 59.7MB/s]#015Downloading:  54%|█████▎    | 144M/268M [00:02<00:02, 59.7MB/s]#015Downloading:  56%|█████▌    | 150M/268M [00:02<00:01, 60.2MB/s]#015Downloading:  58%|█████▊    | 156M/268M [00:02<00:01, 60.7MB/s]#015Downloading:  61%|██████    | 162M/268M [00:02<00:01, 61.1MB/s]#015Downloading:  63%|██████▎   | 168M/268M [00:02<00:01, 61.3MB/s]#015Downloading:  65%|██████▌   | 175M/268M [00:03<00:01, 61.5MB/s]#015Downloading:  67%|██████▋   | 181M/268M [00:03<00:01, 61.6MB/s]#015Downloading:  70%|██████▉   | 187M/268M [00:03<00:01, 61.2MB/s]#015Downloading:  72%|███████▏  | 193M/268M [00:03<00:01, 53.8MB/s]#015Downloading:  74%|███████▍  | 199M/268M [00:03<00:01, 55.3MB/s]#015Downloading:  76%|███████▋  | 205M/268M [00:03<00:01, 56.2MB/s]#015Downloading:  79%|███████▊  | 211M/268M [00:03<00:00, 57.8MB/s]#015Downloading:  81%|████████  | 217M/268M [00:03<00:00, 59.1MB/s]#015Downloading:  83%|████████▎ | 223M/268M [00:03<00:00, 59.8MB/s]#015Downloading:  86%|████████▌ | 230M/268M [00:03<00:00, 60.5MB/s]#015Downloading:  88%|████████▊ | 236M/268M [00:04<00:00, 60.4MB/s]#015Downloading:  90%|█████████ | 242M/268M [00:04<00:00, 60.9MB/s]#015Downloading:  93%|█████████▎| 248M/268M [00:04<00:00, 61.2MB/s]#015Downloading:  95%|█████████▍| 254M/268M [00:04<00:00, 60.5MB/s]#015Downloading:  97%|█████████▋| 260M/268M [00:04<00:00, 60.9MB/s]#015Downloading:  99%|█████████▉| 267M/268M [00:04<00:00, 60.8MB/s]#015Downloading: 100%|██████████| 268M/268M [00:04<00:00, 58.4MB/s]\u001b[0m\n",
      "\u001b[34mSome weights of the model checkpoint at distilbert-base-uncased were not used when initializing DistilBertForSequenceClassification: ['vocab_projector.bias', 'vocab_projector.weight', 'vocab_layer_norm.weight', 'vocab_layer_norm.bias', 'vocab_transform.weight', 'vocab_transform.bias']\u001b[0m\n",
      "\u001b[34m- This IS expected if you are initializing DistilBertForSequenceClassification from the checkpoint of a model trained on another task or with another architecture (e.g. initializing a BertForSequenceClassification model from a BertForPreTraining model).\u001b[0m\n",
      "\u001b[34m- This IS NOT expected if you are initializing DistilBertForSequenceClassification from the checkpoint of a model that you expect to be exactly identical (initializing a BertForSequenceClassification model from a BertForSequenceClassification model).\u001b[0m\n",
      "\u001b[34mSome weights of DistilBertForSequenceClassification were not initialized from the model checkpoint at distilbert-base-uncased and are newly initialized: ['classifier.bias', 'pre_classifier.bias', 'pre_classifier.weight', 'classifier.weight']\u001b[0m\n",
      "\u001b[34mYou should probably TRAIN this model on a down-stream task to be able to use it for predictions and inference.\u001b[0m\n",
      "\u001b[34m#015Downloading:   0%|          | 0.00/232k [00:00<?, ?B/s]#015Downloading: 100%|██████████| 232k/232k [00:00<00:00, 35.9MB/s]\u001b[0m\n",
      "\u001b[34m#015Downloading:   0%|          | 0.00/466k [00:00<?, ?B/s]#015Downloading: 100%|██████████| 466k/466k [00:00<00:00, 49.2MB/s]\u001b[0m\n",
      "\u001b[34m#015Downloading:   0%|          | 0.00/28.0 [00:00<?, ?B/s]#015Downloading: 100%|██████████| 28.0/28.0 [00:00<00:00, 39.9kB/s]\u001b[0m\n",
      "\u001b[34m2022-02-18 00:55:47,415 sagemaker-training-toolkit INFO     Reporting training SUCCESS\u001b[0m\n",
      "\u001b[34m#015  0%|          | 0/782 [00:00<?, ?it/s]#015  0%|          | 1/782 [00:02<32:32,  2.50s/it]#015  0%|          | 2/782 [00:03<24:53,  1.92s/it]#015  0%|          | 3/782 [00:03<19:41,  1.52s/it]#015  1%|          | 4/782 [00:04<15:58,  1.23s/it]#015  1%|          | 5/782 [00:04<13:15,  1.02s/it]#015  1%|          | 6/782 [00:05<11:23,  1.14it/s]#015  1%|          | 7/782 [00:05<10:16,  1.26it/s]#015  1%|          | 8/782 [00:06<09:17,  1.39it/s]#015  1%|          | 9/782 [00:06<08:36,  1.50it/s]#015  1%|▏         | 10/782 [00:07<08:16,  1.56it/s]#015  1%|▏         | 11/782 [00:08<07:56,  1.62it/s]#015  2%|▏         | 12/782 [00:08<07:38,  1.68it/s]#015  2%|▏         | 13/782 [00:09<07:30,  1.71it/s]#015  2%|▏         | 14/782 [00:09<07:20,  1.74it/s]#015  2%|▏         | 15/782 [00:10<07:11,  1.78it/s]#015  2%|▏         | 16/782 [00:10<07:07,  1.79it/s]#015  2%|▏         | 17/782 [00:11<07:05,  1.80it/s]#015  2%|▏         | 18/782 [00:11<07:03,  1.80it/s]#015  2%|▏         | 19/782 [00:12<06:59,  1.82it/s]#015  3%|▎         | 20/782 [00:13<06:57,  1.82it/s]#015  3%|▎         | 21/782 [00:13<06:57,  1.82it/s]#015  3%|▎         | 22/782 [00:14<06:56,  1.83it/s]#015  3%|▎         | 23/782 [00:14<07:00,  1.80it/s]#015  3%|▎         | 24/782 [00:15<06:57,  1.81it/s]#015  3%|▎         | 25/782 [00:15<06:54,  1.82it/s]#015  3%|▎         | 26/782 [00:16<06:52,  1.83it/s]#015  3%|▎         | 27/782 [00:16<06:53,  1.83it/s]#015  4%|▎         | 28/782 [00:17<06:50,  1.84it/s]#015  4%|▎         | 29/782 [00:17<06:49,  1.84it/s]#015  4%|▍         | 30/782 [00:18<06:50,  1.83it/s]#015  4%|▍         | 31/782 [00:19<06:51,  1.82it/s]#015  4%|▍         | 32/782 [00:19<07:02,  1.78it/s]#015  4%|▍         | 33/782 [00:20<06:55,  1.80it/s]#015  4%|▍         | 34/782 [00:20<06:51,  1.82it/s]#015  4%|▍         | 35/782 [00:21<06:52,  1.81it/s]#015  5%|▍         | 36/782 [00:21<06:56,  1.79it/s]#015  5%|▍         | 37/782 [00:22<06:55,  1.79it/s]#015  5%|▍         | 38/782 [00:22<06:53,  1.80it/s]#015  5%|▍         | 39/782 [00:23<06:48,  1.82it/s]#015  5%|▌         | 40/782 [00:24<06:49,  1.81it/s]#015  5%|▌         | 41/782 [00:24<06:52,  1.80it/s]#015  5%|▌         | 42/782 [00:25<06:49,  1.81it/s]#015  5%|▌         | 43/782 [00:25<06:45,  1.82it/s]#015  6%|▌         | 44/782 [00:26<06:43,  1.83it/s]#015  6%|▌         | 45/782 [00:26<06:44,  1.82it/s]#015  6%|▌         | 46/782 [00:27<06:43,  1.83it/s]#015  6%|▌         | 47/782 [00:27<06:44,  1.82it/s]#015  6%|▌         | 48/782 [00:28<06:42,  1.82it/s]#015  6%|▋         | 49/782 [00:28<06:39,  1.84it/s]#015  6%|▋         | 50/782 [00:29<06:38,  1.84it/s]#015  7%|▋         | 51/782 [00:30<06:37,  1.84it/s]#015  7%|▋         | 52/782 [00:30<06:39,  1.83it/s]#015  7%|▋         | 53/782 [00:31<06:37,  1.83it/s]#015  7%|▋         | 54/782 [00:31<06:37,  1.83it/s]#015  7%|▋         | 55/782 [00:32<06:36,  1.83it/s]#015  7%|▋         | 56/782 [00:32<06:37,  1.83it/s]#015  7%|▋         | 57/782 [00:33<06:38,  1.82it/s]#015  7%|▋         | 58/782 [00:33<06:37,  1.82it/s]#015  8%|▊         | 59/782 [00:34<06:34,  1.83it/s]#015  8%|▊         | 60/782 [00:35<06:33,  1.83it/s]#015  8%|▊         | 61/782 [00:35<06:34,  1.83it/s]#015  8%|▊         | 62/782 [00:36<06:36,  1.81it/s]#015  8%|▊         | 63/782 [00:36<06:34,  1.82it/s]#015  8%|▊         | 64/782 [00:37<06:32,  1.83it/s]#015  8%|▊         | 65/782 [00:37<06:32,  1.83it/s]#015  8%|▊         | 66/782 [00:38<06:34,  1.82it/s]#015  9%|▊         | 67/782 [00:38<06:37,  1.80it/s]#015  9%|▊         | 68/782 [00:39<06:42,  1.77it/s]#015  9%|▉         | 69/782 [00:40<06:39,  1.79it/s]#015  9%|▉         | 70/782 [00:40<06:35,  1.80it/s]#015  9%|▉         | 71/782 [00:41<06:32,  1.81it/s]#015  9%|▉         | 72/782 [00:41<06:33,  1.81it/s]#015  9%|▉         | 73/782 [00:42<06:42,  1.76it/s]#015  9%|▉         | 74/782 [00:42<06:45,  1.75it/s]#015 10%|▉         | 75/782 [00:43<06:39,  1.77it/s]#015 10%|▉         | 76/782 [00:43<06:35,  1.78it/s]#015 10%|▉         | 77/782 [00:44<06:33,  1.79it/s]#015 10%|▉         | 78/782 [00:45<06:32,  1.79it/s]#015 10%|█         | 79/782 [00:45<06:30,  1.80it/s]#015 10%|█         | 80/782 [00:46<06:28,  1.81it/s]#015 10%|█         | 81/782 [00:46<06:30,  1.80it/s]#015 10%|█         | 82/782 [00:47<06:30,  1.79it/s]#015 11%|█         | 83/782 [00:47<06:30,  1.79it/s]#015 11%|█         | 84/782 [00:48<06:29,  1.79it/s]#015 11%|█         | 85/782 [00:48<06:27,  1.80it/s]#015 11%|█         | 86/782 [00:49<06:25,  1.81it/s]#015 11%|█         | 87/782 [00:50<06:25,  1.80it/s]#015 11%|█▏        | 88/782 [00:50<06:30,  1.78it/s]#015 11%|█▏        | 89/782 [00:51<06:27,  1.79it/s]#015 12%|█▏        | 90/782 [00:51<06:24,  1.80it/s]#015 12%|█▏        | 91/782 [00:52<06:25,  1.79it/s]#015 12%|█▏        | 92/782 [00:52<06:25,  1.79it/s]#015 12%|█▏        | 93/782 [00:53<06:25,  1.79it/s]#015 12%|█▏        | 94/782 [00:53<06:23,  1.80it/s]#015 12%|█▏        | 95/782 [00:54<06:20,  1.80it/s]#015 12%|█▏        | 96/782 [00:55<06:24,  1.78it/s]#015 12%|█▏        | 97/782 [00:55<06:20,  1.80it/s]#015 13%|█▎        | 98/782 [00:56<06:19,  1.80it/s]#015 13%|█▎        | 99/782 [00:56<06:18,  1.80it/s]#015 13%|█▎        | 100/782 [00:57<06:16,  1.81it/s]#015 13%|█▎        | 101/782 [00:57<06:15,  1.81it/s]#015 13%|█▎        | 102/782 [00:58<06:18,  1.80it/s]#015 13%|█▎        | 103/782 [00:58<06:22,  1.77it/s]#015 13%|█▎        | 104/782 [00:59<06:22,  1.77it/s]#015 13%|█▎        | 105/782 [01:00<06:20,  1.78it/s]#015 14%|█▎        | 106/782 [01:00<06:18,  1.79it/s]#015 14%|█▎        | 107/782 [01:01<06:16,  1.79it/s]#015 14%|█▍        | 108/782 [01:01<06:14,  1.80it/s]#015 14%|█▍        | 109/782 [01:02<06:13,  1.80it/s]#015 14%|█▍        | 110/782 [01:02<06:12,  1.81it/s]#015 14%|█▍        | 111/782 [01:03<06:12,  1.80it/s]#015 14%|█▍        | 112/782 [01:04<06:15,  1.79it/s]#015 14%|█▍        | 113/782 [01:04<06:15,  1.78it/s]#015 15%|█▍        | 114/782 [01:05<06:12,  1.80it/s]#015 15%|█▍        | 115/782 [01:05<06:09,  1.80it/s]#015 15%|█▍        | 116/782 [01:06<06:07,  1.81it/s]#015 15%|█▍        | 117/782 [01:06<06:06,  1.82it/s]#015 15%|█▌        | 118/782 [01:07<06:06,  1.81it/s]#015 15%|█▌        | 119/782 [01:07<06:06,  1.81it/s]#015 15%|█▌        | 120/782 [01:08<06:07,  1.80it/s]#015 15%|█▌        | 121/782 [01:08<06:06,  1.80it/s]#015 16%|█▌        | 122/782 [01:09<06:04,  1.81it/s]#015 16%|█▌        | 123/782 [01:10<06:06,  1.80it/s]#015 16%|█▌        | 124/782 [01:10<06:06,  1.79it/s]#015 16%|█▌        | 125/782 [01:11<06:07,  1.79it/s]#015 16%|█▌        | 126/782 [01:11<06:05,  1.79it/s]#015 16%|█▌        | 127/782 [01:12<06:03,  1.80it/s]#015 16%|█▋        | 128/782 [01:12<06:01,  1.81it/s]#015 16%|█▋        | 129/782 [01:13<06:09,  1.77it/s]#015 17%|█▋        | 130/782 [01:14<06:06,  1.78it/s]#015 17%|█▋        | 131/782 [01:14<06:04,  1.78it/s]#015 17%|█▋        | 132/782 [01:15<06:02,  1.79it/s]#015 17%|█▋        | 133/782 [01:15<06:00,  1.80it/s]#015 17%|█▋        | 134/782 [01:16<06:02,  1.79it/s]#015 17%|█▋        | 135/782 [01:16<06:02,  1.79it/s]#015 17%|█▋        | 136/782 [01:17<06:00,  1.79it/s]#015 18%|█▊        | 137/782 [01:17<05:59,  1.79it/s]#015 18%|█▊        | 138/782 [01:18<06:02,  1.78it/s]#015 18%|█▊        | 139/782 [01:19<06:00,  1.78it/s]#015 18%|█▊        | 140/782 [01:19<05:58,  1.79it/s]#015 18%|█▊        | 141/782 [01:20<05:57,  1.79it/s]#015 18%|█▊        | 142/782 [01:20<05:55,  1.80it/s]#015 18%|█▊        | 143/782 [01:21<05:58,  1.78it/s]#015 18%|█▊        | 144/782 [01:21<06:01,  1.76it/s]#015 19%|█▊        | 145/782 [01:22<05:59,  1.77it/s]#015 19%|█▊        | 146/782 [01:23<06:01,  1.76it/s]#015 19%|█▉        | 147/782 [01:23<06:03,  1.75it/s]#015 19%|█▉        | 148/782 [01:24<06:02,  1.75it/s]#015 19%|█▉        | 149/782 [01:24<06:04,  1.74it/s]#015 19%|█▉        | 150/782 [01:25<06:01,  1.75it/s]#015 19%|█▉        | 151/782 [01:25<05:57,  1.76it/s]#015 19%|█▉        | 152/782 [01:26<05:56,  1.77it/s]#015 20%|█▉        | 153/782 [01:26<05:53,  1.78it/s]#015 20%|█▉        | 154/782 [01:27<05:53,  1.78it/s]#015 20%|█▉        | 155/782 [01:28<05:52,  1.78it/s]#015 20%|█▉        | 156/782 [01:28<05:54,  1.77it/s]#015 20%|██        | 157/782 [01:29<05:52,  1.78it/s]#015 20%|██        | 158/782 [01:29<05:50,  1.78it/s]#015 20%|██        | 159/782 [01:30<05:48,  1.79it/s]#015 20%|██        | 160/782 [01:30<05:47,  1.79it/s]#015 21%|██        | 161/782 [01:31<05:48,  1.78it/s]#015 21%|██        | 162/782 [01:32<05:46,  1.79it/s]#015 21%|██        | 163/782 [01:32<05:45,  1.79it/s]#015 21%|██        | 164/782 [01:33<05:45,  1.79it/s]#015 21%|██        | 165/782 [01:33<05:47,  1.77it/s]#015 21%|██        | 166/782 [01:34<05:47,  1.77it/s]#015 21%|██▏       | 167/782 [01:34<05:46,  1.77it/s]#015 21%|██▏       | 168/782 [01:35<05:45,  1.77it/s]#015 22%|██▏       | 169/782 [01:35<05:43,  1.79it/s]#015 22%|██▏       | 170/782 [01:36<05:41,  1.79it/s]#015 22%|██▏       | 171/782 [01:37<05:40,  1.80it/s]#015 22%|██▏       | 172/782 [01:37<05:41,  1.79it/s]#015 22%|██▏       | 173/782 [01:38<05:40,  1.79it/s]#015 22%|██▏       | 174/782 [01:38<05:42,  1.77it/s]#015 22%|██▏       | 175/782 [01:39<05:40,  1.78it/s]#015 23%|██▎       | 176/782 [01:39<05:40,  1.78it/s]#015 23%|██▎       | 177/782 [01:40<05:37,  1.79it/s]#015 23%|██▎       | 178/782 [01:40<05:36,  1.79it/s]#015 23%|██▎       | 179/782 [01:41<05:34,  1.80it/s]#015 23%|██▎       | 180/782 [01:42<05:33,  1.80it/s]#015 23%|██▎       | 181/782 [01:42<05:35,  1.79it/s]#015 23%|██▎       | 182/782 [01:43<05:35,  1.79it/s]#015 23%|██▎       | 183/782 [01:43<05:34,  1.79it/s]#015 24%|██▎       | 184/782 [01:44<05:36,  1.78it/s]#015 24%|██▎       | 185/782 [01:44<05:34,  1.78it/s]#015 24%|██▍       | 186/782 [01:45<05:33,  1.79it/s]#015 24%|██▍       | 187/782 [01:46<05:32,  1.79it/s]#015 24%|██▍       | 188/782 [01:46<05:33,  1.78it/s]#015 24%|██▍       | 189/782 [01:47<05:33,  1.78it/s]#015 24%|██▍       | 190/782 [01:47<05:31,  1.78it/s]#015 24%|██▍       | 191/782 [01:48<05:36,  1.76it/s]#015 25%|██▍       | 192/782 [01:48<05:33,  1.77it/s]#015 25%|██▍       | 193/782 [01:49<05:32,  1.77it/s]#015 25%|██▍       | 194/782 [01:49<05:30,  1.78it/s]#015 25%|██▍       | 195/782 [01:50<05:30,  1.78it/s]#015 25%|██▌       | 196/782 [01:51<05:28,  1.78it/s]#015 25%|██▌       | 197/782 [01:51<05:27,  1.79it/s]#015 25%|██▌       | 198/782 [01:52<05:26,  1.79it/s]#015 25%|██▌       | 199/782 [01:52<05:25,  1.79it/s]#015 26%|██▌       | 200/782 [01:53<05:23,  1.80it/s]#015 26%|██▌       | 201/782 [01:53<05:25,  1.78it/s]#015 26%|██▌       | 202/782 [01:54<05:25,  1.78it/s]#015 26%|██▌       | 203/782 [01:55<05:24,  1.78it/s]#015 26%|██▌       | 204/782 [01:55<05:24,  1.78it/s]#015 26%|██▌       | 205/782 [01:56<05:22,  1.79it/s]#015 26%|██▋       | 206/782 [01:56<05:21,  1.79it/s]#015 26%|██▋       | 207/782 [01:57<05:20,  1.79it/s]#015 27%|██▋       | 208/782 [01:57<05:19,  1.80it/s]#015 27%|██▋       | 209/782 [01:58<05:19,  1.79it/s]#015 27%|██▋       | 210/782 [01:58<05:21,  1.78it/s]#015 27%|██▋       | 211/782 [01:59<05:19,  1.79it/s]#015 27%|██▋       | 212/782 [02:00<05:19,  1.79it/s]#015 27%|██▋       | 213/782 [02:00<05:18,  1.79it/s]#015 27%|██▋       | 214/782 [02:01<05:16,  1.79it/s]#015 27%|██▋       | 215/782 [02:01<05:15,  1.80it/s]#015 28%|██▊       | 216/782 [02:02<05:15,  1.80it/s]#015 28%|██▊       | 217/782 [02:02<05:14,  1.80it/s]#015 28%|██▊       | 218/782 [02:03<05:12,  1.80it/s]#015 28%|██▊       | 219/782 [02:03<05:13,  1.79it/s]#015 28%|██▊       | 220/782 [02:04<05:20,  1.75it/s]#015 28%|██▊       | 221/782 [02:05<05:19,  1.75it/s]#015 28%|██▊       | 222/782 [02:05<05:15,  1.78it/s]#015 29%|██▊       | 223/782 [02:06<05:15,  1.77it/s]#015 29%|██▊       | 224/782 [02:06<05:13,  1.78it/s]#015 29%|██▉       | 225/782 [02:07<05:10,  1.79it/s]#015 29%|██▉       | 226/782 [02:07<05:09,  1.80it/s]#015 29%|██▉       | 227/782 [02:08<05:08,  1.80it/s]#015 29%|██▉       | 228/782 [02:08<05:08,  1.80it/s]#015 29%|██▉       | 229/782 [02:09<05:08,  1.79it/s]#015 29%|██▉       | 230/782 [02:10<05:08,  1.79it/s]#015 30%|██▉       | 231/782 [02:10<05:07,  1.79it/s]#015 30%|██▉       | 232/782 [02:11<05:07,  1.79it/s]#015 30%|██▉       | 233/782 [02:11<05:06,  1.79it/s]#015 30%|██▉       | 234/782 [02:12<05:05,  1.79it/s]#015 30%|███       | 235/782 [02:12<05:05,  1.79it/s]#015 30%|███       | 236/782 [02:13<05:05,  1.79it/s]#015 30%|███       | 237/782 [02:14<05:04,  1.79it/s]#015 30%|███       | 238/782 [02:14<05:06,  1.78it/s]#015 31%|███       | 239/782 [02:15<05:07,  1.76it/s]#015 31%|███       | 240/782 [02:15<05:05,  1.78it/s]#015 31%|███       | 241/782 [02:16<05:04,  1.77it/s]#015 31%|███       | 242/782 [02:16<05:01,  1.79it/s]#015 31%|███       | 243/782 [02:17<05:02,  1.78it/s]#015 31%|███       | 244/782 [02:17<05:00,  1.79it/s]#015 31%|███▏      | 245/782 [02:18<04:59,  1.80it/s]#015 31%|███▏      | 246/782 [02:19<04:58,  1.80it/s]#015 32%|███▏      | 247/782 [02:19<05:00,  1.78it/s]#015 32%|███▏      | 248/782 [02:20<05:00,  1.78it/s]#015 32%|███▏      | 249/782 [02:20<04:58,  1.79it/s]#015 32%|███▏      | 250/782 [02:21<05:02,  1.76it/s]#015 32%|███▏      | 251/782 [02:21<05:00,  1.77it/s]#015 32%|███▏      | 252/782 [02:22<05:05,  1.74it/s]#015 32%|███▏      | 253/782 [02:23<05:04,  1.74it/s]#015 32%|███▏      | 254/782 [02:23<05:07,  1.72it/s]#015 33%|███▎      | 255/782 [02:24<05:05,  1.73it/s]#015 33%|███▎      | 256/782 [02:24<05:07,  1.71it/s]#015 33%|███▎      | 257/782 [02:25<05:05,  1.72it/s]#015 33%|███▎      | 258/782 [02:25<05:01,  1.74it/s]#015 33%|███▎      | 259/782 [02:26<04:58,  1.75it/s]#015 33%|███▎      | 260/782 [02:27<04:56,  1.76it/s]#015 33%|███▎      | 261/782 [02:27<04:53,  1.77it/s]#015 34%|███▎      | 262/782 [02:28<04:52,  1.78it/s]#015 34%|███▎      | 263/782 [02:28<04:55,  1.75it/s]#015 34%|███▍      | 264/782 [02:29<04:52,  1.77it/s]#015 34%|███▍      | 265/782 [02:29<04:51,  1.77it/s]#015 34%|███▍      | 266/782 [02:30<04:50,  1.77it/s]#015 34%|███▍      | 267/782 [02:31<04:48,  1.79it/s]#015 34%|███▍      | 268/782 [02:31<04:46,  1.80it/s]#015 34%|███▍      | 269/782 [02:32<04:46,  1.79it/s]#015 35%|███▍      | 270/782 [02:32<04:45,  1.79it/s]#015 35%|███▍      | 271/782 [02:33<04:46,  1.78it/s]#015 35%|███▍      | 272/782 [02:33<04:44,  1.79it/s]#015 35%|███▍      | 273/782 [02:34<04:43,  1.79it/s]#015 35%|███▌      | 274/782 [02:34<04:44,  1.79it/s]#015 35%|███▌      | 275/782 [02:35<04:42,  1.79it/s]#015 35%|███▌      | 276/782 [02:36<04:41,  1.80it/s]#015 35%|███▌      | 277/782 [02:36<04:42,  1.79it/s]#015 36%|███▌      | 278/782 [02:37<04:41,  1.79it/s]#015 36%|███▌      | 279/782 [02:37<04:40,  1.79it/s]#015 36%|███▌      | 280/782 [02:38<04:41,  1.79it/s]#015 36%|███▌      | 281/782 [02:38<04:40,  1.79it/s]#015 36%|███▌      | 282/782 [02:39<04:38,  1.79it/s]#015 36%|███▌      | 283/782 [02:39<04:38,  1.79it/s]#015 36%|███▋      | 284/782 [02:40<04:37,  1.79it/s]#015 36%|███▋      | 285/782 [02:41<04:36,  1.79it/s]#015 37%|███▋      | 286/782 [02:41<04:35,  1.80it/s]#015 37%|███▋      | 287/782 [02:42<04:34,  1.80it/s]#015 37%|███▋      | 288/782 [02:42<04:37,  1.78it/s]#015 37%|███▋      | 289/782 [02:43<04:35,  1.79it/s]#015 37%|███▋      | 290/782 [02:43<04:34,  1.79it/s]#015 37%|███▋      | 291/782 [02:44<04:35,  1.78it/s]#015 37%|███▋      | 292/782 [02:45<04:37,  1.77it/s]#015 37%|███▋      | 293/782 [02:45<04:35,  1.78it/s]#015 38%|███▊      | 294/782 [02:46<04:34,  1.78it/s]#015 38%|███▊      | 295/782 [02:46<04:32,  1.79it/s]#015 38%|███▊      | 296/782 [02:47<04:33,  1.77it/s]#015 38%|███▊      | 297/782 [02:47<04:35,  1.76it/s]#015 38%|███▊      | 298/782 [02:48<04:33,  1.77it/s]#015 38%|███▊      | 299/782 [02:48<04:32,  1.77it/s]#015 38%|███▊      | 300/782 [02:49<04:31,  1.77it/s]#015 38%|███▊      | 301/782 [02:50<04:30,  1.78it/s]#015 39%|\u001b[0m\n",
      "\u001b[34m███▊      | 302/782 [02:50<04:28,  1.79it/s]#015 39%|███▊      | 303/782 [02:51<04:27,  1.79it/s]#015 39%|███▉      | 304/782 [02:51<04:28,  1.78it/s]#015 39%|███▉      | 305/782 [02:52<04:29,  1.77it/s]#015 39%|███▉      | 306/782 [02:52<04:29,  1.77it/s]#015 39%|███▉      | 307/782 [02:53<04:27,  1.78it/s]#015 39%|███▉      | 308/782 [02:54<04:27,  1.77it/s]#015 40%|███▉      | 309/782 [02:54<04:25,  1.78it/s]#015 40%|███▉      | 310/782 [02:55<04:24,  1.79it/s]#015 40%|███▉      | 311/782 [02:55<04:22,  1.80it/s]#015 40%|███▉      | 312/782 [02:56<04:21,  1.80it/s]#015 40%|████      | 313/782 [02:56<04:21,  1.80it/s]#015 40%|████      | 314/782 [02:57<04:19,  1.80it/s]#015 40%|████      | 315/782 [02:57<04:18,  1.81it/s]#015 40%|████      | 316/782 [02:58<04:17,  1.81it/s]#015 41%|████      | 317/782 [02:59<04:19,  1.79it/s]#015 41%|████      | 318/782 [02:59<04:17,  1.80it/s]#015 41%|████      | 319/782 [03:00<04:18,  1.79it/s]#015 41%|████      | 320/782 [03:00<04:19,  1.78it/s]#015 41%|████      | 321/782 [03:01<04:18,  1.78it/s]#015 41%|████      | 322/782 [03:01<04:23,  1.75it/s]#015 41%|████▏     | 323/782 [03:02<04:21,  1.75it/s]#015 41%|████▏     | 324/782 [03:02<04:21,  1.75it/s]#015 42%|████▏     | 325/782 [03:03<04:20,  1.76it/s]#015 42%|████▏     | 326/782 [03:04<04:19,  1.76it/s]#015 42%|████▏     | 327/782 [03:04<04:15,  1.78it/s]#015 42%|████▏     | 328/782 [03:05<04:14,  1.79it/s]#015 42%|████▏     | 329/782 [03:05<04:15,  1.78it/s]#015 42%|████▏     | 330/782 [03:06<04:13,  1.78it/s]#015 42%|████▏     | 331/782 [03:06<04:12,  1.79it/s]#015 42%|████▏     | 332/782 [03:07<04:11,  1.79it/s]#015 43%|████▎     | 333/782 [03:08<04:10,  1.79it/s]#015 43%|████▎     | 334/782 [03:08<04:09,  1.80it/s]#015 43%|████▎     | 335/782 [03:09<04:12,  1.77it/s]#015 43%|████▎     | 336/782 [03:09<04:10,  1.78it/s]#015 43%|████▎     | 337/782 [03:10<04:09,  1.78it/s]#015 43%|████▎     | 338/782 [03:10<04:08,  1.79it/s]#015 43%|████▎     | 339/782 [03:11<04:07,  1.79it/s]#015 43%|████▎     | 340/782 [03:11<04:06,  1.79it/s]#015 44%|████▎     | 341/782 [03:12<04:05,  1.80it/s]#015 44%|████▎     | 342/782 [03:13<04:05,  1.79it/s]#015 44%|████▍     | 343/782 [03:13<04:05,  1.78it/s]#015 44%|████▍     | 344/782 [03:14<04:05,  1.78it/s]#015 44%|████▍     | 345/782 [03:14<04:05,  1.78it/s]#015 44%|████▍     | 346/782 [03:15<04:03,  1.79it/s]#015 44%|████▍     | 347/782 [03:15<04:04,  1.78it/s]#015 45%|████▍     | 348/782 [03:16<04:03,  1.78it/s]#015 45%|████▍     | 349/782 [03:16<04:03,  1.78it/s]#015 45%|████▍     | 350/782 [03:17<04:02,  1.78it/s]#015 45%|████▍     | 351/782 [03:18<04:01,  1.79it/s]#015 45%|████▌     | 352/782 [03:18<04:00,  1.79it/s]#015 45%|████▌     | 353/782 [03:19<03:59,  1.79it/s]#015 45%|████▌     | 354/782 [03:19<03:58,  1.79it/s]#015 45%|████▌     | 355/782 [03:20<03:59,  1.78it/s]#015 46%|████▌     | 356/782 [03:20<03:58,  1.78it/s]#015 46%|████▌     | 357/782 [03:21<04:01,  1.76it/s]#015 46%|████▌     | 358/782 [03:22<03:59,  1.77it/s]#015 46%|████▌     | 359/782 [03:22<03:57,  1.78it/s]#015 46%|████▌     | 360/782 [03:23<04:00,  1.76it/s]#015 46%|████▌     | 361/782 [03:23<03:57,  1.77it/s]#015 46%|████▋     | 362/782 [03:24<03:57,  1.77it/s]#015 46%|████▋     | 363/782 [03:24<03:57,  1.76it/s]#015 47%|████▋     | 364/782 [03:25<03:57,  1.76it/s]#015 47%|████▋     | 365/782 [03:26<03:58,  1.75it/s]#015 47%|████▋     | 366/782 [03:26<03:58,  1.75it/s]#015 47%|████▋     | 367/782 [03:27<03:57,  1.75it/s]#015 47%|████▋     | 368/782 [03:27<04:00,  1.72it/s]#015 47%|████▋     | 369/782 [03:28<03:57,  1.74it/s]#015 47%|████▋     | 370/782 [03:28<03:54,  1.76it/s]#015 47%|████▋     | 371/782 [03:29<03:53,  1.76it/s]#015 48%|████▊     | 372/782 [03:30<03:51,  1.77it/s]#015 48%|████▊     | 373/782 [03:30<03:52,  1.76it/s]#015 48%|████▊     | 374/782 [03:31<03:50,  1.77it/s]#015 48%|████▊     | 375/782 [03:31<03:49,  1.77it/s]#015 48%|████▊     | 376/782 [03:32<03:48,  1.78it/s]#015 48%|████▊     | 377/782 [03:32<03:47,  1.78it/s]#015 48%|████▊     | 378/782 [03:33<03:46,  1.79it/s]#015 48%|████▊     | 379/782 [03:33<03:44,  1.79it/s]#015 49%|████▊     | 380/782 [03:34<03:43,  1.80it/s]#015 49%|████▊     | 381/782 [03:35<03:43,  1.79it/s]#015 49%|████▉     | 382/782 [03:35<03:44,  1.78it/s]#015 49%|████▉     | 383/782 [03:36<03:42,  1.79it/s]#015 49%|████▉     | 384/782 [03:36<03:42,  1.79it/s]#015 49%|████▉     | 385/782 [03:37<03:42,  1.78it/s]#015 49%|████▉     | 386/782 [03:37<03:41,  1.79it/s]#015 49%|████▉     | 387/782 [03:38<03:40,  1.79it/s]#015 50%|████▉     | 388/782 [03:38<03:40,  1.79it/s]#015 50%|████▉     | 389/782 [03:39<03:39,  1.79it/s]#015 50%|████▉     | 390/782 [03:40<03:38,  1.79it/s]#015 50%|█████     | 391/782 [03:40<03:37,  1.80it/s]#015 50%|█████     | 392/782 [03:41<03:40,  1.77it/s]#015 50%|█████     | 393/782 [03:41<03:40,  1.76it/s]#015 50%|█████     | 394/782 [03:42<03:39,  1.77it/s]#015 51%|█████     | 395/782 [03:42<03:38,  1.77it/s]#015 51%|█████     | 396/782 [03:43<03:36,  1.78it/s]#015 51%|█████     | 397/782 [03:44<03:35,  1.79it/s]#015 51%|█████     | 398/782 [03:44<03:34,  1.79it/s]#015 51%|█████     | 399/782 [03:45<03:34,  1.78it/s]#015 51%|█████     | 400/782 [03:45<03:33,  1.79it/s]#015 51%|█████▏    | 401/782 [03:46<03:32,  1.79it/s]#015 51%|█████▏    | 402/782 [03:46<03:32,  1.79it/s]#015 52%|█████▏    | 403/782 [03:47<03:31,  1.79it/s]#015 52%|█████▏    | 404/782 [03:47<03:31,  1.79it/s]#015 52%|█████▏    | 405/782 [03:48<03:30,  1.79it/s]#015 52%|█████▏    | 406/782 [03:49<03:33,  1.77it/s]#015 52%|█████▏    | 407/782 [03:49<03:30,  1.78it/s]#015 52%|█████▏    | 408/782 [03:50<03:34,  1.75it/s]#015 52%|█████▏    | 409/782 [03:50<03:31,  1.76it/s]#015 52%|█████▏    | 410/782 [03:51<03:29,  1.78it/s]#015 53%|█████▎    | 411/782 [03:51<03:29,  1.77it/s]#015 53%|█████▎    | 412/782 [03:52<03:27,  1.78it/s]#015 53%|█████▎    | 413/782 [03:53<03:27,  1.78it/s]#015 53%|█████▎    | 414/782 [03:53<03:26,  1.78it/s]#015 53%|█████▎    | 415/782 [03:54<03:25,  1.79it/s]#015 53%|█████▎    | 416/782 [03:54<03:23,  1.80it/s]#015 53%|█████▎    | 417/782 [03:55<03:22,  1.80it/s]#015 53%|█████▎    | 418/782 [03:55<03:22,  1.80it/s]#015 54%|█████▎    | 419/782 [03:56<03:21,  1.80it/s]#015 54%|█████▎    | 420/782 [03:56<03:20,  1.80it/s]#015 54%|█████▍    | 421/782 [03:57<03:21,  1.79it/s]#015 54%|█████▍    | 422/782 [03:58<03:20,  1.79it/s]#015 54%|█████▍    | 423/782 [03:58<03:19,  1.80it/s]#015 54%|█████▍    | 424/782 [03:59<03:18,  1.80it/s]#015 54%|█████▍    | 425/782 [03:59<03:19,  1.79it/s]#015 54%|█████▍    | 426/782 [04:00<03:18,  1.80it/s]#015 55%|█████▍    | 427/782 [04:00<03:18,  1.79it/s]#015 55%|█████▍    | 428/782 [04:01<03:17,  1.80it/s]#015 55%|█████▍    | 429/782 [04:01<03:16,  1.79it/s]#015 55%|█████▍    | 430/782 [04:02<03:16,  1.79it/s]#015 55%|█████▌    | 431/782 [04:03<03:17,  1.78it/s]#015 55%|█████▌    | 432/782 [04:03<03:16,  1.78it/s]#015 55%|█████▌    | 433/782 [04:04<03:16,  1.78it/s]#015 55%|█████▌    | 434/782 [04:04<03:14,  1.79it/s]#015 56%|█████▌    | 435/782 [04:05<03:15,  1.78it/s]#015 56%|█████▌    | 436/782 [04:05<03:13,  1.78it/s]#015 56%|█████▌    | 437/782 [04:06<03:12,  1.79it/s]#015 56%|█████▌    | 438/782 [04:06<03:11,  1.79it/s]#015 56%|█████▌    | 439/782 [04:07<03:10,  1.80it/s]#015 56%|█████▋    | 440/782 [04:08<03:09,  1.80it/s]#015 56%|█████▋    | 441/782 [04:08<03:10,  1.79it/s]#015 57%|█████▋    | 442/782 [04:09<03:10,  1.78it/s]#015 57%|█████▋    | 443/782 [04:09<03:08,  1.79it/s]#015 57%|█████▋    | 444/782 [04:10<03:10,  1.78it/s]#015 57%|█████▋    | 445/782 [04:10<03:08,  1.79it/s]#015 57%|█████▋    | 446/782 [04:11<03:10,  1.76it/s]#015 57%|█████▋    | 447/782 [04:12<03:09,  1.77it/s]#015 57%|█████▋    | 448/782 [04:12<03:08,  1.78it/s]#015 57%|█████▋    | 449/782 [04:13<03:06,  1.79it/s]#015 58%|█████▊    | 450/782 [04:13<03:06,  1.78it/s]#015 58%|█████▊    | 451/782 [04:14<03:06,  1.77it/s]#015 58%|█████▊    | 452/782 [04:14<03:05,  1.78it/s]#015 58%|█████▊    | 453/782 [04:15<03:04,  1.79it/s]#015 58%|█████▊    | 454/782 [04:15<03:03,  1.79it/s]#015 58%|█████▊    | 455/782 [04:16<03:02,  1.79it/s]#015 58%|█████▊    | 456/782 [04:17<03:02,  1.79it/s]#015 58%|█████▊    | 457/782 [04:17<03:02,  1.78it/s]#015 59%|█████▊    | 458/782 [04:18<03:01,  1.78it/s]#015 59%|█████▊    | 459/782 [04:18<03:00,  1.79it/s]#015 59%|█████▉    | 460/782 [04:19<02:59,  1.80it/s]#015 59%|█████▉    | 461/782 [04:19<02:58,  1.80it/s]#015 59%|█████▉    | 462/782 [04:20<02:59,  1.79it/s]#015 59%|█████▉    | 463/782 [04:20<02:58,  1.78it/s]#015 59%|█████▉    | 464/782 [04:21<03:00,  1.76it/s]#015 59%|█████▉    | 465/782 [04:22<02:59,  1.77it/s]#015 60%|█████▉    | 466/782 [04:22<02:57,  1.78it/s]#015 60%|█████▉    | 467/782 [04:23<02:58,  1.77it/s]#015 60%|█████▉    | 468/782 [04:23<02:57,  1.76it/s]#015 60%|█████▉    | 469/782 [04:24<02:58,  1.75it/s]#015 60%|██████    | 470/782 [04:24<02:59,  1.74it/s]#015 60%|██████    | 471/782 [04:25<02:57,  1.75it/s]#015 60%|██████    | 472/782 [04:26<02:56,  1.76it/s]#015 60%|██████    | 473/782 [04:26<02:54,  1.77it/s]#015 61%|██████    | 474/782 [04:27<02:56,  1.75it/s]#015 61%|██████    | 475/782 [04:27<02:54,  1.76it/s]#015 61%|██████    | 476/782 [04:28<02:52,  1.77it/s]#015 61%|██████    | 477/782 [04:28<02:51,  1.78it/s]#015 61%|██████    | 478/782 [04:29<02:50,  1.79it/s]#015 61%|██████▏   | 479/782 [04:30<02:49,  1.78it/s]#015 61%|██████▏   | 480/782 [04:30<02:49,  1.78it/s]#015 62%|██████▏   | 481/782 [04:31<02:48,  1.79it/s]#015 62%|██████▏   | 482/782 [04:31<02:47,  1.79it/s]#015 62%|██████▏   | 483/782 [04:32<02:47,  1.79it/s]#015 62%|██████▏   | 484/782 [04:32<02:47,  1.78it/s]#015 62%|██████▏   | 485/782 [04:33<02:46,  1.79it/s]#015 62%|██████▏   | 486/782 [04:33<02:45,  1.79it/s]#015 62%|██████▏   | 487/782 [04:34<02:44,  1.79it/s]#015 62%|██████▏   | 488/782 [04:35<02:44,  1.79it/s]#015 63%|██████▎   | 489/782 [04:35<02:45,  1.77it/s]#015 63%|██████▎   | 490/782 [04:36<02:44,  1.78it/s]#015 63%|██████▎   | 491/782 [04:36<02:43,  1.78it/s]#015 63%|██████▎   | 492/782 [04:37<02:42,  1.79it/s]#015 63%|██████▎   | 493/782 [04:37<02:41,  1.79it/s]#015 63%|██████▎   | 494/782 [04:38<02:41,  1.78it/s]#015 63%|██████▎   | 495/782 [04:38<02:40,  1.79it/s]#015 63%|██████▎   | 496/782 [04:39<02:39,  1.80it/s]#015 64%|██████▎   | 497/782 [04:40<02:38,  1.80it/s]#015 64%|██████▎   | 498/782 [04:40<02:38,  1.79it/s]#015 64%|██████▍   | 499/782 [04:41<02:37,  1.80it/s]#015 64%|██████▍   | 500/782 [04:41<02:36,  1.80it/s]#015                                                 #015#015 64%|██████▍   | 500/782 [04:41<02:36,  1.80it/s]#015 64%|██████▍   | 501/782 [04:44<05:31,  1.18s/it]#015 64%|██████▍   | 502/782 [04:44<04:38,  1.01it/s]#015 64%|██████▍   | 503/782 [04:45<04:00,  1.16it/s]#015 64%|██████▍   | 504/782 [04:46<03:34,  1.30it/s]#015 65%|██████▍   | 505/782 [04:46<03:17,  1.40it/s]#015 65%|██████▍   | 506/782 [04:47<03:04,  1.50it/s]#015 65%|██████▍   | 507/782 [04:47<02:55,  1.56it/s]#015 65%|██████▍   | 508/782 [04:48<02:48,  1.63it/s]#015 65%|██████▌   | 509/782 [04:48<02:43,  1.67it/s]#015 65%|██████▌   | 510/782 [04:49<02:39,  1.71it/s]#015 65%|██████▌   | 511/782 [04:50<02:36,  1.73it/s]#015 65%|██████▌   | 512/782 [04:50<02:34,  1.75it/s]#015 66%|██████▌   | 513/782 [04:51<02:33,  1.75it/s]#015 66%|██████▌   | 514/782 [04:51<02:32,  1.75it/s]#015 66%|██████▌   | 515/782 [04:52<02:31,  1.77it/s]#015 66%|██████▌   | 516/782 [04:52<02:30,  1.77it/s]#015 66%|██████▌   | 517/782 [04:53<02:29,  1.77it/s]#015 66%|██████▌   | 518/782 [04:53<02:28,  1.77it/s]#015 66%|██████▋   | 519/782 [04:54<02:29,  1.76it/s]#015 66%|██████▋   | 520/782 [04:55<02:28,  1.76it/s]#015 67%|██████▋   | 521/782 [04:55<02:27,  1.77it/s]#015 67%|██████▋   | 522/782 [04:56<02:27,  1.76it/s]#015 67%|██████▋   | 523/782 [04:56<02:29,  1.73it/s]#015 67%|██████▋   | 524/782 [04:57<02:27,  1.75it/s]#015 67%|██████▋   | 525/782 [04:57<02:27,  1.75it/s]#015 67%|██████▋   | 526/782 [04:58<02:25,  1.76it/s]#015 67%|██████▋   | 527/782 [04:59<02:24,  1.77it/s]#015 68%|██████▊   | 528/782 [04:59<02:22,  1.78it/s]#015 68%|██████▊   | 529/782 [05:00<02:23,  1.76it/s]#015 68%|██████▊   | 530/782 [05:00<02:23,  1.76it/s]#015 68%|██████▊   | 531/782 [05:01<02:21,  1.77it/s]#015 68%|██████▊   | 532/782 [05:01<02:21,  1.76it/s]#015 68%|██████▊   | 533/782 [05:02<02:20,  1.77it/s]#015 68%|██████▊   | 534/782 [05:03<02:20,  1.77it/s]#015 68%|██████▊   | 535/782 [05:03<02:18,  1.78it/s]#015 69%|██████▊   | 536/782 [05:04<02:18,  1.78it/s]#015 69%|██████▊   | 537/782 [05:04<02:17,  1.78it/s]#015 69%|██████▉   | 538/782 [05:05<02:16,  1.78it/s]#015 69%|██████▉   | 539/782 [05:05<02:17,  1.77it/s]#015 69%|██████▉   | 540/782 [05:06<02:16,  1.77it/s]#015 69%|██████▉   | 541/782 [05:06<02:15,  1.77it/s]#015 69%|██████▉   | 542/782 [05:07<02:15,  1.77it/s]#015 69%|██████▉   | 543/782 [05:08<02:14,  1.77it/s]#015 70%|██████▉   | 544/782 [05:08<02:14,  1.77it/s]#015 70%|██████▉   | 545/782 [05:09<02:15,  1.75it/s]#015 70%|██████▉   | 546/782 [05:09<02:13,  1.76it/s]#015 70%|██████▉   | 547/782 [05:10<02:15,  1.74it/s]#015 70%|███████   | 548/782 [05:10<02:13,  1.76it/s]#015 70%|███████   | 549/782 [05:11<02:11,  1.78it/s]#015 70%|███████   | 550/782 [05:12<02:10,  1.77it/s]#015 70%|███████   | 551/782 [05:12<02:10,  1.78it/s]#015 71%|███████   | 552/782 [05:13<02:09,  1.77it/s]#015 71%|███████   | 553/782 [05:13<02:08,  1.78it/s]#015 71%|███████   | 554/782 [05:14<02:10,  1.74it/s]#015 71%|███████   | 555/782 [05:14<02:09,  1.75it/s]#015 71%|███████   | 556/782 [05:15<02:07,  1.77it/s]#015 71%|███████   | 557/782 [05:16<02:06,  1.78it/s]#015 71%|███████▏  | 558/782 [05:16<02:05,  1.79it/s]#015 71%|███████▏  | 559/782 [05:17<02:05,  1.78it/s]#015 72%|███████▏  | 560/782 [05:17<02:04,  1.78it/s]#015 72%|███████▏  | 561/782 [05:18<02:06,  1.75it/s]#015 72%|███████▏  | 562/782 [05:18<02:04,  1.76it/s]#015 72%|███████▏  | 563/782 [05:19<02:03,  1.77it/s]#015 72%|███████▏  | 564/782 [05:19<02:02,  1.79it/s]#015 72%|█████�\u001b[0m\n",
      "\u001b[34m�█▏  | 565/782 [05:20<02:00,  1.79it/s]#015 72%|███████▏  | 566/782 [05:21<02:00,  1.80it/s]#015 73%|███████▎  | 567/782 [05:21<02:03,  1.74it/s]#015 73%|███████▎  | 568/782 [05:22<02:02,  1.75it/s]#015 73%|███████▎  | 569/782 [05:22<02:00,  1.76it/s]#015 73%|███████▎  | 570/782 [05:23<02:00,  1.76it/s]#015 73%|███████▎  | 571/782 [05:23<01:59,  1.77it/s]#015 73%|███████▎  | 572/782 [05:24<02:00,  1.75it/s]#015 73%|███████▎  | 573/782 [05:25<02:00,  1.74it/s]#015 73%|███████▎  | 574/782 [05:25<01:58,  1.75it/s]#015 74%|███████▎  | 575/782 [05:26<01:57,  1.76it/s]#015 74%|███████▎  | 576/782 [05:26<01:57,  1.75it/s]#015 74%|███████▍  | 577/782 [05:27<01:56,  1.76it/s]#015 74%|███████▍  | 578/782 [05:27<01:55,  1.77it/s]#015 74%|███████▍  | 579/782 [05:28<01:54,  1.77it/s]#015 74%|███████▍  | 580/782 [05:29<01:53,  1.77it/s]#015 74%|███████▍  | 581/782 [05:29<01:52,  1.78it/s]#015 74%|███████▍  | 582/782 [05:30<01:51,  1.79it/s]#015 75%|███████▍  | 583/782 [05:30<01:50,  1.79it/s]#015 75%|███████▍  | 584/782 [05:31<01:50,  1.79it/s]#015 75%|███████▍  | 585/782 [05:31<01:50,  1.79it/s]#015 75%|███████▍  | 586/782 [05:32<01:50,  1.78it/s]#015 75%|███████▌  | 587/782 [05:32<01:49,  1.79it/s]#015 75%|███████▌  | 588/782 [05:33<01:48,  1.79it/s]#015 75%|███████▌  | 589/782 [05:34<01:48,  1.78it/s]#015 75%|███████▌  | 590/782 [05:34<01:47,  1.78it/s]#015 76%|███████▌  | 591/782 [05:35<01:46,  1.79it/s]#015 76%|███████▌  | 592/782 [05:35<01:46,  1.78it/s]#015 76%|███████▌  | 593/782 [05:36<01:45,  1.79it/s]#015 76%|███████▌  | 594/782 [05:36<01:45,  1.79it/s]#015 76%|███████▌  | 595/782 [05:37<01:46,  1.76it/s]#015 76%|███████▌  | 596/782 [05:38<01:45,  1.76it/s]#015 76%|███████▋  | 597/782 [05:38<01:44,  1.77it/s]#015 76%|███████▋  | 598/782 [05:39<01:43,  1.77it/s]#015 77%|███████▋  | 599/782 [05:39<01:43,  1.77it/s]#015 77%|███████▋  | 600/782 [05:40<01:43,  1.76it/s]#015 77%|███████▋  | 601/782 [05:40<01:42,  1.77it/s]#015 77%|███████▋  | 602/782 [05:41<01:40,  1.79it/s]#015 77%|███████▋  | 603/782 [05:42<01:41,  1.77it/s]#015 77%|███████▋  | 604/782 [05:42<01:40,  1.78it/s]#015 77%|███████▋  | 605/782 [05:43<01:39,  1.78it/s]#015 77%|███████▋  | 606/782 [05:43<01:38,  1.78it/s]#015 78%|███████▊  | 607/782 [05:44<01:37,  1.79it/s]#015 78%|███████▊  | 608/782 [05:44<01:37,  1.78it/s]#015 78%|███████▊  | 609/782 [05:45<01:36,  1.78it/s]#015 78%|███████▊  | 610/782 [05:45<01:36,  1.79it/s]#015 78%|███████▊  | 611/782 [05:46<01:35,  1.79it/s]#015 78%|███████▊  | 612/782 [05:47<01:34,  1.79it/s]#015 78%|███████▊  | 613/782 [05:47<01:33,  1.80it/s]#015 79%|███████▊  | 614/782 [05:48<01:33,  1.80it/s]#015 79%|███████▊  | 615/782 [05:48<01:32,  1.80it/s]#015 79%|███████▉  | 616/782 [05:49<01:32,  1.79it/s]#015 79%|███████▉  | 617/782 [05:49<01:34,  1.74it/s]#015 79%|███████▉  | 618/782 [05:50<01:33,  1.76it/s]#015 79%|███████▉  | 619/782 [05:50<01:32,  1.77it/s]#015 79%|███████▉  | 620/782 [05:51<01:31,  1.78it/s]#015 79%|███████▉  | 621/782 [05:52<01:30,  1.77it/s]#015 80%|███████▉  | 622/782 [05:52<01:30,  1.77it/s]#015 80%|███████▉  | 623/782 [05:53<01:29,  1.78it/s]#015 80%|███████▉  | 624/782 [05:53<01:28,  1.78it/s]#015 80%|███████▉  | 625/782 [05:54<01:27,  1.79it/s]#015 80%|████████  | 626/782 [05:54<01:27,  1.79it/s]#015 80%|████████  | 627/782 [05:55<01:27,  1.77it/s]#015 80%|████████  | 628/782 [05:56<01:26,  1.78it/s]#015 80%|████████  | 629/782 [05:56<01:25,  1.78it/s]#015 81%|████████  | 630/782 [05:57<01:24,  1.79it/s]#015 81%|████████  | 631/782 [05:57<01:23,  1.80it/s]#015 81%|████████  | 632/782 [05:58<01:23,  1.79it/s]#015 81%|████████  | 633/782 [05:58<01:23,  1.78it/s]#015 81%|████████  | 634/782 [05:59<01:22,  1.79it/s]#015 81%|████████  | 635/782 [05:59<01:22,  1.78it/s]#015 81%|████████▏ | 636/782 [06:00<01:21,  1.79it/s]#015 81%|████████▏ | 637/782 [06:01<01:21,  1.78it/s]#015 82%|████████▏ | 638/782 [06:01<01:21,  1.77it/s]#015 82%|████████▏ | 639/782 [06:02<01:20,  1.78it/s]#015 82%|████████▏ | 640/782 [06:02<01:19,  1.78it/s]#015 82%|████████▏ | 641/782 [06:03<01:19,  1.78it/s]#015 82%|████████▏ | 642/782 [06:03<01:18,  1.78it/s]#015 82%|████████▏ | 643/782 [06:04<01:18,  1.78it/s]#015 82%|████████▏ | 644/782 [06:05<01:17,  1.78it/s]#015 82%|████████▏ | 645/782 [06:05<01:17,  1.78it/s]#015 83%|████████▎ | 646/782 [06:06<01:16,  1.77it/s]#015 83%|████████▎ | 647/782 [06:06<01:15,  1.78it/s]#015 83%|████████▎ | 648/782 [06:07<01:15,  1.78it/s]#015 83%|████████▎ | 649/782 [06:07<01:14,  1.78it/s]#015 83%|████████▎ | 650/782 [06:08<01:14,  1.78it/s]#015 83%|████████▎ | 651/782 [06:08<01:13,  1.78it/s]#015 83%|████████▎ | 652/782 [06:09<01:12,  1.79it/s]#015 84%|████████▎ | 653/782 [06:10<01:12,  1.79it/s]#015 84%|████████▎ | 654/782 [06:10<01:13,  1.75it/s]#015 84%|████████▍ | 655/782 [06:11<01:12,  1.75it/s]#015 84%|████████▍ | 656/782 [06:11<01:11,  1.77it/s]#015 84%|████████▍ | 657/782 [06:12<01:11,  1.76it/s]#015 84%|████████▍ | 658/782 [06:12<01:10,  1.77it/s]#015 84%|████████▍ | 659/782 [06:13<01:09,  1.76it/s]#015 84%|████████▍ | 660/782 [06:14<01:08,  1.77it/s]#015 85%|████████▍ | 661/782 [06:14<01:07,  1.78it/s]#015 85%|████████▍ | 662/782 [06:15<01:07,  1.79it/s]#015 85%|████████▍ | 663/782 [06:15<01:06,  1.79it/s]#015 85%|████████▍ | 664/782 [06:16<01:06,  1.79it/s]#015 85%|████████▌ | 665/782 [06:16<01:05,  1.78it/s]#015 85%|████████▌ | 666/782 [06:17<01:05,  1.78it/s]#015 85%|████████▌ | 667/782 [06:17<01:04,  1.78it/s]#015 85%|████████▌ | 668/782 [06:18<01:03,  1.79it/s]#015 86%|████████▌ | 669/782 [06:19<01:03,  1.79it/s]#015 86%|████████▌ | 670/782 [06:19<01:02,  1.79it/s]#015 86%|████████▌ | 671/782 [06:20<01:01,  1.79it/s]#015 86%|████████▌ | 672/782 [06:20<01:02,  1.76it/s]#015 86%|████████▌ | 673/782 [06:21<01:01,  1.77it/s]#015 86%|████████▌ | 674/782 [06:21<01:02,  1.73it/s]#015 86%|████████▋ | 675/782 [06:22<01:01,  1.75it/s]#015 86%|████████▋ | 676/782 [06:23<01:00,  1.75it/s]#015 87%|████████▋ | 677/782 [06:23<00:59,  1.75it/s]#015 87%|████████▋ | 678/782 [06:24<00:59,  1.76it/s]#015 87%|████████▋ | 679/782 [06:24<00:58,  1.75it/s]#015 87%|████████▋ | 680/782 [06:25<00:59,  1.72it/s]#015 87%|████████▋ | 681/782 [06:25<00:58,  1.73it/s]#015 87%|████████▋ | 682/782 [06:26<00:57,  1.74it/s]#015 87%|████████▋ | 683/782 [06:27<00:56,  1.76it/s]#015 87%|████████▋ | 684/782 [06:27<00:56,  1.73it/s]#015 88%|████████▊ | 685/782 [06:28<00:55,  1.75it/s]#015 88%|████████▊ | 686/782 [06:28<00:54,  1.76it/s]#015 88%|████████▊ | 687/782 [06:29<00:53,  1.77it/s]#015 88%|████████▊ | 688/782 [06:29<00:53,  1.77it/s]#015 88%|████████▊ | 689/782 [06:30<00:52,  1.77it/s]#015 88%|████████▊ | 690/782 [06:31<00:51,  1.77it/s]#015 88%|████████▊ | 691/782 [06:31<00:51,  1.77it/s]#015 88%|████████▊ | 692/782 [06:32<00:50,  1.78it/s]#015 89%|████████▊ | 693/782 [06:32<00:49,  1.78it/s]#015 89%|████████▊ | 694/782 [06:33<00:49,  1.79it/s]#015 89%|████████▉ | 695/782 [06:33<00:49,  1.77it/s]#015 89%|████████▉ | 696/782 [06:34<00:48,  1.78it/s]#015 89%|████████▉ | 697/782 [06:34<00:47,  1.78it/s]#015 89%|████████▉ | 698/782 [06:35<00:47,  1.78it/s]#015 89%|████████▉ | 699/782 [06:36<00:46,  1.78it/s]#015 90%|████████▉ | 700/782 [06:36<00:46,  1.77it/s]#015 90%|████████▉ | 701/782 [06:37<00:45,  1.77it/s]#015 90%|████████▉ | 702/782 [06:37<00:44,  1.78it/s]#015 90%|████████▉ | 703/782 [06:38<00:44,  1.78it/s]#015 90%|█████████ | 704/782 [06:38<00:44,  1.76it/s]#015 90%|█████████ | 705/782 [06:39<00:43,  1.77it/s]#015 90%|█████████ | 706/782 [06:40<00:42,  1.78it/s]#015 90%|█████████ | 707/782 [06:40<00:42,  1.78it/s]#015 91%|█████████ | 708/782 [06:41<00:41,  1.79it/s]#015 91%|█████████ | 709/782 [06:41<00:41,  1.77it/s]#015 91%|█████████ | 710/782 [06:42<00:40,  1.77it/s]#015 91%|█████████ | 711/782 [06:42<00:40,  1.77it/s]#015 91%|█████████ | 712/782 [06:43<00:39,  1.77it/s]#015 91%|█████████ | 713/782 [06:44<00:39,  1.76it/s]#015 91%|█████████▏| 714/782 [06:44<00:38,  1.78it/s]#015 91%|█████████▏| 715/782 [06:45<00:37,  1.78it/s]#015 92%|█████████▏| 716/782 [06:45<00:37,  1.77it/s]#015 92%|█████████▏| 717/782 [06:46<00:36,  1.78it/s]#015 92%|█████████▏| 718/782 [06:46<00:36,  1.78it/s]#015 92%|█████████▏| 719/782 [06:47<00:35,  1.78it/s]#015 92%|█████████▏| 720/782 [06:47<00:34,  1.78it/s]#015 92%|█████████▏| 721/782 [06:48<00:34,  1.79it/s]#015 92%|█████████▏| 722/782 [06:49<00:33,  1.78it/s]#015 92%|█████████▏| 723/782 [06:49<00:33,  1.79it/s]#015 93%|█████████▎| 724/782 [06:50<00:32,  1.79it/s]#015 93%|█████████▎| 725/782 [06:50<00:31,  1.79it/s]#015 93%|█████████▎| 726/782 [06:51<00:31,  1.79it/s]#015 93%|█████████▎| 727/782 [06:51<00:30,  1.79it/s]#015 93%|█████████▎| 728/782 [06:52<00:30,  1.80it/s]#015 93%|█████████▎| 729/782 [06:52<00:29,  1.79it/s]#015 93%|█████████▎| 730/782 [06:53<00:29,  1.79it/s]#015 93%|█████████▎| 731/782 [06:54<00:28,  1.78it/s]#015 94%|█████████▎| 732/782 [06:54<00:28,  1.78it/s]#015 94%|█████████▎| 733/782 [06:55<00:27,  1.78it/s]#015 94%|█████████▍| 734/782 [06:55<00:26,  1.79it/s]#015 94%|█████████▍| 735/782 [06:56<00:26,  1.79it/s]#015 94%|█████████▍| 736/782 [06:56<00:26,  1.76it/s]#015 94%|█████████▍| 737/782 [06:57<00:25,  1.77it/s]#015 94%|█████████▍| 738/782 [06:58<00:24,  1.78it/s]#015 95%|█████████▍| 739/782 [06:58<00:24,  1.74it/s]#015 95%|█████████▍| 740/782 [06:59<00:24,  1.74it/s]#015 95%|█████████▍| 741/782 [06:59<00:23,  1.76it/s]#015 95%|█████████▍| 742/782 [07:00<00:22,  1.77it/s]#015 95%|█████████▌| 743/782 [07:00<00:21,  1.78it/s]#015 95%|█████████▌| 744/782 [07:01<00:21,  1.78it/s]#015 95%|█████████▌| 745/782 [07:01<00:20,  1.78it/s]#015 95%|█████████▌| 746/782 [07:02<00:20,  1.78it/s]#015 96%|█████████▌| 747/782 [07:03<00:19,  1.77it/s]#015 96%|█████████▌| 748/782 [07:03<00:19,  1.77it/s]#015 96%|█████████▌| 749/782 [07:04<00:18,  1.77it/s]#015 96%|█████████▌| 750/782 [07:04<00:17,  1.78it/s]#015 96%|█████████▌| 751/782 [07:05<00:17,  1.78it/s]#015 96%|█████████▌| 752/782 [07:05<00:16,  1.79it/s]#015 96%|█████████▋| 753/782 [07:06<00:16,  1.79it/s]#015 96%|█████████▋| 754/782 [07:07<00:15,  1.78it/s]#015 97%|█████████▋| 755/782 [07:07<00:15,  1.79it/s]#015 97%|█████████▋| 756/782 [07:08<00:14,  1.77it/s]#015 97%|█████████▋| 757/782 [07:08<00:14,  1.78it/s]#015 97%|█████████▋| 758/782 [07:09<00:13,  1.78it/s]#015 97%|█████████▋| 759/782 [07:09<00:12,  1.78it/s]#015 97%|█████████▋| 760/782 [07:10<00:12,  1.78it/s]#015 97%|█████████▋| 761/782 [07:10<00:11,  1.79it/s]#015 97%|█████████▋| 762/782 [07:11<00:11,  1.79it/s]#015 98%|█████████▊| 763/782 [07:12<00:10,  1.75it/s]#015 98%|█████████▊| 764/782 [07:12<00:10,  1.76it/s]#015 98%|█████████▊| 765/782 [07:13<00:09,  1.76it/s]#015 98%|█████████▊| 766/782 [07:13<00:09,  1.77it/s]#015 98%|█████████▊| 767/782 [07:14<00:08,  1.78it/s]#015 98%|█████████▊| 768/782 [07:14<00:07,  1.77it/s]#015 98%|█████████▊| 769/782 [07:15<00:07,  1.78it/s]#015 98%|█████████▊| 770/782 [07:16<00:06,  1.78it/s]#015 99%|█████████▊| 771/782 [07:16<00:06,  1.79it/s]#015 99%|█████████▊| 772/782 [07:17<00:05,  1.80it/s]#015 99%|█████████▉| 773/782 [07:17<00:04,  1.80it/s]#015 99%|█████████▉| 774/782 [07:18<00:04,  1.80it/s]#015 99%|█████████▉| 775/782 [07:18<00:03,  1.80it/s]#015 99%|█████████▉| 776/782 [07:19<00:03,  1.79it/s]#015 99%|█████████▉| 777/782 [07:19<00:02,  1.79it/s]#015 99%|█████████▉| 778/782 [07:20<00:02,  1.78it/s]#015100%|█████████▉| 779/782 [07:21<00:01,  1.79it/s]#015100%|█████████▉| 780/782 [07:21<00:01,  1.79it/s]#015100%|█████████▉| 781/782 [07:22<00:00,  1.79it/s]#015100%|██████████| 782/782 [07:22<00:00,  2.19it/s]\u001b[0m\n",
      "\u001b[34m#015  0%|          | 0/157 [00:00<?, ?it/s]#033[A\u001b[0m\n",
      "\u001b[34m#015  1%|▏         | 2/157 [00:00<00:25,  6.12it/s]#033[A\u001b[0m\n",
      "\u001b[34m#015  2%|▏         | 3/157 [00:00<00:32,  4.69it/s]#033[A\u001b[0m\n",
      "\u001b[34m#015  3%|▎         | 4/157 [00:00<00:38,  3.99it/s]#033[A\u001b[0m\n",
      "\u001b[34m#015  3%|▎         | 5/157 [00:01<00:41,  3.66it/s]#033[A\u001b[0m\n",
      "\u001b[34m#015  4%|▍         | 6/157 [00:01<00:43,  3.46it/s]#033[A\u001b[0m\n",
      "\u001b[34m#015  4%|▍         | 7/157 [00:01<00:45,  3.31it/s]#033[A\u001b[0m\n",
      "\u001b[34m#015  5%|▌         | 8/157 [00:02<00:46,  3.19it/s]#033[A\u001b[0m\n",
      "\u001b[34m#015  6%|▌         | 9/157 [00:02<00:47,  3.14it/s]#033[A\u001b[0m\n",
      "\u001b[34m#015  6%|▋         | 10/157 [00:02<00:47,  3.08it/s]#033[A\u001b[0m\n",
      "\u001b[34m#015  7%|▋         | 11/157 [00:03<00:47,  3.07it/s]#033[A\u001b[0m\n",
      "\u001b[34m#015  8%|▊         | 12/157 [00:03<00:47,  3.07it/s]#033[A\u001b[0m\n",
      "\u001b[34m#015  8%|▊         | 13/157 [00:03<00:47,  3.06it/s]#033[A\u001b[0m\n",
      "\u001b[34m#015  9%|▉         | 14/157 [00:04<00:46,  3.06it/s]#033[A\u001b[0m\n",
      "\u001b[34m#015 10%|▉         | 15/157 [00:04<00:46,  3.05it/s]#033[A\u001b[0m\n",
      "\u001b[34m#015 10%|█         | 16/157 [00:04<00:46,  3.04it/s]#033[A\u001b[0m\n",
      "\u001b[34m#015 11%|█         | 17/157 [00:05<00:46,  3.03it/s]#033[A\u001b[0m\n",
      "\u001b[34m#015 11%|█▏        | 18/157 [00:05<00:45,  3.03it/s]#033[A\u001b[0m\n",
      "\u001b[34m#015 12%|█▏        | 19/157 [00:05<00:45,  3.03it/s]#033[A\u001b[0m\n",
      "\u001b[34m#015 13%|█▎        | 20/157 [00:06<00:45,  3.00it/s]#033[A\u001b[0m\n",
      "\u001b[34m#015 13%|█▎        | 21/157 [00:06<00:45,  3.01it/s]#033[A\u001b[0m\n",
      "\u001b[34m#015 14%|█▍        | 22/157 [00:06<00:44,  3.01it/s]#033[A\u001b[0m\n",
      "\u001b[34m#015 15%|█▍        | 23/157 [00:07<00:44,  3.02it/s]#033[A\u001b[0m\n",
      "\u001b[34m#015 15%|█▌        | 24/157 [00:07<00:44,  3.02it/s]#033[A\u001b[0m\n",
      "\u001b[34m#015 16%|█▌        | 25/157 [00:07<00:43,  3.02it/s]#033[A\u001b[0m\n",
      "\u001b[34m#015 17%|█▋        | 26/157 [00:08<00:43,  3.02it/s]#033[A\u001b[0m\n",
      "\u001b[34m#015 17%|█▋        | 27/157 [00:08<00:43,  3.02it/s]#033[A\u001b[0m\n",
      "\u001b[34m#015 18%|█▊        | 28/157 [00:08<00:42,  3.03it/s]#033[A\u001b[0m\n",
      "\u001b[34m#015 18%|█▊        | 29/157 [00:09<00:42,  3.04it/s]#033[A\u001b[0m\n",
      "\u001b[34m#015 19%|█▉        | 30/157 [00:09<00:41,  3.05it/s]#033[A\u001b[0m\n",
      "\u001b[34m#015 20%|█▉        | 31/157 [00:09<00:41,  3.05it/s]#033[A\u001b[0m\n",
      "\u001b[34m#015 20%|██        | 32/157 [00:10<00:40,  3.05it/s]#033[A\u001b[0m\n",
      "\u001b[34m#015 21%|██        | 33/157 [00:10<00:40,  3.06it/s]#033[A\u001b[0m\n",
      "\u001b[34m#015 22%|██▏       | 34/157 [00:10<00:40,  3.06it/s]#033[A\u001b[0m\n",
      "\u001b[34m#015 22%|██▏       | 35/157 [00:11<00:39,  3.05it/s]#033[A\u001b[0m\n",
      "\u001b[34m#015 23%|██▎       | 36/157 [00:11<00:39,  3.05it/s]#033[A\u001b[0m\n",
      "\u001b[34m#015 24%|██▎       | 37/157 [00:11<00:39,  3.05it/s]#033[A\u001b[0m\n",
      "\u001b[34m#015 24%|██▍       | 38/157 [00:12<00:39,  3.04it/s]#033[A\u001b[0m\n",
      "\u001b[34m#015 25%|██▍       | 39/157 [00:12<00:38,  3.03it/s]#033[A\u001b[0m\n",
      "\u001b[34m#015 25%|██▌       | 40/157 [00:12<00:38,  3.04it/s]#033[A\u001b[0m\n",
      "\u001b[34m#015 26%|██▌       | 41/157 [00:13<00:38,  3.03it/s]#033[A\u001b[0m\n",
      "\u001b[34m#015 27%|██▋       | 42/157 [00:13<00:37,  3.04it/s]#033[A\u001b[0m\n",
      "\u001b[34m#015 27%|██▋       | 43/157 [00:13<00:37,  3.05it/s]#033[A\u001b[0m\n",
      "\u001b[34m#015 28%|██▊       | 44/157 [00:14<00:37,  3.05it/s]#033[A\u001b[0m\n",
      "\u001b[34m#015 29%|██▊       | 45/157 [00:14<00:36,  3.05it/s]#033[A\u001b[0m\n",
      "\u001b[34m#015 29%|██▉       | 46/157 [00:14<00:36,  3.05it/s]#033[A\u001b[0m\n",
      "\u001b[34m#015 30%|██▉       | 47/157 [00:15<00:35,  3.06it/s]#033[A\u001b[0m\n",
      "\u001b[34m#015 31%|███       | 48/157 [00:15<00:35,  3.06it/s]#033[A\u001b[0m\n",
      "\u001b[34m#015 31%|███       | 49/157 [00:15<00:35,  3.06it/s]#033[A\u001b[0m\n",
      "\u001b[34m#015 32%|███▏      | 50/157 [00:16<00:34,  3.06it/s]#033[A\u001b[0m\n",
      "\u001b[34m#015 32%|███▏      | 51/157 [00:16<00:34,  3.06it/s]#033[A\u001b[0m\n",
      "\u001b[34m#015 33%|███▎      | 52/157 [00:16<00:34,  3.06it/s]#033[A\u001b[0m\n",
      "\u001b[34m#015 34%|███▍      | 53/157 [00:17<00:34,  3.04it/s]#033[A\u001b[0m\n",
      "\u001b[34m#015 34%|███▍      | 54/157 [00:17<00:34,  3.03it/s]#033[A\u001b[0m\n",
      "\u001b[34m#015 35%|███▌      | 55/157 [00:17<00:33,  3.02it/s]#033[A\u001b[0m\n",
      "\u001b[34m#015 36%|███▌      | 56/157 [00:18<00:33,  3.02it/s]#033[A\u001b[0m\n",
      "\u001b[34m#015 36%|███▋      | 57/157 [00:18<00:32,  3.03it/s]#033[A\u001b[0m\n",
      "\u001b[34m#015 37%|███▋      | 58/157 [00:18<00:32,  3.04it/s]#033[A\u001b[0m\n",
      "\u001b[34m#015 38%|███▊      | 59/157 [00:19<00:32,  3.04it/s]#033[A\u001b[0m\n",
      "\u001b[34m#015 38%|███▊      | 60/157 [00:19<00:31,  3.05it/s]#033[A\u001b[0m\n",
      "\u001b[34m#015 39%|███▉      | 61/157 [00:19<00:31,  3.05it/s]#033[A\u001b[0m\n",
      "\u001b[34m#015 39%|███▉      | 62/157 [00:20<00:31,  3.05it/s]#033[A\u001b[0m\n",
      "\u001b[34m#015 40%|████      | 63/157 [00:20<00:30,  3.05it/s]#033[A\u001b[0m\n",
      "\u001b[34m#015 41%|████      | 64/157 [00:20<00:30,  3.06it/s]#033[A\u001b[0m\n",
      "\u001b[34m#015 41%|████▏     | 65/157 [00:21<00:30,  3.05it/s]#033[A\u001b[0m\n",
      "\u001b[34m#015 42%|████▏     | 66/157 [00:21<00:30,  3.02it/s]#033[A\u001b[0m\n",
      "\u001b[34m#015 43%|████▎     | 67/157 [00:21<00:29,  3.03it/s]#033[A\u001b[0m\n",
      "\u001b[34m#015 43%|████▎     | 68/157 [00:22<00:29,  3.04it/s]#033[A\u001b[0m\n",
      "\u001b[34m#015 44%|████▍     | 69/157 [00:22<00:28,  3.04it/s]#033[A\u001b[0m\n",
      "\u001b[34m#015 45%|████▍     | 70/157 [00:22<00:28,  3.05it/s]#033[A\u001b[0m\n",
      "\u001b[34m#015 45%|████▌     | 71/157 [00:23<00:28,  3.05it/s]#033[A\u001b[0m\n",
      "\u001b[34m#015 46%|████▌     | 72/157 [00:23<00:27,  3.04it/s]#033[A\u001b[0m\n",
      "\u001b[34m#015 46%|████▋     | 73/157 [00:23<00:27,  3.04it/s]#033[A\u001b[0m\n",
      "\u001b[34m#015 47%|████▋     | 74/157 [00:24<00:27,  3.05it/s]#033[A\u001b[0m\n",
      "\u001b[34m#015 48%|████▊     | 75/157 [00:24<00:26,  3.04it/s]#033[A\u001b[0m\n",
      "\u001b[34m#015 48%|████▊     | 76/157 [00:24<00:26,  3.03it/s]#033[A\u001b[0m\n",
      "\u001b[34m#015 49%|████▉     | 77/157 [00:25<00:26,  3.04it/s]#033[A\u001b[0m\n",
      "\u001b[34m#015 50%|████▉     | 78/157 [00:25<00:25,  3.04it/s]#033[A\u001b[0m\n",
      "\u001b[34m#015 50%|█████     | 79/157 [00:25<00:25,  3.05it/s]#033[A\u001b[0m\n",
      "\u001b[34m#015 51%|█████     | 80/157 [00:26<00:25,  3.05it/s]#033[A\u001b[0m\n",
      "\u001b[34m#015 52%|█████▏    | 81/157 [00:26<00:25,  3.03it/s]#033[A\u001b[0m\n",
      "\u001b[34m#015 52%|█████▏    | 82/157 [00:26<00:24,  3.04it/s]#033[A\u001b[0m\n",
      "\u001b[34m#015 53%|█████▎    | 83/157 [00:27<00:24,  3.04it/s]#033[A\u001b[0m\n",
      "\u001b[34m#015 54%|█████▎    | 84/157 [00:27<00:23,  3.04it/s]#033[A\u001b[0m\n",
      "\u001b[34m#015 54%|█████▍    | 85/157 [00:27<00:23,  3.03it/s]#033[A\u001b[0m\n",
      "\u001b[34m#015 55%|█████▍    | 86/157 [00:27<00:23,  3.04it/s]#033[A\u001b[0m\n",
      "\u001b[34m#015 55%|█████▌    | 87/157 [00:28<00:22,  3.05it/s]#033[A\u001b[0m\n",
      "\u001b[34m#015 56%|█████▌    | 88/157 [00:28<00:22,  3.05it/s]#033[A\u001b[0m\n",
      "\u001b[34m#015 57%|█████▋    | 89/157 [00:28<00:22,  3.04it/s]#033[A\u001b[0m\n",
      "\u001b[34m#015 57%|█████▋    | 90/157 [00:29<00:22,  3.03it/s]#033[A\u001b[0m\n",
      "\u001b[34m#015 58%|█████▊    | 91/157 [00:29<00:21,  3.04it/s]#033[A\u001b[0m\n",
      "\u001b[34m#015 59%|█████▊    | 92/157 [00:29<00:21,  3.05it/s]#033[A\u001b[0m\n",
      "\u001b[34m#015 59%|█████▉    | 93/157 [00:30<00:20,  3.05it/s]#033[A\u001b[0m\n",
      "\u001b[34m#015 60%|█████▉    | 94/157 [00:30<00:20,  3.05it/s]#033[A\u001b[0m\n",
      "\u001b[34m#015 61%|██████    | 95/157 [00:30<00:20,  3.05it/s]#033[A\u001b[0m\n",
      "\u001b[34m#015 61%|██████    | 96/157 [00:31<00:19,  3.05it/s]#033[A\u001b[0m\n",
      "\u001b[34m#015 62%|██████▏   | 97/157 [00:31<00:19,  3.05it/s]#033[A\u001b[0m\n",
      "\u001b[34m#015 62%|██████▏   | 98/157 [00:31<00:19,  3.05it/s]#033[A\u001b[0m\n",
      "\u001b[34m#015 63%|██████▎   | 99/157 [00:32<00:18,  3.06it/s]#033[A\u001b[0m\n",
      "\u001b[34m#015 64%|██████▎   | 100/157 [00:32<00:18,  3.05it/s]#033[A\u001b[0m\n",
      "\u001b[34m#015 64%|██████▍   | 101/157 [00:32<00:18,  3.04it/s]#033[A\u001b[0m\n",
      "\u001b[34m#015 65%|██████▍   | 102/157 [00:33<00:18,  3.05it/s]#033[A\u001b[0m\n",
      "\u001b[34m#015 66%|██████▌   | 103/157 [00:33<00:17,  3.04it/s]#033[A\u001b[0m\n",
      "\u001b[34m#015 66%|██████▌   | 104/157 [00:33<00:17,  3.05it/s]#033[A\u001b[0m\n",
      "\u001b[34m#015 67%|██████▋   | 105/157 [00:34<00:17,  3.05it/s]#033[A\u001b[0m\n",
      "\u001b[34m#015 68%|██████▊   | 106/157 [00:34<00:16,  3.03it/s]#033[A\u001b[0m\n",
      "\u001b[34m#015 68%|██████▊   | 107/157 [00:34<00:16,  3.03it/s]#033[A\u001b[0m\n",
      "\u001b[34m#015 69%|██████▉   | 108/157 [00:35<00:16,  3.03it/s]#033[A\u001b[0m\n",
      "\u001b[34m#015 69%|██████▉   | 109/157 [00:35<00:15,  3.02it/s]#033[A\u001b[0m\n",
      "\u001b[34m#015 70%|███████   | 110/157 [00:35<00:15,  3.03it/s]#033[A\u001b[0m\n",
      "\u001b[34m#015 71%|███████   | 111/157 [00:36<00:15,  3.04it/s]#033[A\u001b[0m\n",
      "\u001b[34m#015 71%|███████▏  | 112/157 [00:36<00:14,  3.03it/s]#033[A\u001b[0m\n",
      "\u001b[34m#015 72%|███████▏  | 113/157 [00:36<00:14,  3.04it/s]#033[A\u001b[0m\n",
      "\u001b[34m#015 73%|███████▎  | 114/157 [00:37<00:14,  3.04it/s]#033[A\u001b[0m\n",
      "\u001b[34m#015 73%|███████▎  | 115/157 [00:37<00:13,  3.04it/s]#033[A\u001b[0m\n",
      "\u001b[34m#015 74%|███████▍  | 116/157 [00:37<00:13,  3.05it/s]#033[A\u001b[0m\n",
      "\u001b[34m#015 75%|███████▍  | 117/157 [00:38<00:13,  3.05it/s]#033[A\u001b[0m\n",
      "\u001b[34m#015 75%|███████▌  | 118/157 [00:38<00:12,  3.04it/s]#033[A\u001b[0m\n",
      "\u001b[34m#015 76%|███████▌  | 119/157 [00:38<00:12,  3.05it/s]#033[A\u001b[0m\n",
      "\u001b[34m#015 76%|███████▋  | 120/157 [00:39<00:12,  3.05it/s]#033[A\u001b[0m\n",
      "\u001b[34m#015 77%|███████▋  | 121/157 [00:39<00:11,  3.04it/s]#033[A\u001b[0m\n",
      "\u001b[34m#015 78%|███████▊  | 122/157 [00:39<00:11,  3.03it/s]#033[A\u001b[0m\n",
      "\u001b[34m#015 78%|███████▊  | 123/157 [00:40<00:11,  3.03it/s]#033[A\u001b[0m\n",
      "\u001b[34m#015 79%|███████▉  | 124/157 [00:40<00:10,  3.02it/s]#033[A\u001b[0m\n",
      "\u001b[34m#015 80%|███████▉  | 125/157 [00:40<00:10,  3.02it/s]#033[A\u001b[0m\n",
      "\u001b[34m#015 80%|████████  | 126/157 [00:41<00:10,  3.02it/s]#033[A\u001b[0m\n",
      "\u001b[34m#015 81%|████████  | 127/157 [00:41<00:09,  3.03it/s]#033[A\u001b[0m\n",
      "\u001b[34m#015 82%|████████▏ | 128/157 [00:41<00:09,  3.04it/s]#033[A\u001b[0m\n",
      "\u001b[34m#015 82%|████████▏ | 129/157 [00:42<00:09,  3.05it/s]#033[A\u001b[0m\n",
      "\u001b[34m#015 83%|████████▎ | 130/157 [00:42<00:08,  3.05it/s]#033[A\u001b[0m\n",
      "\u001b[34m#015 83%|████████▎ | 131/157 [00:42<00:08,  3.05it/s]#033[A\u001b[0m\n",
      "\u001b[34m#015 84%|████████▍ | 132/157 [00:43<00:08,  3.02it/s]#033[A\u001b[0m\n",
      "\u001b[34m#015 85%|████████▍ | 133/157 [00:43<00:07,  3.04it/s]#033[A\u001b[0m\n",
      "\u001b[34m#015 85%|████████▌ | 134/157 [00:43<00:07,  3.04it/s]#033[A\u001b[0m\n",
      "\u001b[34m#015 86%|████████▌ | 135/157 [00:44<00:07,  3.05it/s]#033[A\u001b[0m\n",
      "\u001b[34m#015 87%|████████▋ | 136/157 [00:44<00:06,  3.05it/s]#033[A\u001b[0m\n",
      "\u001b[34m#015 87%|████████▋ | 137/157 [00:44<00:06,  3.05it/s]#033[A\u001b[0m\n",
      "\u001b[34m#015 88%|████████▊ | 138/157 [00:45<00:06,  3.04it/s]#033[A\u001b[0m\n",
      "\u001b[34m#015 89%|████████▊ | 139/157 [00:45<00:05,  3.04it/s]#033[A\u001b[0m\n",
      "\u001b[34m#015 89%|████████▉ | 140/157 [00:45<00:05,  3.03it/s]#033[A\u001b[0m\n",
      "\u001b[34m#015 90%|████████▉ | 141/157 [00:46<00:05,  3.04it/s]#033[A\u001b[0m\n",
      "\u001b[34m#015 90%|█████████ | 142/157 [00:46<00:04,  3.04it/s]#033[A\u001b[0m\n",
      "\u001b[34m#015 91%|█████████ | 143/157 [00:46<00:04,  3.04it/s]#033[A\u001b[0m\n",
      "\u001b[34m#015 92%|█████████▏| 144/157 [00:47<00:04,  3.05it/s]#033[A\u001b[0m\n",
      "\u001b[34m#015 92%|█████████▏| 145/157 [00:47<00:03,  3.05it/s]#033[A\u001b[0m\n",
      "\u001b[34m#015 93%|█████████▎| 146/157 [00:47<00:03,  3.05it/s]#033[A\u001b[0m\n",
      "\u001b[34m#015 94%|█████████▎| 147/157 [00:48<00:03,  3.05it/s]#033[A\u001b[0m\n",
      "\u001b[34m#015 94%|█████████▍| 148/157 [00:48<00:02,  3.05it/s]#033[A\u001b[0m\n",
      "\u001b[34m#015 95%|█████████▍| 149/157 [00:48<00:02,  3.05it/s]#033[A\u001b[0m\n",
      "\u001b[34m#015 96%|█████████▌| 150/157 [00:49<00:02,  3.06it/s]#033[A\u001b[0m\n",
      "\u001b[34m#015 96%|█████████▌| 151/157 [00:49<00:01,  3.06it/s]#033[A\u001b[0m\n",
      "\u001b[34m#015 97%|█████████▋| 152/157 [00:49<00:01,  3.06it/s]#033[A\u001b[0m\n",
      "\u001b[34m#015 97%|█████████▋| 153/157 [00:50<00:01,  3.06it/s]#033[A\u001b[0m\n",
      "\u001b[34m#015 98%|█████████▊| 154/157 [00:50<00:00,  3.06it/s]#033[A\u001b[0m\n",
      "\u001b[34m#015 99%|█████████▊| 155/157 [00:50<00:00,  3.06it/s]#033[A\u001b[0m\n",
      "\u001b[34m#015 99%|█████████▉| 156/157 [00:50<00:00,  3.06it/s]#033[A#015                                                 #015\u001b[0m\n",
      "\u001b[34m#015                                                 #015#033[A#015100%|██████████| 782/782 [08:13<00:00,  2.19it/s]\u001b[0m\n",
      "\u001b[34m#015100%|██████████| 157/157 [00:51<00:00,  3.06it/s]#033[A\u001b[0m\n",
      "\u001b[34m#015                                                 #033[A#015                                                 #015#015100%|██████████| 782/782 [08:13<00:00,  2.19it/s]#015100%|██████████| 782/782 [08:13<00:00,  1.58it/s]\u001b[0m\n",
      "\u001b[34m#015  0%|          | 0/157 [00:00<?, ?it/s]#015  1%|▏         | 2/157 [00:00<00:25,  6.13it/s]#015  2%|▏         | 3/157 [00:00<00:32,  4.71it/s]#015  3%|▎         | 4/157 [00:00<00:37,  4.06it/s]#015  3%|▎         | 5/157 [00:01<00:41,  3.70it/s]#015  4%|▍         | 6/157 [00:01<00:43,  3.47it/s]#015  4%|▍         | 7/157 [00:01<00:45,  3.33it/s]#015  5%|▌         | 8/157 [00:02<00:45,  3.25it/s]#015  6%|▌         | 9/157 [00:02<00:46,  3.19it/s]#015  6%|▋         | 10/157 [00:02<00:46,  3.15it/s]#015  7%|▋         | 11/157 [00:03<00:46,  3.11it/s]#015  8%|▊         | 12/157 [00:03<00:47,  3.08it/s]#015  8%|▊         | 13/157 [00:03<00:47,  3.06it/s]#015  9%|▉         | 14/157 [00:04<00:47,  3.04it/s]#015 10%|▉         | 15/157 [00:04<00:46,  3.04it/s]#015 10%|█         | 16/157 [00:04<00:46,  3.05it/s]#015 11%|█         | 17/157 [00:05<00:45,  3.05it/s]#015 11%|█▏        | 18/157 [00:05<00:45,  3.05it/s]#015 12%|█▏        | 19/157 [00:05<00:45,  3.05it/s]#015 13%|█▎        | 20/157 [00:06<00:44,  3.05it/s]#015 13%|█▎        | 21/157 [00:06<00:44,  3.05it/s]#015 14%|█▍        | 22/157 [00:06<00:44,  3.05it/s]#015 15%|█▍        | 23/157 [00:07<00:43,  3.05it/s]#015 15%|█▌        | 24/157 [00:07<00:43,  3.04it/s]#015 16%|█▌        | 25/157 [00:07<00:43,  3.05it/s]#015 17%|█▋        | 26/157 [00:08<00:42,  3.05it/s]#015 17%|█▋        | 27/157 [00:08<00:42,  3.05it/s]#015 18%|█▊        | 28/157 [00:08<00:42,  3.05it/s]#015 18%|█▊        | 29/157 [00:09<00:42,  3.05it/s]#015 19%|█▉        | 30/157 [00:09<00:41,  3.05it/s]#015 20%|█▉        | 31/157 [00:09<00:41,  3.05it/s]#015 20%|██        | 32/157 [00:10<00:40,  3.06it/s]#015 21%|██        | 33/157 [00:10<00:40,  3.03it/s]#015 22%|██▏       | 34/157 [00:10<00:40,  3.03it/s]#015 22%|██▏       | 35/157 [00:11<00:40,  3.03it/s]#015 23%|██▎       | 36/157 [00:11<00:40,  3.02it/s]#015 24%|██▎       | 37/157 [00:11<00:39,  3.01it/s]#015 24%|██▍       | 38/157 [00:12<00:39,  3.02it/s]#015 25%|██▍       | 39/157 [00:12<00:38,  3.03it/s]#015 25%|██▌       | 40/157 [00:12<00:38,  3.04it/s]#015 26%|██▌       | 41/157 [00:13<00:38,  3.04it/s]#015 27%|██▋       | 42/157 [00:13<00:37,  3.04it/s]#015 27%|██▋       | 43/157 [00:13<00:37,  3.03it/s]#015 28%|██▊       | 44/157 [00:14<00:37,  3.03it/s]#015 29%|██▊       | 45/157 [00:14<00:36,  3.03it/s]#015 29%|██▉       | 46/157 [00:14<00:36,  3.03it/s]#015 30%|██▉       | 47/157 [00:15<00:36,  3.04it/s]#015 31%|███       | 48/157 [00:15<00:35,  3.04it/s]#015 31%|███       | 49/157 [00:15<00:35,  3.04it/s]#015 32%|███▏      | 50/157 [00:16<00:35,  3.04it/s]#015 32%|███▏      | 51/157 [00:16<00:34,  3.04it/s]#015 33%|███▎      | 52/157 [00:16<00:34,  3.03it/s]#015 34%|███▍      | 53/157 [00:17<00:34,  3.04it/s]#015 34%|███▍      | 54/157 [00:17<00:33,  3.03it/s]#015 35%|███▌      | 55/157 [00:17<00:33,  3.03it/s]#015 36%|███▌      | 56/157 [00:18<00:33,  3.04it/s]#015 36%|███▋      | 57/157 [00:18<00:32,  3.05it/s]#015 37%|███▋      | 58/157 [00:18<00:32,  3.05it/s]#015 38%|███▊      | 59/157 [00:19<00:32,  3.05it/s]#015 38%|███▊      | 60/157 [00:19<00:31,  3.06it/s]#015 39%|███▉      | 61/157 [00:19<00:31,  3.06it/s]#015 39%|███▉      | 62/157 [00:20<00:31,  3.05it/s]#015 40%|████      | 63/157 [00:20<00:30,  3.05it/s]#015 41%|████      | 64/157 [00:20<00:30,  3.05it/s]#015 41%|████▏     | 65/157 [00:21<00:30,  3.05it/s]#015 42%|████▏     | 66/157 [00:21<00:29,  3.06it/s]#015 43%|████▎     | 67/157 [00:21<00:29,  3.06it/s]#015 43%|████▎     | 68/157 [00:22<00:29,  3.05it/s]#015 44%|████▍     | 69/157 [00:22<00:28,  3.05it/s]#015 45%|████▍     | 70/157 [00:22<00:28,  3.05it/s]#015 45%|████▌     | 71/157 [00:22<00:28,  3.05it/s]#015 46%|████▌     | 72/157 [00:23<00:27,  3.06it/s]#015 46%|████▋     | 73/157 [00:23<00:27,  3.05it/s]#015 47%|████▋     | 74/157 [00:23<00:27,  3.06it/s]#015 48%|████▊     | 75/157 [00:24<00:26,  3.06it/s]#015 48%|████▊     | 76/157 [00:24<00:26,  3.05it/s]#015 49%|████▉     | 77/157 [00:24<00:26,  3.05it/s]#015 50%|████▉     | 78/157 [00:25<00:25,  3.06it/s]#015 50%|█████     | 79/157 [00:25<00:25,  3.06it/s]#015 51%|█████     | 80/157 [00:25<00:25,  3.05it/s]#015 52%|█████▏    | 81/157 [00:26<00:25,  3.04it/s]#015 52%|█████▏    | 82/157 [00:26<00:24,  3.04it/s]#015 53%|█████▎    | 83/157 [00:26<00:24,  3.04it/s]#015 54%|█████▎    | 84/157 [00:27<00:23,  3.05it/s]#015 54%|█████▍    | 85/157 [00:27<00:23,  3.05it/s]#015 55%|█████▍    | 86/157 [00:27<00:23,  3.05it/s]#015 55%|█████▌    | 87/157 [00:28<00:22,  3.06it/s]#015 56%|█████▌    | 88/157 [00:28<00:22,  3.06it/s]#015 57%|█████▋    | 89/157 [00:28<00:22,  3.06it/s]#015 57%|█████▋    | 90/157 [00:29<00:21,  3.06it/s]#015 58%|█████▊    | 91/157 [00:29<00:21,  3.06it/s]#015 59%|█████▊    | 92/157 [00:29<00:21,  3.06it/s]#015 59%|█████▉    | 93/157 [00:30<00:20,  3.06it/s]#015 60%|█████▉    | 94/157 [00:30<00:20,  3.05it/s]#015 61%|██████    | 95/157 [00:30<00:20,  3.05it/s]#015 61%|██████    | 96/157 [00:31<00:19,  3.05it/s]#015 62%|██████▏   | 97/157 [00:31<00:19,  3.05it/s]#015 62%|██████▏   | 98/157 [00:31<00:19,  3.05it/s]#015 63%|██████▎   | 99/157 [00:32<00:19,  3.04it/s]#015 64%|██████▎   | 100/157 [00:32<00:18,  3.05it/s]#015 64%|██████▍   | 101/157 [00:32<00:18,  3.04it/s]#015 65%|██████▍   | 102/157 [00:33<00:18,  3.03it/s]#015 66%|██████▌   | 103/157 [00:33<00:17,  3.03it/s]#015 66%|██████▌   | 104/157 [00:33<00:17,  3.03it/s]#015 67%|██████▋   | 105/157 [00:34<00:17,  3.04it/s]#015 68%|██████▊   | 106/157 [00:34<00:16,  3.04it/s]#015 68%|██████▊   | 107/157 [00:34<00:16,  3.04it/s]#015 69%|██████▉   | 108/157 [00:35<00:16,  3.04it/s]#015 69%|██████▉   | 109/157 [00:35<00:15,  3.04it/s]#015 70%|███████   | 110/157 [00:35<00:15,  3.04it/s]#015 71%|███████   | 111/157 [00:36<00:15,  3.05it/s]#015 71%|███████▏  | 112/157 [00:36<00:14,  3.05it/s]#015 72%|███████▏  | 113/157 [00:36<00:14,  3.05it/s]#015 73%|███████▎  | 114/157 [00:37<00:14,  3.05it/s]#015 73%|███████▎  | 115/157 [00:37<00:13,  3.05it/s]#015 74%|███████▍  | 116/157 [00:37<00:13,  3.04it/s]#015 75%|███████▍  | 117/157 [00:38<00:13,  3.05it/s]#015 75%|███████▌  | 118/157 [00:38<00:12,  3.05it/s]#015 76%|███████▌  | 119/157 [00:38<00:12,  3.05it/s]#015 76%|███████▋  | 120/157 [00:39<00:12,  3.05it/s]#015 77%|███████▋  | 121/157 [00:39<00:11,  3.05it/s]#015 78%|███████▊  | 122/157 [00:39<00:11,  3.05it/s]#015 78%|███████▊  | 123/157 [00:40<00:11,  3.05it/s]#015 79%|███████▉  | 124/157 [00:40<00:10,  3.05it/s]#015 80%|███████▉  | 125/157 [00:40<00:10,  3.05it/s]#015 80%|████████  | 126/157 [00:41<00:10,  3.05it/s]#015 81%|████████  | 127/157 [00:41<00:09,  3.05it/s]#015 82%|████████▏ | 128/157 [00:41<00:09,  3.05it/s]#015 82%|████████▏ | 129/157 [00:42<00:09,  3.05it/s]#015 83%|████████▎ | 130/157 [00:42<00:08,  3.05it/s]#015 83%|████████▎ | 131/157 [00:42<00:08,  3.05it/s]#015 84%|████████▍ | 132/157 [00:42<00:08,  3.05it/s]#015 85%|████████▍ | 133/157 [00:43<00:07,  3.05it/s]#015 85%|████████▌ | 134/157 [00:43<00:07,  3.05it/s]#015 86%|████████▌ | 135/157 [00:43<00:07,  3.05it/s]#015 87%|████████▋ | 136/157 [00:44<00:06,  3.04it/s]#015 87%|████████▋ | 137/157 [00:44<00:06,  3.02it/s]#015 88%|████████▊ | 138/157 [00:44<00:06,  3.01it/s]#015 89%|████████▊ | 139/157 [00:45<00:05,  3.02it/s]#015 89%|████████▉ | 140/157 [00:45<00:05,  3.03it/s]#015 90%|████████▉ | 141/157 [00:45<00:05,  3.02it/s]#015 90%|█████████ | 142/157 [00:46<00:04,  3.01it/s]#015 91%|█████████ | 143/157 [00:46<00:04,  3.01it/s]#015 92%|█████████▏| 144/157 [00:46<00:04,  3.02it/s]#015 92%|█████████▏| 145/157 [00:47<00:03,  3.03it/s]#015 93%|█████████▎| 146/157 [00:47<00:03,  3.03it/s]#015 94%|█████████▎| 147/157 [00:47<00:03,  3.02it/s]#015 94%|█████████▍| 148/157 [00:48<00:02,  3.03it/s]#015 95%|█████████▍| 149/157 [00:48<00:02,  3.04it/s]#015 96%|█████████▌| 150/157 [00:48<00:02,  3.03it/s]#015 96%|█████████▌| 151/157 [00:49<00:01,  3.03it/s]#015 97%|█████████▋| 152/157 [00:49<00:01,  3.04it/s]#015 97%|█████████▋| 153/157 [00:49<00:01,  3.04it/s]#015 98%|█████████▊| 154/157 [00:50<00:00,  3.04it/s]#015 99%|█████████▊| 155/157 [00:50<00:00,  3.05it/s]#015 99%|█████████▉| 156/157 [00:50<00:00,  3.05it/s]#015100%|██████████| 157/157 [00:51<00:00,  3.08it/s]\u001b[0m\n",
      "\n",
      "2022-02-18 00:56:41 Uploading - Uploading generated training model\n",
      "2022-02-18 00:59:01 Completed - Training job completed\n",
      "Training seconds: 955\n",
      "Billable seconds: 955\n"
     ]
    }
   ],
   "source": [
    "# starting the train job with our uploaded datasets as input\n",
    "huggingface_estimator.fit({'train': training_input_path, 'test': test_input_path})"
   ]
  },
  {
   "cell_type": "markdown",
   "metadata": {},
   "source": [
    "## Deploying the endpoint\n",
    "\n",
    "To deploy our endpoint, we call `deploy()` on our HuggingFace estimator object, passing in our desired number of instances and instance type."
   ]
  },
  {
   "cell_type": "code",
   "execution_count": 20,
   "metadata": {},
   "outputs": [
    {
     "name": "stdout",
     "output_type": "stream",
     "text": [
      "-------!"
     ]
    }
   ],
   "source": [
    "predictor = huggingface_estimator.deploy(1,\"ml.g4dn.xlarge\")"
   ]
  },
  {
   "cell_type": "markdown",
   "metadata": {},
   "source": [
    "Then, we use the returned predictor object to call the endpoint."
   ]
  },
  {
   "cell_type": "code",
   "execution_count": 23,
   "metadata": {},
   "outputs": [
    {
     "data": {
      "text/plain": [
       "[{'label': 'LABEL_1', 'score': 0.9655656814575195}]"
      ]
     },
     "execution_count": 23,
     "metadata": {},
     "output_type": "execute_result"
    }
   ],
   "source": [
    "sentiment_input= {\"inputs\":\"I love using the new Inference DLC.\"}\n",
    "\n",
    "predictor.predict(sentiment_input)"
   ]
  },
  {
   "cell_type": "markdown",
   "metadata": {},
   "source": [
    "Finally, we delete the endpoint again."
   ]
  },
  {
   "cell_type": "code",
   "execution_count": 24,
   "metadata": {},
   "outputs": [],
   "source": [
    "predictor.delete_endpoint()"
   ]
  },
  {
   "cell_type": "markdown",
   "metadata": {},
   "source": [
    "# Extras"
   ]
  },
  {
   "cell_type": "markdown",
   "metadata": {},
   "source": [
    "### Estimator Parameters"
   ]
  },
  {
   "cell_type": "code",
   "execution_count": 22,
   "metadata": {
    "scrolled": true
   },
   "outputs": [
    {
     "name": "stdout",
     "output_type": "stream",
     "text": [
      "container image used for training job: \n",
      "None\n",
      "\n",
      "s3 uri where the trained model is located: \n",
      "s3://sagemaker-us-east-1-647333706880/huggingface-pytorch-training-2022-02-18-00-39-49-588/output/model.tar.gz\n",
      "\n",
      "latest training job name for this estimator: \n",
      "huggingface-pytorch-training-2022-02-18-00-39-49-588\n",
      "\n"
     ]
    }
   ],
   "source": [
    "# container image used for training job\n",
    "print(f\"container image used for training job: \\n{huggingface_estimator.image_uri}\\n\")\n",
    "\n",
    "# s3 uri where the trained model is located\n",
    "print(f\"s3 uri where the trained model is located: \\n{huggingface_estimator.model_data}\\n\")\n",
    "\n",
    "# latest training job name for this estimator\n",
    "print(f\"latest training job name for this estimator: \\n{huggingface_estimator.latest_training_job.name}\\n\")\n",
    "\n"
   ]
  },
  {
   "cell_type": "code",
   "execution_count": 23,
   "metadata": {
    "collapsed": true,
    "jupyter": {
     "outputs_hidden": true
    }
   },
   "outputs": [
    {
     "name": "stdout",
     "output_type": "stream",
     "text": [
      "2022-02-18 00:59:21 Starting - Preparing the instances for training\n",
      "2022-02-18 00:59:21 Downloading - Downloading input data\n",
      "2022-02-18 00:59:21 Training - Training image download completed. Training in progress.\n",
      "2022-02-18 00:59:21 Uploading - Uploading generated training model\n",
      "2022-02-18 00:59:21 Completed - Training job completed\u001b[34mbash: cannot set terminal process group (-1): Inappropriate ioctl for device\u001b[0m\n",
      "\u001b[34mbash: no job control in this shell\u001b[0m\n",
      "\u001b[34m2022-02-18 00:46:22,223 sagemaker-training-toolkit INFO     Imported framework sagemaker_pytorch_container.training\u001b[0m\n",
      "\u001b[34m2022-02-18 00:46:22,246 sagemaker_pytorch_container.training INFO     Block until all host DNS lookups succeed.\u001b[0m\n",
      "\u001b[34m2022-02-18 00:46:22,257 sagemaker_pytorch_container.training INFO     Invoking user training script.\u001b[0m\n",
      "\u001b[34m2022-02-18 00:46:22,806 sagemaker-training-toolkit INFO     Invoking user script\u001b[0m\n",
      "\u001b[34mTraining Env:\u001b[0m\n",
      "\u001b[34m{\n",
      "    \"additional_framework_parameters\": {},\n",
      "    \"channel_input_dirs\": {\n",
      "        \"test\": \"/opt/ml/input/data/test\",\n",
      "        \"train\": \"/opt/ml/input/data/train\"\n",
      "    },\n",
      "    \"current_host\": \"algo-1\",\n",
      "    \"framework_module\": \"sagemaker_pytorch_container.training:main\",\n",
      "    \"hosts\": [\n",
      "        \"algo-1\"\n",
      "    ],\n",
      "    \"hyperparameters\": {\n",
      "        \"train_batch_size\": 32,\n",
      "        \"model_name\": \"distilbert-base-uncased\",\n",
      "        \"epochs\": 1\n",
      "    },\n",
      "    \"input_config_dir\": \"/opt/ml/input/config\",\n",
      "    \"input_data_config\": {\n",
      "        \"test\": {\n",
      "            \"TrainingInputMode\": \"File\",\n",
      "            \"S3DistributionType\": \"FullyReplicated\",\n",
      "            \"RecordWrapperType\": \"None\"\n",
      "        },\n",
      "        \"train\": {\n",
      "            \"TrainingInputMode\": \"File\",\n",
      "            \"S3DistributionType\": \"FullyReplicated\",\n",
      "            \"RecordWrapperType\": \"None\"\n",
      "        }\n",
      "    },\n",
      "    \"input_dir\": \"/opt/ml/input\",\n",
      "    \"is_master\": true,\n",
      "    \"job_name\": \"huggingface-pytorch-training-2022-02-18-00-39-49-588\",\n",
      "    \"log_level\": 20,\n",
      "    \"master_hostname\": \"algo-1\",\n",
      "    \"model_dir\": \"/opt/ml/model\",\n",
      "    \"module_dir\": \"s3://sagemaker-us-east-1-647333706880/huggingface-pytorch-training-2022-02-18-00-39-49-588/source/sourcedir.tar.gz\",\n",
      "    \"module_name\": \"train\",\n",
      "    \"network_interface_name\": \"eth0\",\n",
      "    \"num_cpus\": 8,\n",
      "    \"num_gpus\": 1,\n",
      "    \"output_data_dir\": \"/opt/ml/output/data\",\n",
      "    \"output_dir\": \"/opt/ml/output\",\n",
      "    \"output_intermediate_dir\": \"/opt/ml/output/intermediate\",\n",
      "    \"resource_config\": {\n",
      "        \"current_host\": \"algo-1\",\n",
      "        \"hosts\": [\n",
      "            \"algo-1\"\n",
      "        ],\n",
      "        \"network_interface_name\": \"eth0\"\n",
      "    },\n",
      "    \"user_entry_point\": \"train.py\"\u001b[0m\n",
      "\u001b[34m}\u001b[0m\n",
      "\u001b[34mEnvironment variables:\u001b[0m\n",
      "\u001b[34mSM_HOSTS=[\"algo-1\"]\u001b[0m\n",
      "\u001b[34mSM_NETWORK_INTERFACE_NAME=eth0\u001b[0m\n",
      "\u001b[34mSM_HPS={\"epochs\":1,\"model_name\":\"distilbert-base-uncased\",\"train_batch_size\":32}\u001b[0m\n",
      "\u001b[34mSM_USER_ENTRY_POINT=train.py\u001b[0m\n",
      "\u001b[34mSM_FRAMEWORK_PARAMS={}\u001b[0m\n",
      "\u001b[34mSM_RESOURCE_CONFIG={\"current_host\":\"algo-1\",\"hosts\":[\"algo-1\"],\"network_interface_name\":\"eth0\"}\u001b[0m\n",
      "\u001b[34mSM_INPUT_DATA_CONFIG={\"test\":{\"RecordWrapperType\":\"None\",\"S3DistributionType\":\"FullyReplicated\",\"TrainingInputMode\":\"File\"},\"train\":{\"RecordWrapperType\":\"None\",\"S3DistributionType\":\"FullyReplicated\",\"TrainingInputMode\":\"File\"}}\u001b[0m\n",
      "\u001b[34mSM_OUTPUT_DATA_DIR=/opt/ml/output/data\u001b[0m\n",
      "\u001b[34mSM_CHANNELS=[\"test\",\"train\"]\u001b[0m\n",
      "\u001b[34mSM_CURRENT_HOST=algo-1\u001b[0m\n",
      "\u001b[34mSM_MODULE_NAME=train\u001b[0m\n",
      "\u001b[34mSM_LOG_LEVEL=20\u001b[0m\n",
      "\u001b[34mSM_FRAMEWORK_MODULE=sagemaker_pytorch_container.training:main\u001b[0m\n",
      "\u001b[34mSM_INPUT_DIR=/opt/ml/input\u001b[0m\n",
      "\u001b[34mSM_INPUT_CONFIG_DIR=/opt/ml/input/config\u001b[0m\n",
      "\u001b[34mSM_OUTPUT_DIR=/opt/ml/output\u001b[0m\n",
      "\u001b[34mSM_NUM_CPUS=8\u001b[0m\n",
      "\u001b[34mSM_NUM_GPUS=1\u001b[0m\n",
      "\u001b[34mSM_MODEL_DIR=/opt/ml/model\u001b[0m\n",
      "\u001b[34mSM_MODULE_DIR=s3://sagemaker-us-east-1-647333706880/huggingface-pytorch-training-2022-02-18-00-39-49-588/source/sourcedir.tar.gz\u001b[0m\n",
      "\u001b[34mSM_TRAINING_ENV={\"additional_framework_parameters\":{},\"channel_input_dirs\":{\"test\":\"/opt/ml/input/data/test\",\"train\":\"/opt/ml/input/data/train\"},\"current_host\":\"algo-1\",\"framework_module\":\"sagemaker_pytorch_container.training:main\",\"hosts\":[\"algo-1\"],\"hyperparameters\":{\"epochs\":1,\"model_name\":\"distilbert-base-uncased\",\"train_batch_size\":32},\"input_config_dir\":\"/opt/ml/input/config\",\"input_data_config\":{\"test\":{\"RecordWrapperType\":\"None\",\"S3DistributionType\":\"FullyReplicated\",\"TrainingInputMode\":\"File\"},\"train\":{\"RecordWrapperType\":\"None\",\"S3DistributionType\":\"FullyReplicated\",\"TrainingInputMode\":\"File\"}},\"input_dir\":\"/opt/ml/input\",\"is_master\":true,\"job_name\":\"huggingface-pytorch-training-2022-02-18-00-39-49-588\",\"log_level\":20,\"master_hostname\":\"algo-1\",\"model_dir\":\"/opt/ml/model\",\"module_dir\":\"s3://sagemaker-us-east-1-647333706880/huggingface-pytorch-training-2022-02-18-00-39-49-588/source/sourcedir.tar.gz\",\"module_name\":\"train\",\"network_interface_name\":\"eth0\",\"num_cpus\":8,\"num_gpus\":1,\"output_data_dir\":\"/opt/ml/output/data\",\"output_dir\":\"/opt/ml/output\",\"output_intermediate_dir\":\"/opt/ml/output/intermediate\",\"resource_config\":{\"current_host\":\"algo-1\",\"hosts\":[\"algo-1\"],\"network_interface_name\":\"eth0\"},\"user_entry_point\":\"train.py\"}\u001b[0m\n",
      "\u001b[34mSM_USER_ARGS=[\"--epochs\",\"1\",\"--model_name\",\"distilbert-base-uncased\",\"--train_batch_size\",\"32\"]\u001b[0m\n",
      "\u001b[34mSM_OUTPUT_INTERMEDIATE_DIR=/opt/ml/output/intermediate\u001b[0m\n",
      "\u001b[34mSM_CHANNEL_TEST=/opt/ml/input/data/test\u001b[0m\n",
      "\u001b[34mSM_CHANNEL_TRAIN=/opt/ml/input/data/train\u001b[0m\n",
      "\u001b[34mSM_HP_TRAIN_BATCH_SIZE=32\u001b[0m\n",
      "\u001b[34mSM_HP_MODEL_NAME=distilbert-base-uncased\u001b[0m\n",
      "\u001b[34mSM_HP_EPOCHS=1\u001b[0m\n",
      "\u001b[34mPYTHONPATH=/opt/ml/code:/opt/conda/bin:/opt/conda/lib/python36.zip:/opt/conda/lib/python3.6:/opt/conda/lib/python3.6/lib-dynload:/opt/conda/lib/python3.6/site-packages\u001b[0m\n",
      "\u001b[34mInvoking script with the following command:\u001b[0m\n",
      "\u001b[34m/opt/conda/bin/python3.6 train.py --epochs 1 --model_name distilbert-base-uncased --train_batch_size 32\u001b[0m\n",
      "\u001b[34m2022-02-18 00:46:28,698 - __main__ - INFO -  loaded train_dataset length is: 25000\u001b[0m\n",
      "\u001b[34m2022-02-18 00:46:28,698 - __main__ - INFO -  loaded test_dataset length is: 10000\u001b[0m\n",
      "\u001b[34m2022-02-18 00:46:28,733 - filelock - INFO - Lock 140690432969024 acquired on /root/.cache/huggingface/transformers/23454919702d26495337f3da04d1655c7ee010d5ec9d77bdb9e399e00302c0a1.91b885ab15d631bf9cee9dc9d25ece0afd932f2f5130eba28f2055b2220c0333.lock\u001b[0m\n",
      "\u001b[34m2022-02-18 00:46:28,762 - filelock - INFO - Lock 140690432969024 released on /root/.cache/huggingface/transformers/23454919702d26495337f3da04d1655c7ee010d5ec9d77bdb9e399e00302c0a1.91b885ab15d631bf9cee9dc9d25ece0afd932f2f5130eba28f2055b2220c0333.lock\u001b[0m\n",
      "\u001b[34m2022-02-18 00:46:28,793 - filelock - INFO - Lock 140690198083232 acquired on /root/.cache/huggingface/transformers/9c169103d7e5a73936dd2b627e42851bec0831212b677c637033ee4bce9ab5ee.126183e36667471617ae2f0835fab707baa54b731f991507ebbb55ea85adb12a.lock\u001b[0m\n",
      "\u001b[34m2022-02-18 00:46:33,413 - filelock - INFO - Lock 140690198083232 released on /root/.cache/huggingface/transformers/9c169103d7e5a73936dd2b627e42851bec0831212b677c637033ee4bce9ab5ee.126183e36667471617ae2f0835fab707baa54b731f991507ebbb55ea85adb12a.lock\u001b[0m\n",
      "\u001b[34mSome weights of the model checkpoint at distilbert-base-uncased were not used when initializing DistilBertForSequenceClassification: ['vocab_projector.bias', 'vocab_projector.weight', 'vocab_layer_norm.weight', 'vocab_layer_norm.bias', 'vocab_transform.weight', 'vocab_transform.bias']\u001b[0m\n",
      "\u001b[34m- This IS expected if you are initializing DistilBertForSequenceClassification from the checkpoint of a model trained on another task or with another architecture (e.g. initializing a BertForSequenceClassification model from a BertForPreTraining model).\u001b[0m\n",
      "\u001b[34m- This IS NOT expected if you are initializing DistilBertForSequenceClassification from the checkpoint of a model that you expect to be exactly identical (initializing a BertForSequenceClassification model from a BertForSequenceClassification model).\u001b[0m\n",
      "\u001b[34mSome weights of DistilBertForSequenceClassification were not initialized from the model checkpoint at distilbert-base-uncased and are newly initialized: ['classifier.bias', 'pre_classifier.bias', 'pre_classifier.weight', 'classifier.weight']\u001b[0m\n",
      "\u001b[34mYou should probably TRAIN this model on a down-stream task to be able to use it for predictions and inference.\u001b[0m\n",
      "\u001b[34m2022-02-18 00:46:34,348 - filelock - INFO - Lock 140690191919144 acquired on /root/.cache/huggingface/transformers/0e1bbfda7f63a99bb52e3915dcf10c3c92122b827d92eb2d34ce94ee79ba486c.d789d64ebfe299b0e416afc4a169632f903f693095b4629a7ea271d5a0cf2c99.lock\u001b[0m\n",
      "\u001b[34m2022-02-18 00:46:34,382 - filelock - INFO - Lock 140690191919144 released on /root/.cache/huggingface/transformers/0e1bbfda7f63a99bb52e3915dcf10c3c92122b827d92eb2d34ce94ee79ba486c.d789d64ebfe299b0e416afc4a169632f903f693095b4629a7ea271d5a0cf2c99.lock\u001b[0m\n",
      "\u001b[34m2022-02-18 00:46:34,410 - filelock - INFO - Lock 140690191919536 acquired on /root/.cache/huggingface/transformers/75abb59d7a06f4f640158a9bfcde005264e59e8d566781ab1415b139d2e4c603.7f2721073f19841be16f41b0a70b600ca6b880c8f3df6f3535cbc704371bdfa4.lock\u001b[0m\n",
      "\u001b[34m2022-02-18 00:46:34,448 - filelock - INFO - Lock 140690191919536 released on /root/.cache/huggingface/transformers/75abb59d7a06f4f640158a9bfcde005264e59e8d566781ab1415b139d2e4c603.7f2721073f19841be16f41b0a70b600ca6b880c8f3df6f3535cbc704371bdfa4.lock\u001b[0m\n",
      "\u001b[34m2022-02-18 00:46:34,540 - filelock - INFO - Lock 140690191920992 acquired on /root/.cache/huggingface/transformers/8c8624b8ac8aa99c60c912161f8332de003484428c47906d7ff7eb7f73eecdbb.20430bd8e10ef77a7d2977accefe796051e01bc2fc4aa146bc862997a1a15e79.lock\u001b[0m\n",
      "\u001b[34m2022-02-18 00:46:34,565 - filelock - INFO - Lock 140690191920992 released on /root/.cache/huggingface/transformers/8c8624b8ac8aa99c60c912161f8332de003484428c47906d7ff7eb7f73eecdbb.20430bd8e10ef77a7d2977accefe796051e01bc2fc4aa146bc862997a1a15e79.lock\u001b[0m\n",
      "\u001b[34m[2022-02-18 00:46:40.640 algo-1:26 INFO utils.py:27] RULE_JOB_STOP_SIGNAL_FILENAME: None\u001b[0m\n",
      "\u001b[34m[2022-02-18 00:46:40.815 algo-1:26 INFO profiler_config_parser.py:102] User has disabled profiler.\u001b[0m\n",
      "\u001b[34m[2022-02-18 00:46:40.816 algo-1:26 INFO json_config.py:91] Creating hook from json_config at /opt/ml/input/config/debughookconfig.json.\u001b[0m\n",
      "\u001b[34m[2022-02-18 00:46:40.817 algo-1:26 INFO hook.py:201] tensorboard_dir has not been set for the hook. SMDebug will not be exporting tensorboard summaries.\u001b[0m\n",
      "\u001b[34m[2022-02-18 00:46:40.818 algo-1:26 INFO hook.py:255] Saving to /opt/ml/output/tensors\u001b[0m\n",
      "\u001b[34m[2022-02-18 00:46:40.818 algo-1:26 INFO state_store.py:77] The checkpoint config file /opt/ml/input/config/checkpointconfig.json does not exist.\u001b[0m\n",
      "\u001b[34m[2022-02-18 00:46:41.027 algo-1:26 INFO hook.py:591] name:distilbert.embeddings.word_embeddings.weight count_params:23440896\u001b[0m\n",
      "\u001b[34m[2022-02-18 00:46:41.027 algo-1:26 INFO hook.py:591] name:distilbert.embeddings.position_embeddings.weight count_params:393216\u001b[0m\n",
      "\u001b[34m[2022-02-18 00:46:41.027 algo-1:26 INFO hook.py:591] name:distilbert.embeddings.LayerNorm.weight count_params:768\u001b[0m\n",
      "\u001b[34m[2022-02-18 00:46:41.028 algo-1:26 INFO hook.py:591] name:distilbert.embeddings.LayerNorm.bias count_params:768\u001b[0m\n",
      "\u001b[34m[2022-02-18 00:46:41.028 algo-1:26 INFO hook.py:591] name:distilbert.transformer.layer.0.attention.q_lin.weight count_params:589824\u001b[0m\n",
      "\u001b[34m[2022-02-18 00:46:41.028 algo-1:26 INFO hook.py:591] name:distilbert.transformer.layer.0.attention.q_lin.bias count_params:768\u001b[0m\n",
      "\u001b[34m[2022-02-18 00:46:41.028 algo-1:26 INFO hook.py:591] name:distilbert.transformer.layer.0.attention.k_lin.weight count_params:589824\u001b[0m\n",
      "\u001b[34m[2022-02-18 00:46:41.028 algo-1:26 INFO hook.py:591] name:distilbert.transformer.layer.0.attention.k_lin.bias count_params:768\u001b[0m\n",
      "\u001b[34m[2022-02-18 00:46:41.028 algo-1:26 INFO hook.py:591] name:distilbert.transformer.layer.0.attention.v_lin.weight count_params:589824\u001b[0m\n",
      "\u001b[34m[2022-02-18 00:46:41.028 algo-1:26 INFO hook.py:591] name:distilbert.transformer.layer.0.attention.v_lin.bias count_params:768\u001b[0m\n",
      "\u001b[34m[2022-02-18 00:46:41.029 algo-1:26 INFO hook.py:591] name:distilbert.transformer.layer.0.attention.out_lin.weight count_params:589824\u001b[0m\n",
      "\u001b[34m[2022-02-18 00:46:41.029 algo-1:26 INFO hook.py:591] name:distilbert.transformer.layer.0.attention.out_lin.bias count_params:768\u001b[0m\n",
      "\u001b[34m[2022-02-18 00:46:41.029 algo-1:26 INFO hook.py:591] name:distilbert.transformer.layer.0.sa_layer_norm.weight count_params:768\u001b[0m\n",
      "\u001b[34m[2022-02-18 00:46:41.029 algo-1:26 INFO hook.py:591] name:distilbert.transformer.layer.0.sa_layer_norm.bias count_params:768\u001b[0m\n",
      "\u001b[34m[2022-02-18 00:46:41.029 algo-1:26 INFO hook.py:591] name:distilbert.transformer.layer.0.ffn.lin1.weight count_params:2359296\u001b[0m\n",
      "\u001b[34m[2022-02-18 00:46:41.029 algo-1:26 INFO hook.py:591] name:distilbert.transformer.layer.0.ffn.lin1.bias count_params:3072\u001b[0m\n",
      "\u001b[34m[2022-02-18 00:46:41.029 algo-1:26 INFO hook.py:591] name:distilbert.transformer.layer.0.ffn.lin2.weight count_params:2359296\u001b[0m\n",
      "\u001b[34m[2022-02-18 00:46:41.030 algo-1:26 INFO hook.py:591] name:distilbert.transformer.layer.0.ffn.lin2.bias count_params:768\u001b[0m\n",
      "\u001b[34m[2022-02-18 00:46:41.030 algo-1:26 INFO hook.py:591] name:distilbert.transformer.layer.0.output_layer_norm.weight count_params:768\u001b[0m\n",
      "\u001b[34m[2022-02-18 00:46:41.030 algo-1:26 INFO hook.py:591] name:distilbert.transformer.layer.0.output_layer_norm.bias count_params:768\u001b[0m\n",
      "\u001b[34m[2022-02-18 00:46:41.030 algo-1:26 INFO hook.py:591] name:distilbert.transformer.layer.1.attention.q_lin.weight count_params:589824\u001b[0m\n",
      "\u001b[34m[2022-02-18 00:46:41.030 algo-1:26 INFO hook.py:591] name:distilbert.transformer.layer.1.attention.q_lin.bias count_params:768\u001b[0m\n",
      "\u001b[34m[2022-02-18 00:46:41.030 algo-1:26 INFO hook.py:591] name:distilbert.transformer.layer.1.attention.k_lin.weight count_params:589824\u001b[0m\n",
      "\u001b[34m[2022-02-18 00:46:41.030 algo-1:26 INFO hook.py:591] name:distilbert.transformer.layer.1.attention.k_lin.bias count_params:768\u001b[0m\n",
      "\u001b[34m[2022-02-18 00:46:41.031 algo-1:26 INFO hook.py:591] name:distilbert.transformer.layer.1.attention.v_lin.weight count_params:589824\u001b[0m\n",
      "\u001b[34m[2022-02-18 00:46:41.031 algo-1:26 INFO hook.py:591] name:distilbert.transformer.layer.1.attention.v_lin.bias count_params:768\u001b[0m\n",
      "\u001b[34m[2022-02-18 00:46:41.031 algo-1:26 INFO hook.py:591] name:distilbert.transformer.layer.1.attention.out_lin.weight count_params:589824\u001b[0m\n",
      "\u001b[34m[2022-02-18 00:46:41.031 algo-1:26 INFO hook.py:591] name:distilbert.transformer.layer.1.attention.out_lin.bias count_params:768\u001b[0m\n",
      "\u001b[34m[2022-02-18 00:46:41.031 algo-1:26 INFO hook.py:591] name:distilbert.transformer.layer.1.sa_layer_norm.weight count_params:768\u001b[0m\n",
      "\u001b[34m[2022-02-18 00:46:41.031 algo-1:26 INFO hook.py:591] name:distilbert.transformer.layer.1.sa_layer_norm.bias count_params:768\u001b[0m\n",
      "\u001b[34m[2022-02-18 00:46:41.031 algo-1:26 INFO hook.py:591] name:distilbert.transformer.layer.1.ffn.lin1.weight count_params:2359296\u001b[0m\n",
      "\u001b[34m[2022-02-18 00:46:41.032 algo-1:26 INFO hook.py:591] name:distilbert.transformer.layer.1.ffn.lin1.bias count_params:3072\u001b[0m\n",
      "\u001b[34m[2022-02-18 00:46:41.032 algo-1:26 INFO hook.py:591] name:distilbert.transformer.layer.1.ffn.lin2.weight count_params:2359296\u001b[0m\n",
      "\u001b[34m[2022-02-18 00:46:41.032 algo-1:26 INFO hook.py:591] name:distilbert.transformer.layer.1.ffn.lin2.bias count_params:768\u001b[0m\n",
      "\u001b[34m[2022-02-18 00:46:41.032 algo-1:26 INFO hook.py:591] name:distilbert.transformer.layer.1.output_layer_norm.weight count_params:768\u001b[0m\n",
      "\u001b[34m[2022-02-18 00:46:41.032 algo-1:26 INFO hook.py:591] name:distilbert.transformer.layer.1.output_layer_norm.bias count_params:768\u001b[0m\n",
      "\u001b[34m[2022-02-18 00:46:41.032 algo-1:26 INFO hook.py:591] name:distilbert.transformer.layer.2.attention.q_lin.weight count_params:589824\u001b[0m\n",
      "\u001b[34m[2022-02-18 00:46:41.032 algo-1:26 INFO hook.py:591] name:distilbert.transformer.layer.2.attention.q_lin.bias count_params:768\u001b[0m\n",
      "\u001b[34m[2022-02-18 00:46:41.032 algo-1:26 INFO hook.py:591] name:distilbert.transformer.layer.2.attention.k_lin.weight count_params:589824\u001b[0m\n",
      "\u001b[34m[2022-02-18 00:46:41.033 algo-1:26 INFO hook.py:591] name:distilbert.transformer.layer.2.attention.k_lin.bias count_params:768\u001b[0m\n",
      "\u001b[34m[2022-02-18 00:46:41.033 algo-1:26 INFO hook.py:591] name:distilbert.transformer.layer.2.attention.v_lin.weight count_params:589824\u001b[0m\n",
      "\u001b[34m[2022-02-18 00:46:41.033 algo-1:26 INFO hook.py:591] name:distilbert.transformer.layer.2.attention.v_lin.bias count_params:768\u001b[0m\n",
      "\u001b[34m[2022-02-18 00:46:41.033 algo-1:26 INFO hook.py:591] name:distilbert.transformer.layer.2.attention.out_lin.weight count_params:589824\u001b[0m\n",
      "\u001b[34m[2022-02-18 00:46:41.033 algo-1:26 INFO hook.py:591] name:distilbert.transformer.layer.2.attention.out_lin.bias count_params:768\u001b[0m\n",
      "\u001b[34m[2022-02-18 00:46:41.033 algo-1:26 INFO hook.py:591] name:distilbert.transformer.layer.2.sa_layer_norm.weight count_params:768\u001b[0m\n",
      "\u001b[34m[2022-02-18 00:46:41.033 algo-1:26 INFO hook.py:591] name:distilbert.transformer.layer.2.sa_layer_norm.bias count_params:768\u001b[0m\n",
      "\u001b[34m[2022-02-18 00:46:41.033 algo-1:26 INFO hook.py:591] name:distilbert.transformer.layer.2.ffn.lin1.weight count_params:2359296\u001b[0m\n",
      "\u001b[34m[2022-02-18 00:46:41.034 algo-1:26 INFO hook.py:591] name:distilbert.transformer.layer.2.ffn.lin1.bias count_params:3072\u001b[0m\n",
      "\u001b[34m[2022-02-18 00:46:41.034 algo-1:26 INFO hook.py:591] name:distilbert.transformer.layer.2.ffn.lin2.weight count_params:2359296\u001b[0m\n",
      "\u001b[34m[2022-02-18 00:46:41.034 algo-1:26 INFO hook.py:591] name:distilbert.transformer.layer.2.ffn.lin2.bias count_params:768\u001b[0m\n",
      "\u001b[34m[2022-02-18 00:46:41.034 algo-1:26 INFO hook.py:591] name:distilbert.transformer.layer.2.output_layer_norm.weight count_params:768\u001b[0m\n",
      "\u001b[34m[2022-02-18 00:46:41.034 algo-1:26 INFO hook.py:591] name:distilbert.transformer.layer.2.output_layer_norm.bias count_params:768\u001b[0m\n",
      "\u001b[34m[2022-02-18 00:46:41.034 algo-1:26 INFO hook.py:591] name:distilbert.transformer.layer.3.attention.q_lin.weight count_params:589824\u001b[0m\n",
      "\u001b[34m[2022-02-18 00:46:41.034 algo-1:26 INFO hook.py:591] name:distilbert.transformer.layer.3.attention.q_lin.bias count_params:768\u001b[0m\n",
      "\u001b[34m[2022-02-18 00:46:41.035 algo-1:26 INFO hook.py:591] name:distilbert.transformer.layer.3.attention.k_lin.weight count_params:589824\u001b[0m\n",
      "\u001b[34m[2022-02-18 00:46:41.035 algo-1:26 INFO hook.py:591] name:distilbert.transformer.layer.3.attention.k_lin.bias count_params:768\u001b[0m\n",
      "\u001b[34m[2022-02-18 00:46:41.035 algo-1:26 INFO hook.py:591] name:distilbert.transformer.layer.3.attention.v_lin.weight count_params:589824\u001b[0m\n",
      "\u001b[34m[2022-02-18 00:46:41.035 algo-1:26 INFO hook.py:591] name:distilbert.transformer.layer.3.attention.v_lin.bias count_params:768\u001b[0m\n",
      "\u001b[34m[2022-02-18 00:46:41.035 algo-1:26 INFO hook.py:591] name:distilbert.transformer.layer.3.attention.out_lin.weight count_params:589824\u001b[0m\n",
      "\u001b[34m[2022-02-18 00:46:41.035 algo-1:26 INFO hook.py:591] name:distilbert.transformer.layer.3.attention.out_lin.bias count_params:768\u001b[0m\n",
      "\u001b[34m[2022-02-18 00:46:41.035 algo-1:26 INFO hook.py:591] name:distilbert.transformer.layer.3.sa_layer_norm.weight count_params:768\u001b[0m\n",
      "\u001b[34m[2022-02-18 00:46:41.035 algo-1:26 INFO hook.py:591] name:distilbert.transformer.layer.3.sa_layer_norm.bias count_params:768\u001b[0m\n",
      "\u001b[34m[2022-02-18 00:46:41.035 algo-1:26 INFO hook.py:591] name:distilbert.transformer.layer.3.ffn.lin1.weight count_params:2359296\u001b[0m\n",
      "\u001b[34m[2022-02-18 00:46:41.036 algo-1:26 INFO hook.py:591] name:distilbert.transformer.layer.3.ffn.lin1.bias count_params:3072\u001b[0m\n",
      "\u001b[34m[2022-02-18 00:46:41.036 algo-1:26 INFO hook.py:591] name:distilbert.transformer.layer.3.ffn.lin2.weight count_params:2359296\u001b[0m\n",
      "\u001b[34m[2022-02-18 00:46:41.036 algo-1:26 INFO hook.py:591] name:distilbert.transformer.layer.3.ffn.lin2.bias count_params:768\u001b[0m\n",
      "\u001b[34m[2022-02-18 00:46:41.036 algo-1:26 INFO hook.py:591] name:distilbert.transformer.layer.3.output_layer_norm.weight count_params:768\u001b[0m\n",
      "\u001b[34m[2022-02-18 00:46:41.036 algo-1:26 INFO hook.py:591] name:distilbert.transformer.layer.3.output_layer_norm.bias count_params:768\u001b[0m\n",
      "\u001b[34m[2022-02-18 00:46:41.036 algo-1:26 INFO hook.py:591] name:distilbert.transformer.layer.4.attention.q_lin.weight count_params:589824\u001b[0m\n",
      "\u001b[34m[2022-02-18 00:46:41.036 algo-1:26 INFO hook.py:591] name:distilbert.transformer.layer.4.attention.q_lin.bias count_params:768\u001b[0m\n",
      "\u001b[34m[2022-02-18 00:46:41.037 algo-1:26 INFO hook.py:591] name:distilbert.transformer.layer.4.attention.k_lin.weight count_params:589824\u001b[0m\n",
      "\u001b[34m[2022-02-18 00:46:41.037 algo-1:26 INFO hook.py:591] name:distilbert.transformer.layer.4.attention.k_lin.bias count_params:768\u001b[0m\n",
      "\u001b[34m[2022-02-18 00:46:41.037 algo-1:26 INFO hook.py:591] name:distilbert.transformer.layer.4.attention.v_lin.weight count_params:589824\u001b[0m\n",
      "\u001b[34m[2022-02-18 00:46:41.037 algo-1:26 INFO hook.py:591] name:distilbert.transformer.layer.4.attention.v_lin.bias count_params:768\u001b[0m\n",
      "\u001b[34m[2022-02-18 00:46:41.037 algo-1:26 INFO hook.py:591] name:distilbert.transformer.layer.4.attention.out_lin.weight count_params:589824\u001b[0m\n",
      "\u001b[34m[2022-02-18 00:46:41.037 algo-1:26 INFO hook.py:591] name:distilbert.transformer.layer.4.attention.out_lin.bias count_params:768\u001b[0m\n",
      "\u001b[34m[2022-02-18 00:46:41.038 algo-1:26 INFO hook.py:591] name:distilbert.transformer.layer.4.sa_layer_norm.weight count_params:768\u001b[0m\n",
      "\u001b[34m[2022-02-18 00:46:41.038 algo-1:26 INFO hook.py:591] name:distilbert.transformer.layer.4.sa_layer_norm.bias count_params:768\u001b[0m\n",
      "\u001b[34m[2022-02-18 00:46:41.038 algo-1:26 INFO hook.py:591] name:distilbert.transformer.layer.4.ffn.lin1.weight count_params:2359296\u001b[0m\n",
      "\u001b[34m[2022-02-18 00:46:41.038 algo-1:26 INFO hook.py:591] name:distilbert.transformer.layer.4.ffn.lin1.bias count_params:3072\u001b[0m\n",
      "\u001b[34m[2022-02-18 00:46:41.038 algo-1:26 INFO hook.py:591] name:distilbert.transformer.layer.4.ffn.lin2.weight count_params:2359296\u001b[0m\n",
      "\u001b[34m[2022-02-18 00:46:41.038 algo-1:26 INFO hook.py:591] name:distilbert.transformer.layer.4.ffn.lin2.bias count_params:768\u001b[0m\n",
      "\u001b[34m[2022-02-18 00:46:41.038 algo-1:26 INFO hook.py:591] name:distilbert.transformer.layer.4.output_layer_norm.weight count_params:768\u001b[0m\n",
      "\u001b[34m[2022-02-18 00:46:41.039 algo-1:26 INFO hook.py:591] name:distilbert.transformer.layer.4.output_layer_norm.bias count_params:768\u001b[0m\n",
      "\u001b[34m[2022-02-18 00:46:41.039 algo-1:26 INFO hook.py:591] name:distilbert.transformer.layer.5.attention.q_lin.weight count_params:589824\u001b[0m\n",
      "\u001b[34m[2022-02-18 00:46:41.039 algo-1:26 INFO hook.py:591] name:distilbert.transformer.layer.5.attention.q_lin.bias count_params:768\u001b[0m\n",
      "\u001b[34m[2022-02-18 00:46:41.039 algo-1:26 INFO hook.py:591] name:distilbert.transformer.layer.5.attention.k_lin.weight count_params:589824\u001b[0m\n",
      "\u001b[34m[2022-02-18 00:46:41.039 algo-1:26 INFO hook.py:591] name:distilbert.transformer.layer.5.attention.k_lin.bias count_params:768\u001b[0m\n",
      "\u001b[34m[2022-02-18 00:46:41.039 algo-1:26 INFO hook.py:591] name:distilbert.transformer.layer.5.attention.v_lin.weight count_params:589824\u001b[0m\n",
      "\u001b[34m[2022-02-18 00:46:41.039 algo-1:26 INFO hook.py:591] name:distilbert.transformer.layer.5.attention.v_lin.bias count_params:768\u001b[0m\n",
      "\u001b[34m[2022-02-18 00:46:41.039 algo-1:26 INFO hook.py:591] name:distilbert.transformer.layer.5.attention.out_lin.weight count_params:589824\u001b[0m\n",
      "\u001b[34m[2022-02-18 00:46:41.039 algo-1:26 INFO hook.py:591] name:distilbert.transformer.layer.5.attention.out_lin.bias count_params:768\u001b[0m\n",
      "\u001b[34m[2022-02-18 00:46:41.040 algo-1:26 INFO hook.py:591] name:distilbert.transformer.layer.5.sa_layer_norm.weight count_params:768\u001b[0m\n",
      "\u001b[34m[2022-02-18 00:46:41.040 algo-1:26 INFO hook.py:591] name:distilbert.transformer.layer.5.sa_layer_norm.bias count_params:768\u001b[0m\n",
      "\u001b[34m[2022-02-18 00:46:41.040 algo-1:26 INFO hook.py:591] name:distilbert.transformer.layer.5.ffn.lin1.weight count_params:2359296\u001b[0m\n",
      "\u001b[34m[2022-02-18 00:46:41.040 algo-1:26 INFO hook.py:591] name:distilbert.transformer.layer.5.ffn.lin1.bias count_params:3072\u001b[0m\n",
      "\u001b[34m[2022-02-18 00:46:41.040 algo-1:26 INFO hook.py:591] name:distilbert.transformer.layer.5.ffn.lin2.weight count_params:2359296\u001b[0m\n",
      "\u001b[34m[2022-02-18 00:46:41.040 algo-1:26 INFO hook.py:591] name:distilbert.transformer.layer.5.ffn.lin2.bias count_params:768\u001b[0m\n",
      "\u001b[34m[2022-02-18 00:46:41.040 algo-1:26 INFO hook.py:591] name:distilbert.transformer.layer.5.output_layer_norm.weight count_params:768\u001b[0m\n",
      "\u001b[34m[2022-02-18 00:46:41.040 algo-1:26 INFO hook.py:591] name:distilbert.transformer.layer.5.output_layer_norm.bias count_params:768\u001b[0m\n",
      "\u001b[34m[2022-02-18 00:46:41.040 algo-1:26 INFO hook.py:591] name:pre_classifier.weight count_params:589824\u001b[0m\n",
      "\u001b[34m[2022-02-18 00:46:41.041 algo-1:26 INFO hook.py:591] name:pre_classifier.bias count_params:768\u001b[0m\n",
      "\u001b[34m[2022-02-18 00:46:41.041 algo-1:26 INFO hook.py:591] name:classifier.weight count_params:1536\u001b[0m\n",
      "\u001b[34m[2022-02-18 00:46:41.041 algo-1:26 INFO hook.py:591] name:classifier.bias count_params:2\u001b[0m\n",
      "\u001b[34m[2022-02-18 00:46:41.041 algo-1:26 INFO hook.py:593] Total Trainable Params: 66955010\u001b[0m\n",
      "\u001b[34m[2022-02-18 00:46:41.041 algo-1:26 INFO hook.py:425] Monitoring the collections: losses\u001b[0m\n",
      "\u001b[34m[2022-02-18 00:46:41.044 algo-1:26 INFO hook.py:488] Hook is writing from the hook with pid: 26\u001b[0m\n",
      "\u001b[34m{'loss': 0.3519, 'learning_rate': 5e-05, 'epoch': 0.64}\u001b[0m\n",
      "\u001b[34m{'eval_loss': 0.19036532938480377, 'eval_accuracy': 0.9273, 'eval_f1': 0.9274523500648637, 'eval_precision': 0.9294, 'eval_recall': 0.9255128460466042, 'eval_runtime': 51.4136, 'eval_samples_per_second': 194.501, 'epoch': 1.0}\u001b[0m\n",
      "\u001b[34m{'train_runtime': 493.8111, 'train_samples_per_second': 1.584, 'epoch': 1.0}\u001b[0m\n",
      "\u001b[34m***** Eval results *****\u001b[0m\n",
      "\u001b[34m#015Downloading:   0%|          | 0.00/483 [00:00<?, ?B/s]#015Downloading: 100%|██████████| 483/483 [00:00<00:00, 566kB/s]\u001b[0m\n",
      "\u001b[34m#015Downloading:   0%|          | 0.00/268M [00:00<?, ?B/s]#015Downloading:   2%|▏         | 5.03M/268M [00:00<00:05, 50.3MB/s]#015Downloading:   4%|▍         | 10.3M/268M [00:00<00:05, 50.9MB/s]#015Downloading:   6%|▌         | 15.4M/268M [00:00<00:04, 50.9MB/s]#015Downloading:   8%|▊         | 20.8M/268M [00:00<00:04, 52.0MB/s]#015Downloading:  10%|▉         | 26.3M/268M [00:00<00:04, 52.8MB/s]#015Downloading:  12%|█▏        | 31.8M/268M [00:00<00:04, 53.5MB/s]#015Downloading:  14%|█▍        | 37.4M/268M [00:00<00:04, 54.1MB/s]#015Downloading:  16%|█▌        | 43.0M/268M [00:00<00:04, 54.7MB/s]#015Downloading:  18%|█▊        | 48.6M/268M [00:00<00:03, 55.0MB/s]#015Downloading:  20%|██        | 54.2M/268M [00:01<00:03, 55.3MB/s]#015Downloading:  22%|██▏       | 59.6M/268M [00:01<00:03, 54.0MB/s]#015Downloading:  24%|██▍       | 65.1M/268M [00:01<00:03, 54.3MB/s]#015Downloading:  26%|██▋       | 70.9M/268M [00:01<00:03, 55.3MB/s]#015Downloading:  29%|██▊       | 76.9M/268M [00:01<00:03, 56.8MB/s]#015Downloading:  31%|███       | 82.8M/268M [00:01<00:03, 57.4MB/s]#015Downloading:  33%|███▎      | 88.7M/268M [00:01<00:03, 57.7MB/s]#015Downloading:  35%|███▌      | 94.8M/268M [00:01<00:02, 58.8MB/s]#015Downloading:  38%|███▊      | 101M/268M [00:01<00:02, 59.5MB/s] #015Downloading:  40%|███▉      | 107M/268M [00:01<00:02, 60.1MB/s]#015Downloading:  42%|████▏     | 113M/268M [00:02<00:02, 60.5MB/s]#015Downloading:  45%|████▍     | 119M/268M [00:02<00:02, 61.0MB/s]#015Downloading:  47%|████▋     | 126M/268M [00:02<00:02, 61.0MB/s]#015Downloading:  49%|████▉     | 132M/268M [00:02<00:02, 60.0MB/s]#015Downloading:  51%|█████▏    | 138M/268M [00:02<00:02, 59.7MB/s]#015Downloading:  54%|█████▎    | 144M/268M [00:02<00:02, 59.7MB/s]#015Downloading:  56%|█████▌    | 150M/268M [00:02<00:01, 60.2MB/s]#015Downloading:  58%|█████▊    | 156M/268M [00:02<00:01, 60.7MB/s]#015Downloading:  61%|██████    | 162M/268M [00:02<00:01, 61.1MB/s]#015Downloading:  63%|██████▎   | 168M/268M [00:02<00:01, 61.3MB/s]#015Downloading:  65%|██████▌   | 175M/268M [00:03<00:01, 61.5MB/s]#015Downloading:  67%|██████▋   | 181M/268M [00:03<00:01, 61.6MB/s]#015Downloading:  70%|██████▉   | 187M/268M [00:03<00:01, 61.2MB/s]#015Downloading:  72%|███████▏  | 193M/268M [00:03<00:01, 53.8MB/s]#015Downloading:  74%|███████▍  | 199M/268M [00:03<00:01, 55.3MB/s]#015Downloading:  76%|███████▋  | 205M/268M [00:03<00:01, 56.2MB/s]#015Downloading:  79%|███████▊  | 211M/268M [00:03<00:00, 57.8MB/s]#015Downloading:  81%|████████  | 217M/268M [00:03<00:00, 59.1MB/s]#015Downloading:  83%|████████▎ | 223M/268M [00:03<00:00, 59.8MB/s]#015Downloading:  86%|████████▌ | 230M/268M [00:03<00:00, 60.5MB/s]#015Downloading:  88%|████████▊ | 236M/268M [00:04<00:00, 60.4MB/s]#015Downloading:  90%|█████████ | 242M/268M [00:04<00:00, 60.9MB/s]#015Downloading:  93%|█████████▎| 248M/268M [00:04<00:00, 61.2MB/s]#015Downloading:  95%|█████████▍| 254M/268M [00:04<00:00, 60.5MB/s]#015Downloading:  97%|█████████▋| 260M/268M [00:04<00:00, 60.9MB/s]#015Downloading:  99%|█████████▉| 267M/268M [00:04<00:00, 60.8MB/s]#015Downloading: 100%|██████████| 268M/268M [00:04<00:00, 58.4MB/s]\u001b[0m\n",
      "\u001b[34mSome weights of the model checkpoint at distilbert-base-uncased were not used when initializing DistilBertForSequenceClassification: ['vocab_projector.bias', 'vocab_projector.weight', 'vocab_layer_norm.weight', 'vocab_layer_norm.bias', 'vocab_transform.weight', 'vocab_transform.bias']\u001b[0m\n",
      "\u001b[34m- This IS expected if you are initializing DistilBertForSequenceClassification from the checkpoint of a model trained on another task or with another architecture (e.g. initializing a BertForSequenceClassification model from a BertForPreTraining model).\u001b[0m\n",
      "\u001b[34m- This IS NOT expected if you are initializing DistilBertForSequenceClassification from the checkpoint of a model that you expect to be exactly identical (initializing a BertForSequenceClassification model from a BertForSequenceClassification model).\u001b[0m\n",
      "\u001b[34mSome weights of DistilBertForSequenceClassification were not initialized from the model checkpoint at distilbert-base-uncased and are newly initialized: ['classifier.bias', 'pre_classifier.bias', 'pre_classifier.weight', 'classifier.weight']\u001b[0m\n",
      "\u001b[34mYou should probably TRAIN this model on a down-stream task to be able to use it for predictions and inference.\u001b[0m\n",
      "\u001b[34m#015Downloading:   0%|          | 0.00/232k [00:00<?, ?B/s]#015Downloading: 100%|██████████| 232k/232k [00:00<00:00, 35.9MB/s]\u001b[0m\n",
      "\u001b[34m#015Downloading:   0%|          | 0.00/466k [00:00<?, ?B/s]#015Downloading: 100%|██████████| 466k/466k [00:00<00:00, 49.2MB/s]\u001b[0m\n",
      "\u001b[34m#015Downloading:   0%|          | 0.00/28.0 [00:00<?, ?B/s]#015Downloading: 100%|██████████| 28.0/28.0 [00:00<00:00, 39.9kB/s]\u001b[0m\n",
      "\u001b[34m2022-02-18 00:55:47,415 sagemaker-training-toolkit INFO     Reporting training SUCCESS\u001b[0m\n",
      "\u001b[34m#015  0%|          | 0/782 [00:00<?, ?it/s]#015  0%|          | 1/782 [00:02<32:32,  2.50s/it]#015  0%|          | 2/782 [00:03<24:53,  1.92s/it]#015  0%|          | 3/782 [00:03<19:41,  1.52s/it]#015  1%|          | 4/782 [00:04<15:58,  1.23s/it]#015  1%|          | 5/782 [00:04<13:15,  1.02s/it]#015  1%|          | 6/782 [00:05<11:23,  1.14it/s]#015  1%|          | 7/782 [00:05<10:16,  1.26it/s]#015  1%|          | 8/782 [00:06<09:17,  1.39it/s]#015  1%|          | 9/782 [00:06<08:36,  1.50it/s]#015  1%|▏         | 10/782 [00:07<08:16,  1.56it/s]#015  1%|▏         | 11/782 [00:08<07:56,  1.62it/s]#015  2%|▏         | 12/782 [00:08<07:38,  1.68it/s]#015  2%|▏         | 13/782 [00:09<07:30,  1.71it/s]#015  2%|▏         | 14/782 [00:09<07:20,  1.74it/s]#015  2%|▏         | 15/782 [00:10<07:11,  1.78it/s]#015  2%|▏         | 16/782 [00:10<07:07,  1.79it/s]#015  2%|▏         | 17/782 [00:11<07:05,  1.80it/s]#015  2%|▏         | 18/782 [00:11<07:03,  1.80it/s]#015  2%|▏         | 19/782 [00:12<06:59,  1.82it/s]#015  3%|▎         | 20/782 [00:13<06:57,  1.82it/s]#015  3%|▎         | 21/782 [00:13<06:57,  1.82it/s]#015  3%|▎         | 22/782 [00:14<06:56,  1.83it/s]#015  3%|▎         | 23/782 [00:14<07:00,  1.80it/s]#015  3%|▎         | 24/782 [00:15<06:57,  1.81it/s]#015  3%|▎         | 25/782 [00:15<06:54,  1.82it/s]#015  3%|▎         | 26/782 [00:16<06:52,  1.83it/s]#015  3%|▎         | 27/782 [00:16<06:53,  1.83it/s]#015  4%|▎         | 28/782 [00:17<06:50,  1.84it/s]#015  4%|▎         | 29/782 [00:17<06:49,  1.84it/s]#015  4%|▍         | 30/782 [00:18<06:50,  1.83it/s]#015  4%|▍         | 31/782 [00:19<06:51,  1.82it/s]#015  4%|▍         | 32/782 [00:19<07:02,  1.78it/s]#015  4%|▍         | 33/782 [00:20<06:55,  1.80it/s]#015  4%|▍         | 34/782 [00:20<06:51,  1.82it/s]#015  4%|▍         | 35/782 [00:21<06:52,  1.81it/s]#015  5%|▍         | 36/782 [00:21<06:56,  1.79it/s]#015  5%|▍         | 37/782 [00:22<06:55,  1.79it/s]#015  5%|▍         | 38/782 [00:22<06:53,  1.80it/s]#015  5%|▍         | 39/782 [00:23<06:48,  1.82it/s]#015  5%|▌         | 40/782 [00:24<06:49,  1.81it/s]#015  5%|▌         | 41/782 [00:24<06:52,  1.80it/s]#015  5%|▌         | 42/782 [00:25<06:49,  1.81it/s]#015  5%|▌         | 43/782 [00:25<06:45,  1.82it/s]#015  6%|▌         | 44/782 [00:26<06:43,  1.83it/s]#015  6%|▌         | 45/782 [00:26<06:44,  1.82it/s]#015  6%|▌         | 46/782 [00:27<06:43,  1.83it/s]#015  6%|▌         | 47/782 [00:27<06:44,  1.82it/s]#015  6%|▌         | 48/782 [00:28<06:42,  1.82it/s]#015  6%|▋         | 49/782 [00:28<06:39,  1.84it/s]#015  6%|▋         | 50/782 [00:29<06:38,  1.84it/s]#015  7%|▋         | 51/782 [00:30<06:37,  1.84it/s]#015  7%|▋         | 52/782 [00:30<06:39,  1.83it/s]#015  7%|▋         | 53/782 [00:31<06:37,  1.83it/s]#015  7%|▋         | 54/782 [00:31<06:37,  1.83it/s]#015  7%|▋         | 55/782 [00:32<06:36,  1.83it/s]#015  7%|▋         | 56/782 [00:32<06:37,  1.83it/s]#015  7%|▋         | 57/782 [00:33<06:38,  1.82it/s]#015  7%|▋         | 58/782 [00:33<06:37,  1.82it/s]#015  8%|▊         | 59/782 [00:34<06:34,  1.83it/s]#015  8%|▊         | 60/782 [00:35<06:33,  1.83it/s]#015  8%|▊         | 61/782 [00:35<06:34,  1.83it/s]#015  8%|▊         | 62/782 [00:36<06:36,  1.81it/s]#015  8%|▊         | 63/782 [00:36<06:34,  1.82it/s]#015  8%|▊         | 64/782 [00:37<06:32,  1.83it/s]#015  8%|▊         | 65/782 [00:37<06:32,  1.83it/s]#015  8%|▊         | 66/782 [00:38<06:34,  1.82it/s]#015  9%|▊         | 67/782 [00:38<06:37,  1.80it/s]#015  9%|▊         | 68/782 [00:39<06:42,  1.77it/s]#015  9%|▉         | 69/782 [00:40<06:39,  1.79it/s]#015  9%|▉         | 70/782 [00:40<06:35,  1.80it/s]#015  9%|▉         | 71/782 [00:41<06:32,  1.81it/s]#015  9%|▉         | 72/782 [00:41<06:33,  1.81it/s]#015  9%|▉         | 73/782 [00:42<06:42,  1.76it/s]#015  9%|▉         | 74/782 [00:42<06:45,  1.75it/s]#015 10%|▉         | 75/782 [00:43<06:39,  1.77it/s]#015 10%|▉         | 76/782 [00:43<06:35,  1.78it/s]#015 10%|▉         | 77/782 [00:44<06:33,  1.79it/s]#015 10%|▉         | 78/782 [00:45<06:32,  1.79it/s]#015 10%|█         | 79/782 [00:45<06:30,  1.80it/s]#015 10%|█         | 80/782 [00:46<06:28,  1.81it/s]#015 10%|█         | 81/782 [00:46<06:30,  1.80it/s]#015 10%|█         | 82/782 [00:47<06:30,  1.79it/s]#015 11%|█         | 83/782 [00:47<06:30,  1.79it/s]#015 11%|█         | 84/782 [00:48<06:29,  1.79it/s]#015 11%|█         | 85/782 [00:48<06:27,  1.80it/s]#015 11%|█         | 86/782 [00:49<06:25,  1.81it/s]#015 11%|█         | 87/782 [00:50<06:25,  1.80it/s]#015 11%|█▏        | 88/782 [00:50<06:30,  1.78it/s]#015 11%|█▏        | 89/782 [00:51<06:27,  1.79it/s]#015 12%|█▏        | 90/782 [00:51<06:24,  1.80it/s]#015 12%|█▏        | 91/782 [00:52<06:25,  1.79it/s]#015 12%|█▏        | 92/782 [00:52<06:25,  1.79it/s]#015 12%|█▏        | 93/782 [00:53<06:25,  1.79it/s]#015 12%|█▏        | 94/782 [00:53<06:23,  1.80it/s]#015 12%|█▏        | 95/782 [00:54<06:20,  1.80it/s]#015 12%|█▏        | 96/782 [00:55<06:24,  1.78it/s]#015 12%|█▏        | 97/782 [00:55<06:20,  1.80it/s]#015 13%|█▎        | 98/782 [00:56<06:19,  1.80it/s]#015 13%|█▎        | 99/782 [00:56<06:18,  1.80it/s]#015 13%|█▎        | 100/782 [00:57<06:16,  1.81it/s]#015 13%|█▎        | 101/782 [00:57<06:15,  1.81it/s]#015 13%|█▎        | 102/782 [00:58<06:18,  1.80it/s]#015 13%|█▎        | 103/782 [00:58<06:22,  1.77it/s]#015 13%|█▎        | 104/782 [00:59<06:22,  1.77it/s]#015 13%|█▎        | 105/782 [01:00<06:20,  1.78it/s]#015 14%|█▎        | 106/782 [01:00<06:18,  1.79it/s]#015 14%|█▎        | 107/782 [01:01<06:16,  1.79it/s]#015 14%|█▍        | 108/782 [01:01<06:14,  1.80it/s]#015 14%|█▍        | 109/782 [01:02<06:13,  1.80it/s]#015 14%|█▍        | 110/782 [01:02<06:12,  1.81it/s]#015 14%|█▍        | 111/782 [01:03<06:12,  1.80it/s]#015 14%|█▍        | 112/782 [01:04<06:15,  1.79it/s]#015 14%|█▍        | 113/782 [01:04<06:15,  1.78it/s]#015 15%|█▍        | 114/782 [01:05<06:12,  1.80it/s]#015 15%|█▍        | 115/782 [01:05<06:09,  1.80it/s]#015 15%|█▍        | 116/782 [01:06<06:07,  1.81it/s]#015 15%|█▍        | 117/782 [01:06<06:06,  1.82it/s]#015 15%|█▌        | 118/782 [01:07<06:06,  1.81it/s]#015 15%|█▌        | 119/782 [01:07<06:06,  1.81it/s]#015 15%|█▌        | 120/782 [01:08<06:07,  1.80it/s]#015 15%|█▌        | 121/782 [01:08<06:06,  1.80it/s]#015 16%|█▌        | 122/782 [01:09<06:04,  1.81it/s]#015 16%|█▌        | 123/782 [01:10<06:06,  1.80it/s]#015 16%|█▌        | 124/782 [01:10<06:06,  1.79it/s]#015 16%|█▌        | 125/782 [01:11<06:07,  1.79it/s]#015 16%|█▌        | 126/782 [01:11<06:05,  1.79it/s]#015 16%|█▌        | 127/782 [01:12<06:03,  1.80it/s]#015 16%|█▋        | 128/782 [01:12<06:01,  1.81it/s]#015 16%|█▋        | 129/782 [01:13<06:09,  1.77it/s]#015 17%|█▋        | 130/782 [01:14<06:06,  1.78it/s]#015 17%|█▋        | 131/782 [01:14<06:04,  1.78it/s]#015 17%|█▋        | 132/782 [01:15<06:02,  1.79it/s]#015 17%|█▋        | 133/782 [01:15<06:00,  1.80it/s]#015 17%|█▋        | 134/782 [01:16<06:02,  1.79it/s]#015 17%|█▋        | 135/782 [01:16<06:02,  1.79it/s]#015 17%|█▋        | 136/782 [01:17<06:00,  1.79it/s]#015 18%|█▊        | 137/782 [01:17<05:59,  1.79it/s]#015 18%|█▊        | 138/782 [01:18<06:02,  1.78it/s]#015 18%|█▊        | 139/782 [01:19<06:00,  1.78it/s]#015 18%|█▊        | 140/782 [01:19<05:58,  1.79it/s]#015 18%|█▊        | 141/782 [01:20<05:57,  1.79it/s]#015 18%|█▊        | 142/782 [01:20<05:55,  1.80it/s]#015 18%|█▊        | 143/782 [01:21<05:58,  1.78it/s]#015 18%|█▊        | 144/782 [01:21<06:01,  1.76it/s]#015 19%|█▊        | 145/782 [01:22<05:59,  1.77it/s]#015 19%|█▊        | 146/782 [01:23<06:01,  1.76it/s]#015 19%|█▉        | 147/782 [01:23<06:03,  1.75it/s]#015 19%|█▉        | 148/782 [01:24<06:02,  1.75it/s]#015 19%|█▉        | 149/782 [01:24<06:04,  1.74it/s]#015 19%|█▉        | 150/782 [01:25<06:01,  1.75it/s]#015 19%|█▉        | 151/782 [01:25<05:57,  1.76it/s]#015 19%|█▉        | 152/782 [01:26<05:56,  1.77it/s]#015 20%|█▉        | 153/782 [01:26<05:53,  1.78it/s]#015 20%|█▉        | 154/782 [01:27<05:53,  1.78it/s]#015 20%|█▉        | 155/782 [01:28<05:52,  1.78it/s]#015 20%|█▉        | 156/782 [01:28<05:54,  1.77it/s]#015 20%|██        | 157/782 [01:29<05:52,  1.78it/s]#015 20%|██        | 158/782 [01:29<05:50,  1.78it/s]#015 20%|██        | 159/782 [01:30<05:48,  1.79it/s]#015 20%|██        | 160/782 [01:30<05:47,  1.79it/s]#015 21%|██        | 161/782 [01:31<05:48,  1.78it/s]#015 21%|██        | 162/782 [01:32<05:46,  1.79it/s]#015 21%|██        | 163/782 [01:32<05:45,  1.79it/s]#015 21%|██        | 164/782 [01:33<05:45,  1.79it/s]#015 21%|██        | 165/782 [01:33<05:47,  1.77it/s]#015 21%|██        | 166/782 [01:34<05:47,  1.77it/s]#015 21%|██▏       | 167/782 [01:34<05:46,  1.77it/s]#015 21%|██▏       | 168/782 [01:35<05:45,  1.77it/s]#015 22%|██▏       | 169/782 [01:35<05:43,  1.79it/s]#015 22%|██▏       | 170/782 [01:36<05:41,  1.79it/s]#015 22%|██▏       | 171/782 [01:37<05:40,  1.80it/s]#015 22%|██▏       | 172/782 [01:37<05:41,  1.79it/s]#015 22%|██▏       | 173/782 [01:38<05:40,  1.79it/s]#015 22%|██▏       | 174/782 [01:38<05:42,  1.77it/s]#015 22%|██▏       | 175/782 [01:39<05:40,  1.78it/s]#015 23%|██▎       | 176/782 [01:39<05:40,  1.78it/s]#015 23%|██▎       | 177/782 [01:40<05:37,  1.79it/s]#015 23%|██▎       | 178/782 [01:40<05:36,  1.79it/s]#015 23%|██▎       | 179/782 [01:41<05:34,  1.80it/s]#015 23%|██▎       | 180/782 [01:42<05:33,  1.80it/s]#015 23%|██▎       | 181/782 [01:42<05:35,  1.79it/s]#015 23%|██▎       | 182/782 [01:43<05:35,  1.79it/s]#015 23%|██▎       | 183/782 [01:43<05:34,  1.79it/s]#015 24%|██▎       | 184/782 [01:44<05:36,  1.78it/s]#015 24%|██▎       | 185/782 [01:44<05:34,  1.78it/s]#015 24%|██▍       | 186/782 [01:45<05:33,  1.79it/s]#015 24%|██▍       | 187/782 [01:46<05:32,  1.79it/s]#015 24%|██▍       | 188/782 [01:46<05:33,  1.78it/s]#015 24%|██▍       | 189/782 [01:47<05:33,  1.78it/s]#015 24%|██▍       | 190/782 [01:47<05:31,  1.78it/s]#015 24%|██▍       | 191/782 [01:48<05:36,  1.76it/s]#015 25%|██▍       | 192/782 [01:48<05:33,  1.77it/s]#015 25%|██▍       | 193/782 [01:49<05:32,  1.77it/s]#015 25%|██▍       | 194/782 [01:49<05:30,  1.78it/s]#015 25%|██▍       | 195/782 [01:50<05:30,  1.78it/s]#015 25%|██▌       | 196/782 [01:51<05:28,  1.78it/s]#015 25%|██▌       | 197/782 [01:51<05:27,  1.79it/s]#015 25%|██▌       | 198/782 [01:52<05:26,  1.79it/s]#015 25%|██▌       | 199/782 [01:52<05:25,  1.79it/s]#015 26%|██▌       | 200/782 [01:53<05:23,  1.80it/s]#015 26%|██▌       | 201/782 [01:53<05:25,  1.78it/s]#015 26%|██▌       | 202/782 [01:54<05:25,  1.78it/s]#015 26%|██▌       | 203/782 [01:55<05:24,  1.78it/s]#015 26%|██▌       | 204/782 [01:55<05:24,  1.78it/s]#015 26%|██▌       | 205/782 [01:56<05:22,  1.79it/s]#015 26%|██▋       | 206/782 [01:56<05:21,  1.79it/s]#015 26%|██▋       | 207/782 [01:57<05:20,  1.79it/s]#015 27%|██▋       | 208/782 [01:57<05:19,  1.80it/s]#015 27%|██▋       | 209/782 [01:58<05:19,  1.79it/s]#015 27%|██▋       | 210/782 [01:58<05:21,  1.78it/s]#015 27%|██▋       | 211/782 [01:59<05:19,  1.79it/s]#015 27%|██▋       | 212/782 [02:00<05:19,  1.79it/s]#015 27%|██▋       | 213/782 [02:00<05:18,  1.79it/s]#015 27%|██▋       | 214/782 [02:01<05:16,  1.79it/s]#015 27%|██▋       | 215/782 [02:01<05:15,  1.80it/s]#015 28%|██▊       | 216/782 [02:02<05:15,  1.80it/s]#015 28%|██▊       | 217/782 [02:02<05:14,  1.80it/s]#015 28%|██▊       | 218/782 [02:03<05:12,  1.80it/s]#015 28%|██▊       | 219/782 [02:03<05:13,  1.79it/s]#015 28%|██▊       | 220/782 [02:04<05:20,  1.75it/s]#015 28%|██▊       | 221/782 [02:05<05:19,  1.75it/s]#015 28%|██▊       | 222/782 [02:05<05:15,  1.78it/s]#015 29%|██▊       | 223/782 [02:06<05:15,  1.77it/s]#015 29%|██▊       | 224/782 [02:06<05:13,  1.78it/s]#015 29%|██▉       | 225/782 [02:07<05:10,  1.79it/s]#015 29%|██▉       | 226/782 [02:07<05:09,  1.80it/s]#015 29%|██▉       | 227/782 [02:08<05:08,  1.80it/s]#015 29%|██▉       | 228/782 [02:08<05:08,  1.80it/s]#015 29%|██▉       | 229/782 [02:09<05:08,  1.79it/s]#015 29%|██▉       | 230/782 [02:10<05:08,  1.79it/s]#015 30%|██▉       | 231/782 [02:10<05:07,  1.79it/s]#015 30%|██▉       | 232/782 [02:11<05:07,  1.79it/s]#015 30%|██▉       | 233/782 [02:11<05:06,  1.79it/s]#015 30%|██▉       | 234/782 [02:12<05:05,  1.79it/s]#015 30%|███       | 235/782 [02:12<05:05,  1.79it/s]#015 30%|███       | 236/782 [02:13<05:05,  1.79it/s]#015 30%|███       | 237/782 [02:14<05:04,  1.79it/s]#015 30%|███       | 238/782 [02:14<05:06,  1.78it/s]#015 31%|███       | 239/782 [02:15<05:07,  1.76it/s]#015 31%|███       | 240/782 [02:15<05:05,  1.78it/s]#015 31%|███       | 241/782 [02:16<05:04,  1.77it/s]#015 31%|███       | 242/782 [02:16<05:01,  1.79it/s]#015 31%|███       | 243/782 [02:17<05:02,  1.78it/s]#015 31%|███       | 244/782 [02:17<05:00,  1.79it/s]#015 31%|███▏      | 245/782 [02:18<04:59,  1.80it/s]#015 31%|███▏      | 246/782 [02:19<04:58,  1.80it/s]#015 32%|███▏      | 247/782 [02:19<05:00,  1.78it/s]#015 32%|███▏      | 248/782 [02:20<05:00,  1.78it/s]#015 32%|███▏      | 249/782 [02:20<04:58,  1.79it/s]#015 32%|███▏      | 250/782 [02:21<05:02,  1.76it/s]#015 32%|███▏      | 251/782 [02:21<05:00,  1.77it/s]#015 32%|███▏      | 252/782 [02:22<05:05,  1.74it/s]#015 32%|███▏      | 253/782 [02:23<05:04,  1.74it/s]#015 32%|███▏      | 254/782 [02:23<05:07,  1.72it/s]#015 33%|███▎      | 255/782 [02:24<05:05,  1.73it/s]#015 33%|███▎      | 256/782 [02:24<05:07,  1.71it/s]#015 33%|███▎      | 257/782 [02:25<05:05,  1.72it/s]#015 33%|███▎      | 258/782 [02:25<05:01,  1.74it/s]#015 33%|███▎      | 259/782 [02:26<04:58,  1.75it/s]#015 33%|███▎      | 260/782 [02:27<04:56,  1.76it/s]#015 33%|███▎      | 261/782 [02:27<04:53,  1.77it/s]#015 34%|███▎      | 262/782 [02:28<04:52,  1.78it/s]#015 34%|███▎      | 263/782 [02:28<04:55,  1.75it/s]#015 34%|███▍      | 264/782 [02:29<04:52,  1.77it/s]#015 34%|███▍      | 265/782 [02:29<04:51,  1.77it/s]#015 34%|███▍      | 266/782 [02:30<04:50,  1.77it/s]#015 34%|███▍      | 267/782 [02:31<04:48,  1.79it/s]#015 34%|███▍      | 268/782 [02:31<04:46,  1.80it/s]#015 34%|███▍      | 269/782 [02:32<04:46,  1.79it/s]#015 35%|███▍      | 270/782 [02:32<04:45,  1.79it/s]#015 35%|███▍      | 271/782 [02:33<04:46,  1.78it/s]#015 35%|███▍      | 272/782 [02:33<04:44,  1.79it/s]#015 35%|███▍      | 273/782 [02:34<04:43,  1.79it/s]#015 35%|███▌      | 274/782 [02:34<04:44,  1.79it/s]#015 35%|███▌      | 275/782 [02:35<04:42,  1.79it/s]#015 35%|███▌      | 276/782 [02:36<04:41,  1.80it/s]#015 35%|███▌      | 277/782 [02:36<04:42,  1.79it/s]#015 36%|███▌      | 278/782 [02:37<04:41,  1.79it/s]#015 36%|███▌      | 279/782 [02:37<04:40,  1.79it/s]#015 36%|███▌      | 280/782 [02:38<04:41,  1.79it/s]#015 36%|███▌      | 281/782 [02:38<04:40,  1.79it/s]#015 36%|███▌      | 282/782 [02:39<04:38,  1.79it/s]#015 36%|███▌      | 283/782 [02:39<04:38,  1.79it/s]#015 36%|███▋      | 284/782 [02:40<04:37,  1.79it/s]#015 36%|███▋      | 285/782 [02:41<04:36,  1.79it/s]#015 37%|███▋      | 286/782 [02:41<04:35,  1.80it/s]#015 37%|███▋      | 287/782 [02:42<04:34,  1.80it/s]#015 37%|███▋      | 288/782 [02:42<04:37,  1.78it/s]#015 37%|███▋      | 289/782 [02:43<04:35,  1.79it/s]#015 37%|███▋      | 290/782 [02:43<04:34,  1.79it/s]#015 37%|███▋      | 291/782 [02:44<04:35,  1.78it/s]#015 37%|███▋      | 292/782 [02:45<04:37,  1.77it/s]#015 37%|███▋      | 293/782 [02:45<04:35,  1.78it/s]#015 38%|███▊      | 294/782 [02:46<04:34,  1.78it/s]#015 38%|███▊      | 295/782 [02:46<04:32,  1.79it/s]#015 38%|███▊      | 296/782 [02:47<04:33,  1.77it/s]#015 38%|███▊      | 297/782 [02:47<04:35,  1.76it/s]#015 38%|███▊      | 298/782 [02:48<04:33,  1.77it/s]#015 38%|███▊      | 299/782 [02:48<04:32,  1.77it/s]#015 38%|███▊      | 300/782 [02:49<04:31,  1.77it/s]#015 38%|███▊      | 301/782 [02:50<04:30,  1.78it/s]#015 39%|\u001b[0m\n",
      "\u001b[34m███▊      | 302/782 [02:50<04:28,  1.79it/s]#015 39%|███▊      | 303/782 [02:51<04:27,  1.79it/s]#015 39%|███▉      | 304/782 [02:51<04:28,  1.78it/s]#015 39%|███▉      | 305/782 [02:52<04:29,  1.77it/s]#015 39%|███▉      | 306/782 [02:52<04:29,  1.77it/s]#015 39%|███▉      | 307/782 [02:53<04:27,  1.78it/s]#015 39%|███▉      | 308/782 [02:54<04:27,  1.77it/s]#015 40%|███▉      | 309/782 [02:54<04:25,  1.78it/s]#015 40%|███▉      | 310/782 [02:55<04:24,  1.79it/s]#015 40%|███▉      | 311/782 [02:55<04:22,  1.80it/s]#015 40%|███▉      | 312/782 [02:56<04:21,  1.80it/s]#015 40%|████      | 313/782 [02:56<04:21,  1.80it/s]#015 40%|████      | 314/782 [02:57<04:19,  1.80it/s]#015 40%|████      | 315/782 [02:57<04:18,  1.81it/s]#015 40%|████      | 316/782 [02:58<04:17,  1.81it/s]#015 41%|████      | 317/782 [02:59<04:19,  1.79it/s]#015 41%|████      | 318/782 [02:59<04:17,  1.80it/s]#015 41%|████      | 319/782 [03:00<04:18,  1.79it/s]#015 41%|████      | 320/782 [03:00<04:19,  1.78it/s]#015 41%|████      | 321/782 [03:01<04:18,  1.78it/s]#015 41%|████      | 322/782 [03:01<04:23,  1.75it/s]#015 41%|████▏     | 323/782 [03:02<04:21,  1.75it/s]#015 41%|████▏     | 324/782 [03:02<04:21,  1.75it/s]#015 42%|████▏     | 325/782 [03:03<04:20,  1.76it/s]#015 42%|████▏     | 326/782 [03:04<04:19,  1.76it/s]#015 42%|████▏     | 327/782 [03:04<04:15,  1.78it/s]#015 42%|████▏     | 328/782 [03:05<04:14,  1.79it/s]#015 42%|████▏     | 329/782 [03:05<04:15,  1.78it/s]#015 42%|████▏     | 330/782 [03:06<04:13,  1.78it/s]#015 42%|████▏     | 331/782 [03:06<04:12,  1.79it/s]#015 42%|████▏     | 332/782 [03:07<04:11,  1.79it/s]#015 43%|████▎     | 333/782 [03:08<04:10,  1.79it/s]#015 43%|████▎     | 334/782 [03:08<04:09,  1.80it/s]#015 43%|████▎     | 335/782 [03:09<04:12,  1.77it/s]#015 43%|████▎     | 336/782 [03:09<04:10,  1.78it/s]#015 43%|████▎     | 337/782 [03:10<04:09,  1.78it/s]#015 43%|████▎     | 338/782 [03:10<04:08,  1.79it/s]#015 43%|████▎     | 339/782 [03:11<04:07,  1.79it/s]#015 43%|████▎     | 340/782 [03:11<04:06,  1.79it/s]#015 44%|████▎     | 341/782 [03:12<04:05,  1.80it/s]#015 44%|████▎     | 342/782 [03:13<04:05,  1.79it/s]#015 44%|████▍     | 343/782 [03:13<04:05,  1.78it/s]#015 44%|████▍     | 344/782 [03:14<04:05,  1.78it/s]#015 44%|████▍     | 345/782 [03:14<04:05,  1.78it/s]#015 44%|████▍     | 346/782 [03:15<04:03,  1.79it/s]#015 44%|████▍     | 347/782 [03:15<04:04,  1.78it/s]#015 45%|████▍     | 348/782 [03:16<04:03,  1.78it/s]#015 45%|████▍     | 349/782 [03:16<04:03,  1.78it/s]#015 45%|████▍     | 350/782 [03:17<04:02,  1.78it/s]#015 45%|████▍     | 351/782 [03:18<04:01,  1.79it/s]#015 45%|████▌     | 352/782 [03:18<04:00,  1.79it/s]#015 45%|████▌     | 353/782 [03:19<03:59,  1.79it/s]#015 45%|████▌     | 354/782 [03:19<03:58,  1.79it/s]#015 45%|████▌     | 355/782 [03:20<03:59,  1.78it/s]#015 46%|████▌     | 356/782 [03:20<03:58,  1.78it/s]#015 46%|████▌     | 357/782 [03:21<04:01,  1.76it/s]#015 46%|████▌     | 358/782 [03:22<03:59,  1.77it/s]#015 46%|████▌     | 359/782 [03:22<03:57,  1.78it/s]#015 46%|████▌     | 360/782 [03:23<04:00,  1.76it/s]#015 46%|████▌     | 361/782 [03:23<03:57,  1.77it/s]#015 46%|████▋     | 362/782 [03:24<03:57,  1.77it/s]#015 46%|████▋     | 363/782 [03:24<03:57,  1.76it/s]#015 47%|████▋     | 364/782 [03:25<03:57,  1.76it/s]#015 47%|████▋     | 365/782 [03:26<03:58,  1.75it/s]#015 47%|████▋     | 366/782 [03:26<03:58,  1.75it/s]#015 47%|████▋     | 367/782 [03:27<03:57,  1.75it/s]#015 47%|████▋     | 368/782 [03:27<04:00,  1.72it/s]#015 47%|████▋     | 369/782 [03:28<03:57,  1.74it/s]#015 47%|████▋     | 370/782 [03:28<03:54,  1.76it/s]#015 47%|████▋     | 371/782 [03:29<03:53,  1.76it/s]#015 48%|████▊     | 372/782 [03:30<03:51,  1.77it/s]#015 48%|████▊     | 373/782 [03:30<03:52,  1.76it/s]#015 48%|████▊     | 374/782 [03:31<03:50,  1.77it/s]#015 48%|████▊     | 375/782 [03:31<03:49,  1.77it/s]#015 48%|████▊     | 376/782 [03:32<03:48,  1.78it/s]#015 48%|████▊     | 377/782 [03:32<03:47,  1.78it/s]#015 48%|████▊     | 378/782 [03:33<03:46,  1.79it/s]#015 48%|████▊     | 379/782 [03:33<03:44,  1.79it/s]#015 49%|████▊     | 380/782 [03:34<03:43,  1.80it/s]#015 49%|████▊     | 381/782 [03:35<03:43,  1.79it/s]#015 49%|████▉     | 382/782 [03:35<03:44,  1.78it/s]#015 49%|████▉     | 383/782 [03:36<03:42,  1.79it/s]#015 49%|████▉     | 384/782 [03:36<03:42,  1.79it/s]#015 49%|████▉     | 385/782 [03:37<03:42,  1.78it/s]#015 49%|████▉     | 386/782 [03:37<03:41,  1.79it/s]#015 49%|████▉     | 387/782 [03:38<03:40,  1.79it/s]#015 50%|████▉     | 388/782 [03:38<03:40,  1.79it/s]#015 50%|████▉     | 389/782 [03:39<03:39,  1.79it/s]#015 50%|████▉     | 390/782 [03:40<03:38,  1.79it/s]#015 50%|█████     | 391/782 [03:40<03:37,  1.80it/s]#015 50%|█████     | 392/782 [03:41<03:40,  1.77it/s]#015 50%|█████     | 393/782 [03:41<03:40,  1.76it/s]#015 50%|█████     | 394/782 [03:42<03:39,  1.77it/s]#015 51%|█████     | 395/782 [03:42<03:38,  1.77it/s]#015 51%|█████     | 396/782 [03:43<03:36,  1.78it/s]#015 51%|█████     | 397/782 [03:44<03:35,  1.79it/s]#015 51%|█████     | 398/782 [03:44<03:34,  1.79it/s]#015 51%|█████     | 399/782 [03:45<03:34,  1.78it/s]#015 51%|█████     | 400/782 [03:45<03:33,  1.79it/s]#015 51%|█████▏    | 401/782 [03:46<03:32,  1.79it/s]#015 51%|█████▏    | 402/782 [03:46<03:32,  1.79it/s]#015 52%|█████▏    | 403/782 [03:47<03:31,  1.79it/s]#015 52%|█████▏    | 404/782 [03:47<03:31,  1.79it/s]#015 52%|█████▏    | 405/782 [03:48<03:30,  1.79it/s]#015 52%|█████▏    | 406/782 [03:49<03:33,  1.77it/s]#015 52%|█████▏    | 407/782 [03:49<03:30,  1.78it/s]#015 52%|█████▏    | 408/782 [03:50<03:34,  1.75it/s]#015 52%|█████▏    | 409/782 [03:50<03:31,  1.76it/s]#015 52%|█████▏    | 410/782 [03:51<03:29,  1.78it/s]#015 53%|█████▎    | 411/782 [03:51<03:29,  1.77it/s]#015 53%|█████▎    | 412/782 [03:52<03:27,  1.78it/s]#015 53%|█████▎    | 413/782 [03:53<03:27,  1.78it/s]#015 53%|█████▎    | 414/782 [03:53<03:26,  1.78it/s]#015 53%|█████▎    | 415/782 [03:54<03:25,  1.79it/s]#015 53%|█████▎    | 416/782 [03:54<03:23,  1.80it/s]#015 53%|█████▎    | 417/782 [03:55<03:22,  1.80it/s]#015 53%|█████▎    | 418/782 [03:55<03:22,  1.80it/s]#015 54%|█████▎    | 419/782 [03:56<03:21,  1.80it/s]#015 54%|█████▎    | 420/782 [03:56<03:20,  1.80it/s]#015 54%|█████▍    | 421/782 [03:57<03:21,  1.79it/s]#015 54%|█████▍    | 422/782 [03:58<03:20,  1.79it/s]#015 54%|█████▍    | 423/782 [03:58<03:19,  1.80it/s]#015 54%|█████▍    | 424/782 [03:59<03:18,  1.80it/s]#015 54%|█████▍    | 425/782 [03:59<03:19,  1.79it/s]#015 54%|█████▍    | 426/782 [04:00<03:18,  1.80it/s]#015 55%|█████▍    | 427/782 [04:00<03:18,  1.79it/s]#015 55%|█████▍    | 428/782 [04:01<03:17,  1.80it/s]#015 55%|█████▍    | 429/782 [04:01<03:16,  1.79it/s]#015 55%|█████▍    | 430/782 [04:02<03:16,  1.79it/s]#015 55%|█████▌    | 431/782 [04:03<03:17,  1.78it/s]#015 55%|█████▌    | 432/782 [04:03<03:16,  1.78it/s]#015 55%|█████▌    | 433/782 [04:04<03:16,  1.78it/s]#015 55%|█████▌    | 434/782 [04:04<03:14,  1.79it/s]#015 56%|█████▌    | 435/782 [04:05<03:15,  1.78it/s]#015 56%|█████▌    | 436/782 [04:05<03:13,  1.78it/s]#015 56%|█████▌    | 437/782 [04:06<03:12,  1.79it/s]#015 56%|█████▌    | 438/782 [04:06<03:11,  1.79it/s]#015 56%|█████▌    | 439/782 [04:07<03:10,  1.80it/s]#015 56%|█████▋    | 440/782 [04:08<03:09,  1.80it/s]#015 56%|█████▋    | 441/782 [04:08<03:10,  1.79it/s]#015 57%|█████▋    | 442/782 [04:09<03:10,  1.78it/s]#015 57%|█████▋    | 443/782 [04:09<03:08,  1.79it/s]#015 57%|█████▋    | 444/782 [04:10<03:10,  1.78it/s]#015 57%|█████▋    | 445/782 [04:10<03:08,  1.79it/s]#015 57%|█████▋    | 446/782 [04:11<03:10,  1.76it/s]#015 57%|█████▋    | 447/782 [04:12<03:09,  1.77it/s]#015 57%|█████▋    | 448/782 [04:12<03:08,  1.78it/s]#015 57%|█████▋    | 449/782 [04:13<03:06,  1.79it/s]#015 58%|█████▊    | 450/782 [04:13<03:06,  1.78it/s]#015 58%|█████▊    | 451/782 [04:14<03:06,  1.77it/s]#015 58%|█████▊    | 452/782 [04:14<03:05,  1.78it/s]#015 58%|█████▊    | 453/782 [04:15<03:04,  1.79it/s]#015 58%|█████▊    | 454/782 [04:15<03:03,  1.79it/s]#015 58%|█████▊    | 455/782 [04:16<03:02,  1.79it/s]#015 58%|█████▊    | 456/782 [04:17<03:02,  1.79it/s]#015 58%|█████▊    | 457/782 [04:17<03:02,  1.78it/s]#015 59%|█████▊    | 458/782 [04:18<03:01,  1.78it/s]#015 59%|█████▊    | 459/782 [04:18<03:00,  1.79it/s]#015 59%|█████▉    | 460/782 [04:19<02:59,  1.80it/s]#015 59%|█████▉    | 461/782 [04:19<02:58,  1.80it/s]#015 59%|█████▉    | 462/782 [04:20<02:59,  1.79it/s]#015 59%|█████▉    | 463/782 [04:20<02:58,  1.78it/s]#015 59%|█████▉    | 464/782 [04:21<03:00,  1.76it/s]#015 59%|█████▉    | 465/782 [04:22<02:59,  1.77it/s]#015 60%|█████▉    | 466/782 [04:22<02:57,  1.78it/s]#015 60%|█████▉    | 467/782 [04:23<02:58,  1.77it/s]#015 60%|█████▉    | 468/782 [04:23<02:57,  1.76it/s]#015 60%|█████▉    | 469/782 [04:24<02:58,  1.75it/s]#015 60%|██████    | 470/782 [04:24<02:59,  1.74it/s]#015 60%|██████    | 471/782 [04:25<02:57,  1.75it/s]#015 60%|██████    | 472/782 [04:26<02:56,  1.76it/s]#015 60%|██████    | 473/782 [04:26<02:54,  1.77it/s]#015 61%|██████    | 474/782 [04:27<02:56,  1.75it/s]#015 61%|██████    | 475/782 [04:27<02:54,  1.76it/s]#015 61%|██████    | 476/782 [04:28<02:52,  1.77it/s]#015 61%|██████    | 477/782 [04:28<02:51,  1.78it/s]#015 61%|██████    | 478/782 [04:29<02:50,  1.79it/s]#015 61%|██████▏   | 479/782 [04:30<02:49,  1.78it/s]#015 61%|██████▏   | 480/782 [04:30<02:49,  1.78it/s]#015 62%|██████▏   | 481/782 [04:31<02:48,  1.79it/s]#015 62%|██████▏   | 482/782 [04:31<02:47,  1.79it/s]#015 62%|██████▏   | 483/782 [04:32<02:47,  1.79it/s]#015 62%|██████▏   | 484/782 [04:32<02:47,  1.78it/s]#015 62%|██████▏   | 485/782 [04:33<02:46,  1.79it/s]#015 62%|██████▏   | 486/782 [04:33<02:45,  1.79it/s]#015 62%|██████▏   | 487/782 [04:34<02:44,  1.79it/s]#015 62%|██████▏   | 488/782 [04:35<02:44,  1.79it/s]#015 63%|██████▎   | 489/782 [04:35<02:45,  1.77it/s]#015 63%|██████▎   | 490/782 [04:36<02:44,  1.78it/s]#015 63%|██████▎   | 491/782 [04:36<02:43,  1.78it/s]#015 63%|██████▎   | 492/782 [04:37<02:42,  1.79it/s]#015 63%|██████▎   | 493/782 [04:37<02:41,  1.79it/s]#015 63%|██████▎   | 494/782 [04:38<02:41,  1.78it/s]#015 63%|██████▎   | 495/782 [04:38<02:40,  1.79it/s]#015 63%|██████▎   | 496/782 [04:39<02:39,  1.80it/s]#015 64%|██████▎   | 497/782 [04:40<02:38,  1.80it/s]#015 64%|██████▎   | 498/782 [04:40<02:38,  1.79it/s]#015 64%|██████▍   | 499/782 [04:41<02:37,  1.80it/s]#015 64%|██████▍   | 500/782 [04:41<02:36,  1.80it/s]#015                                                 #015#015 64%|██████▍   | 500/782 [04:41<02:36,  1.80it/s]#015 64%|██████▍   | 501/782 [04:44<05:31,  1.18s/it]#015 64%|██████▍   | 502/782 [04:44<04:38,  1.01it/s]#015 64%|██████▍   | 503/782 [04:45<04:00,  1.16it/s]#015 64%|██████▍   | 504/782 [04:46<03:34,  1.30it/s]#015 65%|██████▍   | 505/782 [04:46<03:17,  1.40it/s]#015 65%|██████▍   | 506/782 [04:47<03:04,  1.50it/s]#015 65%|██████▍   | 507/782 [04:47<02:55,  1.56it/s]#015 65%|██████▍   | 508/782 [04:48<02:48,  1.63it/s]#015 65%|██████▌   | 509/782 [04:48<02:43,  1.67it/s]#015 65%|██████▌   | 510/782 [04:49<02:39,  1.71it/s]#015 65%|██████▌   | 511/782 [04:50<02:36,  1.73it/s]#015 65%|██████▌   | 512/782 [04:50<02:34,  1.75it/s]#015 66%|██████▌   | 513/782 [04:51<02:33,  1.75it/s]#015 66%|██████▌   | 514/782 [04:51<02:32,  1.75it/s]#015 66%|██████▌   | 515/782 [04:52<02:31,  1.77it/s]#015 66%|██████▌   | 516/782 [04:52<02:30,  1.77it/s]#015 66%|██████▌   | 517/782 [04:53<02:29,  1.77it/s]#015 66%|██████▌   | 518/782 [04:53<02:28,  1.77it/s]#015 66%|██████▋   | 519/782 [04:54<02:29,  1.76it/s]#015 66%|██████▋   | 520/782 [04:55<02:28,  1.76it/s]#015 67%|██████▋   | 521/782 [04:55<02:27,  1.77it/s]#015 67%|██████▋   | 522/782 [04:56<02:27,  1.76it/s]#015 67%|██████▋   | 523/782 [04:56<02:29,  1.73it/s]#015 67%|██████▋   | 524/782 [04:57<02:27,  1.75it/s]#015 67%|██████▋   | 525/782 [04:57<02:27,  1.75it/s]#015 67%|██████▋   | 526/782 [04:58<02:25,  1.76it/s]#015 67%|██████▋   | 527/782 [04:59<02:24,  1.77it/s]#015 68%|██████▊   | 528/782 [04:59<02:22,  1.78it/s]#015 68%|██████▊   | 529/782 [05:00<02:23,  1.76it/s]#015 68%|██████▊   | 530/782 [05:00<02:23,  1.76it/s]#015 68%|██████▊   | 531/782 [05:01<02:21,  1.77it/s]#015 68%|██████▊   | 532/782 [05:01<02:21,  1.76it/s]#015 68%|██████▊   | 533/782 [05:02<02:20,  1.77it/s]#015 68%|██████▊   | 534/782 [05:03<02:20,  1.77it/s]#015 68%|██████▊   | 535/782 [05:03<02:18,  1.78it/s]#015 69%|██████▊   | 536/782 [05:04<02:18,  1.78it/s]#015 69%|██████▊   | 537/782 [05:04<02:17,  1.78it/s]#015 69%|██████▉   | 538/782 [05:05<02:16,  1.78it/s]#015 69%|██████▉   | 539/782 [05:05<02:17,  1.77it/s]#015 69%|██████▉   | 540/782 [05:06<02:16,  1.77it/s]#015 69%|██████▉   | 541/782 [05:06<02:15,  1.77it/s]#015 69%|██████▉   | 542/782 [05:07<02:15,  1.77it/s]#015 69%|██████▉   | 543/782 [05:08<02:14,  1.77it/s]#015 70%|██████▉   | 544/782 [05:08<02:14,  1.77it/s]#015 70%|██████▉   | 545/782 [05:09<02:15,  1.75it/s]#015 70%|██████▉   | 546/782 [05:09<02:13,  1.76it/s]#015 70%|██████▉   | 547/782 [05:10<02:15,  1.74it/s]#015 70%|███████   | 548/782 [05:10<02:13,  1.76it/s]#015 70%|███████   | 549/782 [05:11<02:11,  1.78it/s]#015 70%|███████   | 550/782 [05:12<02:10,  1.77it/s]#015 70%|███████   | 551/782 [05:12<02:10,  1.78it/s]#015 71%|███████   | 552/782 [05:13<02:09,  1.77it/s]#015 71%|███████   | 553/782 [05:13<02:08,  1.78it/s]#015 71%|███████   | 554/782 [05:14<02:10,  1.74it/s]#015 71%|███████   | 555/782 [05:14<02:09,  1.75it/s]#015 71%|███████   | 556/782 [05:15<02:07,  1.77it/s]#015 71%|███████   | 557/782 [05:16<02:06,  1.78it/s]#015 71%|███████▏  | 558/782 [05:16<02:05,  1.79it/s]#015 71%|███████▏  | 559/782 [05:17<02:05,  1.78it/s]#015 72%|███████▏  | 560/782 [05:17<02:04,  1.78it/s]#015 72%|███████▏  | 561/782 [05:18<02:06,  1.75it/s]#015 72%|███████▏  | 562/782 [05:18<02:04,  1.76it/s]#015 72%|███████▏  | 563/782 [05:19<02:03,  1.77it/s]#015 72%|███████▏  | 564/782 [05:19<02:02,  1.79it/s]#015 72%|█████�\u001b[0m\n",
      "\u001b[34m�█▏  | 565/782 [05:20<02:00,  1.79it/s]#015 72%|███████▏  | 566/782 [05:21<02:00,  1.80it/s]#015 73%|███████▎  | 567/782 [05:21<02:03,  1.74it/s]#015 73%|███████▎  | 568/782 [05:22<02:02,  1.75it/s]#015 73%|███████▎  | 569/782 [05:22<02:00,  1.76it/s]#015 73%|███████▎  | 570/782 [05:23<02:00,  1.76it/s]#015 73%|███████▎  | 571/782 [05:23<01:59,  1.77it/s]#015 73%|███████▎  | 572/782 [05:24<02:00,  1.75it/s]#015 73%|███████▎  | 573/782 [05:25<02:00,  1.74it/s]#015 73%|███████▎  | 574/782 [05:25<01:58,  1.75it/s]#015 74%|███████▎  | 575/782 [05:26<01:57,  1.76it/s]#015 74%|███████▎  | 576/782 [05:26<01:57,  1.75it/s]#015 74%|███████▍  | 577/782 [05:27<01:56,  1.76it/s]#015 74%|███████▍  | 578/782 [05:27<01:55,  1.77it/s]#015 74%|███████▍  | 579/782 [05:28<01:54,  1.77it/s]#015 74%|███████▍  | 580/782 [05:29<01:53,  1.77it/s]#015 74%|███████▍  | 581/782 [05:29<01:52,  1.78it/s]#015 74%|███████▍  | 582/782 [05:30<01:51,  1.79it/s]#015 75%|███████▍  | 583/782 [05:30<01:50,  1.79it/s]#015 75%|███████▍  | 584/782 [05:31<01:50,  1.79it/s]#015 75%|███████▍  | 585/782 [05:31<01:50,  1.79it/s]#015 75%|███████▍  | 586/782 [05:32<01:50,  1.78it/s]#015 75%|███████▌  | 587/782 [05:32<01:49,  1.79it/s]#015 75%|███████▌  | 588/782 [05:33<01:48,  1.79it/s]#015 75%|███████▌  | 589/782 [05:34<01:48,  1.78it/s]#015 75%|███████▌  | 590/782 [05:34<01:47,  1.78it/s]#015 76%|███████▌  | 591/782 [05:35<01:46,  1.79it/s]#015 76%|███████▌  | 592/782 [05:35<01:46,  1.78it/s]#015 76%|███████▌  | 593/782 [05:36<01:45,  1.79it/s]#015 76%|███████▌  | 594/782 [05:36<01:45,  1.79it/s]#015 76%|███████▌  | 595/782 [05:37<01:46,  1.76it/s]#015 76%|███████▌  | 596/782 [05:38<01:45,  1.76it/s]#015 76%|███████▋  | 597/782 [05:38<01:44,  1.77it/s]#015 76%|███████▋  | 598/782 [05:39<01:43,  1.77it/s]#015 77%|███████▋  | 599/782 [05:39<01:43,  1.77it/s]#015 77%|███████▋  | 600/782 [05:40<01:43,  1.76it/s]#015 77%|███████▋  | 601/782 [05:40<01:42,  1.77it/s]#015 77%|███████▋  | 602/782 [05:41<01:40,  1.79it/s]#015 77%|███████▋  | 603/782 [05:42<01:41,  1.77it/s]#015 77%|███████▋  | 604/782 [05:42<01:40,  1.78it/s]#015 77%|███████▋  | 605/782 [05:43<01:39,  1.78it/s]#015 77%|███████▋  | 606/782 [05:43<01:38,  1.78it/s]#015 78%|███████▊  | 607/782 [05:44<01:37,  1.79it/s]#015 78%|███████▊  | 608/782 [05:44<01:37,  1.78it/s]#015 78%|███████▊  | 609/782 [05:45<01:36,  1.78it/s]#015 78%|███████▊  | 610/782 [05:45<01:36,  1.79it/s]#015 78%|███████▊  | 611/782 [05:46<01:35,  1.79it/s]#015 78%|███████▊  | 612/782 [05:47<01:34,  1.79it/s]#015 78%|███████▊  | 613/782 [05:47<01:33,  1.80it/s]#015 79%|███████▊  | 614/782 [05:48<01:33,  1.80it/s]#015 79%|███████▊  | 615/782 [05:48<01:32,  1.80it/s]#015 79%|███████▉  | 616/782 [05:49<01:32,  1.79it/s]#015 79%|███████▉  | 617/782 [05:49<01:34,  1.74it/s]#015 79%|███████▉  | 618/782 [05:50<01:33,  1.76it/s]#015 79%|███████▉  | 619/782 [05:50<01:32,  1.77it/s]#015 79%|███████▉  | 620/782 [05:51<01:31,  1.78it/s]#015 79%|███████▉  | 621/782 [05:52<01:30,  1.77it/s]#015 80%|███████▉  | 622/782 [05:52<01:30,  1.77it/s]#015 80%|███████▉  | 623/782 [05:53<01:29,  1.78it/s]#015 80%|███████▉  | 624/782 [05:53<01:28,  1.78it/s]#015 80%|███████▉  | 625/782 [05:54<01:27,  1.79it/s]#015 80%|████████  | 626/782 [05:54<01:27,  1.79it/s]#015 80%|████████  | 627/782 [05:55<01:27,  1.77it/s]#015 80%|████████  | 628/782 [05:56<01:26,  1.78it/s]#015 80%|████████  | 629/782 [05:56<01:25,  1.78it/s]#015 81%|████████  | 630/782 [05:57<01:24,  1.79it/s]#015 81%|████████  | 631/782 [05:57<01:23,  1.80it/s]#015 81%|████████  | 632/782 [05:58<01:23,  1.79it/s]#015 81%|████████  | 633/782 [05:58<01:23,  1.78it/s]#015 81%|████████  | 634/782 [05:59<01:22,  1.79it/s]#015 81%|████████  | 635/782 [05:59<01:22,  1.78it/s]#015 81%|████████▏ | 636/782 [06:00<01:21,  1.79it/s]#015 81%|████████▏ | 637/782 [06:01<01:21,  1.78it/s]#015 82%|████████▏ | 638/782 [06:01<01:21,  1.77it/s]#015 82%|████████▏ | 639/782 [06:02<01:20,  1.78it/s]#015 82%|████████▏ | 640/782 [06:02<01:19,  1.78it/s]#015 82%|████████▏ | 641/782 [06:03<01:19,  1.78it/s]#015 82%|████████▏ | 642/782 [06:03<01:18,  1.78it/s]#015 82%|████████▏ | 643/782 [06:04<01:18,  1.78it/s]#015 82%|████████▏ | 644/782 [06:05<01:17,  1.78it/s]#015 82%|████████▏ | 645/782 [06:05<01:17,  1.78it/s]#015 83%|████████▎ | 646/782 [06:06<01:16,  1.77it/s]#015 83%|████████▎ | 647/782 [06:06<01:15,  1.78it/s]#015 83%|████████▎ | 648/782 [06:07<01:15,  1.78it/s]#015 83%|████████▎ | 649/782 [06:07<01:14,  1.78it/s]#015 83%|████████▎ | 650/782 [06:08<01:14,  1.78it/s]#015 83%|████████▎ | 651/782 [06:08<01:13,  1.78it/s]#015 83%|████████▎ | 652/782 [06:09<01:12,  1.79it/s]#015 84%|████████▎ | 653/782 [06:10<01:12,  1.79it/s]#015 84%|████████▎ | 654/782 [06:10<01:13,  1.75it/s]#015 84%|████████▍ | 655/782 [06:11<01:12,  1.75it/s]#015 84%|████████▍ | 656/782 [06:11<01:11,  1.77it/s]#015 84%|████████▍ | 657/782 [06:12<01:11,  1.76it/s]#015 84%|████████▍ | 658/782 [06:12<01:10,  1.77it/s]#015 84%|████████▍ | 659/782 [06:13<01:09,  1.76it/s]#015 84%|████████▍ | 660/782 [06:14<01:08,  1.77it/s]#015 85%|████████▍ | 661/782 [06:14<01:07,  1.78it/s]#015 85%|████████▍ | 662/782 [06:15<01:07,  1.79it/s]#015 85%|████████▍ | 663/782 [06:15<01:06,  1.79it/s]#015 85%|████████▍ | 664/782 [06:16<01:06,  1.79it/s]#015 85%|████████▌ | 665/782 [06:16<01:05,  1.78it/s]#015 85%|████████▌ | 666/782 [06:17<01:05,  1.78it/s]#015 85%|████████▌ | 667/782 [06:17<01:04,  1.78it/s]#015 85%|████████▌ | 668/782 [06:18<01:03,  1.79it/s]#015 86%|████████▌ | 669/782 [06:19<01:03,  1.79it/s]#015 86%|████████▌ | 670/782 [06:19<01:02,  1.79it/s]#015 86%|████████▌ | 671/782 [06:20<01:01,  1.79it/s]#015 86%|████████▌ | 672/782 [06:20<01:02,  1.76it/s]#015 86%|████████▌ | 673/782 [06:21<01:01,  1.77it/s]#015 86%|████████▌ | 674/782 [06:21<01:02,  1.73it/s]#015 86%|████████▋ | 675/782 [06:22<01:01,  1.75it/s]#015 86%|████████▋ | 676/782 [06:23<01:00,  1.75it/s]#015 87%|████████▋ | 677/782 [06:23<00:59,  1.75it/s]#015 87%|████████▋ | 678/782 [06:24<00:59,  1.76it/s]#015 87%|████████▋ | 679/782 [06:24<00:58,  1.75it/s]#015 87%|████████▋ | 680/782 [06:25<00:59,  1.72it/s]#015 87%|████████▋ | 681/782 [06:25<00:58,  1.73it/s]#015 87%|████████▋ | 682/782 [06:26<00:57,  1.74it/s]#015 87%|████████▋ | 683/782 [06:27<00:56,  1.76it/s]#015 87%|████████▋ | 684/782 [06:27<00:56,  1.73it/s]#015 88%|████████▊ | 685/782 [06:28<00:55,  1.75it/s]#015 88%|████████▊ | 686/782 [06:28<00:54,  1.76it/s]#015 88%|████████▊ | 687/782 [06:29<00:53,  1.77it/s]#015 88%|████████▊ | 688/782 [06:29<00:53,  1.77it/s]#015 88%|████████▊ | 689/782 [06:30<00:52,  1.77it/s]#015 88%|████████▊ | 690/782 [06:31<00:51,  1.77it/s]#015 88%|████████▊ | 691/782 [06:31<00:51,  1.77it/s]#015 88%|████████▊ | 692/782 [06:32<00:50,  1.78it/s]#015 89%|████████▊ | 693/782 [06:32<00:49,  1.78it/s]#015 89%|████████▊ | 694/782 [06:33<00:49,  1.79it/s]#015 89%|████████▉ | 695/782 [06:33<00:49,  1.77it/s]#015 89%|████████▉ | 696/782 [06:34<00:48,  1.78it/s]#015 89%|████████▉ | 697/782 [06:34<00:47,  1.78it/s]#015 89%|████████▉ | 698/782 [06:35<00:47,  1.78it/s]#015 89%|████████▉ | 699/782 [06:36<00:46,  1.78it/s]#015 90%|████████▉ | 700/782 [06:36<00:46,  1.77it/s]#015 90%|████████▉ | 701/782 [06:37<00:45,  1.77it/s]#015 90%|████████▉ | 702/782 [06:37<00:44,  1.78it/s]#015 90%|████████▉ | 703/782 [06:38<00:44,  1.78it/s]#015 90%|█████████ | 704/782 [06:38<00:44,  1.76it/s]#015 90%|█████████ | 705/782 [06:39<00:43,  1.77it/s]#015 90%|█████████ | 706/782 [06:40<00:42,  1.78it/s]#015 90%|█████████ | 707/782 [06:40<00:42,  1.78it/s]#015 91%|█████████ | 708/782 [06:41<00:41,  1.79it/s]#015 91%|█████████ | 709/782 [06:41<00:41,  1.77it/s]#015 91%|█████████ | 710/782 [06:42<00:40,  1.77it/s]#015 91%|█████████ | 711/782 [06:42<00:40,  1.77it/s]#015 91%|█████████ | 712/782 [06:43<00:39,  1.77it/s]#015 91%|█████████ | 713/782 [06:44<00:39,  1.76it/s]#015 91%|█████████▏| 714/782 [06:44<00:38,  1.78it/s]#015 91%|█████████▏| 715/782 [06:45<00:37,  1.78it/s]#015 92%|█████████▏| 716/782 [06:45<00:37,  1.77it/s]#015 92%|█████████▏| 717/782 [06:46<00:36,  1.78it/s]#015 92%|█████████▏| 718/782 [06:46<00:36,  1.78it/s]#015 92%|█████████▏| 719/782 [06:47<00:35,  1.78it/s]#015 92%|█████████▏| 720/782 [06:47<00:34,  1.78it/s]#015 92%|█████████▏| 721/782 [06:48<00:34,  1.79it/s]#015 92%|█████████▏| 722/782 [06:49<00:33,  1.78it/s]#015 92%|█████████▏| 723/782 [06:49<00:33,  1.79it/s]#015 93%|█████████▎| 724/782 [06:50<00:32,  1.79it/s]#015 93%|█████████▎| 725/782 [06:50<00:31,  1.79it/s]#015 93%|█████████▎| 726/782 [06:51<00:31,  1.79it/s]#015 93%|█████████▎| 727/782 [06:51<00:30,  1.79it/s]#015 93%|█████████▎| 728/782 [06:52<00:30,  1.80it/s]#015 93%|█████████▎| 729/782 [06:52<00:29,  1.79it/s]#015 93%|█████████▎| 730/782 [06:53<00:29,  1.79it/s]#015 93%|█████████▎| 731/782 [06:54<00:28,  1.78it/s]#015 94%|█████████▎| 732/782 [06:54<00:28,  1.78it/s]#015 94%|█████████▎| 733/782 [06:55<00:27,  1.78it/s]#015 94%|█████████▍| 734/782 [06:55<00:26,  1.79it/s]#015 94%|█████████▍| 735/782 [06:56<00:26,  1.79it/s]#015 94%|█████████▍| 736/782 [06:56<00:26,  1.76it/s]#015 94%|█████████▍| 737/782 [06:57<00:25,  1.77it/s]#015 94%|█████████▍| 738/782 [06:58<00:24,  1.78it/s]#015 95%|█████████▍| 739/782 [06:58<00:24,  1.74it/s]#015 95%|█████████▍| 740/782 [06:59<00:24,  1.74it/s]#015 95%|█████████▍| 741/782 [06:59<00:23,  1.76it/s]#015 95%|█████████▍| 742/782 [07:00<00:22,  1.77it/s]#015 95%|█████████▌| 743/782 [07:00<00:21,  1.78it/s]#015 95%|█████████▌| 744/782 [07:01<00:21,  1.78it/s]#015 95%|█████████▌| 745/782 [07:01<00:20,  1.78it/s]#015 95%|█████████▌| 746/782 [07:02<00:20,  1.78it/s]#015 96%|█████████▌| 747/782 [07:03<00:19,  1.77it/s]#015 96%|█████████▌| 748/782 [07:03<00:19,  1.77it/s]#015 96%|█████████▌| 749/782 [07:04<00:18,  1.77it/s]#015 96%|█████████▌| 750/782 [07:04<00:17,  1.78it/s]#015 96%|█████████▌| 751/782 [07:05<00:17,  1.78it/s]#015 96%|█████████▌| 752/782 [07:05<00:16,  1.79it/s]#015 96%|█████████▋| 753/782 [07:06<00:16,  1.79it/s]#015 96%|█████████▋| 754/782 [07:07<00:15,  1.78it/s]#015 97%|█████████▋| 755/782 [07:07<00:15,  1.79it/s]#015 97%|█████████▋| 756/782 [07:08<00:14,  1.77it/s]#015 97%|█████████▋| 757/782 [07:08<00:14,  1.78it/s]#015 97%|█████████▋| 758/782 [07:09<00:13,  1.78it/s]#015 97%|█████████▋| 759/782 [07:09<00:12,  1.78it/s]#015 97%|█████████▋| 760/782 [07:10<00:12,  1.78it/s]#015 97%|█████████▋| 761/782 [07:10<00:11,  1.79it/s]#015 97%|█████████▋| 762/782 [07:11<00:11,  1.79it/s]#015 98%|█████████▊| 763/782 [07:12<00:10,  1.75it/s]#015 98%|█████████▊| 764/782 [07:12<00:10,  1.76it/s]#015 98%|█████████▊| 765/782 [07:13<00:09,  1.76it/s]#015 98%|█████████▊| 766/782 [07:13<00:09,  1.77it/s]#015 98%|█████████▊| 767/782 [07:14<00:08,  1.78it/s]#015 98%|█████████▊| 768/782 [07:14<00:07,  1.77it/s]#015 98%|█████████▊| 769/782 [07:15<00:07,  1.78it/s]#015 98%|█████████▊| 770/782 [07:16<00:06,  1.78it/s]#015 99%|█████████▊| 771/782 [07:16<00:06,  1.79it/s]#015 99%|█████████▊| 772/782 [07:17<00:05,  1.80it/s]#015 99%|█████████▉| 773/782 [07:17<00:04,  1.80it/s]#015 99%|█████████▉| 774/782 [07:18<00:04,  1.80it/s]#015 99%|█████████▉| 775/782 [07:18<00:03,  1.80it/s]#015 99%|█████████▉| 776/782 [07:19<00:03,  1.79it/s]#015 99%|█████████▉| 777/782 [07:19<00:02,  1.79it/s]#015 99%|█████████▉| 778/782 [07:20<00:02,  1.78it/s]#015100%|█████████▉| 779/782 [07:21<00:01,  1.79it/s]#015100%|█████████▉| 780/782 [07:21<00:01,  1.79it/s]#015100%|█████████▉| 781/782 [07:22<00:00,  1.79it/s]#015100%|██████████| 782/782 [07:22<00:00,  2.19it/s]\u001b[0m\n",
      "\u001b[34m#015  0%|          | 0/157 [00:00<?, ?it/s]#033[A\u001b[0m\n",
      "\u001b[34m#015  1%|▏         | 2/157 [00:00<00:25,  6.12it/s]#033[A\u001b[0m\n",
      "\u001b[34m#015  2%|▏         | 3/157 [00:00<00:32,  4.69it/s]#033[A\u001b[0m\n",
      "\u001b[34m#015  3%|▎         | 4/157 [00:00<00:38,  3.99it/s]#033[A\u001b[0m\n",
      "\u001b[34m#015  3%|▎         | 5/157 [00:01<00:41,  3.66it/s]#033[A\u001b[0m\n",
      "\u001b[34m#015  4%|▍         | 6/157 [00:01<00:43,  3.46it/s]#033[A\u001b[0m\n",
      "\u001b[34m#015  4%|▍         | 7/157 [00:01<00:45,  3.31it/s]#033[A\u001b[0m\n",
      "\u001b[34m#015  5%|▌         | 8/157 [00:02<00:46,  3.19it/s]#033[A\u001b[0m\n",
      "\u001b[34m#015  6%|▌         | 9/157 [00:02<00:47,  3.14it/s]#033[A\u001b[0m\n",
      "\u001b[34m#015  6%|▋         | 10/157 [00:02<00:47,  3.08it/s]#033[A\u001b[0m\n",
      "\u001b[34m#015  7%|▋         | 11/157 [00:03<00:47,  3.07it/s]#033[A\u001b[0m\n",
      "\u001b[34m#015  8%|▊         | 12/157 [00:03<00:47,  3.07it/s]#033[A\u001b[0m\n",
      "\u001b[34m#015  8%|▊         | 13/157 [00:03<00:47,  3.06it/s]#033[A\u001b[0m\n",
      "\u001b[34m#015  9%|▉         | 14/157 [00:04<00:46,  3.06it/s]#033[A\u001b[0m\n",
      "\u001b[34m#015 10%|▉         | 15/157 [00:04<00:46,  3.05it/s]#033[A\u001b[0m\n",
      "\u001b[34m#015 10%|█         | 16/157 [00:04<00:46,  3.04it/s]#033[A\u001b[0m\n",
      "\u001b[34m#015 11%|█         | 17/157 [00:05<00:46,  3.03it/s]#033[A\u001b[0m\n",
      "\u001b[34m#015 11%|█▏        | 18/157 [00:05<00:45,  3.03it/s]#033[A\u001b[0m\n",
      "\u001b[34m#015 12%|█▏        | 19/157 [00:05<00:45,  3.03it/s]#033[A\u001b[0m\n",
      "\u001b[34m#015 13%|█▎        | 20/157 [00:06<00:45,  3.00it/s]#033[A\u001b[0m\n",
      "\u001b[34m#015 13%|█▎        | 21/157 [00:06<00:45,  3.01it/s]#033[A\u001b[0m\n",
      "\u001b[34m#015 14%|█▍        | 22/157 [00:06<00:44,  3.01it/s]#033[A\u001b[0m\n",
      "\u001b[34m#015 15%|█▍        | 23/157 [00:07<00:44,  3.02it/s]#033[A\u001b[0m\n",
      "\u001b[34m#015 15%|█▌        | 24/157 [00:07<00:44,  3.02it/s]#033[A\u001b[0m\n",
      "\u001b[34m#015 16%|█▌        | 25/157 [00:07<00:43,  3.02it/s]#033[A\u001b[0m\n",
      "\u001b[34m#015 17%|█▋        | 26/157 [00:08<00:43,  3.02it/s]#033[A\u001b[0m\n",
      "\u001b[34m#015 17%|█▋        | 27/157 [00:08<00:43,  3.02it/s]#033[A\u001b[0m\n",
      "\u001b[34m#015 18%|█▊        | 28/157 [00:08<00:42,  3.03it/s]#033[A\u001b[0m\n",
      "\u001b[34m#015 18%|█▊        | 29/157 [00:09<00:42,  3.04it/s]#033[A\u001b[0m\n",
      "\u001b[34m#015 19%|█▉        | 30/157 [00:09<00:41,  3.05it/s]#033[A\u001b[0m\n",
      "\u001b[34m#015 20%|█▉        | 31/157 [00:09<00:41,  3.05it/s]#033[A\u001b[0m\n",
      "\u001b[34m#015 20%|██        | 32/157 [00:10<00:40,  3.05it/s]#033[A\u001b[0m\n",
      "\u001b[34m#015 21%|██        | 33/157 [00:10<00:40,  3.06it/s]#033[A\u001b[0m\n",
      "\u001b[34m#015 22%|██▏       | 34/157 [00:10<00:40,  3.06it/s]#033[A\u001b[0m\n",
      "\u001b[34m#015 22%|██▏       | 35/157 [00:11<00:39,  3.05it/s]#033[A\u001b[0m\n",
      "\u001b[34m#015 23%|██▎       | 36/157 [00:11<00:39,  3.05it/s]#033[A\u001b[0m\n",
      "\u001b[34m#015 24%|██▎       | 37/157 [00:11<00:39,  3.05it/s]#033[A\u001b[0m\n",
      "\u001b[34m#015 24%|██▍       | 38/157 [00:12<00:39,  3.04it/s]#033[A\u001b[0m\n",
      "\u001b[34m#015 25%|██▍       | 39/157 [00:12<00:38,  3.03it/s]#033[A\u001b[0m\n",
      "\u001b[34m#015 25%|██▌       | 40/157 [00:12<00:38,  3.04it/s]#033[A\u001b[0m\n",
      "\u001b[34m#015 26%|██▌       | 41/157 [00:13<00:38,  3.03it/s]#033[A\u001b[0m\n",
      "\u001b[34m#015 27%|██▋       | 42/157 [00:13<00:37,  3.04it/s]#033[A\u001b[0m\n",
      "\u001b[34m#015 27%|██▋       | 43/157 [00:13<00:37,  3.05it/s]#033[A\u001b[0m\n",
      "\u001b[34m#015 28%|██▊       | 44/157 [00:14<00:37,  3.05it/s]#033[A\u001b[0m\n",
      "\u001b[34m#015 29%|██▊       | 45/157 [00:14<00:36,  3.05it/s]#033[A\u001b[0m\n",
      "\u001b[34m#015 29%|██▉       | 46/157 [00:14<00:36,  3.05it/s]#033[A\u001b[0m\n",
      "\u001b[34m#015 30%|██▉       | 47/157 [00:15<00:35,  3.06it/s]#033[A\u001b[0m\n",
      "\u001b[34m#015 31%|███       | 48/157 [00:15<00:35,  3.06it/s]#033[A\u001b[0m\n",
      "\u001b[34m#015 31%|███       | 49/157 [00:15<00:35,  3.06it/s]#033[A\u001b[0m\n",
      "\u001b[34m#015 32%|███▏      | 50/157 [00:16<00:34,  3.06it/s]#033[A\u001b[0m\n",
      "\u001b[34m#015 32%|███▏      | 51/157 [00:16<00:34,  3.06it/s]#033[A\u001b[0m\n",
      "\u001b[34m#015 33%|███▎      | 52/157 [00:16<00:34,  3.06it/s]#033[A\u001b[0m\n",
      "\u001b[34m#015 34%|███▍      | 53/157 [00:17<00:34,  3.04it/s]#033[A\u001b[0m\n",
      "\u001b[34m#015 34%|███▍      | 54/157 [00:17<00:34,  3.03it/s]#033[A\u001b[0m\n",
      "\u001b[34m#015 35%|███▌      | 55/157 [00:17<00:33,  3.02it/s]#033[A\u001b[0m\n",
      "\u001b[34m#015 36%|███▌      | 56/157 [00:18<00:33,  3.02it/s]#033[A\u001b[0m\n",
      "\u001b[34m#015 36%|███▋      | 57/157 [00:18<00:32,  3.03it/s]#033[A\u001b[0m\n",
      "\u001b[34m#015 37%|███▋      | 58/157 [00:18<00:32,  3.04it/s]#033[A\u001b[0m\n",
      "\u001b[34m#015 38%|███▊      | 59/157 [00:19<00:32,  3.04it/s]#033[A\u001b[0m\n",
      "\u001b[34m#015 38%|███▊      | 60/157 [00:19<00:31,  3.05it/s]#033[A\u001b[0m\n",
      "\u001b[34m#015 39%|███▉      | 61/157 [00:19<00:31,  3.05it/s]#033[A\u001b[0m\n",
      "\u001b[34m#015 39%|███▉      | 62/157 [00:20<00:31,  3.05it/s]#033[A\u001b[0m\n",
      "\u001b[34m#015 40%|████      | 63/157 [00:20<00:30,  3.05it/s]#033[A\u001b[0m\n",
      "\u001b[34m#015 41%|████      | 64/157 [00:20<00:30,  3.06it/s]#033[A\u001b[0m\n",
      "\u001b[34m#015 41%|████▏     | 65/157 [00:21<00:30,  3.05it/s]#033[A\u001b[0m\n",
      "\u001b[34m#015 42%|████▏     | 66/157 [00:21<00:30,  3.02it/s]#033[A\u001b[0m\n",
      "\u001b[34m#015 43%|████▎     | 67/157 [00:21<00:29,  3.03it/s]#033[A\u001b[0m\n",
      "\u001b[34m#015 43%|████▎     | 68/157 [00:22<00:29,  3.04it/s]#033[A\u001b[0m\n",
      "\u001b[34m#015 44%|████▍     | 69/157 [00:22<00:28,  3.04it/s]#033[A\u001b[0m\n",
      "\u001b[34m#015 45%|████▍     | 70/157 [00:22<00:28,  3.05it/s]#033[A\u001b[0m\n",
      "\u001b[34m#015 45%|████▌     | 71/157 [00:23<00:28,  3.05it/s]#033[A\u001b[0m\n",
      "\u001b[34m#015 46%|████▌     | 72/157 [00:23<00:27,  3.04it/s]#033[A\u001b[0m\n",
      "\u001b[34m#015 46%|████▋     | 73/157 [00:23<00:27,  3.04it/s]#033[A\u001b[0m\n",
      "\u001b[34m#015 47%|████▋     | 74/157 [00:24<00:27,  3.05it/s]#033[A\u001b[0m\n",
      "\u001b[34m#015 48%|████▊     | 75/157 [00:24<00:26,  3.04it/s]#033[A\u001b[0m\n",
      "\u001b[34m#015 48%|████▊     | 76/157 [00:24<00:26,  3.03it/s]#033[A\u001b[0m\n",
      "\u001b[34m#015 49%|████▉     | 77/157 [00:25<00:26,  3.04it/s]#033[A\u001b[0m\n",
      "\u001b[34m#015 50%|████▉     | 78/157 [00:25<00:25,  3.04it/s]#033[A\u001b[0m\n",
      "\u001b[34m#015 50%|█████     | 79/157 [00:25<00:25,  3.05it/s]#033[A\u001b[0m\n",
      "\u001b[34m#015 51%|█████     | 80/157 [00:26<00:25,  3.05it/s]#033[A\u001b[0m\n",
      "\u001b[34m#015 52%|█████▏    | 81/157 [00:26<00:25,  3.03it/s]#033[A\u001b[0m\n",
      "\u001b[34m#015 52%|█████▏    | 82/157 [00:26<00:24,  3.04it/s]#033[A\u001b[0m\n",
      "\u001b[34m#015 53%|█████▎    | 83/157 [00:27<00:24,  3.04it/s]#033[A\u001b[0m\n",
      "\u001b[34m#015 54%|█████▎    | 84/157 [00:27<00:23,  3.04it/s]#033[A\u001b[0m\n",
      "\u001b[34m#015 54%|█████▍    | 85/157 [00:27<00:23,  3.03it/s]#033[A\u001b[0m\n",
      "\u001b[34m#015 55%|█████▍    | 86/157 [00:27<00:23,  3.04it/s]#033[A\u001b[0m\n",
      "\u001b[34m#015 55%|█████▌    | 87/157 [00:28<00:22,  3.05it/s]#033[A\u001b[0m\n",
      "\u001b[34m#015 56%|█████▌    | 88/157 [00:28<00:22,  3.05it/s]#033[A\u001b[0m\n",
      "\u001b[34m#015 57%|█████▋    | 89/157 [00:28<00:22,  3.04it/s]#033[A\u001b[0m\n",
      "\u001b[34m#015 57%|█████▋    | 90/157 [00:29<00:22,  3.03it/s]#033[A\u001b[0m\n",
      "\u001b[34m#015 58%|█████▊    | 91/157 [00:29<00:21,  3.04it/s]#033[A\u001b[0m\n",
      "\u001b[34m#015 59%|█████▊    | 92/157 [00:29<00:21,  3.05it/s]#033[A\u001b[0m\n",
      "\u001b[34m#015 59%|█████▉    | 93/157 [00:30<00:20,  3.05it/s]#033[A\u001b[0m\n",
      "\u001b[34m#015 60%|█████▉    | 94/157 [00:30<00:20,  3.05it/s]#033[A\u001b[0m\n",
      "\u001b[34m#015 61%|██████    | 95/157 [00:30<00:20,  3.05it/s]#033[A\u001b[0m\n",
      "\u001b[34m#015 61%|██████    | 96/157 [00:31<00:19,  3.05it/s]#033[A\u001b[0m\n",
      "\u001b[34m#015 62%|██████▏   | 97/157 [00:31<00:19,  3.05it/s]#033[A\u001b[0m\n",
      "\u001b[34m#015 62%|██████▏   | 98/157 [00:31<00:19,  3.05it/s]#033[A\u001b[0m\n",
      "\u001b[34m#015 63%|██████▎   | 99/157 [00:32<00:18,  3.06it/s]#033[A\u001b[0m\n",
      "\u001b[34m#015 64%|██████▎   | 100/157 [00:32<00:18,  3.05it/s]#033[A\u001b[0m\n",
      "\u001b[34m#015 64%|██████▍   | 101/157 [00:32<00:18,  3.04it/s]#033[A\u001b[0m\n",
      "\u001b[34m#015 65%|██████▍   | 102/157 [00:33<00:18,  3.05it/s]#033[A\u001b[0m\n",
      "\u001b[34m#015 66%|██████▌   | 103/157 [00:33<00:17,  3.04it/s]#033[A\u001b[0m\n",
      "\u001b[34m#015 66%|██████▌   | 104/157 [00:33<00:17,  3.05it/s]#033[A\u001b[0m\n",
      "\u001b[34m#015 67%|██████▋   | 105/157 [00:34<00:17,  3.05it/s]#033[A\u001b[0m\n",
      "\u001b[34m#015 68%|██████▊   | 106/157 [00:34<00:16,  3.03it/s]#033[A\u001b[0m\n",
      "\u001b[34m#015 68%|██████▊   | 107/157 [00:34<00:16,  3.03it/s]#033[A\u001b[0m\n",
      "\u001b[34m#015 69%|██████▉   | 108/157 [00:35<00:16,  3.03it/s]#033[A\u001b[0m\n",
      "\u001b[34m#015 69%|██████▉   | 109/157 [00:35<00:15,  3.02it/s]#033[A\u001b[0m\n",
      "\u001b[34m#015 70%|███████   | 110/157 [00:35<00:15,  3.03it/s]#033[A\u001b[0m\n",
      "\u001b[34m#015 71%|███████   | 111/157 [00:36<00:15,  3.04it/s]#033[A\u001b[0m\n",
      "\u001b[34m#015 71%|███████▏  | 112/157 [00:36<00:14,  3.03it/s]#033[A\u001b[0m\n",
      "\u001b[34m#015 72%|███████▏  | 113/157 [00:36<00:14,  3.04it/s]#033[A\u001b[0m\n",
      "\u001b[34m#015 73%|███████▎  | 114/157 [00:37<00:14,  3.04it/s]#033[A\u001b[0m\n",
      "\u001b[34m#015 73%|███████▎  | 115/157 [00:37<00:13,  3.04it/s]#033[A\u001b[0m\n",
      "\u001b[34m#015 74%|███████▍  | 116/157 [00:37<00:13,  3.05it/s]#033[A\u001b[0m\n",
      "\u001b[34m#015 75%|███████▍  | 117/157 [00:38<00:13,  3.05it/s]#033[A\u001b[0m\n",
      "\u001b[34m#015 75%|███████▌  | 118/157 [00:38<00:12,  3.04it/s]#033[A\u001b[0m\n",
      "\u001b[34m#015 76%|███████▌  | 119/157 [00:38<00:12,  3.05it/s]#033[A\u001b[0m\n",
      "\u001b[34m#015 76%|███████▋  | 120/157 [00:39<00:12,  3.05it/s]#033[A\u001b[0m\n",
      "\u001b[34m#015 77%|███████▋  | 121/157 [00:39<00:11,  3.04it/s]#033[A\u001b[0m\n",
      "\u001b[34m#015 78%|███████▊  | 122/157 [00:39<00:11,  3.03it/s]#033[A\u001b[0m\n",
      "\u001b[34m#015 78%|███████▊  | 123/157 [00:40<00:11,  3.03it/s]#033[A\u001b[0m\n",
      "\u001b[34m#015 79%|███████▉  | 124/157 [00:40<00:10,  3.02it/s]#033[A\u001b[0m\n",
      "\u001b[34m#015 80%|███████▉  | 125/157 [00:40<00:10,  3.02it/s]#033[A\u001b[0m\n",
      "\u001b[34m#015 80%|████████  | 126/157 [00:41<00:10,  3.02it/s]#033[A\u001b[0m\n",
      "\u001b[34m#015 81%|████████  | 127/157 [00:41<00:09,  3.03it/s]#033[A\u001b[0m\n",
      "\u001b[34m#015 82%|████████▏ | 128/157 [00:41<00:09,  3.04it/s]#033[A\u001b[0m\n",
      "\u001b[34m#015 82%|████████▏ | 129/157 [00:42<00:09,  3.05it/s]#033[A\u001b[0m\n",
      "\u001b[34m#015 83%|████████▎ | 130/157 [00:42<00:08,  3.05it/s]#033[A\u001b[0m\n",
      "\u001b[34m#015 83%|████████▎ | 131/157 [00:42<00:08,  3.05it/s]#033[A\u001b[0m\n",
      "\u001b[34m#015 84%|████████▍ | 132/157 [00:43<00:08,  3.02it/s]#033[A\u001b[0m\n",
      "\u001b[34m#015 85%|████████▍ | 133/157 [00:43<00:07,  3.04it/s]#033[A\u001b[0m\n",
      "\u001b[34m#015 85%|████████▌ | 134/157 [00:43<00:07,  3.04it/s]#033[A\u001b[0m\n",
      "\u001b[34m#015 86%|████████▌ | 135/157 [00:44<00:07,  3.05it/s]#033[A\u001b[0m\n",
      "\u001b[34m#015 87%|████████▋ | 136/157 [00:44<00:06,  3.05it/s]#033[A\u001b[0m\n",
      "\u001b[34m#015 87%|████████▋ | 137/157 [00:44<00:06,  3.05it/s]#033[A\u001b[0m\n",
      "\u001b[34m#015 88%|████████▊ | 138/157 [00:45<00:06,  3.04it/s]#033[A\u001b[0m\n",
      "\u001b[34m#015 89%|████████▊ | 139/157 [00:45<00:05,  3.04it/s]#033[A\u001b[0m\n",
      "\u001b[34m#015 89%|████████▉ | 140/157 [00:45<00:05,  3.03it/s]#033[A\u001b[0m\n",
      "\u001b[34m#015 90%|████████▉ | 141/157 [00:46<00:05,  3.04it/s]#033[A\u001b[0m\n",
      "\u001b[34m#015 90%|█████████ | 142/157 [00:46<00:04,  3.04it/s]#033[A\u001b[0m\n",
      "\u001b[34m#015 91%|█████████ | 143/157 [00:46<00:04,  3.04it/s]#033[A\u001b[0m\n",
      "\u001b[34m#015 92%|█████████▏| 144/157 [00:47<00:04,  3.05it/s]#033[A\u001b[0m\n",
      "\u001b[34m#015 92%|█████████▏| 145/157 [00:47<00:03,  3.05it/s]#033[A\u001b[0m\n",
      "\u001b[34m#015 93%|█████████▎| 146/157 [00:47<00:03,  3.05it/s]#033[A\u001b[0m\n",
      "\u001b[34m#015 94%|█████████▎| 147/157 [00:48<00:03,  3.05it/s]#033[A\u001b[0m\n",
      "\u001b[34m#015 94%|█████████▍| 148/157 [00:48<00:02,  3.05it/s]#033[A\u001b[0m\n",
      "\u001b[34m#015 95%|█████████▍| 149/157 [00:48<00:02,  3.05it/s]#033[A\u001b[0m\n",
      "\u001b[34m#015 96%|█████████▌| 150/157 [00:49<00:02,  3.06it/s]#033[A\u001b[0m\n",
      "\u001b[34m#015 96%|█████████▌| 151/157 [00:49<00:01,  3.06it/s]#033[A\u001b[0m\n",
      "\u001b[34m#015 97%|█████████▋| 152/157 [00:49<00:01,  3.06it/s]#033[A\u001b[0m\n",
      "\u001b[34m#015 97%|█████████▋| 153/157 [00:50<00:01,  3.06it/s]#033[A\u001b[0m\n",
      "\u001b[34m#015 98%|█████████▊| 154/157 [00:50<00:00,  3.06it/s]#033[A\u001b[0m\n",
      "\u001b[34m#015 99%|█████████▊| 155/157 [00:50<00:00,  3.06it/s]#033[A\u001b[0m\n",
      "\u001b[34m#015 99%|█████████▉| 156/157 [00:50<00:00,  3.06it/s]#033[A#015                                                 #015\u001b[0m\n",
      "\u001b[34m#015                                                 #015#033[A#015100%|██████████| 782/782 [08:13<00:00,  2.19it/s]\u001b[0m\n",
      "\u001b[34m#015100%|██████████| 157/157 [00:51<00:00,  3.06it/s]#033[A\u001b[0m\n",
      "\u001b[34m#015                                                 #033[A#015                                                 #015#015100%|██████████| 782/782 [08:13<00:00,  2.19it/s]#015100%|██████████| 782/782 [08:13<00:00,  1.58it/s]\u001b[0m\n",
      "\u001b[34m#015  0%|          | 0/157 [00:00<?, ?it/s]#015  1%|▏         | 2/157 [00:00<00:25,  6.13it/s]#015  2%|▏         | 3/157 [00:00<00:32,  4.71it/s]#015  3%|▎         | 4/157 [00:00<00:37,  4.06it/s]#015  3%|▎         | 5/157 [00:01<00:41,  3.70it/s]#015  4%|▍         | 6/157 [00:01<00:43,  3.47it/s]#015  4%|▍         | 7/157 [00:01<00:45,  3.33it/s]#015  5%|▌         | 8/157 [00:02<00:45,  3.25it/s]#015  6%|▌         | 9/157 [00:02<00:46,  3.19it/s]#015  6%|▋         | 10/157 [00:02<00:46,  3.15it/s]#015  7%|▋         | 11/157 [00:03<00:46,  3.11it/s]#015  8%|▊         | 12/157 [00:03<00:47,  3.08it/s]#015  8%|▊         | 13/157 [00:03<00:47,  3.06it/s]#015  9%|▉         | 14/157 [00:04<00:47,  3.04it/s]#015 10%|▉         | 15/157 [00:04<00:46,  3.04it/s]#015 10%|█         | 16/157 [00:04<00:46,  3.05it/s]#015 11%|█         | 17/157 [00:05<00:45,  3.05it/s]#015 11%|█▏        | 18/157 [00:05<00:45,  3.05it/s]#015 12%|█▏        | 19/157 [00:05<00:45,  3.05it/s]#015 13%|█▎        | 20/157 [00:06<00:44,  3.05it/s]#015 13%|█▎        | 21/157 [00:06<00:44,  3.05it/s]#015 14%|█▍        | 22/157 [00:06<00:44,  3.05it/s]#015 15%|█▍        | 23/157 [00:07<00:43,  3.05it/s]#015 15%|█▌        | 24/157 [00:07<00:43,  3.04it/s]#015 16%|█▌        | 25/157 [00:07<00:43,  3.05it/s]#015 17%|█▋        | 26/157 [00:08<00:42,  3.05it/s]#015 17%|█▋        | 27/157 [00:08<00:42,  3.05it/s]#015 18%|█▊        | 28/157 [00:08<00:42,  3.05it/s]#015 18%|█▊        | 29/157 [00:09<00:42,  3.05it/s]#015 19%|█▉        | 30/157 [00:09<00:41,  3.05it/s]#015 20%|█▉        | 31/157 [00:09<00:41,  3.05it/s]#015 20%|██        | 32/157 [00:10<00:40,  3.06it/s]#015 21%|██        | 33/157 [00:10<00:40,  3.03it/s]#015 22%|██▏       | 34/157 [00:10<00:40,  3.03it/s]#015 22%|██▏       | 35/157 [00:11<00:40,  3.03it/s]#015 23%|██▎       | 36/157 [00:11<00:40,  3.02it/s]#015 24%|██▎       | 37/157 [00:11<00:39,  3.01it/s]#015 24%|██▍       | 38/157 [00:12<00:39,  3.02it/s]#015 25%|██▍       | 39/157 [00:12<00:38,  3.03it/s]#015 25%|██▌       | 40/157 [00:12<00:38,  3.04it/s]#015 26%|██▌       | 41/157 [00:13<00:38,  3.04it/s]#015 27%|██▋       | 42/157 [00:13<00:37,  3.04it/s]#015 27%|██▋       | 43/157 [00:13<00:37,  3.03it/s]#015 28%|██▊       | 44/157 [00:14<00:37,  3.03it/s]#015 29%|██▊       | 45/157 [00:14<00:36,  3.03it/s]#015 29%|██▉       | 46/157 [00:14<00:36,  3.03it/s]#015 30%|██▉       | 47/157 [00:15<00:36,  3.04it/s]#015 31%|███       | 48/157 [00:15<00:35,  3.04it/s]#015 31%|███       | 49/157 [00:15<00:35,  3.04it/s]#015 32%|███▏      | 50/157 [00:16<00:35,  3.04it/s]#015 32%|███▏      | 51/157 [00:16<00:34,  3.04it/s]#015 33%|███▎      | 52/157 [00:16<00:34,  3.03it/s]#015 34%|███▍      | 53/157 [00:17<00:34,  3.04it/s]#015 34%|███▍      | 54/157 [00:17<00:33,  3.03it/s]#015 35%|███▌      | 55/157 [00:17<00:33,  3.03it/s]#015 36%|███▌      | 56/157 [00:18<00:33,  3.04it/s]#015 36%|███▋      | 57/157 [00:18<00:32,  3.05it/s]#015 37%|███▋      | 58/157 [00:18<00:32,  3.05it/s]#015 38%|███▊      | 59/157 [00:19<00:32,  3.05it/s]#015 38%|███▊      | 60/157 [00:19<00:31,  3.06it/s]#015 39%|███▉      | 61/157 [00:19<00:31,  3.06it/s]#015 39%|███▉      | 62/157 [00:20<00:31,  3.05it/s]#015 40%|████      | 63/157 [00:20<00:30,  3.05it/s]#015 41%|████      | 64/157 [00:20<00:30,  3.05it/s]#015 41%|████▏     | 65/157 [00:21<00:30,  3.05it/s]#015 42%|████▏     | 66/157 [00:21<00:29,  3.06it/s]#015 43%|████▎     | 67/157 [00:21<00:29,  3.06it/s]#015 43%|████▎     | 68/157 [00:22<00:29,  3.05it/s]#015 44%|████▍     | 69/157 [00:22<00:28,  3.05it/s]#015 45%|████▍     | 70/157 [00:22<00:28,  3.05it/s]#015 45%|████▌     | 71/157 [00:22<00:28,  3.05it/s]#015 46%|████▌     | 72/157 [00:23<00:27,  3.06it/s]#015 46%|████▋     | 73/157 [00:23<00:27,  3.05it/s]#015 47%|████▋     | 74/157 [00:23<00:27,  3.06it/s]#015 48%|████▊     | 75/157 [00:24<00:26,  3.06it/s]#015 48%|████▊     | 76/157 [00:24<00:26,  3.05it/s]#015 49%|████▉     | 77/157 [00:24<00:26,  3.05it/s]#015 50%|████▉     | 78/157 [00:25<00:25,  3.06it/s]#015 50%|█████     | 79/157 [00:25<00:25,  3.06it/s]#015 51%|█████     | 80/157 [00:25<00:25,  3.05it/s]#015 52%|█████▏    | 81/157 [00:26<00:25,  3.04it/s]#015 52%|█████▏    | 82/157 [00:26<00:24,  3.04it/s]#015 53%|█████▎    | 83/157 [00:26<00:24,  3.04it/s]#015 54%|█████▎    | 84/157 [00:27<00:23,  3.05it/s]#015 54%|█████▍    | 85/157 [00:27<00:23,  3.05it/s]#015 55%|█████▍    | 86/157 [00:27<00:23,  3.05it/s]#015 55%|█████▌    | 87/157 [00:28<00:22,  3.06it/s]#015 56%|█████▌    | 88/157 [00:28<00:22,  3.06it/s]#015 57%|█████▋    | 89/157 [00:28<00:22,  3.06it/s]#015 57%|█████▋    | 90/157 [00:29<00:21,  3.06it/s]#015 58%|█████▊    | 91/157 [00:29<00:21,  3.06it/s]#015 59%|█████▊    | 92/157 [00:29<00:21,  3.06it/s]#015 59%|█████▉    | 93/157 [00:30<00:20,  3.06it/s]#015 60%|█████▉    | 94/157 [00:30<00:20,  3.05it/s]#015 61%|██████    | 95/157 [00:30<00:20,  3.05it/s]#015 61%|██████    | 96/157 [00:31<00:19,  3.05it/s]#015 62%|██████▏   | 97/157 [00:31<00:19,  3.05it/s]#015 62%|██████▏   | 98/157 [00:31<00:19,  3.05it/s]#015 63%|██████▎   | 99/157 [00:32<00:19,  3.04it/s]#015 64%|██████▎   | 100/157 [00:32<00:18,  3.05it/s]#015 64%|██████▍   | 101/157 [00:32<00:18,  3.04it/s]#015 65%|██████▍   | 102/157 [00:33<00:18,  3.03it/s]#015 66%|██████▌   | 103/157 [00:33<00:17,  3.03it/s]#015 66%|██████▌   | 104/157 [00:33<00:17,  3.03it/s]#015 67%|██████▋   | 105/157 [00:34<00:17,  3.04it/s]#015 68%|██████▊   | 106/157 [00:34<00:16,  3.04it/s]#015 68%|██████▊   | 107/157 [00:34<00:16,  3.04it/s]#015 69%|██████▉   | 108/157 [00:35<00:16,  3.04it/s]#015 69%|██████▉   | 109/157 [00:35<00:15,  3.04it/s]#015 70%|███████   | 110/157 [00:35<00:15,  3.04it/s]#015 71%|███████   | 111/157 [00:36<00:15,  3.05it/s]#015 71%|███████▏  | 112/157 [00:36<00:14,  3.05it/s]#015 72%|███████▏  | 113/157 [00:36<00:14,  3.05it/s]#015 73%|███████▎  | 114/157 [00:37<00:14,  3.05it/s]#015 73%|███████▎  | 115/157 [00:37<00:13,  3.05it/s]#015 74%|███████▍  | 116/157 [00:37<00:13,  3.04it/s]#015 75%|███████▍  | 117/157 [00:38<00:13,  3.05it/s]#015 75%|███████▌  | 118/157 [00:38<00:12,  3.05it/s]#015 76%|███████▌  | 119/157 [00:38<00:12,  3.05it/s]#015 76%|███████▋  | 120/157 [00:39<00:12,  3.05it/s]#015 77%|███████▋  | 121/157 [00:39<00:11,  3.05it/s]#015 78%|███████▊  | 122/157 [00:39<00:11,  3.05it/s]#015 78%|███████▊  | 123/157 [00:40<00:11,  3.05it/s]#015 79%|███████▉  | 124/157 [00:40<00:10,  3.05it/s]#015 80%|███████▉  | 125/157 [00:40<00:10,  3.05it/s]#015 80%|████████  | 126/157 [00:41<00:10,  3.05it/s]#015 81%|████████  | 127/157 [00:41<00:09,  3.05it/s]#015 82%|████████▏ | 128/157 [00:41<00:09,  3.05it/s]#015 82%|████████▏ | 129/157 [00:42<00:09,  3.05it/s]#015 83%|████████▎ | 130/157 [00:42<00:08,  3.05it/s]#015 83%|████████▎ | 131/157 [00:42<00:08,  3.05it/s]#015 84%|████████▍ | 132/157 [00:42<00:08,  3.05it/s]#015 85%|████████▍ | 133/157 [00:43<00:07,  3.05it/s]#015 85%|████████▌ | 134/157 [00:43<00:07,  3.05it/s]#015 86%|████████▌ | 135/157 [00:43<00:07,  3.05it/s]#015 87%|████████▋ | 136/157 [00:44<00:06,  3.04it/s]#015 87%|████████▋ | 137/157 [00:44<00:06,  3.02it/s]#015 88%|████████▊ | 138/157 [00:44<00:06,  3.01it/s]#015 89%|████████▊ | 139/157 [00:45<00:05,  3.02it/s]#015 89%|████████▉ | 140/157 [00:45<00:05,  3.03it/s]#015 90%|████████▉ | 141/157 [00:45<00:05,  3.02it/s]#015 90%|█████████ | 142/157 [00:46<00:04,  3.01it/s]#015 91%|█████████ | 143/157 [00:46<00:04,  3.01it/s]#015 92%|█████████▏| 144/157 [00:46<00:04,  3.02it/s]#015 92%|█████████▏| 145/157 [00:47<00:03,  3.03it/s]#015 93%|█████████▎| 146/157 [00:47<00:03,  3.03it/s]#015 94%|█████████▎| 147/157 [00:47<00:03,  3.02it/s]#015 94%|█████████▍| 148/157 [00:48<00:02,  3.03it/s]#015 95%|█████████▍| 149/157 [00:48<00:02,  3.04it/s]#015 96%|█████████▌| 150/157 [00:48<00:02,  3.03it/s]#015 96%|█████████▌| 151/157 [00:49<00:01,  3.03it/s]#015 97%|█████████▋| 152/157 [00:49<00:01,  3.04it/s]#015 97%|█████████▋| 153/157 [00:49<00:01,  3.04it/s]#015 98%|█████████▊| 154/157 [00:50<00:00,  3.04it/s]#015 99%|█████████▊| 155/157 [00:50<00:00,  3.05it/s]#015 99%|█████████▉| 156/157 [00:50<00:00,  3.05it/s]#015100%|██████████| 157/157 [00:51<00:00,  3.08it/s]\u001b[0m\n"
     ]
    }
   ],
   "source": [
    "# access the logs of the training job\n",
    "huggingface_estimator.sagemaker_session.logs_for_job(huggingface_estimator.latest_training_job.name)"
   ]
  },
  {
   "cell_type": "markdown",
   "metadata": {},
   "source": [
    "### Attach to old training job to an estimator \n",
    "\n",
    "In Sagemaker you can attach an old training job to an estimator to continue training, get results etc.."
   ]
  },
  {
   "cell_type": "code",
   "execution_count": null,
   "metadata": {},
   "outputs": [],
   "source": [
    "from sagemaker.estimator import Estimator\n",
    "\n",
    "# job which is going to be attached to the estimator\n",
    "old_training_job_name=''"
   ]
  },
  {
   "cell_type": "code",
   "execution_count": null,
   "metadata": {},
   "outputs": [],
   "source": [
    "# attach old training job\n",
    "huggingface_estimator_loaded = Estimator.attach(old_training_job_name)\n",
    "\n",
    "# get model output s3 from training job\n",
    "huggingface_estimator_loaded.model_data"
   ]
  }
 ],
 "metadata": {
  "instance_type": "ml.t3.medium",
  "interpreter": {
   "hash": "c281c456f1b8161c8906f4af2c08ed2c40c50136979eaae69688b01f70e9f4a9"
  },
  "kernelspec": {
   "display_name": "Python 3 (PyTorch 1.8 Python 3.6 CPU Optimized)",
   "language": "python",
   "name": "python3__SAGEMAKER_INTERNAL__arn:aws:sagemaker:us-east-1:081325390199:image/1.8.1-cpu-py36"
  },
  "language_info": {
   "codemirror_mode": {
    "name": "ipython",
    "version": 3
   },
   "file_extension": ".py",
   "mimetype": "text/x-python",
   "name": "python",
   "nbconvert_exporter": "python",
   "pygments_lexer": "ipython3",
   "version": "3.6.13"
  }
 },
 "nbformat": 4,
 "nbformat_minor": 4
}
