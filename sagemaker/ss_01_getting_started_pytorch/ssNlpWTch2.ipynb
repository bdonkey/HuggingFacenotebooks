{
 "cells": [
  {
   "cell_type": "markdown",
   "metadata": {},
   "source": [
    "# Huggingface Sagemaker-sdk - Getting Started Demo\n",
    "### Binary Classification with `Trainer` and `imdb` dataset"
   ]
  },
  {
   "cell_type": "markdown",
   "metadata": {},
   "source": [
    "1. [Introduction](#Introduction)  \n",
    "2. [Development Environment and Permissions](#Development-Environment-and-Permissions)\n",
    "    1. [Installation](#Installation)  \n",
    "    2. [Development environment](#Development-environment)  \n",
    "    3. [Permissions](#Permissions)\n",
    "3. [Processing](#Preprocessing)   \n",
    "    1. [Tokenization](#Tokenization)  \n",
    "    2. [Uploading data to sagemaker_session_bucket](#Uploading-data-to-sagemaker_session_bucket)  \n",
    "4. [Fine-tuning & starting Sagemaker Training Job](#Fine-tuning-\\&-starting-Sagemaker-Training-Job)  \n",
    "    1. [Creating an Estimator and start a training job](#Creating-an-Estimator-and-start-a-training-job)  \n",
    "    2. [Estimator Parameters](#Estimator-Parameters)   \n",
    "    3. [Download fine-tuned model from s3](#Download-fine-tuned-model-from-s3)\n",
    "    3. [Attach to old training job to an estimator ](#Attach-to-old-training-job-to-an-estimator)  \n",
    "5. [_Coming soon_:Push model to the Hugging Face hub](#Push-model-to-the-Hugging-Face-hub)"
   ]
  },
  {
   "cell_type": "markdown",
   "metadata": {},
   "source": [
    "# Development Environment and Permissions "
   ]
  },
  {
   "cell_type": "markdown",
   "metadata": {},
   "source": [
    "## Installation\n",
    "\n",
    "_*Note:* we only install the required libraries from Hugging Face and AWS. You also need PyTorch or Tensorflow, if you haven´t it installed_"
   ]
  },
  {
   "cell_type": "code",
   "execution_count": 2,
   "metadata": {},
   "outputs": [
    {
     "name": "stdout",
     "output_type": "stream",
     "text": [
      "Collecting sagemaker>=2.48.0\n",
      "  Using cached sagemaker-2.76.0.tar.gz (512 kB)\n",
      "Collecting transformers==4.6.1\n",
      "  Using cached transformers-4.6.1-py3-none-any.whl (2.2 MB)\n",
      "Collecting datasets[s3]==1.6.2\n",
      "  Using cached datasets-1.6.2-py3-none-any.whl (221 kB)\n",
      "Collecting huggingface-hub==0.0.8\n",
      "  Using cached huggingface_hub-0.0.8-py3-none-any.whl (34 kB)\n",
      "Collecting tokenizers<0.11,>=0.10.1\n",
      "  Using cached tokenizers-0.10.3-cp36-cp36m-manylinux_2_5_x86_64.manylinux1_x86_64.manylinux_2_12_x86_64.manylinux2010_x86_64.whl (3.3 MB)\n",
      "Requirement already satisfied: tqdm>=4.27 in /opt/conda/lib/python3.6/site-packages (from transformers==4.6.1) (4.51.0)\n",
      "Requirement already satisfied: requests in /opt/conda/lib/python3.6/site-packages (from transformers==4.6.1) (2.25.1)\n",
      "Collecting filelock\n",
      "  Using cached filelock-3.4.1-py3-none-any.whl (9.9 kB)\n",
      "Requirement already satisfied: numpy>=1.17 in /opt/conda/lib/python3.6/site-packages (from transformers==4.6.1) (1.19.1)\n",
      "Requirement already satisfied: importlib-metadata in /opt/conda/lib/python3.6/site-packages (from transformers==4.6.1) (4.4.0)\n",
      "Requirement already satisfied: dataclasses in /opt/conda/lib/python3.6/site-packages (from transformers==4.6.1) (0.8)\n",
      "Requirement already satisfied: packaging in /opt/conda/lib/python3.6/site-packages (from transformers==4.6.1) (20.9)\n",
      "Collecting sacremoses\n",
      "  Using cached sacremoses-0.0.47-py2.py3-none-any.whl (895 kB)\n",
      "Collecting regex!=2019.12.17\n",
      "  Using cached regex-2022.1.18-cp36-cp36m-manylinux_2_17_x86_64.manylinux2014_x86_64.whl (748 kB)\n",
      "Requirement already satisfied: dill in /opt/conda/lib/python3.6/site-packages (from datasets[s3]==1.6.2) (0.3.3)\n",
      "Requirement already satisfied: pyarrow>=1.0.0<4.0.0 in /opt/conda/lib/python3.6/site-packages (from datasets[s3]==1.6.2) (4.0.1)\n",
      "Collecting tqdm>=4.27\n",
      "  Using cached tqdm-4.49.0-py2.py3-none-any.whl (69 kB)\n",
      "Requirement already satisfied: fsspec in /opt/conda/lib/python3.6/site-packages (from datasets[s3]==1.6.2) (2021.5.0)\n",
      "Requirement already satisfied: multiprocess in /opt/conda/lib/python3.6/site-packages (from datasets[s3]==1.6.2) (0.70.11.1)\n",
      "Requirement already satisfied: pandas in /opt/conda/lib/python3.6/site-packages (from datasets[s3]==1.6.2) (1.1.5)\n",
      "Collecting xxhash\n",
      "  Using cached xxhash-2.0.2-cp36-cp36m-manylinux2010_x86_64.whl (243 kB)\n",
      "Requirement already satisfied: s3fs in /opt/conda/lib/python3.6/site-packages (from datasets[s3]==1.6.2) (0.4.2)\n",
      "Collecting botocore==1.19.52\n",
      "  Using cached botocore-1.19.52-py2.py3-none-any.whl (7.2 MB)\n",
      "Collecting boto3==1.16.43\n",
      "  Using cached boto3-1.16.43-py2.py3-none-any.whl (130 kB)\n",
      "Requirement already satisfied: jmespath<1.0.0,>=0.7.1 in /opt/conda/lib/python3.6/site-packages (from boto3==1.16.43->datasets[s3]==1.6.2) (0.10.0)\n",
      "Collecting s3transfer<0.4.0,>=0.3.0\n",
      "  Using cached s3transfer-0.3.7-py2.py3-none-any.whl (73 kB)\n",
      "Requirement already satisfied: python-dateutil<3.0.0,>=2.1 in /opt/conda/lib/python3.6/site-packages (from botocore==1.19.52->datasets[s3]==1.6.2) (2.8.2)\n",
      "Requirement already satisfied: urllib3<1.27,>=1.25.4 in /opt/conda/lib/python3.6/site-packages (from botocore==1.19.52->datasets[s3]==1.6.2) (1.25.11)\n",
      "Collecting attrs==20.3.0\n",
      "  Downloading attrs-20.3.0-py2.py3-none-any.whl (49 kB)\n",
      "\u001b[K     |████████████████████████████████| 49 kB 856 kB/s  eta 0:00:01\n",
      "\u001b[?25hCollecting sagemaker>=2.48.0\n",
      "  Using cached sagemaker-2.75.1.tar.gz (511 kB)\n",
      "Requirement already satisfied: attrs in /opt/conda/lib/python3.6/site-packages (from sagemaker>=2.48.0) (21.2.0)\n",
      "  Using cached sagemaker-2.75.0.tar.gz (511 kB)\n",
      "  Using cached sagemaker-2.74.0.tar.gz (481 kB)\n",
      "  Using cached sagemaker-2.73.0.tar.gz (481 kB)\n",
      "  Using cached sagemaker-2.72.3.tar.gz (475 kB)\n",
      "  Using cached sagemaker-2.72.2.tar.gz (473 kB)\n",
      "  Using cached sagemaker-2.72.1.tar.gz (473 kB)\n",
      "  Using cached sagemaker-2.72.0.tar.gz (477 kB)\n",
      "  Using cached sagemaker-2.71.0.tar.gz (477 kB)\n",
      "  Using cached sagemaker-2.70.0.tar.gz (466 kB)\n",
      "  Using cached sagemaker-2.69.0-py2.py3-none-any.whl\n",
      "Requirement already satisfied: google-pasta in /opt/conda/lib/python3.6/site-packages (from sagemaker>=2.48.0) (0.2.0)\n",
      "Requirement already satisfied: protobuf>=3.1 in /opt/conda/lib/python3.6/site-packages (from sagemaker>=2.48.0) (3.17.1)\n",
      "Requirement already satisfied: smdebug-rulesconfig==1.0.1 in /opt/conda/lib/python3.6/site-packages (from sagemaker>=2.48.0) (1.0.1)\n",
      "Requirement already satisfied: pathos in /opt/conda/lib/python3.6/site-packages (from sagemaker>=2.48.0) (0.2.7)\n",
      "Requirement already satisfied: protobuf3-to-dict>=0.1.5 in /opt/conda/lib/python3.6/site-packages (from sagemaker>=2.48.0) (0.1.5)\n",
      "Requirement already satisfied: zipp>=0.5 in /opt/conda/lib/python3.6/site-packages (from importlib-metadata->transformers==4.6.1) (3.4.1)\n",
      "Requirement already satisfied: typing-extensions>=3.6.4 in /opt/conda/lib/python3.6/site-packages (from importlib-metadata->transformers==4.6.1) (3.10.0.0)\n",
      "Requirement already satisfied: pyparsing>=2.0.2 in /opt/conda/lib/python3.6/site-packages (from packaging->transformers==4.6.1) (2.4.7)\n",
      "Requirement already satisfied: six>=1.9 in /opt/conda/lib/python3.6/site-packages (from protobuf>=3.1->sagemaker>=2.48.0) (1.16.0)\n",
      "Requirement already satisfied: chardet<5,>=3.0.2 in /opt/conda/lib/python3.6/site-packages (from requests->transformers==4.6.1) (3.0.4)\n",
      "Requirement already satisfied: idna<3,>=2.5 in /opt/conda/lib/python3.6/site-packages (from requests->transformers==4.6.1) (2.10)\n",
      "Requirement already satisfied: certifi>=2017.4.17 in /opt/conda/lib/python3.6/site-packages (from requests->transformers==4.6.1) (2021.5.30)\n",
      "Requirement already satisfied: pytz>=2017.2 in /opt/conda/lib/python3.6/site-packages (from pandas->datasets[s3]==1.6.2) (2021.1)\n",
      "Requirement already satisfied: pox>=0.2.9 in /opt/conda/lib/python3.6/site-packages (from pathos->sagemaker>=2.48.0) (0.2.9)\n",
      "Requirement already satisfied: ppft>=1.6.6.3 in /opt/conda/lib/python3.6/site-packages (from pathos->sagemaker>=2.48.0) (1.6.6.3)\n",
      "Requirement already satisfied: joblib in /opt/conda/lib/python3.6/site-packages (from sacremoses->transformers==4.6.1) (1.0.1)\n",
      "Requirement already satisfied: click in /opt/conda/lib/python3.6/site-packages (from sacremoses->transformers==4.6.1) (7.1.2)\n",
      "Installing collected packages: tqdm, filelock, botocore, xxhash, s3transfer, regex, huggingface-hub, tokenizers, sacremoses, datasets, boto3, transformers, sagemaker\n",
      "  Attempting uninstall: tqdm\n",
      "    Found existing installation: tqdm 4.51.0\n",
      "    Uninstalling tqdm-4.51.0:\n",
      "      Successfully uninstalled tqdm-4.51.0\n",
      "  Attempting uninstall: botocore\n",
      "    Found existing installation: botocore 1.20.85\n",
      "    Uninstalling botocore-1.20.85:\n",
      "      Successfully uninstalled botocore-1.20.85\n",
      "  Attempting uninstall: s3transfer\n",
      "    Found existing installation: s3transfer 0.4.2\n",
      "    Uninstalling s3transfer-0.4.2:\n",
      "      Successfully uninstalled s3transfer-0.4.2\n",
      "  Attempting uninstall: boto3\n",
      "    Found existing installation: boto3 1.17.85\n",
      "    Uninstalling boto3-1.17.85:\n",
      "      Successfully uninstalled boto3-1.17.85\n",
      "  Attempting uninstall: sagemaker\n",
      "    Found existing installation: sagemaker 2.44.0\n",
      "    Uninstalling sagemaker-2.44.0:\n",
      "      Successfully uninstalled sagemaker-2.44.0\n",
      "\u001b[31mERROR: pip's dependency resolver does not currently take into account all the packages that are installed. This behaviour is the source of the following dependency conflicts.\n",
      "awscli 1.19.85 requires botocore==1.20.85, but you have botocore 1.19.52 which is incompatible.\n",
      "awscli 1.19.85 requires s3transfer<0.5.0,>=0.4.0, but you have s3transfer 0.3.7 which is incompatible.\u001b[0m\n",
      "Successfully installed boto3-1.16.43 botocore-1.19.52 datasets-1.6.2 filelock-3.4.1 huggingface-hub-0.0.8 regex-2022.1.18 s3transfer-0.3.7 sacremoses-0.0.47 sagemaker-2.69.0 tokenizers-0.10.3 tqdm-4.49.0 transformers-4.6.1 xxhash-2.0.2\n",
      "\u001b[33mWARNING: Running pip as root will break packages and permissions. You should install packages reliably by using venv: https://pip.pypa.io/warnings/venv\u001b[0m\n"
     ]
    }
   ],
   "source": [
    "!pip install \"sagemaker>=2.48.0\" \"transformers==4.6.1\" \"datasets[s3]==1.6.2\" --upgrade"
   ]
  },
  {
   "cell_type": "markdown",
   "metadata": {},
   "source": [
    "## Development environment "
   ]
  },
  {
   "cell_type": "markdown",
   "metadata": {},
   "source": [
    "**upgrade ipywidgets for `datasets` library and restart kernel, only needed when prerpocessing is done in the notebook**"
   ]
  },
  {
   "cell_type": "code",
   "execution_count": 4,
   "metadata": {},
   "outputs": [],
   "source": [
    "%%capture\n",
    "print('shit')\n",
    "import IPython\n",
    "import sys\n",
    "!{sys.executable} -m pip install ipywidgets\n"
   ]
  },
  {
   "cell_type": "code",
   "execution_count": 5,
   "metadata": {},
   "outputs": [
    {
     "data": {
      "text/plain": [
       "{'status': 'ok', 'restart': True}"
      ]
     },
     "execution_count": 5,
     "metadata": {},
     "output_type": "execute_result"
    }
   ],
   "source": [
    "IPython.Application.instance().kernel.do_shutdown(True)  # has to restart kernel so changes are used\""
   ]
  },
  {
   "cell_type": "code",
   "execution_count": 1,
   "metadata": {},
   "outputs": [],
   "source": [
    "import sagemaker.huggingface"
   ]
  },
  {
   "cell_type": "markdown",
   "metadata": {},
   "source": [
    "## Permissions"
   ]
  },
  {
   "cell_type": "markdown",
   "metadata": {},
   "source": [
    "_If you are going to use Sagemaker in a local environment. You need access to an IAM Role with the required permissions for Sagemaker. You can find [here](https://docs.aws.amazon.com/sagemaker/latest/dg/sagemaker-roles.html) more about it._"
   ]
  },
  {
   "cell_type": "code",
   "execution_count": 2,
   "metadata": {},
   "outputs": [
    {
     "name": "stdout",
     "output_type": "stream",
     "text": [
      "sagemaker role arn: arn:aws:iam::647333706880:role/service-role/AmazonSageMaker-ExecutionRole-20210125T093214\n",
      "sagemaker bucket: sagemaker-us-east-1-647333706880\n",
      "sagemaker session region: us-east-1\n"
     ]
    }
   ],
   "source": [
    "import sagemaker\n",
    "\n",
    "sess = sagemaker.Session()\n",
    "# sagemaker session bucket -> used for uploading data, models and logs\n",
    "# sagemaker will automatically create this bucket if it not exists\n",
    "sagemaker_session_bucket=None\n",
    "if sagemaker_session_bucket is None and sess is not None:\n",
    "    # set to default bucket if a bucket name is not given\n",
    "    sagemaker_session_bucket = sess.default_bucket()\n",
    "\n",
    "role = sagemaker.get_execution_role()\n",
    "sess = sagemaker.Session(default_bucket=sagemaker_session_bucket)\n",
    "\n",
    "print(f\"sagemaker role arn: {role}\")\n",
    "print(f\"sagemaker bucket: {sess.default_bucket()}\")\n",
    "print(f\"sagemaker session region: {sess.boto_region_name}\")"
   ]
  },
  {
   "cell_type": "markdown",
   "metadata": {},
   "source": [
    "# Start NLPwTransformers  Chp2 Scott"
   ]
  },
  {
   "cell_type": "code",
   "execution_count": 3,
   "metadata": {},
   "outputs": [
    {
     "name": "stdout",
     "output_type": "stream",
     "text": [
      "There are 3121 datasets currently available on the Hub\n",
      "The first 10 are: ['acronym_identification', 'ade_corpus_v2', 'adversarial_qa', 'aeslc', 'afrikaans_ner_corpus', 'ag_news', 'ai2_arc', 'air_dialogue', 'ajgt_twitter_ar', 'allegro_reviews']\n"
     ]
    }
   ],
   "source": [
    "from datasets import list_datasets\n",
    "\n",
    "all_datasets = list_datasets()\n",
    "print(f\"There are {len(all_datasets)} datasets currently available on the Hub\")\n",
    "print(f\"The first 10 are: {all_datasets[:10]}\")"
   ]
  },
  {
   "cell_type": "code",
   "execution_count": 4,
   "metadata": {},
   "outputs": [
    {
     "data": {
      "application/vnd.jupyter.widget-view+json": {
       "model_id": "4677ffb956ae4413a2a749699f2419f8",
       "version_major": 2,
       "version_minor": 0
      },
      "text/plain": [
       "HBox(children=(FloatProgress(value=0.0, description='Downloading', max=1600.0, style=ProgressStyle(description…"
      ]
     },
     "metadata": {},
     "output_type": "display_data"
    },
    {
     "name": "stdout",
     "output_type": "stream",
     "text": [
      "\n"
     ]
    },
    {
     "data": {
      "application/vnd.jupyter.widget-view+json": {
       "model_id": "ff3facf6cbd2458ab56d159d7889c2c1",
       "version_major": 2,
       "version_minor": 0
      },
      "text/plain": [
       "HBox(children=(FloatProgress(value=0.0, description='Downloading', max=1649.0, style=ProgressStyle(description…"
      ]
     },
     "metadata": {},
     "output_type": "display_data"
    },
    {
     "name": "stdout",
     "output_type": "stream",
     "text": [
      "\n"
     ]
    },
    {
     "name": "stderr",
     "output_type": "stream",
     "text": [
      "Using custom data configuration default\n"
     ]
    },
    {
     "name": "stdout",
     "output_type": "stream",
     "text": [
      "Downloading and preparing dataset emotion/default (download: 1.97 MiB, generated: 2.07 MiB, post-processed: Unknown size, total: 4.05 MiB) to /root/.cache/huggingface/datasets/emotion/default/0.0.0/6e4212efe64fd33728549b8f0435c73081391d543b596a05936857df98acb681...\n"
     ]
    },
    {
     "data": {
      "application/vnd.jupyter.widget-view+json": {
       "model_id": "1177e95f31a84a22ad0b63cfb69fd9ed",
       "version_major": 2,
       "version_minor": 0
      },
      "text/plain": [
       "HBox(children=(FloatProgress(value=1.0, bar_style='info', description='Downloading', layout=Layout(width='20px…"
      ]
     },
     "metadata": {},
     "output_type": "display_data"
    },
    {
     "name": "stdout",
     "output_type": "stream",
     "text": [
      "\n"
     ]
    },
    {
     "data": {
      "application/vnd.jupyter.widget-view+json": {
       "model_id": "894d3c44861846edbc67098d07e73484",
       "version_major": 2,
       "version_minor": 0
      },
      "text/plain": [
       "HBox(children=(FloatProgress(value=1.0, bar_style='info', description='Downloading', layout=Layout(width='20px…"
      ]
     },
     "metadata": {},
     "output_type": "display_data"
    },
    {
     "name": "stdout",
     "output_type": "stream",
     "text": [
      "\n"
     ]
    },
    {
     "data": {
      "application/vnd.jupyter.widget-view+json": {
       "model_id": "27a9238b718541009b9cd06d11bb71f6",
       "version_major": 2,
       "version_minor": 0
      },
      "text/plain": [
       "HBox(children=(FloatProgress(value=1.0, bar_style='info', description='Downloading', layout=Layout(width='20px…"
      ]
     },
     "metadata": {},
     "output_type": "display_data"
    },
    {
     "name": "stdout",
     "output_type": "stream",
     "text": [
      "\n"
     ]
    },
    {
     "data": {
      "application/vnd.jupyter.widget-view+json": {
       "model_id": "",
       "version_major": 2,
       "version_minor": 0
      },
      "text/plain": [
       "HBox(children=(FloatProgress(value=1.0, bar_style='info', layout=Layout(width='20px'), max=1.0), HTML(value=''…"
      ]
     },
     "metadata": {},
     "output_type": "display_data"
    },
    {
     "data": {
      "application/vnd.jupyter.widget-view+json": {
       "model_id": "",
       "version_major": 2,
       "version_minor": 0
      },
      "text/plain": [
       "HBox(children=(FloatProgress(value=1.0, bar_style='info', layout=Layout(width='20px'), max=1.0), HTML(value=''…"
      ]
     },
     "metadata": {},
     "output_type": "display_data"
    },
    {
     "data": {
      "application/vnd.jupyter.widget-view+json": {
       "model_id": "",
       "version_major": 2,
       "version_minor": 0
      },
      "text/plain": [
       "HBox(children=(FloatProgress(value=1.0, bar_style='info', layout=Layout(width='20px'), max=1.0), HTML(value=''…"
      ]
     },
     "metadata": {},
     "output_type": "display_data"
    },
    {
     "name": "stdout",
     "output_type": "stream",
     "text": [
      "Dataset emotion downloaded and prepared to /root/.cache/huggingface/datasets/emotion/default/0.0.0/6e4212efe64fd33728549b8f0435c73081391d543b596a05936857df98acb681. Subsequent calls will reuse this data.\n"
     ]
    }
   ],
   "source": [
    "from datasets import load_dataset\n",
    "\n",
    "emotions = load_dataset(\"emotion\")"
   ]
  },
  {
   "cell_type": "code",
   "execution_count": 5,
   "metadata": {},
   "outputs": [
    {
     "data": {
      "text/plain": [
       "Dataset({\n",
       "    features: ['text', 'label'],\n",
       "    num_rows: 16000\n",
       "})"
      ]
     },
     "execution_count": 5,
     "metadata": {},
     "output_type": "execute_result"
    }
   ],
   "source": [
    "train_ds = emotions[\"train\"]\n",
    "train_ds"
   ]
  },
  {
   "cell_type": "code",
   "execution_count": 6,
   "metadata": {},
   "outputs": [
    {
     "data": {
      "text/html": [
       "<div>\n",
       "<style scoped>\n",
       "    .dataframe tbody tr th:only-of-type {\n",
       "        vertical-align: middle;\n",
       "    }\n",
       "\n",
       "    .dataframe tbody tr th {\n",
       "        vertical-align: top;\n",
       "    }\n",
       "\n",
       "    .dataframe thead th {\n",
       "        text-align: right;\n",
       "    }\n",
       "</style>\n",
       "<table border=\"1\" class=\"dataframe\">\n",
       "  <thead>\n",
       "    <tr style=\"text-align: right;\">\n",
       "      <th></th>\n",
       "      <th>label</th>\n",
       "      <th>text</th>\n",
       "    </tr>\n",
       "  </thead>\n",
       "  <tbody>\n",
       "    <tr>\n",
       "      <th>0</th>\n",
       "      <td>0</td>\n",
       "      <td>i didnt feel humiliated</td>\n",
       "    </tr>\n",
       "    <tr>\n",
       "      <th>1</th>\n",
       "      <td>0</td>\n",
       "      <td>i can go from feeling so hopeless to so damned...</td>\n",
       "    </tr>\n",
       "    <tr>\n",
       "      <th>2</th>\n",
       "      <td>3</td>\n",
       "      <td>im grabbing a minute to post i feel greedy wrong</td>\n",
       "    </tr>\n",
       "    <tr>\n",
       "      <th>3</th>\n",
       "      <td>2</td>\n",
       "      <td>i am ever feeling nostalgic about the fireplac...</td>\n",
       "    </tr>\n",
       "    <tr>\n",
       "      <th>4</th>\n",
       "      <td>3</td>\n",
       "      <td>i am feeling grouchy</td>\n",
       "    </tr>\n",
       "  </tbody>\n",
       "</table>\n",
       "</div>"
      ],
      "text/plain": [
       "   label                                               text\n",
       "0      0                            i didnt feel humiliated\n",
       "1      0  i can go from feeling so hopeless to so damned...\n",
       "2      3   im grabbing a minute to post i feel greedy wrong\n",
       "3      2  i am ever feeling nostalgic about the fireplac...\n",
       "4      3                               i am feeling grouchy"
      ]
     },
     "execution_count": 6,
     "metadata": {},
     "output_type": "execute_result"
    }
   ],
   "source": [
    "import pandas as pd\n",
    "\n",
    "emotions.set_format(type=\"pandas\")\n",
    "df = emotions[\"train\"][:]\n",
    "df.head()"
   ]
  },
  {
   "cell_type": "code",
   "execution_count": 7,
   "metadata": {},
   "outputs": [
    {
     "data": {
      "text/html": [
       "<div>\n",
       "<style scoped>\n",
       "    .dataframe tbody tr th:only-of-type {\n",
       "        vertical-align: middle;\n",
       "    }\n",
       "\n",
       "    .dataframe tbody tr th {\n",
       "        vertical-align: top;\n",
       "    }\n",
       "\n",
       "    .dataframe thead th {\n",
       "        text-align: right;\n",
       "    }\n",
       "</style>\n",
       "<table border=\"1\" class=\"dataframe\">\n",
       "  <thead>\n",
       "    <tr style=\"text-align: right;\">\n",
       "      <th></th>\n",
       "      <th>label</th>\n",
       "      <th>text</th>\n",
       "      <th>label_name</th>\n",
       "    </tr>\n",
       "  </thead>\n",
       "  <tbody>\n",
       "    <tr>\n",
       "      <th>0</th>\n",
       "      <td>0</td>\n",
       "      <td>i didnt feel humiliated</td>\n",
       "      <td>sadness</td>\n",
       "    </tr>\n",
       "    <tr>\n",
       "      <th>1</th>\n",
       "      <td>0</td>\n",
       "      <td>i can go from feeling so hopeless to so damned...</td>\n",
       "      <td>sadness</td>\n",
       "    </tr>\n",
       "    <tr>\n",
       "      <th>2</th>\n",
       "      <td>3</td>\n",
       "      <td>im grabbing a minute to post i feel greedy wrong</td>\n",
       "      <td>anger</td>\n",
       "    </tr>\n",
       "    <tr>\n",
       "      <th>3</th>\n",
       "      <td>2</td>\n",
       "      <td>i am ever feeling nostalgic about the fireplac...</td>\n",
       "      <td>love</td>\n",
       "    </tr>\n",
       "    <tr>\n",
       "      <th>4</th>\n",
       "      <td>3</td>\n",
       "      <td>i am feeling grouchy</td>\n",
       "      <td>anger</td>\n",
       "    </tr>\n",
       "  </tbody>\n",
       "</table>\n",
       "</div>"
      ],
      "text/plain": [
       "   label                                               text label_name\n",
       "0      0                            i didnt feel humiliated    sadness\n",
       "1      0  i can go from feeling so hopeless to so damned...    sadness\n",
       "2      3   im grabbing a minute to post i feel greedy wrong      anger\n",
       "3      2  i am ever feeling nostalgic about the fireplac...       love\n",
       "4      3                               i am feeling grouchy      anger"
      ]
     },
     "execution_count": 7,
     "metadata": {},
     "output_type": "execute_result"
    }
   ],
   "source": [
    "def label_int2str(row):\n",
    "    return emotions[\"train\"].features[\"label\"].int2str(row)\n",
    "\n",
    "df[\"label_name\"] = df[\"label\"].apply(label_int2str)\n",
    "df.head()"
   ]
  },
  {
   "cell_type": "code",
   "execution_count": 8,
   "metadata": {},
   "outputs": [
    {
     "data": {
      "image/png": "[encoded data removed]",
      "text/plain": [
       "<Figure size 432x288 with 1 Axes>"
      ]
     },
     "metadata": {
      "needs_background": "light"
     },
     "output_type": "display_data"
    }
   ],
   "source": [
    "import matplotlib.pyplot as plt\n",
    "\n",
    "df[\"label_name\"].value_counts(ascending=True).plot.barh()\n",
    "plt.title(\"Frequency of Classes\")\n",
    "plt.show()"
   ]
  },
  {
   "cell_type": "code",
   "execution_count": 9,
   "metadata": {},
   "outputs": [
    {
     "data": {
      "image/png": "[encoded data removed]",
      "text/plain": [
       "<Figure size 432x288 with 1 Axes>"
      ]
     },
     "metadata": {
      "needs_background": "light"
     },
     "output_type": "display_data"
    }
   ],
   "source": [
    "df[\"Words Per Tweet\"] = df[\"text\"].str.split().apply(len)\n",
    "df.boxplot(\"Words Per Tweet\", by=\"label_name\", grid=False, showfliers=False,\n",
    "           color=\"black\")\n",
    "plt.suptitle(\"\")\n",
    "plt.xlabel(\"\")\n",
    "plt.show()"
   ]
  },
  {
   "cell_type": "code",
   "execution_count": 10,
   "metadata": {},
   "outputs": [],
   "source": [
    "emotions.reset_format()"
   ]
  },
  {
   "cell_type": "markdown",
   "metadata": {},
   "source": [
    "## jump to fine-tune"
   ]
  },
  {
   "cell_type": "code",
   "execution_count": 12,
   "metadata": {},
   "outputs": [],
   "source": [
    "import torch\n",
    "import torch.nn.functional as F"
   ]
  },
  {
   "cell_type": "code",
   "execution_count": 13,
   "metadata": {},
   "outputs": [
    {
     "data": {
      "text/plain": [
       "device(type='cpu')"
      ]
     },
     "execution_count": 13,
     "metadata": {},
     "output_type": "execute_result"
    }
   ],
   "source": [
    "device = torch.device(\"cuda\" if torch.cuda.is_available() else \"cpu\")\n",
    "device"
   ]
  },
  {
   "cell_type": "code",
   "execution_count": 17,
   "metadata": {},
   "outputs": [],
   "source": [
    "# hide_output\n",
    "from transformers import AutoModelForSequenceClassification\n",
    "model_ckpt = \"distilbert-base-uncased\"\n",
    "\n",
    "num_labels = 6\n"
   ]
  },
  {
   "cell_type": "code",
   "execution_count": 31,
   "metadata": {},
   "outputs": [
    {
     "data": {
      "application/vnd.jupyter.widget-view+json": {
       "model_id": "0a60db0e91ba4e5f969847d939e3eacd",
       "version_major": 2,
       "version_minor": 0
      },
      "text/plain": [
       "HBox(children=(FloatProgress(value=0.0, description='Downloading', max=231508.0, style=ProgressStyle(descripti…"
      ]
     },
     "metadata": {},
     "output_type": "display_data"
    },
    {
     "name": "stdout",
     "output_type": "stream",
     "text": [
      "\n"
     ]
    },
    {
     "data": {
      "application/vnd.jupyter.widget-view+json": {
       "model_id": "1a96355a157d4d8d9a8cf2860a1fdb7b",
       "version_major": 2,
       "version_minor": 0
      },
      "text/plain": [
       "HBox(children=(FloatProgress(value=0.0, description='Downloading', max=466062.0, style=ProgressStyle(descripti…"
      ]
     },
     "metadata": {},
     "output_type": "display_data"
    },
    {
     "name": "stdout",
     "output_type": "stream",
     "text": [
      "\n"
     ]
    },
    {
     "data": {
      "application/vnd.jupyter.widget-view+json": {
       "model_id": "6c6a5322577749588034f8205c9b1b10",
       "version_major": 2,
       "version_minor": 0
      },
      "text/plain": [
       "HBox(children=(FloatProgress(value=0.0, description='Downloading', max=28.0, style=ProgressStyle(description_w…"
      ]
     },
     "metadata": {},
     "output_type": "display_data"
    },
    {
     "name": "stdout",
     "output_type": "stream",
     "text": [
      "\n"
     ]
    }
   ],
   "source": [
    "from transformers import AutoTokenizer\n",
    "\n",
    "tokenizer = AutoTokenizer.from_pretrained(model_ckpt)"
   ]
  },
  {
   "cell_type": "code",
   "execution_count": 18,
   "metadata": {},
   "outputs": [
    {
     "data": {
      "application/vnd.jupyter.widget-view+json": {
       "model_id": "14d984aff80340b580eefcf2b4b3eb8b",
       "version_major": 2,
       "version_minor": 0
      },
      "text/plain": [
       "HBox(children=(FloatProgress(value=0.0, description='Downloading', max=483.0, style=ProgressStyle(description_…"
      ]
     },
     "metadata": {},
     "output_type": "display_data"
    },
    {
     "name": "stdout",
     "output_type": "stream",
     "text": [
      "\n"
     ]
    },
    {
     "data": {
      "application/vnd.jupyter.widget-view+json": {
       "model_id": "9b3bd8b7b1424c379c55c8d000f6564b",
       "version_major": 2,
       "version_minor": 0
      },
      "text/plain": [
       "HBox(children=(FloatProgress(value=0.0, description='Downloading', max=267967963.0, style=ProgressStyle(descri…"
      ]
     },
     "metadata": {},
     "output_type": "display_data"
    },
    {
     "name": "stdout",
     "output_type": "stream",
     "text": [
      "\n"
     ]
    },
    {
     "name": "stderr",
     "output_type": "stream",
     "text": [
      "Some weights of the model checkpoint at distilbert-base-uncased were not used when initializing DistilBertForSequenceClassification: ['vocab_layer_norm.bias', 'vocab_transform.bias', 'vocab_layer_norm.weight', 'vocab_projector.bias', 'vocab_transform.weight', 'vocab_projector.weight']\n",
      "- This IS expected if you are initializing DistilBertForSequenceClassification from the checkpoint of a model trained on another task or with another architecture (e.g. initializing a BertForSequenceClassification model from a BertForPreTraining model).\n",
      "- This IS NOT expected if you are initializing DistilBertForSequenceClassification from the checkpoint of a model that you expect to be exactly identical (initializing a BertForSequenceClassification model from a BertForSequenceClassification model).\n",
      "Some weights of DistilBertForSequenceClassification were not initialized from the model checkpoint at distilbert-base-uncased and are newly initialized: ['pre_classifier.weight', 'classifier.bias', 'classifier.weight', 'pre_classifier.bias']\n",
      "You should probably TRAIN this model on a down-stream task to be able to use it for predictions and inference.\n"
     ]
    }
   ],
   "source": [
    "model = (AutoModelForSequenceClassification\n",
    "         .from_pretrained(model_ckpt, num_labels=num_labels)\n",
    "         )"
   ]
  },
  {
   "cell_type": "code",
   "execution_count": 19,
   "metadata": {},
   "outputs": [],
   "source": [
    "from sklearn.metrics import accuracy_score, f1_score\n",
    "\n",
    "def compute_metrics(pred):\n",
    "    labels = pred.label_ids\n",
    "    preds = pred.predictions.argmax(-1)\n",
    "    f1 = f1_score(labels, preds, average=\"weighted\")\n",
    "    acc = accuracy_score(labels, preds)\n",
    "    return {\"accuracy\": acc, \"f1\": f1}"
   ]
  },
  {
   "cell_type": "code",
   "execution_count": 29,
   "metadata": {},
   "outputs": [],
   "source": [
    "def tokenize(batch):\n",
    "    return tokenizer(batch[\"text\"], padding=True, truncation=True)"
   ]
  },
  {
   "cell_type": "code",
   "execution_count": 32,
   "metadata": {},
   "outputs": [
    {
     "data": {
      "application/vnd.jupyter.widget-view+json": {
       "model_id": "08346e5b711a4f4b8a784a116d080f9c",
       "version_major": 2,
       "version_minor": 0
      },
      "text/plain": [
       "HBox(children=(FloatProgress(value=0.0, max=1.0), HTML(value='')))"
      ]
     },
     "metadata": {},
     "output_type": "display_data"
    },
    {
     "name": "stdout",
     "output_type": "stream",
     "text": [
      "\n"
     ]
    },
    {
     "data": {
      "application/vnd.jupyter.widget-view+json": {
       "model_id": "3ae753c156584607bcf44176553e7457",
       "version_major": 2,
       "version_minor": 0
      },
      "text/plain": [
       "HBox(children=(FloatProgress(value=0.0, max=1.0), HTML(value='')))"
      ]
     },
     "metadata": {},
     "output_type": "display_data"
    },
    {
     "name": "stdout",
     "output_type": "stream",
     "text": [
      "\n"
     ]
    },
    {
     "data": {
      "application/vnd.jupyter.widget-view+json": {
       "model_id": "7e57561f0f574eaf831e32cab1a4282b",
       "version_major": 2,
       "version_minor": 0
      },
      "text/plain": [
       "HBox(children=(FloatProgress(value=0.0, max=1.0), HTML(value='')))"
      ]
     },
     "metadata": {},
     "output_type": "display_data"
    },
    {
     "name": "stdout",
     "output_type": "stream",
     "text": [
      "\n"
     ]
    }
   ],
   "source": [
    "emotions_encoded = emotions.map(tokenize, batched=True, batch_size=None)"
   ]
  },
  {
   "cell_type": "code",
   "execution_count": 33,
   "metadata": {},
   "outputs": [
    {
     "ename": "TypeError",
     "evalue": "__init__() got an unexpected keyword argument 'log_level'",
     "output_type": "error",
     "traceback": [
      "\u001b[0;31m---------------------------------------------------------------------------\u001b[0m",
      "\u001b[0;31mTypeError\u001b[0m                                 Traceback (most recent call last)",
      "\u001b[0;32m<ipython-input-33-fe177e8218bc>\u001b[0m in \u001b[0;36m<module>\u001b[0;34m\u001b[0m\n\u001b[1;32m     14\u001b[0m                                   \u001b[0mlogging_steps\u001b[0m\u001b[0;34m=\u001b[0m\u001b[0mlogging_steps\u001b[0m\u001b[0;34m,\u001b[0m\u001b[0;34m\u001b[0m\u001b[0;34m\u001b[0m\u001b[0m\n\u001b[1;32m     15\u001b[0m                                   \u001b[0mpush_to_hub\u001b[0m\u001b[0;34m=\u001b[0m\u001b[0;32mTrue\u001b[0m\u001b[0;34m,\u001b[0m\u001b[0;34m\u001b[0m\u001b[0;34m\u001b[0m\u001b[0m\n\u001b[0;32m---> 16\u001b[0;31m                                   log_level=\"error\")\n\u001b[0m",
      "\u001b[0;31mTypeError\u001b[0m: __init__() got an unexpected keyword argument 'log_level'"
     ]
    }
   ],
   "source": [
    "from transformers import Trainer, TrainingArguments\n",
    "\n",
    "batch_size = 64\n",
    "logging_steps = len(emotions_encoded[\"train\"]) // batch_size\n",
    "model_name = f\"{model_ckpt}-finetuned-emotion\"\n",
    "training_args = TrainingArguments(output_dir=model_name,\n",
    "                                  num_train_epochs=2,\n",
    "                                  learning_rate=2e-5,\n",
    "                                  per_device_train_batch_size=batch_size,\n",
    "                                  per_device_eval_batch_size=batch_size,\n",
    "                                  weight_decay=0.01,\n",
    "                                  evaluation_strategy=\"epoch\",\n",
    "                                  disable_tqdm=False,\n",
    "                                  logging_steps=logging_steps,\n",
    "                                  push_to_hub=True, \n",
    "                                  log_level=\"error\")"
   ]
  },
  {
   "cell_type": "markdown",
   "metadata": {},
   "source": [
    "# End NLPwTransformers Chp2 Scott"
   ]
  },
  {
   "cell_type": "markdown",
   "metadata": {},
   "source": [
    "# Preprocessing\n",
    "\n",
    "We are using the `datasets` library to download and preprocess the `imdb` dataset. After preprocessing, the dataset will be uploaded to our `sagemaker_session_bucket` to be used within our training job. The [imdb](http://ai.stanford.edu/~amaas/data/sentiment/) dataset consists of 25000 training and 25000 testing highly polar movie reviews."
   ]
  },
  {
   "cell_type": "markdown",
   "metadata": {},
   "source": [
    "## Tokenization "
   ]
  },
  {
   "cell_type": "code",
   "execution_count": 3,
   "metadata": {},
   "outputs": [],
   "source": [
    "from datasets import load_dataset\n",
    "from transformers import AutoTokenizer\n",
    "\n",
    "# tokenizer used in preprocessing\n",
    "tokenizer_name = 'distilbert-base-uncased'\n",
    "\n",
    "# dataset used\n",
    "dataset_name = 'imdb'\n",
    "\n",
    "# s3 key prefix for the data\n",
    "s3_prefix = 'hf-samples/datasets/imdb'"
   ]
  },
  {
   "cell_type": "code",
   "execution_count": 6,
   "metadata": {},
   "outputs": [
    {
     "data": {
      "application/vnd.jupyter.widget-view+json": {
       "model_id": "05fd411c356b47a2a2fec552a4f6f863",
       "version_major": 2,
       "version_minor": 0
      },
      "text/plain": [
       "HBox(children=(FloatProgress(value=0.0, description='Downloading', max=483.0, style=ProgressStyle(description_…"
      ]
     },
     "metadata": {},
     "output_type": "display_data"
    },
    {
     "name": "stdout",
     "output_type": "stream",
     "text": [
      "\n"
     ]
    },
    {
     "data": {
      "application/vnd.jupyter.widget-view+json": {
       "model_id": "c9f490d6e46d4103b99e2d75e097ad4d",
       "version_major": 2,
       "version_minor": 0
      },
      "text/plain": [
       "HBox(children=(FloatProgress(value=0.0, description='Downloading', max=231508.0, style=ProgressStyle(descripti…"
      ]
     },
     "metadata": {},
     "output_type": "display_data"
    },
    {
     "name": "stdout",
     "output_type": "stream",
     "text": [
      "\n"
     ]
    },
    {
     "data": {
      "application/vnd.jupyter.widget-view+json": {
       "model_id": "fa7aff649a4a469987789101871fe365",
       "version_major": 2,
       "version_minor": 0
      },
      "text/plain": [
       "HBox(children=(FloatProgress(value=0.0, description='Downloading', max=466062.0, style=ProgressStyle(descripti…"
      ]
     },
     "metadata": {},
     "output_type": "display_data"
    },
    {
     "name": "stdout",
     "output_type": "stream",
     "text": [
      "\n"
     ]
    },
    {
     "data": {
      "application/vnd.jupyter.widget-view+json": {
       "model_id": "8a1eef8436f047fea7afe8f42579d7c2",
       "version_major": 2,
       "version_minor": 0
      },
      "text/plain": [
       "HBox(children=(FloatProgress(value=0.0, description='Downloading', max=28.0, style=ProgressStyle(description_w…"
      ]
     },
     "metadata": {},
     "output_type": "display_data"
    },
    {
     "name": "stdout",
     "output_type": "stream",
     "text": [
      "\n"
     ]
    }
   ],
   "source": [
    "#ss\n",
    "tokenizer = AutoTokenizer.from_pretrained(tokenizer_name)"
   ]
  },
  {
   "cell_type": "code",
   "execution_count": 7,
   "metadata": {},
   "outputs": [],
   "source": [
    "#ss\n",
    "# tokenizer helper function\n",
    "def tokenize(batch):\n",
    "    return tokenizer(batch['text'], padding='max_length', truncation=True)"
   ]
  },
  {
   "cell_type": "code",
   "execution_count": 10,
   "metadata": {},
   "outputs": [
    {
     "data": {
      "application/vnd.jupyter.widget-view+json": {
       "model_id": "382aedcdc889418399cf083802fcac1f",
       "version_major": 2,
       "version_minor": 0
      },
      "text/plain": [
       "HBox(children=(FloatProgress(value=0.0, description='Downloading', max=1867.0, style=ProgressStyle(description…"
      ]
     },
     "metadata": {},
     "output_type": "display_data"
    },
    {
     "name": "stdout",
     "output_type": "stream",
     "text": [
      "\n"
     ]
    },
    {
     "data": {
      "application/vnd.jupyter.widget-view+json": {
       "model_id": "b24c30208bcd4564ab9fa1bdb8aaaf3a",
       "version_major": 2,
       "version_minor": 0
      },
      "text/plain": [
       "HBox(children=(FloatProgress(value=0.0, description='Downloading', max=1004.0, style=ProgressStyle(description…"
      ]
     },
     "metadata": {},
     "output_type": "display_data"
    },
    {
     "name": "stdout",
     "output_type": "stream",
     "text": [
      "\n",
      "Downloading and preparing dataset imdb/plain_text (download: 80.23 MiB, generated: 127.06 MiB, post-processed: Unknown size, total: 207.28 MiB) to /root/.cache/huggingface/datasets/imdb/plain_text/1.0.0/4ea52f2e58a08dbc12c2bd52d0d92b30b88c00230b4522801b3636782f625c5b...\n"
     ]
    },
    {
     "data": {
      "application/vnd.jupyter.widget-view+json": {
       "model_id": "9d4b6b86eb364a5bbdfd4e94e46cd975",
       "version_major": 2,
       "version_minor": 0
      },
      "text/plain": [
       "HBox(children=(FloatProgress(value=0.0, description='Downloading', max=84125825.0, style=ProgressStyle(descrip…"
      ]
     },
     "metadata": {},
     "output_type": "display_data"
    },
    {
     "name": "stdout",
     "output_type": "stream",
     "text": [
      "\n"
     ]
    },
    {
     "data": {
      "application/vnd.jupyter.widget-view+json": {
       "model_id": "",
       "version_major": 2,
       "version_minor": 0
      },
      "text/plain": [
       "HBox(children=(FloatProgress(value=1.0, bar_style='info', layout=Layout(width='20px'), max=1.0), HTML(value=''…"
      ]
     },
     "metadata": {},
     "output_type": "display_data"
    },
    {
     "data": {
      "application/vnd.jupyter.widget-view+json": {
       "model_id": "",
       "version_major": 2,
       "version_minor": 0
      },
      "text/plain": [
       "HBox(children=(FloatProgress(value=1.0, bar_style='info', layout=Layout(width='20px'), max=1.0), HTML(value=''…"
      ]
     },
     "metadata": {},
     "output_type": "display_data"
    },
    {
     "data": {
      "application/vnd.jupyter.widget-view+json": {
       "model_id": "",
       "version_major": 2,
       "version_minor": 0
      },
      "text/plain": [
       "HBox(children=(FloatProgress(value=1.0, bar_style='info', layout=Layout(width='20px'), max=1.0), HTML(value=''…"
      ]
     },
     "metadata": {},
     "output_type": "display_data"
    },
    {
     "name": "stdout",
     "output_type": "stream",
     "text": [
      "Dataset imdb downloaded and prepared to /root/.cache/huggingface/datasets/imdb/plain_text/1.0.0/4ea52f2e58a08dbc12c2bd52d0d92b30b88c00230b4522801b3636782f625c5b. Subsequent calls will reuse this data.\n"
     ]
    }
   ],
   "source": [
    "# this took >30min\n",
    "# load dataset\n",
    "train_dataset, test_dataset = load_dataset('imdb', split=['train', 'test'])"
   ]
  },
  {
   "cell_type": "code",
   "execution_count": 35,
   "metadata": {},
   "outputs": [
    {
     "data": {
      "text/plain": [
       "{'attention_mask': Sequence(feature=Value(dtype='int8', id=None), length=-1, id=None),\n",
       " 'input_ids': Sequence(feature=Value(dtype='int32', id=None), length=-1, id=None),\n",
       " 'labels': ClassLabel(num_classes=2, names=['neg', 'pos'], names_file=None, id=None),\n",
       " 'text': Value(dtype='string', id=None)}"
      ]
     },
     "execution_count": 35,
     "metadata": {},
     "output_type": "execute_result"
    }
   ],
   "source": [
    "#ss see https://bit.ly/3JCImg4\n",
    "train_dataset.features"
   ]
  },
  {
   "cell_type": "code",
   "execution_count": 36,
   "metadata": {},
   "outputs": [
    {
     "data": {
      "text/plain": [
       "['Bromwell High is a cartoon comedy. It ran at the same time as some other programs about school life, such as \"Teachers\". My 35 years in the teaching profession lead me to believe that Bromwell High\\'s satire is much closer to reality than is \"Teachers\". The scramble to survive financially, the insightful students who can see right through their pathetic teachers\\' pomp, the pettiness of the whole situation, all remind me of the schools I knew and their students. When I saw the episode in which a student repeatedly tried to burn down the school, I immediately recalled ......... at .......... High. A classic line: INSPECTOR: I\\'m here to sack one of your teachers. STUDENT: Welcome to Bromwell High. I expect that many adults of my age think that Bromwell High is far fetched. What a pity that it isn\\'t!',\n",
       " 'Homelessness (or Houselessness as George Carlin stated) has been an issue for years but never a plan to help those on the street that were once considered human who did everything from going to school, work, or vote for the matter. Most people think of the homeless as just a lost cause while worrying about things such as racism, the war on Iraq, pressuring kids to succeed, technology, the elections, inflation, or worrying if they\\'ll be next to end up on the streets.<br /><br />But what if you were given a bet to live on the streets for a month without the luxuries you once had from a home, the entertainment sets, a bathroom, pictures on the wall, a computer, and everything you once treasure to see what it\\'s like to be homeless? That is Goddard Bolt\\'s lesson.<br /><br />Mel Brooks (who directs) who stars as Bolt plays a rich man who has everything in the world until deciding to make a bet with a sissy rival (Jeffery Tambor) to see if he can live in the streets for thirty days without the luxuries; if Bolt succeeds, he can do what he wants with a future project of making more buildings. The bet\\'s on where Bolt is thrown on the street with a bracelet on his leg to monitor his every move where he can\\'t step off the sidewalk. He\\'s given the nickname Pepto by a vagrant after it\\'s written on his forehead where Bolt meets other characters including a woman by the name of Molly (Lesley Ann Warren) an ex-dancer who got divorce before losing her home, and her pals Sailor (Howard Morris) and Fumes (Teddy Wilson) who are already used to the streets. They\\'re survivors. Bolt isn\\'t. He\\'s not used to reaching mutual agreements like he once did when being rich where it\\'s fight or flight, kill or be killed.<br /><br />While the love connection between Molly and Bolt wasn\\'t necessary to plot, I found \"Life Stinks\" to be one of Mel Brooks\\' observant films where prior to being a comedy, it shows a tender side compared to his slapstick work such as Blazing Saddles, Young Frankenstein, or Spaceballs for the matter, to show what it\\'s like having something valuable before losing it the next day or on the other hand making a stupid bet like all rich people do when they don\\'t know what to do with their money. Maybe they should give it to the homeless instead of using it like Monopoly money.<br /><br />Or maybe this film will inspire you to help others.',\n",
       " 'Brilliant over-acting by Lesley Ann Warren. Best dramatic hobo lady I have ever seen, and love scenes in clothes warehouse are second to none. The corn on face is a classic, as good as anything in Blazing Saddles. The take on lawyers is also superb. After being accused of being a turncoat, selling out his boss, and being dishonest the lawyer of Pepto Bolt shrugs indifferently \"I\\'m a lawyer\" he says. Three funny words. Jeffrey Tambor, a favorite from the later Larry Sanders show, is fantastic here too as a mad millionaire who wants to crush the ghetto. His character is more malevolent than usual. The hospital scene, and the scene where the homeless invade a demolition site, are all-time classics. Look for the legs scene and the two big diggers fighting (one bleeds). This movie gets better each time I see it (which is quite often).',\n",
       " 'This is easily the most underrated film inn the Brooks cannon. Sure, its flawed. It does not give a realistic view of homelessness (unlike, say, how Citizen Kane gave a realistic view of lounge singers, or Titanic gave a realistic view of Italians YOU IDIOTS). Many of the jokes fall flat. But still, this film is very lovable in a way many comedies are not, and to pull that off in a story about some of the most traditionally reviled members of society is truly impressive. Its not The Fisher King, but its not crap, either. My only complaint is that Brooks should have cast someone else in the lead (I love Mel as a Director and Writer, not so much as a lead).',\n",
       " 'This is not the typical Mel Brooks film. It was much less slapstick than most of his movies and actually had a plot that was followable. Leslie Ann Warren made the movie, she is such a fantastic, under-rated actress. There were some moments that could have been fleshed out a bit more, and some scenes that could probably have been cut to make the room to do so, but all in all, this is worth the price to rent and see it. The acting was good overall, Brooks himself did a good job without his characteristic speaking to directly to the audience. Again, Warren was the best actor in the movie, but \"Fume\" and \"Sailor\" both played their parts well.']"
      ]
     },
     "execution_count": 36,
     "metadata": {},
     "output_type": "execute_result"
    }
   ],
   "source": [
    "train_dataset[\"text\"][:5]"
   ]
  },
  {
   "cell_type": "code",
   "execution_count": 37,
   "metadata": {},
   "outputs": [
    {
     "data": {
      "text/html": [
       "<div>\n",
       "<style scoped>\n",
       "    .dataframe tbody tr th:only-of-type {\n",
       "        vertical-align: middle;\n",
       "    }\n",
       "\n",
       "    .dataframe tbody tr th {\n",
       "        vertical-align: top;\n",
       "    }\n",
       "\n",
       "    .dataframe thead th {\n",
       "        text-align: right;\n",
       "    }\n",
       "</style>\n",
       "<table border=\"1\" class=\"dataframe\">\n",
       "  <thead>\n",
       "    <tr style=\"text-align: right;\">\n",
       "      <th></th>\n",
       "      <th>attention_mask</th>\n",
       "      <th>input_ids</th>\n",
       "      <th>labels</th>\n",
       "      <th>text</th>\n",
       "    </tr>\n",
       "  </thead>\n",
       "  <tbody>\n",
       "    <tr>\n",
       "      <th>0</th>\n",
       "      <td>[1, 1, 1, 1, 1, 1, 1, 1, 1, 1, 1, 1, 1, 1, 1, ...</td>\n",
       "      <td>[101, 22953, 2213, 4381, 2152, 2003, 1037, 947...</td>\n",
       "      <td>1</td>\n",
       "      <td>Bromwell High is a cartoon comedy. It ran at t...</td>\n",
       "    </tr>\n",
       "    <tr>\n",
       "      <th>1</th>\n",
       "      <td>[1, 1, 1, 1, 1, 1, 1, 1, 1, 1, 1, 1, 1, 1, 1, ...</td>\n",
       "      <td>[101, 11573, 2791, 1006, 2030, 2160, 24913, 20...</td>\n",
       "      <td>1</td>\n",
       "      <td>Homelessness (or Houselessness as George Carli...</td>\n",
       "    </tr>\n",
       "    <tr>\n",
       "      <th>2</th>\n",
       "      <td>[1, 1, 1, 1, 1, 1, 1, 1, 1, 1, 1, 1, 1, 1, 1, ...</td>\n",
       "      <td>[101, 8235, 2058, 1011, 3772, 2011, 23920, 575...</td>\n",
       "      <td>1</td>\n",
       "      <td>Brilliant over-acting by Lesley Ann Warren. Be...</td>\n",
       "    </tr>\n",
       "    <tr>\n",
       "      <th>3</th>\n",
       "      <td>[1, 1, 1, 1, 1, 1, 1, 1, 1, 1, 1, 1, 1, 1, 1, ...</td>\n",
       "      <td>[101, 2023, 2003, 4089, 1996, 2087, 2104, 9250...</td>\n",
       "      <td>1</td>\n",
       "      <td>This is easily the most underrated film inn th...</td>\n",
       "    </tr>\n",
       "    <tr>\n",
       "      <th>4</th>\n",
       "      <td>[1, 1, 1, 1, 1, 1, 1, 1, 1, 1, 1, 1, 1, 1, 1, ...</td>\n",
       "      <td>[101, 2023, 2003, 2025, 1996, 5171, 11463, 837...</td>\n",
       "      <td>1</td>\n",
       "      <td>This is not the typical Mel Brooks film. It wa...</td>\n",
       "    </tr>\n",
       "  </tbody>\n",
       "</table>\n",
       "</div>"
      ],
      "text/plain": [
       "                                      attention_mask  \\\n",
       "0  [1, 1, 1, 1, 1, 1, 1, 1, 1, 1, 1, 1, 1, 1, 1, ...   \n",
       "1  [1, 1, 1, 1, 1, 1, 1, 1, 1, 1, 1, 1, 1, 1, 1, ...   \n",
       "2  [1, 1, 1, 1, 1, 1, 1, 1, 1, 1, 1, 1, 1, 1, 1, ...   \n",
       "3  [1, 1, 1, 1, 1, 1, 1, 1, 1, 1, 1, 1, 1, 1, 1, ...   \n",
       "4  [1, 1, 1, 1, 1, 1, 1, 1, 1, 1, 1, 1, 1, 1, 1, ...   \n",
       "\n",
       "                                           input_ids  labels  \\\n",
       "0  [101, 22953, 2213, 4381, 2152, 2003, 1037, 947...       1   \n",
       "1  [101, 11573, 2791, 1006, 2030, 2160, 24913, 20...       1   \n",
       "2  [101, 8235, 2058, 1011, 3772, 2011, 23920, 575...       1   \n",
       "3  [101, 2023, 2003, 4089, 1996, 2087, 2104, 9250...       1   \n",
       "4  [101, 2023, 2003, 2025, 1996, 5171, 11463, 837...       1   \n",
       "\n",
       "                                                text  \n",
       "0  Bromwell High is a cartoon comedy. It ran at t...  \n",
       "1  Homelessness (or Houselessness as George Carli...  \n",
       "2  Brilliant over-acting by Lesley Ann Warren. Be...  \n",
       "3  This is easily the most underrated film inn th...  \n",
       "4  This is not the typical Mel Brooks film. It wa...  "
      ]
     },
     "execution_count": 37,
     "metadata": {},
     "output_type": "execute_result"
    }
   ],
   "source": [
    "train_dataset.set_format(type=\"pandas\")\n",
    "df = train_dataset[:]\n",
    "df.head()"
   ]
  },
  {
   "cell_type": "code",
   "execution_count": 40,
   "metadata": {},
   "outputs": [
    {
     "data": {
      "text/plain": [
       "ClassLabel(num_classes=2, names=['neg', 'pos'], names_file=None, id=None)"
      ]
     },
     "execution_count": 40,
     "metadata": {},
     "output_type": "execute_result"
    }
   ],
   "source": [
    "train_dataset.features[\"labels\"]"
   ]
  },
  {
   "cell_type": "code",
   "execution_count": 43,
   "metadata": {},
   "outputs": [
    {
     "data": {
      "text/html": [
       "<div>\n",
       "<style scoped>\n",
       "    .dataframe tbody tr th:only-of-type {\n",
       "        vertical-align: middle;\n",
       "    }\n",
       "\n",
       "    .dataframe tbody tr th {\n",
       "        vertical-align: top;\n",
       "    }\n",
       "\n",
       "    .dataframe thead th {\n",
       "        text-align: right;\n",
       "    }\n",
       "</style>\n",
       "<table border=\"1\" class=\"dataframe\">\n",
       "  <thead>\n",
       "    <tr style=\"text-align: right;\">\n",
       "      <th></th>\n",
       "      <th>attention_mask</th>\n",
       "      <th>input_ids</th>\n",
       "      <th>labels</th>\n",
       "      <th>text</th>\n",
       "      <th>label_name</th>\n",
       "    </tr>\n",
       "  </thead>\n",
       "  <tbody>\n",
       "    <tr>\n",
       "      <th>0</th>\n",
       "      <td>[1, 1, 1, 1, 1, 1, 1, 1, 1, 1, 1, 1, 1, 1, 1, ...</td>\n",
       "      <td>[101, 22953, 2213, 4381, 2152, 2003, 1037, 947...</td>\n",
       "      <td>1</td>\n",
       "      <td>Bromwell High is a cartoon comedy. It ran at t...</td>\n",
       "      <td>pos</td>\n",
       "    </tr>\n",
       "    <tr>\n",
       "      <th>1</th>\n",
       "      <td>[1, 1, 1, 1, 1, 1, 1, 1, 1, 1, 1, 1, 1, 1, 1, ...</td>\n",
       "      <td>[101, 11573, 2791, 1006, 2030, 2160, 24913, 20...</td>\n",
       "      <td>1</td>\n",
       "      <td>Homelessness (or Houselessness as George Carli...</td>\n",
       "      <td>pos</td>\n",
       "    </tr>\n",
       "    <tr>\n",
       "      <th>2</th>\n",
       "      <td>[1, 1, 1, 1, 1, 1, 1, 1, 1, 1, 1, 1, 1, 1, 1, ...</td>\n",
       "      <td>[101, 8235, 2058, 1011, 3772, 2011, 23920, 575...</td>\n",
       "      <td>1</td>\n",
       "      <td>Brilliant over-acting by Lesley Ann Warren. Be...</td>\n",
       "      <td>pos</td>\n",
       "    </tr>\n",
       "    <tr>\n",
       "      <th>3</th>\n",
       "      <td>[1, 1, 1, 1, 1, 1, 1, 1, 1, 1, 1, 1, 1, 1, 1, ...</td>\n",
       "      <td>[101, 2023, 2003, 4089, 1996, 2087, 2104, 9250...</td>\n",
       "      <td>1</td>\n",
       "      <td>This is easily the most underrated film inn th...</td>\n",
       "      <td>pos</td>\n",
       "    </tr>\n",
       "    <tr>\n",
       "      <th>4</th>\n",
       "      <td>[1, 1, 1, 1, 1, 1, 1, 1, 1, 1, 1, 1, 1, 1, 1, ...</td>\n",
       "      <td>[101, 2023, 2003, 2025, 1996, 5171, 11463, 837...</td>\n",
       "      <td>1</td>\n",
       "      <td>This is not the typical Mel Brooks film. It wa...</td>\n",
       "      <td>pos</td>\n",
       "    </tr>\n",
       "  </tbody>\n",
       "</table>\n",
       "</div>"
      ],
      "text/plain": [
       "                                      attention_mask  \\\n",
       "0  [1, 1, 1, 1, 1, 1, 1, 1, 1, 1, 1, 1, 1, 1, 1, ...   \n",
       "1  [1, 1, 1, 1, 1, 1, 1, 1, 1, 1, 1, 1, 1, 1, 1, ...   \n",
       "2  [1, 1, 1, 1, 1, 1, 1, 1, 1, 1, 1, 1, 1, 1, 1, ...   \n",
       "3  [1, 1, 1, 1, 1, 1, 1, 1, 1, 1, 1, 1, 1, 1, 1, ...   \n",
       "4  [1, 1, 1, 1, 1, 1, 1, 1, 1, 1, 1, 1, 1, 1, 1, ...   \n",
       "\n",
       "                                           input_ids  labels  \\\n",
       "0  [101, 22953, 2213, 4381, 2152, 2003, 1037, 947...       1   \n",
       "1  [101, 11573, 2791, 1006, 2030, 2160, 24913, 20...       1   \n",
       "2  [101, 8235, 2058, 1011, 3772, 2011, 23920, 575...       1   \n",
       "3  [101, 2023, 2003, 4089, 1996, 2087, 2104, 9250...       1   \n",
       "4  [101, 2023, 2003, 2025, 1996, 5171, 11463, 837...       1   \n",
       "\n",
       "                                                text label_name  \n",
       "0  Bromwell High is a cartoon comedy. It ran at t...        pos  \n",
       "1  Homelessness (or Houselessness as George Carli...        pos  \n",
       "2  Brilliant over-acting by Lesley Ann Warren. Be...        pos  \n",
       "3  This is easily the most underrated film inn th...        pos  \n",
       "4  This is not the typical Mel Brooks film. It wa...        pos  "
      ]
     },
     "execution_count": 43,
     "metadata": {},
     "output_type": "execute_result"
    }
   ],
   "source": [
    "def label_int2str(row):\n",
    "    return train_dataset.features[\"labels\"].int2str(row)\n",
    "\n",
    "df[\"label_name\"] = df[\"labels\"].apply(label_int2str)\n",
    "df.head()"
   ]
  },
  {
   "cell_type": "code",
   "execution_count": 44,
   "metadata": {},
   "outputs": [
    {
     "data": {
      "image/png": "[encoded data removed]",
      "text/plain": [
       "<Figure size 432x288 with 1 Axes>"
      ]
     },
     "metadata": {
      "needs_background": "light"
     },
     "output_type": "display_data"
    }
   ],
   "source": [
    "import matplotlib.pyplot as plt\n",
    "\n",
    "df[\"label_name\"].value_counts(ascending=True).plot.barh()\n",
    "plt.title(\"Frequency of Classes\")\n",
    "plt.show()"
   ]
  },
  {
   "cell_type": "code",
   "execution_count": 45,
   "metadata": {},
   "outputs": [
    {
     "data": {
      "image/png": "[encoded data removed]",
      "text/plain": [
       "<Figure size 432x288 with 1 Axes>"
      ]
     },
     "metadata": {
      "needs_background": "light"
     },
     "output_type": "display_data"
    }
   ],
   "source": [
    "df[\"Words Per Tweet\"] = df[\"text\"].str.split().apply(len)\n",
    "df.boxplot(\"Words Per Tweet\", by=\"label_name\", grid=False, showfliers=False,\n",
    "           color=\"black\")\n",
    "plt.suptitle(\"\")\n",
    "plt.xlabel(\"\")\n",
    "plt.show()"
   ]
  },
  {
   "cell_type": "code",
   "execution_count": null,
   "metadata": {},
   "outputs": [],
   "source": []
  },
  {
   "cell_type": "code",
   "execution_count": 47,
   "metadata": {},
   "outputs": [
    {
     "data": {
      "text/plain": [
       "datasets.arrow_dataset.Dataset"
      ]
     },
     "execution_count": 47,
     "metadata": {},
     "output_type": "execute_result"
    }
   ],
   "source": [
    "type(train_dataset)"
   ]
  },
  {
   "cell_type": "code",
   "execution_count": 11,
   "metadata": {},
   "outputs": [],
   "source": [
    "test_dataset = test_dataset.shuffle().select(range(10000)) # smaller the size for test dataset to 10k "
   ]
  },
  {
   "cell_type": "code",
   "execution_count": 12,
   "metadata": {},
   "outputs": [
    {
     "data": {
      "application/vnd.jupyter.widget-view+json": {
       "model_id": "18d09e0943564ae490ca7db78b65fdd7",
       "version_major": 2,
       "version_minor": 0
      },
      "text/plain": [
       "HBox(children=(FloatProgress(value=0.0, max=25.0), HTML(value='')))"
      ]
     },
     "metadata": {},
     "output_type": "display_data"
    },
    {
     "name": "stdout",
     "output_type": "stream",
     "text": [
      "\n"
     ]
    }
   ],
   "source": [
    "# tokenize dataset\n",
    "train_dataset = train_dataset.map(tokenize, batched=True)\n"
   ]
  },
  {
   "cell_type": "code",
   "execution_count": 13,
   "metadata": {},
   "outputs": [
    {
     "data": {
      "application/vnd.jupyter.widget-view+json": {
       "model_id": "a7b4003f85694800bd66a286ad1150ee",
       "version_major": 2,
       "version_minor": 0
      },
      "text/plain": [
       "HBox(children=(FloatProgress(value=0.0, max=10.0), HTML(value='')))"
      ]
     },
     "metadata": {},
     "output_type": "display_data"
    },
    {
     "name": "stdout",
     "output_type": "stream",
     "text": [
      "\n"
     ]
    }
   ],
   "source": [
    "test_dataset = test_dataset.map(tokenize, batched=True)"
   ]
  },
  {
   "cell_type": "code",
   "execution_count": 49,
   "metadata": {},
   "outputs": [],
   "source": [
    "train_dataset.set_format('torch', columns=['input_ids', 'attention_mask', 'labels'])\n"
   ]
  },
  {
   "cell_type": "code",
   "execution_count": 48,
   "metadata": {
    "collapsed": true,
    "jupyter": {
     "outputs_hidden": true
    }
   },
   "outputs": [
    {
     "ename": "ValueError",
     "evalue": "Original column name label not in the dataset. Current columns in the dataset: ['attention_mask', 'input_ids', 'labels', 'text']",
     "output_type": "error",
     "traceback": [
      "\u001b[0;31m---------------------------------------------------------------------------\u001b[0m",
      "\u001b[0;31mValueError\u001b[0m                                Traceback (most recent call last)",
      "\u001b[0;32m<ipython-input-48-d896b0a62d83>\u001b[0m in \u001b[0;36m<module>\u001b[0;34m\u001b[0m\n\u001b[1;32m      1\u001b[0m \u001b[0;31m# set format for pytorch\u001b[0m\u001b[0;34m\u001b[0m\u001b[0;34m\u001b[0m\u001b[0;34m\u001b[0m\u001b[0m\n\u001b[0;32m----> 2\u001b[0;31m \u001b[0mtrain_dataset\u001b[0m \u001b[0;34m=\u001b[0m  \u001b[0mtrain_dataset\u001b[0m\u001b[0;34m.\u001b[0m\u001b[0mrename_column\u001b[0m\u001b[0;34m(\u001b[0m\u001b[0;34m\"label\"\u001b[0m\u001b[0;34m,\u001b[0m \u001b[0;34m\"labels\"\u001b[0m\u001b[0;34m)\u001b[0m\u001b[0;34m\u001b[0m\u001b[0;34m\u001b[0m\u001b[0m\n\u001b[0m\u001b[1;32m      3\u001b[0m \u001b[0mtrain_dataset\u001b[0m\u001b[0;34m.\u001b[0m\u001b[0mset_format\u001b[0m\u001b[0;34m(\u001b[0m\u001b[0;34m'torch'\u001b[0m\u001b[0;34m,\u001b[0m \u001b[0mcolumns\u001b[0m\u001b[0;34m=\u001b[0m\u001b[0;34m[\u001b[0m\u001b[0;34m'input_ids'\u001b[0m\u001b[0;34m,\u001b[0m \u001b[0;34m'attention_mask'\u001b[0m\u001b[0;34m,\u001b[0m \u001b[0;34m'labels'\u001b[0m\u001b[0;34m]\u001b[0m\u001b[0;34m)\u001b[0m\u001b[0;34m\u001b[0m\u001b[0;34m\u001b[0m\u001b[0m\n\u001b[1;32m      4\u001b[0m \u001b[0mtest_dataset\u001b[0m \u001b[0;34m=\u001b[0m \u001b[0mtest_dataset\u001b[0m\u001b[0;34m.\u001b[0m\u001b[0mrename_column\u001b[0m\u001b[0;34m(\u001b[0m\u001b[0;34m\"label\"\u001b[0m\u001b[0;34m,\u001b[0m \u001b[0;34m\"labels\"\u001b[0m\u001b[0;34m)\u001b[0m\u001b[0;34m\u001b[0m\u001b[0;34m\u001b[0m\u001b[0m\n\u001b[1;32m      5\u001b[0m \u001b[0mtest_dataset\u001b[0m\u001b[0;34m.\u001b[0m\u001b[0mset_format\u001b[0m\u001b[0;34m(\u001b[0m\u001b[0;34m'torch'\u001b[0m\u001b[0;34m,\u001b[0m \u001b[0mcolumns\u001b[0m\u001b[0;34m=\u001b[0m\u001b[0;34m[\u001b[0m\u001b[0;34m'input_ids'\u001b[0m\u001b[0;34m,\u001b[0m \u001b[0;34m'attention_mask'\u001b[0m\u001b[0;34m,\u001b[0m \u001b[0;34m'labels'\u001b[0m\u001b[0;34m]\u001b[0m\u001b[0;34m)\u001b[0m\u001b[0;34m\u001b[0m\u001b[0;34m\u001b[0m\u001b[0m\n",
      "\u001b[0;32m/opt/conda/lib/python3.6/site-packages/datasets/fingerprint.py\u001b[0m in \u001b[0;36mwrapper\u001b[0;34m(*args, **kwargs)\u001b[0m\n\u001b[1;32m    338\u001b[0m             \u001b[0;31m# Call actual function\u001b[0m\u001b[0;34m\u001b[0m\u001b[0;34m\u001b[0m\u001b[0;34m\u001b[0m\u001b[0m\n\u001b[1;32m    339\u001b[0m \u001b[0;34m\u001b[0m\u001b[0m\n\u001b[0;32m--> 340\u001b[0;31m             \u001b[0mout\u001b[0m \u001b[0;34m=\u001b[0m \u001b[0mfunc\u001b[0m\u001b[0;34m(\u001b[0m\u001b[0mself\u001b[0m\u001b[0;34m,\u001b[0m \u001b[0;34m*\u001b[0m\u001b[0margs\u001b[0m\u001b[0;34m,\u001b[0m \u001b[0;34m**\u001b[0m\u001b[0mkwargs\u001b[0m\u001b[0;34m)\u001b[0m\u001b[0;34m\u001b[0m\u001b[0;34m\u001b[0m\u001b[0m\n\u001b[0m\u001b[1;32m    341\u001b[0m \u001b[0;34m\u001b[0m\u001b[0m\n\u001b[1;32m    342\u001b[0m             \u001b[0;31m# Update fingerprint of in-place transforms + update in-place history of transforms\u001b[0m\u001b[0;34m\u001b[0m\u001b[0;34m\u001b[0m\u001b[0;34m\u001b[0m\u001b[0m\n",
      "\u001b[0;32m/opt/conda/lib/python3.6/site-packages/datasets/arrow_dataset.py\u001b[0m in \u001b[0;36mrename_column\u001b[0;34m(self, original_column_name, new_column_name, new_fingerprint)\u001b[0m\n\u001b[1;32m   1092\u001b[0m         \u001b[0;32mif\u001b[0m \u001b[0moriginal_column_name\u001b[0m \u001b[0;32mnot\u001b[0m \u001b[0;32min\u001b[0m \u001b[0mdataset\u001b[0m\u001b[0;34m.\u001b[0m\u001b[0m_data\u001b[0m\u001b[0;34m.\u001b[0m\u001b[0mcolumn_names\u001b[0m\u001b[0;34m:\u001b[0m\u001b[0;34m\u001b[0m\u001b[0;34m\u001b[0m\u001b[0m\n\u001b[1;32m   1093\u001b[0m             raise ValueError(\n\u001b[0;32m-> 1094\u001b[0;31m                 \u001b[0;34mf\"Original column name {original_column_name} not in the dataset. \"\u001b[0m\u001b[0;34m\u001b[0m\u001b[0;34m\u001b[0m\u001b[0m\n\u001b[0m\u001b[1;32m   1095\u001b[0m                 \u001b[0;34mf\"Current columns in the dataset: {dataset._data.column_names}\"\u001b[0m\u001b[0;34m\u001b[0m\u001b[0;34m\u001b[0m\u001b[0m\n\u001b[1;32m   1096\u001b[0m             )\n",
      "\u001b[0;31mValueError\u001b[0m: Original column name label not in the dataset. Current columns in the dataset: ['attention_mask', 'input_ids', 'labels', 'text']"
     ]
    }
   ],
   "source": [
    "# set format for pytorch\n",
    "train_dataset =  train_dataset.rename_column(\"label\", \"labels\")\n",
    "train_dataset.set_format('torch', columns=['input_ids', 'attention_mask', 'labels'])\n",
    "test_dataset = test_dataset.rename_column(\"label\", \"labels\")\n",
    "test_dataset.set_format('torch', columns=['input_ids', 'attention_mask', 'labels'])"
   ]
  },
  {
   "cell_type": "code",
   "execution_count": 4,
   "metadata": {},
   "outputs": [
    {
     "name": "stdout",
     "output_type": "stream",
     "text": [
      "Downloading and preparing dataset imdb/plain_text (download: 80.23 MiB, generated: 127.06 MiB, post-processed: Unknown size, total: 207.28 MiB) to /root/.cache/huggingface/datasets/imdb/plain_text/1.0.0/4ea52f2e58a08dbc12c2bd52d0d92b30b88c00230b4522801b3636782f625c5b...\n"
     ]
    },
    {
     "data": {
      "application/vnd.jupyter.widget-view+json": {
       "model_id": "",
       "version_major": 2,
       "version_minor": 0
      },
      "text/plain": [
       "HBox(children=(FloatProgress(value=1.0, bar_style='info', layout=Layout(width='20px'), max=1.0), HTML(value=''…"
      ]
     },
     "metadata": {},
     "output_type": "display_data"
    },
    {
     "data": {
      "application/vnd.jupyter.widget-view+json": {
       "model_id": "",
       "version_major": 2,
       "version_minor": 0
      },
      "text/plain": [
       "HBox(children=(FloatProgress(value=1.0, bar_style='info', layout=Layout(width='20px'), max=1.0), HTML(value=''…"
      ]
     },
     "metadata": {},
     "output_type": "display_data"
    },
    {
     "data": {
      "application/vnd.jupyter.widget-view+json": {
       "model_id": "",
       "version_major": 2,
       "version_minor": 0
      },
      "text/plain": [
       "HBox(children=(FloatProgress(value=1.0, bar_style='info', layout=Layout(width='20px'), max=1.0), HTML(value=''…"
      ]
     },
     "metadata": {},
     "output_type": "display_data"
    },
    {
     "ename": "NonMatchingSplitsSizesError",
     "evalue": "[{'expected': SplitInfo(name='train', num_bytes=33442202, num_examples=25000, dataset_name='imdb'), 'recorded': SplitInfo(name='train', num_bytes=14652463, num_examples=11149, dataset_name='imdb')}, {'expected': SplitInfo(name='unsupervised', num_bytes=67125548, num_examples=50000, dataset_name='imdb'), 'recorded': SplitInfo(name='unsupervised', num_bytes=0, num_examples=0, dataset_name='imdb')}]",
     "output_type": "error",
     "traceback": [
      "\u001b[0;31m---------------------------------------------------------------------------\u001b[0m",
      "\u001b[0;31mNonMatchingSplitsSizesError\u001b[0m               Traceback (most recent call last)",
      "\u001b[0;32m<ipython-input-4-f679b4883c2d>\u001b[0m in \u001b[0;36m<module>\u001b[0;34m\u001b[0m\n\u001b[1;32m      1\u001b[0m \u001b[0;31m# load dataset\u001b[0m\u001b[0;34m\u001b[0m\u001b[0;34m\u001b[0m\u001b[0;34m\u001b[0m\u001b[0m\n\u001b[0;32m----> 2\u001b[0;31m \u001b[0mdataset\u001b[0m \u001b[0;34m=\u001b[0m \u001b[0mload_dataset\u001b[0m\u001b[0;34m(\u001b[0m\u001b[0mdataset_name\u001b[0m\u001b[0;34m)\u001b[0m\u001b[0;34m\u001b[0m\u001b[0;34m\u001b[0m\u001b[0m\n\u001b[0m\u001b[1;32m      3\u001b[0m \u001b[0;34m\u001b[0m\u001b[0m\n\u001b[1;32m      4\u001b[0m \u001b[0;31m# download tokenizer\u001b[0m\u001b[0;34m\u001b[0m\u001b[0;34m\u001b[0m\u001b[0;34m\u001b[0m\u001b[0m\n\u001b[1;32m      5\u001b[0m \u001b[0mtokenizer\u001b[0m \u001b[0;34m=\u001b[0m \u001b[0mAutoTokenizer\u001b[0m\u001b[0;34m.\u001b[0m\u001b[0mfrom_pretrained\u001b[0m\u001b[0;34m(\u001b[0m\u001b[0mtokenizer_name\u001b[0m\u001b[0;34m)\u001b[0m\u001b[0;34m\u001b[0m\u001b[0;34m\u001b[0m\u001b[0m\n",
      "\u001b[0;32m/opt/conda/lib/python3.6/site-packages/datasets/load.py\u001b[0m in \u001b[0;36mload_dataset\u001b[0;34m(path, name, data_dir, data_files, split, cache_dir, features, download_config, download_mode, ignore_verifications, keep_in_memory, save_infos, script_version, use_auth_token, **config_kwargs)\u001b[0m\n\u001b[1;32m    749\u001b[0m         \u001b[0mtry_from_hf_gcs\u001b[0m\u001b[0;34m=\u001b[0m\u001b[0mtry_from_hf_gcs\u001b[0m\u001b[0;34m,\u001b[0m\u001b[0;34m\u001b[0m\u001b[0;34m\u001b[0m\u001b[0m\n\u001b[1;32m    750\u001b[0m         \u001b[0mbase_path\u001b[0m\u001b[0;34m=\u001b[0m\u001b[0mbase_path\u001b[0m\u001b[0;34m,\u001b[0m\u001b[0;34m\u001b[0m\u001b[0;34m\u001b[0m\u001b[0m\n\u001b[0;32m--> 751\u001b[0;31m         \u001b[0muse_auth_token\u001b[0m\u001b[0;34m=\u001b[0m\u001b[0muse_auth_token\u001b[0m\u001b[0;34m,\u001b[0m\u001b[0;34m\u001b[0m\u001b[0;34m\u001b[0m\u001b[0m\n\u001b[0m\u001b[1;32m    752\u001b[0m     )\n\u001b[1;32m    753\u001b[0m \u001b[0;34m\u001b[0m\u001b[0m\n",
      "\u001b[0;32m/opt/conda/lib/python3.6/site-packages/datasets/builder.py\u001b[0m in \u001b[0;36mdownload_and_prepare\u001b[0;34m(self, download_config, download_mode, ignore_verifications, try_from_hf_gcs, dl_manager, base_path, use_auth_token, **download_and_prepare_kwargs)\u001b[0m\n\u001b[1;32m    573\u001b[0m                     \u001b[0;32mif\u001b[0m \u001b[0;32mnot\u001b[0m \u001b[0mdownloaded_from_gcs\u001b[0m\u001b[0;34m:\u001b[0m\u001b[0;34m\u001b[0m\u001b[0;34m\u001b[0m\u001b[0m\n\u001b[1;32m    574\u001b[0m                         self._download_and_prepare(\n\u001b[0;32m--> 575\u001b[0;31m                             \u001b[0mdl_manager\u001b[0m\u001b[0;34m=\u001b[0m\u001b[0mdl_manager\u001b[0m\u001b[0;34m,\u001b[0m \u001b[0mverify_infos\u001b[0m\u001b[0;34m=\u001b[0m\u001b[0mverify_infos\u001b[0m\u001b[0;34m,\u001b[0m \u001b[0;34m**\u001b[0m\u001b[0mdownload_and_prepare_kwargs\u001b[0m\u001b[0;34m\u001b[0m\u001b[0;34m\u001b[0m\u001b[0m\n\u001b[0m\u001b[1;32m    576\u001b[0m                         )\n\u001b[1;32m    577\u001b[0m                     \u001b[0;31m# Sync info\u001b[0m\u001b[0;34m\u001b[0m\u001b[0;34m\u001b[0m\u001b[0;34m\u001b[0m\u001b[0m\n",
      "\u001b[0;32m/opt/conda/lib/python3.6/site-packages/datasets/builder.py\u001b[0m in \u001b[0;36m_download_and_prepare\u001b[0;34m(self, dl_manager, verify_infos, **prepare_split_kwargs)\u001b[0m\n\u001b[1;32m    660\u001b[0m \u001b[0;34m\u001b[0m\u001b[0m\n\u001b[1;32m    661\u001b[0m         \u001b[0;32mif\u001b[0m \u001b[0mverify_infos\u001b[0m\u001b[0;34m:\u001b[0m\u001b[0;34m\u001b[0m\u001b[0;34m\u001b[0m\u001b[0m\n\u001b[0;32m--> 662\u001b[0;31m             \u001b[0mverify_splits\u001b[0m\u001b[0;34m(\u001b[0m\u001b[0mself\u001b[0m\u001b[0;34m.\u001b[0m\u001b[0minfo\u001b[0m\u001b[0;34m.\u001b[0m\u001b[0msplits\u001b[0m\u001b[0;34m,\u001b[0m \u001b[0msplit_dict\u001b[0m\u001b[0;34m)\u001b[0m\u001b[0;34m\u001b[0m\u001b[0;34m\u001b[0m\u001b[0m\n\u001b[0m\u001b[1;32m    663\u001b[0m \u001b[0;34m\u001b[0m\u001b[0m\n\u001b[1;32m    664\u001b[0m         \u001b[0;31m# Update the info object with the splits.\u001b[0m\u001b[0;34m\u001b[0m\u001b[0;34m\u001b[0m\u001b[0;34m\u001b[0m\u001b[0m\n",
      "\u001b[0;32m/opt/conda/lib/python3.6/site-packages/datasets/utils/info_utils.py\u001b[0m in \u001b[0;36mverify_splits\u001b[0;34m(expected_splits, recorded_splits)\u001b[0m\n\u001b[1;32m     72\u001b[0m     ]\n\u001b[1;32m     73\u001b[0m     \u001b[0;32mif\u001b[0m \u001b[0mlen\u001b[0m\u001b[0;34m(\u001b[0m\u001b[0mbad_splits\u001b[0m\u001b[0;34m)\u001b[0m \u001b[0;34m>\u001b[0m \u001b[0;36m0\u001b[0m\u001b[0;34m:\u001b[0m\u001b[0;34m\u001b[0m\u001b[0;34m\u001b[0m\u001b[0m\n\u001b[0;32m---> 74\u001b[0;31m         \u001b[0;32mraise\u001b[0m \u001b[0mNonMatchingSplitsSizesError\u001b[0m\u001b[0;34m(\u001b[0m\u001b[0mstr\u001b[0m\u001b[0;34m(\u001b[0m\u001b[0mbad_splits\u001b[0m\u001b[0;34m)\u001b[0m\u001b[0;34m)\u001b[0m\u001b[0;34m\u001b[0m\u001b[0;34m\u001b[0m\u001b[0m\n\u001b[0m\u001b[1;32m     75\u001b[0m     \u001b[0mlogger\u001b[0m\u001b[0;34m.\u001b[0m\u001b[0minfo\u001b[0m\u001b[0;34m(\u001b[0m\u001b[0;34m\"All the splits matched successfully.\"\u001b[0m\u001b[0;34m)\u001b[0m\u001b[0;34m\u001b[0m\u001b[0;34m\u001b[0m\u001b[0m\n\u001b[1;32m     76\u001b[0m \u001b[0;34m\u001b[0m\u001b[0m\n",
      "\u001b[0;31mNonMatchingSplitsSizesError\u001b[0m: [{'expected': SplitInfo(name='train', num_bytes=33442202, num_examples=25000, dataset_name='imdb'), 'recorded': SplitInfo(name='train', num_bytes=14652463, num_examples=11149, dataset_name='imdb')}, {'expected': SplitInfo(name='unsupervised', num_bytes=67125548, num_examples=50000, dataset_name='imdb'), 'recorded': SplitInfo(name='unsupervised', num_bytes=0, num_examples=0, dataset_name='imdb')}]"
     ]
    }
   ],
   "source": [
    "#ss break apart\n",
    "# NonMatchingSplitsSizesError\n",
    "# load dataset\n",
    "# dataset = load_dataset(dataset_name)\n",
    "\n",
    "# download tokenizer\n",
    "tokenizer = AutoTokenizer.from_pretrained(tokenizer_name)\n",
    "\n",
    "# tokenizer helper function\n",
    "def tokenize(batch):\n",
    "    return tokenizer(batch['text'], padding='max_length', truncation=True)\n",
    "\n",
    "# load dataset\n",
    "train_dataset, test_dataset = load_dataset('imdb', split=['train', 'test'])\n",
    "test_dataset = test_dataset.shuffle().select(range(10000)) # smaller the size for test dataset to 10k \n",
    "\n",
    "\n",
    "# tokenize dataset\n",
    "train_dataset = train_dataset.map(tokenize, batched=True)\n",
    "test_dataset = test_dataset.map(tokenize, batched=True)\n",
    "\n",
    "# set format for pytorch\n",
    "train_dataset =  train_dataset.rename_column(\"label\", \"labels\")\n",
    "train_dataset.set_format('torch', columns=['input_ids', 'attention_mask', 'labels'])\n",
    "test_dataset = test_dataset.rename_column(\"label\", \"labels\")\n",
    "test_dataset.set_format('torch', columns=['input_ids', 'attention_mask', 'labels'])"
   ]
  },
  {
   "cell_type": "code",
   "execution_count": 4,
   "metadata": {},
   "outputs": [
    {
     "name": "stdout",
     "output_type": "stream",
     "text": [
      "Downloading and preparing dataset imdb/plain_text (download: 80.23 MiB, generated: 127.06 MiB, post-processed: Unknown size, total: 207.28 MiB) to /root/.cache/huggingface/datasets/imdb/plain_text/1.0.0/4ea52f2e58a08dbc12c2bd52d0d92b30b88c00230b4522801b3636782f625c5b...\n"
     ]
    },
    {
     "data": {
      "application/vnd.jupyter.widget-view+json": {
       "model_id": "",
       "version_major": 2,
       "version_minor": 0
      },
      "text/plain": [
       "HBox(children=(FloatProgress(value=1.0, bar_style='info', layout=Layout(width='20px'), max=1.0), HTML(value=''…"
      ]
     },
     "metadata": {},
     "output_type": "display_data"
    },
    {
     "data": {
      "application/vnd.jupyter.widget-view+json": {
       "model_id": "",
       "version_major": 2,
       "version_minor": 0
      },
      "text/plain": [
       "HBox(children=(FloatProgress(value=1.0, bar_style='info', layout=Layout(width='20px'), max=1.0), HTML(value=''…"
      ]
     },
     "metadata": {},
     "output_type": "display_data"
    },
    {
     "data": {
      "application/vnd.jupyter.widget-view+json": {
       "model_id": "",
       "version_major": 2,
       "version_minor": 0
      },
      "text/plain": [
       "HBox(children=(FloatProgress(value=1.0, bar_style='info', layout=Layout(width='20px'), max=1.0), HTML(value=''…"
      ]
     },
     "metadata": {},
     "output_type": "display_data"
    },
    {
     "ename": "NonMatchingSplitsSizesError",
     "evalue": "[{'expected': SplitInfo(name='train', num_bytes=33442202, num_examples=25000, dataset_name='imdb'), 'recorded': SplitInfo(name='train', num_bytes=14652463, num_examples=11149, dataset_name='imdb')}, {'expected': SplitInfo(name='unsupervised', num_bytes=67125548, num_examples=50000, dataset_name='imdb'), 'recorded': SplitInfo(name='unsupervised', num_bytes=0, num_examples=0, dataset_name='imdb')}]",
     "output_type": "error",
     "traceback": [
      "\u001b[0;31m---------------------------------------------------------------------------\u001b[0m",
      "\u001b[0;31mNonMatchingSplitsSizesError\u001b[0m               Traceback (most recent call last)",
      "\u001b[0;32m<ipython-input-4-f679b4883c2d>\u001b[0m in \u001b[0;36m<module>\u001b[0;34m\u001b[0m\n\u001b[1;32m      1\u001b[0m \u001b[0;31m# load dataset\u001b[0m\u001b[0;34m\u001b[0m\u001b[0;34m\u001b[0m\u001b[0;34m\u001b[0m\u001b[0m\n\u001b[0;32m----> 2\u001b[0;31m \u001b[0mdataset\u001b[0m \u001b[0;34m=\u001b[0m \u001b[0mload_dataset\u001b[0m\u001b[0;34m(\u001b[0m\u001b[0mdataset_name\u001b[0m\u001b[0;34m)\u001b[0m\u001b[0;34m\u001b[0m\u001b[0;34m\u001b[0m\u001b[0m\n\u001b[0m\u001b[1;32m      3\u001b[0m \u001b[0;34m\u001b[0m\u001b[0m\n\u001b[1;32m      4\u001b[0m \u001b[0;31m# download tokenizer\u001b[0m\u001b[0;34m\u001b[0m\u001b[0;34m\u001b[0m\u001b[0;34m\u001b[0m\u001b[0m\n\u001b[1;32m      5\u001b[0m \u001b[0mtokenizer\u001b[0m \u001b[0;34m=\u001b[0m \u001b[0mAutoTokenizer\u001b[0m\u001b[0;34m.\u001b[0m\u001b[0mfrom_pretrained\u001b[0m\u001b[0;34m(\u001b[0m\u001b[0mtokenizer_name\u001b[0m\u001b[0;34m)\u001b[0m\u001b[0;34m\u001b[0m\u001b[0;34m\u001b[0m\u001b[0m\n",
      "\u001b[0;32m/opt/conda/lib/python3.6/site-packages/datasets/load.py\u001b[0m in \u001b[0;36mload_dataset\u001b[0;34m(path, name, data_dir, data_files, split, cache_dir, features, download_config, download_mode, ignore_verifications, keep_in_memory, save_infos, script_version, use_auth_token, **config_kwargs)\u001b[0m\n\u001b[1;32m    749\u001b[0m         \u001b[0mtry_from_hf_gcs\u001b[0m\u001b[0;34m=\u001b[0m\u001b[0mtry_from_hf_gcs\u001b[0m\u001b[0;34m,\u001b[0m\u001b[0;34m\u001b[0m\u001b[0;34m\u001b[0m\u001b[0m\n\u001b[1;32m    750\u001b[0m         \u001b[0mbase_path\u001b[0m\u001b[0;34m=\u001b[0m\u001b[0mbase_path\u001b[0m\u001b[0;34m,\u001b[0m\u001b[0;34m\u001b[0m\u001b[0;34m\u001b[0m\u001b[0m\n\u001b[0;32m--> 751\u001b[0;31m         \u001b[0muse_auth_token\u001b[0m\u001b[0;34m=\u001b[0m\u001b[0muse_auth_token\u001b[0m\u001b[0;34m,\u001b[0m\u001b[0;34m\u001b[0m\u001b[0;34m\u001b[0m\u001b[0m\n\u001b[0m\u001b[1;32m    752\u001b[0m     )\n\u001b[1;32m    753\u001b[0m \u001b[0;34m\u001b[0m\u001b[0m\n",
      "\u001b[0;32m/opt/conda/lib/python3.6/site-packages/datasets/builder.py\u001b[0m in \u001b[0;36mdownload_and_prepare\u001b[0;34m(self, download_config, download_mode, ignore_verifications, try_from_hf_gcs, dl_manager, base_path, use_auth_token, **download_and_prepare_kwargs)\u001b[0m\n\u001b[1;32m    573\u001b[0m                     \u001b[0;32mif\u001b[0m \u001b[0;32mnot\u001b[0m \u001b[0mdownloaded_from_gcs\u001b[0m\u001b[0;34m:\u001b[0m\u001b[0;34m\u001b[0m\u001b[0;34m\u001b[0m\u001b[0m\n\u001b[1;32m    574\u001b[0m                         self._download_and_prepare(\n\u001b[0;32m--> 575\u001b[0;31m                             \u001b[0mdl_manager\u001b[0m\u001b[0;34m=\u001b[0m\u001b[0mdl_manager\u001b[0m\u001b[0;34m,\u001b[0m \u001b[0mverify_infos\u001b[0m\u001b[0;34m=\u001b[0m\u001b[0mverify_infos\u001b[0m\u001b[0;34m,\u001b[0m \u001b[0;34m**\u001b[0m\u001b[0mdownload_and_prepare_kwargs\u001b[0m\u001b[0;34m\u001b[0m\u001b[0;34m\u001b[0m\u001b[0m\n\u001b[0m\u001b[1;32m    576\u001b[0m                         )\n\u001b[1;32m    577\u001b[0m                     \u001b[0;31m# Sync info\u001b[0m\u001b[0;34m\u001b[0m\u001b[0;34m\u001b[0m\u001b[0;34m\u001b[0m\u001b[0m\n",
      "\u001b[0;32m/opt/conda/lib/python3.6/site-packages/datasets/builder.py\u001b[0m in \u001b[0;36m_download_and_prepare\u001b[0;34m(self, dl_manager, verify_infos, **prepare_split_kwargs)\u001b[0m\n\u001b[1;32m    660\u001b[0m \u001b[0;34m\u001b[0m\u001b[0m\n\u001b[1;32m    661\u001b[0m         \u001b[0;32mif\u001b[0m \u001b[0mverify_infos\u001b[0m\u001b[0;34m:\u001b[0m\u001b[0;34m\u001b[0m\u001b[0;34m\u001b[0m\u001b[0m\n\u001b[0;32m--> 662\u001b[0;31m             \u001b[0mverify_splits\u001b[0m\u001b[0;34m(\u001b[0m\u001b[0mself\u001b[0m\u001b[0;34m.\u001b[0m\u001b[0minfo\u001b[0m\u001b[0;34m.\u001b[0m\u001b[0msplits\u001b[0m\u001b[0;34m,\u001b[0m \u001b[0msplit_dict\u001b[0m\u001b[0;34m)\u001b[0m\u001b[0;34m\u001b[0m\u001b[0;34m\u001b[0m\u001b[0m\n\u001b[0m\u001b[1;32m    663\u001b[0m \u001b[0;34m\u001b[0m\u001b[0m\n\u001b[1;32m    664\u001b[0m         \u001b[0;31m# Update the info object with the splits.\u001b[0m\u001b[0;34m\u001b[0m\u001b[0;34m\u001b[0m\u001b[0;34m\u001b[0m\u001b[0m\n",
      "\u001b[0;32m/opt/conda/lib/python3.6/site-packages/datasets/utils/info_utils.py\u001b[0m in \u001b[0;36mverify_splits\u001b[0;34m(expected_splits, recorded_splits)\u001b[0m\n\u001b[1;32m     72\u001b[0m     ]\n\u001b[1;32m     73\u001b[0m     \u001b[0;32mif\u001b[0m \u001b[0mlen\u001b[0m\u001b[0;34m(\u001b[0m\u001b[0mbad_splits\u001b[0m\u001b[0;34m)\u001b[0m \u001b[0;34m>\u001b[0m \u001b[0;36m0\u001b[0m\u001b[0;34m:\u001b[0m\u001b[0;34m\u001b[0m\u001b[0;34m\u001b[0m\u001b[0m\n\u001b[0;32m---> 74\u001b[0;31m         \u001b[0;32mraise\u001b[0m \u001b[0mNonMatchingSplitsSizesError\u001b[0m\u001b[0;34m(\u001b[0m\u001b[0mstr\u001b[0m\u001b[0;34m(\u001b[0m\u001b[0mbad_splits\u001b[0m\u001b[0;34m)\u001b[0m\u001b[0;34m)\u001b[0m\u001b[0;34m\u001b[0m\u001b[0;34m\u001b[0m\u001b[0m\n\u001b[0m\u001b[1;32m     75\u001b[0m     \u001b[0mlogger\u001b[0m\u001b[0;34m.\u001b[0m\u001b[0minfo\u001b[0m\u001b[0;34m(\u001b[0m\u001b[0;34m\"All the splits matched successfully.\"\u001b[0m\u001b[0;34m)\u001b[0m\u001b[0;34m\u001b[0m\u001b[0;34m\u001b[0m\u001b[0m\n\u001b[1;32m     76\u001b[0m \u001b[0;34m\u001b[0m\u001b[0m\n",
      "\u001b[0;31mNonMatchingSplitsSizesError\u001b[0m: [{'expected': SplitInfo(name='train', num_bytes=33442202, num_examples=25000, dataset_name='imdb'), 'recorded': SplitInfo(name='train', num_bytes=14652463, num_examples=11149, dataset_name='imdb')}, {'expected': SplitInfo(name='unsupervised', num_bytes=67125548, num_examples=50000, dataset_name='imdb'), 'recorded': SplitInfo(name='unsupervised', num_bytes=0, num_examples=0, dataset_name='imdb')}]"
     ]
    }
   ],
   "source": [
    "# load dataset\n",
    "dataset = load_dataset(dataset_name)\n",
    "\n",
    "# download tokenizer\n",
    "tokenizer = AutoTokenizer.from_pretrained(tokenizer_name)\n",
    "\n",
    "# tokenizer helper function\n",
    "def tokenize(batch):\n",
    "    return tokenizer(batch['text'], padding='max_length', truncation=True)\n",
    "\n",
    "# load dataset\n",
    "train_dataset, test_dataset = load_dataset('imdb', split=['train', 'test'])\n",
    "test_dataset = test_dataset.shuffle().select(range(10000)) # smaller the size for test dataset to 10k \n",
    "\n",
    "\n",
    "# tokenize dataset\n",
    "train_dataset = train_dataset.map(tokenize, batched=True)\n",
    "test_dataset = test_dataset.map(tokenize, batched=True)\n",
    "\n",
    "# set format for pytorch\n",
    "train_dataset =  train_dataset.rename_column(\"label\", \"labels\")\n",
    "train_dataset.set_format('torch', columns=['input_ids', 'attention_mask', 'labels'])\n",
    "test_dataset = test_dataset.rename_column(\"label\", \"labels\")\n",
    "test_dataset.set_format('torch', columns=['input_ids', 'attention_mask', 'labels'])"
   ]
  },
  {
   "cell_type": "markdown",
   "metadata": {},
   "source": [
    "## Uploading data to `sagemaker_session_bucket`\n",
    "\n",
    "After we processed the `datasets` we are going to use the new `FileSystem` [integration](https://huggingface.co/docs/datasets/filesystems.html) to upload our dataset to S3."
   ]
  },
  {
   "cell_type": "code",
   "execution_count": 15,
   "metadata": {},
   "outputs": [],
   "source": [
    "import botocore\n",
    "from datasets.filesystems import S3FileSystem\n",
    "\n",
    "s3 = S3FileSystem()  \n",
    "\n",
    "# save train_dataset to s3\n",
    "training_input_path = f's3://{sess.default_bucket()}/{s3_prefix}/train'\n",
    "train_dataset.save_to_disk(training_input_path,fs=s3)\n",
    "\n",
    "# save test_dataset to s3\n",
    "test_input_path = f's3://{sess.default_bucket()}/{s3_prefix}/test'\n",
    "test_dataset.save_to_disk(test_input_path,fs=s3)\n"
   ]
  },
  {
   "cell_type": "markdown",
   "metadata": {},
   "source": [
    "# Fine-tuning & starting Sagemaker Training Job\n",
    "\n",
    "In order to create a sagemaker training job we need an `HuggingFace` Estimator. The Estimator handles end-to-end Amazon SageMaker training and deployment tasks. In a Estimator we define, which fine-tuning script should be used as `entry_point`, which `instance_type` should be used, which `hyperparameters` are passed in .....\n",
    "\n",
    "\n",
    "\n",
    "```python\n",
    "huggingface_estimator = HuggingFace(entry_point='train.py',\n",
    "                            source_dir='./scripts',\n",
    "                            base_job_name='huggingface-sdk-extension',\n",
    "                            instance_type='ml.p3.2xlarge',\n",
    "                            instance_count=1,\n",
    "                            transformers_version='4.4',\n",
    "                            pytorch_version='1.6',\n",
    "                            py_version='py36',\n",
    "                            role=role,\n",
    "                            hyperparameters = {'epochs': 1,\n",
    "                                               'train_batch_size': 32,\n",
    "                                               'model_name':'distilbert-base-uncased'\n",
    "                                                })\n",
    "```\n",
    "\n",
    "When we create a SageMaker training job, SageMaker takes care of starting and managing all the required ec2 instances for us with the `huggingface` container, uploads the provided fine-tuning script `train.py` and downloads the data from our `sagemaker_session_bucket` into the container at `/opt/ml/input/data`. Then, it starts the training job by running. \n",
    "\n",
    "```python\n",
    "/opt/conda/bin/python train.py --epochs 1 --model_name distilbert-base-uncased --train_batch_size 32\n",
    "```\n",
    "\n",
    "The `hyperparameters` you define in the `HuggingFace` estimator are passed in as named arguments. \n",
    "\n",
    "Sagemaker is providing useful properties about the training environment through various environment variables, including the following:\n",
    "\n",
    "* `SM_MODEL_DIR`: A string that represents the path where the training job writes the model artifacts to. After training, artifacts in this directory are uploaded to S3 for model hosting.\n",
    "\n",
    "* `SM_NUM_GPUS`: An integer representing the number of GPUs available to the host.\n",
    "\n",
    "* `SM_CHANNEL_XXXX:` A string that represents the path to the directory that contains the input data for the specified channel. For example, if you specify two input channels in the HuggingFace estimator’s fit call, named `train` and `test`, the environment variables `SM_CHANNEL_TRAIN` and `SM_CHANNEL_TEST` are set.\n",
    "\n",
    "\n",
    "To run your training job locally you can define `instance_type='local'` or `instance_type='local_gpu'` for gpu usage. _Note: this does not working within SageMaker Studio_\n"
   ]
  },
  {
   "cell_type": "code",
   "execution_count": 50,
   "metadata": {},
   "outputs": [
    {
     "name": "stdout",
     "output_type": "stream",
     "text": [
      "{'input_ids': [101, 1045, 2123, 2102, 2507, 2048, 6616, 2015, 102], 'attention_mask': [1, 1, 1, 1, 1, 1, 1, 1, 1]}\n"
     ]
    }
   ],
   "source": [
    "#ss\n",
    "text =\"I dont give two fucks\"\n",
    "encoded_text = tokenizer(text)\n",
    "print(encoded_text)"
   ]
  },
  {
   "cell_type": "code",
   "execution_count": 51,
   "metadata": {},
   "outputs": [
    {
     "name": "stdout",
     "output_type": "stream",
     "text": [
      "['[CLS]', 'i', 'don', '##t', 'give', 'two', 'fuck', '##s', '[SEP]']\n"
     ]
    }
   ],
   "source": [
    "#ss\n",
    "tokens = tokenizer.convert_ids_to_tokens(encoded_text.input_ids)\n",
    "print(tokens)"
   ]
  },
  {
   "cell_type": "code",
   "execution_count": 54,
   "metadata": {},
   "outputs": [
    {
     "name": "stdout",
     "output_type": "stream",
     "text": [
      "[CLS] i dont give two fucks [SEP]\n"
     ]
    },
    {
     "data": {
      "text/plain": [
       "['input_ids', 'attention_mask']"
      ]
     },
     "execution_count": 54,
     "metadata": {},
     "output_type": "execute_result"
    }
   ],
   "source": [
    "#ss\n",
    "print(tokenizer.convert_tokens_to_string(tokens))\n",
    "tokenizer.model_input_names"
   ]
  },
  {
   "cell_type": "code",
   "execution_count": 53,
   "metadata": {},
   "outputs": [
    {
     "data": {
      "text/plain": [
       "30522"
      ]
     },
     "execution_count": 53,
     "metadata": {},
     "output_type": "execute_result"
    }
   ],
   "source": [
    "#ss\n",
    "tokenizer.vocab_size"
   ]
  },
  {
   "cell_type": "code",
   "execution_count": 62,
   "metadata": {},
   "outputs": [
    {
     "name": "stdout",
     "output_type": "stream",
     "text": [
      "User's Environment variable:\n",
      "{'AWS_ACCOUNT_ID': '647333706880',\n",
      " 'AWS_CONTAINER_CREDENTIALS_RELATIVE_URI': '/_sagemaker-instance-credentials/7a55a75861996f9b9066e4028202d00380772c0a31fab00632e444b2f6716bcd',\n",
      " 'AWS_DEFAULT_REGION': 'us-east-1',\n",
      " 'AWS_INTERNAL_IMAGE_OWNER': 'DLC',\n",
      " 'AWS_REGION': 'us-east-1',\n",
      " 'AWS_SAGEMAKER_PYTHONNOUSERSITE': '0',\n",
      " 'CLICOLOR': '1',\n",
      " 'DGLBACKEND': 'pytorch',\n",
      " 'GIT_PAGER': 'cat',\n",
      " 'HOME': '/root',\n",
      " 'HOSTNAME': 'pytorch-1-6-cpu-py36--ml-t3-medium-370ee60fbc7a856e8f67ac271515',\n",
      " 'JPY_PARENT_PID': '21',\n",
      " 'JUPYTER_PATH': '/opt/conda/share/jupyter/',\n",
      " 'KERNEL_GATEWAY': '1',\n",
      " 'KERNEL_LAUNCH_TIMEOUT': '40',\n",
      " 'KERNEL_WORKING_PATH': 'HuggingFacenotebooks/sagemaker/ss_01_getting_started_pytorch',\n",
      " 'KMP_INIT_AT_FORK': 'FALSE',\n",
      " 'LANG': 'C.UTF-8',\n",
      " 'LC_ALL': 'C.UTF-8',\n",
      " 'LD_LIBRARY_PATH': ':/usr/local/lib:/opt/conda/lib:/home/.openmpi/lib/',\n",
      " 'MPLBACKEND': 'module://ipykernel.pylab.backend_inline',\n",
      " 'PAGER': 'cat',\n",
      " 'PATH': '/opt/conda/bin:/usr/local/sbin:/usr/local/bin:/usr/sbin:/usr/bin:/sbin:/bin:/home/.openmpi/bin:/tmp/miniconda3/condabin:/tmp/anaconda3/condabin:/tmp/miniconda2/condabin:/tmp/anaconda2/condabin',\n",
      " 'PWD': '/root',\n",
      " 'PYTHONDONTWRITEBYTECODE': '1',\n",
      " 'PYTHONIOENCODING': 'UTF-8',\n",
      " 'PYTHONNOUSERSITE': '0',\n",
      " 'PYTHONUNBUFFERED': '1',\n",
      " 'REGION_NAME': 'us-east-1',\n",
      " 'SAGEMAKER_LOG_FILE': '/var/log/studio/kernel_gateway.log',\n",
      " 'SAGEMAKER_TRAINING_MODULE': 'sagemaker_pytorch_container.training:main',\n",
      " 'TERM': 'xterm-color'}\n"
     ]
    }
   ],
   "source": [
    "import os\n",
    "import pprint\n",
    "  \n",
    "# Get the list of user's\n",
    "# environment variables\n",
    "env_var = os.environ\n",
    "  \n",
    "# Print the list of user's\n",
    "# environment variables\n",
    "print(\"User's Environment variable:\")\n",
    "pprint.pprint(dict(env_var), width = 1)"
   ]
  },
  {
   "cell_type": "code",
   "execution_count": 16,
   "metadata": {},
   "outputs": [
    {
     "name": "stdout",
     "output_type": "stream",
     "text": [
      "\u001b[34mfrom\u001b[39;49;00m \u001b[04m\u001b[36mtransformers\u001b[39;49;00m \u001b[34mimport\u001b[39;49;00m AutoModelForSequenceClassification, Trainer, TrainingArguments, AutoTokenizer\n",
      "\u001b[34mfrom\u001b[39;49;00m \u001b[04m\u001b[36msklearn\u001b[39;49;00m\u001b[04m\u001b[36m.\u001b[39;49;00m\u001b[04m\u001b[36mmetrics\u001b[39;49;00m \u001b[34mimport\u001b[39;49;00m accuracy_score, precision_recall_fscore_support\n",
      "\u001b[34mfrom\u001b[39;49;00m \u001b[04m\u001b[36mdatasets\u001b[39;49;00m \u001b[34mimport\u001b[39;49;00m load_from_disk\n",
      "\u001b[34mimport\u001b[39;49;00m \u001b[04m\u001b[36mrandom\u001b[39;49;00m\n",
      "\u001b[34mimport\u001b[39;49;00m \u001b[04m\u001b[36mlogging\u001b[39;49;00m\n",
      "\u001b[34mimport\u001b[39;49;00m \u001b[04m\u001b[36msys\u001b[39;49;00m\n",
      "\u001b[34mimport\u001b[39;49;00m \u001b[04m\u001b[36margparse\u001b[39;49;00m\n",
      "\u001b[34mimport\u001b[39;49;00m \u001b[04m\u001b[36mos\u001b[39;49;00m\n",
      "\u001b[34mimport\u001b[39;49;00m \u001b[04m\u001b[36mtorch\u001b[39;49;00m\n",
      "\n",
      "\u001b[34mif\u001b[39;49;00m \u001b[31m__name__\u001b[39;49;00m == \u001b[33m\"\u001b[39;49;00m\u001b[33m__main__\u001b[39;49;00m\u001b[33m\"\u001b[39;49;00m:\n",
      "\n",
      "    parser = argparse.ArgumentParser()\n",
      "\n",
      "    \u001b[37m# hyperparameters sent by the client are passed as command-line arguments to the script.\u001b[39;49;00m\n",
      "    parser.add_argument(\u001b[33m\"\u001b[39;49;00m\u001b[33m--epochs\u001b[39;49;00m\u001b[33m\"\u001b[39;49;00m, \u001b[36mtype\u001b[39;49;00m=\u001b[36mint\u001b[39;49;00m, default=\u001b[34m3\u001b[39;49;00m)\n",
      "    parser.add_argument(\u001b[33m\"\u001b[39;49;00m\u001b[33m--train_batch_size\u001b[39;49;00m\u001b[33m\"\u001b[39;49;00m, \u001b[36mtype\u001b[39;49;00m=\u001b[36mint\u001b[39;49;00m, default=\u001b[34m32\u001b[39;49;00m)\n",
      "    parser.add_argument(\u001b[33m\"\u001b[39;49;00m\u001b[33m--eval_batch_size\u001b[39;49;00m\u001b[33m\"\u001b[39;49;00m, \u001b[36mtype\u001b[39;49;00m=\u001b[36mint\u001b[39;49;00m, default=\u001b[34m64\u001b[39;49;00m)\n",
      "    parser.add_argument(\u001b[33m\"\u001b[39;49;00m\u001b[33m--warmup_steps\u001b[39;49;00m\u001b[33m\"\u001b[39;49;00m, \u001b[36mtype\u001b[39;49;00m=\u001b[36mint\u001b[39;49;00m, default=\u001b[34m500\u001b[39;49;00m)\n",
      "    parser.add_argument(\u001b[33m\"\u001b[39;49;00m\u001b[33m--model_name\u001b[39;49;00m\u001b[33m\"\u001b[39;49;00m, \u001b[36mtype\u001b[39;49;00m=\u001b[36mstr\u001b[39;49;00m)\n",
      "    parser.add_argument(\u001b[33m\"\u001b[39;49;00m\u001b[33m--learning_rate\u001b[39;49;00m\u001b[33m\"\u001b[39;49;00m, \u001b[36mtype\u001b[39;49;00m=\u001b[36mstr\u001b[39;49;00m, default=\u001b[34m5e-5\u001b[39;49;00m)\n",
      "\n",
      "    \u001b[37m# Data, model, and output directories\u001b[39;49;00m\n",
      "    parser.add_argument(\u001b[33m\"\u001b[39;49;00m\u001b[33m--output_data_dir\u001b[39;49;00m\u001b[33m\"\u001b[39;49;00m, \u001b[36mtype\u001b[39;49;00m=\u001b[36mstr\u001b[39;49;00m, default=os.environ[\u001b[33m\"\u001b[39;49;00m\u001b[33mSM_OUTPUT_DATA_DIR\u001b[39;49;00m\u001b[33m\"\u001b[39;49;00m])\n",
      "    parser.add_argument(\u001b[33m\"\u001b[39;49;00m\u001b[33m--model_dir\u001b[39;49;00m\u001b[33m\"\u001b[39;49;00m, \u001b[36mtype\u001b[39;49;00m=\u001b[36mstr\u001b[39;49;00m, default=os.environ[\u001b[33m\"\u001b[39;49;00m\u001b[33mSM_MODEL_DIR\u001b[39;49;00m\u001b[33m\"\u001b[39;49;00m])\n",
      "    parser.add_argument(\u001b[33m\"\u001b[39;49;00m\u001b[33m--n_gpus\u001b[39;49;00m\u001b[33m\"\u001b[39;49;00m, \u001b[36mtype\u001b[39;49;00m=\u001b[36mstr\u001b[39;49;00m, default=os.environ[\u001b[33m\"\u001b[39;49;00m\u001b[33mSM_NUM_GPUS\u001b[39;49;00m\u001b[33m\"\u001b[39;49;00m])\n",
      "    parser.add_argument(\u001b[33m\"\u001b[39;49;00m\u001b[33m--training_dir\u001b[39;49;00m\u001b[33m\"\u001b[39;49;00m, \u001b[36mtype\u001b[39;49;00m=\u001b[36mstr\u001b[39;49;00m, default=os.environ[\u001b[33m\"\u001b[39;49;00m\u001b[33mSM_CHANNEL_TRAIN\u001b[39;49;00m\u001b[33m\"\u001b[39;49;00m])\n",
      "    parser.add_argument(\u001b[33m\"\u001b[39;49;00m\u001b[33m--test_dir\u001b[39;49;00m\u001b[33m\"\u001b[39;49;00m, \u001b[36mtype\u001b[39;49;00m=\u001b[36mstr\u001b[39;49;00m, default=os.environ[\u001b[33m\"\u001b[39;49;00m\u001b[33mSM_CHANNEL_TEST\u001b[39;49;00m\u001b[33m\"\u001b[39;49;00m])\n",
      "\n",
      "    args, _ = parser.parse_known_args()\n",
      "\n",
      "    \u001b[37m# Set up logging\u001b[39;49;00m\n",
      "    logger = logging.getLogger(\u001b[31m__name__\u001b[39;49;00m)\n",
      "\n",
      "    logging.basicConfig(\n",
      "        level=logging.getLevelName(\u001b[33m\"\u001b[39;49;00m\u001b[33mINFO\u001b[39;49;00m\u001b[33m\"\u001b[39;49;00m),\n",
      "        handlers=[logging.StreamHandler(sys.stdout)],\n",
      "        \u001b[36mformat\u001b[39;49;00m=\u001b[33m\"\u001b[39;49;00m\u001b[33m%(asctime)s\u001b[39;49;00m\u001b[33m - \u001b[39;49;00m\u001b[33m%(name)s\u001b[39;49;00m\u001b[33m - \u001b[39;49;00m\u001b[33m%(levelname)s\u001b[39;49;00m\u001b[33m - \u001b[39;49;00m\u001b[33m%(message)s\u001b[39;49;00m\u001b[33m\"\u001b[39;49;00m,\n",
      "    )\n",
      "\n",
      "    \u001b[37m# load datasets\u001b[39;49;00m\n",
      "    train_dataset = load_from_disk(args.training_dir)\n",
      "    test_dataset = load_from_disk(args.test_dir)\n",
      "\n",
      "    logger.info(\u001b[33mf\u001b[39;49;00m\u001b[33m\"\u001b[39;49;00m\u001b[33m loaded train_dataset length is: \u001b[39;49;00m\u001b[33m{\u001b[39;49;00m\u001b[36mlen\u001b[39;49;00m(train_dataset)\u001b[33m}\u001b[39;49;00m\u001b[33m\"\u001b[39;49;00m)\n",
      "    logger.info(\u001b[33mf\u001b[39;49;00m\u001b[33m\"\u001b[39;49;00m\u001b[33m loaded test_dataset length is: \u001b[39;49;00m\u001b[33m{\u001b[39;49;00m\u001b[36mlen\u001b[39;49;00m(test_dataset)\u001b[33m}\u001b[39;49;00m\u001b[33m\"\u001b[39;49;00m)\n",
      "\n",
      "    \u001b[37m# compute metrics function for binary classification\u001b[39;49;00m\n",
      "    \u001b[34mdef\u001b[39;49;00m \u001b[32mcompute_metrics\u001b[39;49;00m(pred):\n",
      "        labels = pred.label_ids\n",
      "        preds = pred.predictions.argmax(-\u001b[34m1\u001b[39;49;00m)\n",
      "        precision, recall, f1, _ = precision_recall_fscore_support(labels, preds, average=\u001b[33m\"\u001b[39;49;00m\u001b[33mbinary\u001b[39;49;00m\u001b[33m\"\u001b[39;49;00m)\n",
      "        acc = accuracy_score(labels, preds)\n",
      "        \u001b[34mreturn\u001b[39;49;00m {\u001b[33m\"\u001b[39;49;00m\u001b[33maccuracy\u001b[39;49;00m\u001b[33m\"\u001b[39;49;00m: acc, \u001b[33m\"\u001b[39;49;00m\u001b[33mf1\u001b[39;49;00m\u001b[33m\"\u001b[39;49;00m: f1, \u001b[33m\"\u001b[39;49;00m\u001b[33mprecision\u001b[39;49;00m\u001b[33m\"\u001b[39;49;00m: precision, \u001b[33m\"\u001b[39;49;00m\u001b[33mrecall\u001b[39;49;00m\u001b[33m\"\u001b[39;49;00m: recall}\n",
      "\n",
      "    \u001b[37m# download model from model hub\u001b[39;49;00m\n",
      "    model = AutoModelForSequenceClassification.from_pretrained(args.model_name)\n",
      "    tokenizer = AutoTokenizer.from_pretrained(args.model_name)\n",
      "\n",
      "    \u001b[37m# define training args\u001b[39;49;00m\n",
      "    training_args = TrainingArguments(\n",
      "        output_dir=args.model_dir,\n",
      "        num_train_epochs=args.epochs,\n",
      "        per_device_train_batch_size=args.train_batch_size,\n",
      "        per_device_eval_batch_size=args.eval_batch_size,\n",
      "        warmup_steps=args.warmup_steps,\n",
      "        evaluation_strategy=\u001b[33m\"\u001b[39;49;00m\u001b[33mepoch\u001b[39;49;00m\u001b[33m\"\u001b[39;49;00m,\n",
      "        logging_dir=\u001b[33mf\u001b[39;49;00m\u001b[33m\"\u001b[39;49;00m\u001b[33m{\u001b[39;49;00margs.output_data_dir\u001b[33m}\u001b[39;49;00m\u001b[33m/logs\u001b[39;49;00m\u001b[33m\"\u001b[39;49;00m,\n",
      "        learning_rate=\u001b[36mfloat\u001b[39;49;00m(args.learning_rate),\n",
      "    )\n",
      "\n",
      "    \u001b[37m# create Trainer instance\u001b[39;49;00m\n",
      "    trainer = Trainer(\n",
      "        model=model,\n",
      "        args=training_args,\n",
      "        compute_metrics=compute_metrics,\n",
      "        train_dataset=train_dataset,\n",
      "        eval_dataset=test_dataset,\n",
      "        tokenizer=tokenizer,\n",
      "    )\n",
      "\n",
      "    \u001b[37m# train model\u001b[39;49;00m\n",
      "    trainer.train()\n",
      "\n",
      "    \u001b[37m# evaluate model\u001b[39;49;00m\n",
      "    eval_result = trainer.evaluate(eval_dataset=test_dataset)\n",
      "\n",
      "    \u001b[37m# writes eval result to file which can be accessed later in s3 ouput\u001b[39;49;00m\n",
      "    \u001b[34mwith\u001b[39;49;00m \u001b[36mopen\u001b[39;49;00m(os.path.join(args.output_data_dir, \u001b[33m\"\u001b[39;49;00m\u001b[33meval_results.txt\u001b[39;49;00m\u001b[33m\"\u001b[39;49;00m), \u001b[33m\"\u001b[39;49;00m\u001b[33mw\u001b[39;49;00m\u001b[33m\"\u001b[39;49;00m) \u001b[34mas\u001b[39;49;00m writer:\n",
      "        \u001b[36mprint\u001b[39;49;00m(\u001b[33mf\u001b[39;49;00m\u001b[33m\"\u001b[39;49;00m\u001b[33m***** Eval results *****\u001b[39;49;00m\u001b[33m\"\u001b[39;49;00m)\n",
      "        \u001b[34mfor\u001b[39;49;00m key, value \u001b[35min\u001b[39;49;00m \u001b[36msorted\u001b[39;49;00m(eval_result.items()):\n",
      "            writer.write(\u001b[33mf\u001b[39;49;00m\u001b[33m\"\u001b[39;49;00m\u001b[33m{\u001b[39;49;00mkey\u001b[33m}\u001b[39;49;00m\u001b[33m = \u001b[39;49;00m\u001b[33m{\u001b[39;49;00mvalue\u001b[33m}\u001b[39;49;00m\u001b[33m\\n\u001b[39;49;00m\u001b[33m\"\u001b[39;49;00m)\n",
      "\n",
      "    \u001b[37m# Saves the model to s3\u001b[39;49;00m\n",
      "    trainer.save_model(args.model_dir)\n"
     ]
    }
   ],
   "source": [
    "!pygmentize ./scripts/train.py"
   ]
  },
  {
   "cell_type": "markdown",
   "metadata": {},
   "source": [
    "## Creating an Estimator and start a training job"
   ]
  },
  {
   "cell_type": "code",
   "execution_count": 17,
   "metadata": {},
   "outputs": [],
   "source": [
    "from sagemaker.huggingface import HuggingFace\n",
    "\n",
    "# hyperparameters, which are passed into the training job\n",
    "hyperparameters={'epochs': 1,\n",
    "                 'train_batch_size': 32,\n",
    "                 'model_name':'distilbert-base-uncased'\n",
    "                 }"
   ]
  },
  {
   "cell_type": "code",
   "execution_count": 18,
   "metadata": {},
   "outputs": [],
   "source": [
    "huggingface_estimator = HuggingFace(entry_point='train.py',\n",
    "                            source_dir='./scripts',\n",
    "                            instance_type='ml.p3.2xlarge',\n",
    "                            instance_count=1,\n",
    "                            role=role,\n",
    "                            transformers_version='4.6',\n",
    "                            pytorch_version='1.7',\n",
    "                            py_version='py36',\n",
    "                            hyperparameters = hyperparameters)"
   ]
  },
  {
   "cell_type": "code",
   "execution_count": 19,
   "metadata": {
    "collapsed": true,
    "jupyter": {
     "outputs_hidden": true
    }
   },
   "outputs": [
    {
     "name": "stdout",
     "output_type": "stream",
     "text": [
      "2022-02-18 00:39:50 Starting - Starting the training job...\n",
      "2022-02-18 00:39:59 Starting - Launching requested ML instancesProfilerReport-1645144789: InProgress\n",
      ".........\n",
      "2022-02-18 00:41:36 Starting - Preparing the instances for training.........\n",
      "2022-02-18 00:43:17 Downloading - Downloading input data\n",
      "2022-02-18 00:43:17 Training - Downloading the training image..................\n",
      "2022-02-18 00:46:21 Training - Training image download completed. Training in progress..\u001b[34mbash: cannot set terminal process group (-1): Inappropriate ioctl for device\u001b[0m\n",
      "\u001b[34mbash: no job control in this shell\u001b[0m\n",
      "\u001b[34m2022-02-18 00:46:22,223 sagemaker-training-toolkit INFO     Imported framework sagemaker_pytorch_container.training\u001b[0m\n",
      "\u001b[34m2022-02-18 00:46:22,246 sagemaker_pytorch_container.training INFO     Block until all host DNS lookups succeed.\u001b[0m\n",
      "\u001b[34m2022-02-18 00:46:22,257 sagemaker_pytorch_container.training INFO     Invoking user training script.\u001b[0m\n",
      "\u001b[34m2022-02-18 00:46:22,806 sagemaker-training-toolkit INFO     Invoking user script\u001b[0m\n",
      "\u001b[34mTraining Env:\u001b[0m\n",
      "\u001b[34m{\n",
      "    \"additional_framework_parameters\": {},\n",
      "    \"channel_input_dirs\": {\n",
      "        \"test\": \"/opt/ml/input/data/test\",\n",
      "        \"train\": \"/opt/ml/input/data/train\"\n",
      "    },\n",
      "    \"current_host\": \"algo-1\",\n",
      "    \"framework_module\": \"sagemaker_pytorch_container.training:main\",\n",
      "    \"hosts\": [\n",
      "        \"algo-1\"\n",
      "    ],\n",
      "    \"hyperparameters\": {\n",
      "        \"train_batch_size\": 32,\n",
      "        \"model_name\": \"distilbert-base-uncased\",\n",
      "        \"epochs\": 1\n",
      "    },\n",
      "    \"input_config_dir\": \"/opt/ml/input/config\",\n",
      "    \"input_data_config\": {\n",
      "        \"test\": {\n",
      "            \"TrainingInputMode\": \"File\",\n",
      "            \"S3DistributionType\": \"FullyReplicated\",\n",
      "            \"RecordWrapperType\": \"None\"\n",
      "        },\n",
      "        \"train\": {\n",
      "            \"TrainingInputMode\": \"File\",\n",
      "            \"S3DistributionType\": \"FullyReplicated\",\n",
      "            \"RecordWrapperType\": \"None\"\n",
      "        }\n",
      "    },\n",
      "    \"input_dir\": \"/opt/ml/input\",\n",
      "    \"is_master\": true,\n",
      "    \"job_name\": \"huggingface-pytorch-training-2022-02-18-00-39-49-588\",\n",
      "    \"log_level\": 20,\n",
      "    \"master_hostname\": \"algo-1\",\n",
      "    \"model_dir\": \"/opt/ml/model\",\n",
      "    \"module_dir\": \"s3://sagemaker-us-east-1-647333706880/huggingface-pytorch-training-2022-02-18-00-39-49-588/source/sourcedir.tar.gz\",\n",
      "    \"module_name\": \"train\",\n",
      "    \"network_interface_name\": \"eth0\",\n",
      "    \"num_cpus\": 8,\n",
      "    \"num_gpus\": 1,\n",
      "    \"output_data_dir\": \"/opt/ml/output/data\",\n",
      "    \"output_dir\": \"/opt/ml/output\",\n",
      "    \"output_intermediate_dir\": \"/opt/ml/output/intermediate\",\n",
      "    \"resource_config\": {\n",
      "        \"current_host\": \"algo-1\",\n",
      "        \"hosts\": [\n",
      "            \"algo-1\"\n",
      "        ],\n",
      "        \"network_interface_name\": \"eth0\"\n",
      "    },\n",
      "    \"user_entry_point\": \"train.py\"\u001b[0m\n",
      "\u001b[34m}\u001b[0m\n",
      "\u001b[34mEnvironment variables:\u001b[0m\n",
      "\u001b[34mSM_HOSTS=[\"algo-1\"]\u001b[0m\n",
      "\u001b[34mSM_NETWORK_INTERFACE_NAME=eth0\u001b[0m\n",
      "\u001b[34mSM_HPS={\"epochs\":1,\"model_name\":\"distilbert-base-uncased\",\"train_batch_size\":32}\u001b[0m\n",
      "\u001b[34mSM_USER_ENTRY_POINT=train.py\u001b[0m\n",
      "\u001b[34mSM_FRAMEWORK_PARAMS={}\u001b[0m\n",
      "\u001b[34mSM_RESOURCE_CONFIG={\"current_host\":\"algo-1\",\"hosts\":[\"algo-1\"],\"network_interface_name\":\"eth0\"}\u001b[0m\n",
      "\u001b[34mSM_INPUT_DATA_CONFIG={\"test\":{\"RecordWrapperType\":\"None\",\"S3DistributionType\":\"FullyReplicated\",\"TrainingInputMode\":\"File\"},\"train\":{\"RecordWrapperType\":\"None\",\"S3DistributionType\":\"FullyReplicated\",\"TrainingInputMode\":\"File\"}}\u001b[0m\n",
      "\u001b[34mSM_OUTPUT_DATA_DIR=/opt/ml/output/data\u001b[0m\n",
      "\u001b[34mSM_CHANNELS=[\"test\",\"train\"]\u001b[0m\n",
      "\u001b[34mSM_CURRENT_HOST=algo-1\u001b[0m\n",
      "\u001b[34mSM_MODULE_NAME=train\u001b[0m\n",
      "\u001b[34mSM_LOG_LEVEL=20\u001b[0m\n",
      "\u001b[34mSM_FRAMEWORK_MODULE=sagemaker_pytorch_container.training:main\u001b[0m\n",
      "\u001b[34mSM_INPUT_DIR=/opt/ml/input\u001b[0m\n",
      "\u001b[34mSM_INPUT_CONFIG_DIR=/opt/ml/input/config\u001b[0m\n",
      "\u001b[34mSM_OUTPUT_DIR=/opt/ml/output\u001b[0m\n",
      "\u001b[34mSM_NUM_CPUS=8\u001b[0m\n",
      "\u001b[34mSM_NUM_GPUS=1\u001b[0m\n",
      "\u001b[34mSM_MODEL_DIR=/opt/ml/model\u001b[0m\n",
      "\u001b[34mSM_MODULE_DIR=s3://sagemaker-us-east-1-647333706880/huggingface-pytorch-training-2022-02-18-00-39-49-588/source/sourcedir.tar.gz\u001b[0m\n",
      "\u001b[34mSM_TRAINING_ENV={\"additional_framework_parameters\":{},\"channel_input_dirs\":{\"test\":\"/opt/ml/input/data/test\",\"train\":\"/opt/ml/input/data/train\"},\"current_host\":\"algo-1\",\"framework_module\":\"sagemaker_pytorch_container.training:main\",\"hosts\":[\"algo-1\"],\"hyperparameters\":{\"epochs\":1,\"model_name\":\"distilbert-base-uncased\",\"train_batch_size\":32},\"input_config_dir\":\"/opt/ml/input/config\",\"input_data_config\":{\"test\":{\"RecordWrapperType\":\"None\",\"S3DistributionType\":\"FullyReplicated\",\"TrainingInputMode\":\"File\"},\"train\":{\"RecordWrapperType\":\"None\",\"S3DistributionType\":\"FullyReplicated\",\"TrainingInputMode\":\"File\"}},\"input_dir\":\"/opt/ml/input\",\"is_master\":true,\"job_name\":\"huggingface-pytorch-training-2022-02-18-00-39-49-588\",\"log_level\":20,\"master_hostname\":\"algo-1\",\"model_dir\":\"/opt/ml/model\",\"module_dir\":\"s3://sagemaker-us-east-1-647333706880/huggingface-pytorch-training-2022-02-18-00-39-49-588/source/sourcedir.tar.gz\",\"module_name\":\"train\",\"network_interface_name\":\"eth0\",\"num_cpus\":8,\"num_gpus\":1,\"output_data_dir\":\"/opt/ml/output/data\",\"output_dir\":\"/opt/ml/output\",\"output_intermediate_dir\":\"/opt/ml/output/intermediate\",\"resource_config\":{\"current_host\":\"algo-1\",\"hosts\":[\"algo-1\"],\"network_interface_name\":\"eth0\"},\"user_entry_point\":\"train.py\"}\u001b[0m\n",
      "\u001b[34mSM_USER_ARGS=[\"--epochs\",\"1\",\"--model_name\",\"distilbert-base-uncased\",\"--train_batch_size\",\"32\"]\u001b[0m\n",
      "\u001b[34mSM_OUTPUT_INTERMEDIATE_DIR=/opt/ml/output/intermediate\u001b[0m\n",
      "\u001b[34mSM_CHANNEL_TEST=/opt/ml/input/data/test\u001b[0m\n",
      "\u001b[34mSM_CHANNEL_TRAIN=/opt/ml/input/data/train\u001b[0m\n",
      "\u001b[34mSM_HP_TRAIN_BATCH_SIZE=32\u001b[0m\n",
      "\u001b[34mSM_HP_MODEL_NAME=distilbert-base-uncased\u001b[0m\n",
      "\u001b[34mSM_HP_EPOCHS=1\u001b[0m\n",
      "\u001b[34mPYTHONPATH=/opt/ml/code:/opt/conda/bin:/opt/conda/lib/python36.zip:/opt/conda/lib/python3.6:/opt/conda/lib/python3.6/lib-dynload:/opt/conda/lib/python3.6/site-packages\u001b[0m\n",
      "\u001b[34mInvoking script with the following command:\u001b[0m\n",
      "\u001b[34m/opt/conda/bin/python3.6 train.py --epochs 1 --model_name distilbert-base-uncased --train_batch_size 32\u001b[0m\n",
      "\u001b[34m2022-02-18 00:46:28,698 - __main__ - INFO -  loaded train_dataset length is: 25000\u001b[0m\n",
      "\u001b[34m2022-02-18 00:46:28,698 - __main__ - INFO -  loaded test_dataset length is: 10000\u001b[0m\n",
      "\u001b[34m2022-02-18 00:46:28,733 - filelock - INFO - Lock 140690432969024 acquired on /root/.cache/huggingface/transformers/23454919702d26495337f3da04d1655c7ee010d5ec9d77bdb9e399e00302c0a1.91b885ab15d631bf9cee9dc9d25ece0afd932f2f5130eba28f2055b2220c0333.lock\u001b[0m\n",
      "\u001b[34m2022-02-18 00:46:28,762 - filelock - INFO - Lock 140690432969024 released on /root/.cache/huggingface/transformers/23454919702d26495337f3da04d1655c7ee010d5ec9d77bdb9e399e00302c0a1.91b885ab15d631bf9cee9dc9d25ece0afd932f2f5130eba28f2055b2220c0333.lock\u001b[0m\n",
      "\u001b[34m2022-02-18 00:46:28,793 - filelock - INFO - Lock 140690198083232 acquired on /root/.cache/huggingface/transformers/9c169103d7e5a73936dd2b627e42851bec0831212b677c637033ee4bce9ab5ee.126183e36667471617ae2f0835fab707baa54b731f991507ebbb55ea85adb12a.lock\u001b[0m\n",
      "\u001b[34m2022-02-18 00:46:33,413 - filelock - INFO - Lock 140690198083232 released on /root/.cache/huggingface/transformers/9c169103d7e5a73936dd2b627e42851bec0831212b677c637033ee4bce9ab5ee.126183e36667471617ae2f0835fab707baa54b731f991507ebbb55ea85adb12a.lock\u001b[0m\n",
      "\u001b[34mSome weights of the model checkpoint at distilbert-base-uncased were not used when initializing DistilBertForSequenceClassification: ['vocab_projector.bias', 'vocab_projector.weight', 'vocab_layer_norm.weight', 'vocab_layer_norm.bias', 'vocab_transform.weight', 'vocab_transform.bias']\u001b[0m\n",
      "\u001b[34m- This IS expected if you are initializing DistilBertForSequenceClassification from the checkpoint of a model trained on another task or with another architecture (e.g. initializing a BertForSequenceClassification model from a BertForPreTraining model).\u001b[0m\n",
      "\u001b[34m- This IS NOT expected if you are initializing DistilBertForSequenceClassification from the checkpoint of a model that you expect to be exactly identical (initializing a BertForSequenceClassification model from a BertForSequenceClassification model).\u001b[0m\n",
      "\u001b[34mSome weights of DistilBertForSequenceClassification were not initialized from the model checkpoint at distilbert-base-uncased and are newly initialized: ['classifier.bias', 'pre_classifier.bias', 'pre_classifier.weight', 'classifier.weight']\u001b[0m\n",
      "\u001b[34mYou should probably TRAIN this model on a down-stream task to be able to use it for predictions and inference.\u001b[0m\n",
      "\u001b[34m2022-02-18 00:46:34,348 - filelock - INFO - Lock 140690191919144 acquired on /root/.cache/huggingface/transformers/0e1bbfda7f63a99bb52e3915dcf10c3c92122b827d92eb2d34ce94ee79ba486c.d789d64ebfe299b0e416afc4a169632f903f693095b4629a7ea271d5a0cf2c99.lock\u001b[0m\n",
      "\u001b[34m2022-02-18 00:46:34,382 - filelock - INFO - Lock 140690191919144 released on /root/.cache/huggingface/transformers/0e1bbfda7f63a99bb52e3915dcf10c3c92122b827d92eb2d34ce94ee79ba486c.d789d64ebfe299b0e416afc4a169632f903f693095b4629a7ea271d5a0cf2c99.lock\u001b[0m\n",
      "\u001b[34m2022-02-18 00:46:34,410 - filelock - INFO - Lock 140690191919536 acquired on /root/.cache/huggingface/transformers/75abb59d7a06f4f640158a9bfcde005264e59e8d566781ab1415b139d2e4c603.7f2721073f19841be16f41b0a70b600ca6b880c8f3df6f3535cbc704371bdfa4.lock\u001b[0m\n",
      "\u001b[34m2022-02-18 00:46:34,448 - filelock - INFO - Lock 140690191919536 released on /root/.cache/huggingface/transformers/75abb59d7a06f4f640158a9bfcde005264e59e8d566781ab1415b139d2e4c603.7f2721073f19841be16f41b0a70b600ca6b880c8f3df6f3535cbc704371bdfa4.lock\u001b[0m\n",
      "\u001b[34m2022-02-18 00:46:34,540 - filelock - INFO - Lock 140690191920992 acquired on /root/.cache/huggingface/transformers/8c8624b8ac8aa99c60c912161f8332de003484428c47906d7ff7eb7f73eecdbb.20430bd8e10ef77a7d2977accefe796051e01bc2fc4aa146bc862997a1a15e79.lock\u001b[0m\n",
      "\u001b[34m2022-02-18 00:46:34,565 - filelock - INFO - Lock 140690191920992 released on /root/.cache/huggingface/transformers/8c8624b8ac8aa99c60c912161f8332de003484428c47906d7ff7eb7f73eecdbb.20430bd8e10ef77a7d2977accefe796051e01bc2fc4aa146bc862997a1a15e79.lock\u001b[0m\n",
      "\u001b[34m[2022-02-18 00:46:40.640 algo-1:26 INFO utils.py:27] RULE_JOB_STOP_SIGNAL_FILENAME: None\u001b[0m\n",
      "\u001b[34m[2022-02-18 00:46:40.815 algo-1:26 INFO profiler_config_parser.py:102] User has disabled profiler.\u001b[0m\n",
      "\u001b[34m[2022-02-18 00:46:40.816 algo-1:26 INFO json_config.py:91] Creating hook from json_config at /opt/ml/input/config/debughookconfig.json.\u001b[0m\n",
      "\u001b[34m[2022-02-18 00:46:40.817 algo-1:26 INFO hook.py:201] tensorboard_dir has not been set for the hook. SMDebug will not be exporting tensorboard summaries.\u001b[0m\n",
      "\u001b[34m[2022-02-18 00:46:40.818 algo-1:26 INFO hook.py:255] Saving to /opt/ml/output/tensors\u001b[0m\n",
      "\u001b[34m[2022-02-18 00:46:40.818 algo-1:26 INFO state_store.py:77] The checkpoint config file /opt/ml/input/config/checkpointconfig.json does not exist.\u001b[0m\n",
      "\u001b[34m[2022-02-18 00:46:41.027 algo-1:26 INFO hook.py:591] name:distilbert.embeddings.word_embeddings.weight count_params:23440896\u001b[0m\n",
      "\u001b[34m[2022-02-18 00:46:41.027 algo-1:26 INFO hook.py:591] name:distilbert.embeddings.position_embeddings.weight count_params:393216\u001b[0m\n",
      "\u001b[34m[2022-02-18 00:46:41.027 algo-1:26 INFO hook.py:591] name:distilbert.embeddings.LayerNorm.weight count_params:768\u001b[0m\n",
      "\u001b[34m[2022-02-18 00:46:41.028 algo-1:26 INFO hook.py:591] name:distilbert.embeddings.LayerNorm.bias count_params:768\u001b[0m\n",
      "\u001b[34m[2022-02-18 00:46:41.028 algo-1:26 INFO hook.py:591] name:distilbert.transformer.layer.0.attention.q_lin.weight count_params:589824\u001b[0m\n",
      "\u001b[34m[2022-02-18 00:46:41.028 algo-1:26 INFO hook.py:591] name:distilbert.transformer.layer.0.attention.q_lin.bias count_params:768\u001b[0m\n",
      "\u001b[34m[2022-02-18 00:46:41.028 algo-1:26 INFO hook.py:591] name:distilbert.transformer.layer.0.attention.k_lin.weight count_params:589824\u001b[0m\n",
      "\u001b[34m[2022-02-18 00:46:41.028 algo-1:26 INFO hook.py:591] name:distilbert.transformer.layer.0.attention.k_lin.bias count_params:768\u001b[0m\n",
      "\u001b[34m[2022-02-18 00:46:41.028 algo-1:26 INFO hook.py:591] name:distilbert.transformer.layer.0.attention.v_lin.weight count_params:589824\u001b[0m\n",
      "\u001b[34m[2022-02-18 00:46:41.028 algo-1:26 INFO hook.py:591] name:distilbert.transformer.layer.0.attention.v_lin.bias count_params:768\u001b[0m\n",
      "\u001b[34m[2022-02-18 00:46:41.029 algo-1:26 INFO hook.py:591] name:distilbert.transformer.layer.0.attention.out_lin.weight count_params:589824\u001b[0m\n",
      "\u001b[34m[2022-02-18 00:46:41.029 algo-1:26 INFO hook.py:591] name:distilbert.transformer.layer.0.attention.out_lin.bias count_params:768\u001b[0m\n",
      "\u001b[34m[2022-02-18 00:46:41.029 algo-1:26 INFO hook.py:591] name:distilbert.transformer.layer.0.sa_layer_norm.weight count_params:768\u001b[0m\n",
      "\u001b[34m[2022-02-18 00:46:41.029 algo-1:26 INFO hook.py:591] name:distilbert.transformer.layer.0.sa_layer_norm.bias count_params:768\u001b[0m\n",
      "\u001b[34m[2022-02-18 00:46:41.029 algo-1:26 INFO hook.py:591] name:distilbert.transformer.layer.0.ffn.lin1.weight count_params:2359296\u001b[0m\n",
      "\u001b[34m[2022-02-18 00:46:41.029 algo-1:26 INFO hook.py:591] name:distilbert.transformer.layer.0.ffn.lin1.bias count_params:3072\u001b[0m\n",
      "\u001b[34m[2022-02-18 00:46:41.029 algo-1:26 INFO hook.py:591] name:distilbert.transformer.layer.0.ffn.lin2.weight count_params:2359296\u001b[0m\n",
      "\u001b[34m[2022-02-18 00:46:41.030 algo-1:26 INFO hook.py:591] name:distilbert.transformer.layer.0.ffn.lin2.bias count_params:768\u001b[0m\n",
      "\u001b[34m[2022-02-18 00:46:41.030 algo-1:26 INFO hook.py:591] name:distilbert.transformer.layer.0.output_layer_norm.weight count_params:768\u001b[0m\n",
      "\u001b[34m[2022-02-18 00:46:41.030 algo-1:26 INFO hook.py:591] name:distilbert.transformer.layer.0.output_layer_norm.bias count_params:768\u001b[0m\n",
      "\u001b[34m[2022-02-18 00:46:41.030 algo-1:26 INFO hook.py:591] name:distilbert.transformer.layer.1.attention.q_lin.weight count_params:589824\u001b[0m\n",
      "\u001b[34m[2022-02-18 00:46:41.030 algo-1:26 INFO hook.py:591] name:distilbert.transformer.layer.1.attention.q_lin.bias count_params:768\u001b[0m\n",
      "\u001b[34m[2022-02-18 00:46:41.030 algo-1:26 INFO hook.py:591] name:distilbert.transformer.layer.1.attention.k_lin.weight count_params:589824\u001b[0m\n",
      "\u001b[34m[2022-02-18 00:46:41.030 algo-1:26 INFO hook.py:591] name:distilbert.transformer.layer.1.attention.k_lin.bias count_params:768\u001b[0m\n",
      "\u001b[34m[2022-02-18 00:46:41.031 algo-1:26 INFO hook.py:591] name:distilbert.transformer.layer.1.attention.v_lin.weight count_params:589824\u001b[0m\n",
      "\u001b[34m[2022-02-18 00:46:41.031 algo-1:26 INFO hook.py:591] name:distilbert.transformer.layer.1.attention.v_lin.bias count_params:768\u001b[0m\n",
      "\u001b[34m[2022-02-18 00:46:41.031 algo-1:26 INFO hook.py:591] name:distilbert.transformer.layer.1.attention.out_lin.weight count_params:589824\u001b[0m\n",
      "\u001b[34m[2022-02-18 00:46:41.031 algo-1:26 INFO hook.py:591] name:distilbert.transformer.layer.1.attention.out_lin.bias count_params:768\u001b[0m\n",
      "\u001b[34m[2022-02-18 00:46:41.031 algo-1:26 INFO hook.py:591] name:distilbert.transformer.layer.1.sa_layer_norm.weight count_params:768\u001b[0m\n",
      "\u001b[34m[2022-02-18 00:46:41.031 algo-1:26 INFO hook.py:591] name:distilbert.transformer.layer.1.sa_layer_norm.bias count_params:768\u001b[0m\n",
      "\u001b[34m[2022-02-18 00:46:41.031 algo-1:26 INFO hook.py:591] name:distilbert.transformer.layer.1.ffn.lin1.weight count_params:2359296\u001b[0m\n",
      "\u001b[34m[2022-02-18 00:46:41.032 algo-1:26 INFO hook.py:591] name:distilbert.transformer.layer.1.ffn.lin1.bias count_params:3072\u001b[0m\n",
      "\u001b[34m[2022-02-18 00:46:41.032 algo-1:26 INFO hook.py:591] name:distilbert.transformer.layer.1.ffn.lin2.weight count_params:2359296\u001b[0m\n",
      "\u001b[34m[2022-02-18 00:46:41.032 algo-1:26 INFO hook.py:591] name:distilbert.transformer.layer.1.ffn.lin2.bias count_params:768\u001b[0m\n",
      "\u001b[34m[2022-02-18 00:46:41.032 algo-1:26 INFO hook.py:591] name:distilbert.transformer.layer.1.output_layer_norm.weight count_params:768\u001b[0m\n",
      "\u001b[34m[2022-02-18 00:46:41.032 algo-1:26 INFO hook.py:591] name:distilbert.transformer.layer.1.output_layer_norm.bias count_params:768\u001b[0m\n",
      "\u001b[34m[2022-02-18 00:46:41.032 algo-1:26 INFO hook.py:591] name:distilbert.transformer.layer.2.attention.q_lin.weight count_params:589824\u001b[0m\n",
      "\u001b[34m[2022-02-18 00:46:41.032 algo-1:26 INFO hook.py:591] name:distilbert.transformer.layer.2.attention.q_lin.bias count_params:768\u001b[0m\n",
      "\u001b[34m[2022-02-18 00:46:41.032 algo-1:26 INFO hook.py:591] name:distilbert.transformer.layer.2.attention.k_lin.weight count_params:589824\u001b[0m\n",
      "\u001b[34m[2022-02-18 00:46:41.033 algo-1:26 INFO hook.py:591] name:distilbert.transformer.layer.2.attention.k_lin.bias count_params:768\u001b[0m\n",
      "\u001b[34m[2022-02-18 00:46:41.033 algo-1:26 INFO hook.py:591] name:distilbert.transformer.layer.2.attention.v_lin.weight count_params:589824\u001b[0m\n",
      "\u001b[34m[2022-02-18 00:46:41.033 algo-1:26 INFO hook.py:591] name:distilbert.transformer.layer.2.attention.v_lin.bias count_params:768\u001b[0m\n",
      "\u001b[34m[2022-02-18 00:46:41.033 algo-1:26 INFO hook.py:591] name:distilbert.transformer.layer.2.attention.out_lin.weight count_params:589824\u001b[0m\n",
      "\u001b[34m[2022-02-18 00:46:41.033 algo-1:26 INFO hook.py:591] name:distilbert.transformer.layer.2.attention.out_lin.bias count_params:768\u001b[0m\n",
      "\u001b[34m[2022-02-18 00:46:41.033 algo-1:26 INFO hook.py:591] name:distilbert.transformer.layer.2.sa_layer_norm.weight count_params:768\u001b[0m\n",
      "\u001b[34m[2022-02-18 00:46:41.033 algo-1:26 INFO hook.py:591] name:distilbert.transformer.layer.2.sa_layer_norm.bias count_params:768\u001b[0m\n",
      "\u001b[34m[2022-02-18 00:46:41.033 algo-1:26 INFO hook.py:591] name:distilbert.transformer.layer.2.ffn.lin1.weight count_params:2359296\u001b[0m\n",
      "\u001b[34m[2022-02-18 00:46:41.034 algo-1:26 INFO hook.py:591] name:distilbert.transformer.layer.2.ffn.lin1.bias count_params:3072\u001b[0m\n",
      "\u001b[34m[2022-02-18 00:46:41.034 algo-1:26 INFO hook.py:591] name:distilbert.transformer.layer.2.ffn.lin2.weight count_params:2359296\u001b[0m\n",
      "\u001b[34m[2022-02-18 00:46:41.034 algo-1:26 INFO hook.py:591] name:distilbert.transformer.layer.2.ffn.lin2.bias count_params:768\u001b[0m\n",
      "\u001b[34m[2022-02-18 00:46:41.034 algo-1:26 INFO hook.py:591] name:distilbert.transformer.layer.2.output_layer_norm.weight count_params:768\u001b[0m\n",
      "\u001b[34m[2022-02-18 00:46:41.034 algo-1:26 INFO hook.py:591] name:distilbert.transformer.layer.2.output_layer_norm.bias count_params:768\u001b[0m\n",
      "\u001b[34m[2022-02-18 00:46:41.034 algo-1:26 INFO hook.py:591] name:distilbert.transformer.layer.3.attention.q_lin.weight count_params:589824\u001b[0m\n",
      "\u001b[34m[2022-02-18 00:46:41.034 algo-1:26 INFO hook.py:591] name:distilbert.transformer.layer.3.attention.q_lin.bias count_params:768\u001b[0m\n",
      "\u001b[34m[2022-02-18 00:46:41.035 algo-1:26 INFO hook.py:591] name:distilbert.transformer.layer.3.attention.k_lin.weight count_params:589824\u001b[0m\n",
      "\u001b[34m[2022-02-18 00:46:41.035 algo-1:26 INFO hook.py:591] name:distilbert.transformer.layer.3.attention.k_lin.bias count_params:768\u001b[0m\n",
      "\u001b[34m[2022-02-18 00:46:41.035 algo-1:26 INFO hook.py:591] name:distilbert.transformer.layer.3.attention.v_lin.weight count_params:589824\u001b[0m\n",
      "\u001b[34m[2022-02-18 00:46:41.035 algo-1:26 INFO hook.py:591] name:distilbert.transformer.layer.3.attention.v_lin.bias count_params:768\u001b[0m\n",
      "\u001b[34m[2022-02-18 00:46:41.035 algo-1:26 INFO hook.py:591] name:distilbert.transformer.layer.3.attention.out_lin.weight count_params:589824\u001b[0m\n",
      "\u001b[34m[2022-02-18 00:46:41.035 algo-1:26 INFO hook.py:591] name:distilbert.transformer.layer.3.attention.out_lin.bias count_params:768\u001b[0m\n",
      "\u001b[34m[2022-02-18 00:46:41.035 algo-1:26 INFO hook.py:591] name:distilbert.transformer.layer.3.sa_layer_norm.weight count_params:768\u001b[0m\n",
      "\u001b[34m[2022-02-18 00:46:41.035 algo-1:26 INFO hook.py:591] name:distilbert.transformer.layer.3.sa_layer_norm.bias count_params:768\u001b[0m\n",
      "\u001b[34m[2022-02-18 00:46:41.035 algo-1:26 INFO hook.py:591] name:distilbert.transformer.layer.3.ffn.lin1.weight count_params:2359296\u001b[0m\n",
      "\u001b[34m[2022-02-18 00:46:41.036 algo-1:26 INFO hook.py:591] name:distilbert.transformer.layer.3.ffn.lin1.bias count_params:3072\u001b[0m\n",
      "\u001b[34m[2022-02-18 00:46:41.036 algo-1:26 INFO hook.py:591] name:distilbert.transformer.layer.3.ffn.lin2.weight count_params:2359296\u001b[0m\n",
      "\u001b[34m[2022-02-18 00:46:41.036 algo-1:26 INFO hook.py:591] name:distilbert.transformer.layer.3.ffn.lin2.bias count_params:768\u001b[0m\n",
      "\u001b[34m[2022-02-18 00:46:41.036 algo-1:26 INFO hook.py:591] name:distilbert.transformer.layer.3.output_layer_norm.weight count_params:768\u001b[0m\n",
      "\u001b[34m[2022-02-18 00:46:41.036 algo-1:26 INFO hook.py:591] name:distilbert.transformer.layer.3.output_layer_norm.bias count_params:768\u001b[0m\n",
      "\u001b[34m[2022-02-18 00:46:41.036 algo-1:26 INFO hook.py:591] name:distilbert.transformer.layer.4.attention.q_lin.weight count_params:589824\u001b[0m\n",
      "\u001b[34m[2022-02-18 00:46:41.036 algo-1:26 INFO hook.py:591] name:distilbert.transformer.layer.4.attention.q_lin.bias count_params:768\u001b[0m\n",
      "\u001b[34m[2022-02-18 00:46:41.037 algo-1:26 INFO hook.py:591] name:distilbert.transformer.layer.4.attention.k_lin.weight count_params:589824\u001b[0m\n",
      "\u001b[34m[2022-02-18 00:46:41.037 algo-1:26 INFO hook.py:591] name:distilbert.transformer.layer.4.attention.k_lin.bias count_params:768\u001b[0m\n",
      "\u001b[34m[2022-02-18 00:46:41.037 algo-1:26 INFO hook.py:591] name:distilbert.transformer.layer.4.attention.v_lin.weight count_params:589824\u001b[0m\n",
      "\u001b[34m[2022-02-18 00:46:41.037 algo-1:26 INFO hook.py:591] name:distilbert.transformer.layer.4.attention.v_lin.bias count_params:768\u001b[0m\n",
      "\u001b[34m[2022-02-18 00:46:41.037 algo-1:26 INFO hook.py:591] name:distilbert.transformer.layer.4.attention.out_lin.weight count_params:589824\u001b[0m\n",
      "\u001b[34m[2022-02-18 00:46:41.037 algo-1:26 INFO hook.py:591] name:distilbert.transformer.layer.4.attention.out_lin.bias count_params:768\u001b[0m\n",
      "\u001b[34m[2022-02-18 00:46:41.038 algo-1:26 INFO hook.py:591] name:distilbert.transformer.layer.4.sa_layer_norm.weight count_params:768\u001b[0m\n",
      "\u001b[34m[2022-02-18 00:46:41.038 algo-1:26 INFO hook.py:591] name:distilbert.transformer.layer.4.sa_layer_norm.bias count_params:768\u001b[0m\n",
      "\u001b[34m[2022-02-18 00:46:41.038 algo-1:26 INFO hook.py:591] name:distilbert.transformer.layer.4.ffn.lin1.weight count_params:2359296\u001b[0m\n",
      "\u001b[34m[2022-02-18 00:46:41.038 algo-1:26 INFO hook.py:591] name:distilbert.transformer.layer.4.ffn.lin1.bias count_params:3072\u001b[0m\n",
      "\u001b[34m[2022-02-18 00:46:41.038 algo-1:26 INFO hook.py:591] name:distilbert.transformer.layer.4.ffn.lin2.weight count_params:2359296\u001b[0m\n",
      "\u001b[34m[2022-02-18 00:46:41.038 algo-1:26 INFO hook.py:591] name:distilbert.transformer.layer.4.ffn.lin2.bias count_params:768\u001b[0m\n",
      "\u001b[34m[2022-02-18 00:46:41.038 algo-1:26 INFO hook.py:591] name:distilbert.transformer.layer.4.output_layer_norm.weight count_params:768\u001b[0m\n",
      "\u001b[34m[2022-02-18 00:46:41.039 algo-1:26 INFO hook.py:591] name:distilbert.transformer.layer.4.output_layer_norm.bias count_params:768\u001b[0m\n",
      "\u001b[34m[2022-02-18 00:46:41.039 algo-1:26 INFO hook.py:591] name:distilbert.transformer.layer.5.attention.q_lin.weight count_params:589824\u001b[0m\n",
      "\u001b[34m[2022-02-18 00:46:41.039 algo-1:26 INFO hook.py:591] name:distilbert.transformer.layer.5.attention.q_lin.bias count_params:768\u001b[0m\n",
      "\u001b[34m[2022-02-18 00:46:41.039 algo-1:26 INFO hook.py:591] name:distilbert.transformer.layer.5.attention.k_lin.weight count_params:589824\u001b[0m\n",
      "\u001b[34m[2022-02-18 00:46:41.039 algo-1:26 INFO hook.py:591] name:distilbert.transformer.layer.5.attention.k_lin.bias count_params:768\u001b[0m\n",
      "\u001b[34m[2022-02-18 00:46:41.039 algo-1:26 INFO hook.py:591] name:distilbert.transformer.layer.5.attention.v_lin.weight count_params:589824\u001b[0m\n",
      "\u001b[34m[2022-02-18 00:46:41.039 algo-1:26 INFO hook.py:591] name:distilbert.transformer.layer.5.attention.v_lin.bias count_params:768\u001b[0m\n",
      "\u001b[34m[2022-02-18 00:46:41.039 algo-1:26 INFO hook.py:591] name:distilbert.transformer.layer.5.attention.out_lin.weight count_params:589824\u001b[0m\n",
      "\u001b[34m[2022-02-18 00:46:41.039 algo-1:26 INFO hook.py:591] name:distilbert.transformer.layer.5.attention.out_lin.bias count_params:768\u001b[0m\n",
      "\u001b[34m[2022-02-18 00:46:41.040 algo-1:26 INFO hook.py:591] name:distilbert.transformer.layer.5.sa_layer_norm.weight count_params:768\u001b[0m\n",
      "\u001b[34m[2022-02-18 00:46:41.040 algo-1:26 INFO hook.py:591] name:distilbert.transformer.layer.5.sa_layer_norm.bias count_params:768\u001b[0m\n",
      "\u001b[34m[2022-02-18 00:46:41.040 algo-1:26 INFO hook.py:591] name:distilbert.transformer.layer.5.ffn.lin1.weight count_params:2359296\u001b[0m\n",
      "\u001b[34m[2022-02-18 00:46:41.040 algo-1:26 INFO hook.py:591] name:distilbert.transformer.layer.5.ffn.lin1.bias count_params:3072\u001b[0m\n",
      "\u001b[34m[2022-02-18 00:46:41.040 algo-1:26 INFO hook.py:591] name:distilbert.transformer.layer.5.ffn.lin2.weight count_params:2359296\u001b[0m\n",
      "\u001b[34m[2022-02-18 00:46:41.040 algo-1:26 INFO hook.py:591] name:distilbert.transformer.layer.5.ffn.lin2.bias count_params:768\u001b[0m\n",
      "\u001b[34m[2022-02-18 00:46:41.040 algo-1:26 INFO hook.py:591] name:distilbert.transformer.layer.5.output_layer_norm.weight count_params:768\u001b[0m\n",
      "\u001b[34m[2022-02-18 00:46:41.040 algo-1:26 INFO hook.py:591] name:distilbert.transformer.layer.5.output_layer_norm.bias count_params:768\u001b[0m\n",
      "\u001b[34m[2022-02-18 00:46:41.040 algo-1:26 INFO hook.py:591] name:pre_classifier.weight count_params:589824\u001b[0m\n",
      "\u001b[34m[2022-02-18 00:46:41.041 algo-1:26 INFO hook.py:591] name:pre_classifier.bias count_params:768\u001b[0m\n",
      "\u001b[34m[2022-02-18 00:46:41.041 algo-1:26 INFO hook.py:591] name:classifier.weight count_params:1536\u001b[0m\n",
      "\u001b[34m[2022-02-18 00:46:41.041 algo-1:26 INFO hook.py:591] name:classifier.bias count_params:2\u001b[0m\n",
      "\u001b[34m[2022-02-18 00:46:41.041 algo-1:26 INFO hook.py:593] Total Trainable Params: 66955010\u001b[0m\n",
      "\u001b[34m[2022-02-18 00:46:41.041 algo-1:26 INFO hook.py:425] Monitoring the collections: losses\u001b[0m\n",
      "\u001b[34m[2022-02-18 00:46:41.044 algo-1:26 INFO hook.py:488] Hook is writing from the hook with pid: 26\u001b[0m\n",
      "\u001b[34m{'loss': 0.3519, 'learning_rate': 5e-05, 'epoch': 0.64}\u001b[0m\n",
      "\u001b[34m{'eval_loss': 0.19036532938480377, 'eval_accuracy': 0.9273, 'eval_f1': 0.9274523500648637, 'eval_precision': 0.9294, 'eval_recall': 0.9255128460466042, 'eval_runtime': 51.4136, 'eval_samples_per_second': 194.501, 'epoch': 1.0}\u001b[0m\n",
      "\u001b[34m{'train_runtime': 493.8111, 'train_samples_per_second': 1.584, 'epoch': 1.0}\u001b[0m\n",
      "\u001b[34m***** Eval results *****\u001b[0m\n",
      "\u001b[34m#015Downloading:   0%|          | 0.00/483 [00:00<?, ?B/s]#015Downloading: 100%|██████████| 483/483 [00:00<00:00, 566kB/s]\u001b[0m\n",
      "\u001b[34m#015Downloading:   0%|          | 0.00/268M [00:00<?, ?B/s]#015Downloading:   2%|▏         | 5.03M/268M [00:00<00:05, 50.3MB/s]#015Downloading:   4%|▍         | 10.3M/268M [00:00<00:05, 50.9MB/s]#015Downloading:   6%|▌         | 15.4M/268M [00:00<00:04, 50.9MB/s]#015Downloading:   8%|▊         | 20.8M/268M [00:00<00:04, 52.0MB/s]#015Downloading:  10%|▉         | 26.3M/268M [00:00<00:04, 52.8MB/s]#015Downloading:  12%|█▏        | 31.8M/268M [00:00<00:04, 53.5MB/s]#015Downloading:  14%|█▍        | 37.4M/268M [00:00<00:04, 54.1MB/s]#015Downloading:  16%|█▌        | 43.0M/268M [00:00<00:04, 54.7MB/s]#015Downloading:  18%|█▊        | 48.6M/268M [00:00<00:03, 55.0MB/s]#015Downloading:  20%|██        | 54.2M/268M [00:01<00:03, 55.3MB/s]#015Downloading:  22%|██▏       | 59.6M/268M [00:01<00:03, 54.0MB/s]#015Downloading:  24%|██▍       | 65.1M/268M [00:01<00:03, 54.3MB/s]#015Downloading:  26%|██▋       | 70.9M/268M [00:01<00:03, 55.3MB/s]#015Downloading:  29%|██▊       | 76.9M/268M [00:01<00:03, 56.8MB/s]#015Downloading:  31%|███       | 82.8M/268M [00:01<00:03, 57.4MB/s]#015Downloading:  33%|███▎      | 88.7M/268M [00:01<00:03, 57.7MB/s]#015Downloading:  35%|███▌      | 94.8M/268M [00:01<00:02, 58.8MB/s]#015Downloading:  38%|███▊      | 101M/268M [00:01<00:02, 59.5MB/s] #015Downloading:  40%|███▉      | 107M/268M [00:01<00:02, 60.1MB/s]#015Downloading:  42%|████▏     | 113M/268M [00:02<00:02, 60.5MB/s]#015Downloading:  45%|████▍     | 119M/268M [00:02<00:02, 61.0MB/s]#015Downloading:  47%|████▋     | 126M/268M [00:02<00:02, 61.0MB/s]#015Downloading:  49%|████▉     | 132M/268M [00:02<00:02, 60.0MB/s]#015Downloading:  51%|█████▏    | 138M/268M [00:02<00:02, 59.7MB/s]#015Downloading:  54%|█████▎    | 144M/268M [00:02<00:02, 59.7MB/s]#015Downloading:  56%|█████▌    | 150M/268M [00:02<00:01, 60.2MB/s]#015Downloading:  58%|█████▊    | 156M/268M [00:02<00:01, 60.7MB/s]#015Downloading:  61%|██████    | 162M/268M [00:02<00:01, 61.1MB/s]#015Downloading:  63%|██████▎   | 168M/268M [00:02<00:01, 61.3MB/s]#015Downloading:  65%|██████▌   | 175M/268M [00:03<00:01, 61.5MB/s]#015Downloading:  67%|██████▋   | 181M/268M [00:03<00:01, 61.6MB/s]#015Downloading:  70%|██████▉   | 187M/268M [00:03<00:01, 61.2MB/s]#015Downloading:  72%|███████▏  | 193M/268M [00:03<00:01, 53.8MB/s]#015Downloading:  74%|███████▍  | 199M/268M [00:03<00:01, 55.3MB/s]#015Downloading:  76%|███████▋  | 205M/268M [00:03<00:01, 56.2MB/s]#015Downloading:  79%|███████▊  | 211M/268M [00:03<00:00, 57.8MB/s]#015Downloading:  81%|████████  | 217M/268M [00:03<00:00, 59.1MB/s]#015Downloading:  83%|████████▎ | 223M/268M [00:03<00:00, 59.8MB/s]#015Downloading:  86%|████████▌ | 230M/268M [00:03<00:00, 60.5MB/s]#015Downloading:  88%|████████▊ | 236M/268M [00:04<00:00, 60.4MB/s]#015Downloading:  90%|█████████ | 242M/268M [00:04<00:00, 60.9MB/s]#015Downloading:  93%|█████████▎| 248M/268M [00:04<00:00, 61.2MB/s]#015Downloading:  95%|█████████▍| 254M/268M [00:04<00:00, 60.5MB/s]#015Downloading:  97%|█████████▋| 260M/268M [00:04<00:00, 60.9MB/s]#015Downloading:  99%|█████████▉| 267M/268M [00:04<00:00, 60.8MB/s]#015Downloading: 100%|██████████| 268M/268M [00:04<00:00, 58.4MB/s]\u001b[0m\n",
      "\u001b[34mSome weights of the model checkpoint at distilbert-base-uncased were not used when initializing DistilBertForSequenceClassification: ['vocab_projector.bias', 'vocab_projector.weight', 'vocab_layer_norm.weight', 'vocab_layer_norm.bias', 'vocab_transform.weight', 'vocab_transform.bias']\u001b[0m\n",
      "\u001b[34m- This IS expected if you are initializing DistilBertForSequenceClassification from the checkpoint of a model trained on another task or with another architecture (e.g. initializing a BertForSequenceClassification model from a BertForPreTraining model).\u001b[0m\n",
      "\u001b[34m- This IS NOT expected if you are initializing DistilBertForSequenceClassification from the checkpoint of a model that you expect to be exactly identical (initializing a BertForSequenceClassification model from a BertForSequenceClassification model).\u001b[0m\n",
      "\u001b[34mSome weights of DistilBertForSequenceClassification were not initialized from the model checkpoint at distilbert-base-uncased and are newly initialized: ['classifier.bias', 'pre_classifier.bias', 'pre_classifier.weight', 'classifier.weight']\u001b[0m\n",
      "\u001b[34mYou should probably TRAIN this model on a down-stream task to be able to use it for predictions and inference.\u001b[0m\n",
      "\u001b[34m#015Downloading:   0%|          | 0.00/232k [00:00<?, ?B/s]#015Downloading: 100%|██████████| 232k/232k [00:00<00:00, 35.9MB/s]\u001b[0m\n",
      "\u001b[34m#015Downloading:   0%|          | 0.00/466k [00:00<?, ?B/s]#015Downloading: 100%|██████████| 466k/466k [00:00<00:00, 49.2MB/s]\u001b[0m\n",
      "\u001b[34m#015Downloading:   0%|          | 0.00/28.0 [00:00<?, ?B/s]#015Downloading: 100%|██████████| 28.0/28.0 [00:00<00:00, 39.9kB/s]\u001b[0m\n",
      "\u001b[34m2022-02-18 00:55:47,415 sagemaker-training-toolkit INFO     Reporting training SUCCESS\u001b[0m\n",
      "\u001b[34m#015  0%|          | 0/782 [00:00<?, ?it/s]#015  0%|          | 1/782 [00:02<32:32,  2.50s/it]#015  0%|          | 2/782 [00:03<24:53,  1.92s/it]#015  0%|          | 3/782 [00:03<19:41,  1.52s/it]#015  1%|          | 4/782 [00:04<15:58,  1.23s/it]#015  1%|          | 5/782 [00:04<13:15,  1.02s/it]#015  1%|          | 6/782 [00:05<11:23,  1.14it/s]#015  1%|          | 7/782 [00:05<10:16,  1.26it/s]#015  1%|          | 8/782 [00:06<09:17,  1.39it/s]#015  1%|          | 9/782 [00:06<08:36,  1.50it/s]#015  1%|▏         | 10/782 [00:07<08:16,  1.56it/s]#015  1%|▏         | 11/782 [00:08<07:56,  1.62it/s]#015  2%|▏         | 12/782 [00:08<07:38,  1.68it/s]#015  2%|▏         | 13/782 [00:09<07:30,  1.71it/s]#015  2%|▏         | 14/782 [00:09<07:20,  1.74it/s]#015  2%|▏         | 15/782 [00:10<07:11,  1.78it/s]#015  2%|▏         | 16/782 [00:10<07:07,  1.79it/s]#015  2%|▏         | 17/782 [00:11<07:05,  1.80it/s]#015  2%|▏         | 18/782 [00:11<07:03,  1.80it/s]#015  2%|▏         | 19/782 [00:12<06:59,  1.82it/s]#015  3%|▎         | 20/782 [00:13<06:57,  1.82it/s]#015  3%|▎         | 21/782 [00:13<06:57,  1.82it/s]#015  3%|▎         | 22/782 [00:14<06:56,  1.83it/s]#015  3%|▎         | 23/782 [00:14<07:00,  1.80it/s]#015  3%|▎         | 24/782 [00:15<06:57,  1.81it/s]#015  3%|▎         | 25/782 [00:15<06:54,  1.82it/s]#015  3%|▎         | 26/782 [00:16<06:52,  1.83it/s]#015  3%|▎         | 27/782 [00:16<06:53,  1.83it/s]#015  4%|▎         | 28/782 [00:17<06:50,  1.84it/s]#015  4%|▎         | 29/782 [00:17<06:49,  1.84it/s]#015  4%|▍         | 30/782 [00:18<06:50,  1.83it/s]#015  4%|▍         | 31/782 [00:19<06:51,  1.82it/s]#015  4%|▍         | 32/782 [00:19<07:02,  1.78it/s]#015  4%|▍         | 33/782 [00:20<06:55,  1.80it/s]#015  4%|▍         | 34/782 [00:20<06:51,  1.82it/s]#015  4%|▍         | 35/782 [00:21<06:52,  1.81it/s]#015  5%|▍         | 36/782 [00:21<06:56,  1.79it/s]#015  5%|▍         | 37/782 [00:22<06:55,  1.79it/s]#015  5%|▍         | 38/782 [00:22<06:53,  1.80it/s]#015  5%|▍         | 39/782 [00:23<06:48,  1.82it/s]#015  5%|▌         | 40/782 [00:24<06:49,  1.81it/s]#015  5%|▌         | 41/782 [00:24<06:52,  1.80it/s]#015  5%|▌         | 42/782 [00:25<06:49,  1.81it/s]#015  5%|▌         | 43/782 [00:25<06:45,  1.82it/s]#015  6%|▌         | 44/782 [00:26<06:43,  1.83it/s]#015  6%|▌         | 45/782 [00:26<06:44,  1.82it/s]#015  6%|▌         | 46/782 [00:27<06:43,  1.83it/s]#015  6%|▌         | 47/782 [00:27<06:44,  1.82it/s]#015  6%|▌         | 48/782 [00:28<06:42,  1.82it/s]#015  6%|▋         | 49/782 [00:28<06:39,  1.84it/s]#015  6%|▋         | 50/782 [00:29<06:38,  1.84it/s]#015  7%|▋         | 51/782 [00:30<06:37,  1.84it/s]#015  7%|▋         | 52/782 [00:30<06:39,  1.83it/s]#015  7%|▋         | 53/782 [00:31<06:37,  1.83it/s]#015  7%|▋         | 54/782 [00:31<06:37,  1.83it/s]#015  7%|▋         | 55/782 [00:32<06:36,  1.83it/s]#015  7%|▋         | 56/782 [00:32<06:37,  1.83it/s]#015  7%|▋         | 57/782 [00:33<06:38,  1.82it/s]#015  7%|▋         | 58/782 [00:33<06:37,  1.82it/s]#015  8%|▊         | 59/782 [00:34<06:34,  1.83it/s]#015  8%|▊         | 60/782 [00:35<06:33,  1.83it/s]#015  8%|▊         | 61/782 [00:35<06:34,  1.83it/s]#015  8%|▊         | 62/782 [00:36<06:36,  1.81it/s]#015  8%|▊         | 63/782 [00:36<06:34,  1.82it/s]#015  8%|▊         | 64/782 [00:37<06:32,  1.83it/s]#015  8%|▊         | 65/782 [00:37<06:32,  1.83it/s]#015  8%|▊         | 66/782 [00:38<06:34,  1.82it/s]#015  9%|▊         | 67/782 [00:38<06:37,  1.80it/s]#015  9%|▊         | 68/782 [00:39<06:42,  1.77it/s]#015  9%|▉         | 69/782 [00:40<06:39,  1.79it/s]#015  9%|▉         | 70/782 [00:40<06:35,  1.80it/s]#015  9%|▉         | 71/782 [00:41<06:32,  1.81it/s]#015  9%|▉         | 72/782 [00:41<06:33,  1.81it/s]#015  9%|▉         | 73/782 [00:42<06:42,  1.76it/s]#015  9%|▉         | 74/782 [00:42<06:45,  1.75it/s]#015 10%|▉         | 75/782 [00:43<06:39,  1.77it/s]#015 10%|▉         | 76/782 [00:43<06:35,  1.78it/s]#015 10%|▉         | 77/782 [00:44<06:33,  1.79it/s]#015 10%|▉         | 78/782 [00:45<06:32,  1.79it/s]#015 10%|█         | 79/782 [00:45<06:30,  1.80it/s]#015 10%|█         | 80/782 [00:46<06:28,  1.81it/s]#015 10%|█         | 81/782 [00:46<06:30,  1.80it/s]#015 10%|█         | 82/782 [00:47<06:30,  1.79it/s]#015 11%|█         | 83/782 [00:47<06:30,  1.79it/s]#015 11%|█         | 84/782 [00:48<06:29,  1.79it/s]#015 11%|█         | 85/782 [00:48<06:27,  1.80it/s]#015 11%|█         | 86/782 [00:49<06:25,  1.81it/s]#015 11%|█         | 87/782 [00:50<06:25,  1.80it/s]#015 11%|█▏        | 88/782 [00:50<06:30,  1.78it/s]#015 11%|█▏        | 89/782 [00:51<06:27,  1.79it/s]#015 12%|█▏        | 90/782 [00:51<06:24,  1.80it/s]#015 12%|█▏        | 91/782 [00:52<06:25,  1.79it/s]#015 12%|█▏        | 92/782 [00:52<06:25,  1.79it/s]#015 12%|█▏        | 93/782 [00:53<06:25,  1.79it/s]#015 12%|█▏        | 94/782 [00:53<06:23,  1.80it/s]#015 12%|█▏        | 95/782 [00:54<06:20,  1.80it/s]#015 12%|█▏        | 96/782 [00:55<06:24,  1.78it/s]#015 12%|█▏        | 97/782 [00:55<06:20,  1.80it/s]#015 13%|█▎        | 98/782 [00:56<06:19,  1.80it/s]#015 13%|█▎        | 99/782 [00:56<06:18,  1.80it/s]#015 13%|█▎        | 100/782 [00:57<06:16,  1.81it/s]#015 13%|█▎        | 101/782 [00:57<06:15,  1.81it/s]#015 13%|█▎        | 102/782 [00:58<06:18,  1.80it/s]#015 13%|█▎        | 103/782 [00:58<06:22,  1.77it/s]#015 13%|█▎        | 104/782 [00:59<06:22,  1.77it/s]#015 13%|█▎        | 105/782 [01:00<06:20,  1.78it/s]#015 14%|█▎        | 106/782 [01:00<06:18,  1.79it/s]#015 14%|█▎        | 107/782 [01:01<06:16,  1.79it/s]#015 14%|█▍        | 108/782 [01:01<06:14,  1.80it/s]#015 14%|█▍        | 109/782 [01:02<06:13,  1.80it/s]#015 14%|█▍        | 110/782 [01:02<06:12,  1.81it/s]#015 14%|█▍        | 111/782 [01:03<06:12,  1.80it/s]#015 14%|█▍        | 112/782 [01:04<06:15,  1.79it/s]#015 14%|█▍        | 113/782 [01:04<06:15,  1.78it/s]#015 15%|█▍        | 114/782 [01:05<06:12,  1.80it/s]#015 15%|█▍        | 115/782 [01:05<06:09,  1.80it/s]#015 15%|█▍        | 116/782 [01:06<06:07,  1.81it/s]#015 15%|█▍        | 117/782 [01:06<06:06,  1.82it/s]#015 15%|█▌        | 118/782 [01:07<06:06,  1.81it/s]#015 15%|█▌        | 119/782 [01:07<06:06,  1.81it/s]#015 15%|█▌        | 120/782 [01:08<06:07,  1.80it/s]#015 15%|█▌        | 121/782 [01:08<06:06,  1.80it/s]#015 16%|█▌        | 122/782 [01:09<06:04,  1.81it/s]#015 16%|█▌        | 123/782 [01:10<06:06,  1.80it/s]#015 16%|█▌        | 124/782 [01:10<06:06,  1.79it/s]#015 16%|█▌        | 125/782 [01:11<06:07,  1.79it/s]#015 16%|█▌        | 126/782 [01:11<06:05,  1.79it/s]#015 16%|█▌        | 127/782 [01:12<06:03,  1.80it/s]#015 16%|█▋        | 128/782 [01:12<06:01,  1.81it/s]#015 16%|█▋        | 129/782 [01:13<06:09,  1.77it/s]#015 17%|█▋        | 130/782 [01:14<06:06,  1.78it/s]#015 17%|█▋        | 131/782 [01:14<06:04,  1.78it/s]#015 17%|█▋        | 132/782 [01:15<06:02,  1.79it/s]#015 17%|█▋        | 133/782 [01:15<06:00,  1.80it/s]#015 17%|█▋        | 134/782 [01:16<06:02,  1.79it/s]#015 17%|█▋        | 135/782 [01:16<06:02,  1.79it/s]#015 17%|█▋        | 136/782 [01:17<06:00,  1.79it/s]#015 18%|█▊        | 137/782 [01:17<05:59,  1.79it/s]#015 18%|█▊        | 138/782 [01:18<06:02,  1.78it/s]#015 18%|█▊        | 139/782 [01:19<06:00,  1.78it/s]#015 18%|█▊        | 140/782 [01:19<05:58,  1.79it/s]#015 18%|█▊        | 141/782 [01:20<05:57,  1.79it/s]#015 18%|█▊        | 142/782 [01:20<05:55,  1.80it/s]#015 18%|█▊        | 143/782 [01:21<05:58,  1.78it/s]#015 18%|█▊        | 144/782 [01:21<06:01,  1.76it/s]#015 19%|█▊        | 145/782 [01:22<05:59,  1.77it/s]#015 19%|█▊        | 146/782 [01:23<06:01,  1.76it/s]#015 19%|█▉        | 147/782 [01:23<06:03,  1.75it/s]#015 19%|█▉        | 148/782 [01:24<06:02,  1.75it/s]#015 19%|█▉        | 149/782 [01:24<06:04,  1.74it/s]#015 19%|█▉        | 150/782 [01:25<06:01,  1.75it/s]#015 19%|█▉        | 151/782 [01:25<05:57,  1.76it/s]#015 19%|█▉        | 152/782 [01:26<05:56,  1.77it/s]#015 20%|█▉        | 153/782 [01:26<05:53,  1.78it/s]#015 20%|█▉        | 154/782 [01:27<05:53,  1.78it/s]#015 20%|█▉        | 155/782 [01:28<05:52,  1.78it/s]#015 20%|█▉        | 156/782 [01:28<05:54,  1.77it/s]#015 20%|██        | 157/782 [01:29<05:52,  1.78it/s]#015 20%|██        | 158/782 [01:29<05:50,  1.78it/s]#015 20%|██        | 159/782 [01:30<05:48,  1.79it/s]#015 20%|██        | 160/782 [01:30<05:47,  1.79it/s]#015 21%|██        | 161/782 [01:31<05:48,  1.78it/s]#015 21%|██        | 162/782 [01:32<05:46,  1.79it/s]#015 21%|██        | 163/782 [01:32<05:45,  1.79it/s]#015 21%|██        | 164/782 [01:33<05:45,  1.79it/s]#015 21%|██        | 165/782 [01:33<05:47,  1.77it/s]#015 21%|██        | 166/782 [01:34<05:47,  1.77it/s]#015 21%|██▏       | 167/782 [01:34<05:46,  1.77it/s]#015 21%|██▏       | 168/782 [01:35<05:45,  1.77it/s]#015 22%|██▏       | 169/782 [01:35<05:43,  1.79it/s]#015 22%|██▏       | 170/782 [01:36<05:41,  1.79it/s]#015 22%|██▏       | 171/782 [01:37<05:40,  1.80it/s]#015 22%|██▏       | 172/782 [01:37<05:41,  1.79it/s]#015 22%|██▏       | 173/782 [01:38<05:40,  1.79it/s]#015 22%|██▏       | 174/782 [01:38<05:42,  1.77it/s]#015 22%|██▏       | 175/782 [01:39<05:40,  1.78it/s]#015 23%|██▎       | 176/782 [01:39<05:40,  1.78it/s]#015 23%|██▎       | 177/782 [01:40<05:37,  1.79it/s]#015 23%|██▎       | 178/782 [01:40<05:36,  1.79it/s]#015 23%|██▎       | 179/782 [01:41<05:34,  1.80it/s]#015 23%|██▎       | 180/782 [01:42<05:33,  1.80it/s]#015 23%|██▎       | 181/782 [01:42<05:35,  1.79it/s]#015 23%|██▎       | 182/782 [01:43<05:35,  1.79it/s]#015 23%|██▎       | 183/782 [01:43<05:34,  1.79it/s]#015 24%|██▎       | 184/782 [01:44<05:36,  1.78it/s]#015 24%|██▎       | 185/782 [01:44<05:34,  1.78it/s]#015 24%|██▍       | 186/782 [01:45<05:33,  1.79it/s]#015 24%|██▍       | 187/782 [01:46<05:32,  1.79it/s]#015 24%|██▍       | 188/782 [01:46<05:33,  1.78it/s]#015 24%|██▍       | 189/782 [01:47<05:33,  1.78it/s]#015 24%|██▍       | 190/782 [01:47<05:31,  1.78it/s]#015 24%|██▍       | 191/782 [01:48<05:36,  1.76it/s]#015 25%|██▍       | 192/782 [01:48<05:33,  1.77it/s]#015 25%|██▍       | 193/782 [01:49<05:32,  1.77it/s]#015 25%|██▍       | 194/782 [01:49<05:30,  1.78it/s]#015 25%|██▍       | 195/782 [01:50<05:30,  1.78it/s]#015 25%|██▌       | 196/782 [01:51<05:28,  1.78it/s]#015 25%|██▌       | 197/782 [01:51<05:27,  1.79it/s]#015 25%|██▌       | 198/782 [01:52<05:26,  1.79it/s]#015 25%|██▌       | 199/782 [01:52<05:25,  1.79it/s]#015 26%|██▌       | 200/782 [01:53<05:23,  1.80it/s]#015 26%|██▌       | 201/782 [01:53<05:25,  1.78it/s]#015 26%|██▌       | 202/782 [01:54<05:25,  1.78it/s]#015 26%|██▌       | 203/782 [01:55<05:24,  1.78it/s]#015 26%|██▌       | 204/782 [01:55<05:24,  1.78it/s]#015 26%|██▌       | 205/782 [01:56<05:22,  1.79it/s]#015 26%|██▋       | 206/782 [01:56<05:21,  1.79it/s]#015 26%|██▋       | 207/782 [01:57<05:20,  1.79it/s]#015 27%|██▋       | 208/782 [01:57<05:19,  1.80it/s]#015 27%|██▋       | 209/782 [01:58<05:19,  1.79it/s]#015 27%|██▋       | 210/782 [01:58<05:21,  1.78it/s]#015 27%|██▋       | 211/782 [01:59<05:19,  1.79it/s]#015 27%|██▋       | 212/782 [02:00<05:19,  1.79it/s]#015 27%|██▋       | 213/782 [02:00<05:18,  1.79it/s]#015 27%|██▋       | 214/782 [02:01<05:16,  1.79it/s]#015 27%|██▋       | 215/782 [02:01<05:15,  1.80it/s]#015 28%|██▊       | 216/782 [02:02<05:15,  1.80it/s]#015 28%|██▊       | 217/782 [02:02<05:14,  1.80it/s]#015 28%|██▊       | 218/782 [02:03<05:12,  1.80it/s]#015 28%|██▊       | 219/782 [02:03<05:13,  1.79it/s]#015 28%|██▊       | 220/782 [02:04<05:20,  1.75it/s]#015 28%|██▊       | 221/782 [02:05<05:19,  1.75it/s]#015 28%|██▊       | 222/782 [02:05<05:15,  1.78it/s]#015 29%|██▊       | 223/782 [02:06<05:15,  1.77it/s]#015 29%|██▊       | 224/782 [02:06<05:13,  1.78it/s]#015 29%|██▉       | 225/782 [02:07<05:10,  1.79it/s]#015 29%|██▉       | 226/782 [02:07<05:09,  1.80it/s]#015 29%|██▉       | 227/782 [02:08<05:08,  1.80it/s]#015 29%|██▉       | 228/782 [02:08<05:08,  1.80it/s]#015 29%|██▉       | 229/782 [02:09<05:08,  1.79it/s]#015 29%|██▉       | 230/782 [02:10<05:08,  1.79it/s]#015 30%|██▉       | 231/782 [02:10<05:07,  1.79it/s]#015 30%|██▉       | 232/782 [02:11<05:07,  1.79it/s]#015 30%|██▉       | 233/782 [02:11<05:06,  1.79it/s]#015 30%|██▉       | 234/782 [02:12<05:05,  1.79it/s]#015 30%|███       | 235/782 [02:12<05:05,  1.79it/s]#015 30%|███       | 236/782 [02:13<05:05,  1.79it/s]#015 30%|███       | 237/782 [02:14<05:04,  1.79it/s]#015 30%|███       | 238/782 [02:14<05:06,  1.78it/s]#015 31%|███       | 239/782 [02:15<05:07,  1.76it/s]#015 31%|███       | 240/782 [02:15<05:05,  1.78it/s]#015 31%|███       | 241/782 [02:16<05:04,  1.77it/s]#015 31%|███       | 242/782 [02:16<05:01,  1.79it/s]#015 31%|███       | 243/782 [02:17<05:02,  1.78it/s]#015 31%|███       | 244/782 [02:17<05:00,  1.79it/s]#015 31%|███▏      | 245/782 [02:18<04:59,  1.80it/s]#015 31%|███▏      | 246/782 [02:19<04:58,  1.80it/s]#015 32%|███▏      | 247/782 [02:19<05:00,  1.78it/s]#015 32%|███▏      | 248/782 [02:20<05:00,  1.78it/s]#015 32%|███▏      | 249/782 [02:20<04:58,  1.79it/s]#015 32%|███▏      | 250/782 [02:21<05:02,  1.76it/s]#015 32%|███▏      | 251/782 [02:21<05:00,  1.77it/s]#015 32%|███▏      | 252/782 [02:22<05:05,  1.74it/s]#015 32%|███▏      | 253/782 [02:23<05:04,  1.74it/s]#015 32%|███▏      | 254/782 [02:23<05:07,  1.72it/s]#015 33%|███▎      | 255/782 [02:24<05:05,  1.73it/s]#015 33%|███▎      | 256/782 [02:24<05:07,  1.71it/s]#015 33%|███▎      | 257/782 [02:25<05:05,  1.72it/s]#015 33%|███▎      | 258/782 [02:25<05:01,  1.74it/s]#015 33%|███▎      | 259/782 [02:26<04:58,  1.75it/s]#015 33%|███▎      | 260/782 [02:27<04:56,  1.76it/s]#015 33%|███▎      | 261/782 [02:27<04:53,  1.77it/s]#015 34%|███▎      | 262/782 [02:28<04:52,  1.78it/s]#015 34%|███▎      | 263/782 [02:28<04:55,  1.75it/s]#015 34%|███▍      | 264/782 [02:29<04:52,  1.77it/s]#015 34%|███▍      | 265/782 [02:29<04:51,  1.77it/s]#015 34%|███▍      | 266/782 [02:30<04:50,  1.77it/s]#015 34%|███▍      | 267/782 [02:31<04:48,  1.79it/s]#015 34%|███▍      | 268/782 [02:31<04:46,  1.80it/s]#015 34%|███▍      | 269/782 [02:32<04:46,  1.79it/s]#015 35%|███▍      | 270/782 [02:32<04:45,  1.79it/s]#015 35%|███▍      | 271/782 [02:33<04:46,  1.78it/s]#015 35%|███▍      | 272/782 [02:33<04:44,  1.79it/s]#015 35%|███▍      | 273/782 [02:34<04:43,  1.79it/s]#015 35%|███▌      | 274/782 [02:34<04:44,  1.79it/s]#015 35%|███▌      | 275/782 [02:35<04:42,  1.79it/s]#015 35%|███▌      | 276/782 [02:36<04:41,  1.80it/s]#015 35%|███▌      | 277/782 [02:36<04:42,  1.79it/s]#015 36%|███▌      | 278/782 [02:37<04:41,  1.79it/s]#015 36%|███▌      | 279/782 [02:37<04:40,  1.79it/s]#015 36%|███▌      | 280/782 [02:38<04:41,  1.79it/s]#015 36%|███▌      | 281/782 [02:38<04:40,  1.79it/s]#015 36%|███▌      | 282/782 [02:39<04:38,  1.79it/s]#015 36%|███▌      | 283/782 [02:39<04:38,  1.79it/s]#015 36%|███▋      | 284/782 [02:40<04:37,  1.79it/s]#015 36%|███▋      | 285/782 [02:41<04:36,  1.79it/s]#015 37%|███▋      | 286/782 [02:41<04:35,  1.80it/s]#015 37%|███▋      | 287/782 [02:42<04:34,  1.80it/s]#015 37%|███▋      | 288/782 [02:42<04:37,  1.78it/s]#015 37%|███▋      | 289/782 [02:43<04:35,  1.79it/s]#015 37%|███▋      | 290/782 [02:43<04:34,  1.79it/s]#015 37%|███▋      | 291/782 [02:44<04:35,  1.78it/s]#015 37%|███▋      | 292/782 [02:45<04:37,  1.77it/s]#015 37%|███▋      | 293/782 [02:45<04:35,  1.78it/s]#015 38%|███▊      | 294/782 [02:46<04:34,  1.78it/s]#015 38%|███▊      | 295/782 [02:46<04:32,  1.79it/s]#015 38%|███▊      | 296/782 [02:47<04:33,  1.77it/s]#015 38%|███▊      | 297/782 [02:47<04:35,  1.76it/s]#015 38%|███▊      | 298/782 [02:48<04:33,  1.77it/s]#015 38%|███▊      | 299/782 [02:48<04:32,  1.77it/s]#015 38%|███▊      | 300/782 [02:49<04:31,  1.77it/s]#015 38%|███▊      | 301/782 [02:50<04:30,  1.78it/s]#015 39%|\u001b[0m\n",
      "\u001b[34m███▊      | 302/782 [02:50<04:28,  1.79it/s]#015 39%|███▊      | 303/782 [02:51<04:27,  1.79it/s]#015 39%|███▉      | 304/782 [02:51<04:28,  1.78it/s]#015 39%|███▉      | 305/782 [02:52<04:29,  1.77it/s]#015 39%|███▉      | 306/782 [02:52<04:29,  1.77it/s]#015 39%|███▉      | 307/782 [02:53<04:27,  1.78it/s]#015 39%|███▉      | 308/782 [02:54<04:27,  1.77it/s]#015 40%|███▉      | 309/782 [02:54<04:25,  1.78it/s]#015 40%|███▉      | 310/782 [02:55<04:24,  1.79it/s]#015 40%|███▉      | 311/782 [02:55<04:22,  1.80it/s]#015 40%|███▉      | 312/782 [02:56<04:21,  1.80it/s]#015 40%|████      | 313/782 [02:56<04:21,  1.80it/s]#015 40%|████      | 314/782 [02:57<04:19,  1.80it/s]#015 40%|████      | 315/782 [02:57<04:18,  1.81it/s]#015 40%|████      | 316/782 [02:58<04:17,  1.81it/s]#015 41%|████      | 317/782 [02:59<04:19,  1.79it/s]#015 41%|████      | 318/782 [02:59<04:17,  1.80it/s]#015 41%|████      | 319/782 [03:00<04:18,  1.79it/s]#015 41%|████      | 320/782 [03:00<04:19,  1.78it/s]#015 41%|████      | 321/782 [03:01<04:18,  1.78it/s]#015 41%|████      | 322/782 [03:01<04:23,  1.75it/s]#015 41%|████▏     | 323/782 [03:02<04:21,  1.75it/s]#015 41%|████▏     | 324/782 [03:02<04:21,  1.75it/s]#015 42%|████▏     | 325/782 [03:03<04:20,  1.76it/s]#015 42%|████▏     | 326/782 [03:04<04:19,  1.76it/s]#015 42%|████▏     | 327/782 [03:04<04:15,  1.78it/s]#015 42%|████▏     | 328/782 [03:05<04:14,  1.79it/s]#015 42%|████▏     | 329/782 [03:05<04:15,  1.78it/s]#015 42%|████▏     | 330/782 [03:06<04:13,  1.78it/s]#015 42%|████▏     | 331/782 [03:06<04:12,  1.79it/s]#015 42%|████▏     | 332/782 [03:07<04:11,  1.79it/s]#015 43%|████▎     | 333/782 [03:08<04:10,  1.79it/s]#015 43%|████▎     | 334/782 [03:08<04:09,  1.80it/s]#015 43%|████▎     | 335/782 [03:09<04:12,  1.77it/s]#015 43%|████▎     | 336/782 [03:09<04:10,  1.78it/s]#015 43%|████▎     | 337/782 [03:10<04:09,  1.78it/s]#015 43%|████▎     | 338/782 [03:10<04:08,  1.79it/s]#015 43%|████▎     | 339/782 [03:11<04:07,  1.79it/s]#015 43%|████▎     | 340/782 [03:11<04:06,  1.79it/s]#015 44%|████▎     | 341/782 [03:12<04:05,  1.80it/s]#015 44%|████▎     | 342/782 [03:13<04:05,  1.79it/s]#015 44%|████▍     | 343/782 [03:13<04:05,  1.78it/s]#015 44%|████▍     | 344/782 [03:14<04:05,  1.78it/s]#015 44%|████▍     | 345/782 [03:14<04:05,  1.78it/s]#015 44%|████▍     | 346/782 [03:15<04:03,  1.79it/s]#015 44%|████▍     | 347/782 [03:15<04:04,  1.78it/s]#015 45%|████▍     | 348/782 [03:16<04:03,  1.78it/s]#015 45%|████▍     | 349/782 [03:16<04:03,  1.78it/s]#015 45%|████▍     | 350/782 [03:17<04:02,  1.78it/s]#015 45%|████▍     | 351/782 [03:18<04:01,  1.79it/s]#015 45%|████▌     | 352/782 [03:18<04:00,  1.79it/s]#015 45%|████▌     | 353/782 [03:19<03:59,  1.79it/s]#015 45%|████▌     | 354/782 [03:19<03:58,  1.79it/s]#015 45%|████▌     | 355/782 [03:20<03:59,  1.78it/s]#015 46%|████▌     | 356/782 [03:20<03:58,  1.78it/s]#015 46%|████▌     | 357/782 [03:21<04:01,  1.76it/s]#015 46%|████▌     | 358/782 [03:22<03:59,  1.77it/s]#015 46%|████▌     | 359/782 [03:22<03:57,  1.78it/s]#015 46%|████▌     | 360/782 [03:23<04:00,  1.76it/s]#015 46%|████▌     | 361/782 [03:23<03:57,  1.77it/s]#015 46%|████▋     | 362/782 [03:24<03:57,  1.77it/s]#015 46%|████▋     | 363/782 [03:24<03:57,  1.76it/s]#015 47%|████▋     | 364/782 [03:25<03:57,  1.76it/s]#015 47%|████▋     | 365/782 [03:26<03:58,  1.75it/s]#015 47%|████▋     | 366/782 [03:26<03:58,  1.75it/s]#015 47%|████▋     | 367/782 [03:27<03:57,  1.75it/s]#015 47%|████▋     | 368/782 [03:27<04:00,  1.72it/s]#015 47%|████▋     | 369/782 [03:28<03:57,  1.74it/s]#015 47%|████▋     | 370/782 [03:28<03:54,  1.76it/s]#015 47%|████▋     | 371/782 [03:29<03:53,  1.76it/s]#015 48%|████▊     | 372/782 [03:30<03:51,  1.77it/s]#015 48%|████▊     | 373/782 [03:30<03:52,  1.76it/s]#015 48%|████▊     | 374/782 [03:31<03:50,  1.77it/s]#015 48%|████▊     | 375/782 [03:31<03:49,  1.77it/s]#015 48%|████▊     | 376/782 [03:32<03:48,  1.78it/s]#015 48%|████▊     | 377/782 [03:32<03:47,  1.78it/s]#015 48%|████▊     | 378/782 [03:33<03:46,  1.79it/s]#015 48%|████▊     | 379/782 [03:33<03:44,  1.79it/s]#015 49%|████▊     | 380/782 [03:34<03:43,  1.80it/s]#015 49%|████▊     | 381/782 [03:35<03:43,  1.79it/s]#015 49%|████▉     | 382/782 [03:35<03:44,  1.78it/s]#015 49%|████▉     | 383/782 [03:36<03:42,  1.79it/s]#015 49%|████▉     | 384/782 [03:36<03:42,  1.79it/s]#015 49%|████▉     | 385/782 [03:37<03:42,  1.78it/s]#015 49%|████▉     | 386/782 [03:37<03:41,  1.79it/s]#015 49%|████▉     | 387/782 [03:38<03:40,  1.79it/s]#015 50%|████▉     | 388/782 [03:38<03:40,  1.79it/s]#015 50%|████▉     | 389/782 [03:39<03:39,  1.79it/s]#015 50%|████▉     | 390/782 [03:40<03:38,  1.79it/s]#015 50%|█████     | 391/782 [03:40<03:37,  1.80it/s]#015 50%|█████     | 392/782 [03:41<03:40,  1.77it/s]#015 50%|█████     | 393/782 [03:41<03:40,  1.76it/s]#015 50%|█████     | 394/782 [03:42<03:39,  1.77it/s]#015 51%|█████     | 395/782 [03:42<03:38,  1.77it/s]#015 51%|█████     | 396/782 [03:43<03:36,  1.78it/s]#015 51%|█████     | 397/782 [03:44<03:35,  1.79it/s]#015 51%|█████     | 398/782 [03:44<03:34,  1.79it/s]#015 51%|█████     | 399/782 [03:45<03:34,  1.78it/s]#015 51%|█████     | 400/782 [03:45<03:33,  1.79it/s]#015 51%|█████▏    | 401/782 [03:46<03:32,  1.79it/s]#015 51%|█████▏    | 402/782 [03:46<03:32,  1.79it/s]#015 52%|█████▏    | 403/782 [03:47<03:31,  1.79it/s]#015 52%|█████▏    | 404/782 [03:47<03:31,  1.79it/s]#015 52%|█████▏    | 405/782 [03:48<03:30,  1.79it/s]#015 52%|█████▏    | 406/782 [03:49<03:33,  1.77it/s]#015 52%|█████▏    | 407/782 [03:49<03:30,  1.78it/s]#015 52%|█████▏    | 408/782 [03:50<03:34,  1.75it/s]#015 52%|█████▏    | 409/782 [03:50<03:31,  1.76it/s]#015 52%|█████▏    | 410/782 [03:51<03:29,  1.78it/s]#015 53%|█████▎    | 411/782 [03:51<03:29,  1.77it/s]#015 53%|█████▎    | 412/782 [03:52<03:27,  1.78it/s]#015 53%|█████▎    | 413/782 [03:53<03:27,  1.78it/s]#015 53%|█████▎    | 414/782 [03:53<03:26,  1.78it/s]#015 53%|█████▎    | 415/782 [03:54<03:25,  1.79it/s]#015 53%|█████▎    | 416/782 [03:54<03:23,  1.80it/s]#015 53%|█████▎    | 417/782 [03:55<03:22,  1.80it/s]#015 53%|█████▎    | 418/782 [03:55<03:22,  1.80it/s]#015 54%|█████▎    | 419/782 [03:56<03:21,  1.80it/s]#015 54%|█████▎    | 420/782 [03:56<03:20,  1.80it/s]#015 54%|█████▍    | 421/782 [03:57<03:21,  1.79it/s]#015 54%|█████▍    | 422/782 [03:58<03:20,  1.79it/s]#015 54%|█████▍    | 423/782 [03:58<03:19,  1.80it/s]#015 54%|█████▍    | 424/782 [03:59<03:18,  1.80it/s]#015 54%|█████▍    | 425/782 [03:59<03:19,  1.79it/s]#015 54%|█████▍    | 426/782 [04:00<03:18,  1.80it/s]#015 55%|█████▍    | 427/782 [04:00<03:18,  1.79it/s]#015 55%|█████▍    | 428/782 [04:01<03:17,  1.80it/s]#015 55%|█████▍    | 429/782 [04:01<03:16,  1.79it/s]#015 55%|█████▍    | 430/782 [04:02<03:16,  1.79it/s]#015 55%|█████▌    | 431/782 [04:03<03:17,  1.78it/s]#015 55%|█████▌    | 432/782 [04:03<03:16,  1.78it/s]#015 55%|█████▌    | 433/782 [04:04<03:16,  1.78it/s]#015 55%|█████▌    | 434/782 [04:04<03:14,  1.79it/s]#015 56%|█████▌    | 435/782 [04:05<03:15,  1.78it/s]#015 56%|█████▌    | 436/782 [04:05<03:13,  1.78it/s]#015 56%|█████▌    | 437/782 [04:06<03:12,  1.79it/s]#015 56%|█████▌    | 438/782 [04:06<03:11,  1.79it/s]#015 56%|█████▌    | 439/782 [04:07<03:10,  1.80it/s]#015 56%|█████▋    | 440/782 [04:08<03:09,  1.80it/s]#015 56%|█████▋    | 441/782 [04:08<03:10,  1.79it/s]#015 57%|█████▋    | 442/782 [04:09<03:10,  1.78it/s]#015 57%|█████▋    | 443/782 [04:09<03:08,  1.79it/s]#015 57%|█████▋    | 444/782 [04:10<03:10,  1.78it/s]#015 57%|█████▋    | 445/782 [04:10<03:08,  1.79it/s]#015 57%|█████▋    | 446/782 [04:11<03:10,  1.76it/s]#015 57%|█████▋    | 447/782 [04:12<03:09,  1.77it/s]#015 57%|█████▋    | 448/782 [04:12<03:08,  1.78it/s]#015 57%|█████▋    | 449/782 [04:13<03:06,  1.79it/s]#015 58%|█████▊    | 450/782 [04:13<03:06,  1.78it/s]#015 58%|█████▊    | 451/782 [04:14<03:06,  1.77it/s]#015 58%|█████▊    | 452/782 [04:14<03:05,  1.78it/s]#015 58%|█████▊    | 453/782 [04:15<03:04,  1.79it/s]#015 58%|█████▊    | 454/782 [04:15<03:03,  1.79it/s]#015 58%|█████▊    | 455/782 [04:16<03:02,  1.79it/s]#015 58%|█████▊    | 456/782 [04:17<03:02,  1.79it/s]#015 58%|█████▊    | 457/782 [04:17<03:02,  1.78it/s]#015 59%|█████▊    | 458/782 [04:18<03:01,  1.78it/s]#015 59%|█████▊    | 459/782 [04:18<03:00,  1.79it/s]#015 59%|█████▉    | 460/782 [04:19<02:59,  1.80it/s]#015 59%|█████▉    | 461/782 [04:19<02:58,  1.80it/s]#015 59%|█████▉    | 462/782 [04:20<02:59,  1.79it/s]#015 59%|█████▉    | 463/782 [04:20<02:58,  1.78it/s]#015 59%|█████▉    | 464/782 [04:21<03:00,  1.76it/s]#015 59%|█████▉    | 465/782 [04:22<02:59,  1.77it/s]#015 60%|█████▉    | 466/782 [04:22<02:57,  1.78it/s]#015 60%|█████▉    | 467/782 [04:23<02:58,  1.77it/s]#015 60%|█████▉    | 468/782 [04:23<02:57,  1.76it/s]#015 60%|█████▉    | 469/782 [04:24<02:58,  1.75it/s]#015 60%|██████    | 470/782 [04:24<02:59,  1.74it/s]#015 60%|██████    | 471/782 [04:25<02:57,  1.75it/s]#015 60%|██████    | 472/782 [04:26<02:56,  1.76it/s]#015 60%|██████    | 473/782 [04:26<02:54,  1.77it/s]#015 61%|██████    | 474/782 [04:27<02:56,  1.75it/s]#015 61%|██████    | 475/782 [04:27<02:54,  1.76it/s]#015 61%|██████    | 476/782 [04:28<02:52,  1.77it/s]#015 61%|██████    | 477/782 [04:28<02:51,  1.78it/s]#015 61%|██████    | 478/782 [04:29<02:50,  1.79it/s]#015 61%|██████▏   | 479/782 [04:30<02:49,  1.78it/s]#015 61%|██████▏   | 480/782 [04:30<02:49,  1.78it/s]#015 62%|██████▏   | 481/782 [04:31<02:48,  1.79it/s]#015 62%|██████▏   | 482/782 [04:31<02:47,  1.79it/s]#015 62%|██████▏   | 483/782 [04:32<02:47,  1.79it/s]#015 62%|██████▏   | 484/782 [04:32<02:47,  1.78it/s]#015 62%|██████▏   | 485/782 [04:33<02:46,  1.79it/s]#015 62%|██████▏   | 486/782 [04:33<02:45,  1.79it/s]#015 62%|██████▏   | 487/782 [04:34<02:44,  1.79it/s]#015 62%|██████▏   | 488/782 [04:35<02:44,  1.79it/s]#015 63%|██████▎   | 489/782 [04:35<02:45,  1.77it/s]#015 63%|██████▎   | 490/782 [04:36<02:44,  1.78it/s]#015 63%|██████▎   | 491/782 [04:36<02:43,  1.78it/s]#015 63%|██████▎   | 492/782 [04:37<02:42,  1.79it/s]#015 63%|██████▎   | 493/782 [04:37<02:41,  1.79it/s]#015 63%|██████▎   | 494/782 [04:38<02:41,  1.78it/s]#015 63%|██████▎   | 495/782 [04:38<02:40,  1.79it/s]#015 63%|██████▎   | 496/782 [04:39<02:39,  1.80it/s]#015 64%|██████▎   | 497/782 [04:40<02:38,  1.80it/s]#015 64%|██████▎   | 498/782 [04:40<02:38,  1.79it/s]#015 64%|██████▍   | 499/782 [04:41<02:37,  1.80it/s]#015 64%|██████▍   | 500/782 [04:41<02:36,  1.80it/s]#015                                                 #015#015 64%|██████▍   | 500/782 [04:41<02:36,  1.80it/s]#015 64%|██████▍   | 501/782 [04:44<05:31,  1.18s/it]#015 64%|██████▍   | 502/782 [04:44<04:38,  1.01it/s]#015 64%|██████▍   | 503/782 [04:45<04:00,  1.16it/s]#015 64%|██████▍   | 504/782 [04:46<03:34,  1.30it/s]#015 65%|██████▍   | 505/782 [04:46<03:17,  1.40it/s]#015 65%|██████▍   | 506/782 [04:47<03:04,  1.50it/s]#015 65%|██████▍   | 507/782 [04:47<02:55,  1.56it/s]#015 65%|██████▍   | 508/782 [04:48<02:48,  1.63it/s]#015 65%|██████▌   | 509/782 [04:48<02:43,  1.67it/s]#015 65%|██████▌   | 510/782 [04:49<02:39,  1.71it/s]#015 65%|██████▌   | 511/782 [04:50<02:36,  1.73it/s]#015 65%|██████▌   | 512/782 [04:50<02:34,  1.75it/s]#015 66%|██████▌   | 513/782 [04:51<02:33,  1.75it/s]#015 66%|██████▌   | 514/782 [04:51<02:32,  1.75it/s]#015 66%|██████▌   | 515/782 [04:52<02:31,  1.77it/s]#015 66%|██████▌   | 516/782 [04:52<02:30,  1.77it/s]#015 66%|██████▌   | 517/782 [04:53<02:29,  1.77it/s]#015 66%|██████▌   | 518/782 [04:53<02:28,  1.77it/s]#015 66%|██████▋   | 519/782 [04:54<02:29,  1.76it/s]#015 66%|██████▋   | 520/782 [04:55<02:28,  1.76it/s]#015 67%|██████▋   | 521/782 [04:55<02:27,  1.77it/s]#015 67%|██████▋   | 522/782 [04:56<02:27,  1.76it/s]#015 67%|██████▋   | 523/782 [04:56<02:29,  1.73it/s]#015 67%|██████▋   | 524/782 [04:57<02:27,  1.75it/s]#015 67%|██████▋   | 525/782 [04:57<02:27,  1.75it/s]#015 67%|██████▋   | 526/782 [04:58<02:25,  1.76it/s]#015 67%|██████▋   | 527/782 [04:59<02:24,  1.77it/s]#015 68%|██████▊   | 528/782 [04:59<02:22,  1.78it/s]#015 68%|██████▊   | 529/782 [05:00<02:23,  1.76it/s]#015 68%|██████▊   | 530/782 [05:00<02:23,  1.76it/s]#015 68%|██████▊   | 531/782 [05:01<02:21,  1.77it/s]#015 68%|██████▊   | 532/782 [05:01<02:21,  1.76it/s]#015 68%|██████▊   | 533/782 [05:02<02:20,  1.77it/s]#015 68%|██████▊   | 534/782 [05:03<02:20,  1.77it/s]#015 68%|██████▊   | 535/782 [05:03<02:18,  1.78it/s]#015 69%|██████▊   | 536/782 [05:04<02:18,  1.78it/s]#015 69%|██████▊   | 537/782 [05:04<02:17,  1.78it/s]#015 69%|██████▉   | 538/782 [05:05<02:16,  1.78it/s]#015 69%|██████▉   | 539/782 [05:05<02:17,  1.77it/s]#015 69%|██████▉   | 540/782 [05:06<02:16,  1.77it/s]#015 69%|██████▉   | 541/782 [05:06<02:15,  1.77it/s]#015 69%|██████▉   | 542/782 [05:07<02:15,  1.77it/s]#015 69%|██████▉   | 543/782 [05:08<02:14,  1.77it/s]#015 70%|██████▉   | 544/782 [05:08<02:14,  1.77it/s]#015 70%|██████▉   | 545/782 [05:09<02:15,  1.75it/s]#015 70%|██████▉   | 546/782 [05:09<02:13,  1.76it/s]#015 70%|██████▉   | 547/782 [05:10<02:15,  1.74it/s]#015 70%|███████   | 548/782 [05:10<02:13,  1.76it/s]#015 70%|███████   | 549/782 [05:11<02:11,  1.78it/s]#015 70%|███████   | 550/782 [05:12<02:10,  1.77it/s]#015 70%|███████   | 551/782 [05:12<02:10,  1.78it/s]#015 71%|███████   | 552/782 [05:13<02:09,  1.77it/s]#015 71%|███████   | 553/782 [05:13<02:08,  1.78it/s]#015 71%|███████   | 554/782 [05:14<02:10,  1.74it/s]#015 71%|███████   | 555/782 [05:14<02:09,  1.75it/s]#015 71%|███████   | 556/782 [05:15<02:07,  1.77it/s]#015 71%|███████   | 557/782 [05:16<02:06,  1.78it/s]#015 71%|███████▏  | 558/782 [05:16<02:05,  1.79it/s]#015 71%|███████▏  | 559/782 [05:17<02:05,  1.78it/s]#015 72%|███████▏  | 560/782 [05:17<02:04,  1.78it/s]#015 72%|███████▏  | 561/782 [05:18<02:06,  1.75it/s]#015 72%|███████▏  | 562/782 [05:18<02:04,  1.76it/s]#015 72%|███████▏  | 563/782 [05:19<02:03,  1.77it/s]#015 72%|███████▏  | 564/782 [05:19<02:02,  1.79it/s]#015 72%|█████�\u001b[0m\n",
      "\u001b[34m�█▏  | 565/782 [05:20<02:00,  1.79it/s]#015 72%|███████▏  | 566/782 [05:21<02:00,  1.80it/s]#015 73%|███████▎  | 567/782 [05:21<02:03,  1.74it/s]#015 73%|███████▎  | 568/782 [05:22<02:02,  1.75it/s]#015 73%|███████▎  | 569/782 [05:22<02:00,  1.76it/s]#015 73%|███████▎  | 570/782 [05:23<02:00,  1.76it/s]#015 73%|███████▎  | 571/782 [05:23<01:59,  1.77it/s]#015 73%|███████▎  | 572/782 [05:24<02:00,  1.75it/s]#015 73%|███████▎  | 573/782 [05:25<02:00,  1.74it/s]#015 73%|███████▎  | 574/782 [05:25<01:58,  1.75it/s]#015 74%|███████▎  | 575/782 [05:26<01:57,  1.76it/s]#015 74%|███████▎  | 576/782 [05:26<01:57,  1.75it/s]#015 74%|███████▍  | 577/782 [05:27<01:56,  1.76it/s]#015 74%|███████▍  | 578/782 [05:27<01:55,  1.77it/s]#015 74%|███████▍  | 579/782 [05:28<01:54,  1.77it/s]#015 74%|███████▍  | 580/782 [05:29<01:53,  1.77it/s]#015 74%|███████▍  | 581/782 [05:29<01:52,  1.78it/s]#015 74%|███████▍  | 582/782 [05:30<01:51,  1.79it/s]#015 75%|███████▍  | 583/782 [05:30<01:50,  1.79it/s]#015 75%|███████▍  | 584/782 [05:31<01:50,  1.79it/s]#015 75%|███████▍  | 585/782 [05:31<01:50,  1.79it/s]#015 75%|███████▍  | 586/782 [05:32<01:50,  1.78it/s]#015 75%|███████▌  | 587/782 [05:32<01:49,  1.79it/s]#015 75%|███████▌  | 588/782 [05:33<01:48,  1.79it/s]#015 75%|███████▌  | 589/782 [05:34<01:48,  1.78it/s]#015 75%|███████▌  | 590/782 [05:34<01:47,  1.78it/s]#015 76%|███████▌  | 591/782 [05:35<01:46,  1.79it/s]#015 76%|███████▌  | 592/782 [05:35<01:46,  1.78it/s]#015 76%|███████▌  | 593/782 [05:36<01:45,  1.79it/s]#015 76%|███████▌  | 594/782 [05:36<01:45,  1.79it/s]#015 76%|███████▌  | 595/782 [05:37<01:46,  1.76it/s]#015 76%|███████▌  | 596/782 [05:38<01:45,  1.76it/s]#015 76%|███████▋  | 597/782 [05:38<01:44,  1.77it/s]#015 76%|███████▋  | 598/782 [05:39<01:43,  1.77it/s]#015 77%|███████▋  | 599/782 [05:39<01:43,  1.77it/s]#015 77%|███████▋  | 600/782 [05:40<01:43,  1.76it/s]#015 77%|███████▋  | 601/782 [05:40<01:42,  1.77it/s]#015 77%|███████▋  | 602/782 [05:41<01:40,  1.79it/s]#015 77%|███████▋  | 603/782 [05:42<01:41,  1.77it/s]#015 77%|███████▋  | 604/782 [05:42<01:40,  1.78it/s]#015 77%|███████▋  | 605/782 [05:43<01:39,  1.78it/s]#015 77%|███████▋  | 606/782 [05:43<01:38,  1.78it/s]#015 78%|███████▊  | 607/782 [05:44<01:37,  1.79it/s]#015 78%|███████▊  | 608/782 [05:44<01:37,  1.78it/s]#015 78%|███████▊  | 609/782 [05:45<01:36,  1.78it/s]#015 78%|███████▊  | 610/782 [05:45<01:36,  1.79it/s]#015 78%|███████▊  | 611/782 [05:46<01:35,  1.79it/s]#015 78%|███████▊  | 612/782 [05:47<01:34,  1.79it/s]#015 78%|███████▊  | 613/782 [05:47<01:33,  1.80it/s]#015 79%|███████▊  | 614/782 [05:48<01:33,  1.80it/s]#015 79%|███████▊  | 615/782 [05:48<01:32,  1.80it/s]#015 79%|███████▉  | 616/782 [05:49<01:32,  1.79it/s]#015 79%|███████▉  | 617/782 [05:49<01:34,  1.74it/s]#015 79%|███████▉  | 618/782 [05:50<01:33,  1.76it/s]#015 79%|███████▉  | 619/782 [05:50<01:32,  1.77it/s]#015 79%|███████▉  | 620/782 [05:51<01:31,  1.78it/s]#015 79%|███████▉  | 621/782 [05:52<01:30,  1.77it/s]#015 80%|███████▉  | 622/782 [05:52<01:30,  1.77it/s]#015 80%|███████▉  | 623/782 [05:53<01:29,  1.78it/s]#015 80%|███████▉  | 624/782 [05:53<01:28,  1.78it/s]#015 80%|███████▉  | 625/782 [05:54<01:27,  1.79it/s]#015 80%|████████  | 626/782 [05:54<01:27,  1.79it/s]#015 80%|████████  | 627/782 [05:55<01:27,  1.77it/s]#015 80%|████████  | 628/782 [05:56<01:26,  1.78it/s]#015 80%|████████  | 629/782 [05:56<01:25,  1.78it/s]#015 81%|████████  | 630/782 [05:57<01:24,  1.79it/s]#015 81%|████████  | 631/782 [05:57<01:23,  1.80it/s]#015 81%|████████  | 632/782 [05:58<01:23,  1.79it/s]#015 81%|████████  | 633/782 [05:58<01:23,  1.78it/s]#015 81%|████████  | 634/782 [05:59<01:22,  1.79it/s]#015 81%|████████  | 635/782 [05:59<01:22,  1.78it/s]#015 81%|████████▏ | 636/782 [06:00<01:21,  1.79it/s]#015 81%|████████▏ | 637/782 [06:01<01:21,  1.78it/s]#015 82%|████████▏ | 638/782 [06:01<01:21,  1.77it/s]#015 82%|████████▏ | 639/782 [06:02<01:20,  1.78it/s]#015 82%|████████▏ | 640/782 [06:02<01:19,  1.78it/s]#015 82%|████████▏ | 641/782 [06:03<01:19,  1.78it/s]#015 82%|████████▏ | 642/782 [06:03<01:18,  1.78it/s]#015 82%|████████▏ | 643/782 [06:04<01:18,  1.78it/s]#015 82%|████████▏ | 644/782 [06:05<01:17,  1.78it/s]#015 82%|████████▏ | 645/782 [06:05<01:17,  1.78it/s]#015 83%|████████▎ | 646/782 [06:06<01:16,  1.77it/s]#015 83%|████████▎ | 647/782 [06:06<01:15,  1.78it/s]#015 83%|████████▎ | 648/782 [06:07<01:15,  1.78it/s]#015 83%|████████▎ | 649/782 [06:07<01:14,  1.78it/s]#015 83%|████████▎ | 650/782 [06:08<01:14,  1.78it/s]#015 83%|████████▎ | 651/782 [06:08<01:13,  1.78it/s]#015 83%|████████▎ | 652/782 [06:09<01:12,  1.79it/s]#015 84%|████████▎ | 653/782 [06:10<01:12,  1.79it/s]#015 84%|████████▎ | 654/782 [06:10<01:13,  1.75it/s]#015 84%|████████▍ | 655/782 [06:11<01:12,  1.75it/s]#015 84%|████████▍ | 656/782 [06:11<01:11,  1.77it/s]#015 84%|████████▍ | 657/782 [06:12<01:11,  1.76it/s]#015 84%|████████▍ | 658/782 [06:12<01:10,  1.77it/s]#015 84%|████████▍ | 659/782 [06:13<01:09,  1.76it/s]#015 84%|████████▍ | 660/782 [06:14<01:08,  1.77it/s]#015 85%|████████▍ | 661/782 [06:14<01:07,  1.78it/s]#015 85%|████████▍ | 662/782 [06:15<01:07,  1.79it/s]#015 85%|████████▍ | 663/782 [06:15<01:06,  1.79it/s]#015 85%|████████▍ | 664/782 [06:16<01:06,  1.79it/s]#015 85%|████████▌ | 665/782 [06:16<01:05,  1.78it/s]#015 85%|████████▌ | 666/782 [06:17<01:05,  1.78it/s]#015 85%|████████▌ | 667/782 [06:17<01:04,  1.78it/s]#015 85%|████████▌ | 668/782 [06:18<01:03,  1.79it/s]#015 86%|████████▌ | 669/782 [06:19<01:03,  1.79it/s]#015 86%|████████▌ | 670/782 [06:19<01:02,  1.79it/s]#015 86%|████████▌ | 671/782 [06:20<01:01,  1.79it/s]#015 86%|████████▌ | 672/782 [06:20<01:02,  1.76it/s]#015 86%|████████▌ | 673/782 [06:21<01:01,  1.77it/s]#015 86%|████████▌ | 674/782 [06:21<01:02,  1.73it/s]#015 86%|████████▋ | 675/782 [06:22<01:01,  1.75it/s]#015 86%|████████▋ | 676/782 [06:23<01:00,  1.75it/s]#015 87%|████████▋ | 677/782 [06:23<00:59,  1.75it/s]#015 87%|████████▋ | 678/782 [06:24<00:59,  1.76it/s]#015 87%|████████▋ | 679/782 [06:24<00:58,  1.75it/s]#015 87%|████████▋ | 680/782 [06:25<00:59,  1.72it/s]#015 87%|████████▋ | 681/782 [06:25<00:58,  1.73it/s]#015 87%|████████▋ | 682/782 [06:26<00:57,  1.74it/s]#015 87%|████████▋ | 683/782 [06:27<00:56,  1.76it/s]#015 87%|████████▋ | 684/782 [06:27<00:56,  1.73it/s]#015 88%|████████▊ | 685/782 [06:28<00:55,  1.75it/s]#015 88%|████████▊ | 686/782 [06:28<00:54,  1.76it/s]#015 88%|████████▊ | 687/782 [06:29<00:53,  1.77it/s]#015 88%|████████▊ | 688/782 [06:29<00:53,  1.77it/s]#015 88%|████████▊ | 689/782 [06:30<00:52,  1.77it/s]#015 88%|████████▊ | 690/782 [06:31<00:51,  1.77it/s]#015 88%|████████▊ | 691/782 [06:31<00:51,  1.77it/s]#015 88%|████████▊ | 692/782 [06:32<00:50,  1.78it/s]#015 89%|████████▊ | 693/782 [06:32<00:49,  1.78it/s]#015 89%|████████▊ | 694/782 [06:33<00:49,  1.79it/s]#015 89%|████████▉ | 695/782 [06:33<00:49,  1.77it/s]#015 89%|████████▉ | 696/782 [06:34<00:48,  1.78it/s]#015 89%|████████▉ | 697/782 [06:34<00:47,  1.78it/s]#015 89%|████████▉ | 698/782 [06:35<00:47,  1.78it/s]#015 89%|████████▉ | 699/782 [06:36<00:46,  1.78it/s]#015 90%|████████▉ | 700/782 [06:36<00:46,  1.77it/s]#015 90%|████████▉ | 701/782 [06:37<00:45,  1.77it/s]#015 90%|████████▉ | 702/782 [06:37<00:44,  1.78it/s]#015 90%|████████▉ | 703/782 [06:38<00:44,  1.78it/s]#015 90%|█████████ | 704/782 [06:38<00:44,  1.76it/s]#015 90%|█████████ | 705/782 [06:39<00:43,  1.77it/s]#015 90%|█████████ | 706/782 [06:40<00:42,  1.78it/s]#015 90%|█████████ | 707/782 [06:40<00:42,  1.78it/s]#015 91%|█████████ | 708/782 [06:41<00:41,  1.79it/s]#015 91%|█████████ | 709/782 [06:41<00:41,  1.77it/s]#015 91%|█████████ | 710/782 [06:42<00:40,  1.77it/s]#015 91%|█████████ | 711/782 [06:42<00:40,  1.77it/s]#015 91%|█████████ | 712/782 [06:43<00:39,  1.77it/s]#015 91%|█████████ | 713/782 [06:44<00:39,  1.76it/s]#015 91%|█████████▏| 714/782 [06:44<00:38,  1.78it/s]#015 91%|█████████▏| 715/782 [06:45<00:37,  1.78it/s]#015 92%|█████████▏| 716/782 [06:45<00:37,  1.77it/s]#015 92%|█████████▏| 717/782 [06:46<00:36,  1.78it/s]#015 92%|█████████▏| 718/782 [06:46<00:36,  1.78it/s]#015 92%|█████████▏| 719/782 [06:47<00:35,  1.78it/s]#015 92%|█████████▏| 720/782 [06:47<00:34,  1.78it/s]#015 92%|█████████▏| 721/782 [06:48<00:34,  1.79it/s]#015 92%|█████████▏| 722/782 [06:49<00:33,  1.78it/s]#015 92%|█████████▏| 723/782 [06:49<00:33,  1.79it/s]#015 93%|█████████▎| 724/782 [06:50<00:32,  1.79it/s]#015 93%|█████████▎| 725/782 [06:50<00:31,  1.79it/s]#015 93%|█████████▎| 726/782 [06:51<00:31,  1.79it/s]#015 93%|█████████▎| 727/782 [06:51<00:30,  1.79it/s]#015 93%|█████████▎| 728/782 [06:52<00:30,  1.80it/s]#015 93%|█████████▎| 729/782 [06:52<00:29,  1.79it/s]#015 93%|█████████▎| 730/782 [06:53<00:29,  1.79it/s]#015 93%|█████████▎| 731/782 [06:54<00:28,  1.78it/s]#015 94%|█████████▎| 732/782 [06:54<00:28,  1.78it/s]#015 94%|█████████▎| 733/782 [06:55<00:27,  1.78it/s]#015 94%|█████████▍| 734/782 [06:55<00:26,  1.79it/s]#015 94%|█████████▍| 735/782 [06:56<00:26,  1.79it/s]#015 94%|█████████▍| 736/782 [06:56<00:26,  1.76it/s]#015 94%|█████████▍| 737/782 [06:57<00:25,  1.77it/s]#015 94%|█████████▍| 738/782 [06:58<00:24,  1.78it/s]#015 95%|█████████▍| 739/782 [06:58<00:24,  1.74it/s]#015 95%|█████████▍| 740/782 [06:59<00:24,  1.74it/s]#015 95%|█████████▍| 741/782 [06:59<00:23,  1.76it/s]#015 95%|█████████▍| 742/782 [07:00<00:22,  1.77it/s]#015 95%|█████████▌| 743/782 [07:00<00:21,  1.78it/s]#015 95%|█████████▌| 744/782 [07:01<00:21,  1.78it/s]#015 95%|█████████▌| 745/782 [07:01<00:20,  1.78it/s]#015 95%|█████████▌| 746/782 [07:02<00:20,  1.78it/s]#015 96%|█████████▌| 747/782 [07:03<00:19,  1.77it/s]#015 96%|█████████▌| 748/782 [07:03<00:19,  1.77it/s]#015 96%|█████████▌| 749/782 [07:04<00:18,  1.77it/s]#015 96%|█████████▌| 750/782 [07:04<00:17,  1.78it/s]#015 96%|█████████▌| 751/782 [07:05<00:17,  1.78it/s]#015 96%|█████████▌| 752/782 [07:05<00:16,  1.79it/s]#015 96%|█████████▋| 753/782 [07:06<00:16,  1.79it/s]#015 96%|█████████▋| 754/782 [07:07<00:15,  1.78it/s]#015 97%|█████████▋| 755/782 [07:07<00:15,  1.79it/s]#015 97%|█████████▋| 756/782 [07:08<00:14,  1.77it/s]#015 97%|█████████▋| 757/782 [07:08<00:14,  1.78it/s]#015 97%|█████████▋| 758/782 [07:09<00:13,  1.78it/s]#015 97%|█████████▋| 759/782 [07:09<00:12,  1.78it/s]#015 97%|█████████▋| 760/782 [07:10<00:12,  1.78it/s]#015 97%|█████████▋| 761/782 [07:10<00:11,  1.79it/s]#015 97%|█████████▋| 762/782 [07:11<00:11,  1.79it/s]#015 98%|█████████▊| 763/782 [07:12<00:10,  1.75it/s]#015 98%|█████████▊| 764/782 [07:12<00:10,  1.76it/s]#015 98%|█████████▊| 765/782 [07:13<00:09,  1.76it/s]#015 98%|█████████▊| 766/782 [07:13<00:09,  1.77it/s]#015 98%|█████████▊| 767/782 [07:14<00:08,  1.78it/s]#015 98%|█████████▊| 768/782 [07:14<00:07,  1.77it/s]#015 98%|█████████▊| 769/782 [07:15<00:07,  1.78it/s]#015 98%|█████████▊| 770/782 [07:16<00:06,  1.78it/s]#015 99%|█████████▊| 771/782 [07:16<00:06,  1.79it/s]#015 99%|█████████▊| 772/782 [07:17<00:05,  1.80it/s]#015 99%|█████████▉| 773/782 [07:17<00:04,  1.80it/s]#015 99%|█████████▉| 774/782 [07:18<00:04,  1.80it/s]#015 99%|█████████▉| 775/782 [07:18<00:03,  1.80it/s]#015 99%|█████████▉| 776/782 [07:19<00:03,  1.79it/s]#015 99%|█████████▉| 777/782 [07:19<00:02,  1.79it/s]#015 99%|█████████▉| 778/782 [07:20<00:02,  1.78it/s]#015100%|█████████▉| 779/782 [07:21<00:01,  1.79it/s]#015100%|█████████▉| 780/782 [07:21<00:01,  1.79it/s]#015100%|█████████▉| 781/782 [07:22<00:00,  1.79it/s]#015100%|██████████| 782/782 [07:22<00:00,  2.19it/s]\u001b[0m\n",
      "\u001b[34m#015  0%|          | 0/157 [00:00<?, ?it/s]#033[A\u001b[0m\n",
      "\u001b[34m#015  1%|▏         | 2/157 [00:00<00:25,  6.12it/s]#033[A\u001b[0m\n",
      "\u001b[34m#015  2%|▏         | 3/157 [00:00<00:32,  4.69it/s]#033[A\u001b[0m\n",
      "\u001b[34m#015  3%|▎         | 4/157 [00:00<00:38,  3.99it/s]#033[A\u001b[0m\n",
      "\u001b[34m#015  3%|▎         | 5/157 [00:01<00:41,  3.66it/s]#033[A\u001b[0m\n",
      "\u001b[34m#015  4%|▍         | 6/157 [00:01<00:43,  3.46it/s]#033[A\u001b[0m\n",
      "\u001b[34m#015  4%|▍         | 7/157 [00:01<00:45,  3.31it/s]#033[A\u001b[0m\n",
      "\u001b[34m#015  5%|▌         | 8/157 [00:02<00:46,  3.19it/s]#033[A\u001b[0m\n",
      "\u001b[34m#015  6%|▌         | 9/157 [00:02<00:47,  3.14it/s]#033[A\u001b[0m\n",
      "\u001b[34m#015  6%|▋         | 10/157 [00:02<00:47,  3.08it/s]#033[A\u001b[0m\n",
      "\u001b[34m#015  7%|▋         | 11/157 [00:03<00:47,  3.07it/s]#033[A\u001b[0m\n",
      "\u001b[34m#015  8%|▊         | 12/157 [00:03<00:47,  3.07it/s]#033[A\u001b[0m\n",
      "\u001b[34m#015  8%|▊         | 13/157 [00:03<00:47,  3.06it/s]#033[A\u001b[0m\n",
      "\u001b[34m#015  9%|▉         | 14/157 [00:04<00:46,  3.06it/s]#033[A\u001b[0m\n",
      "\u001b[34m#015 10%|▉         | 15/157 [00:04<00:46,  3.05it/s]#033[A\u001b[0m\n",
      "\u001b[34m#015 10%|█         | 16/157 [00:04<00:46,  3.04it/s]#033[A\u001b[0m\n",
      "\u001b[34m#015 11%|█         | 17/157 [00:05<00:46,  3.03it/s]#033[A\u001b[0m\n",
      "\u001b[34m#015 11%|█▏        | 18/157 [00:05<00:45,  3.03it/s]#033[A\u001b[0m\n",
      "\u001b[34m#015 12%|█▏        | 19/157 [00:05<00:45,  3.03it/s]#033[A\u001b[0m\n",
      "\u001b[34m#015 13%|█▎        | 20/157 [00:06<00:45,  3.00it/s]#033[A\u001b[0m\n",
      "\u001b[34m#015 13%|█▎        | 21/157 [00:06<00:45,  3.01it/s]#033[A\u001b[0m\n",
      "\u001b[34m#015 14%|█▍        | 22/157 [00:06<00:44,  3.01it/s]#033[A\u001b[0m\n",
      "\u001b[34m#015 15%|█▍        | 23/157 [00:07<00:44,  3.02it/s]#033[A\u001b[0m\n",
      "\u001b[34m#015 15%|█▌        | 24/157 [00:07<00:44,  3.02it/s]#033[A\u001b[0m\n",
      "\u001b[34m#015 16%|█▌        | 25/157 [00:07<00:43,  3.02it/s]#033[A\u001b[0m\n",
      "\u001b[34m#015 17%|█▋        | 26/157 [00:08<00:43,  3.02it/s]#033[A\u001b[0m\n",
      "\u001b[34m#015 17%|█▋        | 27/157 [00:08<00:43,  3.02it/s]#033[A\u001b[0m\n",
      "\u001b[34m#015 18%|█▊        | 28/157 [00:08<00:42,  3.03it/s]#033[A\u001b[0m\n",
      "\u001b[34m#015 18%|█▊        | 29/157 [00:09<00:42,  3.04it/s]#033[A\u001b[0m\n",
      "\u001b[34m#015 19%|█▉        | 30/157 [00:09<00:41,  3.05it/s]#033[A\u001b[0m\n",
      "\u001b[34m#015 20%|█▉        | 31/157 [00:09<00:41,  3.05it/s]#033[A\u001b[0m\n",
      "\u001b[34m#015 20%|██        | 32/157 [00:10<00:40,  3.05it/s]#033[A\u001b[0m\n",
      "\u001b[34m#015 21%|██        | 33/157 [00:10<00:40,  3.06it/s]#033[A\u001b[0m\n",
      "\u001b[34m#015 22%|██▏       | 34/157 [00:10<00:40,  3.06it/s]#033[A\u001b[0m\n",
      "\u001b[34m#015 22%|██▏       | 35/157 [00:11<00:39,  3.05it/s]#033[A\u001b[0m\n",
      "\u001b[34m#015 23%|██▎       | 36/157 [00:11<00:39,  3.05it/s]#033[A\u001b[0m\n",
      "\u001b[34m#015 24%|██▎       | 37/157 [00:11<00:39,  3.05it/s]#033[A\u001b[0m\n",
      "\u001b[34m#015 24%|██▍       | 38/157 [00:12<00:39,  3.04it/s]#033[A\u001b[0m\n",
      "\u001b[34m#015 25%|██▍       | 39/157 [00:12<00:38,  3.03it/s]#033[A\u001b[0m\n",
      "\u001b[34m#015 25%|██▌       | 40/157 [00:12<00:38,  3.04it/s]#033[A\u001b[0m\n",
      "\u001b[34m#015 26%|██▌       | 41/157 [00:13<00:38,  3.03it/s]#033[A\u001b[0m\n",
      "\u001b[34m#015 27%|██▋       | 42/157 [00:13<00:37,  3.04it/s]#033[A\u001b[0m\n",
      "\u001b[34m#015 27%|██▋       | 43/157 [00:13<00:37,  3.05it/s]#033[A\u001b[0m\n",
      "\u001b[34m#015 28%|██▊       | 44/157 [00:14<00:37,  3.05it/s]#033[A\u001b[0m\n",
      "\u001b[34m#015 29%|██▊       | 45/157 [00:14<00:36,  3.05it/s]#033[A\u001b[0m\n",
      "\u001b[34m#015 29%|██▉       | 46/157 [00:14<00:36,  3.05it/s]#033[A\u001b[0m\n",
      "\u001b[34m#015 30%|██▉       | 47/157 [00:15<00:35,  3.06it/s]#033[A\u001b[0m\n",
      "\u001b[34m#015 31%|███       | 48/157 [00:15<00:35,  3.06it/s]#033[A\u001b[0m\n",
      "\u001b[34m#015 31%|███       | 49/157 [00:15<00:35,  3.06it/s]#033[A\u001b[0m\n",
      "\u001b[34m#015 32%|███▏      | 50/157 [00:16<00:34,  3.06it/s]#033[A\u001b[0m\n",
      "\u001b[34m#015 32%|███▏      | 51/157 [00:16<00:34,  3.06it/s]#033[A\u001b[0m\n",
      "\u001b[34m#015 33%|███▎      | 52/157 [00:16<00:34,  3.06it/s]#033[A\u001b[0m\n",
      "\u001b[34m#015 34%|███▍      | 53/157 [00:17<00:34,  3.04it/s]#033[A\u001b[0m\n",
      "\u001b[34m#015 34%|███▍      | 54/157 [00:17<00:34,  3.03it/s]#033[A\u001b[0m\n",
      "\u001b[34m#015 35%|███▌      | 55/157 [00:17<00:33,  3.02it/s]#033[A\u001b[0m\n",
      "\u001b[34m#015 36%|███▌      | 56/157 [00:18<00:33,  3.02it/s]#033[A\u001b[0m\n",
      "\u001b[34m#015 36%|███▋      | 57/157 [00:18<00:32,  3.03it/s]#033[A\u001b[0m\n",
      "\u001b[34m#015 37%|███▋      | 58/157 [00:18<00:32,  3.04it/s]#033[A\u001b[0m\n",
      "\u001b[34m#015 38%|███▊      | 59/157 [00:19<00:32,  3.04it/s]#033[A\u001b[0m\n",
      "\u001b[34m#015 38%|███▊      | 60/157 [00:19<00:31,  3.05it/s]#033[A\u001b[0m\n",
      "\u001b[34m#015 39%|███▉      | 61/157 [00:19<00:31,  3.05it/s]#033[A\u001b[0m\n",
      "\u001b[34m#015 39%|███▉      | 62/157 [00:20<00:31,  3.05it/s]#033[A\u001b[0m\n",
      "\u001b[34m#015 40%|████      | 63/157 [00:20<00:30,  3.05it/s]#033[A\u001b[0m\n",
      "\u001b[34m#015 41%|████      | 64/157 [00:20<00:30,  3.06it/s]#033[A\u001b[0m\n",
      "\u001b[34m#015 41%|████▏     | 65/157 [00:21<00:30,  3.05it/s]#033[A\u001b[0m\n",
      "\u001b[34m#015 42%|████▏     | 66/157 [00:21<00:30,  3.02it/s]#033[A\u001b[0m\n",
      "\u001b[34m#015 43%|████▎     | 67/157 [00:21<00:29,  3.03it/s]#033[A\u001b[0m\n",
      "\u001b[34m#015 43%|████▎     | 68/157 [00:22<00:29,  3.04it/s]#033[A\u001b[0m\n",
      "\u001b[34m#015 44%|████▍     | 69/157 [00:22<00:28,  3.04it/s]#033[A\u001b[0m\n",
      "\u001b[34m#015 45%|████▍     | 70/157 [00:22<00:28,  3.05it/s]#033[A\u001b[0m\n",
      "\u001b[34m#015 45%|████▌     | 71/157 [00:23<00:28,  3.05it/s]#033[A\u001b[0m\n",
      "\u001b[34m#015 46%|████▌     | 72/157 [00:23<00:27,  3.04it/s]#033[A\u001b[0m\n",
      "\u001b[34m#015 46%|████▋     | 73/157 [00:23<00:27,  3.04it/s]#033[A\u001b[0m\n",
      "\u001b[34m#015 47%|████▋     | 74/157 [00:24<00:27,  3.05it/s]#033[A\u001b[0m\n",
      "\u001b[34m#015 48%|████▊     | 75/157 [00:24<00:26,  3.04it/s]#033[A\u001b[0m\n",
      "\u001b[34m#015 48%|████▊     | 76/157 [00:24<00:26,  3.03it/s]#033[A\u001b[0m\n",
      "\u001b[34m#015 49%|████▉     | 77/157 [00:25<00:26,  3.04it/s]#033[A\u001b[0m\n",
      "\u001b[34m#015 50%|████▉     | 78/157 [00:25<00:25,  3.04it/s]#033[A\u001b[0m\n",
      "\u001b[34m#015 50%|█████     | 79/157 [00:25<00:25,  3.05it/s]#033[A\u001b[0m\n",
      "\u001b[34m#015 51%|█████     | 80/157 [00:26<00:25,  3.05it/s]#033[A\u001b[0m\n",
      "\u001b[34m#015 52%|█████▏    | 81/157 [00:26<00:25,  3.03it/s]#033[A\u001b[0m\n",
      "\u001b[34m#015 52%|█████▏    | 82/157 [00:26<00:24,  3.04it/s]#033[A\u001b[0m\n",
      "\u001b[34m#015 53%|█████▎    | 83/157 [00:27<00:24,  3.04it/s]#033[A\u001b[0m\n",
      "\u001b[34m#015 54%|█████▎    | 84/157 [00:27<00:23,  3.04it/s]#033[A\u001b[0m\n",
      "\u001b[34m#015 54%|█████▍    | 85/157 [00:27<00:23,  3.03it/s]#033[A\u001b[0m\n",
      "\u001b[34m#015 55%|█████▍    | 86/157 [00:27<00:23,  3.04it/s]#033[A\u001b[0m\n",
      "\u001b[34m#015 55%|█████▌    | 87/157 [00:28<00:22,  3.05it/s]#033[A\u001b[0m\n",
      "\u001b[34m#015 56%|█████▌    | 88/157 [00:28<00:22,  3.05it/s]#033[A\u001b[0m\n",
      "\u001b[34m#015 57%|█████▋    | 89/157 [00:28<00:22,  3.04it/s]#033[A\u001b[0m\n",
      "\u001b[34m#015 57%|█████▋    | 90/157 [00:29<00:22,  3.03it/s]#033[A\u001b[0m\n",
      "\u001b[34m#015 58%|█████▊    | 91/157 [00:29<00:21,  3.04it/s]#033[A\u001b[0m\n",
      "\u001b[34m#015 59%|█████▊    | 92/157 [00:29<00:21,  3.05it/s]#033[A\u001b[0m\n",
      "\u001b[34m#015 59%|█████▉    | 93/157 [00:30<00:20,  3.05it/s]#033[A\u001b[0m\n",
      "\u001b[34m#015 60%|█████▉    | 94/157 [00:30<00:20,  3.05it/s]#033[A\u001b[0m\n",
      "\u001b[34m#015 61%|██████    | 95/157 [00:30<00:20,  3.05it/s]#033[A\u001b[0m\n",
      "\u001b[34m#015 61%|██████    | 96/157 [00:31<00:19,  3.05it/s]#033[A\u001b[0m\n",
      "\u001b[34m#015 62%|██████▏   | 97/157 [00:31<00:19,  3.05it/s]#033[A\u001b[0m\n",
      "\u001b[34m#015 62%|██████▏   | 98/157 [00:31<00:19,  3.05it/s]#033[A\u001b[0m\n",
      "\u001b[34m#015 63%|██████▎   | 99/157 [00:32<00:18,  3.06it/s]#033[A\u001b[0m\n",
      "\u001b[34m#015 64%|██████▎   | 100/157 [00:32<00:18,  3.05it/s]#033[A\u001b[0m\n",
      "\u001b[34m#015 64%|██████▍   | 101/157 [00:32<00:18,  3.04it/s]#033[A\u001b[0m\n",
      "\u001b[34m#015 65%|██████▍   | 102/157 [00:33<00:18,  3.05it/s]#033[A\u001b[0m\n",
      "\u001b[34m#015 66%|██████▌   | 103/157 [00:33<00:17,  3.04it/s]#033[A\u001b[0m\n",
      "\u001b[34m#015 66%|██████▌   | 104/157 [00:33<00:17,  3.05it/s]#033[A\u001b[0m\n",
      "\u001b[34m#015 67%|██████▋   | 105/157 [00:34<00:17,  3.05it/s]#033[A\u001b[0m\n",
      "\u001b[34m#015 68%|██████▊   | 106/157 [00:34<00:16,  3.03it/s]#033[A\u001b[0m\n",
      "\u001b[34m#015 68%|██████▊   | 107/157 [00:34<00:16,  3.03it/s]#033[A\u001b[0m\n",
      "\u001b[34m#015 69%|██████▉   | 108/157 [00:35<00:16,  3.03it/s]#033[A\u001b[0m\n",
      "\u001b[34m#015 69%|██████▉   | 109/157 [00:35<00:15,  3.02it/s]#033[A\u001b[0m\n",
      "\u001b[34m#015 70%|███████   | 110/157 [00:35<00:15,  3.03it/s]#033[A\u001b[0m\n",
      "\u001b[34m#015 71%|███████   | 111/157 [00:36<00:15,  3.04it/s]#033[A\u001b[0m\n",
      "\u001b[34m#015 71%|███████▏  | 112/157 [00:36<00:14,  3.03it/s]#033[A\u001b[0m\n",
      "\u001b[34m#015 72%|███████▏  | 113/157 [00:36<00:14,  3.04it/s]#033[A\u001b[0m\n",
      "\u001b[34m#015 73%|███████▎  | 114/157 [00:37<00:14,  3.04it/s]#033[A\u001b[0m\n",
      "\u001b[34m#015 73%|███████▎  | 115/157 [00:37<00:13,  3.04it/s]#033[A\u001b[0m\n",
      "\u001b[34m#015 74%|███████▍  | 116/157 [00:37<00:13,  3.05it/s]#033[A\u001b[0m\n",
      "\u001b[34m#015 75%|███████▍  | 117/157 [00:38<00:13,  3.05it/s]#033[A\u001b[0m\n",
      "\u001b[34m#015 75%|███████▌  | 118/157 [00:38<00:12,  3.04it/s]#033[A\u001b[0m\n",
      "\u001b[34m#015 76%|███████▌  | 119/157 [00:38<00:12,  3.05it/s]#033[A\u001b[0m\n",
      "\u001b[34m#015 76%|███████▋  | 120/157 [00:39<00:12,  3.05it/s]#033[A\u001b[0m\n",
      "\u001b[34m#015 77%|███████▋  | 121/157 [00:39<00:11,  3.04it/s]#033[A\u001b[0m\n",
      "\u001b[34m#015 78%|███████▊  | 122/157 [00:39<00:11,  3.03it/s]#033[A\u001b[0m\n",
      "\u001b[34m#015 78%|███████▊  | 123/157 [00:40<00:11,  3.03it/s]#033[A\u001b[0m\n",
      "\u001b[34m#015 79%|███████▉  | 124/157 [00:40<00:10,  3.02it/s]#033[A\u001b[0m\n",
      "\u001b[34m#015 80%|███████▉  | 125/157 [00:40<00:10,  3.02it/s]#033[A\u001b[0m\n",
      "\u001b[34m#015 80%|████████  | 126/157 [00:41<00:10,  3.02it/s]#033[A\u001b[0m\n",
      "\u001b[34m#015 81%|████████  | 127/157 [00:41<00:09,  3.03it/s]#033[A\u001b[0m\n",
      "\u001b[34m#015 82%|████████▏ | 128/157 [00:41<00:09,  3.04it/s]#033[A\u001b[0m\n",
      "\u001b[34m#015 82%|████████▏ | 129/157 [00:42<00:09,  3.05it/s]#033[A\u001b[0m\n",
      "\u001b[34m#015 83%|████████▎ | 130/157 [00:42<00:08,  3.05it/s]#033[A\u001b[0m\n",
      "\u001b[34m#015 83%|████████▎ | 131/157 [00:42<00:08,  3.05it/s]#033[A\u001b[0m\n",
      "\u001b[34m#015 84%|████████▍ | 132/157 [00:43<00:08,  3.02it/s]#033[A\u001b[0m\n",
      "\u001b[34m#015 85%|████████▍ | 133/157 [00:43<00:07,  3.04it/s]#033[A\u001b[0m\n",
      "\u001b[34m#015 85%|████████▌ | 134/157 [00:43<00:07,  3.04it/s]#033[A\u001b[0m\n",
      "\u001b[34m#015 86%|████████▌ | 135/157 [00:44<00:07,  3.05it/s]#033[A\u001b[0m\n",
      "\u001b[34m#015 87%|████████▋ | 136/157 [00:44<00:06,  3.05it/s]#033[A\u001b[0m\n",
      "\u001b[34m#015 87%|████████▋ | 137/157 [00:44<00:06,  3.05it/s]#033[A\u001b[0m\n",
      "\u001b[34m#015 88%|████████▊ | 138/157 [00:45<00:06,  3.04it/s]#033[A\u001b[0m\n",
      "\u001b[34m#015 89%|████████▊ | 139/157 [00:45<00:05,  3.04it/s]#033[A\u001b[0m\n",
      "\u001b[34m#015 89%|████████▉ | 140/157 [00:45<00:05,  3.03it/s]#033[A\u001b[0m\n",
      "\u001b[34m#015 90%|████████▉ | 141/157 [00:46<00:05,  3.04it/s]#033[A\u001b[0m\n",
      "\u001b[34m#015 90%|█████████ | 142/157 [00:46<00:04,  3.04it/s]#033[A\u001b[0m\n",
      "\u001b[34m#015 91%|█████████ | 143/157 [00:46<00:04,  3.04it/s]#033[A\u001b[0m\n",
      "\u001b[34m#015 92%|█████████▏| 144/157 [00:47<00:04,  3.05it/s]#033[A\u001b[0m\n",
      "\u001b[34m#015 92%|█████████▏| 145/157 [00:47<00:03,  3.05it/s]#033[A\u001b[0m\n",
      "\u001b[34m#015 93%|█████████▎| 146/157 [00:47<00:03,  3.05it/s]#033[A\u001b[0m\n",
      "\u001b[34m#015 94%|█████████▎| 147/157 [00:48<00:03,  3.05it/s]#033[A\u001b[0m\n",
      "\u001b[34m#015 94%|█████████▍| 148/157 [00:48<00:02,  3.05it/s]#033[A\u001b[0m\n",
      "\u001b[34m#015 95%|█████████▍| 149/157 [00:48<00:02,  3.05it/s]#033[A\u001b[0m\n",
      "\u001b[34m#015 96%|█████████▌| 150/157 [00:49<00:02,  3.06it/s]#033[A\u001b[0m\n",
      "\u001b[34m#015 96%|█████████▌| 151/157 [00:49<00:01,  3.06it/s]#033[A\u001b[0m\n",
      "\u001b[34m#015 97%|█████████▋| 152/157 [00:49<00:01,  3.06it/s]#033[A\u001b[0m\n",
      "\u001b[34m#015 97%|█████████▋| 153/157 [00:50<00:01,  3.06it/s]#033[A\u001b[0m\n",
      "\u001b[34m#015 98%|█████████▊| 154/157 [00:50<00:00,  3.06it/s]#033[A\u001b[0m\n",
      "\u001b[34m#015 99%|█████████▊| 155/157 [00:50<00:00,  3.06it/s]#033[A\u001b[0m\n",
      "\u001b[34m#015 99%|█████████▉| 156/157 [00:50<00:00,  3.06it/s]#033[A#015                                                 #015\u001b[0m\n",
      "\u001b[34m#015                                                 #015#033[A#015100%|██████████| 782/782 [08:13<00:00,  2.19it/s]\u001b[0m\n",
      "\u001b[34m#015100%|██████████| 157/157 [00:51<00:00,  3.06it/s]#033[A\u001b[0m\n",
      "\u001b[34m#015                                                 #033[A#015                                                 #015#015100%|██████████| 782/782 [08:13<00:00,  2.19it/s]#015100%|██████████| 782/782 [08:13<00:00,  1.58it/s]\u001b[0m\n",
      "\u001b[34m#015  0%|          | 0/157 [00:00<?, ?it/s]#015  1%|▏         | 2/157 [00:00<00:25,  6.13it/s]#015  2%|▏         | 3/157 [00:00<00:32,  4.71it/s]#015  3%|▎         | 4/157 [00:00<00:37,  4.06it/s]#015  3%|▎         | 5/157 [00:01<00:41,  3.70it/s]#015  4%|▍         | 6/157 [00:01<00:43,  3.47it/s]#015  4%|▍         | 7/157 [00:01<00:45,  3.33it/s]#015  5%|▌         | 8/157 [00:02<00:45,  3.25it/s]#015  6%|▌         | 9/157 [00:02<00:46,  3.19it/s]#015  6%|▋         | 10/157 [00:02<00:46,  3.15it/s]#015  7%|▋         | 11/157 [00:03<00:46,  3.11it/s]#015  8%|▊         | 12/157 [00:03<00:47,  3.08it/s]#015  8%|▊         | 13/157 [00:03<00:47,  3.06it/s]#015  9%|▉         | 14/157 [00:04<00:47,  3.04it/s]#015 10%|▉         | 15/157 [00:04<00:46,  3.04it/s]#015 10%|█         | 16/157 [00:04<00:46,  3.05it/s]#015 11%|█         | 17/157 [00:05<00:45,  3.05it/s]#015 11%|█▏        | 18/157 [00:05<00:45,  3.05it/s]#015 12%|█▏        | 19/157 [00:05<00:45,  3.05it/s]#015 13%|█▎        | 20/157 [00:06<00:44,  3.05it/s]#015 13%|█▎        | 21/157 [00:06<00:44,  3.05it/s]#015 14%|█▍        | 22/157 [00:06<00:44,  3.05it/s]#015 15%|█▍        | 23/157 [00:07<00:43,  3.05it/s]#015 15%|█▌        | 24/157 [00:07<00:43,  3.04it/s]#015 16%|█▌        | 25/157 [00:07<00:43,  3.05it/s]#015 17%|█▋        | 26/157 [00:08<00:42,  3.05it/s]#015 17%|█▋        | 27/157 [00:08<00:42,  3.05it/s]#015 18%|█▊        | 28/157 [00:08<00:42,  3.05it/s]#015 18%|█▊        | 29/157 [00:09<00:42,  3.05it/s]#015 19%|█▉        | 30/157 [00:09<00:41,  3.05it/s]#015 20%|█▉        | 31/157 [00:09<00:41,  3.05it/s]#015 20%|██        | 32/157 [00:10<00:40,  3.06it/s]#015 21%|██        | 33/157 [00:10<00:40,  3.03it/s]#015 22%|██▏       | 34/157 [00:10<00:40,  3.03it/s]#015 22%|██▏       | 35/157 [00:11<00:40,  3.03it/s]#015 23%|██▎       | 36/157 [00:11<00:40,  3.02it/s]#015 24%|██▎       | 37/157 [00:11<00:39,  3.01it/s]#015 24%|██▍       | 38/157 [00:12<00:39,  3.02it/s]#015 25%|██▍       | 39/157 [00:12<00:38,  3.03it/s]#015 25%|██▌       | 40/157 [00:12<00:38,  3.04it/s]#015 26%|██▌       | 41/157 [00:13<00:38,  3.04it/s]#015 27%|██▋       | 42/157 [00:13<00:37,  3.04it/s]#015 27%|██▋       | 43/157 [00:13<00:37,  3.03it/s]#015 28%|██▊       | 44/157 [00:14<00:37,  3.03it/s]#015 29%|██▊       | 45/157 [00:14<00:36,  3.03it/s]#015 29%|██▉       | 46/157 [00:14<00:36,  3.03it/s]#015 30%|██▉       | 47/157 [00:15<00:36,  3.04it/s]#015 31%|███       | 48/157 [00:15<00:35,  3.04it/s]#015 31%|███       | 49/157 [00:15<00:35,  3.04it/s]#015 32%|███▏      | 50/157 [00:16<00:35,  3.04it/s]#015 32%|███▏      | 51/157 [00:16<00:34,  3.04it/s]#015 33%|███▎      | 52/157 [00:16<00:34,  3.03it/s]#015 34%|███▍      | 53/157 [00:17<00:34,  3.04it/s]#015 34%|███▍      | 54/157 [00:17<00:33,  3.03it/s]#015 35%|███▌      | 55/157 [00:17<00:33,  3.03it/s]#015 36%|███▌      | 56/157 [00:18<00:33,  3.04it/s]#015 36%|███▋      | 57/157 [00:18<00:32,  3.05it/s]#015 37%|███▋      | 58/157 [00:18<00:32,  3.05it/s]#015 38%|███▊      | 59/157 [00:19<00:32,  3.05it/s]#015 38%|███▊      | 60/157 [00:19<00:31,  3.06it/s]#015 39%|███▉      | 61/157 [00:19<00:31,  3.06it/s]#015 39%|███▉      | 62/157 [00:20<00:31,  3.05it/s]#015 40%|████      | 63/157 [00:20<00:30,  3.05it/s]#015 41%|████      | 64/157 [00:20<00:30,  3.05it/s]#015 41%|████▏     | 65/157 [00:21<00:30,  3.05it/s]#015 42%|████▏     | 66/157 [00:21<00:29,  3.06it/s]#015 43%|████▎     | 67/157 [00:21<00:29,  3.06it/s]#015 43%|████▎     | 68/157 [00:22<00:29,  3.05it/s]#015 44%|████▍     | 69/157 [00:22<00:28,  3.05it/s]#015 45%|████▍     | 70/157 [00:22<00:28,  3.05it/s]#015 45%|████▌     | 71/157 [00:22<00:28,  3.05it/s]#015 46%|████▌     | 72/157 [00:23<00:27,  3.06it/s]#015 46%|████▋     | 73/157 [00:23<00:27,  3.05it/s]#015 47%|████▋     | 74/157 [00:23<00:27,  3.06it/s]#015 48%|████▊     | 75/157 [00:24<00:26,  3.06it/s]#015 48%|████▊     | 76/157 [00:24<00:26,  3.05it/s]#015 49%|████▉     | 77/157 [00:24<00:26,  3.05it/s]#015 50%|████▉     | 78/157 [00:25<00:25,  3.06it/s]#015 50%|█████     | 79/157 [00:25<00:25,  3.06it/s]#015 51%|█████     | 80/157 [00:25<00:25,  3.05it/s]#015 52%|█████▏    | 81/157 [00:26<00:25,  3.04it/s]#015 52%|█████▏    | 82/157 [00:26<00:24,  3.04it/s]#015 53%|█████▎    | 83/157 [00:26<00:24,  3.04it/s]#015 54%|█████▎    | 84/157 [00:27<00:23,  3.05it/s]#015 54%|█████▍    | 85/157 [00:27<00:23,  3.05it/s]#015 55%|█████▍    | 86/157 [00:27<00:23,  3.05it/s]#015 55%|█████▌    | 87/157 [00:28<00:22,  3.06it/s]#015 56%|█████▌    | 88/157 [00:28<00:22,  3.06it/s]#015 57%|█████▋    | 89/157 [00:28<00:22,  3.06it/s]#015 57%|█████▋    | 90/157 [00:29<00:21,  3.06it/s]#015 58%|█████▊    | 91/157 [00:29<00:21,  3.06it/s]#015 59%|█████▊    | 92/157 [00:29<00:21,  3.06it/s]#015 59%|█████▉    | 93/157 [00:30<00:20,  3.06it/s]#015 60%|█████▉    | 94/157 [00:30<00:20,  3.05it/s]#015 61%|██████    | 95/157 [00:30<00:20,  3.05it/s]#015 61%|██████    | 96/157 [00:31<00:19,  3.05it/s]#015 62%|██████▏   | 97/157 [00:31<00:19,  3.05it/s]#015 62%|██████▏   | 98/157 [00:31<00:19,  3.05it/s]#015 63%|██████▎   | 99/157 [00:32<00:19,  3.04it/s]#015 64%|██████▎   | 100/157 [00:32<00:18,  3.05it/s]#015 64%|██████▍   | 101/157 [00:32<00:18,  3.04it/s]#015 65%|██████▍   | 102/157 [00:33<00:18,  3.03it/s]#015 66%|██████▌   | 103/157 [00:33<00:17,  3.03it/s]#015 66%|██████▌   | 104/157 [00:33<00:17,  3.03it/s]#015 67%|██████▋   | 105/157 [00:34<00:17,  3.04it/s]#015 68%|██████▊   | 106/157 [00:34<00:16,  3.04it/s]#015 68%|██████▊   | 107/157 [00:34<00:16,  3.04it/s]#015 69%|██████▉   | 108/157 [00:35<00:16,  3.04it/s]#015 69%|██████▉   | 109/157 [00:35<00:15,  3.04it/s]#015 70%|███████   | 110/157 [00:35<00:15,  3.04it/s]#015 71%|███████   | 111/157 [00:36<00:15,  3.05it/s]#015 71%|███████▏  | 112/157 [00:36<00:14,  3.05it/s]#015 72%|███████▏  | 113/157 [00:36<00:14,  3.05it/s]#015 73%|███████▎  | 114/157 [00:37<00:14,  3.05it/s]#015 73%|███████▎  | 115/157 [00:37<00:13,  3.05it/s]#015 74%|███████▍  | 116/157 [00:37<00:13,  3.04it/s]#015 75%|███████▍  | 117/157 [00:38<00:13,  3.05it/s]#015 75%|███████▌  | 118/157 [00:38<00:12,  3.05it/s]#015 76%|███████▌  | 119/157 [00:38<00:12,  3.05it/s]#015 76%|███████▋  | 120/157 [00:39<00:12,  3.05it/s]#015 77%|███████▋  | 121/157 [00:39<00:11,  3.05it/s]#015 78%|███████▊  | 122/157 [00:39<00:11,  3.05it/s]#015 78%|███████▊  | 123/157 [00:40<00:11,  3.05it/s]#015 79%|███████▉  | 124/157 [00:40<00:10,  3.05it/s]#015 80%|███████▉  | 125/157 [00:40<00:10,  3.05it/s]#015 80%|████████  | 126/157 [00:41<00:10,  3.05it/s]#015 81%|████████  | 127/157 [00:41<00:09,  3.05it/s]#015 82%|████████▏ | 128/157 [00:41<00:09,  3.05it/s]#015 82%|████████▏ | 129/157 [00:42<00:09,  3.05it/s]#015 83%|████████▎ | 130/157 [00:42<00:08,  3.05it/s]#015 83%|████████▎ | 131/157 [00:42<00:08,  3.05it/s]#015 84%|████████▍ | 132/157 [00:42<00:08,  3.05it/s]#015 85%|████████▍ | 133/157 [00:43<00:07,  3.05it/s]#015 85%|████████▌ | 134/157 [00:43<00:07,  3.05it/s]#015 86%|████████▌ | 135/157 [00:43<00:07,  3.05it/s]#015 87%|████████▋ | 136/157 [00:44<00:06,  3.04it/s]#015 87%|████████▋ | 137/157 [00:44<00:06,  3.02it/s]#015 88%|████████▊ | 138/157 [00:44<00:06,  3.01it/s]#015 89%|████████▊ | 139/157 [00:45<00:05,  3.02it/s]#015 89%|████████▉ | 140/157 [00:45<00:05,  3.03it/s]#015 90%|████████▉ | 141/157 [00:45<00:05,  3.02it/s]#015 90%|█████████ | 142/157 [00:46<00:04,  3.01it/s]#015 91%|█████████ | 143/157 [00:46<00:04,  3.01it/s]#015 92%|█████████▏| 144/157 [00:46<00:04,  3.02it/s]#015 92%|█████████▏| 145/157 [00:47<00:03,  3.03it/s]#015 93%|█████████▎| 146/157 [00:47<00:03,  3.03it/s]#015 94%|█████████▎| 147/157 [00:47<00:03,  3.02it/s]#015 94%|█████████▍| 148/157 [00:48<00:02,  3.03it/s]#015 95%|█████████▍| 149/157 [00:48<00:02,  3.04it/s]#015 96%|█████████▌| 150/157 [00:48<00:02,  3.03it/s]#015 96%|█████████▌| 151/157 [00:49<00:01,  3.03it/s]#015 97%|█████████▋| 152/157 [00:49<00:01,  3.04it/s]#015 97%|█████████▋| 153/157 [00:49<00:01,  3.04it/s]#015 98%|█████████▊| 154/157 [00:50<00:00,  3.04it/s]#015 99%|█████████▊| 155/157 [00:50<00:00,  3.05it/s]#015 99%|█████████▉| 156/157 [00:50<00:00,  3.05it/s]#015100%|██████████| 157/157 [00:51<00:00,  3.08it/s]\u001b[0m\n",
      "\n",
      "2022-02-18 00:56:41 Uploading - Uploading generated training model\n",
      "2022-02-18 00:59:01 Completed - Training job completed\n",
      "Training seconds: 955\n",
      "Billable seconds: 955\n"
     ]
    }
   ],
   "source": [
    "# starting the train job with our uploaded datasets as input\n",
    "huggingface_estimator.fit({'train': training_input_path, 'test': test_input_path})"
   ]
  },
  {
   "cell_type": "markdown",
   "metadata": {},
   "source": [
    "## Deploying the endpoint\n",
    "\n",
    "To deploy our endpoint, we call `deploy()` on our HuggingFace estimator object, passing in our desired number of instances and instance type."
   ]
  },
  {
   "cell_type": "code",
   "execution_count": 20,
   "metadata": {},
   "outputs": [
    {
     "name": "stdout",
     "output_type": "stream",
     "text": [
      "-------!"
     ]
    }
   ],
   "source": [
    "predictor = huggingface_estimator.deploy(1,\"ml.g4dn.xlarge\")"
   ]
  },
  {
   "cell_type": "markdown",
   "metadata": {},
   "source": [
    "Then, we use the returned predictor object to call the endpoint."
   ]
  },
  {
   "cell_type": "code",
   "execution_count": 21,
   "metadata": {},
   "outputs": [
    {
     "data": {
      "text/plain": [
       "[{'label': 'LABEL_1', 'score': 0.9351077675819397}]"
      ]
     },
     "execution_count": 21,
     "metadata": {},
     "output_type": "execute_result"
    }
   ],
   "source": [
    "sentiment_input= {\"inputs\":\"I love using the new Inference DLC.\"}\n",
    "\n",
    "predictor.predict(sentiment_input)"
   ]
  },
  {
   "cell_type": "markdown",
   "metadata": {},
   "source": [
    "Finally, we delete the endpoint again."
   ]
  },
  {
   "cell_type": "code",
   "execution_count": 24,
   "metadata": {},
   "outputs": [],
   "source": [
    "predictor.delete_endpoint()"
   ]
  },
  {
   "cell_type": "markdown",
   "metadata": {},
   "source": [
    "# Extras"
   ]
  },
  {
   "cell_type": "markdown",
   "metadata": {},
   "source": [
    "### Estimator Parameters"
   ]
  },
  {
   "cell_type": "code",
   "execution_count": 22,
   "metadata": {
    "scrolled": true
   },
   "outputs": [
    {
     "name": "stdout",
     "output_type": "stream",
     "text": [
      "container image used for training job: \n",
      "None\n",
      "\n",
      "s3 uri where the trained model is located: \n",
      "s3://sagemaker-us-east-1-647333706880/huggingface-pytorch-training-2022-02-18-00-39-49-588/output/model.tar.gz\n",
      "\n",
      "latest training job name for this estimator: \n",
      "huggingface-pytorch-training-2022-02-18-00-39-49-588\n",
      "\n"
     ]
    }
   ],
   "source": [
    "# container image used for training job\n",
    "print(f\"container image used for training job: \\n{huggingface_estimator.image_uri}\\n\")\n",
    "\n",
    "# s3 uri where the trained model is located\n",
    "print(f\"s3 uri where the trained model is located: \\n{huggingface_estimator.model_data}\\n\")\n",
    "\n",
    "# latest training job name for this estimator\n",
    "print(f\"latest training job name for this estimator: \\n{huggingface_estimator.latest_training_job.name}\\n\")\n",
    "\n"
   ]
  },
  {
   "cell_type": "code",
   "execution_count": 23,
   "metadata": {},
   "outputs": [
    {
     "name": "stdout",
     "output_type": "stream",
     "text": [
      "2022-02-18 00:59:21 Starting - Preparing the instances for training\n",
      "2022-02-18 00:59:21 Downloading - Downloading input data\n",
      "2022-02-18 00:59:21 Training - Training image download completed. Training in progress.\n",
      "2022-02-18 00:59:21 Uploading - Uploading generated training model\n",
      "2022-02-18 00:59:21 Completed - Training job completed\u001b[34mbash: cannot set terminal process group (-1): Inappropriate ioctl for device\u001b[0m\n",
      "\u001b[34mbash: no job control in this shell\u001b[0m\n",
      "\u001b[34m2022-02-18 00:46:22,223 sagemaker-training-toolkit INFO     Imported framework sagemaker_pytorch_container.training\u001b[0m\n",
      "\u001b[34m2022-02-18 00:46:22,246 sagemaker_pytorch_container.training INFO     Block until all host DNS lookups succeed.\u001b[0m\n",
      "\u001b[34m2022-02-18 00:46:22,257 sagemaker_pytorch_container.training INFO     Invoking user training script.\u001b[0m\n",
      "\u001b[34m2022-02-18 00:46:22,806 sagemaker-training-toolkit INFO     Invoking user script\u001b[0m\n",
      "\u001b[34mTraining Env:\u001b[0m\n",
      "\u001b[34m{\n",
      "    \"additional_framework_parameters\": {},\n",
      "    \"channel_input_dirs\": {\n",
      "        \"test\": \"/opt/ml/input/data/test\",\n",
      "        \"train\": \"/opt/ml/input/data/train\"\n",
      "    },\n",
      "    \"current_host\": \"algo-1\",\n",
      "    \"framework_module\": \"sagemaker_pytorch_container.training:main\",\n",
      "    \"hosts\": [\n",
      "        \"algo-1\"\n",
      "    ],\n",
      "    \"hyperparameters\": {\n",
      "        \"train_batch_size\": 32,\n",
      "        \"model_name\": \"distilbert-base-uncased\",\n",
      "        \"epochs\": 1\n",
      "    },\n",
      "    \"input_config_dir\": \"/opt/ml/input/config\",\n",
      "    \"input_data_config\": {\n",
      "        \"test\": {\n",
      "            \"TrainingInputMode\": \"File\",\n",
      "            \"S3DistributionType\": \"FullyReplicated\",\n",
      "            \"RecordWrapperType\": \"None\"\n",
      "        },\n",
      "        \"train\": {\n",
      "            \"TrainingInputMode\": \"File\",\n",
      "            \"S3DistributionType\": \"FullyReplicated\",\n",
      "            \"RecordWrapperType\": \"None\"\n",
      "        }\n",
      "    },\n",
      "    \"input_dir\": \"/opt/ml/input\",\n",
      "    \"is_master\": true,\n",
      "    \"job_name\": \"huggingface-pytorch-training-2022-02-18-00-39-49-588\",\n",
      "    \"log_level\": 20,\n",
      "    \"master_hostname\": \"algo-1\",\n",
      "    \"model_dir\": \"/opt/ml/model\",\n",
      "    \"module_dir\": \"s3://sagemaker-us-east-1-647333706880/huggingface-pytorch-training-2022-02-18-00-39-49-588/source/sourcedir.tar.gz\",\n",
      "    \"module_name\": \"train\",\n",
      "    \"network_interface_name\": \"eth0\",\n",
      "    \"num_cpus\": 8,\n",
      "    \"num_gpus\": 1,\n",
      "    \"output_data_dir\": \"/opt/ml/output/data\",\n",
      "    \"output_dir\": \"/opt/ml/output\",\n",
      "    \"output_intermediate_dir\": \"/opt/ml/output/intermediate\",\n",
      "    \"resource_config\": {\n",
      "        \"current_host\": \"algo-1\",\n",
      "        \"hosts\": [\n",
      "            \"algo-1\"\n",
      "        ],\n",
      "        \"network_interface_name\": \"eth0\"\n",
      "    },\n",
      "    \"user_entry_point\": \"train.py\"\u001b[0m\n",
      "\u001b[34m}\u001b[0m\n",
      "\u001b[34mEnvironment variables:\u001b[0m\n",
      "\u001b[34mSM_HOSTS=[\"algo-1\"]\u001b[0m\n",
      "\u001b[34mSM_NETWORK_INTERFACE_NAME=eth0\u001b[0m\n",
      "\u001b[34mSM_HPS={\"epochs\":1,\"model_name\":\"distilbert-base-uncased\",\"train_batch_size\":32}\u001b[0m\n",
      "\u001b[34mSM_USER_ENTRY_POINT=train.py\u001b[0m\n",
      "\u001b[34mSM_FRAMEWORK_PARAMS={}\u001b[0m\n",
      "\u001b[34mSM_RESOURCE_CONFIG={\"current_host\":\"algo-1\",\"hosts\":[\"algo-1\"],\"network_interface_name\":\"eth0\"}\u001b[0m\n",
      "\u001b[34mSM_INPUT_DATA_CONFIG={\"test\":{\"RecordWrapperType\":\"None\",\"S3DistributionType\":\"FullyReplicated\",\"TrainingInputMode\":\"File\"},\"train\":{\"RecordWrapperType\":\"None\",\"S3DistributionType\":\"FullyReplicated\",\"TrainingInputMode\":\"File\"}}\u001b[0m\n",
      "\u001b[34mSM_OUTPUT_DATA_DIR=/opt/ml/output/data\u001b[0m\n",
      "\u001b[34mSM_CHANNELS=[\"test\",\"train\"]\u001b[0m\n",
      "\u001b[34mSM_CURRENT_HOST=algo-1\u001b[0m\n",
      "\u001b[34mSM_MODULE_NAME=train\u001b[0m\n",
      "\u001b[34mSM_LOG_LEVEL=20\u001b[0m\n",
      "\u001b[34mSM_FRAMEWORK_MODULE=sagemaker_pytorch_container.training:main\u001b[0m\n",
      "\u001b[34mSM_INPUT_DIR=/opt/ml/input\u001b[0m\n",
      "\u001b[34mSM_INPUT_CONFIG_DIR=/opt/ml/input/config\u001b[0m\n",
      "\u001b[34mSM_OUTPUT_DIR=/opt/ml/output\u001b[0m\n",
      "\u001b[34mSM_NUM_CPUS=8\u001b[0m\n",
      "\u001b[34mSM_NUM_GPUS=1\u001b[0m\n",
      "\u001b[34mSM_MODEL_DIR=/opt/ml/model\u001b[0m\n",
      "\u001b[34mSM_MODULE_DIR=s3://sagemaker-us-east-1-647333706880/huggingface-pytorch-training-2022-02-18-00-39-49-588/source/sourcedir.tar.gz\u001b[0m\n",
      "\u001b[34mSM_TRAINING_ENV={\"additional_framework_parameters\":{},\"channel_input_dirs\":{\"test\":\"/opt/ml/input/data/test\",\"train\":\"/opt/ml/input/data/train\"},\"current_host\":\"algo-1\",\"framework_module\":\"sagemaker_pytorch_container.training:main\",\"hosts\":[\"algo-1\"],\"hyperparameters\":{\"epochs\":1,\"model_name\":\"distilbert-base-uncased\",\"train_batch_size\":32},\"input_config_dir\":\"/opt/ml/input/config\",\"input_data_config\":{\"test\":{\"RecordWrapperType\":\"None\",\"S3DistributionType\":\"FullyReplicated\",\"TrainingInputMode\":\"File\"},\"train\":{\"RecordWrapperType\":\"None\",\"S3DistributionType\":\"FullyReplicated\",\"TrainingInputMode\":\"File\"}},\"input_dir\":\"/opt/ml/input\",\"is_master\":true,\"job_name\":\"huggingface-pytorch-training-2022-02-18-00-39-49-588\",\"log_level\":20,\"master_hostname\":\"algo-1\",\"model_dir\":\"/opt/ml/model\",\"module_dir\":\"s3://sagemaker-us-east-1-647333706880/huggingface-pytorch-training-2022-02-18-00-39-49-588/source/sourcedir.tar.gz\",\"module_name\":\"train\",\"network_interface_name\":\"eth0\",\"num_cpus\":8,\"num_gpus\":1,\"output_data_dir\":\"/opt/ml/output/data\",\"output_dir\":\"/opt/ml/output\",\"output_intermediate_dir\":\"/opt/ml/output/intermediate\",\"resource_config\":{\"current_host\":\"algo-1\",\"hosts\":[\"algo-1\"],\"network_interface_name\":\"eth0\"},\"user_entry_point\":\"train.py\"}\u001b[0m\n",
      "\u001b[34mSM_USER_ARGS=[\"--epochs\",\"1\",\"--model_name\",\"distilbert-base-uncased\",\"--train_batch_size\",\"32\"]\u001b[0m\n",
      "\u001b[34mSM_OUTPUT_INTERMEDIATE_DIR=/opt/ml/output/intermediate\u001b[0m\n",
      "\u001b[34mSM_CHANNEL_TEST=/opt/ml/input/data/test\u001b[0m\n",
      "\u001b[34mSM_CHANNEL_TRAIN=/opt/ml/input/data/train\u001b[0m\n",
      "\u001b[34mSM_HP_TRAIN_BATCH_SIZE=32\u001b[0m\n",
      "\u001b[34mSM_HP_MODEL_NAME=distilbert-base-uncased\u001b[0m\n",
      "\u001b[34mSM_HP_EPOCHS=1\u001b[0m\n",
      "\u001b[34mPYTHONPATH=/opt/ml/code:/opt/conda/bin:/opt/conda/lib/python36.zip:/opt/conda/lib/python3.6:/opt/conda/lib/python3.6/lib-dynload:/opt/conda/lib/python3.6/site-packages\u001b[0m\n",
      "\u001b[34mInvoking script with the following command:\u001b[0m\n",
      "\u001b[34m/opt/conda/bin/python3.6 train.py --epochs 1 --model_name distilbert-base-uncased --train_batch_size 32\u001b[0m\n",
      "\u001b[34m2022-02-18 00:46:28,698 - __main__ - INFO -  loaded train_dataset length is: 25000\u001b[0m\n",
      "\u001b[34m2022-02-18 00:46:28,698 - __main__ - INFO -  loaded test_dataset length is: 10000\u001b[0m\n",
      "\u001b[34m2022-02-18 00:46:28,733 - filelock - INFO - Lock 140690432969024 acquired on /root/.cache/huggingface/transformers/23454919702d26495337f3da04d1655c7ee010d5ec9d77bdb9e399e00302c0a1.91b885ab15d631bf9cee9dc9d25ece0afd932f2f5130eba28f2055b2220c0333.lock\u001b[0m\n",
      "\u001b[34m2022-02-18 00:46:28,762 - filelock - INFO - Lock 140690432969024 released on /root/.cache/huggingface/transformers/23454919702d26495337f3da04d1655c7ee010d5ec9d77bdb9e399e00302c0a1.91b885ab15d631bf9cee9dc9d25ece0afd932f2f5130eba28f2055b2220c0333.lock\u001b[0m\n",
      "\u001b[34m2022-02-18 00:46:28,793 - filelock - INFO - Lock 140690198083232 acquired on /root/.cache/huggingface/transformers/9c169103d7e5a73936dd2b627e42851bec0831212b677c637033ee4bce9ab5ee.126183e36667471617ae2f0835fab707baa54b731f991507ebbb55ea85adb12a.lock\u001b[0m\n",
      "\u001b[34m2022-02-18 00:46:33,413 - filelock - INFO - Lock 140690198083232 released on /root/.cache/huggingface/transformers/9c169103d7e5a73936dd2b627e42851bec0831212b677c637033ee4bce9ab5ee.126183e36667471617ae2f0835fab707baa54b731f991507ebbb55ea85adb12a.lock\u001b[0m\n",
      "\u001b[34mSome weights of the model checkpoint at distilbert-base-uncased were not used when initializing DistilBertForSequenceClassification: ['vocab_projector.bias', 'vocab_projector.weight', 'vocab_layer_norm.weight', 'vocab_layer_norm.bias', 'vocab_transform.weight', 'vocab_transform.bias']\u001b[0m\n",
      "\u001b[34m- This IS expected if you are initializing DistilBertForSequenceClassification from the checkpoint of a model trained on another task or with another architecture (e.g. initializing a BertForSequenceClassification model from a BertForPreTraining model).\u001b[0m\n",
      "\u001b[34m- This IS NOT expected if you are initializing DistilBertForSequenceClassification from the checkpoint of a model that you expect to be exactly identical (initializing a BertForSequenceClassification model from a BertForSequenceClassification model).\u001b[0m\n",
      "\u001b[34mSome weights of DistilBertForSequenceClassification were not initialized from the model checkpoint at distilbert-base-uncased and are newly initialized: ['classifier.bias', 'pre_classifier.bias', 'pre_classifier.weight', 'classifier.weight']\u001b[0m\n",
      "\u001b[34mYou should probably TRAIN this model on a down-stream task to be able to use it for predictions and inference.\u001b[0m\n",
      "\u001b[34m2022-02-18 00:46:34,348 - filelock - INFO - Lock 140690191919144 acquired on /root/.cache/huggingface/transformers/0e1bbfda7f63a99bb52e3915dcf10c3c92122b827d92eb2d34ce94ee79ba486c.d789d64ebfe299b0e416afc4a169632f903f693095b4629a7ea271d5a0cf2c99.lock\u001b[0m\n",
      "\u001b[34m2022-02-18 00:46:34,382 - filelock - INFO - Lock 140690191919144 released on /root/.cache/huggingface/transformers/0e1bbfda7f63a99bb52e3915dcf10c3c92122b827d92eb2d34ce94ee79ba486c.d789d64ebfe299b0e416afc4a169632f903f693095b4629a7ea271d5a0cf2c99.lock\u001b[0m\n",
      "\u001b[34m2022-02-18 00:46:34,410 - filelock - INFO - Lock 140690191919536 acquired on /root/.cache/huggingface/transformers/75abb59d7a06f4f640158a9bfcde005264e59e8d566781ab1415b139d2e4c603.7f2721073f19841be16f41b0a70b600ca6b880c8f3df6f3535cbc704371bdfa4.lock\u001b[0m\n",
      "\u001b[34m2022-02-18 00:46:34,448 - filelock - INFO - Lock 140690191919536 released on /root/.cache/huggingface/transformers/75abb59d7a06f4f640158a9bfcde005264e59e8d566781ab1415b139d2e4c603.7f2721073f19841be16f41b0a70b600ca6b880c8f3df6f3535cbc704371bdfa4.lock\u001b[0m\n",
      "\u001b[34m2022-02-18 00:46:34,540 - filelock - INFO - Lock 140690191920992 acquired on /root/.cache/huggingface/transformers/8c8624b8ac8aa99c60c912161f8332de003484428c47906d7ff7eb7f73eecdbb.20430bd8e10ef77a7d2977accefe796051e01bc2fc4aa146bc862997a1a15e79.lock\u001b[0m\n",
      "\u001b[34m2022-02-18 00:46:34,565 - filelock - INFO - Lock 140690191920992 released on /root/.cache/huggingface/transformers/8c8624b8ac8aa99c60c912161f8332de003484428c47906d7ff7eb7f73eecdbb.20430bd8e10ef77a7d2977accefe796051e01bc2fc4aa146bc862997a1a15e79.lock\u001b[0m\n",
      "\u001b[34m[2022-02-18 00:46:40.640 algo-1:26 INFO utils.py:27] RULE_JOB_STOP_SIGNAL_FILENAME: None\u001b[0m\n",
      "\u001b[34m[2022-02-18 00:46:40.815 algo-1:26 INFO profiler_config_parser.py:102] User has disabled profiler.\u001b[0m\n",
      "\u001b[34m[2022-02-18 00:46:40.816 algo-1:26 INFO json_config.py:91] Creating hook from json_config at /opt/ml/input/config/debughookconfig.json.\u001b[0m\n",
      "\u001b[34m[2022-02-18 00:46:40.817 algo-1:26 INFO hook.py:201] tensorboard_dir has not been set for the hook. SMDebug will not be exporting tensorboard summaries.\u001b[0m\n",
      "\u001b[34m[2022-02-18 00:46:40.818 algo-1:26 INFO hook.py:255] Saving to /opt/ml/output/tensors\u001b[0m\n",
      "\u001b[34m[2022-02-18 00:46:40.818 algo-1:26 INFO state_store.py:77] The checkpoint config file /opt/ml/input/config/checkpointconfig.json does not exist.\u001b[0m\n",
      "\u001b[34m[2022-02-18 00:46:41.027 algo-1:26 INFO hook.py:591] name:distilbert.embeddings.word_embeddings.weight count_params:23440896\u001b[0m\n",
      "\u001b[34m[2022-02-18 00:46:41.027 algo-1:26 INFO hook.py:591] name:distilbert.embeddings.position_embeddings.weight count_params:393216\u001b[0m\n",
      "\u001b[34m[2022-02-18 00:46:41.027 algo-1:26 INFO hook.py:591] name:distilbert.embeddings.LayerNorm.weight count_params:768\u001b[0m\n",
      "\u001b[34m[2022-02-18 00:46:41.028 algo-1:26 INFO hook.py:591] name:distilbert.embeddings.LayerNorm.bias count_params:768\u001b[0m\n",
      "\u001b[34m[2022-02-18 00:46:41.028 algo-1:26 INFO hook.py:591] name:distilbert.transformer.layer.0.attention.q_lin.weight count_params:589824\u001b[0m\n",
      "\u001b[34m[2022-02-18 00:46:41.028 algo-1:26 INFO hook.py:591] name:distilbert.transformer.layer.0.attention.q_lin.bias count_params:768\u001b[0m\n",
      "\u001b[34m[2022-02-18 00:46:41.028 algo-1:26 INFO hook.py:591] name:distilbert.transformer.layer.0.attention.k_lin.weight count_params:589824\u001b[0m\n",
      "\u001b[34m[2022-02-18 00:46:41.028 algo-1:26 INFO hook.py:591] name:distilbert.transformer.layer.0.attention.k_lin.bias count_params:768\u001b[0m\n",
      "\u001b[34m[2022-02-18 00:46:41.028 algo-1:26 INFO hook.py:591] name:distilbert.transformer.layer.0.attention.v_lin.weight count_params:589824\u001b[0m\n",
      "\u001b[34m[2022-02-18 00:46:41.028 algo-1:26 INFO hook.py:591] name:distilbert.transformer.layer.0.attention.v_lin.bias count_params:768\u001b[0m\n",
      "\u001b[34m[2022-02-18 00:46:41.029 algo-1:26 INFO hook.py:591] name:distilbert.transformer.layer.0.attention.out_lin.weight count_params:589824\u001b[0m\n",
      "\u001b[34m[2022-02-18 00:46:41.029 algo-1:26 INFO hook.py:591] name:distilbert.transformer.layer.0.attention.out_lin.bias count_params:768\u001b[0m\n",
      "\u001b[34m[2022-02-18 00:46:41.029 algo-1:26 INFO hook.py:591] name:distilbert.transformer.layer.0.sa_layer_norm.weight count_params:768\u001b[0m\n",
      "\u001b[34m[2022-02-18 00:46:41.029 algo-1:26 INFO hook.py:591] name:distilbert.transformer.layer.0.sa_layer_norm.bias count_params:768\u001b[0m\n",
      "\u001b[34m[2022-02-18 00:46:41.029 algo-1:26 INFO hook.py:591] name:distilbert.transformer.layer.0.ffn.lin1.weight count_params:2359296\u001b[0m\n",
      "\u001b[34m[2022-02-18 00:46:41.029 algo-1:26 INFO hook.py:591] name:distilbert.transformer.layer.0.ffn.lin1.bias count_params:3072\u001b[0m\n",
      "\u001b[34m[2022-02-18 00:46:41.029 algo-1:26 INFO hook.py:591] name:distilbert.transformer.layer.0.ffn.lin2.weight count_params:2359296\u001b[0m\n",
      "\u001b[34m[2022-02-18 00:46:41.030 algo-1:26 INFO hook.py:591] name:distilbert.transformer.layer.0.ffn.lin2.bias count_params:768\u001b[0m\n",
      "\u001b[34m[2022-02-18 00:46:41.030 algo-1:26 INFO hook.py:591] name:distilbert.transformer.layer.0.output_layer_norm.weight count_params:768\u001b[0m\n",
      "\u001b[34m[2022-02-18 00:46:41.030 algo-1:26 INFO hook.py:591] name:distilbert.transformer.layer.0.output_layer_norm.bias count_params:768\u001b[0m\n",
      "\u001b[34m[2022-02-18 00:46:41.030 algo-1:26 INFO hook.py:591] name:distilbert.transformer.layer.1.attention.q_lin.weight count_params:589824\u001b[0m\n",
      "\u001b[34m[2022-02-18 00:46:41.030 algo-1:26 INFO hook.py:591] name:distilbert.transformer.layer.1.attention.q_lin.bias count_params:768\u001b[0m\n",
      "\u001b[34m[2022-02-18 00:46:41.030 algo-1:26 INFO hook.py:591] name:distilbert.transformer.layer.1.attention.k_lin.weight count_params:589824\u001b[0m\n",
      "\u001b[34m[2022-02-18 00:46:41.030 algo-1:26 INFO hook.py:591] name:distilbert.transformer.layer.1.attention.k_lin.bias count_params:768\u001b[0m\n",
      "\u001b[34m[2022-02-18 00:46:41.031 algo-1:26 INFO hook.py:591] name:distilbert.transformer.layer.1.attention.v_lin.weight count_params:589824\u001b[0m\n",
      "\u001b[34m[2022-02-18 00:46:41.031 algo-1:26 INFO hook.py:591] name:distilbert.transformer.layer.1.attention.v_lin.bias count_params:768\u001b[0m\n",
      "\u001b[34m[2022-02-18 00:46:41.031 algo-1:26 INFO hook.py:591] name:distilbert.transformer.layer.1.attention.out_lin.weight count_params:589824\u001b[0m\n",
      "\u001b[34m[2022-02-18 00:46:41.031 algo-1:26 INFO hook.py:591] name:distilbert.transformer.layer.1.attention.out_lin.bias count_params:768\u001b[0m\n",
      "\u001b[34m[2022-02-18 00:46:41.031 algo-1:26 INFO hook.py:591] name:distilbert.transformer.layer.1.sa_layer_norm.weight count_params:768\u001b[0m\n",
      "\u001b[34m[2022-02-18 00:46:41.031 algo-1:26 INFO hook.py:591] name:distilbert.transformer.layer.1.sa_layer_norm.bias count_params:768\u001b[0m\n",
      "\u001b[34m[2022-02-18 00:46:41.031 algo-1:26 INFO hook.py:591] name:distilbert.transformer.layer.1.ffn.lin1.weight count_params:2359296\u001b[0m\n",
      "\u001b[34m[2022-02-18 00:46:41.032 algo-1:26 INFO hook.py:591] name:distilbert.transformer.layer.1.ffn.lin1.bias count_params:3072\u001b[0m\n",
      "\u001b[34m[2022-02-18 00:46:41.032 algo-1:26 INFO hook.py:591] name:distilbert.transformer.layer.1.ffn.lin2.weight count_params:2359296\u001b[0m\n",
      "\u001b[34m[2022-02-18 00:46:41.032 algo-1:26 INFO hook.py:591] name:distilbert.transformer.layer.1.ffn.lin2.bias count_params:768\u001b[0m\n",
      "\u001b[34m[2022-02-18 00:46:41.032 algo-1:26 INFO hook.py:591] name:distilbert.transformer.layer.1.output_layer_norm.weight count_params:768\u001b[0m\n",
      "\u001b[34m[2022-02-18 00:46:41.032 algo-1:26 INFO hook.py:591] name:distilbert.transformer.layer.1.output_layer_norm.bias count_params:768\u001b[0m\n",
      "\u001b[34m[2022-02-18 00:46:41.032 algo-1:26 INFO hook.py:591] name:distilbert.transformer.layer.2.attention.q_lin.weight count_params:589824\u001b[0m\n",
      "\u001b[34m[2022-02-18 00:46:41.032 algo-1:26 INFO hook.py:591] name:distilbert.transformer.layer.2.attention.q_lin.bias count_params:768\u001b[0m\n",
      "\u001b[34m[2022-02-18 00:46:41.032 algo-1:26 INFO hook.py:591] name:distilbert.transformer.layer.2.attention.k_lin.weight count_params:589824\u001b[0m\n",
      "\u001b[34m[2022-02-18 00:46:41.033 algo-1:26 INFO hook.py:591] name:distilbert.transformer.layer.2.attention.k_lin.bias count_params:768\u001b[0m\n",
      "\u001b[34m[2022-02-18 00:46:41.033 algo-1:26 INFO hook.py:591] name:distilbert.transformer.layer.2.attention.v_lin.weight count_params:589824\u001b[0m\n",
      "\u001b[34m[2022-02-18 00:46:41.033 algo-1:26 INFO hook.py:591] name:distilbert.transformer.layer.2.attention.v_lin.bias count_params:768\u001b[0m\n",
      "\u001b[34m[2022-02-18 00:46:41.033 algo-1:26 INFO hook.py:591] name:distilbert.transformer.layer.2.attention.out_lin.weight count_params:589824\u001b[0m\n",
      "\u001b[34m[2022-02-18 00:46:41.033 algo-1:26 INFO hook.py:591] name:distilbert.transformer.layer.2.attention.out_lin.bias count_params:768\u001b[0m\n",
      "\u001b[34m[2022-02-18 00:46:41.033 algo-1:26 INFO hook.py:591] name:distilbert.transformer.layer.2.sa_layer_norm.weight count_params:768\u001b[0m\n",
      "\u001b[34m[2022-02-18 00:46:41.033 algo-1:26 INFO hook.py:591] name:distilbert.transformer.layer.2.sa_layer_norm.bias count_params:768\u001b[0m\n",
      "\u001b[34m[2022-02-18 00:46:41.033 algo-1:26 INFO hook.py:591] name:distilbert.transformer.layer.2.ffn.lin1.weight count_params:2359296\u001b[0m\n",
      "\u001b[34m[2022-02-18 00:46:41.034 algo-1:26 INFO hook.py:591] name:distilbert.transformer.layer.2.ffn.lin1.bias count_params:3072\u001b[0m\n",
      "\u001b[34m[2022-02-18 00:46:41.034 algo-1:26 INFO hook.py:591] name:distilbert.transformer.layer.2.ffn.lin2.weight count_params:2359296\u001b[0m\n",
      "\u001b[34m[2022-02-18 00:46:41.034 algo-1:26 INFO hook.py:591] name:distilbert.transformer.layer.2.ffn.lin2.bias count_params:768\u001b[0m\n",
      "\u001b[34m[2022-02-18 00:46:41.034 algo-1:26 INFO hook.py:591] name:distilbert.transformer.layer.2.output_layer_norm.weight count_params:768\u001b[0m\n",
      "\u001b[34m[2022-02-18 00:46:41.034 algo-1:26 INFO hook.py:591] name:distilbert.transformer.layer.2.output_layer_norm.bias count_params:768\u001b[0m\n",
      "\u001b[34m[2022-02-18 00:46:41.034 algo-1:26 INFO hook.py:591] name:distilbert.transformer.layer.3.attention.q_lin.weight count_params:589824\u001b[0m\n",
      "\u001b[34m[2022-02-18 00:46:41.034 algo-1:26 INFO hook.py:591] name:distilbert.transformer.layer.3.attention.q_lin.bias count_params:768\u001b[0m\n",
      "\u001b[34m[2022-02-18 00:46:41.035 algo-1:26 INFO hook.py:591] name:distilbert.transformer.layer.3.attention.k_lin.weight count_params:589824\u001b[0m\n",
      "\u001b[34m[2022-02-18 00:46:41.035 algo-1:26 INFO hook.py:591] name:distilbert.transformer.layer.3.attention.k_lin.bias count_params:768\u001b[0m\n",
      "\u001b[34m[2022-02-18 00:46:41.035 algo-1:26 INFO hook.py:591] name:distilbert.transformer.layer.3.attention.v_lin.weight count_params:589824\u001b[0m\n",
      "\u001b[34m[2022-02-18 00:46:41.035 algo-1:26 INFO hook.py:591] name:distilbert.transformer.layer.3.attention.v_lin.bias count_params:768\u001b[0m\n",
      "\u001b[34m[2022-02-18 00:46:41.035 algo-1:26 INFO hook.py:591] name:distilbert.transformer.layer.3.attention.out_lin.weight count_params:589824\u001b[0m\n",
      "\u001b[34m[2022-02-18 00:46:41.035 algo-1:26 INFO hook.py:591] name:distilbert.transformer.layer.3.attention.out_lin.bias count_params:768\u001b[0m\n",
      "\u001b[34m[2022-02-18 00:46:41.035 algo-1:26 INFO hook.py:591] name:distilbert.transformer.layer.3.sa_layer_norm.weight count_params:768\u001b[0m\n",
      "\u001b[34m[2022-02-18 00:46:41.035 algo-1:26 INFO hook.py:591] name:distilbert.transformer.layer.3.sa_layer_norm.bias count_params:768\u001b[0m\n",
      "\u001b[34m[2022-02-18 00:46:41.035 algo-1:26 INFO hook.py:591] name:distilbert.transformer.layer.3.ffn.lin1.weight count_params:2359296\u001b[0m\n",
      "\u001b[34m[2022-02-18 00:46:41.036 algo-1:26 INFO hook.py:591] name:distilbert.transformer.layer.3.ffn.lin1.bias count_params:3072\u001b[0m\n",
      "\u001b[34m[2022-02-18 00:46:41.036 algo-1:26 INFO hook.py:591] name:distilbert.transformer.layer.3.ffn.lin2.weight count_params:2359296\u001b[0m\n",
      "\u001b[34m[2022-02-18 00:46:41.036 algo-1:26 INFO hook.py:591] name:distilbert.transformer.layer.3.ffn.lin2.bias count_params:768\u001b[0m\n",
      "\u001b[34m[2022-02-18 00:46:41.036 algo-1:26 INFO hook.py:591] name:distilbert.transformer.layer.3.output_layer_norm.weight count_params:768\u001b[0m\n",
      "\u001b[34m[2022-02-18 00:46:41.036 algo-1:26 INFO hook.py:591] name:distilbert.transformer.layer.3.output_layer_norm.bias count_params:768\u001b[0m\n",
      "\u001b[34m[2022-02-18 00:46:41.036 algo-1:26 INFO hook.py:591] name:distilbert.transformer.layer.4.attention.q_lin.weight count_params:589824\u001b[0m\n",
      "\u001b[34m[2022-02-18 00:46:41.036 algo-1:26 INFO hook.py:591] name:distilbert.transformer.layer.4.attention.q_lin.bias count_params:768\u001b[0m\n",
      "\u001b[34m[2022-02-18 00:46:41.037 algo-1:26 INFO hook.py:591] name:distilbert.transformer.layer.4.attention.k_lin.weight count_params:589824\u001b[0m\n",
      "\u001b[34m[2022-02-18 00:46:41.037 algo-1:26 INFO hook.py:591] name:distilbert.transformer.layer.4.attention.k_lin.bias count_params:768\u001b[0m\n",
      "\u001b[34m[2022-02-18 00:46:41.037 algo-1:26 INFO hook.py:591] name:distilbert.transformer.layer.4.attention.v_lin.weight count_params:589824\u001b[0m\n",
      "\u001b[34m[2022-02-18 00:46:41.037 algo-1:26 INFO hook.py:591] name:distilbert.transformer.layer.4.attention.v_lin.bias count_params:768\u001b[0m\n",
      "\u001b[34m[2022-02-18 00:46:41.037 algo-1:26 INFO hook.py:591] name:distilbert.transformer.layer.4.attention.out_lin.weight count_params:589824\u001b[0m\n",
      "\u001b[34m[2022-02-18 00:46:41.037 algo-1:26 INFO hook.py:591] name:distilbert.transformer.layer.4.attention.out_lin.bias count_params:768\u001b[0m\n",
      "\u001b[34m[2022-02-18 00:46:41.038 algo-1:26 INFO hook.py:591] name:distilbert.transformer.layer.4.sa_layer_norm.weight count_params:768\u001b[0m\n",
      "\u001b[34m[2022-02-18 00:46:41.038 algo-1:26 INFO hook.py:591] name:distilbert.transformer.layer.4.sa_layer_norm.bias count_params:768\u001b[0m\n",
      "\u001b[34m[2022-02-18 00:46:41.038 algo-1:26 INFO hook.py:591] name:distilbert.transformer.layer.4.ffn.lin1.weight count_params:2359296\u001b[0m\n",
      "\u001b[34m[2022-02-18 00:46:41.038 algo-1:26 INFO hook.py:591] name:distilbert.transformer.layer.4.ffn.lin1.bias count_params:3072\u001b[0m\n",
      "\u001b[34m[2022-02-18 00:46:41.038 algo-1:26 INFO hook.py:591] name:distilbert.transformer.layer.4.ffn.lin2.weight count_params:2359296\u001b[0m\n",
      "\u001b[34m[2022-02-18 00:46:41.038 algo-1:26 INFO hook.py:591] name:distilbert.transformer.layer.4.ffn.lin2.bias count_params:768\u001b[0m\n",
      "\u001b[34m[2022-02-18 00:46:41.038 algo-1:26 INFO hook.py:591] name:distilbert.transformer.layer.4.output_layer_norm.weight count_params:768\u001b[0m\n",
      "\u001b[34m[2022-02-18 00:46:41.039 algo-1:26 INFO hook.py:591] name:distilbert.transformer.layer.4.output_layer_norm.bias count_params:768\u001b[0m\n",
      "\u001b[34m[2022-02-18 00:46:41.039 algo-1:26 INFO hook.py:591] name:distilbert.transformer.layer.5.attention.q_lin.weight count_params:589824\u001b[0m\n",
      "\u001b[34m[2022-02-18 00:46:41.039 algo-1:26 INFO hook.py:591] name:distilbert.transformer.layer.5.attention.q_lin.bias count_params:768\u001b[0m\n",
      "\u001b[34m[2022-02-18 00:46:41.039 algo-1:26 INFO hook.py:591] name:distilbert.transformer.layer.5.attention.k_lin.weight count_params:589824\u001b[0m\n",
      "\u001b[34m[2022-02-18 00:46:41.039 algo-1:26 INFO hook.py:591] name:distilbert.transformer.layer.5.attention.k_lin.bias count_params:768\u001b[0m\n",
      "\u001b[34m[2022-02-18 00:46:41.039 algo-1:26 INFO hook.py:591] name:distilbert.transformer.layer.5.attention.v_lin.weight count_params:589824\u001b[0m\n",
      "\u001b[34m[2022-02-18 00:46:41.039 algo-1:26 INFO hook.py:591] name:distilbert.transformer.layer.5.attention.v_lin.bias count_params:768\u001b[0m\n",
      "\u001b[34m[2022-02-18 00:46:41.039 algo-1:26 INFO hook.py:591] name:distilbert.transformer.layer.5.attention.out_lin.weight count_params:589824\u001b[0m\n",
      "\u001b[34m[2022-02-18 00:46:41.039 algo-1:26 INFO hook.py:591] name:distilbert.transformer.layer.5.attention.out_lin.bias count_params:768\u001b[0m\n",
      "\u001b[34m[2022-02-18 00:46:41.040 algo-1:26 INFO hook.py:591] name:distilbert.transformer.layer.5.sa_layer_norm.weight count_params:768\u001b[0m\n",
      "\u001b[34m[2022-02-18 00:46:41.040 algo-1:26 INFO hook.py:591] name:distilbert.transformer.layer.5.sa_layer_norm.bias count_params:768\u001b[0m\n",
      "\u001b[34m[2022-02-18 00:46:41.040 algo-1:26 INFO hook.py:591] name:distilbert.transformer.layer.5.ffn.lin1.weight count_params:2359296\u001b[0m\n",
      "\u001b[34m[2022-02-18 00:46:41.040 algo-1:26 INFO hook.py:591] name:distilbert.transformer.layer.5.ffn.lin1.bias count_params:3072\u001b[0m\n",
      "\u001b[34m[2022-02-18 00:46:41.040 algo-1:26 INFO hook.py:591] name:distilbert.transformer.layer.5.ffn.lin2.weight count_params:2359296\u001b[0m\n",
      "\u001b[34m[2022-02-18 00:46:41.040 algo-1:26 INFO hook.py:591] name:distilbert.transformer.layer.5.ffn.lin2.bias count_params:768\u001b[0m\n",
      "\u001b[34m[2022-02-18 00:46:41.040 algo-1:26 INFO hook.py:591] name:distilbert.transformer.layer.5.output_layer_norm.weight count_params:768\u001b[0m\n",
      "\u001b[34m[2022-02-18 00:46:41.040 algo-1:26 INFO hook.py:591] name:distilbert.transformer.layer.5.output_layer_norm.bias count_params:768\u001b[0m\n",
      "\u001b[34m[2022-02-18 00:46:41.040 algo-1:26 INFO hook.py:591] name:pre_classifier.weight count_params:589824\u001b[0m\n",
      "\u001b[34m[2022-02-18 00:46:41.041 algo-1:26 INFO hook.py:591] name:pre_classifier.bias count_params:768\u001b[0m\n",
      "\u001b[34m[2022-02-18 00:46:41.041 algo-1:26 INFO hook.py:591] name:classifier.weight count_params:1536\u001b[0m\n",
      "\u001b[34m[2022-02-18 00:46:41.041 algo-1:26 INFO hook.py:591] name:classifier.bias count_params:2\u001b[0m\n",
      "\u001b[34m[2022-02-18 00:46:41.041 algo-1:26 INFO hook.py:593] Total Trainable Params: 66955010\u001b[0m\n",
      "\u001b[34m[2022-02-18 00:46:41.041 algo-1:26 INFO hook.py:425] Monitoring the collections: losses\u001b[0m\n",
      "\u001b[34m[2022-02-18 00:46:41.044 algo-1:26 INFO hook.py:488] Hook is writing from the hook with pid: 26\u001b[0m\n",
      "\u001b[34m{'loss': 0.3519, 'learning_rate': 5e-05, 'epoch': 0.64}\u001b[0m\n",
      "\u001b[34m{'eval_loss': 0.19036532938480377, 'eval_accuracy': 0.9273, 'eval_f1': 0.9274523500648637, 'eval_precision': 0.9294, 'eval_recall': 0.9255128460466042, 'eval_runtime': 51.4136, 'eval_samples_per_second': 194.501, 'epoch': 1.0}\u001b[0m\n",
      "\u001b[34m{'train_runtime': 493.8111, 'train_samples_per_second': 1.584, 'epoch': 1.0}\u001b[0m\n",
      "\u001b[34m***** Eval results *****\u001b[0m\n",
      "\u001b[34m#015Downloading:   0%|          | 0.00/483 [00:00<?, ?B/s]#015Downloading: 100%|██████████| 483/483 [00:00<00:00, 566kB/s]\u001b[0m\n",
      "\u001b[34m#015Downloading:   0%|          | 0.00/268M [00:00<?, ?B/s]#015Downloading:   2%|▏         | 5.03M/268M [00:00<00:05, 50.3MB/s]#015Downloading:   4%|▍         | 10.3M/268M [00:00<00:05, 50.9MB/s]#015Downloading:   6%|▌         | 15.4M/268M [00:00<00:04, 50.9MB/s]#015Downloading:   8%|▊         | 20.8M/268M [00:00<00:04, 52.0MB/s]#015Downloading:  10%|▉         | 26.3M/268M [00:00<00:04, 52.8MB/s]#015Downloading:  12%|█▏        | 31.8M/268M [00:00<00:04, 53.5MB/s]#015Downloading:  14%|█▍        | 37.4M/268M [00:00<00:04, 54.1MB/s]#015Downloading:  16%|█▌        | 43.0M/268M [00:00<00:04, 54.7MB/s]#015Downloading:  18%|█▊        | 48.6M/268M [00:00<00:03, 55.0MB/s]#015Downloading:  20%|██        | 54.2M/268M [00:01<00:03, 55.3MB/s]#015Downloading:  22%|██▏       | 59.6M/268M [00:01<00:03, 54.0MB/s]#015Downloading:  24%|██▍       | 65.1M/268M [00:01<00:03, 54.3MB/s]#015Downloading:  26%|██▋       | 70.9M/268M [00:01<00:03, 55.3MB/s]#015Downloading:  29%|██▊       | 76.9M/268M [00:01<00:03, 56.8MB/s]#015Downloading:  31%|███       | 82.8M/268M [00:01<00:03, 57.4MB/s]#015Downloading:  33%|███▎      | 88.7M/268M [00:01<00:03, 57.7MB/s]#015Downloading:  35%|███▌      | 94.8M/268M [00:01<00:02, 58.8MB/s]#015Downloading:  38%|███▊      | 101M/268M [00:01<00:02, 59.5MB/s] #015Downloading:  40%|███▉      | 107M/268M [00:01<00:02, 60.1MB/s]#015Downloading:  42%|████▏     | 113M/268M [00:02<00:02, 60.5MB/s]#015Downloading:  45%|████▍     | 119M/268M [00:02<00:02, 61.0MB/s]#015Downloading:  47%|████▋     | 126M/268M [00:02<00:02, 61.0MB/s]#015Downloading:  49%|████▉     | 132M/268M [00:02<00:02, 60.0MB/s]#015Downloading:  51%|█████▏    | 138M/268M [00:02<00:02, 59.7MB/s]#015Downloading:  54%|█████▎    | 144M/268M [00:02<00:02, 59.7MB/s]#015Downloading:  56%|█████▌    | 150M/268M [00:02<00:01, 60.2MB/s]#015Downloading:  58%|█████▊    | 156M/268M [00:02<00:01, 60.7MB/s]#015Downloading:  61%|██████    | 162M/268M [00:02<00:01, 61.1MB/s]#015Downloading:  63%|██████▎   | 168M/268M [00:02<00:01, 61.3MB/s]#015Downloading:  65%|██████▌   | 175M/268M [00:03<00:01, 61.5MB/s]#015Downloading:  67%|██████▋   | 181M/268M [00:03<00:01, 61.6MB/s]#015Downloading:  70%|██████▉   | 187M/268M [00:03<00:01, 61.2MB/s]#015Downloading:  72%|███████▏  | 193M/268M [00:03<00:01, 53.8MB/s]#015Downloading:  74%|███████▍  | 199M/268M [00:03<00:01, 55.3MB/s]#015Downloading:  76%|███████▋  | 205M/268M [00:03<00:01, 56.2MB/s]#015Downloading:  79%|███████▊  | 211M/268M [00:03<00:00, 57.8MB/s]#015Downloading:  81%|████████  | 217M/268M [00:03<00:00, 59.1MB/s]#015Downloading:  83%|████████▎ | 223M/268M [00:03<00:00, 59.8MB/s]#015Downloading:  86%|████████▌ | 230M/268M [00:03<00:00, 60.5MB/s]#015Downloading:  88%|████████▊ | 236M/268M [00:04<00:00, 60.4MB/s]#015Downloading:  90%|█████████ | 242M/268M [00:04<00:00, 60.9MB/s]#015Downloading:  93%|█████████▎| 248M/268M [00:04<00:00, 61.2MB/s]#015Downloading:  95%|█████████▍| 254M/268M [00:04<00:00, 60.5MB/s]#015Downloading:  97%|█████████▋| 260M/268M [00:04<00:00, 60.9MB/s]#015Downloading:  99%|█████████▉| 267M/268M [00:04<00:00, 60.8MB/s]#015Downloading: 100%|██████████| 268M/268M [00:04<00:00, 58.4MB/s]\u001b[0m\n",
      "\u001b[34mSome weights of the model checkpoint at distilbert-base-uncased were not used when initializing DistilBertForSequenceClassification: ['vocab_projector.bias', 'vocab_projector.weight', 'vocab_layer_norm.weight', 'vocab_layer_norm.bias', 'vocab_transform.weight', 'vocab_transform.bias']\u001b[0m\n",
      "\u001b[34m- This IS expected if you are initializing DistilBertForSequenceClassification from the checkpoint of a model trained on another task or with another architecture (e.g. initializing a BertForSequenceClassification model from a BertForPreTraining model).\u001b[0m\n",
      "\u001b[34m- This IS NOT expected if you are initializing DistilBertForSequenceClassification from the checkpoint of a model that you expect to be exactly identical (initializing a BertForSequenceClassification model from a BertForSequenceClassification model).\u001b[0m\n",
      "\u001b[34mSome weights of DistilBertForSequenceClassification were not initialized from the model checkpoint at distilbert-base-uncased and are newly initialized: ['classifier.bias', 'pre_classifier.bias', 'pre_classifier.weight', 'classifier.weight']\u001b[0m\n",
      "\u001b[34mYou should probably TRAIN this model on a down-stream task to be able to use it for predictions and inference.\u001b[0m\n",
      "\u001b[34m#015Downloading:   0%|          | 0.00/232k [00:00<?, ?B/s]#015Downloading: 100%|██████████| 232k/232k [00:00<00:00, 35.9MB/s]\u001b[0m\n",
      "\u001b[34m#015Downloading:   0%|          | 0.00/466k [00:00<?, ?B/s]#015Downloading: 100%|██████████| 466k/466k [00:00<00:00, 49.2MB/s]\u001b[0m\n",
      "\u001b[34m#015Downloading:   0%|          | 0.00/28.0 [00:00<?, ?B/s]#015Downloading: 100%|██████████| 28.0/28.0 [00:00<00:00, 39.9kB/s]\u001b[0m\n",
      "\u001b[34m2022-02-18 00:55:47,415 sagemaker-training-toolkit INFO     Reporting training SUCCESS\u001b[0m\n",
      "\u001b[34m#015  0%|          | 0/782 [00:00<?, ?it/s]#015  0%|          | 1/782 [00:02<32:32,  2.50s/it]#015  0%|          | 2/782 [00:03<24:53,  1.92s/it]#015  0%|          | 3/782 [00:03<19:41,  1.52s/it]#015  1%|          | 4/782 [00:04<15:58,  1.23s/it]#015  1%|          | 5/782 [00:04<13:15,  1.02s/it]#015  1%|          | 6/782 [00:05<11:23,  1.14it/s]#015  1%|          | 7/782 [00:05<10:16,  1.26it/s]#015  1%|          | 8/782 [00:06<09:17,  1.39it/s]#015  1%|          | 9/782 [00:06<08:36,  1.50it/s]#015  1%|▏         | 10/782 [00:07<08:16,  1.56it/s]#015  1%|▏         | 11/782 [00:08<07:56,  1.62it/s]#015  2%|▏         | 12/782 [00:08<07:38,  1.68it/s]#015  2%|▏         | 13/782 [00:09<07:30,  1.71it/s]#015  2%|▏         | 14/782 [00:09<07:20,  1.74it/s]#015  2%|▏         | 15/782 [00:10<07:11,  1.78it/s]#015  2%|▏         | 16/782 [00:10<07:07,  1.79it/s]#015  2%|▏         | 17/782 [00:11<07:05,  1.80it/s]#015  2%|▏         | 18/782 [00:11<07:03,  1.80it/s]#015  2%|▏         | 19/782 [00:12<06:59,  1.82it/s]#015  3%|▎         | 20/782 [00:13<06:57,  1.82it/s]#015  3%|▎         | 21/782 [00:13<06:57,  1.82it/s]#015  3%|▎         | 22/782 [00:14<06:56,  1.83it/s]#015  3%|▎         | 23/782 [00:14<07:00,  1.80it/s]#015  3%|▎         | 24/782 [00:15<06:57,  1.81it/s]#015  3%|▎         | 25/782 [00:15<06:54,  1.82it/s]#015  3%|▎         | 26/782 [00:16<06:52,  1.83it/s]#015  3%|▎         | 27/782 [00:16<06:53,  1.83it/s]#015  4%|▎         | 28/782 [00:17<06:50,  1.84it/s]#015  4%|▎         | 29/782 [00:17<06:49,  1.84it/s]#015  4%|▍         | 30/782 [00:18<06:50,  1.83it/s]#015  4%|▍         | 31/782 [00:19<06:51,  1.82it/s]#015  4%|▍         | 32/782 [00:19<07:02,  1.78it/s]#015  4%|▍         | 33/782 [00:20<06:55,  1.80it/s]#015  4%|▍         | 34/782 [00:20<06:51,  1.82it/s]#015  4%|▍         | 35/782 [00:21<06:52,  1.81it/s]#015  5%|▍         | 36/782 [00:21<06:56,  1.79it/s]#015  5%|▍         | 37/782 [00:22<06:55,  1.79it/s]#015  5%|▍         | 38/782 [00:22<06:53,  1.80it/s]#015  5%|▍         | 39/782 [00:23<06:48,  1.82it/s]#015  5%|▌         | 40/782 [00:24<06:49,  1.81it/s]#015  5%|▌         | 41/782 [00:24<06:52,  1.80it/s]#015  5%|▌         | 42/782 [00:25<06:49,  1.81it/s]#015  5%|▌         | 43/782 [00:25<06:45,  1.82it/s]#015  6%|▌         | 44/782 [00:26<06:43,  1.83it/s]#015  6%|▌         | 45/782 [00:26<06:44,  1.82it/s]#015  6%|▌         | 46/782 [00:27<06:43,  1.83it/s]#015  6%|▌         | 47/782 [00:27<06:44,  1.82it/s]#015  6%|▌         | 48/782 [00:28<06:42,  1.82it/s]#015  6%|▋         | 49/782 [00:28<06:39,  1.84it/s]#015  6%|▋         | 50/782 [00:29<06:38,  1.84it/s]#015  7%|▋         | 51/782 [00:30<06:37,  1.84it/s]#015  7%|▋         | 52/782 [00:30<06:39,  1.83it/s]#015  7%|▋         | 53/782 [00:31<06:37,  1.83it/s]#015  7%|▋         | 54/782 [00:31<06:37,  1.83it/s]#015  7%|▋         | 55/782 [00:32<06:36,  1.83it/s]#015  7%|▋         | 56/782 [00:32<06:37,  1.83it/s]#015  7%|▋         | 57/782 [00:33<06:38,  1.82it/s]#015  7%|▋         | 58/782 [00:33<06:37,  1.82it/s]#015  8%|▊         | 59/782 [00:34<06:34,  1.83it/s]#015  8%|▊         | 60/782 [00:35<06:33,  1.83it/s]#015  8%|▊         | 61/782 [00:35<06:34,  1.83it/s]#015  8%|▊         | 62/782 [00:36<06:36,  1.81it/s]#015  8%|▊         | 63/782 [00:36<06:34,  1.82it/s]#015  8%|▊         | 64/782 [00:37<06:32,  1.83it/s]#015  8%|▊         | 65/782 [00:37<06:32,  1.83it/s]#015  8%|▊         | 66/782 [00:38<06:34,  1.82it/s]#015  9%|▊         | 67/782 [00:38<06:37,  1.80it/s]#015  9%|▊         | 68/782 [00:39<06:42,  1.77it/s]#015  9%|▉         | 69/782 [00:40<06:39,  1.79it/s]#015  9%|▉         | 70/782 [00:40<06:35,  1.80it/s]#015  9%|▉         | 71/782 [00:41<06:32,  1.81it/s]#015  9%|▉         | 72/782 [00:41<06:33,  1.81it/s]#015  9%|▉         | 73/782 [00:42<06:42,  1.76it/s]#015  9%|▉         | 74/782 [00:42<06:45,  1.75it/s]#015 10%|▉         | 75/782 [00:43<06:39,  1.77it/s]#015 10%|▉         | 76/782 [00:43<06:35,  1.78it/s]#015 10%|▉         | 77/782 [00:44<06:33,  1.79it/s]#015 10%|▉         | 78/782 [00:45<06:32,  1.79it/s]#015 10%|█         | 79/782 [00:45<06:30,  1.80it/s]#015 10%|█         | 80/782 [00:46<06:28,  1.81it/s]#015 10%|█         | 81/782 [00:46<06:30,  1.80it/s]#015 10%|█         | 82/782 [00:47<06:30,  1.79it/s]#015 11%|█         | 83/782 [00:47<06:30,  1.79it/s]#015 11%|█         | 84/782 [00:48<06:29,  1.79it/s]#015 11%|█         | 85/782 [00:48<06:27,  1.80it/s]#015 11%|█         | 86/782 [00:49<06:25,  1.81it/s]#015 11%|█         | 87/782 [00:50<06:25,  1.80it/s]#015 11%|█▏        | 88/782 [00:50<06:30,  1.78it/s]#015 11%|█▏        | 89/782 [00:51<06:27,  1.79it/s]#015 12%|█▏        | 90/782 [00:51<06:24,  1.80it/s]#015 12%|█▏        | 91/782 [00:52<06:25,  1.79it/s]#015 12%|█▏        | 92/782 [00:52<06:25,  1.79it/s]#015 12%|█▏        | 93/782 [00:53<06:25,  1.79it/s]#015 12%|█▏        | 94/782 [00:53<06:23,  1.80it/s]#015 12%|█▏        | 95/782 [00:54<06:20,  1.80it/s]#015 12%|█▏        | 96/782 [00:55<06:24,  1.78it/s]#015 12%|█▏        | 97/782 [00:55<06:20,  1.80it/s]#015 13%|█▎        | 98/782 [00:56<06:19,  1.80it/s]#015 13%|█▎        | 99/782 [00:56<06:18,  1.80it/s]#015 13%|█▎        | 100/782 [00:57<06:16,  1.81it/s]#015 13%|█▎        | 101/782 [00:57<06:15,  1.81it/s]#015 13%|█▎        | 102/782 [00:58<06:18,  1.80it/s]#015 13%|█▎        | 103/782 [00:58<06:22,  1.77it/s]#015 13%|█▎        | 104/782 [00:59<06:22,  1.77it/s]#015 13%|█▎        | 105/782 [01:00<06:20,  1.78it/s]#015 14%|█▎        | 106/782 [01:00<06:18,  1.79it/s]#015 14%|█▎        | 107/782 [01:01<06:16,  1.79it/s]#015 14%|█▍        | 108/782 [01:01<06:14,  1.80it/s]#015 14%|█▍        | 109/782 [01:02<06:13,  1.80it/s]#015 14%|█▍        | 110/782 [01:02<06:12,  1.81it/s]#015 14%|█▍        | 111/782 [01:03<06:12,  1.80it/s]#015 14%|█▍        | 112/782 [01:04<06:15,  1.79it/s]#015 14%|█▍        | 113/782 [01:04<06:15,  1.78it/s]#015 15%|█▍        | 114/782 [01:05<06:12,  1.80it/s]#015 15%|█▍        | 115/782 [01:05<06:09,  1.80it/s]#015 15%|█▍        | 116/782 [01:06<06:07,  1.81it/s]#015 15%|█▍        | 117/782 [01:06<06:06,  1.82it/s]#015 15%|█▌        | 118/782 [01:07<06:06,  1.81it/s]#015 15%|█▌        | 119/782 [01:07<06:06,  1.81it/s]#015 15%|█▌        | 120/782 [01:08<06:07,  1.80it/s]#015 15%|█▌        | 121/782 [01:08<06:06,  1.80it/s]#015 16%|█▌        | 122/782 [01:09<06:04,  1.81it/s]#015 16%|█▌        | 123/782 [01:10<06:06,  1.80it/s]#015 16%|█▌        | 124/782 [01:10<06:06,  1.79it/s]#015 16%|█▌        | 125/782 [01:11<06:07,  1.79it/s]#015 16%|█▌        | 126/782 [01:11<06:05,  1.79it/s]#015 16%|█▌        | 127/782 [01:12<06:03,  1.80it/s]#015 16%|█▋        | 128/782 [01:12<06:01,  1.81it/s]#015 16%|█▋        | 129/782 [01:13<06:09,  1.77it/s]#015 17%|█▋        | 130/782 [01:14<06:06,  1.78it/s]#015 17%|█▋        | 131/782 [01:14<06:04,  1.78it/s]#015 17%|█▋        | 132/782 [01:15<06:02,  1.79it/s]#015 17%|█▋        | 133/782 [01:15<06:00,  1.80it/s]#015 17%|█▋        | 134/782 [01:16<06:02,  1.79it/s]#015 17%|█▋        | 135/782 [01:16<06:02,  1.79it/s]#015 17%|█▋        | 136/782 [01:17<06:00,  1.79it/s]#015 18%|█▊        | 137/782 [01:17<05:59,  1.79it/s]#015 18%|█▊        | 138/782 [01:18<06:02,  1.78it/s]#015 18%|█▊        | 139/782 [01:19<06:00,  1.78it/s]#015 18%|█▊        | 140/782 [01:19<05:58,  1.79it/s]#015 18%|█▊        | 141/782 [01:20<05:57,  1.79it/s]#015 18%|█▊        | 142/782 [01:20<05:55,  1.80it/s]#015 18%|█▊        | 143/782 [01:21<05:58,  1.78it/s]#015 18%|█▊        | 144/782 [01:21<06:01,  1.76it/s]#015 19%|█▊        | 145/782 [01:22<05:59,  1.77it/s]#015 19%|█▊        | 146/782 [01:23<06:01,  1.76it/s]#015 19%|█▉        | 147/782 [01:23<06:03,  1.75it/s]#015 19%|█▉        | 148/782 [01:24<06:02,  1.75it/s]#015 19%|█▉        | 149/782 [01:24<06:04,  1.74it/s]#015 19%|█▉        | 150/782 [01:25<06:01,  1.75it/s]#015 19%|█▉        | 151/782 [01:25<05:57,  1.76it/s]#015 19%|█▉        | 152/782 [01:26<05:56,  1.77it/s]#015 20%|█▉        | 153/782 [01:26<05:53,  1.78it/s]#015 20%|█▉        | 154/782 [01:27<05:53,  1.78it/s]#015 20%|█▉        | 155/782 [01:28<05:52,  1.78it/s]#015 20%|█▉        | 156/782 [01:28<05:54,  1.77it/s]#015 20%|██        | 157/782 [01:29<05:52,  1.78it/s]#015 20%|██        | 158/782 [01:29<05:50,  1.78it/s]#015 20%|██        | 159/782 [01:30<05:48,  1.79it/s]#015 20%|██        | 160/782 [01:30<05:47,  1.79it/s]#015 21%|██        | 161/782 [01:31<05:48,  1.78it/s]#015 21%|██        | 162/782 [01:32<05:46,  1.79it/s]#015 21%|██        | 163/782 [01:32<05:45,  1.79it/s]#015 21%|██        | 164/782 [01:33<05:45,  1.79it/s]#015 21%|██        | 165/782 [01:33<05:47,  1.77it/s]#015 21%|██        | 166/782 [01:34<05:47,  1.77it/s]#015 21%|██▏       | 167/782 [01:34<05:46,  1.77it/s]#015 21%|██▏       | 168/782 [01:35<05:45,  1.77it/s]#015 22%|██▏       | 169/782 [01:35<05:43,  1.79it/s]#015 22%|██▏       | 170/782 [01:36<05:41,  1.79it/s]#015 22%|██▏       | 171/782 [01:37<05:40,  1.80it/s]#015 22%|██▏       | 172/782 [01:37<05:41,  1.79it/s]#015 22%|██▏       | 173/782 [01:38<05:40,  1.79it/s]#015 22%|██▏       | 174/782 [01:38<05:42,  1.77it/s]#015 22%|██▏       | 175/782 [01:39<05:40,  1.78it/s]#015 23%|██▎       | 176/782 [01:39<05:40,  1.78it/s]#015 23%|██▎       | 177/782 [01:40<05:37,  1.79it/s]#015 23%|██▎       | 178/782 [01:40<05:36,  1.79it/s]#015 23%|██▎       | 179/782 [01:41<05:34,  1.80it/s]#015 23%|██▎       | 180/782 [01:42<05:33,  1.80it/s]#015 23%|██▎       | 181/782 [01:42<05:35,  1.79it/s]#015 23%|██▎       | 182/782 [01:43<05:35,  1.79it/s]#015 23%|██▎       | 183/782 [01:43<05:34,  1.79it/s]#015 24%|██▎       | 184/782 [01:44<05:36,  1.78it/s]#015 24%|██▎       | 185/782 [01:44<05:34,  1.78it/s]#015 24%|██▍       | 186/782 [01:45<05:33,  1.79it/s]#015 24%|██▍       | 187/782 [01:46<05:32,  1.79it/s]#015 24%|██▍       | 188/782 [01:46<05:33,  1.78it/s]#015 24%|██▍       | 189/782 [01:47<05:33,  1.78it/s]#015 24%|██▍       | 190/782 [01:47<05:31,  1.78it/s]#015 24%|██▍       | 191/782 [01:48<05:36,  1.76it/s]#015 25%|██▍       | 192/782 [01:48<05:33,  1.77it/s]#015 25%|██▍       | 193/782 [01:49<05:32,  1.77it/s]#015 25%|██▍       | 194/782 [01:49<05:30,  1.78it/s]#015 25%|██▍       | 195/782 [01:50<05:30,  1.78it/s]#015 25%|██▌       | 196/782 [01:51<05:28,  1.78it/s]#015 25%|██▌       | 197/782 [01:51<05:27,  1.79it/s]#015 25%|██▌       | 198/782 [01:52<05:26,  1.79it/s]#015 25%|██▌       | 199/782 [01:52<05:25,  1.79it/s]#015 26%|██▌       | 200/782 [01:53<05:23,  1.80it/s]#015 26%|██▌       | 201/782 [01:53<05:25,  1.78it/s]#015 26%|██▌       | 202/782 [01:54<05:25,  1.78it/s]#015 26%|██▌       | 203/782 [01:55<05:24,  1.78it/s]#015 26%|██▌       | 204/782 [01:55<05:24,  1.78it/s]#015 26%|██▌       | 205/782 [01:56<05:22,  1.79it/s]#015 26%|██▋       | 206/782 [01:56<05:21,  1.79it/s]#015 26%|██▋       | 207/782 [01:57<05:20,  1.79it/s]#015 27%|██▋       | 208/782 [01:57<05:19,  1.80it/s]#015 27%|██▋       | 209/782 [01:58<05:19,  1.79it/s]#015 27%|██▋       | 210/782 [01:58<05:21,  1.78it/s]#015 27%|██▋       | 211/782 [01:59<05:19,  1.79it/s]#015 27%|██▋       | 212/782 [02:00<05:19,  1.79it/s]#015 27%|██▋       | 213/782 [02:00<05:18,  1.79it/s]#015 27%|██▋       | 214/782 [02:01<05:16,  1.79it/s]#015 27%|██▋       | 215/782 [02:01<05:15,  1.80it/s]#015 28%|██▊       | 216/782 [02:02<05:15,  1.80it/s]#015 28%|██▊       | 217/782 [02:02<05:14,  1.80it/s]#015 28%|██▊       | 218/782 [02:03<05:12,  1.80it/s]#015 28%|██▊       | 219/782 [02:03<05:13,  1.79it/s]#015 28%|██▊       | 220/782 [02:04<05:20,  1.75it/s]#015 28%|██▊       | 221/782 [02:05<05:19,  1.75it/s]#015 28%|██▊       | 222/782 [02:05<05:15,  1.78it/s]#015 29%|██▊       | 223/782 [02:06<05:15,  1.77it/s]#015 29%|██▊       | 224/782 [02:06<05:13,  1.78it/s]#015 29%|██▉       | 225/782 [02:07<05:10,  1.79it/s]#015 29%|██▉       | 226/782 [02:07<05:09,  1.80it/s]#015 29%|██▉       | 227/782 [02:08<05:08,  1.80it/s]#015 29%|██▉       | 228/782 [02:08<05:08,  1.80it/s]#015 29%|██▉       | 229/782 [02:09<05:08,  1.79it/s]#015 29%|██▉       | 230/782 [02:10<05:08,  1.79it/s]#015 30%|██▉       | 231/782 [02:10<05:07,  1.79it/s]#015 30%|██▉       | 232/782 [02:11<05:07,  1.79it/s]#015 30%|██▉       | 233/782 [02:11<05:06,  1.79it/s]#015 30%|██▉       | 234/782 [02:12<05:05,  1.79it/s]#015 30%|███       | 235/782 [02:12<05:05,  1.79it/s]#015 30%|███       | 236/782 [02:13<05:05,  1.79it/s]#015 30%|███       | 237/782 [02:14<05:04,  1.79it/s]#015 30%|███       | 238/782 [02:14<05:06,  1.78it/s]#015 31%|███       | 239/782 [02:15<05:07,  1.76it/s]#015 31%|███       | 240/782 [02:15<05:05,  1.78it/s]#015 31%|███       | 241/782 [02:16<05:04,  1.77it/s]#015 31%|███       | 242/782 [02:16<05:01,  1.79it/s]#015 31%|███       | 243/782 [02:17<05:02,  1.78it/s]#015 31%|███       | 244/782 [02:17<05:00,  1.79it/s]#015 31%|███▏      | 245/782 [02:18<04:59,  1.80it/s]#015 31%|███▏      | 246/782 [02:19<04:58,  1.80it/s]#015 32%|███▏      | 247/782 [02:19<05:00,  1.78it/s]#015 32%|███▏      | 248/782 [02:20<05:00,  1.78it/s]#015 32%|███▏      | 249/782 [02:20<04:58,  1.79it/s]#015 32%|███▏      | 250/782 [02:21<05:02,  1.76it/s]#015 32%|███▏      | 251/782 [02:21<05:00,  1.77it/s]#015 32%|███▏      | 252/782 [02:22<05:05,  1.74it/s]#015 32%|███▏      | 253/782 [02:23<05:04,  1.74it/s]#015 32%|███▏      | 254/782 [02:23<05:07,  1.72it/s]#015 33%|███▎      | 255/782 [02:24<05:05,  1.73it/s]#015 33%|███▎      | 256/782 [02:24<05:07,  1.71it/s]#015 33%|███▎      | 257/782 [02:25<05:05,  1.72it/s]#015 33%|███▎      | 258/782 [02:25<05:01,  1.74it/s]#015 33%|███▎      | 259/782 [02:26<04:58,  1.75it/s]#015 33%|███▎      | 260/782 [02:27<04:56,  1.76it/s]#015 33%|███▎      | 261/782 [02:27<04:53,  1.77it/s]#015 34%|███▎      | 262/782 [02:28<04:52,  1.78it/s]#015 34%|███▎      | 263/782 [02:28<04:55,  1.75it/s]#015 34%|███▍      | 264/782 [02:29<04:52,  1.77it/s]#015 34%|███▍      | 265/782 [02:29<04:51,  1.77it/s]#015 34%|███▍      | 266/782 [02:30<04:50,  1.77it/s]#015 34%|███▍      | 267/782 [02:31<04:48,  1.79it/s]#015 34%|███▍      | 268/782 [02:31<04:46,  1.80it/s]#015 34%|███▍      | 269/782 [02:32<04:46,  1.79it/s]#015 35%|███▍      | 270/782 [02:32<04:45,  1.79it/s]#015 35%|███▍      | 271/782 [02:33<04:46,  1.78it/s]#015 35%|███▍      | 272/782 [02:33<04:44,  1.79it/s]#015 35%|███▍      | 273/782 [02:34<04:43,  1.79it/s]#015 35%|███▌      | 274/782 [02:34<04:44,  1.79it/s]#015 35%|███▌      | 275/782 [02:35<04:42,  1.79it/s]#015 35%|███▌      | 276/782 [02:36<04:41,  1.80it/s]#015 35%|███▌      | 277/782 [02:36<04:42,  1.79it/s]#015 36%|███▌      | 278/782 [02:37<04:41,  1.79it/s]#015 36%|███▌      | 279/782 [02:37<04:40,  1.79it/s]#015 36%|███▌      | 280/782 [02:38<04:41,  1.79it/s]#015 36%|███▌      | 281/782 [02:38<04:40,  1.79it/s]#015 36%|███▌      | 282/782 [02:39<04:38,  1.79it/s]#015 36%|███▌      | 283/782 [02:39<04:38,  1.79it/s]#015 36%|███▋      | 284/782 [02:40<04:37,  1.79it/s]#015 36%|███▋      | 285/782 [02:41<04:36,  1.79it/s]#015 37%|███▋      | 286/782 [02:41<04:35,  1.80it/s]#015 37%|███▋      | 287/782 [02:42<04:34,  1.80it/s]#015 37%|███▋      | 288/782 [02:42<04:37,  1.78it/s]#015 37%|███▋      | 289/782 [02:43<04:35,  1.79it/s]#015 37%|███▋      | 290/782 [02:43<04:34,  1.79it/s]#015 37%|███▋      | 291/782 [02:44<04:35,  1.78it/s]#015 37%|███▋      | 292/782 [02:45<04:37,  1.77it/s]#015 37%|███▋      | 293/782 [02:45<04:35,  1.78it/s]#015 38%|███▊      | 294/782 [02:46<04:34,  1.78it/s]#015 38%|███▊      | 295/782 [02:46<04:32,  1.79it/s]#015 38%|███▊      | 296/782 [02:47<04:33,  1.77it/s]#015 38%|███▊      | 297/782 [02:47<04:35,  1.76it/s]#015 38%|███▊      | 298/782 [02:48<04:33,  1.77it/s]#015 38%|███▊      | 299/782 [02:48<04:32,  1.77it/s]#015 38%|███▊      | 300/782 [02:49<04:31,  1.77it/s]#015 38%|███▊      | 301/782 [02:50<04:30,  1.78it/s]#015 39%|\u001b[0m\n",
      "\u001b[34m███▊      | 302/782 [02:50<04:28,  1.79it/s]#015 39%|███▊      | 303/782 [02:51<04:27,  1.79it/s]#015 39%|███▉      | 304/782 [02:51<04:28,  1.78it/s]#015 39%|███▉      | 305/782 [02:52<04:29,  1.77it/s]#015 39%|███▉      | 306/782 [02:52<04:29,  1.77it/s]#015 39%|███▉      | 307/782 [02:53<04:27,  1.78it/s]#015 39%|███▉      | 308/782 [02:54<04:27,  1.77it/s]#015 40%|███▉      | 309/782 [02:54<04:25,  1.78it/s]#015 40%|███▉      | 310/782 [02:55<04:24,  1.79it/s]#015 40%|███▉      | 311/782 [02:55<04:22,  1.80it/s]#015 40%|███▉      | 312/782 [02:56<04:21,  1.80it/s]#015 40%|████      | 313/782 [02:56<04:21,  1.80it/s]#015 40%|████      | 314/782 [02:57<04:19,  1.80it/s]#015 40%|████      | 315/782 [02:57<04:18,  1.81it/s]#015 40%|████      | 316/782 [02:58<04:17,  1.81it/s]#015 41%|████      | 317/782 [02:59<04:19,  1.79it/s]#015 41%|████      | 318/782 [02:59<04:17,  1.80it/s]#015 41%|████      | 319/782 [03:00<04:18,  1.79it/s]#015 41%|████      | 320/782 [03:00<04:19,  1.78it/s]#015 41%|████      | 321/782 [03:01<04:18,  1.78it/s]#015 41%|████      | 322/782 [03:01<04:23,  1.75it/s]#015 41%|████▏     | 323/782 [03:02<04:21,  1.75it/s]#015 41%|████▏     | 324/782 [03:02<04:21,  1.75it/s]#015 42%|████▏     | 325/782 [03:03<04:20,  1.76it/s]#015 42%|████▏     | 326/782 [03:04<04:19,  1.76it/s]#015 42%|████▏     | 327/782 [03:04<04:15,  1.78it/s]#015 42%|████▏     | 328/782 [03:05<04:14,  1.79it/s]#015 42%|████▏     | 329/782 [03:05<04:15,  1.78it/s]#015 42%|████▏     | 330/782 [03:06<04:13,  1.78it/s]#015 42%|████▏     | 331/782 [03:06<04:12,  1.79it/s]#015 42%|████▏     | 332/782 [03:07<04:11,  1.79it/s]#015 43%|████▎     | 333/782 [03:08<04:10,  1.79it/s]#015 43%|████▎     | 334/782 [03:08<04:09,  1.80it/s]#015 43%|████▎     | 335/782 [03:09<04:12,  1.77it/s]#015 43%|████▎     | 336/782 [03:09<04:10,  1.78it/s]#015 43%|████▎     | 337/782 [03:10<04:09,  1.78it/s]#015 43%|████▎     | 338/782 [03:10<04:08,  1.79it/s]#015 43%|████▎     | 339/782 [03:11<04:07,  1.79it/s]#015 43%|████▎     | 340/782 [03:11<04:06,  1.79it/s]#015 44%|████▎     | 341/782 [03:12<04:05,  1.80it/s]#015 44%|████▎     | 342/782 [03:13<04:05,  1.79it/s]#015 44%|████▍     | 343/782 [03:13<04:05,  1.78it/s]#015 44%|████▍     | 344/782 [03:14<04:05,  1.78it/s]#015 44%|████▍     | 345/782 [03:14<04:05,  1.78it/s]#015 44%|████▍     | 346/782 [03:15<04:03,  1.79it/s]#015 44%|████▍     | 347/782 [03:15<04:04,  1.78it/s]#015 45%|████▍     | 348/782 [03:16<04:03,  1.78it/s]#015 45%|████▍     | 349/782 [03:16<04:03,  1.78it/s]#015 45%|████▍     | 350/782 [03:17<04:02,  1.78it/s]#015 45%|████▍     | 351/782 [03:18<04:01,  1.79it/s]#015 45%|████▌     | 352/782 [03:18<04:00,  1.79it/s]#015 45%|████▌     | 353/782 [03:19<03:59,  1.79it/s]#015 45%|████▌     | 354/782 [03:19<03:58,  1.79it/s]#015 45%|████▌     | 355/782 [03:20<03:59,  1.78it/s]#015 46%|████▌     | 356/782 [03:20<03:58,  1.78it/s]#015 46%|████▌     | 357/782 [03:21<04:01,  1.76it/s]#015 46%|████▌     | 358/782 [03:22<03:59,  1.77it/s]#015 46%|████▌     | 359/782 [03:22<03:57,  1.78it/s]#015 46%|████▌     | 360/782 [03:23<04:00,  1.76it/s]#015 46%|████▌     | 361/782 [03:23<03:57,  1.77it/s]#015 46%|████▋     | 362/782 [03:24<03:57,  1.77it/s]#015 46%|████▋     | 363/782 [03:24<03:57,  1.76it/s]#015 47%|████▋     | 364/782 [03:25<03:57,  1.76it/s]#015 47%|████▋     | 365/782 [03:26<03:58,  1.75it/s]#015 47%|████▋     | 366/782 [03:26<03:58,  1.75it/s]#015 47%|████▋     | 367/782 [03:27<03:57,  1.75it/s]#015 47%|████▋     | 368/782 [03:27<04:00,  1.72it/s]#015 47%|████▋     | 369/782 [03:28<03:57,  1.74it/s]#015 47%|████▋     | 370/782 [03:28<03:54,  1.76it/s]#015 47%|████▋     | 371/782 [03:29<03:53,  1.76it/s]#015 48%|████▊     | 372/782 [03:30<03:51,  1.77it/s]#015 48%|████▊     | 373/782 [03:30<03:52,  1.76it/s]#015 48%|████▊     | 374/782 [03:31<03:50,  1.77it/s]#015 48%|████▊     | 375/782 [03:31<03:49,  1.77it/s]#015 48%|████▊     | 376/782 [03:32<03:48,  1.78it/s]#015 48%|████▊     | 377/782 [03:32<03:47,  1.78it/s]#015 48%|████▊     | 378/782 [03:33<03:46,  1.79it/s]#015 48%|████▊     | 379/782 [03:33<03:44,  1.79it/s]#015 49%|████▊     | 380/782 [03:34<03:43,  1.80it/s]#015 49%|████▊     | 381/782 [03:35<03:43,  1.79it/s]#015 49%|████▉     | 382/782 [03:35<03:44,  1.78it/s]#015 49%|████▉     | 383/782 [03:36<03:42,  1.79it/s]#015 49%|████▉     | 384/782 [03:36<03:42,  1.79it/s]#015 49%|████▉     | 385/782 [03:37<03:42,  1.78it/s]#015 49%|████▉     | 386/782 [03:37<03:41,  1.79it/s]#015 49%|████▉     | 387/782 [03:38<03:40,  1.79it/s]#015 50%|████▉     | 388/782 [03:38<03:40,  1.79it/s]#015 50%|████▉     | 389/782 [03:39<03:39,  1.79it/s]#015 50%|████▉     | 390/782 [03:40<03:38,  1.79it/s]#015 50%|█████     | 391/782 [03:40<03:37,  1.80it/s]#015 50%|█████     | 392/782 [03:41<03:40,  1.77it/s]#015 50%|█████     | 393/782 [03:41<03:40,  1.76it/s]#015 50%|█████     | 394/782 [03:42<03:39,  1.77it/s]#015 51%|█████     | 395/782 [03:42<03:38,  1.77it/s]#015 51%|█████     | 396/782 [03:43<03:36,  1.78it/s]#015 51%|█████     | 397/782 [03:44<03:35,  1.79it/s]#015 51%|█████     | 398/782 [03:44<03:34,  1.79it/s]#015 51%|█████     | 399/782 [03:45<03:34,  1.78it/s]#015 51%|█████     | 400/782 [03:45<03:33,  1.79it/s]#015 51%|█████▏    | 401/782 [03:46<03:32,  1.79it/s]#015 51%|█████▏    | 402/782 [03:46<03:32,  1.79it/s]#015 52%|█████▏    | 403/782 [03:47<03:31,  1.79it/s]#015 52%|█████▏    | 404/782 [03:47<03:31,  1.79it/s]#015 52%|█████▏    | 405/782 [03:48<03:30,  1.79it/s]#015 52%|█████▏    | 406/782 [03:49<03:33,  1.77it/s]#015 52%|█████▏    | 407/782 [03:49<03:30,  1.78it/s]#015 52%|█████▏    | 408/782 [03:50<03:34,  1.75it/s]#015 52%|█████▏    | 409/782 [03:50<03:31,  1.76it/s]#015 52%|█████▏    | 410/782 [03:51<03:29,  1.78it/s]#015 53%|█████▎    | 411/782 [03:51<03:29,  1.77it/s]#015 53%|█████▎    | 412/782 [03:52<03:27,  1.78it/s]#015 53%|█████▎    | 413/782 [03:53<03:27,  1.78it/s]#015 53%|█████▎    | 414/782 [03:53<03:26,  1.78it/s]#015 53%|█████▎    | 415/782 [03:54<03:25,  1.79it/s]#015 53%|█████▎    | 416/782 [03:54<03:23,  1.80it/s]#015 53%|█████▎    | 417/782 [03:55<03:22,  1.80it/s]#015 53%|█████▎    | 418/782 [03:55<03:22,  1.80it/s]#015 54%|█████▎    | 419/782 [03:56<03:21,  1.80it/s]#015 54%|█████▎    | 420/782 [03:56<03:20,  1.80it/s]#015 54%|█████▍    | 421/782 [03:57<03:21,  1.79it/s]#015 54%|█████▍    | 422/782 [03:58<03:20,  1.79it/s]#015 54%|█████▍    | 423/782 [03:58<03:19,  1.80it/s]#015 54%|█████▍    | 424/782 [03:59<03:18,  1.80it/s]#015 54%|█████▍    | 425/782 [03:59<03:19,  1.79it/s]#015 54%|█████▍    | 426/782 [04:00<03:18,  1.80it/s]#015 55%|█████▍    | 427/782 [04:00<03:18,  1.79it/s]#015 55%|█████▍    | 428/782 [04:01<03:17,  1.80it/s]#015 55%|█████▍    | 429/782 [04:01<03:16,  1.79it/s]#015 55%|█████▍    | 430/782 [04:02<03:16,  1.79it/s]#015 55%|█████▌    | 431/782 [04:03<03:17,  1.78it/s]#015 55%|█████▌    | 432/782 [04:03<03:16,  1.78it/s]#015 55%|█████▌    | 433/782 [04:04<03:16,  1.78it/s]#015 55%|█████▌    | 434/782 [04:04<03:14,  1.79it/s]#015 56%|█████▌    | 435/782 [04:05<03:15,  1.78it/s]#015 56%|█████▌    | 436/782 [04:05<03:13,  1.78it/s]#015 56%|█████▌    | 437/782 [04:06<03:12,  1.79it/s]#015 56%|█████▌    | 438/782 [04:06<03:11,  1.79it/s]#015 56%|█████▌    | 439/782 [04:07<03:10,  1.80it/s]#015 56%|█████▋    | 440/782 [04:08<03:09,  1.80it/s]#015 56%|█████▋    | 441/782 [04:08<03:10,  1.79it/s]#015 57%|█████▋    | 442/782 [04:09<03:10,  1.78it/s]#015 57%|█████▋    | 443/782 [04:09<03:08,  1.79it/s]#015 57%|█████▋    | 444/782 [04:10<03:10,  1.78it/s]#015 57%|█████▋    | 445/782 [04:10<03:08,  1.79it/s]#015 57%|█████▋    | 446/782 [04:11<03:10,  1.76it/s]#015 57%|█████▋    | 447/782 [04:12<03:09,  1.77it/s]#015 57%|█████▋    | 448/782 [04:12<03:08,  1.78it/s]#015 57%|█████▋    | 449/782 [04:13<03:06,  1.79it/s]#015 58%|█████▊    | 450/782 [04:13<03:06,  1.78it/s]#015 58%|█████▊    | 451/782 [04:14<03:06,  1.77it/s]#015 58%|█████▊    | 452/782 [04:14<03:05,  1.78it/s]#015 58%|█████▊    | 453/782 [04:15<03:04,  1.79it/s]#015 58%|█████▊    | 454/782 [04:15<03:03,  1.79it/s]#015 58%|█████▊    | 455/782 [04:16<03:02,  1.79it/s]#015 58%|█████▊    | 456/782 [04:17<03:02,  1.79it/s]#015 58%|█████▊    | 457/782 [04:17<03:02,  1.78it/s]#015 59%|█████▊    | 458/782 [04:18<03:01,  1.78it/s]#015 59%|█████▊    | 459/782 [04:18<03:00,  1.79it/s]#015 59%|█████▉    | 460/782 [04:19<02:59,  1.80it/s]#015 59%|█████▉    | 461/782 [04:19<02:58,  1.80it/s]#015 59%|█████▉    | 462/782 [04:20<02:59,  1.79it/s]#015 59%|█████▉    | 463/782 [04:20<02:58,  1.78it/s]#015 59%|█████▉    | 464/782 [04:21<03:00,  1.76it/s]#015 59%|█████▉    | 465/782 [04:22<02:59,  1.77it/s]#015 60%|█████▉    | 466/782 [04:22<02:57,  1.78it/s]#015 60%|█████▉    | 467/782 [04:23<02:58,  1.77it/s]#015 60%|█████▉    | 468/782 [04:23<02:57,  1.76it/s]#015 60%|█████▉    | 469/782 [04:24<02:58,  1.75it/s]#015 60%|██████    | 470/782 [04:24<02:59,  1.74it/s]#015 60%|██████    | 471/782 [04:25<02:57,  1.75it/s]#015 60%|██████    | 472/782 [04:26<02:56,  1.76it/s]#015 60%|██████    | 473/782 [04:26<02:54,  1.77it/s]#015 61%|██████    | 474/782 [04:27<02:56,  1.75it/s]#015 61%|██████    | 475/782 [04:27<02:54,  1.76it/s]#015 61%|██████    | 476/782 [04:28<02:52,  1.77it/s]#015 61%|██████    | 477/782 [04:28<02:51,  1.78it/s]#015 61%|██████    | 478/782 [04:29<02:50,  1.79it/s]#015 61%|██████▏   | 479/782 [04:30<02:49,  1.78it/s]#015 61%|██████▏   | 480/782 [04:30<02:49,  1.78it/s]#015 62%|██████▏   | 481/782 [04:31<02:48,  1.79it/s]#015 62%|██████▏   | 482/782 [04:31<02:47,  1.79it/s]#015 62%|██████▏   | 483/782 [04:32<02:47,  1.79it/s]#015 62%|██████▏   | 484/782 [04:32<02:47,  1.78it/s]#015 62%|██████▏   | 485/782 [04:33<02:46,  1.79it/s]#015 62%|██████▏   | 486/782 [04:33<02:45,  1.79it/s]#015 62%|██████▏   | 487/782 [04:34<02:44,  1.79it/s]#015 62%|██████▏   | 488/782 [04:35<02:44,  1.79it/s]#015 63%|██████▎   | 489/782 [04:35<02:45,  1.77it/s]#015 63%|██████▎   | 490/782 [04:36<02:44,  1.78it/s]#015 63%|██████▎   | 491/782 [04:36<02:43,  1.78it/s]#015 63%|██████▎   | 492/782 [04:37<02:42,  1.79it/s]#015 63%|██████▎   | 493/782 [04:37<02:41,  1.79it/s]#015 63%|██████▎   | 494/782 [04:38<02:41,  1.78it/s]#015 63%|██████▎   | 495/782 [04:38<02:40,  1.79it/s]#015 63%|██████▎   | 496/782 [04:39<02:39,  1.80it/s]#015 64%|██████▎   | 497/782 [04:40<02:38,  1.80it/s]#015 64%|██████▎   | 498/782 [04:40<02:38,  1.79it/s]#015 64%|██████▍   | 499/782 [04:41<02:37,  1.80it/s]#015 64%|██████▍   | 500/782 [04:41<02:36,  1.80it/s]#015                                                 #015#015 64%|██████▍   | 500/782 [04:41<02:36,  1.80it/s]#015 64%|██████▍   | 501/782 [04:44<05:31,  1.18s/it]#015 64%|██████▍   | 502/782 [04:44<04:38,  1.01it/s]#015 64%|██████▍   | 503/782 [04:45<04:00,  1.16it/s]#015 64%|██████▍   | 504/782 [04:46<03:34,  1.30it/s]#015 65%|██████▍   | 505/782 [04:46<03:17,  1.40it/s]#015 65%|██████▍   | 506/782 [04:47<03:04,  1.50it/s]#015 65%|██████▍   | 507/782 [04:47<02:55,  1.56it/s]#015 65%|██████▍   | 508/782 [04:48<02:48,  1.63it/s]#015 65%|██████▌   | 509/782 [04:48<02:43,  1.67it/s]#015 65%|██████▌   | 510/782 [04:49<02:39,  1.71it/s]#015 65%|██████▌   | 511/782 [04:50<02:36,  1.73it/s]#015 65%|██████▌   | 512/782 [04:50<02:34,  1.75it/s]#015 66%|██████▌   | 513/782 [04:51<02:33,  1.75it/s]#015 66%|██████▌   | 514/782 [04:51<02:32,  1.75it/s]#015 66%|██████▌   | 515/782 [04:52<02:31,  1.77it/s]#015 66%|██████▌   | 516/782 [04:52<02:30,  1.77it/s]#015 66%|██████▌   | 517/782 [04:53<02:29,  1.77it/s]#015 66%|██████▌   | 518/782 [04:53<02:28,  1.77it/s]#015 66%|██████▋   | 519/782 [04:54<02:29,  1.76it/s]#015 66%|██████▋   | 520/782 [04:55<02:28,  1.76it/s]#015 67%|██████▋   | 521/782 [04:55<02:27,  1.77it/s]#015 67%|██████▋   | 522/782 [04:56<02:27,  1.76it/s]#015 67%|██████▋   | 523/782 [04:56<02:29,  1.73it/s]#015 67%|██████▋   | 524/782 [04:57<02:27,  1.75it/s]#015 67%|██████▋   | 525/782 [04:57<02:27,  1.75it/s]#015 67%|██████▋   | 526/782 [04:58<02:25,  1.76it/s]#015 67%|██████▋   | 527/782 [04:59<02:24,  1.77it/s]#015 68%|██████▊   | 528/782 [04:59<02:22,  1.78it/s]#015 68%|██████▊   | 529/782 [05:00<02:23,  1.76it/s]#015 68%|██████▊   | 530/782 [05:00<02:23,  1.76it/s]#015 68%|██████▊   | 531/782 [05:01<02:21,  1.77it/s]#015 68%|██████▊   | 532/782 [05:01<02:21,  1.76it/s]#015 68%|██████▊   | 533/782 [05:02<02:20,  1.77it/s]#015 68%|██████▊   | 534/782 [05:03<02:20,  1.77it/s]#015 68%|██████▊   | 535/782 [05:03<02:18,  1.78it/s]#015 69%|██████▊   | 536/782 [05:04<02:18,  1.78it/s]#015 69%|██████▊   | 537/782 [05:04<02:17,  1.78it/s]#015 69%|██████▉   | 538/782 [05:05<02:16,  1.78it/s]#015 69%|██████▉   | 539/782 [05:05<02:17,  1.77it/s]#015 69%|██████▉   | 540/782 [05:06<02:16,  1.77it/s]#015 69%|██████▉   | 541/782 [05:06<02:15,  1.77it/s]#015 69%|██████▉   | 542/782 [05:07<02:15,  1.77it/s]#015 69%|██████▉   | 543/782 [05:08<02:14,  1.77it/s]#015 70%|██████▉   | 544/782 [05:08<02:14,  1.77it/s]#015 70%|██████▉   | 545/782 [05:09<02:15,  1.75it/s]#015 70%|██████▉   | 546/782 [05:09<02:13,  1.76it/s]#015 70%|██████▉   | 547/782 [05:10<02:15,  1.74it/s]#015 70%|███████   | 548/782 [05:10<02:13,  1.76it/s]#015 70%|███████   | 549/782 [05:11<02:11,  1.78it/s]#015 70%|███████   | 550/782 [05:12<02:10,  1.77it/s]#015 70%|███████   | 551/782 [05:12<02:10,  1.78it/s]#015 71%|███████   | 552/782 [05:13<02:09,  1.77it/s]#015 71%|███████   | 553/782 [05:13<02:08,  1.78it/s]#015 71%|███████   | 554/782 [05:14<02:10,  1.74it/s]#015 71%|███████   | 555/782 [05:14<02:09,  1.75it/s]#015 71%|███████   | 556/782 [05:15<02:07,  1.77it/s]#015 71%|███████   | 557/782 [05:16<02:06,  1.78it/s]#015 71%|███████▏  | 558/782 [05:16<02:05,  1.79it/s]#015 71%|███████▏  | 559/782 [05:17<02:05,  1.78it/s]#015 72%|███████▏  | 560/782 [05:17<02:04,  1.78it/s]#015 72%|███████▏  | 561/782 [05:18<02:06,  1.75it/s]#015 72%|███████▏  | 562/782 [05:18<02:04,  1.76it/s]#015 72%|███████▏  | 563/782 [05:19<02:03,  1.77it/s]#015 72%|███████▏  | 564/782 [05:19<02:02,  1.79it/s]#015 72%|█████�\u001b[0m\n",
      "\u001b[34m�█▏  | 565/782 [05:20<02:00,  1.79it/s]#015 72%|███████▏  | 566/782 [05:21<02:00,  1.80it/s]#015 73%|███████▎  | 567/782 [05:21<02:03,  1.74it/s]#015 73%|███████▎  | 568/782 [05:22<02:02,  1.75it/s]#015 73%|███████▎  | 569/782 [05:22<02:00,  1.76it/s]#015 73%|███████▎  | 570/782 [05:23<02:00,  1.76it/s]#015 73%|███████▎  | 571/782 [05:23<01:59,  1.77it/s]#015 73%|███████▎  | 572/782 [05:24<02:00,  1.75it/s]#015 73%|███████▎  | 573/782 [05:25<02:00,  1.74it/s]#015 73%|███████▎  | 574/782 [05:25<01:58,  1.75it/s]#015 74%|███████▎  | 575/782 [05:26<01:57,  1.76it/s]#015 74%|███████▎  | 576/782 [05:26<01:57,  1.75it/s]#015 74%|███████▍  | 577/782 [05:27<01:56,  1.76it/s]#015 74%|███████▍  | 578/782 [05:27<01:55,  1.77it/s]#015 74%|███████▍  | 579/782 [05:28<01:54,  1.77it/s]#015 74%|███████▍  | 580/782 [05:29<01:53,  1.77it/s]#015 74%|███████▍  | 581/782 [05:29<01:52,  1.78it/s]#015 74%|███████▍  | 582/782 [05:30<01:51,  1.79it/s]#015 75%|███████▍  | 583/782 [05:30<01:50,  1.79it/s]#015 75%|███████▍  | 584/782 [05:31<01:50,  1.79it/s]#015 75%|███████▍  | 585/782 [05:31<01:50,  1.79it/s]#015 75%|███████▍  | 586/782 [05:32<01:50,  1.78it/s]#015 75%|███████▌  | 587/782 [05:32<01:49,  1.79it/s]#015 75%|███████▌  | 588/782 [05:33<01:48,  1.79it/s]#015 75%|███████▌  | 589/782 [05:34<01:48,  1.78it/s]#015 75%|███████▌  | 590/782 [05:34<01:47,  1.78it/s]#015 76%|███████▌  | 591/782 [05:35<01:46,  1.79it/s]#015 76%|███████▌  | 592/782 [05:35<01:46,  1.78it/s]#015 76%|███████▌  | 593/782 [05:36<01:45,  1.79it/s]#015 76%|███████▌  | 594/782 [05:36<01:45,  1.79it/s]#015 76%|███████▌  | 595/782 [05:37<01:46,  1.76it/s]#015 76%|███████▌  | 596/782 [05:38<01:45,  1.76it/s]#015 76%|███████▋  | 597/782 [05:38<01:44,  1.77it/s]#015 76%|███████▋  | 598/782 [05:39<01:43,  1.77it/s]#015 77%|███████▋  | 599/782 [05:39<01:43,  1.77it/s]#015 77%|███████▋  | 600/782 [05:40<01:43,  1.76it/s]#015 77%|███████▋  | 601/782 [05:40<01:42,  1.77it/s]#015 77%|███████▋  | 602/782 [05:41<01:40,  1.79it/s]#015 77%|███████▋  | 603/782 [05:42<01:41,  1.77it/s]#015 77%|███████▋  | 604/782 [05:42<01:40,  1.78it/s]#015 77%|███████▋  | 605/782 [05:43<01:39,  1.78it/s]#015 77%|███████▋  | 606/782 [05:43<01:38,  1.78it/s]#015 78%|███████▊  | 607/782 [05:44<01:37,  1.79it/s]#015 78%|███████▊  | 608/782 [05:44<01:37,  1.78it/s]#015 78%|███████▊  | 609/782 [05:45<01:36,  1.78it/s]#015 78%|███████▊  | 610/782 [05:45<01:36,  1.79it/s]#015 78%|███████▊  | 611/782 [05:46<01:35,  1.79it/s]#015 78%|███████▊  | 612/782 [05:47<01:34,  1.79it/s]#015 78%|███████▊  | 613/782 [05:47<01:33,  1.80it/s]#015 79%|███████▊  | 614/782 [05:48<01:33,  1.80it/s]#015 79%|███████▊  | 615/782 [05:48<01:32,  1.80it/s]#015 79%|███████▉  | 616/782 [05:49<01:32,  1.79it/s]#015 79%|███████▉  | 617/782 [05:49<01:34,  1.74it/s]#015 79%|███████▉  | 618/782 [05:50<01:33,  1.76it/s]#015 79%|███████▉  | 619/782 [05:50<01:32,  1.77it/s]#015 79%|███████▉  | 620/782 [05:51<01:31,  1.78it/s]#015 79%|███████▉  | 621/782 [05:52<01:30,  1.77it/s]#015 80%|███████▉  | 622/782 [05:52<01:30,  1.77it/s]#015 80%|███████▉  | 623/782 [05:53<01:29,  1.78it/s]#015 80%|███████▉  | 624/782 [05:53<01:28,  1.78it/s]#015 80%|███████▉  | 625/782 [05:54<01:27,  1.79it/s]#015 80%|████████  | 626/782 [05:54<01:27,  1.79it/s]#015 80%|████████  | 627/782 [05:55<01:27,  1.77it/s]#015 80%|████████  | 628/782 [05:56<01:26,  1.78it/s]#015 80%|████████  | 629/782 [05:56<01:25,  1.78it/s]#015 81%|████████  | 630/782 [05:57<01:24,  1.79it/s]#015 81%|████████  | 631/782 [05:57<01:23,  1.80it/s]#015 81%|████████  | 632/782 [05:58<01:23,  1.79it/s]#015 81%|████████  | 633/782 [05:58<01:23,  1.78it/s]#015 81%|████████  | 634/782 [05:59<01:22,  1.79it/s]#015 81%|████████  | 635/782 [05:59<01:22,  1.78it/s]#015 81%|████████▏ | 636/782 [06:00<01:21,  1.79it/s]#015 81%|████████▏ | 637/782 [06:01<01:21,  1.78it/s]#015 82%|████████▏ | 638/782 [06:01<01:21,  1.77it/s]#015 82%|████████▏ | 639/782 [06:02<01:20,  1.78it/s]#015 82%|████████▏ | 640/782 [06:02<01:19,  1.78it/s]#015 82%|████████▏ | 641/782 [06:03<01:19,  1.78it/s]#015 82%|████████▏ | 642/782 [06:03<01:18,  1.78it/s]#015 82%|████████▏ | 643/782 [06:04<01:18,  1.78it/s]#015 82%|████████▏ | 644/782 [06:05<01:17,  1.78it/s]#015 82%|████████▏ | 645/782 [06:05<01:17,  1.78it/s]#015 83%|████████▎ | 646/782 [06:06<01:16,  1.77it/s]#015 83%|████████▎ | 647/782 [06:06<01:15,  1.78it/s]#015 83%|████████▎ | 648/782 [06:07<01:15,  1.78it/s]#015 83%|████████▎ | 649/782 [06:07<01:14,  1.78it/s]#015 83%|████████▎ | 650/782 [06:08<01:14,  1.78it/s]#015 83%|████████▎ | 651/782 [06:08<01:13,  1.78it/s]#015 83%|████████▎ | 652/782 [06:09<01:12,  1.79it/s]#015 84%|████████▎ | 653/782 [06:10<01:12,  1.79it/s]#015 84%|████████▎ | 654/782 [06:10<01:13,  1.75it/s]#015 84%|████████▍ | 655/782 [06:11<01:12,  1.75it/s]#015 84%|████████▍ | 656/782 [06:11<01:11,  1.77it/s]#015 84%|████████▍ | 657/782 [06:12<01:11,  1.76it/s]#015 84%|████████▍ | 658/782 [06:12<01:10,  1.77it/s]#015 84%|████████▍ | 659/782 [06:13<01:09,  1.76it/s]#015 84%|████████▍ | 660/782 [06:14<01:08,  1.77it/s]#015 85%|████████▍ | 661/782 [06:14<01:07,  1.78it/s]#015 85%|████████▍ | 662/782 [06:15<01:07,  1.79it/s]#015 85%|████████▍ | 663/782 [06:15<01:06,  1.79it/s]#015 85%|████████▍ | 664/782 [06:16<01:06,  1.79it/s]#015 85%|████████▌ | 665/782 [06:16<01:05,  1.78it/s]#015 85%|████████▌ | 666/782 [06:17<01:05,  1.78it/s]#015 85%|████████▌ | 667/782 [06:17<01:04,  1.78it/s]#015 85%|████████▌ | 668/782 [06:18<01:03,  1.79it/s]#015 86%|████████▌ | 669/782 [06:19<01:03,  1.79it/s]#015 86%|████████▌ | 670/782 [06:19<01:02,  1.79it/s]#015 86%|████████▌ | 671/782 [06:20<01:01,  1.79it/s]#015 86%|████████▌ | 672/782 [06:20<01:02,  1.76it/s]#015 86%|████████▌ | 673/782 [06:21<01:01,  1.77it/s]#015 86%|████████▌ | 674/782 [06:21<01:02,  1.73it/s]#015 86%|████████▋ | 675/782 [06:22<01:01,  1.75it/s]#015 86%|████████▋ | 676/782 [06:23<01:00,  1.75it/s]#015 87%|████████▋ | 677/782 [06:23<00:59,  1.75it/s]#015 87%|████████▋ | 678/782 [06:24<00:59,  1.76it/s]#015 87%|████████▋ | 679/782 [06:24<00:58,  1.75it/s]#015 87%|████████▋ | 680/782 [06:25<00:59,  1.72it/s]#015 87%|████████▋ | 681/782 [06:25<00:58,  1.73it/s]#015 87%|████████▋ | 682/782 [06:26<00:57,  1.74it/s]#015 87%|████████▋ | 683/782 [06:27<00:56,  1.76it/s]#015 87%|████████▋ | 684/782 [06:27<00:56,  1.73it/s]#015 88%|████████▊ | 685/782 [06:28<00:55,  1.75it/s]#015 88%|████████▊ | 686/782 [06:28<00:54,  1.76it/s]#015 88%|████████▊ | 687/782 [06:29<00:53,  1.77it/s]#015 88%|████████▊ | 688/782 [06:29<00:53,  1.77it/s]#015 88%|████████▊ | 689/782 [06:30<00:52,  1.77it/s]#015 88%|████████▊ | 690/782 [06:31<00:51,  1.77it/s]#015 88%|████████▊ | 691/782 [06:31<00:51,  1.77it/s]#015 88%|████████▊ | 692/782 [06:32<00:50,  1.78it/s]#015 89%|████████▊ | 693/782 [06:32<00:49,  1.78it/s]#015 89%|████████▊ | 694/782 [06:33<00:49,  1.79it/s]#015 89%|████████▉ | 695/782 [06:33<00:49,  1.77it/s]#015 89%|████████▉ | 696/782 [06:34<00:48,  1.78it/s]#015 89%|████████▉ | 697/782 [06:34<00:47,  1.78it/s]#015 89%|████████▉ | 698/782 [06:35<00:47,  1.78it/s]#015 89%|████████▉ | 699/782 [06:36<00:46,  1.78it/s]#015 90%|████████▉ | 700/782 [06:36<00:46,  1.77it/s]#015 90%|████████▉ | 701/782 [06:37<00:45,  1.77it/s]#015 90%|████████▉ | 702/782 [06:37<00:44,  1.78it/s]#015 90%|████████▉ | 703/782 [06:38<00:44,  1.78it/s]#015 90%|█████████ | 704/782 [06:38<00:44,  1.76it/s]#015 90%|█████████ | 705/782 [06:39<00:43,  1.77it/s]#015 90%|█████████ | 706/782 [06:40<00:42,  1.78it/s]#015 90%|█████████ | 707/782 [06:40<00:42,  1.78it/s]#015 91%|█████████ | 708/782 [06:41<00:41,  1.79it/s]#015 91%|█████████ | 709/782 [06:41<00:41,  1.77it/s]#015 91%|█████████ | 710/782 [06:42<00:40,  1.77it/s]#015 91%|█████████ | 711/782 [06:42<00:40,  1.77it/s]#015 91%|█████████ | 712/782 [06:43<00:39,  1.77it/s]#015 91%|█████████ | 713/782 [06:44<00:39,  1.76it/s]#015 91%|█████████▏| 714/782 [06:44<00:38,  1.78it/s]#015 91%|█████████▏| 715/782 [06:45<00:37,  1.78it/s]#015 92%|█████████▏| 716/782 [06:45<00:37,  1.77it/s]#015 92%|█████████▏| 717/782 [06:46<00:36,  1.78it/s]#015 92%|█████████▏| 718/782 [06:46<00:36,  1.78it/s]#015 92%|█████████▏| 719/782 [06:47<00:35,  1.78it/s]#015 92%|█████████▏| 720/782 [06:47<00:34,  1.78it/s]#015 92%|█████████▏| 721/782 [06:48<00:34,  1.79it/s]#015 92%|█████████▏| 722/782 [06:49<00:33,  1.78it/s]#015 92%|█████████▏| 723/782 [06:49<00:33,  1.79it/s]#015 93%|█████████▎| 724/782 [06:50<00:32,  1.79it/s]#015 93%|█████████▎| 725/782 [06:50<00:31,  1.79it/s]#015 93%|█████████▎| 726/782 [06:51<00:31,  1.79it/s]#015 93%|█████████▎| 727/782 [06:51<00:30,  1.79it/s]#015 93%|█████████▎| 728/782 [06:52<00:30,  1.80it/s]#015 93%|█████████▎| 729/782 [06:52<00:29,  1.79it/s]#015 93%|█████████▎| 730/782 [06:53<00:29,  1.79it/s]#015 93%|█████████▎| 731/782 [06:54<00:28,  1.78it/s]#015 94%|█████████▎| 732/782 [06:54<00:28,  1.78it/s]#015 94%|█████████▎| 733/782 [06:55<00:27,  1.78it/s]#015 94%|█████████▍| 734/782 [06:55<00:26,  1.79it/s]#015 94%|█████████▍| 735/782 [06:56<00:26,  1.79it/s]#015 94%|█████████▍| 736/782 [06:56<00:26,  1.76it/s]#015 94%|█████████▍| 737/782 [06:57<00:25,  1.77it/s]#015 94%|█████████▍| 738/782 [06:58<00:24,  1.78it/s]#015 95%|█████████▍| 739/782 [06:58<00:24,  1.74it/s]#015 95%|█████████▍| 740/782 [06:59<00:24,  1.74it/s]#015 95%|█████████▍| 741/782 [06:59<00:23,  1.76it/s]#015 95%|█████████▍| 742/782 [07:00<00:22,  1.77it/s]#015 95%|█████████▌| 743/782 [07:00<00:21,  1.78it/s]#015 95%|█████████▌| 744/782 [07:01<00:21,  1.78it/s]#015 95%|█████████▌| 745/782 [07:01<00:20,  1.78it/s]#015 95%|█████████▌| 746/782 [07:02<00:20,  1.78it/s]#015 96%|█████████▌| 747/782 [07:03<00:19,  1.77it/s]#015 96%|█████████▌| 748/782 [07:03<00:19,  1.77it/s]#015 96%|█████████▌| 749/782 [07:04<00:18,  1.77it/s]#015 96%|█████████▌| 750/782 [07:04<00:17,  1.78it/s]#015 96%|█████████▌| 751/782 [07:05<00:17,  1.78it/s]#015 96%|█████████▌| 752/782 [07:05<00:16,  1.79it/s]#015 96%|█████████▋| 753/782 [07:06<00:16,  1.79it/s]#015 96%|█████████▋| 754/782 [07:07<00:15,  1.78it/s]#015 97%|█████████▋| 755/782 [07:07<00:15,  1.79it/s]#015 97%|█████████▋| 756/782 [07:08<00:14,  1.77it/s]#015 97%|█████████▋| 757/782 [07:08<00:14,  1.78it/s]#015 97%|█████████▋| 758/782 [07:09<00:13,  1.78it/s]#015 97%|█████████▋| 759/782 [07:09<00:12,  1.78it/s]#015 97%|█████████▋| 760/782 [07:10<00:12,  1.78it/s]#015 97%|█████████▋| 761/782 [07:10<00:11,  1.79it/s]#015 97%|█████████▋| 762/782 [07:11<00:11,  1.79it/s]#015 98%|█████████▊| 763/782 [07:12<00:10,  1.75it/s]#015 98%|█████████▊| 764/782 [07:12<00:10,  1.76it/s]#015 98%|█████████▊| 765/782 [07:13<00:09,  1.76it/s]#015 98%|█████████▊| 766/782 [07:13<00:09,  1.77it/s]#015 98%|█████████▊| 767/782 [07:14<00:08,  1.78it/s]#015 98%|█████████▊| 768/782 [07:14<00:07,  1.77it/s]#015 98%|█████████▊| 769/782 [07:15<00:07,  1.78it/s]#015 98%|█████████▊| 770/782 [07:16<00:06,  1.78it/s]#015 99%|█████████▊| 771/782 [07:16<00:06,  1.79it/s]#015 99%|█████████▊| 772/782 [07:17<00:05,  1.80it/s]#015 99%|█████████▉| 773/782 [07:17<00:04,  1.80it/s]#015 99%|█████████▉| 774/782 [07:18<00:04,  1.80it/s]#015 99%|█████████▉| 775/782 [07:18<00:03,  1.80it/s]#015 99%|█████████▉| 776/782 [07:19<00:03,  1.79it/s]#015 99%|█████████▉| 777/782 [07:19<00:02,  1.79it/s]#015 99%|█████████▉| 778/782 [07:20<00:02,  1.78it/s]#015100%|█████████▉| 779/782 [07:21<00:01,  1.79it/s]#015100%|█████████▉| 780/782 [07:21<00:01,  1.79it/s]#015100%|█████████▉| 781/782 [07:22<00:00,  1.79it/s]#015100%|██████████| 782/782 [07:22<00:00,  2.19it/s]\u001b[0m\n",
      "\u001b[34m#015  0%|          | 0/157 [00:00<?, ?it/s]#033[A\u001b[0m\n",
      "\u001b[34m#015  1%|▏         | 2/157 [00:00<00:25,  6.12it/s]#033[A\u001b[0m\n",
      "\u001b[34m#015  2%|▏         | 3/157 [00:00<00:32,  4.69it/s]#033[A\u001b[0m\n",
      "\u001b[34m#015  3%|▎         | 4/157 [00:00<00:38,  3.99it/s]#033[A\u001b[0m\n",
      "\u001b[34m#015  3%|▎         | 5/157 [00:01<00:41,  3.66it/s]#033[A\u001b[0m\n",
      "\u001b[34m#015  4%|▍         | 6/157 [00:01<00:43,  3.46it/s]#033[A\u001b[0m\n",
      "\u001b[34m#015  4%|▍         | 7/157 [00:01<00:45,  3.31it/s]#033[A\u001b[0m\n",
      "\u001b[34m#015  5%|▌         | 8/157 [00:02<00:46,  3.19it/s]#033[A\u001b[0m\n",
      "\u001b[34m#015  6%|▌         | 9/157 [00:02<00:47,  3.14it/s]#033[A\u001b[0m\n",
      "\u001b[34m#015  6%|▋         | 10/157 [00:02<00:47,  3.08it/s]#033[A\u001b[0m\n",
      "\u001b[34m#015  7%|▋         | 11/157 [00:03<00:47,  3.07it/s]#033[A\u001b[0m\n",
      "\u001b[34m#015  8%|▊         | 12/157 [00:03<00:47,  3.07it/s]#033[A\u001b[0m\n",
      "\u001b[34m#015  8%|▊         | 13/157 [00:03<00:47,  3.06it/s]#033[A\u001b[0m\n",
      "\u001b[34m#015  9%|▉         | 14/157 [00:04<00:46,  3.06it/s]#033[A\u001b[0m\n",
      "\u001b[34m#015 10%|▉         | 15/157 [00:04<00:46,  3.05it/s]#033[A\u001b[0m\n",
      "\u001b[34m#015 10%|█         | 16/157 [00:04<00:46,  3.04it/s]#033[A\u001b[0m\n",
      "\u001b[34m#015 11%|█         | 17/157 [00:05<00:46,  3.03it/s]#033[A\u001b[0m\n",
      "\u001b[34m#015 11%|█▏        | 18/157 [00:05<00:45,  3.03it/s]#033[A\u001b[0m\n",
      "\u001b[34m#015 12%|█▏        | 19/157 [00:05<00:45,  3.03it/s]#033[A\u001b[0m\n",
      "\u001b[34m#015 13%|█▎        | 20/157 [00:06<00:45,  3.00it/s]#033[A\u001b[0m\n",
      "\u001b[34m#015 13%|█▎        | 21/157 [00:06<00:45,  3.01it/s]#033[A\u001b[0m\n",
      "\u001b[34m#015 14%|█▍        | 22/157 [00:06<00:44,  3.01it/s]#033[A\u001b[0m\n",
      "\u001b[34m#015 15%|█▍        | 23/157 [00:07<00:44,  3.02it/s]#033[A\u001b[0m\n",
      "\u001b[34m#015 15%|█▌        | 24/157 [00:07<00:44,  3.02it/s]#033[A\u001b[0m\n",
      "\u001b[34m#015 16%|█▌        | 25/157 [00:07<00:43,  3.02it/s]#033[A\u001b[0m\n",
      "\u001b[34m#015 17%|█▋        | 26/157 [00:08<00:43,  3.02it/s]#033[A\u001b[0m\n",
      "\u001b[34m#015 17%|█▋        | 27/157 [00:08<00:43,  3.02it/s]#033[A\u001b[0m\n",
      "\u001b[34m#015 18%|█▊        | 28/157 [00:08<00:42,  3.03it/s]#033[A\u001b[0m\n",
      "\u001b[34m#015 18%|█▊        | 29/157 [00:09<00:42,  3.04it/s]#033[A\u001b[0m\n",
      "\u001b[34m#015 19%|█▉        | 30/157 [00:09<00:41,  3.05it/s]#033[A\u001b[0m\n",
      "\u001b[34m#015 20%|█▉        | 31/157 [00:09<00:41,  3.05it/s]#033[A\u001b[0m\n",
      "\u001b[34m#015 20%|██        | 32/157 [00:10<00:40,  3.05it/s]#033[A\u001b[0m\n",
      "\u001b[34m#015 21%|██        | 33/157 [00:10<00:40,  3.06it/s]#033[A\u001b[0m\n",
      "\u001b[34m#015 22%|██▏       | 34/157 [00:10<00:40,  3.06it/s]#033[A\u001b[0m\n",
      "\u001b[34m#015 22%|██▏       | 35/157 [00:11<00:39,  3.05it/s]#033[A\u001b[0m\n",
      "\u001b[34m#015 23%|██▎       | 36/157 [00:11<00:39,  3.05it/s]#033[A\u001b[0m\n",
      "\u001b[34m#015 24%|██▎       | 37/157 [00:11<00:39,  3.05it/s]#033[A\u001b[0m\n",
      "\u001b[34m#015 24%|██▍       | 38/157 [00:12<00:39,  3.04it/s]#033[A\u001b[0m\n",
      "\u001b[34m#015 25%|██▍       | 39/157 [00:12<00:38,  3.03it/s]#033[A\u001b[0m\n",
      "\u001b[34m#015 25%|██▌       | 40/157 [00:12<00:38,  3.04it/s]#033[A\u001b[0m\n",
      "\u001b[34m#015 26%|██▌       | 41/157 [00:13<00:38,  3.03it/s]#033[A\u001b[0m\n",
      "\u001b[34m#015 27%|██▋       | 42/157 [00:13<00:37,  3.04it/s]#033[A\u001b[0m\n",
      "\u001b[34m#015 27%|██▋       | 43/157 [00:13<00:37,  3.05it/s]#033[A\u001b[0m\n",
      "\u001b[34m#015 28%|██▊       | 44/157 [00:14<00:37,  3.05it/s]#033[A\u001b[0m\n",
      "\u001b[34m#015 29%|██▊       | 45/157 [00:14<00:36,  3.05it/s]#033[A\u001b[0m\n",
      "\u001b[34m#015 29%|██▉       | 46/157 [00:14<00:36,  3.05it/s]#033[A\u001b[0m\n",
      "\u001b[34m#015 30%|██▉       | 47/157 [00:15<00:35,  3.06it/s]#033[A\u001b[0m\n",
      "\u001b[34m#015 31%|███       | 48/157 [00:15<00:35,  3.06it/s]#033[A\u001b[0m\n",
      "\u001b[34m#015 31%|███       | 49/157 [00:15<00:35,  3.06it/s]#033[A\u001b[0m\n",
      "\u001b[34m#015 32%|███▏      | 50/157 [00:16<00:34,  3.06it/s]#033[A\u001b[0m\n",
      "\u001b[34m#015 32%|███▏      | 51/157 [00:16<00:34,  3.06it/s]#033[A\u001b[0m\n",
      "\u001b[34m#015 33%|███▎      | 52/157 [00:16<00:34,  3.06it/s]#033[A\u001b[0m\n",
      "\u001b[34m#015 34%|███▍      | 53/157 [00:17<00:34,  3.04it/s]#033[A\u001b[0m\n",
      "\u001b[34m#015 34%|███▍      | 54/157 [00:17<00:34,  3.03it/s]#033[A\u001b[0m\n",
      "\u001b[34m#015 35%|███▌      | 55/157 [00:17<00:33,  3.02it/s]#033[A\u001b[0m\n",
      "\u001b[34m#015 36%|███▌      | 56/157 [00:18<00:33,  3.02it/s]#033[A\u001b[0m\n",
      "\u001b[34m#015 36%|███▋      | 57/157 [00:18<00:32,  3.03it/s]#033[A\u001b[0m\n",
      "\u001b[34m#015 37%|███▋      | 58/157 [00:18<00:32,  3.04it/s]#033[A\u001b[0m\n",
      "\u001b[34m#015 38%|███▊      | 59/157 [00:19<00:32,  3.04it/s]#033[A\u001b[0m\n",
      "\u001b[34m#015 38%|███▊      | 60/157 [00:19<00:31,  3.05it/s]#033[A\u001b[0m\n",
      "\u001b[34m#015 39%|███▉      | 61/157 [00:19<00:31,  3.05it/s]#033[A\u001b[0m\n",
      "\u001b[34m#015 39%|███▉      | 62/157 [00:20<00:31,  3.05it/s]#033[A\u001b[0m\n",
      "\u001b[34m#015 40%|████      | 63/157 [00:20<00:30,  3.05it/s]#033[A\u001b[0m\n",
      "\u001b[34m#015 41%|████      | 64/157 [00:20<00:30,  3.06it/s]#033[A\u001b[0m\n",
      "\u001b[34m#015 41%|████▏     | 65/157 [00:21<00:30,  3.05it/s]#033[A\u001b[0m\n",
      "\u001b[34m#015 42%|████▏     | 66/157 [00:21<00:30,  3.02it/s]#033[A\u001b[0m\n",
      "\u001b[34m#015 43%|████▎     | 67/157 [00:21<00:29,  3.03it/s]#033[A\u001b[0m\n",
      "\u001b[34m#015 43%|████▎     | 68/157 [00:22<00:29,  3.04it/s]#033[A\u001b[0m\n",
      "\u001b[34m#015 44%|████▍     | 69/157 [00:22<00:28,  3.04it/s]#033[A\u001b[0m\n",
      "\u001b[34m#015 45%|████▍     | 70/157 [00:22<00:28,  3.05it/s]#033[A\u001b[0m\n",
      "\u001b[34m#015 45%|████▌     | 71/157 [00:23<00:28,  3.05it/s]#033[A\u001b[0m\n",
      "\u001b[34m#015 46%|████▌     | 72/157 [00:23<00:27,  3.04it/s]#033[A\u001b[0m\n",
      "\u001b[34m#015 46%|████▋     | 73/157 [00:23<00:27,  3.04it/s]#033[A\u001b[0m\n",
      "\u001b[34m#015 47%|████▋     | 74/157 [00:24<00:27,  3.05it/s]#033[A\u001b[0m\n",
      "\u001b[34m#015 48%|████▊     | 75/157 [00:24<00:26,  3.04it/s]#033[A\u001b[0m\n",
      "\u001b[34m#015 48%|████▊     | 76/157 [00:24<00:26,  3.03it/s]#033[A\u001b[0m\n",
      "\u001b[34m#015 49%|████▉     | 77/157 [00:25<00:26,  3.04it/s]#033[A\u001b[0m\n",
      "\u001b[34m#015 50%|████▉     | 78/157 [00:25<00:25,  3.04it/s]#033[A\u001b[0m\n",
      "\u001b[34m#015 50%|█████     | 79/157 [00:25<00:25,  3.05it/s]#033[A\u001b[0m\n",
      "\u001b[34m#015 51%|█████     | 80/157 [00:26<00:25,  3.05it/s]#033[A\u001b[0m\n",
      "\u001b[34m#015 52%|█████▏    | 81/157 [00:26<00:25,  3.03it/s]#033[A\u001b[0m\n",
      "\u001b[34m#015 52%|█████▏    | 82/157 [00:26<00:24,  3.04it/s]#033[A\u001b[0m\n",
      "\u001b[34m#015 53%|█████▎    | 83/157 [00:27<00:24,  3.04it/s]#033[A\u001b[0m\n",
      "\u001b[34m#015 54%|█████▎    | 84/157 [00:27<00:23,  3.04it/s]#033[A\u001b[0m\n",
      "\u001b[34m#015 54%|█████▍    | 85/157 [00:27<00:23,  3.03it/s]#033[A\u001b[0m\n",
      "\u001b[34m#015 55%|█████▍    | 86/157 [00:27<00:23,  3.04it/s]#033[A\u001b[0m\n",
      "\u001b[34m#015 55%|█████▌    | 87/157 [00:28<00:22,  3.05it/s]#033[A\u001b[0m\n",
      "\u001b[34m#015 56%|█████▌    | 88/157 [00:28<00:22,  3.05it/s]#033[A\u001b[0m\n",
      "\u001b[34m#015 57%|█████▋    | 89/157 [00:28<00:22,  3.04it/s]#033[A\u001b[0m\n",
      "\u001b[34m#015 57%|█████▋    | 90/157 [00:29<00:22,  3.03it/s]#033[A\u001b[0m\n",
      "\u001b[34m#015 58%|█████▊    | 91/157 [00:29<00:21,  3.04it/s]#033[A\u001b[0m\n",
      "\u001b[34m#015 59%|█████▊    | 92/157 [00:29<00:21,  3.05it/s]#033[A\u001b[0m\n",
      "\u001b[34m#015 59%|█████▉    | 93/157 [00:30<00:20,  3.05it/s]#033[A\u001b[0m\n",
      "\u001b[34m#015 60%|█████▉    | 94/157 [00:30<00:20,  3.05it/s]#033[A\u001b[0m\n",
      "\u001b[34m#015 61%|██████    | 95/157 [00:30<00:20,  3.05it/s]#033[A\u001b[0m\n",
      "\u001b[34m#015 61%|██████    | 96/157 [00:31<00:19,  3.05it/s]#033[A\u001b[0m\n",
      "\u001b[34m#015 62%|██████▏   | 97/157 [00:31<00:19,  3.05it/s]#033[A\u001b[0m\n",
      "\u001b[34m#015 62%|██████▏   | 98/157 [00:31<00:19,  3.05it/s]#033[A\u001b[0m\n",
      "\u001b[34m#015 63%|██████▎   | 99/157 [00:32<00:18,  3.06it/s]#033[A\u001b[0m\n",
      "\u001b[34m#015 64%|██████▎   | 100/157 [00:32<00:18,  3.05it/s]#033[A\u001b[0m\n",
      "\u001b[34m#015 64%|██████▍   | 101/157 [00:32<00:18,  3.04it/s]#033[A\u001b[0m\n",
      "\u001b[34m#015 65%|██████▍   | 102/157 [00:33<00:18,  3.05it/s]#033[A\u001b[0m\n",
      "\u001b[34m#015 66%|██████▌   | 103/157 [00:33<00:17,  3.04it/s]#033[A\u001b[0m\n",
      "\u001b[34m#015 66%|██████▌   | 104/157 [00:33<00:17,  3.05it/s]#033[A\u001b[0m\n",
      "\u001b[34m#015 67%|██████▋   | 105/157 [00:34<00:17,  3.05it/s]#033[A\u001b[0m\n",
      "\u001b[34m#015 68%|██████▊   | 106/157 [00:34<00:16,  3.03it/s]#033[A\u001b[0m\n",
      "\u001b[34m#015 68%|██████▊   | 107/157 [00:34<00:16,  3.03it/s]#033[A\u001b[0m\n",
      "\u001b[34m#015 69%|██████▉   | 108/157 [00:35<00:16,  3.03it/s]#033[A\u001b[0m\n",
      "\u001b[34m#015 69%|██████▉   | 109/157 [00:35<00:15,  3.02it/s]#033[A\u001b[0m\n",
      "\u001b[34m#015 70%|███████   | 110/157 [00:35<00:15,  3.03it/s]#033[A\u001b[0m\n",
      "\u001b[34m#015 71%|███████   | 111/157 [00:36<00:15,  3.04it/s]#033[A\u001b[0m\n",
      "\u001b[34m#015 71%|███████▏  | 112/157 [00:36<00:14,  3.03it/s]#033[A\u001b[0m\n",
      "\u001b[34m#015 72%|███████▏  | 113/157 [00:36<00:14,  3.04it/s]#033[A\u001b[0m\n",
      "\u001b[34m#015 73%|███████▎  | 114/157 [00:37<00:14,  3.04it/s]#033[A\u001b[0m\n",
      "\u001b[34m#015 73%|███████▎  | 115/157 [00:37<00:13,  3.04it/s]#033[A\u001b[0m\n",
      "\u001b[34m#015 74%|███████▍  | 116/157 [00:37<00:13,  3.05it/s]#033[A\u001b[0m\n",
      "\u001b[34m#015 75%|███████▍  | 117/157 [00:38<00:13,  3.05it/s]#033[A\u001b[0m\n",
      "\u001b[34m#015 75%|███████▌  | 118/157 [00:38<00:12,  3.04it/s]#033[A\u001b[0m\n",
      "\u001b[34m#015 76%|███████▌  | 119/157 [00:38<00:12,  3.05it/s]#033[A\u001b[0m\n",
      "\u001b[34m#015 76%|███████▋  | 120/157 [00:39<00:12,  3.05it/s]#033[A\u001b[0m\n",
      "\u001b[34m#015 77%|███████▋  | 121/157 [00:39<00:11,  3.04it/s]#033[A\u001b[0m\n",
      "\u001b[34m#015 78%|███████▊  | 122/157 [00:39<00:11,  3.03it/s]#033[A\u001b[0m\n",
      "\u001b[34m#015 78%|███████▊  | 123/157 [00:40<00:11,  3.03it/s]#033[A\u001b[0m\n",
      "\u001b[34m#015 79%|███████▉  | 124/157 [00:40<00:10,  3.02it/s]#033[A\u001b[0m\n",
      "\u001b[34m#015 80%|███████▉  | 125/157 [00:40<00:10,  3.02it/s]#033[A\u001b[0m\n",
      "\u001b[34m#015 80%|████████  | 126/157 [00:41<00:10,  3.02it/s]#033[A\u001b[0m\n",
      "\u001b[34m#015 81%|████████  | 127/157 [00:41<00:09,  3.03it/s]#033[A\u001b[0m\n",
      "\u001b[34m#015 82%|████████▏ | 128/157 [00:41<00:09,  3.04it/s]#033[A\u001b[0m\n",
      "\u001b[34m#015 82%|████████▏ | 129/157 [00:42<00:09,  3.05it/s]#033[A\u001b[0m\n",
      "\u001b[34m#015 83%|████████▎ | 130/157 [00:42<00:08,  3.05it/s]#033[A\u001b[0m\n",
      "\u001b[34m#015 83%|████████▎ | 131/157 [00:42<00:08,  3.05it/s]#033[A\u001b[0m\n",
      "\u001b[34m#015 84%|████████▍ | 132/157 [00:43<00:08,  3.02it/s]#033[A\u001b[0m\n",
      "\u001b[34m#015 85%|████████▍ | 133/157 [00:43<00:07,  3.04it/s]#033[A\u001b[0m\n",
      "\u001b[34m#015 85%|████████▌ | 134/157 [00:43<00:07,  3.04it/s]#033[A\u001b[0m\n",
      "\u001b[34m#015 86%|████████▌ | 135/157 [00:44<00:07,  3.05it/s]#033[A\u001b[0m\n",
      "\u001b[34m#015 87%|████████▋ | 136/157 [00:44<00:06,  3.05it/s]#033[A\u001b[0m\n",
      "\u001b[34m#015 87%|████████▋ | 137/157 [00:44<00:06,  3.05it/s]#033[A\u001b[0m\n",
      "\u001b[34m#015 88%|████████▊ | 138/157 [00:45<00:06,  3.04it/s]#033[A\u001b[0m\n",
      "\u001b[34m#015 89%|████████▊ | 139/157 [00:45<00:05,  3.04it/s]#033[A\u001b[0m\n",
      "\u001b[34m#015 89%|████████▉ | 140/157 [00:45<00:05,  3.03it/s]#033[A\u001b[0m\n",
      "\u001b[34m#015 90%|████████▉ | 141/157 [00:46<00:05,  3.04it/s]#033[A\u001b[0m\n",
      "\u001b[34m#015 90%|█████████ | 142/157 [00:46<00:04,  3.04it/s]#033[A\u001b[0m\n",
      "\u001b[34m#015 91%|█████████ | 143/157 [00:46<00:04,  3.04it/s]#033[A\u001b[0m\n",
      "\u001b[34m#015 92%|█████████▏| 144/157 [00:47<00:04,  3.05it/s]#033[A\u001b[0m\n",
      "\u001b[34m#015 92%|█████████▏| 145/157 [00:47<00:03,  3.05it/s]#033[A\u001b[0m\n",
      "\u001b[34m#015 93%|█████████▎| 146/157 [00:47<00:03,  3.05it/s]#033[A\u001b[0m\n",
      "\u001b[34m#015 94%|█████████▎| 147/157 [00:48<00:03,  3.05it/s]#033[A\u001b[0m\n",
      "\u001b[34m#015 94%|█████████▍| 148/157 [00:48<00:02,  3.05it/s]#033[A\u001b[0m\n",
      "\u001b[34m#015 95%|█████████▍| 149/157 [00:48<00:02,  3.05it/s]#033[A\u001b[0m\n",
      "\u001b[34m#015 96%|█████████▌| 150/157 [00:49<00:02,  3.06it/s]#033[A\u001b[0m\n",
      "\u001b[34m#015 96%|█████████▌| 151/157 [00:49<00:01,  3.06it/s]#033[A\u001b[0m\n",
      "\u001b[34m#015 97%|█████████▋| 152/157 [00:49<00:01,  3.06it/s]#033[A\u001b[0m\n",
      "\u001b[34m#015 97%|█████████▋| 153/157 [00:50<00:01,  3.06it/s]#033[A\u001b[0m\n",
      "\u001b[34m#015 98%|█████████▊| 154/157 [00:50<00:00,  3.06it/s]#033[A\u001b[0m\n",
      "\u001b[34m#015 99%|█████████▊| 155/157 [00:50<00:00,  3.06it/s]#033[A\u001b[0m\n",
      "\u001b[34m#015 99%|█████████▉| 156/157 [00:50<00:00,  3.06it/s]#033[A#015                                                 #015\u001b[0m\n",
      "\u001b[34m#015                                                 #015#033[A#015100%|██████████| 782/782 [08:13<00:00,  2.19it/s]\u001b[0m\n",
      "\u001b[34m#015100%|██████████| 157/157 [00:51<00:00,  3.06it/s]#033[A\u001b[0m\n",
      "\u001b[34m#015                                                 #033[A#015                                                 #015#015100%|██████████| 782/782 [08:13<00:00,  2.19it/s]#015100%|██████████| 782/782 [08:13<00:00,  1.58it/s]\u001b[0m\n",
      "\u001b[34m#015  0%|          | 0/157 [00:00<?, ?it/s]#015  1%|▏         | 2/157 [00:00<00:25,  6.13it/s]#015  2%|▏         | 3/157 [00:00<00:32,  4.71it/s]#015  3%|▎         | 4/157 [00:00<00:37,  4.06it/s]#015  3%|▎         | 5/157 [00:01<00:41,  3.70it/s]#015  4%|▍         | 6/157 [00:01<00:43,  3.47it/s]#015  4%|▍         | 7/157 [00:01<00:45,  3.33it/s]#015  5%|▌         | 8/157 [00:02<00:45,  3.25it/s]#015  6%|▌         | 9/157 [00:02<00:46,  3.19it/s]#015  6%|▋         | 10/157 [00:02<00:46,  3.15it/s]#015  7%|▋         | 11/157 [00:03<00:46,  3.11it/s]#015  8%|▊         | 12/157 [00:03<00:47,  3.08it/s]#015  8%|▊         | 13/157 [00:03<00:47,  3.06it/s]#015  9%|▉         | 14/157 [00:04<00:47,  3.04it/s]#015 10%|▉         | 15/157 [00:04<00:46,  3.04it/s]#015 10%|█         | 16/157 [00:04<00:46,  3.05it/s]#015 11%|█         | 17/157 [00:05<00:45,  3.05it/s]#015 11%|█▏        | 18/157 [00:05<00:45,  3.05it/s]#015 12%|█▏        | 19/157 [00:05<00:45,  3.05it/s]#015 13%|█▎        | 20/157 [00:06<00:44,  3.05it/s]#015 13%|█▎        | 21/157 [00:06<00:44,  3.05it/s]#015 14%|█▍        | 22/157 [00:06<00:44,  3.05it/s]#015 15%|█▍        | 23/157 [00:07<00:43,  3.05it/s]#015 15%|█▌        | 24/157 [00:07<00:43,  3.04it/s]#015 16%|█▌        | 25/157 [00:07<00:43,  3.05it/s]#015 17%|█▋        | 26/157 [00:08<00:42,  3.05it/s]#015 17%|█▋        | 27/157 [00:08<00:42,  3.05it/s]#015 18%|█▊        | 28/157 [00:08<00:42,  3.05it/s]#015 18%|█▊        | 29/157 [00:09<00:42,  3.05it/s]#015 19%|█▉        | 30/157 [00:09<00:41,  3.05it/s]#015 20%|█▉        | 31/157 [00:09<00:41,  3.05it/s]#015 20%|██        | 32/157 [00:10<00:40,  3.06it/s]#015 21%|██        | 33/157 [00:10<00:40,  3.03it/s]#015 22%|██▏       | 34/157 [00:10<00:40,  3.03it/s]#015 22%|██▏       | 35/157 [00:11<00:40,  3.03it/s]#015 23%|██▎       | 36/157 [00:11<00:40,  3.02it/s]#015 24%|██▎       | 37/157 [00:11<00:39,  3.01it/s]#015 24%|██▍       | 38/157 [00:12<00:39,  3.02it/s]#015 25%|██▍       | 39/157 [00:12<00:38,  3.03it/s]#015 25%|██▌       | 40/157 [00:12<00:38,  3.04it/s]#015 26%|██▌       | 41/157 [00:13<00:38,  3.04it/s]#015 27%|██▋       | 42/157 [00:13<00:37,  3.04it/s]#015 27%|██▋       | 43/157 [00:13<00:37,  3.03it/s]#015 28%|██▊       | 44/157 [00:14<00:37,  3.03it/s]#015 29%|██▊       | 45/157 [00:14<00:36,  3.03it/s]#015 29%|██▉       | 46/157 [00:14<00:36,  3.03it/s]#015 30%|██▉       | 47/157 [00:15<00:36,  3.04it/s]#015 31%|███       | 48/157 [00:15<00:35,  3.04it/s]#015 31%|███       | 49/157 [00:15<00:35,  3.04it/s]#015 32%|███▏      | 50/157 [00:16<00:35,  3.04it/s]#015 32%|███▏      | 51/157 [00:16<00:34,  3.04it/s]#015 33%|███▎      | 52/157 [00:16<00:34,  3.03it/s]#015 34%|███▍      | 53/157 [00:17<00:34,  3.04it/s]#015 34%|███▍      | 54/157 [00:17<00:33,  3.03it/s]#015 35%|███▌      | 55/157 [00:17<00:33,  3.03it/s]#015 36%|███▌      | 56/157 [00:18<00:33,  3.04it/s]#015 36%|███▋      | 57/157 [00:18<00:32,  3.05it/s]#015 37%|███▋      | 58/157 [00:18<00:32,  3.05it/s]#015 38%|███▊      | 59/157 [00:19<00:32,  3.05it/s]#015 38%|███▊      | 60/157 [00:19<00:31,  3.06it/s]#015 39%|███▉      | 61/157 [00:19<00:31,  3.06it/s]#015 39%|███▉      | 62/157 [00:20<00:31,  3.05it/s]#015 40%|████      | 63/157 [00:20<00:30,  3.05it/s]#015 41%|████      | 64/157 [00:20<00:30,  3.05it/s]#015 41%|████▏     | 65/157 [00:21<00:30,  3.05it/s]#015 42%|████▏     | 66/157 [00:21<00:29,  3.06it/s]#015 43%|████▎     | 67/157 [00:21<00:29,  3.06it/s]#015 43%|████▎     | 68/157 [00:22<00:29,  3.05it/s]#015 44%|████▍     | 69/157 [00:22<00:28,  3.05it/s]#015 45%|████▍     | 70/157 [00:22<00:28,  3.05it/s]#015 45%|████▌     | 71/157 [00:22<00:28,  3.05it/s]#015 46%|████▌     | 72/157 [00:23<00:27,  3.06it/s]#015 46%|████▋     | 73/157 [00:23<00:27,  3.05it/s]#015 47%|████▋     | 74/157 [00:23<00:27,  3.06it/s]#015 48%|████▊     | 75/157 [00:24<00:26,  3.06it/s]#015 48%|████▊     | 76/157 [00:24<00:26,  3.05it/s]#015 49%|████▉     | 77/157 [00:24<00:26,  3.05it/s]#015 50%|████▉     | 78/157 [00:25<00:25,  3.06it/s]#015 50%|█████     | 79/157 [00:25<00:25,  3.06it/s]#015 51%|█████     | 80/157 [00:25<00:25,  3.05it/s]#015 52%|█████▏    | 81/157 [00:26<00:25,  3.04it/s]#015 52%|█████▏    | 82/157 [00:26<00:24,  3.04it/s]#015 53%|█████▎    | 83/157 [00:26<00:24,  3.04it/s]#015 54%|█████▎    | 84/157 [00:27<00:23,  3.05it/s]#015 54%|█████▍    | 85/157 [00:27<00:23,  3.05it/s]#015 55%|█████▍    | 86/157 [00:27<00:23,  3.05it/s]#015 55%|█████▌    | 87/157 [00:28<00:22,  3.06it/s]#015 56%|█████▌    | 88/157 [00:28<00:22,  3.06it/s]#015 57%|█████▋    | 89/157 [00:28<00:22,  3.06it/s]#015 57%|█████▋    | 90/157 [00:29<00:21,  3.06it/s]#015 58%|█████▊    | 91/157 [00:29<00:21,  3.06it/s]#015 59%|█████▊    | 92/157 [00:29<00:21,  3.06it/s]#015 59%|█████▉    | 93/157 [00:30<00:20,  3.06it/s]#015 60%|█████▉    | 94/157 [00:30<00:20,  3.05it/s]#015 61%|██████    | 95/157 [00:30<00:20,  3.05it/s]#015 61%|██████    | 96/157 [00:31<00:19,  3.05it/s]#015 62%|██████▏   | 97/157 [00:31<00:19,  3.05it/s]#015 62%|██████▏   | 98/157 [00:31<00:19,  3.05it/s]#015 63%|██████▎   | 99/157 [00:32<00:19,  3.04it/s]#015 64%|██████▎   | 100/157 [00:32<00:18,  3.05it/s]#015 64%|██████▍   | 101/157 [00:32<00:18,  3.04it/s]#015 65%|██████▍   | 102/157 [00:33<00:18,  3.03it/s]#015 66%|██████▌   | 103/157 [00:33<00:17,  3.03it/s]#015 66%|██████▌   | 104/157 [00:33<00:17,  3.03it/s]#015 67%|██████▋   | 105/157 [00:34<00:17,  3.04it/s]#015 68%|██████▊   | 106/157 [00:34<00:16,  3.04it/s]#015 68%|██████▊   | 107/157 [00:34<00:16,  3.04it/s]#015 69%|██████▉   | 108/157 [00:35<00:16,  3.04it/s]#015 69%|██████▉   | 109/157 [00:35<00:15,  3.04it/s]#015 70%|███████   | 110/157 [00:35<00:15,  3.04it/s]#015 71%|███████   | 111/157 [00:36<00:15,  3.05it/s]#015 71%|███████▏  | 112/157 [00:36<00:14,  3.05it/s]#015 72%|███████▏  | 113/157 [00:36<00:14,  3.05it/s]#015 73%|███████▎  | 114/157 [00:37<00:14,  3.05it/s]#015 73%|███████▎  | 115/157 [00:37<00:13,  3.05it/s]#015 74%|███████▍  | 116/157 [00:37<00:13,  3.04it/s]#015 75%|███████▍  | 117/157 [00:38<00:13,  3.05it/s]#015 75%|███████▌  | 118/157 [00:38<00:12,  3.05it/s]#015 76%|███████▌  | 119/157 [00:38<00:12,  3.05it/s]#015 76%|███████▋  | 120/157 [00:39<00:12,  3.05it/s]#015 77%|███████▋  | 121/157 [00:39<00:11,  3.05it/s]#015 78%|███████▊  | 122/157 [00:39<00:11,  3.05it/s]#015 78%|███████▊  | 123/157 [00:40<00:11,  3.05it/s]#015 79%|███████▉  | 124/157 [00:40<00:10,  3.05it/s]#015 80%|███████▉  | 125/157 [00:40<00:10,  3.05it/s]#015 80%|████████  | 126/157 [00:41<00:10,  3.05it/s]#015 81%|████████  | 127/157 [00:41<00:09,  3.05it/s]#015 82%|████████▏ | 128/157 [00:41<00:09,  3.05it/s]#015 82%|████████▏ | 129/157 [00:42<00:09,  3.05it/s]#015 83%|████████▎ | 130/157 [00:42<00:08,  3.05it/s]#015 83%|████████▎ | 131/157 [00:42<00:08,  3.05it/s]#015 84%|████████▍ | 132/157 [00:42<00:08,  3.05it/s]#015 85%|████████▍ | 133/157 [00:43<00:07,  3.05it/s]#015 85%|████████▌ | 134/157 [00:43<00:07,  3.05it/s]#015 86%|████████▌ | 135/157 [00:43<00:07,  3.05it/s]#015 87%|████████▋ | 136/157 [00:44<00:06,  3.04it/s]#015 87%|████████▋ | 137/157 [00:44<00:06,  3.02it/s]#015 88%|████████▊ | 138/157 [00:44<00:06,  3.01it/s]#015 89%|████████▊ | 139/157 [00:45<00:05,  3.02it/s]#015 89%|████████▉ | 140/157 [00:45<00:05,  3.03it/s]#015 90%|████████▉ | 141/157 [00:45<00:05,  3.02it/s]#015 90%|█████████ | 142/157 [00:46<00:04,  3.01it/s]#015 91%|█████████ | 143/157 [00:46<00:04,  3.01it/s]#015 92%|█████████▏| 144/157 [00:46<00:04,  3.02it/s]#015 92%|█████████▏| 145/157 [00:47<00:03,  3.03it/s]#015 93%|█████████▎| 146/157 [00:47<00:03,  3.03it/s]#015 94%|█████████▎| 147/157 [00:47<00:03,  3.02it/s]#015 94%|█████████▍| 148/157 [00:48<00:02,  3.03it/s]#015 95%|█████████▍| 149/157 [00:48<00:02,  3.04it/s]#015 96%|█████████▌| 150/157 [00:48<00:02,  3.03it/s]#015 96%|█████████▌| 151/157 [00:49<00:01,  3.03it/s]#015 97%|█████████▋| 152/157 [00:49<00:01,  3.04it/s]#015 97%|█████████▋| 153/157 [00:49<00:01,  3.04it/s]#015 98%|█████████▊| 154/157 [00:50<00:00,  3.04it/s]#015 99%|█████████▊| 155/157 [00:50<00:00,  3.05it/s]#015 99%|█████████▉| 156/157 [00:50<00:00,  3.05it/s]#015100%|██████████| 157/157 [00:51<00:00,  3.08it/s]\u001b[0m\n"
     ]
    }
   ],
   "source": [
    "# access the logs of the training job\n",
    "huggingface_estimator.sagemaker_session.logs_for_job(huggingface_estimator.latest_training_job.name)"
   ]
  },
  {
   "cell_type": "markdown",
   "metadata": {},
   "source": [
    "### Attach to old training job to an estimator \n",
    "\n",
    "In Sagemaker you can attach an old training job to an estimator to continue training, get results etc.."
   ]
  },
  {
   "cell_type": "code",
   "execution_count": null,
   "metadata": {},
   "outputs": [],
   "source": [
    "from sagemaker.estimator import Estimator\n",
    "\n",
    "# job which is going to be attached to the estimator\n",
    "old_training_job_name=''"
   ]
  },
  {
   "cell_type": "code",
   "execution_count": null,
   "metadata": {},
   "outputs": [],
   "source": [
    "# attach old training job\n",
    "huggingface_estimator_loaded = Estimator.attach(old_training_job_name)\n",
    "\n",
    "# get model output s3 from training job\n",
    "huggingface_estimator_loaded.model_data"
   ]
  }
 ],
 "metadata": {
  "instance_type": "ml.t3.medium",
  "interpreter": {
   "hash": "c281c456f1b8161c8906f4af2c08ed2c40c50136979eaae69688b01f70e9f4a9"
  },
  "kernelspec": {
   "display_name": "Python 3 (PyTorch 1.6 Python 3.6 GPU Optimized)",
   "language": "python",
   "name": "python3__SAGEMAKER_INTERNAL__arn:aws:sagemaker:us-east-1:081325390199:image/pytorch-1.6-gpu-py36-cu110-ubuntu18.04-v3"
  },
  "language_info": {
   "codemirror_mode": {
    "name": "ipython",
    "version": 3
   },
   "file_extension": ".py",
   "mimetype": "text/x-python",
   "name": "python",
   "nbconvert_exporter": "python",
   "pygments_lexer": "ipython3",
   "version": "3.6.13"
  }
 },
 "nbformat": 4,
 "nbformat_minor": 4
}
